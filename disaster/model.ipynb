{
 "cells": [
  {
   "cell_type": "code",
   "execution_count": 1,
   "metadata": {},
   "outputs": [],
   "source": [
    "import pandas as pd\n",
    "import numpy as np\n",
    "import warnings\n",
    "warnings.filterwarnings('ignore')"
   ]
  },
  {
   "cell_type": "code",
   "execution_count": 2,
   "metadata": {},
   "outputs": [],
   "source": [
    "\n",
    "from sklearn.preprocessing import StandardScaler,OneHotEncoder\n",
    "from sklearn.compose import ColumnTransformer\n",
    "from sklearn.model_selection import train_test_split\n",
    "from sklearn.linear_model import LogisticRegression\n",
    "from sklearn.neighbors import KNeighborsClassifier\n",
    "from sklearn.svm import SVC\n",
    "from sklearn.tree import DecisionTreeClassifier\n",
    "from sklearn.ensemble import RandomForestClassifier\n",
    "from xgboost import XGBClassifier\n",
    "from sklearn.metrics import classification_report"
   ]
  },
  {
   "cell_type": "code",
   "execution_count": 3,
   "metadata": {},
   "outputs": [],
   "source": [
    "df=pd.read_csv(\"./data/cleaned_data.csv\",index_col=0)"
   ]
  },
  {
   "cell_type": "code",
   "execution_count": 4,
   "metadata": {},
   "outputs": [],
   "source": [
    "dep_var=\"alive\"\n",
    "random_state=42"
   ]
  },
  {
   "cell_type": "code",
   "execution_count": 37,
   "metadata": {},
   "outputs": [],
   "source": [
    "X,y=df.drop(columns=[dep_var,\"position\"]),df[dep_var]"
   ]
  },
  {
   "cell_type": "code",
   "execution_count": 39,
   "metadata": {},
   "outputs": [],
   "source": [
    "categorical_cols = [cname for cname in X.columns if X[cname].nunique() < 10 and \n",
    "                        X[cname].dtype == \"object\"]\n",
    "numerical_cols = [cname for cname in X.columns if X[cname].dtype in ['int64', 'float64']]"
   ]
  },
  {
   "cell_type": "code",
   "execution_count": 40,
   "metadata": {},
   "outputs": [
    {
     "data": {
      "text/plain": [
       "['Id',\n",
       " 'class',\n",
       " 'num_sibling/spouse',\n",
       " 'num_parent/child',\n",
       " 'price',\n",
       " 'age',\n",
       " 'Family_Size']"
      ]
     },
     "execution_count": 40,
     "metadata": {},
     "output_type": "execute_result"
    }
   ],
   "source": [
    "numerical_cols"
   ]
  },
  {
   "cell_type": "code",
   "execution_count": 41,
   "metadata": {},
   "outputs": [],
   "source": [
    "numerical_transformer = StandardScaler()\n",
    "categorical_transformer=OneHotEncoder(handle_unknown='ignore')"
   ]
  },
  {
   "cell_type": "code",
   "execution_count": 42,
   "metadata": {},
   "outputs": [],
   "source": [
    "preprocessor = ColumnTransformer(\n",
    "    transformers=[\n",
    "        ('num', numerical_transformer, numerical_cols),\n",
    "        ('cat', categorical_transformer, categorical_cols)\n",
    "    ])"
   ]
  },
  {
   "cell_type": "code",
   "execution_count": 51,
   "metadata": {},
   "outputs": [],
   "source": [
    "xs=preprocessor.fit_transform(X)"
   ]
  },
  {
   "cell_type": "code",
   "execution_count": 44,
   "metadata": {},
   "outputs": [],
   "source": [
    "X_train, X_test, y_train, y_test = train_test_split(xs, y,random_state=random_state)"
   ]
  },
  {
   "cell_type": "code",
   "execution_count": 45,
   "metadata": {},
   "outputs": [],
   "source": [
    "classifiers = {\n",
    "    \"LogisticRegression\" : LogisticRegression(max_iter=1000,random_state=random_state),\n",
    "    \"KNeighbors\" : KNeighborsClassifier(3),\n",
    "    \"SVC\" : SVC(random_state=random_state),\n",
    "    \"DecisionTree\" : DecisionTreeClassifier(random_state=random_state),\n",
    "    \"RandomForest\" : RandomForestClassifier(random_state=random_state),\n",
    "    \"XGBoost\" : XGBClassifier(random_state=random_state)\n",
    "}"
   ]
  },
  {
   "cell_type": "code",
   "execution_count": 50,
   "metadata": {},
   "outputs": [
    {
     "name": "stdout",
     "output_type": "stream",
     "text": [
      "Model LogisticRegression\n",
      "              precision    recall  f1-score   support\n",
      "\n",
      "           0       0.84      0.90      0.87       126\n",
      "           1       0.85      0.77      0.81        91\n",
      "\n",
      "    accuracy                           0.85       217\n",
      "   macro avg       0.85      0.84      0.84       217\n",
      "weighted avg       0.85      0.85      0.85       217\n",
      "\n",
      "Model KNeighbors\n",
      "              precision    recall  f1-score   support\n",
      "\n",
      "           0       0.81      0.87      0.84       126\n",
      "           1       0.80      0.71      0.76        91\n",
      "\n",
      "    accuracy                           0.81       217\n",
      "   macro avg       0.81      0.79      0.80       217\n",
      "weighted avg       0.81      0.81      0.80       217\n",
      "\n",
      "Model SVC\n",
      "              precision    recall  f1-score   support\n",
      "\n",
      "           0       0.82      0.89      0.85       126\n",
      "           1       0.83      0.74      0.78        91\n",
      "\n",
      "    accuracy                           0.82       217\n",
      "   macro avg       0.83      0.81      0.82       217\n",
      "weighted avg       0.83      0.82      0.82       217\n",
      "\n",
      "Model DecisionTree\n",
      "              precision    recall  f1-score   support\n",
      "\n",
      "           0       0.80      0.79      0.80       126\n",
      "           1       0.72      0.73      0.72        91\n",
      "\n",
      "    accuracy                           0.76       217\n",
      "   macro avg       0.76      0.76      0.76       217\n",
      "weighted avg       0.77      0.76      0.77       217\n",
      "\n",
      "Model RandomForest\n",
      "              precision    recall  f1-score   support\n",
      "\n",
      "           0       0.81      0.91      0.86       126\n",
      "           1       0.85      0.70      0.77        91\n",
      "\n",
      "    accuracy                           0.82       217\n",
      "   macro avg       0.83      0.81      0.81       217\n",
      "weighted avg       0.83      0.82      0.82       217\n",
      "\n",
      "Model XGBoost\n",
      "              precision    recall  f1-score   support\n",
      "\n",
      "           0       0.80      0.88      0.84       126\n",
      "           1       0.81      0.70      0.75        91\n",
      "\n",
      "    accuracy                           0.81       217\n",
      "   macro avg       0.81      0.79      0.80       217\n",
      "weighted avg       0.81      0.81      0.80       217\n",
      "\n"
     ]
    }
   ],
   "source": [
    "for key, classifier in classifiers.items():\n",
    "    classifier.fit(X_train, y_train)\n",
    "    prediction = classifier.predict(X_test)\n",
    "    print(\"Model \"+key)\n",
    "    print(classification_report(y_test, prediction,zero_division=0))"
   ]
  },
  {
   "cell_type": "code",
   "execution_count": 52,
   "metadata": {},
   "outputs": [],
   "source": [
    "import keras\n",
    "import tensorflow as tf\n",
    "from keras.utils.np_utils import to_categorical\n",
    "from keras import optimizers\n",
    "from keras.models import Sequential\n",
    "from keras.layers import Dense, Activation, Flatten"
   ]
  },
  {
   "cell_type": "code",
   "execution_count": 59,
   "metadata": {},
   "outputs": [],
   "source": [
    "model=keras.Sequential([\n",
    "keras.layers.Dense(512),\n",
    "keras.layers.Activation(\"sigmoid\"),\n",
    "keras.layers.Dense(256),\n",
    "keras.layers.Dropout(0.2),\n",
    "keras.layers.Activation(activation=\"relu\"),\n",
    "keras.layers.Dense(2),\n",
    "keras.layers.Activation(activation=\"softmax\")])"
   ]
  },
  {
   "cell_type": "code",
   "execution_count": 60,
   "metadata": {},
   "outputs": [],
   "source": [
    "one_hot_y=pd.get_dummies(y_train)\n",
    "one_hot_valid_y=pd.get_dummies(y_test)"
   ]
  },
  {
   "cell_type": "code",
   "execution_count": 63,
   "metadata": {},
   "outputs": [
    {
     "name": "stdout",
     "output_type": "stream",
     "text": [
      "Epoch 1/20\n",
      "163/163 [==============================] - 1s 3ms/step - loss: 0.1248 - accuracy: 0.7781 - recall_2: 0.7781 - val_loss: 0.1165 - val_accuracy: 0.8249 - val_recall_2: 0.8249\n",
      "Epoch 2/20\n",
      "163/163 [==============================] - 0s 2ms/step - loss: 0.1252 - accuracy: 0.7735 - recall_2: 0.7735 - val_loss: 0.1327 - val_accuracy: 0.7097 - val_recall_2: 0.7097\n",
      "Epoch 3/20\n",
      "163/163 [==============================] - 0s 2ms/step - loss: 0.1177 - accuracy: 0.7827 - recall_2: 0.7827 - val_loss: 0.1461 - val_accuracy: 0.6912 - val_recall_2: 0.6912\n",
      "Epoch 4/20\n",
      "163/163 [==============================] - 0s 2ms/step - loss: 0.1212 - accuracy: 0.7704 - recall_2: 0.7704 - val_loss: 0.1209 - val_accuracy: 0.7880 - val_recall_2: 0.7880\n",
      "Epoch 5/20\n",
      "163/163 [==============================] - 0s 2ms/step - loss: 0.1204 - accuracy: 0.7843 - recall_2: 0.7843 - val_loss: 0.1248 - val_accuracy: 0.7419 - val_recall_2: 0.7419\n",
      "Epoch 6/20\n",
      "163/163 [==============================] - 0s 2ms/step - loss: 0.1235 - accuracy: 0.7519 - recall_2: 0.7519 - val_loss: 0.1132 - val_accuracy: 0.8387 - val_recall_2: 0.8387\n",
      "Epoch 7/20\n",
      "163/163 [==============================] - 0s 2ms/step - loss: 0.1189 - accuracy: 0.7812 - recall_2: 0.7812 - val_loss: 0.1248 - val_accuracy: 0.7696 - val_recall_2: 0.7696\n",
      "Epoch 8/20\n",
      "163/163 [==============================] - 0s 2ms/step - loss: 0.1224 - accuracy: 0.7874 - recall_2: 0.7874 - val_loss: 0.1153 - val_accuracy: 0.7880 - val_recall_2: 0.7880\n",
      "Epoch 9/20\n",
      "163/163 [==============================] - 0s 2ms/step - loss: 0.1199 - accuracy: 0.7889 - recall_2: 0.7889 - val_loss: 0.1105 - val_accuracy: 0.8387 - val_recall_2: 0.8387\n",
      "Epoch 10/20\n",
      "163/163 [==============================] - 0s 2ms/step - loss: 0.1193 - accuracy: 0.7797 - recall_2: 0.7797 - val_loss: 0.1131 - val_accuracy: 0.8249 - val_recall_2: 0.8249\n",
      "Epoch 11/20\n",
      "163/163 [==============================] - 0s 2ms/step - loss: 0.1193 - accuracy: 0.7735 - recall_2: 0.7735 - val_loss: 0.1561 - val_accuracy: 0.6912 - val_recall_2: 0.6912\n",
      "Epoch 12/20\n",
      "163/163 [==============================] - 0s 2ms/step - loss: 0.1208 - accuracy: 0.7951 - recall_2: 0.7951 - val_loss: 0.1531 - val_accuracy: 0.7005 - val_recall_2: 0.7005\n",
      "Epoch 13/20\n",
      "163/163 [==============================] - 0s 2ms/step - loss: 0.1209 - accuracy: 0.7935 - recall_2: 0.7935 - val_loss: 0.1161 - val_accuracy: 0.7834 - val_recall_2: 0.7834\n",
      "Epoch 14/20\n",
      "163/163 [==============================] - 0s 2ms/step - loss: 0.1204 - accuracy: 0.7781 - recall_2: 0.7781 - val_loss: 0.1116 - val_accuracy: 0.8295 - val_recall_2: 0.8295\n",
      "Epoch 15/20\n",
      "163/163 [==============================] - 0s 2ms/step - loss: 0.1188 - accuracy: 0.7889 - recall_2: 0.7889 - val_loss: 0.1258 - val_accuracy: 0.7604 - val_recall_2: 0.7604\n",
      "Epoch 16/20\n",
      "163/163 [==============================] - 0s 2ms/step - loss: 0.1198 - accuracy: 0.7812 - recall_2: 0.7812 - val_loss: 0.1198 - val_accuracy: 0.7604 - val_recall_2: 0.7604\n",
      "Epoch 17/20\n",
      "163/163 [==============================] - 0s 2ms/step - loss: 0.1156 - accuracy: 0.7935 - recall_2: 0.7935 - val_loss: 0.1159 - val_accuracy: 0.7926 - val_recall_2: 0.7926\n",
      "Epoch 18/20\n",
      "163/163 [==============================] - 0s 2ms/step - loss: 0.1189 - accuracy: 0.7935 - recall_2: 0.7935 - val_loss: 0.1104 - val_accuracy: 0.8249 - val_recall_2: 0.8249\n",
      "Epoch 19/20\n",
      "163/163 [==============================] - 0s 2ms/step - loss: 0.1184 - accuracy: 0.7781 - recall_2: 0.7781 - val_loss: 0.1163 - val_accuracy: 0.8018 - val_recall_2: 0.8018\n",
      "Epoch 20/20\n",
      "163/163 [==============================] - 0s 2ms/step - loss: 0.1168 - accuracy: 0.7874 - recall_2: 0.7874 - val_loss: 0.1083 - val_accuracy: 0.8433 - val_recall_2: 0.8433\n"
     ]
    }
   ],
   "source": [
    "\n",
    "opt = tf.optimizers.SGD(learning_rate=0.01)\n",
    "model.compile(loss=tf.keras.losses.BinaryFocalCrossentropy(), optimizer=opt, metrics=['accuracy',tf.keras.metrics.Recall()])\n",
    "epochs = 20\n",
    "history=model.fit(X_train, one_hot_y,batch_size=4, epochs=epochs,validation_data=(X_test,one_hot_valid_y))"
   ]
  },
  {
   "cell_type": "code",
   "execution_count": 64,
   "metadata": {},
   "outputs": [
    {
     "name": "stdout",
     "output_type": "stream",
     "text": [
      "7/7 [==============================] - 0s 1ms/step\n",
      "Model NN\n",
      "              precision    recall  f1-score   support\n",
      "\n",
      "           0       0.87      0.87      0.87       126\n",
      "           1       0.81      0.81      0.81        91\n",
      "\n",
      "    accuracy                           0.84       217\n",
      "   macro avg       0.84      0.84      0.84       217\n",
      "weighted avg       0.84      0.84      0.84       217\n",
      "\n"
     ]
    }
   ],
   "source": [
    "y_prob = model.predict(X_test)\n",
    "prediction = y_prob.argmax(axis=-1)\n",
    "print(\"Model NN\")\n",
    "print(classification_report(y_test,prediction,zero_division=0))"
   ]
  },
  {
   "cell_type": "code",
   "execution_count": null,
   "metadata": {},
   "outputs": [],
   "source": []
  }
 ],
 "metadata": {
  "kernelspec": {
   "display_name": "Python 3.10.0 64-bit",
   "language": "python",
   "name": "python3"
  },
  "language_info": {
   "codemirror_mode": {
    "name": "ipython",
    "version": 3
   },
   "file_extension": ".py",
   "mimetype": "text/x-python",
   "name": "python",
   "nbconvert_exporter": "python",
   "pygments_lexer": "ipython3",
   "version": "3.10.0"
  },
  "orig_nbformat": 4,
  "vscode": {
   "interpreter": {
    "hash": "525f50cd3df40e9d57f214b2f9bedadf4bf08c85f9f5b3b27734de5b2eace747"
   }
  }
 },
 "nbformat": 4,
 "nbformat_minor": 2
}
