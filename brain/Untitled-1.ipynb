{
 "cells": [
  {
   "cell_type": "code",
   "execution_count": 138,
   "metadata": {},
   "outputs": [],
   "source": [
    "from PIL import Image\n",
    "import numpy as np\n",
    "import pandas as pd\n",
    "import matplotlib.pyplot as plt\n",
    "import os"
   ]
  },
  {
   "cell_type": "code",
   "execution_count": 67,
   "metadata": {},
   "outputs": [],
   "source": [
    "random_state=42"
   ]
  },
  {
   "cell_type": "code",
   "execution_count": 68,
   "metadata": {},
   "outputs": [],
   "source": [
    "data = []\n",
    "category = []"
   ]
  },
  {
   "cell_type": "code",
   "execution_count": 69,
   "metadata": {},
   "outputs": [],
   "source": [
    "for filename in os.scandir(\"./benign\"):\n",
    "    if filename.is_file():\n",
    "        img = Image.open(filename.path)\n",
    "        img = img.resize(size=(244,244))\n",
    "        img = img.convert('L')\n",
    "        data.append(np.array(img))\n",
    "        category.append(0)\n",
    "        del img"
   ]
  },
  {
   "cell_type": "code",
   "execution_count": 70,
   "metadata": {},
   "outputs": [],
   "source": [
    "for filename in os.scandir(\"./malignant\"):\n",
    "    if filename.is_file():\n",
    "        img = Image.open(filename.path)\n",
    "        img = img.convert('L')\n",
    "        img = img.resize(size=(244,244))\n",
    "        data.append(np.array(img))\n",
    "        category.append(1)\n",
    "        del img"
   ]
  },
  {
   "cell_type": "code",
   "execution_count": 71,
   "metadata": {},
   "outputs": [],
   "source": [
    "x,y = np.array(data),category"
   ]
  },
  {
   "cell_type": "code",
   "execution_count": 72,
   "metadata": {},
   "outputs": [
    {
     "data": {
      "text/plain": [
       "(0, 255)"
      ]
     },
     "execution_count": 72,
     "metadata": {},
     "output_type": "execute_result"
    }
   ],
   "source": [
    "x.min(),x.max()"
   ]
  },
  {
   "cell_type": "markdown",
   "metadata": {},
   "source": [
    "Grey scale image is between 0-255, we can just divide by 255 to normalize"
   ]
  },
  {
   "cell_type": "code",
   "execution_count": 73,
   "metadata": {},
   "outputs": [],
   "source": [
    "x=x/255"
   ]
  },
  {
   "cell_type": "code",
   "execution_count": 74,
   "metadata": {},
   "outputs": [],
   "source": [
    "import keras\n",
    "import tensorflow as tf\n",
    "from keras.utils.np_utils import to_categorical\n",
    "from keras import optimizers\n",
    "from keras.models import Sequential\n",
    "from keras.keras.keras.layers import Dense, Activation, Flatten\n"
   ]
  },
  {
   "cell_type": "code",
   "execution_count": 75,
   "metadata": {},
   "outputs": [],
   "source": [
    "from sklearn.model_selection import train_test_split "
   ]
  },
  {
   "cell_type": "code",
   "execution_count": 76,
   "metadata": {},
   "outputs": [],
   "source": [
    "X_train, X_test, y_train, y_test = train_test_split(x, y, test_size=0.2, random_state=random_state)"
   ]
  },
  {
   "cell_type": "code",
   "execution_count": 81,
   "metadata": {},
   "outputs": [],
   "source": [
    "\n",
    "model=keras.Sequential([\n",
    "keras.Input(shape=(244,244)),\n",
    "keras.layers.Flatten(),\n",
    "keras.layers.Dense(2048),\n",
    "keras.layers.Activation(\"relu\"),\n",
    "keras.layers.Dense(1024),z\n",
    "keras.layers.Activation(activation=\"relu\"),\n",
    "keras.layers.Dense(2),\n",
    "keras.layers.Activation(activation=\"softmax\")])\n"
   ]
  },
  {
   "cell_type": "code",
   "execution_count": 82,
   "metadata": {},
   "outputs": [],
   "source": [
    "one_hot_y_train=pd.get_dummies(y_train)\n",
    "one_hot_y_test=pd.get_dummies(y_test)"
   ]
  },
  {
   "cell_type": "code",
   "execution_count": 83,
   "metadata": {},
   "outputs": [
    {
     "name": "stdout",
     "output_type": "stream",
     "text": [
      "Epoch 1/10\n",
      "6/6 [==============================] - 2s 280ms/step - loss: 0.6876 - accuracy: 0.5815 - val_loss: 0.4608 - val_accuracy: 0.7660\n",
      "Epoch 2/10\n",
      "6/6 [==============================] - 1s 232ms/step - loss: 0.5691 - accuracy: 0.6902 - val_loss: 0.4819 - val_accuracy: 0.8085\n",
      "Epoch 3/10\n",
      "6/6 [==============================] - 1s 237ms/step - loss: 0.5409 - accuracy: 0.7391 - val_loss: 0.4199 - val_accuracy: 0.7234\n",
      "Epoch 4/10\n",
      "6/6 [==============================] - 1s 238ms/step - loss: 0.4785 - accuracy: 0.7772 - val_loss: 0.4754 - val_accuracy: 0.7660\n",
      "Epoch 5/10\n",
      "6/6 [==============================] - 1s 235ms/step - loss: 0.4459 - accuracy: 0.8152 - val_loss: 0.4660 - val_accuracy: 0.7660\n",
      "Epoch 6/10\n",
      "6/6 [==============================] - 1s 238ms/step - loss: 0.4277 - accuracy: 0.8261 - val_loss: 0.4533 - val_accuracy: 0.7872\n",
      "Epoch 7/10\n",
      "6/6 [==============================] - 1s 229ms/step - loss: 0.4426 - accuracy: 0.7880 - val_loss: 0.3917 - val_accuracy: 0.7660\n",
      "Epoch 8/10\n",
      "6/6 [==============================] - 1s 226ms/step - loss: 0.3733 - accuracy: 0.8424 - val_loss: 0.3838 - val_accuracy: 0.8298\n",
      "Epoch 9/10\n",
      "6/6 [==============================] - 1s 223ms/step - loss: 0.4270 - accuracy: 0.8424 - val_loss: 0.5249 - val_accuracy: 0.7234\n",
      "Epoch 10/10\n",
      "6/6 [==============================] - 1s 223ms/step - loss: 0.3496 - accuracy: 0.8804 - val_loss: 0.3853 - val_accuracy: 0.7660\n"
     ]
    }
   ],
   "source": [
    "opt = tf.optimizers.SGD(learning_rate=0.01)\n",
    "model.compile(loss='binary_crossentropy', optimizer=opt, metrics=['accuracy'])\n",
    "\n",
    "history = None\n",
    "\n",
    "# START CODE HERE\n",
    "epochs = 10\n",
    "history=model.fit(X_train, one_hot_y_train,batch_size=32, epochs=epochs,validation_data= (X_test,one_hot_y_test))"
   ]
  },
  {
   "cell_type": "code",
   "execution_count": 16,
   "metadata": {},
   "outputs": [
    {
     "data": {
      "image/png": "[encoded data removed]",
      "text/plain": [
       "<Figure size 432x288 with 1 Axes>"
      ]
     },
     "metadata": {
      "needs_background": "light"
     },
     "output_type": "display_data"
    },
    {
     "data": {
      "image/png": "[encoded data removed]",
      "text/plain": [
       "<Figure size 432x288 with 1 Axes>"
      ]
     },
     "metadata": {
      "needs_background": "light"
     },
     "output_type": "display_data"
    }
   ],
   "source": [
    "l1=plt.plot(history.history['loss'],label=\"loss\")\n",
    "l2=plt.plot(history.history['val_loss'],label='val_loss')\n",
    "plt.legend()\n",
    "plt.show()\n",
    "plt.plot(history.history['accuracy'],label='accuracy')\n",
    "plt.plot(history.history['val_accuracy'],label='val_accuracy')\n",
    "plt.legend()\n",
    "plt.show()"
   ]
  },
  {
   "cell_type": "code",
   "execution_count": 17,
   "metadata": {},
   "outputs": [
    {
     "name": "stdout",
     "output_type": "stream",
     "text": [
      "3/3 [==============================] - 0s 42ms/step\n"
     ]
    }
   ],
   "source": [
    "preds=model.predict(X_test)"
   ]
  },
  {
   "cell_type": "code",
   "execution_count": 18,
   "metadata": {},
   "outputs": [],
   "source": [
    "confidence=np.argsort([abs(preds[:,0]-preds[:,1])])"
   ]
  },
  {
   "cell_type": "code",
   "execution_count": 26,
   "metadata": {},
   "outputs": [],
   "source": [
    "from matplotlib.pyplot import imshow\n",
    "%matplotlib inline"
   ]
  },
  {
   "cell_type": "code",
   "execution_count": 57,
   "metadata": {},
   "outputs": [],
   "source": [
    "for i in confidence[0][:5]:\n",
    "    curr=X_test[i].reshape(244,244)\n",
    "    #print(y[i],preds[i])\n",
    "    #plt.imshow(curr*255, cmap='gray', vmin=0, vmax=255)\n",
    "    #plt.show()"
   ]
  }
 ],
 "metadata": {
  "kernelspec": {
   "display_name": "Python 3 (ipykernel)",
   "language": "python",
   "name": "python3"
  },
  "language_info": {
   "codemirror_mode": {
    "name": "ipython",
    "version": 3
   },
   "file_extension": ".py",
   "mimetype": "text/x-python",
   "name": "python",
   "nbconvert_exporter": "python",
   "pygments_lexer": "ipython3",
   "version": "3.9.7"
  },
  "vscode": {
   "interpreter": {
    "hash": "525f50cd3df40e9d57f214b2f9bedadf4bf08c85f9f5b3b27734de5b2eace747"
   }
  }
 },
 "nbformat": 4,
 "nbformat_minor": 2
}
