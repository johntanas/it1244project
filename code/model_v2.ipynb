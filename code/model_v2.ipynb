{
  "cells": [
    {
      "cell_type": "markdown",
      "metadata": {
        "id": "view-in-github",
        "colab_type": "text"
      },
      "source": [
        "<a href=\"https://colab.research.google.com/github/johntanas/it1244project/blob/main/code/model_v2.ipynb\" target=\"_parent\"><img src=\"https://colab.research.google.com/assets/colab-badge.svg\" alt=\"Open In Colab\"/></a>"
      ]
    },
    {
      "cell_type": "code",
      "execution_count": 2,
      "id": "5179ea71",
      "metadata": {
        "id": "5179ea71"
      },
      "outputs": [],
      "source": [
        "import pandas as pd\n",
        "import numpy as np"
      ]
    },
    {
      "cell_type": "code",
      "source": [
        "onlinedataset=True\n",
        "if onlinedataset:\n",
        "  url = \"https://drive.google.com/file/d/1Ktdv2NTyK2AM48yBvbpFezd82-srqj7w/view?usp=sharing\"\n",
        "  url='https://drive.google.com/uc?id=' + url.split('/')[-2]\n",
        "  cleaned_app_df=pd.read_csv(url,index_col=0)\n",
        "  url = \"https://drive.google.com/file/d/1QDhZ3u0BZX8uqMFkSWW-Ck59XvtEdxhy/view?usp=sharing\"\n",
        "  url='https://drive.google.com/uc?id=' + url.split('/')[-2]\n",
        "  label_df=pd.read_csv(url,index_col=0)\n",
        "else:\n",
        "  pathtoapp=\"./content/cleaned_application.csv\"\n",
        "  cleaned_app_df=pd.read_csv(pathtoapp,index_col=0)\n",
        "  pathtolabel=\"./content/credit_record.csv\"\n",
        "  label_df=pd.read_csv(pathtolabel,index_col=0)"
      ],
      "metadata": {
        "id": "XJlCQwWJEl2_"
      },
      "id": "XJlCQwWJEl2_",
      "execution_count": 7,
      "outputs": []
    },
    {
      "cell_type": "code",
      "source": [
        "dep_var=\"label\"\n",
        "random_state=42"
      ],
      "metadata": {
        "id": "DoxeFDv6Mgj8"
      },
      "id": "DoxeFDv6Mgj8",
      "execution_count": 8,
      "outputs": []
    },
    {
      "cell_type": "code",
      "source": [
        "train_df=label_df.merge(cleaned_app_df,how=\"inner\")"
      ],
      "metadata": {
        "id": "5vyeq794MHpB"
      },
      "id": "5vyeq794MHpB",
      "execution_count": 9,
      "outputs": []
    },
    {
      "cell_type": "code",
      "source": [
        "def hamming_distance(x,y):\n",
        "  labels=np.where(x>0.5,1,0)\n",
        "  return sum(labels!=y)/len(labels)\n",
        "def hamming_distance_accuracy(x, y): return 1-hamming_distance(x,y)"
      ],
      "metadata": {
        "id": "wXaPkhCMYVIu"
      },
      "id": "wXaPkhCMYVIu",
      "execution_count": 10,
      "outputs": []
    },
    {
      "cell_type": "code",
      "source": [
        "train_df[\"label\"].describe()"
      ],
      "metadata": {
        "id": "wVKsY9vdXxh0",
        "outputId": "e7275770-37c8-45b9-df75-9a090cf4a25a",
        "colab": {
          "base_uri": "https://localhost:8080/"
        }
      },
      "id": "wVKsY9vdXxh0",
      "execution_count": 11,
      "outputs": [
        {
          "output_type": "execute_result",
          "data": {
            "text/plain": [
              "count    36457.000000\n",
              "mean         0.882300\n",
              "std          0.322257\n",
              "min          0.000000\n",
              "25%          1.000000\n",
              "50%          1.000000\n",
              "75%          1.000000\n",
              "max          1.000000\n",
              "Name: label, dtype: float64"
            ]
          },
          "metadata": {},
          "execution_count": 11
        }
      ]
    },
    {
      "cell_type": "markdown",
      "source": [
        "Since the data is skewed to 1, we can have a baseline guess of setting all our labels to 1."
      ],
      "metadata": {
        "id": "QIkUXYbOYkU5"
      },
      "id": "QIkUXYbOYkU5"
    },
    {
      "cell_type": "code",
      "source": [
        "pred_baseline=np.repeat([1],36457)"
      ],
      "metadata": {
        "id": "DzKbYjihYjDP"
      },
      "id": "DzKbYjihYjDP",
      "execution_count": 12,
      "outputs": []
    },
    {
      "cell_type": "code",
      "source": [
        "hamming_distance_accuracy(pred_baseline, train_df[\"label\"])"
      ],
      "metadata": {
        "id": "v61uQDnGYy8W",
        "outputId": "6022ca09-b66f-425d-fed4-a9b7520b4c93",
        "colab": {
          "base_uri": "https://localhost:8080/"
        }
      },
      "id": "v61uQDnGYy8W",
      "execution_count": 13,
      "outputs": [
        {
          "output_type": "execute_result",
          "data": {
            "text/plain": [
              "0.8822996955317223"
            ]
          },
          "metadata": {},
          "execution_count": 13
        }
      ]
    },
    {
      "cell_type": "markdown",
      "source": [
        "Our models have to do better than this accuracy for it to be useful\n",
        "\n"
      ],
      "metadata": {
        "id": "XsHqYRWiX7z7"
      },
      "id": "XsHqYRWiX7z7"
    },
    {
      "cell_type": "code",
      "execution_count": 14,
      "id": "eb1e2dcd",
      "metadata": {
        "id": "eb1e2dcd"
      },
      "outputs": [],
      "source": [
        "cat_features = cleaned_app_df.columns[cleaned_app_df.dtypes == 'object'].to_list()"
      ]
    },
    {
      "cell_type": "code",
      "execution_count": 15,
      "id": "d4d24cf9",
      "metadata": {
        "colab": {
          "base_uri": "https://localhost:8080/",
          "height": 175
        },
        "id": "d4d24cf9",
        "outputId": "94bfcff8-07b9-46f7-b156-9f84622df0eb"
      },
      "outputs": [
        {
          "output_type": "execute_result",
          "data": {
            "text/plain": [
              "        gender own_car own_realty income_type                education_level  \\\n",
              "count   438510  438510     438510      438510                         438510   \n",
              "unique       2       2          2           5                              5   \n",
              "top          F       N          Y     Working  Secondary / secondary special   \n",
              "freq    294410  275431     304042      226079                         301789   \n",
              "\n",
              "       family_status         house_type       job  \n",
              "count         438510             438510    438510  \n",
              "unique             5                  6        19  \n",
              "top          Married  House / apartment  Laborers  \n",
              "freq          299798             393790     97953  "
            ],
            "text/html": [
              "\n",
              "  <div id=\"df-a898b4f1-e510-4527-ad7c-37edba9486fa\">\n",
              "    <div class=\"colab-df-container\">\n",
              "      <div>\n",
              "<style scoped>\n",
              "    .dataframe tbody tr th:only-of-type {\n",
              "        vertical-align: middle;\n",
              "    }\n",
              "\n",
              "    .dataframe tbody tr th {\n",
              "        vertical-align: top;\n",
              "    }\n",
              "\n",
              "    .dataframe thead th {\n",
              "        text-align: right;\n",
              "    }\n",
              "</style>\n",
              "<table border=\"1\" class=\"dataframe\">\n",
              "  <thead>\n",
              "    <tr style=\"text-align: right;\">\n",
              "      <th></th>\n",
              "      <th>gender</th>\n",
              "      <th>own_car</th>\n",
              "      <th>own_realty</th>\n",
              "      <th>income_type</th>\n",
              "      <th>education_level</th>\n",
              "      <th>family_status</th>\n",
              "      <th>house_type</th>\n",
              "      <th>job</th>\n",
              "    </tr>\n",
              "  </thead>\n",
              "  <tbody>\n",
              "    <tr>\n",
              "      <th>count</th>\n",
              "      <td>438510</td>\n",
              "      <td>438510</td>\n",
              "      <td>438510</td>\n",
              "      <td>438510</td>\n",
              "      <td>438510</td>\n",
              "      <td>438510</td>\n",
              "      <td>438510</td>\n",
              "      <td>438510</td>\n",
              "    </tr>\n",
              "    <tr>\n",
              "      <th>unique</th>\n",
              "      <td>2</td>\n",
              "      <td>2</td>\n",
              "      <td>2</td>\n",
              "      <td>5</td>\n",
              "      <td>5</td>\n",
              "      <td>5</td>\n",
              "      <td>6</td>\n",
              "      <td>19</td>\n",
              "    </tr>\n",
              "    <tr>\n",
              "      <th>top</th>\n",
              "      <td>F</td>\n",
              "      <td>N</td>\n",
              "      <td>Y</td>\n",
              "      <td>Working</td>\n",
              "      <td>Secondary / secondary special</td>\n",
              "      <td>Married</td>\n",
              "      <td>House / apartment</td>\n",
              "      <td>Laborers</td>\n",
              "    </tr>\n",
              "    <tr>\n",
              "      <th>freq</th>\n",
              "      <td>294410</td>\n",
              "      <td>275431</td>\n",
              "      <td>304042</td>\n",
              "      <td>226079</td>\n",
              "      <td>301789</td>\n",
              "      <td>299798</td>\n",
              "      <td>393790</td>\n",
              "      <td>97953</td>\n",
              "    </tr>\n",
              "  </tbody>\n",
              "</table>\n",
              "</div>\n",
              "      <button class=\"colab-df-convert\" onclick=\"convertToInteractive('df-a898b4f1-e510-4527-ad7c-37edba9486fa')\"\n",
              "              title=\"Convert this dataframe to an interactive table.\"\n",
              "              style=\"display:none;\">\n",
              "        \n",
              "  <svg xmlns=\"http://www.w3.org/2000/svg\" height=\"24px\"viewBox=\"0 0 24 24\"\n",
              "       width=\"24px\">\n",
              "    <path d=\"M0 0h24v24H0V0z\" fill=\"none\"/>\n",
              "    <path d=\"M18.56 5.44l.94 2.06.94-2.06 2.06-.94-2.06-.94-.94-2.06-.94 2.06-2.06.94zm-11 1L8.5 8.5l.94-2.06 2.06-.94-2.06-.94L8.5 2.5l-.94 2.06-2.06.94zm10 10l.94 2.06.94-2.06 2.06-.94-2.06-.94-.94-2.06-.94 2.06-2.06.94z\"/><path d=\"M17.41 7.96l-1.37-1.37c-.4-.4-.92-.59-1.43-.59-.52 0-1.04.2-1.43.59L10.3 9.45l-7.72 7.72c-.78.78-.78 2.05 0 2.83L4 21.41c.39.39.9.59 1.41.59.51 0 1.02-.2 1.41-.59l7.78-7.78 2.81-2.81c.8-.78.8-2.07 0-2.86zM5.41 20L4 18.59l7.72-7.72 1.47 1.35L5.41 20z\"/>\n",
              "  </svg>\n",
              "      </button>\n",
              "      \n",
              "  <style>\n",
              "    .colab-df-container {\n",
              "      display:flex;\n",
              "      flex-wrap:wrap;\n",
              "      gap: 12px;\n",
              "    }\n",
              "\n",
              "    .colab-df-convert {\n",
              "      background-color: #E8F0FE;\n",
              "      border: none;\n",
              "      border-radius: 50%;\n",
              "      cursor: pointer;\n",
              "      display: none;\n",
              "      fill: #1967D2;\n",
              "      height: 32px;\n",
              "      padding: 0 0 0 0;\n",
              "      width: 32px;\n",
              "    }\n",
              "\n",
              "    .colab-df-convert:hover {\n",
              "      background-color: #E2EBFA;\n",
              "      box-shadow: 0px 1px 2px rgba(60, 64, 67, 0.3), 0px 1px 3px 1px rgba(60, 64, 67, 0.15);\n",
              "      fill: #174EA6;\n",
              "    }\n",
              "\n",
              "    [theme=dark] .colab-df-convert {\n",
              "      background-color: #3B4455;\n",
              "      fill: #D2E3FC;\n",
              "    }\n",
              "\n",
              "    [theme=dark] .colab-df-convert:hover {\n",
              "      background-color: #434B5C;\n",
              "      box-shadow: 0px 1px 3px 1px rgba(0, 0, 0, 0.15);\n",
              "      filter: drop-shadow(0px 1px 2px rgba(0, 0, 0, 0.3));\n",
              "      fill: #FFFFFF;\n",
              "    }\n",
              "  </style>\n",
              "\n",
              "      <script>\n",
              "        const buttonEl =\n",
              "          document.querySelector('#df-a898b4f1-e510-4527-ad7c-37edba9486fa button.colab-df-convert');\n",
              "        buttonEl.style.display =\n",
              "          google.colab.kernel.accessAllowed ? 'block' : 'none';\n",
              "\n",
              "        async function convertToInteractive(key) {\n",
              "          const element = document.querySelector('#df-a898b4f1-e510-4527-ad7c-37edba9486fa');\n",
              "          const dataTable =\n",
              "            await google.colab.kernel.invokeFunction('convertToInteractive',\n",
              "                                                     [key], {});\n",
              "          if (!dataTable) return;\n",
              "\n",
              "          const docLinkHtml = 'Like what you see? Visit the ' +\n",
              "            '<a target=\"_blank\" href=https://colab.research.google.com/notebooks/data_table.ipynb>data table notebook</a>'\n",
              "            + ' to learn more about interactive tables.';\n",
              "          element.innerHTML = '';\n",
              "          dataTable['output_type'] = 'display_data';\n",
              "          await google.colab.output.renderOutput(dataTable, element);\n",
              "          const docLink = document.createElement('div');\n",
              "          docLink.innerHTML = docLinkHtml;\n",
              "          element.appendChild(docLink);\n",
              "        }\n",
              "      </script>\n",
              "    </div>\n",
              "  </div>\n",
              "  "
            ]
          },
          "metadata": {},
          "execution_count": 15
        }
      ],
      "source": [
        "cleaned_app_df[cat_features].describe()"
      ]
    },
    {
      "cell_type": "markdown",
      "id": "4c328c3c",
      "metadata": {
        "id": "4c328c3c"
      },
      "source": [
        "We can use ordinal scaling for the factors ,even gender as there is only 2 genders and both the ordinal and nominal classification lead to 0 and 1 encoding so there is no difference. However, we have to create our own ranking for the factors with cardinality>2."
      ]
    },
    {
      "cell_type": "code",
      "execution_count": 16,
      "id": "49f62b23",
      "metadata": {
        "id": "49f62b23"
      },
      "outputs": [],
      "source": [
        "auto_cat_features=[\"gender\",\"own_car\",\"own_realty\"]"
      ]
    },
    {
      "cell_type": "code",
      "execution_count": 17,
      "id": "97e1e179",
      "metadata": {
        "id": "97e1e179"
      },
      "outputs": [],
      "source": [
        "for i in auto_cat_features:\n",
        "    cat_features.remove(i)"
      ]
    },
    {
      "cell_type": "code",
      "execution_count": 18,
      "id": "ddb8fbfc",
      "metadata": {
        "colab": {
          "base_uri": "https://localhost:8080/"
        },
        "id": "ddb8fbfc",
        "outputId": "a81175b6-09e6-4505-a8d8-c3aff689d217"
      },
      "outputs": [
        {
          "output_type": "execute_result",
          "data": {
            "text/plain": [
              "['income_type', 'education_level', 'family_status', 'house_type', 'job']"
            ]
          },
          "metadata": {},
          "execution_count": 18
        }
      ],
      "source": [
        "cat_features"
      ]
    },
    {
      "cell_type": "code",
      "execution_count": 19,
      "id": "48dbb10d",
      "metadata": {
        "id": "48dbb10d"
      },
      "outputs": [],
      "source": [
        "from sklearn.preprocessing import OrdinalEncoder"
      ]
    },
    {
      "cell_type": "code",
      "execution_count": 20,
      "id": "ccde6659",
      "metadata": {
        "id": "ccde6659"
      },
      "outputs": [],
      "source": [
        "df1=cleaned_app_df.copy()"
      ]
    },
    {
      "cell_type": "code",
      "execution_count": 21,
      "id": "09c7c126",
      "metadata": {
        "id": "09c7c126"
      },
      "outputs": [],
      "source": [
        "autoenc =OrdinalEncoder()\n",
        "autoenc.fit(cleaned_app_df[auto_cat_features])\n",
        "df1[auto_cat_features]=autoenc.transform(cleaned_app_df[auto_cat_features])"
      ]
    },
    {
      "cell_type": "code",
      "execution_count": 22,
      "id": "881f356f",
      "metadata": {
        "colab": {
          "base_uri": "https://localhost:8080/"
        },
        "id": "881f356f",
        "outputId": "647dddfe-9748-491c-fe32-9b21211e17bd"
      },
      "outputs": [
        {
          "output_type": "execute_result",
          "data": {
            "text/plain": [
              "[array(['Commercial associate', 'Pensioner', 'State servant', 'Student',\n",
              "        'Working'], dtype=object),\n",
              " array(['Academic degree', 'Higher education', 'Incomplete higher',\n",
              "        'Lower secondary', 'Secondary / secondary special'], dtype=object),\n",
              " array(['Civil marriage', 'Married', 'Separated', 'Single / not married',\n",
              "        'Widow'], dtype=object),\n",
              " array(['Co-op apartment', 'House / apartment', 'Municipal apartment',\n",
              "        'Office apartment', 'Rented apartment', 'With parents'],\n",
              "       dtype=object),\n",
              " array(['Accountants', 'Cleaning staff', 'Cooking staff', 'Core staff',\n",
              "        'Drivers', 'HR staff', 'High skill tech staff', 'IT staff',\n",
              "        'Laborers', 'Low-skill Laborers', 'Managers', 'Medicine staff',\n",
              "        'Pensioner', 'Private service staff', 'Realty agents',\n",
              "        'Sales staff', 'Secretaries', 'Security staff',\n",
              "        'Waiters/barmen staff'], dtype=object)]"
            ]
          },
          "metadata": {},
          "execution_count": 22
        }
      ],
      "source": [
        "testenc =OrdinalEncoder()\n",
        "testenc.fit(cleaned_app_df[cat_features])\n",
        "testenc.categories_"
      ]
    },
    {
      "cell_type": "code",
      "execution_count": 23,
      "id": "3808be78",
      "metadata": {
        "id": "3808be78"
      },
      "outputs": [],
      "source": [
        "categories=[['Student', 'Pensioner','Working','State servant','Commercial associate'],\n",
        "     ['Lower secondary', 'Secondary / secondary special','Incomplete higher', 'Higher education', 'Academic degree'],\n",
        "            ['Widow','Single / not married','Separated','Civil marriage', 'Married'],\n",
        "            ['Rented apartment','With parents','Co-op apartment', 'Municipal apartment','Office apartment', 'House / apartment']]"
      ]
    },
    {
      "cell_type": "markdown",
      "id": "b9949cad",
      "metadata": {
        "id": "b9949cad"
      },
      "source": [
        "Lets use median income level to justify the ordering of jobs instead of a biased personal heuristic!"
      ]
    },
    {
      "cell_type": "code",
      "execution_count": 24,
      "id": "dc0fe45c",
      "metadata": {
        "id": "dc0fe45c"
      },
      "outputs": [],
      "source": [
        "job_income=dict(cleaned_app_df.groupby(\"job\").apply(lambda x: x[\"income\"].median()))"
      ]
    },
    {
      "cell_type": "code",
      "execution_count": 25,
      "id": "56a2f91d",
      "metadata": {
        "id": "56a2f91d"
      },
      "outputs": [],
      "source": [
        "sorted_job_income={k: v for k, v in sorted(job_income.items(), key=lambda item: item[1])}"
      ]
    },
    {
      "cell_type": "code",
      "execution_count": 26,
      "id": "a17a1f25",
      "metadata": {
        "id": "a17a1f25"
      },
      "outputs": [],
      "source": [
        "job_ranking=list(sorted_job_income.keys())"
      ]
    },
    {
      "cell_type": "code",
      "execution_count": 27,
      "id": "e091a794",
      "metadata": {
        "id": "e091a794"
      },
      "outputs": [],
      "source": [
        "categories.append(job_ranking)"
      ]
    },
    {
      "cell_type": "code",
      "execution_count": 28,
      "id": "247f4a10",
      "metadata": {
        "id": "247f4a10"
      },
      "outputs": [],
      "source": [
        "catenc =OrdinalEncoder(categories=categories)\n",
        "catenc.fit(cleaned_app_df[cat_features])\n",
        "df1[cat_features]=catenc.transform(cleaned_app_df[cat_features])"
      ]
    },
    {
      "cell_type": "markdown",
      "id": "f75f2e5a",
      "metadata": {
        "id": "f75f2e5a"
      },
      "source": [
        "We can normalise birthday,employment length,num_child and standarise income and CNT_FAM_MEMBERS "
      ]
    },
    {
      "cell_type": "code",
      "execution_count": 29,
      "id": "cbd1bb2a",
      "metadata": {
        "id": "cbd1bb2a"
      },
      "outputs": [],
      "source": [
        "from sklearn.preprocessing import MinMaxScaler,StandardScaler"
      ]
    },
    {
      "cell_type": "code",
      "execution_count": 30,
      "id": "a4d72b98",
      "metadata": {
        "id": "a4d72b98"
      },
      "outputs": [],
      "source": [
        "num_features = cleaned_app_df.columns[cleaned_app_df.dtypes != 'object'].to_list()\n",
        "num_features.remove('id')"
      ]
    },
    {
      "cell_type": "code",
      "execution_count": 31,
      "id": "170a6db3",
      "metadata": {
        "id": "170a6db3",
        "colab": {
          "base_uri": "https://localhost:8080/",
          "height": 424
        },
        "outputId": "ddf322ab-e7d3-4425-835e-09508384443c"
      },
      "outputs": [
        {
          "output_type": "execute_result",
          "data": {
            "text/plain": [
              "        num_child    income  birth_day  employment_length  work_phone  phone  \\\n",
              "0               0  427500.0     -12005              -4542           1      0   \n",
              "1               0  427500.0     -12005              -4542           1      0   \n",
              "2               0  112500.0     -21474              -1134           0      0   \n",
              "3               0  270000.0     -19110              -3051           0      1   \n",
              "4               0  270000.0     -19110              -3051           0      1   \n",
              "...           ...       ...        ...                ...         ...    ...   \n",
              "423317          0   90000.0     -13432              -5446           0      0   \n",
              "426434          2  135000.0     -12576              -4382           0      0   \n",
              "432885          0  180000.0      -9970               -119           0      0   \n",
              "421225          1  180000.0     -10630               -454           0      0   \n",
              "424339          1  157500.0     -15859              -3679           0      0   \n",
              "\n",
              "        email  CNT_FAM_MEMBERS  \n",
              "0           0              2.0  \n",
              "1           0              2.0  \n",
              "2           0              2.0  \n",
              "3           1              1.0  \n",
              "4           1              1.0  \n",
              "...       ...              ...  \n",
              "423317      0              1.0  \n",
              "426434      0              4.0  \n",
              "432885      0              2.0  \n",
              "421225      0              3.0  \n",
              "424339      0              3.0  \n",
              "\n",
              "[438510 rows x 8 columns]"
            ],
            "text/html": [
              "\n",
              "  <div id=\"df-a693291f-f8b5-4955-b66d-5bec24fb88c4\">\n",
              "    <div class=\"colab-df-container\">\n",
              "      <div>\n",
              "<style scoped>\n",
              "    .dataframe tbody tr th:only-of-type {\n",
              "        vertical-align: middle;\n",
              "    }\n",
              "\n",
              "    .dataframe tbody tr th {\n",
              "        vertical-align: top;\n",
              "    }\n",
              "\n",
              "    .dataframe thead th {\n",
              "        text-align: right;\n",
              "    }\n",
              "</style>\n",
              "<table border=\"1\" class=\"dataframe\">\n",
              "  <thead>\n",
              "    <tr style=\"text-align: right;\">\n",
              "      <th></th>\n",
              "      <th>num_child</th>\n",
              "      <th>income</th>\n",
              "      <th>birth_day</th>\n",
              "      <th>employment_length</th>\n",
              "      <th>work_phone</th>\n",
              "      <th>phone</th>\n",
              "      <th>email</th>\n",
              "      <th>CNT_FAM_MEMBERS</th>\n",
              "    </tr>\n",
              "  </thead>\n",
              "  <tbody>\n",
              "    <tr>\n",
              "      <th>0</th>\n",
              "      <td>0</td>\n",
              "      <td>427500.0</td>\n",
              "      <td>-12005</td>\n",
              "      <td>-4542</td>\n",
              "      <td>1</td>\n",
              "      <td>0</td>\n",
              "      <td>0</td>\n",
              "      <td>2.0</td>\n",
              "    </tr>\n",
              "    <tr>\n",
              "      <th>1</th>\n",
              "      <td>0</td>\n",
              "      <td>427500.0</td>\n",
              "      <td>-12005</td>\n",
              "      <td>-4542</td>\n",
              "      <td>1</td>\n",
              "      <td>0</td>\n",
              "      <td>0</td>\n",
              "      <td>2.0</td>\n",
              "    </tr>\n",
              "    <tr>\n",
              "      <th>2</th>\n",
              "      <td>0</td>\n",
              "      <td>112500.0</td>\n",
              "      <td>-21474</td>\n",
              "      <td>-1134</td>\n",
              "      <td>0</td>\n",
              "      <td>0</td>\n",
              "      <td>0</td>\n",
              "      <td>2.0</td>\n",
              "    </tr>\n",
              "    <tr>\n",
              "      <th>3</th>\n",
              "      <td>0</td>\n",
              "      <td>270000.0</td>\n",
              "      <td>-19110</td>\n",
              "      <td>-3051</td>\n",
              "      <td>0</td>\n",
              "      <td>1</td>\n",
              "      <td>1</td>\n",
              "      <td>1.0</td>\n",
              "    </tr>\n",
              "    <tr>\n",
              "      <th>4</th>\n",
              "      <td>0</td>\n",
              "      <td>270000.0</td>\n",
              "      <td>-19110</td>\n",
              "      <td>-3051</td>\n",
              "      <td>0</td>\n",
              "      <td>1</td>\n",
              "      <td>1</td>\n",
              "      <td>1.0</td>\n",
              "    </tr>\n",
              "    <tr>\n",
              "      <th>...</th>\n",
              "      <td>...</td>\n",
              "      <td>...</td>\n",
              "      <td>...</td>\n",
              "      <td>...</td>\n",
              "      <td>...</td>\n",
              "      <td>...</td>\n",
              "      <td>...</td>\n",
              "      <td>...</td>\n",
              "    </tr>\n",
              "    <tr>\n",
              "      <th>423317</th>\n",
              "      <td>0</td>\n",
              "      <td>90000.0</td>\n",
              "      <td>-13432</td>\n",
              "      <td>-5446</td>\n",
              "      <td>0</td>\n",
              "      <td>0</td>\n",
              "      <td>0</td>\n",
              "      <td>1.0</td>\n",
              "    </tr>\n",
              "    <tr>\n",
              "      <th>426434</th>\n",
              "      <td>2</td>\n",
              "      <td>135000.0</td>\n",
              "      <td>-12576</td>\n",
              "      <td>-4382</td>\n",
              "      <td>0</td>\n",
              "      <td>0</td>\n",
              "      <td>0</td>\n",
              "      <td>4.0</td>\n",
              "    </tr>\n",
              "    <tr>\n",
              "      <th>432885</th>\n",
              "      <td>0</td>\n",
              "      <td>180000.0</td>\n",
              "      <td>-9970</td>\n",
              "      <td>-119</td>\n",
              "      <td>0</td>\n",
              "      <td>0</td>\n",
              "      <td>0</td>\n",
              "      <td>2.0</td>\n",
              "    </tr>\n",
              "    <tr>\n",
              "      <th>421225</th>\n",
              "      <td>1</td>\n",
              "      <td>180000.0</td>\n",
              "      <td>-10630</td>\n",
              "      <td>-454</td>\n",
              "      <td>0</td>\n",
              "      <td>0</td>\n",
              "      <td>0</td>\n",
              "      <td>3.0</td>\n",
              "    </tr>\n",
              "    <tr>\n",
              "      <th>424339</th>\n",
              "      <td>1</td>\n",
              "      <td>157500.0</td>\n",
              "      <td>-15859</td>\n",
              "      <td>-3679</td>\n",
              "      <td>0</td>\n",
              "      <td>0</td>\n",
              "      <td>0</td>\n",
              "      <td>3.0</td>\n",
              "    </tr>\n",
              "  </tbody>\n",
              "</table>\n",
              "<p>438510 rows × 8 columns</p>\n",
              "</div>\n",
              "      <button class=\"colab-df-convert\" onclick=\"convertToInteractive('df-a693291f-f8b5-4955-b66d-5bec24fb88c4')\"\n",
              "              title=\"Convert this dataframe to an interactive table.\"\n",
              "              style=\"display:none;\">\n",
              "        \n",
              "  <svg xmlns=\"http://www.w3.org/2000/svg\" height=\"24px\"viewBox=\"0 0 24 24\"\n",
              "       width=\"24px\">\n",
              "    <path d=\"M0 0h24v24H0V0z\" fill=\"none\"/>\n",
              "    <path d=\"M18.56 5.44l.94 2.06.94-2.06 2.06-.94-2.06-.94-.94-2.06-.94 2.06-2.06.94zm-11 1L8.5 8.5l.94-2.06 2.06-.94-2.06-.94L8.5 2.5l-.94 2.06-2.06.94zm10 10l.94 2.06.94-2.06 2.06-.94-2.06-.94-.94-2.06-.94 2.06-2.06.94z\"/><path d=\"M17.41 7.96l-1.37-1.37c-.4-.4-.92-.59-1.43-.59-.52 0-1.04.2-1.43.59L10.3 9.45l-7.72 7.72c-.78.78-.78 2.05 0 2.83L4 21.41c.39.39.9.59 1.41.59.51 0 1.02-.2 1.41-.59l7.78-7.78 2.81-2.81c.8-.78.8-2.07 0-2.86zM5.41 20L4 18.59l7.72-7.72 1.47 1.35L5.41 20z\"/>\n",
              "  </svg>\n",
              "      </button>\n",
              "      \n",
              "  <style>\n",
              "    .colab-df-container {\n",
              "      display:flex;\n",
              "      flex-wrap:wrap;\n",
              "      gap: 12px;\n",
              "    }\n",
              "\n",
              "    .colab-df-convert {\n",
              "      background-color: #E8F0FE;\n",
              "      border: none;\n",
              "      border-radius: 50%;\n",
              "      cursor: pointer;\n",
              "      display: none;\n",
              "      fill: #1967D2;\n",
              "      height: 32px;\n",
              "      padding: 0 0 0 0;\n",
              "      width: 32px;\n",
              "    }\n",
              "\n",
              "    .colab-df-convert:hover {\n",
              "      background-color: #E2EBFA;\n",
              "      box-shadow: 0px 1px 2px rgba(60, 64, 67, 0.3), 0px 1px 3px 1px rgba(60, 64, 67, 0.15);\n",
              "      fill: #174EA6;\n",
              "    }\n",
              "\n",
              "    [theme=dark] .colab-df-convert {\n",
              "      background-color: #3B4455;\n",
              "      fill: #D2E3FC;\n",
              "    }\n",
              "\n",
              "    [theme=dark] .colab-df-convert:hover {\n",
              "      background-color: #434B5C;\n",
              "      box-shadow: 0px 1px 3px 1px rgba(0, 0, 0, 0.15);\n",
              "      filter: drop-shadow(0px 1px 2px rgba(0, 0, 0, 0.3));\n",
              "      fill: #FFFFFF;\n",
              "    }\n",
              "  </style>\n",
              "\n",
              "      <script>\n",
              "        const buttonEl =\n",
              "          document.querySelector('#df-a693291f-f8b5-4955-b66d-5bec24fb88c4 button.colab-df-convert');\n",
              "        buttonEl.style.display =\n",
              "          google.colab.kernel.accessAllowed ? 'block' : 'none';\n",
              "\n",
              "        async function convertToInteractive(key) {\n",
              "          const element = document.querySelector('#df-a693291f-f8b5-4955-b66d-5bec24fb88c4');\n",
              "          const dataTable =\n",
              "            await google.colab.kernel.invokeFunction('convertToInteractive',\n",
              "                                                     [key], {});\n",
              "          if (!dataTable) return;\n",
              "\n",
              "          const docLinkHtml = 'Like what you see? Visit the ' +\n",
              "            '<a target=\"_blank\" href=https://colab.research.google.com/notebooks/data_table.ipynb>data table notebook</a>'\n",
              "            + ' to learn more about interactive tables.';\n",
              "          element.innerHTML = '';\n",
              "          dataTable['output_type'] = 'display_data';\n",
              "          await google.colab.output.renderOutput(dataTable, element);\n",
              "          const docLink = document.createElement('div');\n",
              "          docLink.innerHTML = docLinkHtml;\n",
              "          element.appendChild(docLink);\n",
              "        }\n",
              "      </script>\n",
              "    </div>\n",
              "  </div>\n",
              "  "
            ]
          },
          "metadata": {},
          "execution_count": 31
        }
      ],
      "source": [
        "cleaned_app_df[num_features]"
      ]
    },
    {
      "cell_type": "code",
      "execution_count": 32,
      "id": "3cb00755",
      "metadata": {
        "id": "3cb00755"
      },
      "outputs": [],
      "source": [
        "std_feature=[\"income\",\"CNT_FAM_MEMBERS\"]"
      ]
    },
    {
      "cell_type": "code",
      "execution_count": 33,
      "id": "237dc802",
      "metadata": {
        "id": "237dc802"
      },
      "outputs": [],
      "source": [
        "for i in std_feature:\n",
        "    num_features.remove(i)\n",
        "norm_features=std_feature.copy()"
      ]
    },
    {
      "cell_type": "code",
      "execution_count": 34,
      "id": "ff9eea27",
      "metadata": {
        "id": "ff9eea27"
      },
      "outputs": [],
      "source": [
        "norm=MinMaxScaler()\n",
        "norm.fit(cleaned_app_df[norm_features])\n",
        "df1[norm_features]=norm.transform(cleaned_app_df[norm_features])"
      ]
    },
    {
      "cell_type": "code",
      "execution_count": 35,
      "id": "b5c0fdb7",
      "metadata": {
        "id": "b5c0fdb7"
      },
      "outputs": [],
      "source": [
        "std=StandardScaler()\n",
        "std.fit(cleaned_app_df[std_feature])\n",
        "df1[std_feature]=std.transform(cleaned_app_df[std_feature])"
      ]
    },
    {
      "cell_type": "code",
      "execution_count": 36,
      "id": "a8a2e46d",
      "metadata": {
        "id": "a8a2e46d"
      },
      "outputs": [],
      "source": [
        "from sklearn.linear_model import LogisticRegression\n",
        "from sklearn.model_selection import  KFold, cross_val_score\n",
        "from sklearn.metrics import roc_auc_score"
      ]
    },
    {
      "cell_type": "code",
      "execution_count": 37,
      "id": "57d497f5",
      "metadata": {
        "id": "57d497f5"
      },
      "outputs": [],
      "source": [
        "def kf_cross_val(model, X, y): \n",
        "    scores = []\n",
        "    kf = KFold(n_splits=5, shuffle=True, random_state=42)\n",
        "    for fold, (train_index, test_index) in enumerate(kf.split(X, y)):\n",
        "        x_train = X.iloc[train_index]\n",
        "        y_train = y.loc[train_index]\n",
        "        x_test = X.loc[test_index]\n",
        "        y_test = y.loc[test_index]\n",
        "        model.fit(x_train,y_train)\n",
        "        y_pred = model.predict_proba(x_test)[:,1]     \n",
        "        scores.append(roc_auc_score(y_test,y_pred))       \n",
        "    return scores"
      ]
    },
    {
      "cell_type": "code",
      "source": [
        "training_df=label_df.merge(df1,how=\"inner\").drop(\"id\",axis=1)"
      ],
      "metadata": {
        "id": "miNNCetDGGDf"
      },
      "id": "miNNCetDGGDf",
      "execution_count": 38,
      "outputs": []
    },
    {
      "cell_type": "code",
      "execution_count": 39,
      "id": "29fbf5f2",
      "metadata": {
        "id": "29fbf5f2"
      },
      "outputs": [],
      "source": [
        "X_train=training_df[training_df.columns.difference(['label'])]\n",
        "y_train=training_df[\"label\"].copy()"
      ]
    },
    {
      "cell_type": "code",
      "execution_count": 40,
      "id": "06a731e3",
      "metadata": {
        "id": "06a731e3",
        "colab": {
          "base_uri": "https://localhost:8080/"
        },
        "outputId": "876e9419-9e48-4934-f512-806bc7a1ae17"
      },
      "outputs": [
        {
          "output_type": "stream",
          "name": "stdout",
          "text": [
            "L2 Regularization: 0.51966 (0.00326)\n",
            "No Regularization: 0.51965 (0.00326)\n"
          ]
        }
      ],
      "source": [
        "lr = LogisticRegression(max_iter=2000, random_state=random_state)\n",
        "lr_score = kf_cross_val(lr, X_train, y_train)\n",
        "print(f\"L2 Regularization: {round(np.mean(lr_score),5)} ({round(np.std(lr_score),5)})\")\n",
        "\n",
        "lr = LogisticRegression(max_iter=2000, penalty='none', random_state=random_state)\n",
        "lr_score = kf_cross_val(lr, X_train, y_train)\n",
        "print(f\"No Regularization: {round(np.mean(lr_score),5)} ({round(np.std(lr_score),5)})\")"
      ]
    },
    {
      "cell_type": "markdown",
      "id": "672386ea",
      "metadata": {
        "id": "672386ea"
      },
      "source": [
        "It seems logistic Regression is no better than guessing due to the ordinal features in the dataset"
      ]
    },
    {
      "cell_type": "markdown",
      "source": [
        "Using Synthetic Minority Over-Sampling Technique(SMOTE) to overcome sample imbalance problem."
      ],
      "metadata": {
        "id": "vcFF3IAnRwj3"
      },
      "id": "vcFF3IAnRwj3"
    },
    {
      "cell_type": "code",
      "source": [
        "from imblearn.over_sampling import SMOTE"
      ],
      "metadata": {
        "id": "W2c7ycaDR70Z"
      },
      "id": "W2c7ycaDR70Z",
      "execution_count": 41,
      "outputs": []
    },
    {
      "cell_type": "code",
      "source": [
        "X=training_df[training_df.columns.difference([\"label\"])]\n",
        "Y=training_df[\"label\"]"
      ],
      "metadata": {
        "id": "dIk-qE7oSAxF"
      },
      "id": "dIk-qE7oSAxF",
      "execution_count": 42,
      "outputs": []
    },
    {
      "cell_type": "code",
      "source": [
        "Y = Y.astype('int')\n",
        "X_balance,Y_balance = SMOTE().fit_resample(X,Y)\n",
        "X_balance = pd.DataFrame(X_balance, columns = X.columns)"
      ],
      "metadata": {
        "id": "Ky0vKXg2Rwb1"
      },
      "id": "Ky0vKXg2Rwb1",
      "execution_count": 43,
      "outputs": []
    },
    {
      "cell_type": "code",
      "source": [
        "lr = LogisticRegression(max_iter=2000, random_state=random_state)\n",
        "lr_score = kf_cross_val(lr,X_balance, Y_balance)\n",
        "print(f\"L2 Regularization: {round(np.mean(lr_score),5)} ({round(np.std(lr_score),5)})\")\n",
        "\n",
        "lr = LogisticRegression(max_iter=2000, penalty='none', random_state=random_state)\n",
        "lr_score = kf_cross_val(lr, X_balance, Y_balance)\n",
        "print(f\"No Regularization: {round(np.mean(lr_score),5)} ({round(np.std(lr_score),5)})\")"
      ],
      "metadata": {
        "id": "9Vj-9TylSHoE",
        "outputId": "198ceccd-5806-4c59-c4dd-90eddbfe0a55",
        "colab": {
          "base_uri": "https://localhost:8080/"
        }
      },
      "id": "9Vj-9TylSHoE",
      "execution_count": 44,
      "outputs": [
        {
          "output_type": "stream",
          "name": "stdout",
          "text": [
            "L2 Regularization: 0.55488 (0.045)\n",
            "No Regularization: 0.55488 (0.045)\n"
          ]
        }
      ]
    },
    {
      "cell_type": "markdown",
      "source": [
        "Does a bit better!"
      ],
      "metadata": {
        "id": "ZiBiaVxuSQfz"
      },
      "id": "ZiBiaVxuSQfz"
    },
    {
      "cell_type": "code",
      "source": [
        "from pandas.api.types import is_string_dtype, is_numeric_dtype, is_categorical_dtype\n",
        "from sklearn.model_selection import ShuffleSplit\n",
        "from fastai.tabular.all import *\n",
        "from sklearn.model_selection import KFold"
      ],
      "metadata": {
        "id": "72z3c3jMIzVZ"
      },
      "id": "72z3c3jMIzVZ",
      "execution_count": 45,
      "outputs": []
    },
    {
      "cell_type": "code",
      "source": [
        "df_nn=label_df.merge(cleaned_app_df,how=\"inner\")"
      ],
      "metadata": {
        "id": "aVSGwbRoHLs8"
      },
      "id": "aVSGwbRoHLs8",
      "execution_count": 46,
      "outputs": []
    },
    {
      "cell_type": "code",
      "source": [
        "df_nn_final=df_nn.drop(\"id\",axis=1)"
      ],
      "metadata": {
        "id": "ZEu51Hh-LyC5"
      },
      "id": "ZEu51Hh-LyC5",
      "execution_count": 47,
      "outputs": []
    },
    {
      "cell_type": "code",
      "execution_count": 48,
      "id": "db605ac0",
      "metadata": {
        "id": "db605ac0"
      },
      "outputs": [],
      "source": [
        "cont_nn,cat_nn = cont_cat_split(df_nn_final, max_card=1000, dep_var=dep_var)"
      ]
    },
    {
      "cell_type": "code",
      "source": [
        "sss = ShuffleSplit(n_splits=1, test_size=0.2)\n",
        "train_idx, valid_idx = next(sss.split(train_df))\n",
        "splits = (list(train_idx),list(valid_idx))"
      ],
      "metadata": {
        "id": "OPi_3D8PNUsR"
      },
      "id": "OPi_3D8PNUsR",
      "execution_count": 49,
      "outputs": []
    },
    {
      "cell_type": "code",
      "source": [
        "procs_nn = [Categorify, Normalize]\n",
        "to_nn = TabularPandas(df_nn_final, procs_nn, cat_nn, cont_nn,\n",
        "                      splits=splits, y_names=dep_var)"
      ],
      "metadata": {
        "id": "fyZWDaD6I76o"
      },
      "id": "fyZWDaD6I76o",
      "execution_count": 50,
      "outputs": []
    },
    {
      "cell_type": "code",
      "source": [
        "dls = to_nn.dataloaders(1024)"
      ],
      "metadata": {
        "id": "6k2iPcwAIp1u"
      },
      "id": "6k2iPcwAIp1u",
      "execution_count": 51,
      "outputs": []
    },
    {
      "cell_type": "code",
      "source": [
        "df_nn_final[cat_nn].nunique()"
      ],
      "metadata": {
        "colab": {
          "base_uri": "https://localhost:8080/"
        },
        "id": "N17NFVQlGXRf",
        "outputId": "a64a3975-bf88-4114-ea79-1b042411a8b6"
      },
      "id": "N17NFVQlGXRf",
      "execution_count": 52,
      "outputs": [
        {
          "output_type": "execute_result",
          "data": {
            "text/plain": [
              "gender              2\n",
              "own_car             2\n",
              "own_realty          2\n",
              "num_child           9\n",
              "income_type         5\n",
              "education_level     5\n",
              "family_status       5\n",
              "house_type          6\n",
              "work_phone          2\n",
              "phone               2\n",
              "email               2\n",
              "job                19\n",
              "dtype: int64"
            ]
          },
          "metadata": {},
          "execution_count": 52
        }
      ]
    },
    {
      "cell_type": "code",
      "source": [
        "y = to_nn.train.y"
      ],
      "metadata": {
        "id": "QCnOXmvpGpJH"
      },
      "id": "QCnOXmvpGpJH",
      "execution_count": 53,
      "outputs": []
    },
    {
      "cell_type": "code",
      "source": [
        "learn = tabular_learner(dls, layers=[500,250],loss_func=BCEWithLogitsLossFlat(),metrics=[accuracy,F1Score(),HammingLoss()])"
      ],
      "metadata": {
        "id": "5ACpHyp5H3qX"
      },
      "id": "5ACpHyp5H3qX",
      "execution_count": 54,
      "outputs": []
    },
    {
      "cell_type": "code",
      "source": [
        "learn.lr_find()"
      ],
      "metadata": {
        "colab": {
          "base_uri": "https://localhost:8080/",
          "height": 300
        },
        "id": "e0zCmKQ-IRhv",
        "outputId": "171587e4-6aef-4ada-f472-947b77f24b54"
      },
      "id": "e0zCmKQ-IRhv",
      "execution_count": 55,
      "outputs": [
        {
          "output_type": "display_data",
          "data": {
            "text/plain": [
              "<IPython.core.display.HTML object>"
            ],
            "text/html": [
              "\n",
              "<style>\n",
              "    /* Turns off some styling */\n",
              "    progress {\n",
              "        /* gets rid of default border in Firefox and Opera. */\n",
              "        border: none;\n",
              "        /* Needs to be in here for Safari polyfill so background images work as expected. */\n",
              "        background-size: auto;\n",
              "    }\n",
              "    progress:not([value]), progress:not([value])::-webkit-progress-bar {\n",
              "        background: repeating-linear-gradient(45deg, #7e7e7e, #7e7e7e 10px, #5c5c5c 10px, #5c5c5c 20px);\n",
              "    }\n",
              "    .progress-bar-interrupted, .progress-bar-interrupted::-webkit-progress-bar {\n",
              "        background: #F44336;\n",
              "    }\n",
              "</style>\n"
            ]
          },
          "metadata": {}
        },
        {
          "output_type": "display_data",
          "data": {
            "text/plain": [
              "<IPython.core.display.HTML object>"
            ],
            "text/html": []
          },
          "metadata": {}
        },
        {
          "output_type": "execute_result",
          "data": {
            "text/plain": [
              "SuggestedLRs(valley=0.0010000000474974513)"
            ]
          },
          "metadata": {},
          "execution_count": 55
        },
        {
          "output_type": "display_data",
          "data": {
            "text/plain": [
              "<Figure size 432x288 with 1 Axes>"
            ],
            "image/png": "[encoded data removed]"
          },
          "metadata": {
            "needs_background": "light"
          }
        }
      ]
    },
    {
      "cell_type": "code",
      "source": [
        "learn.fit_one_cycle(5, 2e-2)  "
      ],
      "metadata": {
        "colab": {
          "base_uri": "https://localhost:8080/",
          "height": 206
        },
        "id": "r-0uB0qPJFJ3",
        "outputId": "efdd1b90-7035-4139-ac12-ba793261439a"
      },
      "id": "r-0uB0qPJFJ3",
      "execution_count": 56,
      "outputs": [
        {
          "output_type": "display_data",
          "data": {
            "text/plain": [
              "<IPython.core.display.HTML object>"
            ],
            "text/html": [
              "\n",
              "<style>\n",
              "    /* Turns off some styling */\n",
              "    progress {\n",
              "        /* gets rid of default border in Firefox and Opera. */\n",
              "        border: none;\n",
              "        /* Needs to be in here for Safari polyfill so background images work as expected. */\n",
              "        background-size: auto;\n",
              "    }\n",
              "    progress:not([value]), progress:not([value])::-webkit-progress-bar {\n",
              "        background: repeating-linear-gradient(45deg, #7e7e7e, #7e7e7e 10px, #5c5c5c 10px, #5c5c5c 20px);\n",
              "    }\n",
              "    .progress-bar-interrupted, .progress-bar-interrupted::-webkit-progress-bar {\n",
              "        background: #F44336;\n",
              "    }\n",
              "</style>\n"
            ]
          },
          "metadata": {}
        },
        {
          "output_type": "display_data",
          "data": {
            "text/plain": [
              "<IPython.core.display.HTML object>"
            ],
            "text/html": [
              "<table border=\"1\" class=\"dataframe\">\n",
              "  <thead>\n",
              "    <tr style=\"text-align: left;\">\n",
              "      <th>epoch</th>\n",
              "      <th>train_loss</th>\n",
              "      <th>valid_loss</th>\n",
              "      <th>accuracy</th>\n",
              "      <th>f1_score</th>\n",
              "      <th>hamming_loss</th>\n",
              "      <th>time</th>\n",
              "    </tr>\n",
              "  </thead>\n",
              "  <tbody>\n",
              "    <tr>\n",
              "      <td>0</td>\n",
              "      <td>0.562253</td>\n",
              "      <td>0.357402</td>\n",
              "      <td>0.114920</td>\n",
              "      <td>0.000000</td>\n",
              "      <td>0.885080</td>\n",
              "      <td>00:01</td>\n",
              "    </tr>\n",
              "    <tr>\n",
              "      <td>1</td>\n",
              "      <td>0.441939</td>\n",
              "      <td>0.357537</td>\n",
              "      <td>0.114920</td>\n",
              "      <td>0.000000</td>\n",
              "      <td>0.885080</td>\n",
              "      <td>00:01</td>\n",
              "    </tr>\n",
              "    <tr>\n",
              "      <td>2</td>\n",
              "      <td>0.398355</td>\n",
              "      <td>0.351245</td>\n",
              "      <td>0.114920</td>\n",
              "      <td>0.000000</td>\n",
              "      <td>0.885080</td>\n",
              "      <td>00:01</td>\n",
              "    </tr>\n",
              "    <tr>\n",
              "      <td>3</td>\n",
              "      <td>0.373924</td>\n",
              "      <td>0.346309</td>\n",
              "      <td>0.114920</td>\n",
              "      <td>0.000000</td>\n",
              "      <td>0.885080</td>\n",
              "      <td>00:02</td>\n",
              "    </tr>\n",
              "    <tr>\n",
              "      <td>4</td>\n",
              "      <td>0.358695</td>\n",
              "      <td>0.346785</td>\n",
              "      <td>0.114920</td>\n",
              "      <td>0.000000</td>\n",
              "      <td>0.885080</td>\n",
              "      <td>00:01</td>\n",
              "    </tr>\n",
              "  </tbody>\n",
              "</table>"
            ]
          },
          "metadata": {}
        }
      ]
    },
    {
      "cell_type": "markdown",
      "source": [
        "It seems that our model does better than a naive guess at statistically insiginificant level"
      ],
      "metadata": {
        "id": "2zhoiqZZbSNd"
      },
      "id": "2zhoiqZZbSNd"
    },
    {
      "cell_type": "markdown",
      "source": [
        "It might be due to poor train test spliting. Lets try Kfolds"
      ],
      "metadata": {
        "id": "ImeBVZCdbm1b"
      },
      "id": "ImeBVZCdbm1b"
    },
    {
      "cell_type": "code",
      "source": [
        "kf=KFold(n_splits=5, shuffle=True, random_state=random_state)"
      ],
      "metadata": {
        "id": "tcLnpU1ObdtF"
      },
      "id": "tcLnpU1ObdtF",
      "execution_count": 57,
      "outputs": []
    },
    {
      "cell_type": "code",
      "source": [
        "fold=1\n",
        "for train_index, test_index in kf.split(df_nn_final):\n",
        "  s=(list(train_index), list(test_index))\n",
        "  to_nn = TabularPandas(df_nn_final, procs_nn, cat_nn, cont_nn,\n",
        "                      splits=s, y_names=dep_var)\n",
        "  dls = to_nn.dataloaders(1024)\n",
        "  y = to_nn.train.y\n",
        "  learn = tabular_learner(dls, layers=[500,250],loss_func=BCEWithLogitsLossFlat())\n",
        "  learn.fit_one_cycle(5, 1e-2)  \n",
        "  preds,targs = learn.get_preds()\n",
        "  print(f\"Accuracy of fold {fold}\\n\")\n",
        "  print(hamming_distance_accuracy(preds, np.array(targs)).item())\n",
        "  fold+=1"
      ],
      "metadata": {
        "id": "HchP_6Awb8yF",
        "outputId": "34d77b71-0071-43ba-d369-e7b2ab1f8cd9",
        "colab": {
          "base_uri": "https://localhost:8080/",
          "height": 1000
        }
      },
      "id": "HchP_6Awb8yF",
      "execution_count": 58,
      "outputs": [
        {
          "output_type": "display_data",
          "data": {
            "text/plain": [
              "<IPython.core.display.HTML object>"
            ],
            "text/html": [
              "\n",
              "<style>\n",
              "    /* Turns off some styling */\n",
              "    progress {\n",
              "        /* gets rid of default border in Firefox and Opera. */\n",
              "        border: none;\n",
              "        /* Needs to be in here for Safari polyfill so background images work as expected. */\n",
              "        background-size: auto;\n",
              "    }\n",
              "    progress:not([value]), progress:not([value])::-webkit-progress-bar {\n",
              "        background: repeating-linear-gradient(45deg, #7e7e7e, #7e7e7e 10px, #5c5c5c 10px, #5c5c5c 20px);\n",
              "    }\n",
              "    .progress-bar-interrupted, .progress-bar-interrupted::-webkit-progress-bar {\n",
              "        background: #F44336;\n",
              "    }\n",
              "</style>\n"
            ]
          },
          "metadata": {}
        },
        {
          "output_type": "display_data",
          "data": {
            "text/plain": [
              "<IPython.core.display.HTML object>"
            ],
            "text/html": [
              "<table border=\"1\" class=\"dataframe\">\n",
              "  <thead>\n",
              "    <tr style=\"text-align: left;\">\n",
              "      <th>epoch</th>\n",
              "      <th>train_loss</th>\n",
              "      <th>valid_loss</th>\n",
              "      <th>time</th>\n",
              "    </tr>\n",
              "  </thead>\n",
              "  <tbody>\n",
              "    <tr>\n",
              "      <td>0</td>\n",
              "      <td>0.621177</td>\n",
              "      <td>0.420504</td>\n",
              "      <td>00:01</td>\n",
              "    </tr>\n",
              "    <tr>\n",
              "      <td>1</td>\n",
              "      <td>0.462502</td>\n",
              "      <td>0.369883</td>\n",
              "      <td>00:01</td>\n",
              "    </tr>\n",
              "    <tr>\n",
              "      <td>2</td>\n",
              "      <td>0.407654</td>\n",
              "      <td>0.361498</td>\n",
              "      <td>00:01</td>\n",
              "    </tr>\n",
              "    <tr>\n",
              "      <td>3</td>\n",
              "      <td>0.379240</td>\n",
              "      <td>0.355414</td>\n",
              "      <td>00:01</td>\n",
              "    </tr>\n",
              "    <tr>\n",
              "      <td>4</td>\n",
              "      <td>0.361253</td>\n",
              "      <td>0.353858</td>\n",
              "      <td>00:01</td>\n",
              "    </tr>\n",
              "  </tbody>\n",
              "</table>"
            ]
          },
          "metadata": {}
        },
        {
          "output_type": "display_data",
          "data": {
            "text/plain": [
              "<IPython.core.display.HTML object>"
            ],
            "text/html": [
              "\n",
              "<style>\n",
              "    /* Turns off some styling */\n",
              "    progress {\n",
              "        /* gets rid of default border in Firefox and Opera. */\n",
              "        border: none;\n",
              "        /* Needs to be in here for Safari polyfill so background images work as expected. */\n",
              "        background-size: auto;\n",
              "    }\n",
              "    progress:not([value]), progress:not([value])::-webkit-progress-bar {\n",
              "        background: repeating-linear-gradient(45deg, #7e7e7e, #7e7e7e 10px, #5c5c5c 10px, #5c5c5c 20px);\n",
              "    }\n",
              "    .progress-bar-interrupted, .progress-bar-interrupted::-webkit-progress-bar {\n",
              "        background: #F44336;\n",
              "    }\n",
              "</style>\n"
            ]
          },
          "metadata": {}
        },
        {
          "output_type": "display_data",
          "data": {
            "text/plain": [
              "<IPython.core.display.HTML object>"
            ],
            "text/html": []
          },
          "metadata": {}
        },
        {
          "output_type": "stream",
          "name": "stdout",
          "text": [
            "Accuracy of fold 1\n",
            "\n",
            "0.8821996708721886\n"
          ]
        },
        {
          "output_type": "display_data",
          "data": {
            "text/plain": [
              "<IPython.core.display.HTML object>"
            ],
            "text/html": [
              "\n",
              "<style>\n",
              "    /* Turns off some styling */\n",
              "    progress {\n",
              "        /* gets rid of default border in Firefox and Opera. */\n",
              "        border: none;\n",
              "        /* Needs to be in here for Safari polyfill so background images work as expected. */\n",
              "        background-size: auto;\n",
              "    }\n",
              "    progress:not([value]), progress:not([value])::-webkit-progress-bar {\n",
              "        background: repeating-linear-gradient(45deg, #7e7e7e, #7e7e7e 10px, #5c5c5c 10px, #5c5c5c 20px);\n",
              "    }\n",
              "    .progress-bar-interrupted, .progress-bar-interrupted::-webkit-progress-bar {\n",
              "        background: #F44336;\n",
              "    }\n",
              "</style>\n"
            ]
          },
          "metadata": {}
        },
        {
          "output_type": "display_data",
          "data": {
            "text/plain": [
              "<IPython.core.display.HTML object>"
            ],
            "text/html": [
              "<table border=\"1\" class=\"dataframe\">\n",
              "  <thead>\n",
              "    <tr style=\"text-align: left;\">\n",
              "      <th>epoch</th>\n",
              "      <th>train_loss</th>\n",
              "      <th>valid_loss</th>\n",
              "      <th>time</th>\n",
              "    </tr>\n",
              "  </thead>\n",
              "  <tbody>\n",
              "    <tr>\n",
              "      <td>0</td>\n",
              "      <td>0.604006</td>\n",
              "      <td>0.410476</td>\n",
              "      <td>00:01</td>\n",
              "    </tr>\n",
              "    <tr>\n",
              "      <td>1</td>\n",
              "      <td>0.458691</td>\n",
              "      <td>0.375348</td>\n",
              "      <td>00:01</td>\n",
              "    </tr>\n",
              "    <tr>\n",
              "      <td>2</td>\n",
              "      <td>0.406019</td>\n",
              "      <td>0.365688</td>\n",
              "      <td>00:01</td>\n",
              "    </tr>\n",
              "    <tr>\n",
              "      <td>3</td>\n",
              "      <td>0.379058</td>\n",
              "      <td>0.355795</td>\n",
              "      <td>00:01</td>\n",
              "    </tr>\n",
              "    <tr>\n",
              "      <td>4</td>\n",
              "      <td>0.361902</td>\n",
              "      <td>0.353431</td>\n",
              "      <td>00:01</td>\n",
              "    </tr>\n",
              "  </tbody>\n",
              "</table>"
            ]
          },
          "metadata": {}
        },
        {
          "output_type": "display_data",
          "data": {
            "text/plain": [
              "<IPython.core.display.HTML object>"
            ],
            "text/html": [
              "\n",
              "<style>\n",
              "    /* Turns off some styling */\n",
              "    progress {\n",
              "        /* gets rid of default border in Firefox and Opera. */\n",
              "        border: none;\n",
              "        /* Needs to be in here for Safari polyfill so background images work as expected. */\n",
              "        background-size: auto;\n",
              "    }\n",
              "    progress:not([value]), progress:not([value])::-webkit-progress-bar {\n",
              "        background: repeating-linear-gradient(45deg, #7e7e7e, #7e7e7e 10px, #5c5c5c 10px, #5c5c5c 20px);\n",
              "    }\n",
              "    .progress-bar-interrupted, .progress-bar-interrupted::-webkit-progress-bar {\n",
              "        background: #F44336;\n",
              "    }\n",
              "</style>\n"
            ]
          },
          "metadata": {}
        },
        {
          "output_type": "display_data",
          "data": {
            "text/plain": [
              "<IPython.core.display.HTML object>"
            ],
            "text/html": []
          },
          "metadata": {}
        },
        {
          "output_type": "stream",
          "name": "stdout",
          "text": [
            "Accuracy of fold 2\n",
            "\n",
            "0.8830224904004389\n"
          ]
        },
        {
          "output_type": "display_data",
          "data": {
            "text/plain": [
              "<IPython.core.display.HTML object>"
            ],
            "text/html": [
              "\n",
              "<style>\n",
              "    /* Turns off some styling */\n",
              "    progress {\n",
              "        /* gets rid of default border in Firefox and Opera. */\n",
              "        border: none;\n",
              "        /* Needs to be in here for Safari polyfill so background images work as expected. */\n",
              "        background-size: auto;\n",
              "    }\n",
              "    progress:not([value]), progress:not([value])::-webkit-progress-bar {\n",
              "        background: repeating-linear-gradient(45deg, #7e7e7e, #7e7e7e 10px, #5c5c5c 10px, #5c5c5c 20px);\n",
              "    }\n",
              "    .progress-bar-interrupted, .progress-bar-interrupted::-webkit-progress-bar {\n",
              "        background: #F44336;\n",
              "    }\n",
              "</style>\n"
            ]
          },
          "metadata": {}
        },
        {
          "output_type": "display_data",
          "data": {
            "text/plain": [
              "<IPython.core.display.HTML object>"
            ],
            "text/html": [
              "<table border=\"1\" class=\"dataframe\">\n",
              "  <thead>\n",
              "    <tr style=\"text-align: left;\">\n",
              "      <th>epoch</th>\n",
              "      <th>train_loss</th>\n",
              "      <th>valid_loss</th>\n",
              "      <th>time</th>\n",
              "    </tr>\n",
              "  </thead>\n",
              "  <tbody>\n",
              "    <tr>\n",
              "      <td>0</td>\n",
              "      <td>0.604936</td>\n",
              "      <td>0.407361</td>\n",
              "      <td>00:01</td>\n",
              "    </tr>\n",
              "    <tr>\n",
              "      <td>1</td>\n",
              "      <td>0.461447</td>\n",
              "      <td>0.372035</td>\n",
              "      <td>00:01</td>\n",
              "    </tr>\n",
              "    <tr>\n",
              "      <td>2</td>\n",
              "      <td>0.407372</td>\n",
              "      <td>0.371289</td>\n",
              "      <td>00:01</td>\n",
              "    </tr>\n",
              "    <tr>\n",
              "      <td>3</td>\n",
              "      <td>0.379053</td>\n",
              "      <td>0.362310</td>\n",
              "      <td>00:01</td>\n",
              "    </tr>\n",
              "    <tr>\n",
              "      <td>4</td>\n",
              "      <td>0.361835</td>\n",
              "      <td>0.360958</td>\n",
              "      <td>00:01</td>\n",
              "    </tr>\n",
              "  </tbody>\n",
              "</table>"
            ]
          },
          "metadata": {}
        },
        {
          "output_type": "display_data",
          "data": {
            "text/plain": [
              "<IPython.core.display.HTML object>"
            ],
            "text/html": [
              "\n",
              "<style>\n",
              "    /* Turns off some styling */\n",
              "    progress {\n",
              "        /* gets rid of default border in Firefox and Opera. */\n",
              "        border: none;\n",
              "        /* Needs to be in here for Safari polyfill so background images work as expected. */\n",
              "        background-size: auto;\n",
              "    }\n",
              "    progress:not([value]), progress:not([value])::-webkit-progress-bar {\n",
              "        background: repeating-linear-gradient(45deg, #7e7e7e, #7e7e7e 10px, #5c5c5c 10px, #5c5c5c 20px);\n",
              "    }\n",
              "    .progress-bar-interrupted, .progress-bar-interrupted::-webkit-progress-bar {\n",
              "        background: #F44336;\n",
              "    }\n",
              "</style>\n"
            ]
          },
          "metadata": {}
        },
        {
          "output_type": "display_data",
          "data": {
            "text/plain": [
              "<IPython.core.display.HTML object>"
            ],
            "text/html": []
          },
          "metadata": {}
        },
        {
          "output_type": "stream",
          "name": "stdout",
          "text": [
            "Accuracy of fold 3\n",
            "\n",
            "0.8799890275682348\n"
          ]
        },
        {
          "output_type": "display_data",
          "data": {
            "text/plain": [
              "<IPython.core.display.HTML object>"
            ],
            "text/html": [
              "\n",
              "<style>\n",
              "    /* Turns off some styling */\n",
              "    progress {\n",
              "        /* gets rid of default border in Firefox and Opera. */\n",
              "        border: none;\n",
              "        /* Needs to be in here for Safari polyfill so background images work as expected. */\n",
              "        background-size: auto;\n",
              "    }\n",
              "    progress:not([value]), progress:not([value])::-webkit-progress-bar {\n",
              "        background: repeating-linear-gradient(45deg, #7e7e7e, #7e7e7e 10px, #5c5c5c 10px, #5c5c5c 20px);\n",
              "    }\n",
              "    .progress-bar-interrupted, .progress-bar-interrupted::-webkit-progress-bar {\n",
              "        background: #F44336;\n",
              "    }\n",
              "</style>\n"
            ]
          },
          "metadata": {}
        },
        {
          "output_type": "display_data",
          "data": {
            "text/plain": [
              "<IPython.core.display.HTML object>"
            ],
            "text/html": [
              "<table border=\"1\" class=\"dataframe\">\n",
              "  <thead>\n",
              "    <tr style=\"text-align: left;\">\n",
              "      <th>epoch</th>\n",
              "      <th>train_loss</th>\n",
              "      <th>valid_loss</th>\n",
              "      <th>time</th>\n",
              "    </tr>\n",
              "  </thead>\n",
              "  <tbody>\n",
              "    <tr>\n",
              "      <td>0</td>\n",
              "      <td>0.614374</td>\n",
              "      <td>0.398603</td>\n",
              "      <td>00:01</td>\n",
              "    </tr>\n",
              "    <tr>\n",
              "      <td>1</td>\n",
              "      <td>0.464697</td>\n",
              "      <td>0.355643</td>\n",
              "      <td>00:01</td>\n",
              "    </tr>\n",
              "    <tr>\n",
              "      <td>2</td>\n",
              "      <td>0.408760</td>\n",
              "      <td>0.353266</td>\n",
              "      <td>00:01</td>\n",
              "    </tr>\n",
              "    <tr>\n",
              "      <td>3</td>\n",
              "      <td>0.379936</td>\n",
              "      <td>0.354399</td>\n",
              "      <td>00:01</td>\n",
              "    </tr>\n",
              "    <tr>\n",
              "      <td>4</td>\n",
              "      <td>0.362824</td>\n",
              "      <td>0.350221</td>\n",
              "      <td>00:01</td>\n",
              "    </tr>\n",
              "  </tbody>\n",
              "</table>"
            ]
          },
          "metadata": {}
        },
        {
          "output_type": "display_data",
          "data": {
            "text/plain": [
              "<IPython.core.display.HTML object>"
            ],
            "text/html": [
              "\n",
              "<style>\n",
              "    /* Turns off some styling */\n",
              "    progress {\n",
              "        /* gets rid of default border in Firefox and Opera. */\n",
              "        border: none;\n",
              "        /* Needs to be in here for Safari polyfill so background images work as expected. */\n",
              "        background-size: auto;\n",
              "    }\n",
              "    progress:not([value]), progress:not([value])::-webkit-progress-bar {\n",
              "        background: repeating-linear-gradient(45deg, #7e7e7e, #7e7e7e 10px, #5c5c5c 10px, #5c5c5c 20px);\n",
              "    }\n",
              "    .progress-bar-interrupted, .progress-bar-interrupted::-webkit-progress-bar {\n",
              "        background: #F44336;\n",
              "    }\n",
              "</style>\n"
            ]
          },
          "metadata": {}
        },
        {
          "output_type": "display_data",
          "data": {
            "text/plain": [
              "<IPython.core.display.HTML object>"
            ],
            "text/html": []
          },
          "metadata": {}
        },
        {
          "output_type": "stream",
          "name": "stdout",
          "text": [
            "Accuracy of fold 4\n",
            "\n",
            "0.8834179124948567\n"
          ]
        },
        {
          "output_type": "display_data",
          "data": {
            "text/plain": [
              "<IPython.core.display.HTML object>"
            ],
            "text/html": [
              "\n",
              "<style>\n",
              "    /* Turns off some styling */\n",
              "    progress {\n",
              "        /* gets rid of default border in Firefox and Opera. */\n",
              "        border: none;\n",
              "        /* Needs to be in here for Safari polyfill so background images work as expected. */\n",
              "        background-size: auto;\n",
              "    }\n",
              "    progress:not([value]), progress:not([value])::-webkit-progress-bar {\n",
              "        background: repeating-linear-gradient(45deg, #7e7e7e, #7e7e7e 10px, #5c5c5c 10px, #5c5c5c 20px);\n",
              "    }\n",
              "    .progress-bar-interrupted, .progress-bar-interrupted::-webkit-progress-bar {\n",
              "        background: #F44336;\n",
              "    }\n",
              "</style>\n"
            ]
          },
          "metadata": {}
        },
        {
          "output_type": "display_data",
          "data": {
            "text/plain": [
              "<IPython.core.display.HTML object>"
            ],
            "text/html": [
              "<table border=\"1\" class=\"dataframe\">\n",
              "  <thead>\n",
              "    <tr style=\"text-align: left;\">\n",
              "      <th>epoch</th>\n",
              "      <th>train_loss</th>\n",
              "      <th>valid_loss</th>\n",
              "      <th>time</th>\n",
              "    </tr>\n",
              "  </thead>\n",
              "  <tbody>\n",
              "    <tr>\n",
              "      <td>0</td>\n",
              "      <td>0.606171</td>\n",
              "      <td>0.456767</td>\n",
              "      <td>00:01</td>\n",
              "    </tr>\n",
              "    <tr>\n",
              "      <td>1</td>\n",
              "      <td>0.461065</td>\n",
              "      <td>0.360989</td>\n",
              "      <td>00:01</td>\n",
              "    </tr>\n",
              "    <tr>\n",
              "      <td>2</td>\n",
              "      <td>0.407090</td>\n",
              "      <td>0.357531</td>\n",
              "      <td>00:01</td>\n",
              "    </tr>\n",
              "    <tr>\n",
              "      <td>3</td>\n",
              "      <td>0.379707</td>\n",
              "      <td>0.354701</td>\n",
              "      <td>00:01</td>\n",
              "    </tr>\n",
              "    <tr>\n",
              "      <td>4</td>\n",
              "      <td>0.362406</td>\n",
              "      <td>0.354440</td>\n",
              "      <td>00:01</td>\n",
              "    </tr>\n",
              "  </tbody>\n",
              "</table>"
            ]
          },
          "metadata": {}
        },
        {
          "output_type": "display_data",
          "data": {
            "text/plain": [
              "<IPython.core.display.HTML object>"
            ],
            "text/html": [
              "\n",
              "<style>\n",
              "    /* Turns off some styling */\n",
              "    progress {\n",
              "        /* gets rid of default border in Firefox and Opera. */\n",
              "        border: none;\n",
              "        /* Needs to be in here for Safari polyfill so background images work as expected. */\n",
              "        background-size: auto;\n",
              "    }\n",
              "    progress:not([value]), progress:not([value])::-webkit-progress-bar {\n",
              "        background: repeating-linear-gradient(45deg, #7e7e7e, #7e7e7e 10px, #5c5c5c 10px, #5c5c5c 20px);\n",
              "    }\n",
              "    .progress-bar-interrupted, .progress-bar-interrupted::-webkit-progress-bar {\n",
              "        background: #F44336;\n",
              "    }\n",
              "</style>\n"
            ]
          },
          "metadata": {}
        },
        {
          "output_type": "display_data",
          "data": {
            "text/plain": [
              "<IPython.core.display.HTML object>"
            ],
            "text/html": []
          },
          "metadata": {}
        },
        {
          "output_type": "stream",
          "name": "stdout",
          "text": [
            "Accuracy of fold 5\n",
            "\n",
            "0.8836922232889864\n"
          ]
        }
      ]
    },
    {
      "cell_type": "code",
      "source": [
        "class_0 = df_nn_final[df_nn_final['label'] == 0]\n",
        "class_1 = df_nn_final[df_nn_final['label'] == 1]"
      ],
      "metadata": {
        "id": "Nd3QFLckVwhx"
      },
      "id": "Nd3QFLckVwhx",
      "execution_count": 59,
      "outputs": []
    },
    {
      "cell_type": "code",
      "source": [
        "class_count_0=len(class_0)"
      ],
      "metadata": {
        "id": "r3WAUPR5aMH4"
      },
      "id": "r3WAUPR5aMH4",
      "execution_count": 60,
      "outputs": []
    },
    {
      "cell_type": "code",
      "source": [
        "class_1_under = class_1.sample(class_count_0)\n",
        "\n",
        "test_under = pd.concat([class_1_under, class_0], axis=0)\n",
        "\n",
        "print(\"total class of 1 and 0:\",test_under['label'].value_counts())# plot the count after under-sampeling\n",
        "test_under['label'].value_counts().plot(kind='bar', title='count (target)')"
      ],
      "metadata": {
        "id": "TUkNxSSFaCZz",
        "outputId": "311e5952-d825-4126-989f-7acf5d87f0e7",
        "colab": {
          "base_uri": "https://localhost:8080/",
          "height": 347
        }
      },
      "id": "TUkNxSSFaCZz",
      "execution_count": 61,
      "outputs": [
        {
          "output_type": "stream",
          "name": "stdout",
          "text": [
            "total class of 1 and 0: 1    4291\n",
            "0    4291\n",
            "Name: label, dtype: int64\n"
          ]
        },
        {
          "output_type": "execute_result",
          "data": {
            "text/plain": [
              "<matplotlib.axes._subplots.AxesSubplot at 0x7fef93bb7950>"
            ]
          },
          "metadata": {},
          "execution_count": 61
        },
        {
          "output_type": "display_data",
          "data": {
            "text/plain": [
              "<Figure size 432x288 with 1 Axes>"
            ],
            "image/png": "[encoded data removed]"
          },
          "metadata": {
            "needs_background": "light"
          }
        }
      ]
    },
    {
      "cell_type": "code",
      "source": [
        "sss = ShuffleSplit(n_splits=1, test_size=0.2)\n",
        "train_idx, valid_idx = next(sss.split(test_under))\n",
        "splits = (list(train_idx),list(valid_idx))"
      ],
      "metadata": {
        "id": "taYIrNOEaxsg"
      },
      "id": "taYIrNOEaxsg",
      "execution_count": 62,
      "outputs": []
    },
    {
      "cell_type": "code",
      "source": [
        "to_nn = TabularPandas(test_under, procs_nn, cat_nn, cont_nn,\n",
        "                      splits=splits, y_names=dep_var)\n",
        "dls = to_nn.dataloaders(1024)\n",
        "learn = tabular_learner(dls, layers=[500,250],loss_func=BCEWithLogitsLossFlat(),metrics=[accuracy,F1Score(),HammingLoss()])\n",
        "learn.lr_find()"
      ],
      "metadata": {
        "id": "ti0elmZhaGi7",
        "outputId": "0af77f1e-18a8-4f7d-e1dd-1088256a19bf",
        "colab": {
          "base_uri": "https://localhost:8080/",
          "height": 300
        }
      },
      "id": "ti0elmZhaGi7",
      "execution_count": 65,
      "outputs": [
        {
          "output_type": "display_data",
          "data": {
            "text/plain": [
              "<IPython.core.display.HTML object>"
            ],
            "text/html": [
              "\n",
              "<style>\n",
              "    /* Turns off some styling */\n",
              "    progress {\n",
              "        /* gets rid of default border in Firefox and Opera. */\n",
              "        border: none;\n",
              "        /* Needs to be in here for Safari polyfill so background images work as expected. */\n",
              "        background-size: auto;\n",
              "    }\n",
              "    progress:not([value]), progress:not([value])::-webkit-progress-bar {\n",
              "        background: repeating-linear-gradient(45deg, #7e7e7e, #7e7e7e 10px, #5c5c5c 10px, #5c5c5c 20px);\n",
              "    }\n",
              "    .progress-bar-interrupted, .progress-bar-interrupted::-webkit-progress-bar {\n",
              "        background: #F44336;\n",
              "    }\n",
              "</style>\n"
            ]
          },
          "metadata": {}
        },
        {
          "output_type": "display_data",
          "data": {
            "text/plain": [
              "<IPython.core.display.HTML object>"
            ],
            "text/html": []
          },
          "metadata": {}
        },
        {
          "output_type": "execute_result",
          "data": {
            "text/plain": [
              "SuggestedLRs(valley=0.0003981071640737355)"
            ]
          },
          "metadata": {},
          "execution_count": 65
        },
        {
          "output_type": "display_data",
          "data": {
            "text/plain": [
              "<Figure size 432x288 with 1 Axes>"
            ],
            "image/png": "[encoded data removed]"
          },
          "metadata": {
            "needs_background": "light"
          }
        }
      ]
    },
    {
      "cell_type": "code",
      "source": [
        "learn.fit_one_cycle(5, 0.0005)  "
      ],
      "metadata": {
        "id": "N_Ge-xEjatnr",
        "outputId": "46e08afd-944a-44ef-c2b4-485bdcd3e082",
        "colab": {
          "base_uri": "https://localhost:8080/",
          "height": 206
        }
      },
      "id": "N_Ge-xEjatnr",
      "execution_count": 66,
      "outputs": [
        {
          "output_type": "display_data",
          "data": {
            "text/plain": [
              "<IPython.core.display.HTML object>"
            ],
            "text/html": [
              "\n",
              "<style>\n",
              "    /* Turns off some styling */\n",
              "    progress {\n",
              "        /* gets rid of default border in Firefox and Opera. */\n",
              "        border: none;\n",
              "        /* Needs to be in here for Safari polyfill so background images work as expected. */\n",
              "        background-size: auto;\n",
              "    }\n",
              "    progress:not([value]), progress:not([value])::-webkit-progress-bar {\n",
              "        background: repeating-linear-gradient(45deg, #7e7e7e, #7e7e7e 10px, #5c5c5c 10px, #5c5c5c 20px);\n",
              "    }\n",
              "    .progress-bar-interrupted, .progress-bar-interrupted::-webkit-progress-bar {\n",
              "        background: #F44336;\n",
              "    }\n",
              "</style>\n"
            ]
          },
          "metadata": {}
        },
        {
          "output_type": "display_data",
          "data": {
            "text/plain": [
              "<IPython.core.display.HTML object>"
            ],
            "text/html": [
              "<table border=\"1\" class=\"dataframe\">\n",
              "  <thead>\n",
              "    <tr style=\"text-align: left;\">\n",
              "      <th>epoch</th>\n",
              "      <th>train_loss</th>\n",
              "      <th>valid_loss</th>\n",
              "      <th>accuracy</th>\n",
              "      <th>f1_score</th>\n",
              "      <th>hamming_loss</th>\n",
              "      <th>time</th>\n",
              "    </tr>\n",
              "  </thead>\n",
              "  <tbody>\n",
              "    <tr>\n",
              "      <td>0</td>\n",
              "      <td>0.716384</td>\n",
              "      <td>0.692267</td>\n",
              "      <td>0.503786</td>\n",
              "      <td>0.000000</td>\n",
              "      <td>0.496214</td>\n",
              "      <td>00:00</td>\n",
              "    </tr>\n",
              "    <tr>\n",
              "      <td>1</td>\n",
              "      <td>0.707797</td>\n",
              "      <td>0.692388</td>\n",
              "      <td>0.503786</td>\n",
              "      <td>0.000000</td>\n",
              "      <td>0.496214</td>\n",
              "      <td>00:00</td>\n",
              "    </tr>\n",
              "    <tr>\n",
              "      <td>2</td>\n",
              "      <td>0.701918</td>\n",
              "      <td>0.691184</td>\n",
              "      <td>0.503786</td>\n",
              "      <td>0.000000</td>\n",
              "      <td>0.496214</td>\n",
              "      <td>00:00</td>\n",
              "    </tr>\n",
              "    <tr>\n",
              "      <td>3</td>\n",
              "      <td>0.697949</td>\n",
              "      <td>0.691728</td>\n",
              "      <td>0.503786</td>\n",
              "      <td>0.000000</td>\n",
              "      <td>0.496214</td>\n",
              "      <td>00:00</td>\n",
              "    </tr>\n",
              "    <tr>\n",
              "      <td>4</td>\n",
              "      <td>0.694101</td>\n",
              "      <td>0.690860</td>\n",
              "      <td>0.503786</td>\n",
              "      <td>0.000000</td>\n",
              "      <td>0.496214</td>\n",
              "      <td>00:00</td>\n",
              "    </tr>\n",
              "  </tbody>\n",
              "</table>"
            ]
          },
          "metadata": {}
        }
      ]
    },
    {
      "cell_type": "markdown",
      "source": [
        "the model is learning nothing! no data correlation with labels!"
      ],
      "metadata": {
        "id": "EvbbrlWGbIOb"
      },
      "id": "EvbbrlWGbIOb"
    }
  ],
  "metadata": {
    "kernelspec": {
      "display_name": "Python 3.10.0 64-bit",
      "language": "python",
      "name": "python3"
    },
    "language_info": {
      "codemirror_mode": {
        "name": "ipython",
        "version": 3
      },
      "file_extension": ".py",
      "mimetype": "text/x-python",
      "name": "python",
      "nbconvert_exporter": "python",
      "pygments_lexer": "ipython3",
      "version": "3.10.0"
    },
    "vscode": {
      "interpreter": {
        "hash": "525f50cd3df40e9d57f214b2f9bedadf4bf08c85f9f5b3b27734de5b2eace747"
      }
    },
    "colab": {
      "provenance": [],
      "collapsed_sections": [],
      "include_colab_link": true
    }
  },
  "nbformat": 4,
  "nbformat_minor": 5
}