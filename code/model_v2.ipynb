{
  "cells": [
    {
      "cell_type": "markdown",
      "metadata": {
        "id": "view-in-github",
        "colab_type": "text"
      },
      "source": [
        "<a href=\"https://colab.research.google.com/github/johntanas/it1244project/blob/main/code/model_v2.ipynb\" target=\"_parent\"><img src=\"https://colab.research.google.com/assets/colab-badge.svg\" alt=\"Open In Colab\"/></a>"
      ]
    },
    {
      "cell_type": "code",
      "execution_count": 175,
      "id": "5179ea71",
      "metadata": {
        "id": "5179ea71"
      },
      "outputs": [],
      "source": [
        "import pandas as pd\n",
        "import numpy as np\n",
        "from sklearn.preprocessing import StandardScaler,OneHotEncoder\n",
        "from sklearn.compose import ColumnTransformer\n",
        "from sklearn.model_selection import train_test_split\n",
        "from sklearn.linear_model import LogisticRegression\n",
        "from sklearn.neighbors import KNeighborsClassifier\n",
        "from sklearn.svm import SVC\n",
        "from sklearn.tree import DecisionTreeClassifier\n",
        "from sklearn.ensemble import RandomForestClassifier\n",
        "from xgboost import XGBClassifier\n",
        "from sklearn.metrics import classification_report"
      ]
    },
    {
      "cell_type": "code",
      "source": [
        "path_to_evm_label=\"/content/expo_moving_k2_labels.csv\"\n",
        "path_to_app=\"/content/cleaned_application.csv\"\n",
        "cleaned_app_df=pd.read_csv(path_to_app,index_col=0)\n",
        "ewm_df_status=pd.read_csv(path_to_evm_label,index_col=0)"
      ],
      "metadata": {
        "id": "XJlCQwWJEl2_"
      },
      "id": "XJlCQwWJEl2_",
      "execution_count": 176,
      "outputs": []
    },
    {
      "cell_type": "code",
      "source": [
        "labels_to_int_evm={\"bad\":0,\"good\":1}"
      ],
      "metadata": {
        "id": "yATIoEXw31Eu"
      },
      "id": "yATIoEXw31Eu",
      "execution_count": 177,
      "outputs": []
    },
    {
      "cell_type": "code",
      "source": [
        "ewm_df=ewm_df_status.drop(columns=\"status\").replace({\"label\":labels_to_int_evm})"
      ],
      "metadata": {
        "id": "lXL4go3Q3UVC"
      },
      "id": "lXL4go3Q3UVC",
      "execution_count": 178,
      "outputs": []
    },
    {
      "cell_type": "code",
      "source": [
        "dep_var=\"label\"\n",
        "random_state=42"
      ],
      "metadata": {
        "id": "DoxeFDv6Mgj8"
      },
      "id": "DoxeFDv6Mgj8",
      "execution_count": 179,
      "outputs": []
    },
    {
      "cell_type": "code",
      "source": [
        "train_df=ewm_df.merge(cleaned_app_df,how=\"inner\",on=\"id\").drop(\"id\",axis=1)"
      ],
      "metadata": {
        "id": "ZEu51Hh-LyC5"
      },
      "id": "ZEu51Hh-LyC5",
      "execution_count": 180,
      "outputs": []
    },
    {
      "cell_type": "code",
      "source": [
        "numerical_transformer = StandardScaler()\n",
        "categorical_transformer=OneHotEncoder()"
      ],
      "metadata": {
        "id": "JqwrdVI-75AF"
      },
      "id": "JqwrdVI-75AF",
      "execution_count": 181,
      "outputs": []
    },
    {
      "cell_type": "code",
      "source": [
        "X,y=train_df.drop(columns=[\"label\"]),train_df[\"label\"]"
      ],
      "metadata": {
        "id": "V03vSX3e8BDr"
      },
      "id": "V03vSX3e8BDr",
      "execution_count": 182,
      "outputs": []
    },
    {
      "cell_type": "code",
      "source": [
        "categorical_cols = [cname for cname in X.columns if X[cname].nunique() < 10 and \n",
        "                        X[cname].dtype == \"object\"]\n",
        "numerical_cols = [cname for cname in X.columns if X[cname].dtype in ['int64', 'float64']]"
      ],
      "metadata": {
        "id": "PxZXExPK77oD"
      },
      "id": "PxZXExPK77oD",
      "execution_count": 183,
      "outputs": []
    },
    {
      "cell_type": "code",
      "source": [
        "preprocessor = ColumnTransformer(\n",
        "    transformers=[\n",
        "        ('num', numerical_transformer, numerical_cols),\n",
        "        ('cat', categorical_transformer, categorical_cols)\n",
        "    ])"
      ],
      "metadata": {
        "id": "GUdPAjpk76qY"
      },
      "id": "GUdPAjpk76qY",
      "execution_count": 184,
      "outputs": []
    },
    {
      "cell_type": "code",
      "source": [
        "xs=preprocessor.fit_transform(X)"
      ],
      "metadata": {
        "id": "sBxqujKg8FDR"
      },
      "id": "sBxqujKg8FDR",
      "execution_count": 185,
      "outputs": []
    },
    {
      "cell_type": "code",
      "source": [
        "X_train, X_test, y_train, y_test = train_test_split(xs, y,random_state=random_state)"
      ],
      "metadata": {
        "id": "eAjdeKNq5GlN"
      },
      "id": "eAjdeKNq5GlN",
      "execution_count": 186,
      "outputs": []
    },
    {
      "cell_type": "code",
      "source": [
        "classifiers = {\n",
        "    \"LogisticRegression\" : LogisticRegression(max_iter=1000,random_state=random_state),\n",
        "    \"KNeighbors\" : KNeighborsClassifier(n_neighbors=int(len(X_train)**0.5)),\n",
        "    \"SVC\" : SVC(random_state=random_state),\n",
        "    \"DecisionTree\" : DecisionTreeClassifier(random_state=random_state),\n",
        "    \"RandomForest\" : RandomForestClassifier(random_state=random_state),\n",
        "    \"XGBoost\" : XGBClassifier(random_state=random_state)\n",
        "}"
      ],
      "metadata": {
        "id": "rnjh5GOn85v6"
      },
      "id": "rnjh5GOn85v6",
      "execution_count": 187,
      "outputs": []
    },
    {
      "cell_type": "code",
      "source": [
        "for key, classifier in classifiers.items():\n",
        "    classifier.fit(X_train, y_train)\n",
        "    prediction = classifier.predict(X_test)\n",
        "    print(\"Model \"+key)\n",
        "    print(classification_report(y_test, prediction,zero_division=0))"
      ],
      "metadata": {
        "id": "bysLAlZT9Lpn",
        "outputId": "d5adfe6c-57fd-4848-d919-65907c0cc8b8",
        "colab": {
          "base_uri": "https://localhost:8080/"
        }
      },
      "id": "bysLAlZT9Lpn",
      "execution_count": 188,
      "outputs": [
        {
          "output_type": "stream",
          "name": "stdout",
          "text": [
            "Model LogisticRegression\n",
            "              precision    recall  f1-score   support\n",
            "\n",
            "           0       1.00      0.00      0.00       511\n",
            "           1       0.73      1.00      0.84      1380\n",
            "\n",
            "    accuracy                           0.73      1891\n",
            "   macro avg       0.87      0.50      0.42      1891\n",
            "weighted avg       0.80      0.73      0.62      1891\n",
            "\n",
            "Model KNeighbors\n",
            "              precision    recall  f1-score   support\n",
            "\n",
            "           0       0.00      0.00      0.00       511\n",
            "           1       0.73      1.00      0.84      1380\n",
            "\n",
            "    accuracy                           0.73      1891\n",
            "   macro avg       0.36      0.50      0.42      1891\n",
            "weighted avg       0.53      0.73      0.62      1891\n",
            "\n",
            "Model SVC\n",
            "              precision    recall  f1-score   support\n",
            "\n",
            "           0       1.00      0.00      0.00       511\n",
            "           1       0.73      1.00      0.84      1380\n",
            "\n",
            "    accuracy                           0.73      1891\n",
            "   macro avg       0.87      0.50      0.42      1891\n",
            "weighted avg       0.80      0.73      0.62      1891\n",
            "\n",
            "Model DecisionTree\n",
            "              precision    recall  f1-score   support\n",
            "\n",
            "           0       0.29      0.31      0.30       511\n",
            "           1       0.74      0.71      0.72      1380\n",
            "\n",
            "    accuracy                           0.60      1891\n",
            "   macro avg       0.51      0.51      0.51      1891\n",
            "weighted avg       0.61      0.60      0.61      1891\n",
            "\n",
            "Model RandomForest\n",
            "              precision    recall  f1-score   support\n",
            "\n",
            "           0       0.34      0.08      0.13       511\n",
            "           1       0.73      0.94      0.82      1380\n",
            "\n",
            "    accuracy                           0.71      1891\n",
            "   macro avg       0.54      0.51      0.48      1891\n",
            "weighted avg       0.63      0.71      0.64      1891\n",
            "\n",
            "Model XGBoost\n",
            "              precision    recall  f1-score   support\n",
            "\n",
            "           0       0.42      0.01      0.02       511\n",
            "           1       0.73      0.99      0.84      1380\n",
            "\n",
            "    accuracy                           0.73      1891\n",
            "   macro avg       0.57      0.50      0.43      1891\n",
            "weighted avg       0.65      0.73      0.62      1891\n",
            "\n"
          ]
        }
      ]
    },
    {
      "cell_type": "code",
      "source": [
        "int_to_labels_evm={\"bad\":0,\"good\":1}"
      ],
      "metadata": {
        "id": "QcU96r_v89xg"
      },
      "id": "QcU96r_v89xg",
      "execution_count": 189,
      "outputs": []
    },
    {
      "cell_type": "code",
      "source": [
        "import keras\n",
        "import tensorflow as tf\n",
        "from keras.utils.np_utils import to_categorical\n",
        "from keras import optimizers\n",
        "from keras.models import Sequential\n",
        "from keras.layers import Dense, Activation, Flatten\n"
      ],
      "metadata": {
        "id": "RA-chG0uCJr1"
      },
      "id": "RA-chG0uCJr1",
      "execution_count": 190,
      "outputs": []
    },
    {
      "cell_type": "code",
      "source": [
        "model=keras.Sequential([\n",
        "keras.layers.Dense(1024),\n",
        "keras.layers.Activation(\"sigmoid\"),\n",
        "keras.layers.Dense(512),\n",
        "keras.layers.Activation(activation=\"relu\"),\n",
        "keras.layers.Dense(2),\n",
        "keras.layers.Activation(activation=\"softmax\")])"
      ],
      "metadata": {
        "id": "Cbiyl82tCUus"
      },
      "id": "Cbiyl82tCUus",
      "execution_count": 191,
      "outputs": []
    },
    {
      "cell_type": "code",
      "source": [
        "one_hot_y=pd.get_dummies(y_train)\n",
        "one_hot_valid_y=pd.get_dummies(y_test)"
      ],
      "metadata": {
        "id": "hpa67RnoCSlH"
      },
      "id": "hpa67RnoCSlH",
      "execution_count": 192,
      "outputs": []
    },
    {
      "cell_type": "code",
      "source": [
        "opt = tf.optimizers.SGD(learning_rate=0.01)\n",
        "model.compile(loss=tf.keras.losses.BinaryFocalCrossentropy(), optimizer=opt, metrics=['accuracy',tf.keras.metrics.Recall()])\n",
        "epochs = 10\n",
        "history=model.fit(X_train, one_hot_y,batch_size=4, epochs=epochs,validation_data=(X_test,one_hot_valid_y))"
      ],
      "metadata": {
        "id": "dQucbB-lCRC2",
        "outputId": "0588f180-36ec-4aa6-c3a1-ee6f52fd02f2",
        "colab": {
          "base_uri": "https://localhost:8080/"
        }
      },
      "id": "dQucbB-lCRC2",
      "execution_count": null,
      "outputs": [
        {
          "output_type": "stream",
          "name": "stdout",
          "text": [
            "Epoch 1/10\n",
            "1418/1418 [==============================] - 11s 8ms/step - loss: 0.1618 - accuracy: 0.6916 - recall_13: 0.6916 - val_loss: 0.1513 - val_accuracy: 0.7298 - val_recall_13: 0.7298\n",
            "Epoch 2/10\n",
            " 750/1418 [==============>...............] - ETA: 4s - loss: 0.1491 - accuracy: 0.7323 - recall_13: 0.7323"
          ]
        }
      ]
    },
    {
      "cell_type": "code",
      "source": [
        "y_prob = model.predict(X_test)\n",
        "prediction = y_prob.argmax(axis=-1)\n",
        "print(\"Model NN\")\n",
        "print(classification_report(y_test,prediction,zero_division=0))"
      ],
      "metadata": {
        "id": "foaeqU_AFCPM"
      },
      "id": "foaeqU_AFCPM",
      "execution_count": null,
      "outputs": []
    },
    {
      "cell_type": "code",
      "source": [
        "from imblearn.over_sampling import SMOTE\n",
        "oversample = SMOTE()\n",
        "X_balanced, y_balanced = oversample.fit_resample(X_train, y_train)"
      ],
      "metadata": {
        "id": "_XGeTEVfPxpX"
      },
      "id": "_XGeTEVfPxpX",
      "execution_count": null,
      "outputs": []
    },
    {
      "cell_type": "code",
      "source": [
        "for key, classifier in classifiers.items():\n",
        "    classifier.fit(X_balanced, y_balanced)\n",
        "    prediction = classifier.predict(X_test)\n",
        "    print(\"Model \"+key)\n",
        "    print(classification_report(y_test, prediction))"
      ],
      "metadata": {
        "id": "9gjyIi-JPtaN"
      },
      "id": "9gjyIi-JPtaN",
      "execution_count": null,
      "outputs": []
    },
    {
      "cell_type": "code",
      "source": [
        "one_hot_y_balanced=pd.get_dummies(y_balanced)"
      ],
      "metadata": {
        "id": "49ZjxDC9FyHE"
      },
      "id": "49ZjxDC9FyHE",
      "execution_count": null,
      "outputs": []
    },
    {
      "cell_type": "code",
      "source": [
        "model2=keras.Sequential([\n",
        "keras.Input(shape=(35,)),\n",
        "keras.layers.Dense(1024),\n",
        "keras.layers.Activation(\"sigmoid\"),\n",
        "keras.layers.Dense(512),\n",
        "keras.layers.Activation(activation=\"relu\"),\n",
        "keras.layers.Dense(2),\n",
        "keras.layers.Activation(activation=\"softmax\")])"
      ],
      "metadata": {
        "id": "d0xAigcNFsKu"
      },
      "id": "d0xAigcNFsKu",
      "execution_count": null,
      "outputs": []
    },
    {
      "cell_type": "code",
      "source": [
        "opt = tf.optimizers.SGD(learning_rate=0.01)\n",
        "model2.compile(loss=tf.keras.losses.BinaryCrossentropy(), optimizer=opt, metrics=['accuracy',tf.keras.metrics.Recall()])\n",
        "epochs = 10\n",
        "history=model2.fit(X_balanced,one_hot_y_balanced,batch_size=4, epochs=epochs,validation_data=(X_test,one_hot_valid_y))"
      ],
      "metadata": {
        "id": "5GhksAtEFvq0"
      },
      "id": "5GhksAtEFvq0",
      "execution_count": null,
      "outputs": []
    },
    {
      "cell_type": "code",
      "source": [
        "y_prob=model2.predict(X_test)\n",
        "prediction = y_prob.argmax(axis=-1)\n",
        "print(\"Model Neural Net\")\n",
        "print(classification_report(y_test,prediction,zero_division=0,target_names=int_to_labels_evm))"
      ],
      "metadata": {
        "id": "2kLMwhOyFt6W"
      },
      "id": "2kLMwhOyFt6W",
      "execution_count": null,
      "outputs": []
    },
    {
      "cell_type": "code",
      "source": [],
      "metadata": {
        "id": "a0t4qcClGBJC"
      },
      "id": "a0t4qcClGBJC",
      "execution_count": null,
      "outputs": []
    }
  ],
  "metadata": {
    "kernelspec": {
      "display_name": "Python 3.10.0 64-bit",
      "language": "python",
      "name": "python3"
    },
    "language_info": {
      "codemirror_mode": {
        "name": "ipython",
        "version": 3
      },
      "file_extension": ".py",
      "mimetype": "text/x-python",
      "name": "python",
      "nbconvert_exporter": "python",
      "pygments_lexer": "ipython3",
      "version": "3.10.0"
    },
    "vscode": {
      "interpreter": {
        "hash": "525f50cd3df40e9d57f214b2f9bedadf4bf08c85f9f5b3b27734de5b2eace747"
      }
    },
    "colab": {
      "provenance": [],
      "collapsed_sections": [],
      "include_colab_link": true
    }
  },
  "nbformat": 4,
  "nbformat_minor": 5
}