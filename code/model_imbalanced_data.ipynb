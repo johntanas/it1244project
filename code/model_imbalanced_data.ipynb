{
  "cells": [
    {
      "cell_type": "markdown",
      "metadata": {
        "id": "view-in-github",
        "colab_type": "text"
      },
      "source": [
        "<a href=\"https://colab.research.google.com/github/johntanas/it1244project/blob/main/code/model_imbalanced_data.ipynb\" target=\"_parent\"><img src=\"https://colab.research.google.com/assets/colab-badge.svg\" alt=\"Open In Colab\"/></a>"
      ]
    },
    {
      "cell_type": "code",
      "execution_count": 79,
      "id": "5179ea71",
      "metadata": {
        "id": "5179ea71"
      },
      "outputs": [],
      "source": [
        "import pandas as pd\n",
        "import numpy as np"
      ]
    },
    {
      "cell_type": "code",
      "source": [
        "path_to_evm_label=\"/content/expo_moving_labels.csv\"\n",
        "path_to_app=\"/content/cleaned_application.csv\"\n",
        "cleaned_app_df=pd.read_csv(path_to_app,index_col=0)\n",
        "ewm_df_status=pd.read_csv(path_to_evm_label,index_col=0)"
      ],
      "metadata": {
        "id": "XJlCQwWJEl2_"
      },
      "id": "XJlCQwWJEl2_",
      "execution_count": 80,
      "outputs": []
    },
    {
      "cell_type": "code",
      "source": [
        "labels_to_int_evm={\"bad\":1,\"neutral\":2,\"good\":2}"
      ],
      "metadata": {
        "id": "yATIoEXw31Eu"
      },
      "id": "yATIoEXw31Eu",
      "execution_count": 123,
      "outputs": []
    },
    {
      "cell_type": "code",
      "source": [
        "ewm_df=ewm_df_status.drop(columns=\"status\").replace({\"label\":labels_to_int_evm})"
      ],
      "metadata": {
        "id": "lXL4go3Q3UVC"
      },
      "id": "lXL4go3Q3UVC",
      "execution_count": 124,
      "outputs": []
    },
    {
      "cell_type": "code",
      "source": [
        "dep_var=\"label\"\n",
        "random_state=42"
      ],
      "metadata": {
        "id": "DoxeFDv6Mgj8"
      },
      "id": "DoxeFDv6Mgj8",
      "execution_count": 125,
      "outputs": []
    },
    {
      "cell_type": "code",
      "source": [
        "from sklearn.model_selection import ShuffleSplit\n",
        "from pandas.api.types import is_string_dtype, is_numeric_dtype, is_categorical_dtype\n",
        "from sklearn.ensemble import RandomForestClassifier\n",
        "from sklearn.tree import DecisionTreeClassifier,export_text,plot_tree\n",
        "from fastai.tabular.all import *\n",
        "from sklearn.metrics import classification_report, confusion_matrix,ConfusionMatrixDisplay"
      ],
      "metadata": {
        "id": "72z3c3jMIzVZ"
      },
      "id": "72z3c3jMIzVZ",
      "execution_count": 126,
      "outputs": []
    },
    {
      "cell_type": "code",
      "source": [
        "train_df=ewm_df.merge(cleaned_app_df,how=\"inner\",on=\"id\").drop(\"id\",axis=1)"
      ],
      "metadata": {
        "id": "ZEu51Hh-LyC5"
      },
      "id": "ZEu51Hh-LyC5",
      "execution_count": 210,
      "outputs": []
    },
    {
      "cell_type": "code",
      "execution_count": 211,
      "id": "db605ac0",
      "metadata": {
        "id": "db605ac0"
      },
      "outputs": [],
      "source": [
        "cont,cat = cont_cat_split(train_df, max_card=1, dep_var=dep_var)"
      ]
    },
    {
      "cell_type": "code",
      "source": [
        "sss = ShuffleSplit(n_splits=1, test_size=0.2)\n",
        "train_idx, valid_idx = next(sss.split(train_df))\n",
        "splits = (list(train_idx),list(valid_idx))"
      ],
      "metadata": {
        "id": "OPi_3D8PNUsR"
      },
      "id": "OPi_3D8PNUsR",
      "execution_count": 212,
      "outputs": []
    },
    {
      "cell_type": "code",
      "source": [
        "procs = [Categorify, Normalize]\n",
        "to = TabularPandas(train_df, procs, cat, cont,\n",
        "                      splits=splits, y_names=dep_var)"
      ],
      "metadata": {
        "id": "fyZWDaD6I76o"
      },
      "id": "fyZWDaD6I76o",
      "execution_count": 213,
      "outputs": []
    },
    {
      "cell_type": "code",
      "source": [
        "xs,y = to.train.xs,to.train.y\n",
        "valid_xs,valid_y = to.valid.xs,to.valid.y"
      ],
      "metadata": {
        "id": "psnOcv568fbM"
      },
      "id": "psnOcv568fbM",
      "execution_count": 214,
      "outputs": []
    },
    {
      "cell_type": "code",
      "source": [
        "m = DecisionTreeClassifier(max_depth=18,random_state=random_state)\n",
        "m.fit(xs, y)"
      ],
      "metadata": {
        "id": "65zi5g0g8Jku",
        "outputId": "1ccae291-3e3d-48eb-98dc-f319f5f77288",
        "colab": {
          "base_uri": "https://localhost:8080/"
        }
      },
      "id": "65zi5g0g8Jku",
      "execution_count": 132,
      "outputs": [
        {
          "output_type": "execute_result",
          "data": {
            "text/plain": [
              "DecisionTreeClassifier(max_depth=18, random_state=42)"
            ]
          },
          "metadata": {},
          "execution_count": 132
        }
      ]
    },
    {
      "cell_type": "code",
      "source": [
        "preds=m.predict(valid_xs)"
      ],
      "metadata": {
        "id": "3IKlaeFFMuZ1"
      },
      "id": "3IKlaeFFMuZ1",
      "execution_count": 133,
      "outputs": []
    },
    {
      "cell_type": "code",
      "source": [
        "int_to_labels_evm={\"bad\":1,\"good\":2}\n",
        "#int_to_labels_evm={v:k for k,v in enumerate(labels_to_int_evm)}"
      ],
      "metadata": {
        "id": "sVmFd-LbPJVS"
      },
      "id": "sVmFd-LbPJVS",
      "execution_count": 139,
      "outputs": []
    },
    {
      "cell_type": "code",
      "source": [
        "int_to_labels_evm"
      ],
      "metadata": {
        "id": "x-Sa0PUer9SE",
        "outputId": "1a336fb5-5d4f-4c3a-fefa-f68ca22d8d15",
        "colab": {
          "base_uri": "https://localhost:8080/"
        }
      },
      "id": "x-Sa0PUer9SE",
      "execution_count": 140,
      "outputs": [
        {
          "output_type": "execute_result",
          "data": {
            "text/plain": [
              "{'bad': 1, 'good': 2}"
            ]
          },
          "metadata": {},
          "execution_count": 140
        }
      ]
    },
    {
      "cell_type": "code",
      "source": [
        "print(classification_report(preds,valid_y,target_names=int_to_labels_evm))\n",
        "disp=ConfusionMatrixDisplay.from_predictions(preds, valid_y,display_labels=int_to_labels_evm)\n",
        "fig=disp.ax_.get_figure() \n",
        "fig.set_figwidth(10)\n",
        "fig.set_figheight(5) "
      ],
      "metadata": {
        "id": "lj5t7afwMjsQ",
        "outputId": "2a7896d8-5709-45ca-80bb-fa232d99c2d1",
        "colab": {
          "base_uri": "https://localhost:8080/",
          "height": 490
        }
      },
      "id": "lj5t7afwMjsQ",
      "execution_count": 141,
      "outputs": [
        {
          "output_type": "stream",
          "name": "stdout",
          "text": [
            "              precision    recall  f1-score   support\n",
            "\n",
            "         bad       0.17      0.41      0.24       676\n",
            "        good       0.93      0.80      0.86      6616\n",
            "\n",
            "    accuracy                           0.76      7292\n",
            "   macro avg       0.55      0.60      0.55      7292\n",
            "weighted avg       0.86      0.76      0.80      7292\n",
            "\n"
          ]
        },
        {
          "output_type": "display_data",
          "data": {
            "text/plain": [
              "<Figure size 720x360 with 2 Axes>"
            ],
            "image/png": "[encoded data removed]"
          },
          "metadata": {
            "needs_background": "light"
          }
        }
      ]
    },
    {
      "cell_type": "code",
      "source": [
        "def rf(xs, y, n_estimators=40, max_samples=20_000,\n",
        "       max_features=0.5, min_samples_leaf=5,random_state=random_state):\n",
        "    return RandomForestClassifier(n_jobs=-1, n_estimators=n_estimators,\n",
        "        max_samples=max_samples, max_features=max_features,\n",
        "        min_samples_leaf=min_samples_leaf, oob_score=True,random_state=random_state).fit(xs, y)"
      ],
      "metadata": {
        "id": "1ugWF27F8vk6"
      },
      "id": "1ugWF27F8vk6",
      "execution_count": 142,
      "outputs": []
    },
    {
      "cell_type": "code",
      "source": [
        "rf_m = rf(xs, y)\n",
        "preds_rf=rf_m.predict(valid_xs)"
      ],
      "metadata": {
        "id": "2IyvRObh8zea"
      },
      "id": "2IyvRObh8zea",
      "execution_count": 143,
      "outputs": []
    },
    {
      "cell_type": "code",
      "source": [
        "print(classification_report(preds_rf,valid_y,target_names=int_to_labels_evm))\n",
        "disp=ConfusionMatrixDisplay.from_predictions(preds_rf, valid_y,display_labels=int_to_labels_evm)\n",
        "fig=disp.ax_.get_figure() \n",
        "fig.set_figwidth(10)\n",
        "fig.set_figheight(5) "
      ],
      "metadata": {
        "id": "Xyef8KbELlD_",
        "outputId": "2d343f5e-48c7-4225-8ad5-ab124c5d4502",
        "colab": {
          "base_uri": "https://localhost:8080/",
          "height": 490
        }
      },
      "id": "Xyef8KbELlD_",
      "execution_count": 144,
      "outputs": [
        {
          "output_type": "stream",
          "name": "stdout",
          "text": [
            "              precision    recall  f1-score   support\n",
            "\n",
            "         bad       0.11      0.51      0.18       358\n",
            "        good       0.97      0.79      0.87      6934\n",
            "\n",
            "    accuracy                           0.78      7292\n",
            "   macro avg       0.54      0.65      0.53      7292\n",
            "weighted avg       0.93      0.78      0.84      7292\n",
            "\n"
          ]
        },
        {
          "output_type": "display_data",
          "data": {
            "text/plain": [
              "<Figure size 720x360 with 2 Axes>"
            ],
            "image/png": "[encoded data removed]"
          },
          "metadata": {
            "needs_background": "light"
          }
        }
      ]
    },
    {
      "cell_type": "code",
      "source": [
        "from lightgbm import LGBMClassifier,plot_importance\n"
      ],
      "metadata": {
        "id": "PmghXWKw9TU-"
      },
      "id": "PmghXWKw9TU-",
      "execution_count": 339,
      "outputs": []
    },
    {
      "cell_type": "code",
      "source": [
        "boosted_tree=LGBMClassifier(boosting_type=\"gbdt\",random_state=random_state)\n",
        "boosted_tree.fit(xs,y)"
      ],
      "metadata": {
        "id": "aUMnzoIq9T86",
        "outputId": "24de52c2-dba8-44a9-b33f-3ad4d08b32a6",
        "colab": {
          "base_uri": "https://localhost:8080/"
        }
      },
      "id": "aUMnzoIq9T86",
      "execution_count": 146,
      "outputs": [
        {
          "output_type": "execute_result",
          "data": {
            "text/plain": [
              "LGBMClassifier(random_state=42)"
            ]
          },
          "metadata": {},
          "execution_count": 146
        }
      ]
    },
    {
      "cell_type": "code",
      "source": [
        "pred_boost=boosted_tree.predict(valid_xs)\n",
        "print(classification_report(pred_boost,valid_y,target_names=int_to_labels_evm))\n",
        "disp=ConfusionMatrixDisplay.from_predictions(pred_boost, valid_y,display_labels=int_to_labels_evm)\n",
        "fig=disp.ax_.get_figure() \n",
        "fig.set_figwidth(10)\n",
        "fig.set_figheight(5) "
      ],
      "metadata": {
        "id": "8IYpMFMaOy5Y",
        "outputId": "c3045eee-60a8-458f-8fe2-6e82dae7f3b3",
        "colab": {
          "base_uri": "https://localhost:8080/",
          "height": 490
        }
      },
      "id": "8IYpMFMaOy5Y",
      "execution_count": 147,
      "outputs": [
        {
          "output_type": "stream",
          "name": "stdout",
          "text": [
            "              precision    recall  f1-score   support\n",
            "\n",
            "         bad       0.03      0.72      0.06        67\n",
            "        good       1.00      0.78      0.88      7225\n",
            "\n",
            "    accuracy                           0.78      7292\n",
            "   macro avg       0.51      0.75      0.47      7292\n",
            "weighted avg       0.99      0.78      0.87      7292\n",
            "\n"
          ]
        },
        {
          "output_type": "display_data",
          "data": {
            "text/plain": [
              "<Figure size 720x360 with 2 Axes>"
            ],
            "image/png": "[encoded data removed]"
          },
          "metadata": {
            "needs_background": "light"
          }
        }
      ]
    },
    {
      "cell_type": "markdown",
      "source": [
        "We need to maximise recall -> gradient boosted trees are the best"
      ],
      "metadata": {
        "id": "YBolYVoUQipq"
      },
      "id": "YBolYVoUQipq"
    },
    {
      "cell_type": "markdown",
      "source": [
        "Feature importance"
      ],
      "metadata": {
        "id": "6agQGWqt4lzm"
      },
      "id": "6agQGWqt4lzm"
    },
    {
      "cell_type": "code",
      "source": [
        "plot_importance(boosted_tree)"
      ],
      "metadata": {
        "id": "d48wjUWm4ImL",
        "outputId": "b30e23ba-0e6f-4bc4-d485-3c862e3496ed",
        "colab": {
          "base_uri": "https://localhost:8080/",
          "height": 312
        }
      },
      "id": "d48wjUWm4ImL",
      "execution_count": 340,
      "outputs": [
        {
          "output_type": "execute_result",
          "data": {
            "text/plain": [
              "<matplotlib.axes._subplots.AxesSubplot at 0x7faac8bc1dd0>"
            ]
          },
          "metadata": {},
          "execution_count": 340
        },
        {
          "output_type": "display_data",
          "data": {
            "text/plain": [
              "<Figure size 432x288 with 1 Axes>"
            ],
            "image/png": "[encoded data removed]"
          },
          "metadata": {
            "needs_background": "light"
          }
        }
      ]
    },
    {
      "cell_type": "markdown",
      "source": [
        "We can drop weak learners from looking at our boosted_tree feature importance.\n",
        "We define a weak learner as less than 0.05 feature importance."
      ],
      "metadata": {
        "id": "9H6nVCmCQ0FO"
      },
      "id": "9H6nVCmCQ0FO"
    },
    {
      "cell_type": "markdown",
      "source": [
        "https://www.analyticsvidhya.com/blog/2020/07/10-techniques-to-deal-with-class-imbalance-in-machine-learning/"
      ],
      "metadata": {
        "id": "D7sJBBGw1siD"
      },
      "id": "D7sJBBGw1siD"
    },
    {
      "cell_type": "code",
      "source": [
        "import imblearn"
      ],
      "metadata": {
        "id": "1FRKipYLqFHo"
      },
      "id": "1FRKipYLqFHo",
      "execution_count": 116,
      "outputs": []
    },
    {
      "cell_type": "code",
      "source": [
        "sss = ShuffleSplit(n_splits=1, test_size=0.2)\n",
        "train_idx, valid_idx = next(sss.split(train_df))\n",
        "splits = (list(train_idx),list(valid_idx))"
      ],
      "metadata": {
        "id": "qfzu1P_hvtjU"
      },
      "id": "qfzu1P_hvtjU",
      "execution_count": 300,
      "outputs": []
    },
    {
      "cell_type": "code",
      "source": [
        "procs = [Categorify, Normalize]\n",
        "cont,cat = cont_cat_split(train_df, max_card=1,dep_var=dep_var)\n",
        "to = TabularPandas(train_df, procs, cat, cont,\n",
        "                      splits=splits,y_names=dep_var)\n",
        "xs,y = to.train.xs,to.train.y\n",
        "valid_xs,valid_y = to.valid.xs,to.valid.y"
      ],
      "metadata": {
        "id": "wZj9bBBJvUnf"
      },
      "id": "wZj9bBBJvUnf",
      "execution_count": 301,
      "outputs": []
    },
    {
      "cell_type": "code",
      "source": [
        "xs[\"label\"]=y\n",
        "class_1=xs[y==1]\n",
        "class_2=xs[y==2]\n",
        "class_count_2, class_count_1 = y.value_counts()\n",
        "print('class 2:', class_2.shape)\n",
        "print('class 1:', class_1.shape)\n",
        "class_2_under = class_2.sample(class_count_1)\n",
        "test_under = pd.concat([class_2_under, class_1], axis=0)\n",
        "y=test_under[\"label\"]\n",
        "xs=test_under.drop(\"label\",axis=1)"
      ],
      "metadata": {
        "id": "zZkshWdowm9T",
        "outputId": "9751d5eb-0024-4a2f-d8ff-dc51d69390a0",
        "colab": {
          "base_uri": "https://localhost:8080/"
        }
      },
      "id": "zZkshWdowm9T",
      "execution_count": 303,
      "outputs": [
        {
          "output_type": "stream",
          "name": "stdout",
          "text": [
            "class 2: (22550, 17)\n",
            "class 1: (6615, 17)\n"
          ]
        }
      ]
    },
    {
      "cell_type": "code",
      "source": [
        "boosted_tree=LGBMClassifier(boosting_type=\"gbdt\",random_state=random_state)\n",
        "boosted_tree.fit(xs,y)\n",
        "pred_boost=boosted_tree.predict(valid_xs)\n",
        "print(classification_report(pred_boost,valid_y,target_names=int_to_labels_evm))\n",
        "disp=ConfusionMatrixDisplay.from_predictions(pred_boost, valid_y,display_labels=int_to_labels_evm)\n",
        "fig=disp.ax_.get_figure() \n",
        "fig.set_figwidth(10)\n",
        "fig.set_figheight(5) "
      ],
      "metadata": {
        "id": "yc1vafpVv3Gf",
        "outputId": "92c74541-9b11-4449-cd36-0a495908a82d",
        "colab": {
          "base_uri": "https://localhost:8080/",
          "height": 490
        }
      },
      "id": "yc1vafpVv3Gf",
      "execution_count": 342,
      "outputs": [
        {
          "output_type": "stream",
          "name": "stdout",
          "text": [
            "              precision    recall  f1-score   support\n",
            "\n",
            "         bad       0.56      0.27      0.37      3378\n",
            "        good       0.56      0.81      0.67      3914\n",
            "\n",
            "    accuracy                           0.56      7292\n",
            "   macro avg       0.56      0.54      0.52      7292\n",
            "weighted avg       0.56      0.56      0.53      7292\n",
            "\n"
          ]
        },
        {
          "output_type": "display_data",
          "data": {
            "text/plain": [
              "<Figure size 720x360 with 2 Axes>"
            ],
            "image/png": "[encoded data removed]"
          },
          "metadata": {
            "needs_background": "light"
          }
        }
      ]
    },
    {
      "cell_type": "code",
      "source": [
        "from imblearn.under_sampling import TomekLinks"
      ],
      "metadata": {
        "id": "3qkDU20vy4nf"
      },
      "id": "3qkDU20vy4nf",
      "execution_count": 343,
      "outputs": []
    },
    {
      "cell_type": "code",
      "source": [
        "tl = TomekLinks()\n",
        "X_res, y_res=tl.fit_resample(xs, y)"
      ],
      "metadata": {
        "id": "6OXXGITbz2SG",
        "outputId": "952a4ba4-3986-4bcc-f958-cfe0b1646e86",
        "colab": {
          "base_uri": "https://localhost:8080/"
        }
      },
      "id": "6OXXGITbz2SG",
      "execution_count": 344,
      "outputs": [
        {
          "output_type": "execute_result",
          "data": {
            "text/plain": [
              "(13014, 16)"
            ]
          },
          "metadata": {},
          "execution_count": 344
        }
      ]
    },
    {
      "cell_type": "code",
      "source": [
        "boosted_tree=LGBMClassifier(boosting_type=\"gbdt\",random_state=random_state)\n",
        "boosted_tree.fit(X_res,y_res)\n",
        "pred_boost=boosted_tree.predict(valid_xs)\n",
        "print(classification_report(pred_boost,valid_y,target_names=int_to_labels_evm))\n",
        "disp=ConfusionMatrixDisplay.from_predictions(pred_boost, valid_y,display_labels=int_to_labels_evm)\n",
        "fig=disp.ax_.get_figure() \n",
        "fig.set_figwidth(10)\n",
        "fig.set_figheight(5) "
      ],
      "metadata": {
        "id": "Bzwn3WYh0Mqf",
        "outputId": "a8232237-cb00-4284-c45e-38d5aec705ad",
        "colab": {
          "base_uri": "https://localhost:8080/",
          "height": 490
        }
      },
      "id": "Bzwn3WYh0Mqf",
      "execution_count": 346,
      "outputs": [
        {
          "output_type": "stream",
          "name": "stdout",
          "text": [
            "              precision    recall  f1-score   support\n",
            "\n",
            "         bad       0.60      0.27      0.37      3677\n",
            "        good       0.52      0.82      0.64      3615\n",
            "\n",
            "    accuracy                           0.54      7292\n",
            "   macro avg       0.56      0.54      0.50      7292\n",
            "weighted avg       0.56      0.54      0.50      7292\n",
            "\n"
          ]
        },
        {
          "output_type": "display_data",
          "data": {
            "text/plain": [
              "<Figure size 720x360 with 2 Axes>"
            ],
            "image/png": "[encoded data removed]"
          },
          "metadata": {
            "needs_background": "light"
          }
        }
      ]
    },
    {
      "cell_type": "code",
      "source": [
        "from imblearn.over_sampling import SMOTE\n",
        "smote = SMOTE()\n",
        "x_smote, y_smote = smote.fit_resample(xs, y)\n",
        "print(x_smote.shape)"
      ],
      "metadata": {
        "id": "_BhyFZh70Q0n",
        "outputId": "be04c7f6-546e-4a1d-a1fa-25fc63d559ff",
        "colab": {
          "base_uri": "https://localhost:8080/"
        }
      },
      "id": "_BhyFZh70Q0n",
      "execution_count": 313,
      "outputs": [
        {
          "output_type": "stream",
          "name": "stdout",
          "text": [
            "(13230, 16)\n"
          ]
        }
      ]
    },
    {
      "cell_type": "code",
      "source": [
        "boosted_tree=LGBMClassifier(boosting_type=\"gbdt\",random_state=random_state)\n",
        "boosted_tree.fit(x_smote,y_smote)\n",
        "pred_boost=boosted_tree.predict(valid_xs)\n",
        "print(classification_report(pred_boost,valid_y,target_names=int_to_labels_evm))\n",
        "disp=ConfusionMatrixDisplay.from_predictions(pred_boost, valid_y,display_labels=int_to_labels_evm)\n",
        "fig=disp.ax_.get_figure() \n",
        "fig.set_figwidth(10)\n",
        "fig.set_figheight(5) "
      ],
      "metadata": {
        "id": "1KNe-6pS0bov",
        "outputId": "d5dbf95d-674d-4816-a5d6-d79e1edfa4db",
        "colab": {
          "base_uri": "https://localhost:8080/",
          "height": 490
        }
      },
      "id": "1KNe-6pS0bov",
      "execution_count": 349,
      "outputs": [
        {
          "output_type": "stream",
          "name": "stdout",
          "text": [
            "              precision    recall  f1-score   support\n",
            "\n",
            "         bad       0.56      0.27      0.37      3378\n",
            "        good       0.56      0.81      0.67      3914\n",
            "\n",
            "    accuracy                           0.56      7292\n",
            "   macro avg       0.56      0.54      0.52      7292\n",
            "weighted avg       0.56      0.56      0.53      7292\n",
            "\n"
          ]
        },
        {
          "output_type": "display_data",
          "data": {
            "text/plain": [
              "<Figure size 720x360 with 2 Axes>"
            ],
            "image/png": "[encoded data removed]"
          },
          "metadata": {
            "needs_background": "light"
          }
        }
      ]
    },
    {
      "cell_type": "code",
      "source": [
        "from sklearn.svm import SVC"
      ],
      "metadata": {
        "id": "AkLJgdMW1ofn"
      },
      "id": "AkLJgdMW1ofn",
      "execution_count": null,
      "outputs": []
    },
    {
      "cell_type": "code",
      "source": [
        "svc_model = SVC(class_weight='balanced', probability=True)\n",
        "svc_model.fit(xs, y)"
      ],
      "metadata": {
        "id": "3LmeSeL407ZA",
        "outputId": "91d09054-1c8e-4973-f27f-8d73dc4a3990",
        "colab": {
          "base_uri": "https://localhost:8080/"
        }
      },
      "id": "3LmeSeL407ZA",
      "execution_count": 332,
      "outputs": [
        {
          "output_type": "execute_result",
          "data": {
            "text/plain": [
              "SVC(class_weight='balanced', probability=True)"
            ]
          },
          "metadata": {},
          "execution_count": 332
        }
      ]
    },
    {
      "cell_type": "code",
      "source": [
        "svc_predict = svc_model.predict(valid_xs)# check performance\n",
        "print(classification_report(svc_predict,valid_y,target_names=int_to_labels_evm))\n",
        "disp=ConfusionMatrixDisplay.from_predictions(svc_predict, valid_y,display_labels=int_to_labels_evm)\n",
        "fig=disp.ax_.get_figure() \n",
        "fig.set_figwidth(10)\n",
        "fig.set_figheight(5) "
      ],
      "metadata": {
        "id": "oC6NNrDt1VEB",
        "outputId": "e028c5aa-5e2b-473e-e820-c02bd4fa13af",
        "colab": {
          "base_uri": "https://localhost:8080/",
          "height": 490
        }
      },
      "id": "oC6NNrDt1VEB",
      "execution_count": 327,
      "outputs": [
        {
          "output_type": "stream",
          "name": "stdout",
          "text": [
            "              precision    recall  f1-score   support\n",
            "\n",
            "         bad       0.61      0.23      0.33      4381\n",
            "        good       0.40      0.78      0.53      2911\n",
            "\n",
            "    accuracy                           0.45      7292\n",
            "   macro avg       0.51      0.50      0.43      7292\n",
            "weighted avg       0.53      0.45      0.41      7292\n",
            "\n"
          ]
        },
        {
          "output_type": "display_data",
          "data": {
            "text/plain": [
              "<Figure size 720x360 with 2 Axes>"
            ],
            "image/png": "[encoded data removed]"
          },
          "metadata": {
            "needs_background": "light"
          }
        }
      ]
    },
    {
      "cell_type": "code",
      "source": [],
      "metadata": {
        "id": "JbMKzFkF2BiY"
      },
      "id": "JbMKzFkF2BiY",
      "execution_count": null,
      "outputs": []
    }
  ],
  "metadata": {
    "kernelspec": {
      "display_name": "Python 3.10.0 64-bit",
      "language": "python",
      "name": "python3"
    },
    "language_info": {
      "codemirror_mode": {
        "name": "ipython",
        "version": 3
      },
      "file_extension": ".py",
      "mimetype": "text/x-python",
      "name": "python",
      "nbconvert_exporter": "python",
      "pygments_lexer": "ipython3",
      "version": "3.10.0"
    },
    "vscode": {
      "interpreter": {
        "hash": "525f50cd3df40e9d57f214b2f9bedadf4bf08c85f9f5b3b27734de5b2eace747"
      }
    },
    "colab": {
      "provenance": [],
      "collapsed_sections": [],
      "include_colab_link": true
    }
  },
  "nbformat": 4,
  "nbformat_minor": 5
}