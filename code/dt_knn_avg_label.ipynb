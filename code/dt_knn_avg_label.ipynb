{
  "cells": [
    {
      "cell_type": "markdown",
      "metadata": {
        "id": "view-in-github",
        "colab_type": "text"
      },
      "source": [
        "<a href=\"https://colab.research.google.com/github/johntanas/it1244project/blob/main/code/dt_knn_avg_label.ipynb\" target=\"_parent\"><img src=\"https://colab.research.google.com/assets/colab-badge.svg\" alt=\"Open In Colab\"/></a>"
      ]
    },
    {
      "cell_type": "code",
      "execution_count": 63,
      "id": "5179ea71",
      "metadata": {
        "id": "5179ea71"
      },
      "outputs": [],
      "source": [
        "import pandas as pd\n",
        "import numpy as np"
      ]
    },
    {
      "cell_type": "code",
      "source": [
        "onlinedataset=True\n",
        "if onlinedataset:\n",
        "  url = \"https://drive.google.com/file/d/1Ktdv2NTyK2AM48yBvbpFezd82-srqj7w/view?usp=sharing\"\n",
        "  url='https://drive.google.com/uc?id=' + url.split('/')[-2]\n",
        "  cleaned_app_df=pd.read_csv(url,index_col=0)\n",
        "else:\n",
        "  pathtoapp=\"/content/cleaned_application.csv\"\n",
        "  cleaned_app_df=pd.read_csv(pathtoapp,index_col=0)\n",
        "path_to_avg_label=\"/content/average_label.csv\"\n",
        "path_to_evm_label=\"/content/expo_moving_labels.csv\"\n",
        "avg_df_status=pd.read_csv(path_to_avg_label,index_col=0)\n",
        "ewm_df_status=pd.read_csv(path_to_evm_label,index_col=0)"
      ],
      "metadata": {
        "id": "XJlCQwWJEl2_"
      },
      "id": "XJlCQwWJEl2_",
      "execution_count": 100,
      "outputs": []
    },
    {
      "cell_type": "code",
      "source": [
        "labels_to_int_evm={\"bad\":1,\"neutral\":2,\"good\":3}\n",
        "labels_to_int_avg={\"very bad\":0,\"bad\":1,\"good\":2,\"very good\":3}"
      ],
      "metadata": {
        "id": "yATIoEXw31Eu"
      },
      "id": "yATIoEXw31Eu",
      "execution_count": 101,
      "outputs": []
    },
    {
      "cell_type": "code",
      "source": [
        "avg_df=avg_df_status.drop(columns=\"status\").replace({\"label\":labels_to_int_avg})\n",
        "ewm_df=ewm_df_status.drop(columns=\"status\").replace({\"label\":labels_to_int_evm})"
      ],
      "metadata": {
        "id": "lXL4go3Q3UVC"
      },
      "id": "lXL4go3Q3UVC",
      "execution_count": 102,
      "outputs": []
    },
    {
      "cell_type": "code",
      "source": [
        "dep_var=\"label\"\n",
        "random_state=42"
      ],
      "metadata": {
        "id": "DoxeFDv6Mgj8"
      },
      "id": "DoxeFDv6Mgj8",
      "execution_count": 103,
      "outputs": []
    },
    {
      "cell_type": "code",
      "source": [
        "from sklearn.model_selection import ShuffleSplit\n",
        "from pandas.api.types import is_string_dtype, is_numeric_dtype, is_categorical_dtype\n",
        "from sklearn.ensemble import RandomForestClassifier\n",
        "from sklearn.tree import DecisionTreeClassifier,export_text,plot_tree\n",
        "from fastai.tabular.all import *\n",
        "from sklearn.metrics import classification_report, confusion_matrix,ConfusionMatrixDisplay"
      ],
      "metadata": {
        "id": "72z3c3jMIzVZ"
      },
      "id": "72z3c3jMIzVZ",
      "execution_count": 104,
      "outputs": []
    },
    {
      "cell_type": "code",
      "source": [
        "train_df=avg_df.merge(cleaned_app_df,how=\"inner\",on=\"id\").drop(\"id\",axis=1)"
      ],
      "metadata": {
        "id": "ZEu51Hh-LyC5"
      },
      "id": "ZEu51Hh-LyC5",
      "execution_count": 105,
      "outputs": []
    },
    {
      "cell_type": "code",
      "execution_count": 106,
      "id": "db605ac0",
      "metadata": {
        "id": "db605ac0"
      },
      "outputs": [],
      "source": [
        "cont,cat = cont_cat_split(train_df, max_card=1, dep_var=dep_var)"
      ]
    },
    {
      "cell_type": "code",
      "source": [
        "sss = ShuffleSplit(n_splits=1, test_size=0.2)\n",
        "train_idx, valid_idx = next(sss.split(train_df))\n",
        "splits = (list(train_idx),list(valid_idx))"
      ],
      "metadata": {
        "id": "OPi_3D8PNUsR"
      },
      "id": "OPi_3D8PNUsR",
      "execution_count": 107,
      "outputs": []
    },
    {
      "cell_type": "code",
      "source": [
        "procs = [Categorify, Normalize]\n",
        "to = TabularPandas(train_df, procs, cat, cont,\n",
        "                      splits=splits, y_names=dep_var)"
      ],
      "metadata": {
        "id": "fyZWDaD6I76o"
      },
      "id": "fyZWDaD6I76o",
      "execution_count": 108,
      "outputs": []
    },
    {
      "cell_type": "code",
      "source": [
        "xs,y = to.train.xs,to.train.y\n",
        "valid_xs,valid_y = to.valid.xs,to.valid.y"
      ],
      "metadata": {
        "id": "psnOcv568fbM"
      },
      "id": "psnOcv568fbM",
      "execution_count": 135,
      "outputs": []
    },
    {
      "cell_type": "code",
      "source": [
        "m = DecisionTreeClassifier(max_depth=18,random_state=random_state)\n",
        "m.fit(xs, y)"
      ],
      "metadata": {
        "id": "65zi5g0g8Jku",
        "outputId": "37df6d27-4f98-4ff9-b474-6a572358b0d4",
        "colab": {
          "base_uri": "https://localhost:8080/"
        }
      },
      "id": "65zi5g0g8Jku",
      "execution_count": 136,
      "outputs": [
        {
          "output_type": "execute_result",
          "data": {
            "text/plain": [
              "DecisionTreeClassifier(max_depth=18, random_state=42)"
            ]
          },
          "metadata": {},
          "execution_count": 136
        }
      ]
    },
    {
      "cell_type": "code",
      "source": [
        "preds=m.predict(valid_xs)"
      ],
      "metadata": {
        "id": "3IKlaeFFMuZ1"
      },
      "id": "3IKlaeFFMuZ1",
      "execution_count": 137,
      "outputs": []
    },
    {
      "cell_type": "code",
      "source": [
        "int_to_labels_avg={v:k for k,v in enumerate(labels_to_int_avg)}"
      ],
      "metadata": {
        "id": "sVmFd-LbPJVS"
      },
      "id": "sVmFd-LbPJVS",
      "execution_count": 138,
      "outputs": []
    },
    {
      "cell_type": "code",
      "source": [
        "print(classification_report(preds,valid_y,target_names=int_to_labels_avg))\n",
        "disp=ConfusionMatrixDisplay.from_predictions(preds, valid_y,display_labels=int_to_labels_avg)\n",
        "fig=disp.ax_.get_figure() \n",
        "fig.set_figwidth(10)\n",
        "fig.set_figheight(5) "
      ],
      "metadata": {
        "id": "lj5t7afwMjsQ",
        "outputId": "7f2b143b-ce1c-4be4-8dd4-a3c3c0aba5b5",
        "colab": {
          "base_uri": "https://localhost:8080/",
          "height": 525
        }
      },
      "id": "lj5t7afwMjsQ",
      "execution_count": 139,
      "outputs": [
        {
          "output_type": "stream",
          "name": "stdout",
          "text": [
            "              precision    recall  f1-score   support\n",
            "\n",
            "    very bad       0.35      0.40      0.37      1733\n",
            "         bad       0.30      0.43      0.36      1349\n",
            "        good       0.64      0.41      0.50      3729\n",
            "   very good       0.22      0.44      0.30       481\n",
            "\n",
            "    accuracy                           0.41      7292\n",
            "   macro avg       0.38      0.42      0.38      7292\n",
            "weighted avg       0.48      0.41      0.43      7292\n",
            "\n"
          ]
        },
        {
          "output_type": "display_data",
          "data": {
            "text/plain": [
              "<Figure size 720x360 with 2 Axes>"
            ],
            "image/png": "[encoded data removed]"
          },
          "metadata": {
            "needs_background": "light"
          }
        }
      ]
    },
    {
      "cell_type": "code",
      "source": [
        "def rf(xs, y, n_estimators=40, max_samples=20_000,\n",
        "       max_features=0.5, min_samples_leaf=5,random_state=random_state):\n",
        "    return RandomForestClassifier(n_jobs=-1, n_estimators=n_estimators,\n",
        "        max_samples=max_samples, max_features=max_features,\n",
        "        min_samples_leaf=min_samples_leaf, oob_score=True,random_state=random_state).fit(xs, y)"
      ],
      "metadata": {
        "id": "1ugWF27F8vk6"
      },
      "id": "1ugWF27F8vk6",
      "execution_count": 140,
      "outputs": []
    },
    {
      "cell_type": "code",
      "source": [
        "rf_m = rf(xs, y)\n",
        "preds_rf=rf_m.predict(valid_xs)"
      ],
      "metadata": {
        "id": "2IyvRObh8zea"
      },
      "id": "2IyvRObh8zea",
      "execution_count": 142,
      "outputs": []
    },
    {
      "cell_type": "code",
      "source": [
        "print(classification_report(preds_rf,valid_y,target_names=int_to_labels_avg))\n",
        "disp=ConfusionMatrixDisplay.from_predictions(preds_rf, valid_y,display_labels=int_to_labels_avg)\n",
        "fig=disp.ax_.get_figure() \n",
        "fig.set_figwidth(10)\n",
        "fig.set_figheight(5) "
      ],
      "metadata": {
        "id": "Xyef8KbELlD_",
        "outputId": "0e0b5412-72d0-400f-8d68-aa5aa3d686f3",
        "colab": {
          "base_uri": "https://localhost:8080/",
          "height": 525
        }
      },
      "id": "Xyef8KbELlD_",
      "execution_count": 143,
      "outputs": [
        {
          "output_type": "stream",
          "name": "stdout",
          "text": [
            "              precision    recall  f1-score   support\n",
            "\n",
            "    very bad       0.42      0.43      0.42      1940\n",
            "         bad       0.44      0.47      0.45      1843\n",
            "        good       0.60      0.48      0.53      3023\n",
            "   very good       0.28      0.55      0.37       486\n",
            "\n",
            "    accuracy                           0.47      7292\n",
            "   macro avg       0.44      0.48      0.44      7292\n",
            "weighted avg       0.49      0.47      0.47      7292\n",
            "\n"
          ]
        },
        {
          "output_type": "display_data",
          "data": {
            "text/plain": [
              "<Figure size 720x360 with 2 Axes>"
            ],
            "image/png": "[encoded data removed]"
          },
          "metadata": {
            "needs_background": "light"
          }
        }
      ]
    },
    {
      "cell_type": "code",
      "source": [
        "from lightgbm import LGBMClassifier"
      ],
      "metadata": {
        "id": "PmghXWKw9TU-"
      },
      "id": "PmghXWKw9TU-",
      "execution_count": 144,
      "outputs": []
    },
    {
      "cell_type": "code",
      "source": [
        "boosted_tree=LGBMClassifier(boosting_type=\"gbdt\",random_state=random_state)\n",
        "boosted_tree.fit(xs,y)"
      ],
      "metadata": {
        "id": "aUMnzoIq9T86",
        "outputId": "3802b2ca-a078-4989-cce1-852dd1c612fb",
        "colab": {
          "base_uri": "https://localhost:8080/"
        }
      },
      "id": "aUMnzoIq9T86",
      "execution_count": 145,
      "outputs": [
        {
          "output_type": "execute_result",
          "data": {
            "text/plain": [
              "LGBMClassifier(random_state=42)"
            ]
          },
          "metadata": {},
          "execution_count": 145
        }
      ]
    },
    {
      "cell_type": "code",
      "source": [
        "pred_boost=boosted_tree.predict(valid_xs)\n",
        "print(classification_report(pred_boost,valid_y,target_names=int_to_labels_avg))\n",
        "disp=ConfusionMatrixDisplay.from_predictions(pred_boost, valid_y,display_labels=int_to_labels_avg)\n",
        "fig=disp.ax_.get_figure() \n",
        "fig.set_figwidth(10)\n",
        "fig.set_figheight(5) "
      ],
      "metadata": {
        "id": "8IYpMFMaOy5Y",
        "outputId": "73c422c5-6c25-43b2-9834-83d0a47dcedd",
        "colab": {
          "base_uri": "https://localhost:8080/",
          "height": 525
        }
      },
      "id": "8IYpMFMaOy5Y",
      "execution_count": 146,
      "outputs": [
        {
          "output_type": "stream",
          "name": "stdout",
          "text": [
            "              precision    recall  f1-score   support\n",
            "\n",
            "    very bad       0.27      0.44      0.34      1208\n",
            "         bad       0.29      0.45      0.35      1249\n",
            "        good       0.76      0.39      0.52      4676\n",
            "   very good       0.10      0.62      0.18       159\n",
            "\n",
            "    accuracy                           0.42      7292\n",
            "   macro avg       0.36      0.48      0.35      7292\n",
            "weighted avg       0.59      0.42      0.45      7292\n",
            "\n"
          ]
        },
        {
          "output_type": "display_data",
          "data": {
            "text/plain": [
              "<Figure size 720x360 with 2 Axes>"
            ],
            "image/png": "[encoded data removed]"
          },
          "metadata": {
            "needs_background": "light"
          }
        }
      ]
    },
    {
      "cell_type": "markdown",
      "source": [
        "It seems that the random forest is the best at detecting bad clients with a 50% precision rate, we would be compressing neutral with good when we make a prediction"
      ],
      "metadata": {
        "id": "YBolYVoUQipq"
      },
      "id": "YBolYVoUQipq"
    },
    {
      "cell_type": "code",
      "source": [
        "def rf_feat_importance(m, df):\n",
        "    return pd.DataFrame({'cols':df.columns, 'imp':m.feature_importances_}\n",
        "                       ).sort_values('imp', ascending=False)\n",
        "fi = rf_feat_importance(m, xs)\n",
        "def plot_fi(fi):\n",
        "    return fi.plot('cols', 'imp', 'barh', figsize=(12,7), legend=False)\n",
        "plot_fi(fi);"
      ],
      "metadata": {
        "id": "oGNw-_aEQxmo",
        "outputId": "0f737f27-2dc3-4159-babb-609eebce7cd8",
        "colab": {
          "base_uri": "https://localhost:8080/",
          "height": 428
        }
      },
      "id": "oGNw-_aEQxmo",
      "execution_count": 147,
      "outputs": [
        {
          "output_type": "display_data",
          "data": {
            "text/plain": [
              "<Figure size 864x504 with 1 Axes>"
            ],
            "image/png": "[encoded data removed]"
          },
          "metadata": {
            "needs_background": "light"
          }
        }
      ]
    },
    {
      "cell_type": "markdown",
      "source": [
        "We can drop weak learners from looking at our random forest feature importance.\n",
        "We define a weak learner as less than 0.05 feature importance."
      ],
      "metadata": {
        "id": "9H6nVCmCQ0FO"
      },
      "id": "9H6nVCmCQ0FO"
    },
    {
      "cell_type": "code",
      "source": [
        "imp_cols=fi[fi[\"imp\"]>0.05]"
      ],
      "metadata": {
        "id": "h-68bo2mPTvw"
      },
      "id": "h-68bo2mPTvw",
      "execution_count": 148,
      "outputs": []
    },
    {
      "cell_type": "markdown",
      "source": [
        "We can do KNN with the dataset with the reduced dimension"
      ],
      "metadata": {
        "id": "hnW_N2lLRbO0"
      },
      "id": "hnW_N2lLRbO0"
    },
    {
      "cell_type": "code",
      "source": [
        "from sklearn.neighbors import KNeighborsClassifier\n",
        "from sklearn.model_selection import train_test_split"
      ],
      "metadata": {
        "id": "r2vIDVVJSSyY"
      },
      "id": "r2vIDVVJSSyY",
      "execution_count": 149,
      "outputs": []
    },
    {
      "cell_type": "code",
      "source": [
        "imp_X=train_df[np.array(imp_cols.cols)]\n",
        "y=train_df[\"label\"]"
      ],
      "metadata": {
        "id": "0JPzAWh-WjaM"
      },
      "id": "0JPzAWh-WjaM",
      "execution_count": 150,
      "outputs": []
    },
    {
      "cell_type": "markdown",
      "source": [
        "We one hot code the jobs before we train test split incase we split and lose a job"
      ],
      "metadata": {
        "id": "-DNHboiLX1R4"
      },
      "id": "-DNHboiLX1R4"
    },
    {
      "cell_type": "code",
      "source": [
        "jobs=pd.get_dummies(imp_X[\"job\"])"
      ],
      "metadata": {
        "id": "UCtAaEbGYDCN"
      },
      "id": "UCtAaEbGYDCN",
      "execution_count": 151,
      "outputs": []
    },
    {
      "cell_type": "code",
      "source": [
        "to_split=imp_X.drop(columns=\"job\").join(jobs)"
      ],
      "metadata": {
        "id": "gIjhBacdYOvc"
      },
      "id": "gIjhBacdYOvc",
      "execution_count": 152,
      "outputs": []
    },
    {
      "cell_type": "code",
      "source": [
        "cont=imp_X._get_numeric_data().columns"
      ],
      "metadata": {
        "id": "D-aKh2wfYqV7"
      },
      "id": "D-aKh2wfYqV7",
      "execution_count": 153,
      "outputs": []
    },
    {
      "cell_type": "code",
      "source": [
        "X_knn,valid_X_knn,y_knn,valid_y_knn=train_test_split(to_split,y,random_state=random_state)"
      ],
      "metadata": {
        "id": "BOJ1Y_QCXWSg"
      },
      "id": "BOJ1Y_QCXWSg",
      "execution_count": 154,
      "outputs": []
    },
    {
      "cell_type": "code",
      "source": [
        "# take k= sqrt(len(features))\n",
        "k=round(math.sqrt(X_knn.shape[0]))\n",
        "# k should be odd\n",
        "if k %2 ==0:\n",
        "  k+=1"
      ],
      "metadata": {
        "id": "aWP2n1vTSzNS"
      },
      "id": "aWP2n1vTSzNS",
      "execution_count": 155,
      "outputs": []
    },
    {
      "cell_type": "markdown",
      "source": [
        "We standardise the numerical cols using training data"
      ],
      "metadata": {
        "id": "BI8SQJcxT7Jr"
      },
      "id": "BI8SQJcxT7Jr"
    },
    {
      "cell_type": "code",
      "source": [
        "from sklearn.preprocessing import StandardScaler\n",
        "knn_standard=StandardScaler()\n",
        "knn_standard.fit(X_knn[cont])"
      ],
      "metadata": {
        "id": "WaX8fPOSUJgF",
        "outputId": "cb66b409-9118-45ed-dceb-4621fb7e11cf",
        "colab": {
          "base_uri": "https://localhost:8080/"
        }
      },
      "id": "WaX8fPOSUJgF",
      "execution_count": 156,
      "outputs": [
        {
          "output_type": "execute_result",
          "data": {
            "text/plain": [
              "StandardScaler()"
            ]
          },
          "metadata": {},
          "execution_count": 156
        }
      ]
    },
    {
      "cell_type": "code",
      "source": [
        "scaled_features=knn_standard.transform(X_knn[cont])\n",
        "X_knn[cont]=scaled_features"
      ],
      "metadata": {
        "id": "WpzKe5gIVVcN"
      },
      "id": "WpzKe5gIVVcN",
      "execution_count": 157,
      "outputs": []
    },
    {
      "cell_type": "code",
      "source": [
        "valid_scaled_features=knn_standard.transform(valid_X_knn[cont])\n",
        "valid_X_knn[cont]=valid_scaled_features"
      ],
      "metadata": {
        "id": "1VdTuBUnY_oS"
      },
      "id": "1VdTuBUnY_oS",
      "execution_count": 158,
      "outputs": []
    },
    {
      "cell_type": "code",
      "source": [
        "knn=KNeighborsClassifier(k)"
      ],
      "metadata": {
        "id": "LiB4QKYLTaMR"
      },
      "id": "LiB4QKYLTaMR",
      "execution_count": 159,
      "outputs": []
    },
    {
      "cell_type": "code",
      "source": [
        "knn.fit(X_knn,y_knn)"
      ],
      "metadata": {
        "id": "Pw_ydHkaVzjw",
        "outputId": "20517732-2dbb-4cf1-b6e1-c9633d4f66e9",
        "colab": {
          "base_uri": "https://localhost:8080/"
        }
      },
      "id": "Pw_ydHkaVzjw",
      "execution_count": 160,
      "outputs": [
        {
          "output_type": "execute_result",
          "data": {
            "text/plain": [
              "KNeighborsClassifier(n_neighbors=165)"
            ]
          },
          "metadata": {},
          "execution_count": 160
        }
      ]
    },
    {
      "cell_type": "code",
      "source": [
        "preds_knn=knn.predict(valid_X_knn)\n",
        "print(classification_report(preds_knn,valid_y_knn,target_names=int_to_labels_avg))\n",
        "disp=ConfusionMatrixDisplay.from_predictions(preds_knn,valid_y_knn,display_labels=int_to_labels_avg)\n",
        "fig=disp.ax_.get_figure() \n",
        "fig.set_figwidth(10)\n",
        "fig.set_figheight(5) "
      ],
      "metadata": {
        "id": "MVA3ViDVV-Lo",
        "outputId": "90a14b9b-f82b-471d-f8e4-296baf7bfdc9",
        "colab": {
          "base_uri": "https://localhost:8080/",
          "height": 525
        }
      },
      "id": "MVA3ViDVV-Lo",
      "execution_count": 161,
      "outputs": [
        {
          "output_type": "stream",
          "name": "stdout",
          "text": [
            "              precision    recall  f1-score   support\n",
            "\n",
            "    very bad       0.22      0.30      0.25      1899\n",
            "         bad       0.21      0.32      0.25      1613\n",
            "        good       0.65      0.34      0.45      5601\n",
            "   very good       0.00      0.00      0.00         2\n",
            "\n",
            "    accuracy                           0.33      9115\n",
            "   macro avg       0.27      0.24      0.24      9115\n",
            "weighted avg       0.48      0.33      0.37      9115\n",
            "\n"
          ]
        },
        {
          "output_type": "display_data",
          "data": {
            "text/plain": [
              "<Figure size 720x360 with 2 Axes>"
            ],
            "image/png": "[encoded data removed]"
          },
          "metadata": {
            "needs_background": "light"
          }
        }
      ]
    }
  ],
  "metadata": {
    "kernelspec": {
      "display_name": "Python 3.10.0 64-bit",
      "language": "python",
      "name": "python3"
    },
    "language_info": {
      "codemirror_mode": {
        "name": "ipython",
        "version": 3
      },
      "file_extension": ".py",
      "mimetype": "text/x-python",
      "name": "python",
      "nbconvert_exporter": "python",
      "pygments_lexer": "ipython3",
      "version": "3.10.0"
    },
    "vscode": {
      "interpreter": {
        "hash": "525f50cd3df40e9d57f214b2f9bedadf4bf08c85f9f5b3b27734de5b2eace747"
      }
    },
    "colab": {
      "provenance": [],
      "collapsed_sections": [],
      "include_colab_link": true
    }
  },
  "nbformat": 4,
  "nbformat_minor": 5
}