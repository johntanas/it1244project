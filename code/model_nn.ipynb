{
  "cells": [
    {
      "cell_type": "markdown",
      "metadata": {
        "colab_type": "text",
        "id": "view-in-github"
      },
      "source": [
        "<a href=\"https://colab.research.google.com/github/johntanas/it1244project/blob/main/code/model_nn.ipynb\" target=\"_parent\"><img src=\"https://colab.research.google.com/assets/colab-badge.svg\" alt=\"Open In Colab\"/></a>"
      ]
    },
    {
      "cell_type": "code",
      "execution_count": 1,
      "id": "5179ea71",
      "metadata": {
        "id": "5179ea71"
      },
      "outputs": [],
      "source": [
        "import pandas as pd\n",
        "import numpy as np\n",
        "from sklearn.preprocessing import StandardScaler,OneHotEncoder,OrdinalEncoder\n",
        "from sklearn.compose import ColumnTransformer\n",
        "from sklearn.model_selection import RepeatedStratifiedKFold\n",
        "from imblearn.over_sampling import SMOTE\n",
        "from sklearn.metrics import roc_auc_score\n",
        "from imblearn.under_sampling import TomekLinks\n",
        "import matplotlib.pyplot as plt"
      ]
    },
    {
      "cell_type": "code",
      "execution_count": 2,
      "id": "gwWC421NqpxW",
      "metadata": {
        "id": "gwWC421NqpxW"
      },
      "outputs": [],
      "source": [
        "n_repeats=1\n",
        "n_splits=5"
      ]
    },
    {
      "cell_type": "code",
      "execution_count": 3,
      "id": "XJlCQwWJEl2_",
      "metadata": {
        "id": "XJlCQwWJEl2_"
      },
      "outputs": [],
      "source": [
        "path_to_max_label=\"../content/max_label.csv\"\n",
        "path_to_app=\"../content/cleaned_application.csv\"\n",
        "cleaned_app_df=pd.read_csv(path_to_app,index_col=0)\n",
        "max_df=pd.read_csv(path_to_max_label,index_col=0)"
      ]
    },
    {
      "cell_type": "code",
      "execution_count": 4,
      "id": "DoxeFDv6Mgj8",
      "metadata": {
        "id": "DoxeFDv6Mgj8"
      },
      "outputs": [],
      "source": [
        "dep_var=\"status\"\n",
        "random_state=42"
      ]
    },
    {
      "cell_type": "markdown",
      "id": "LU5wQZdFPNoR",
      "metadata": {
        "id": "LU5wQZdFPNoR"
      },
      "source": [
        "preprocessing the same as other model notebook."
      ]
    },
    {
      "cell_type": "code",
      "execution_count": 5,
      "id": "zieu69u9S3r9",
      "metadata": {
        "id": "zieu69u9S3r9"
      },
      "outputs": [],
      "source": [
        "order=cleaned_app_df.groupby(\"job\")[\"income\"].median().sort_values()"
      ]
    },
    {
      "cell_type": "code",
      "execution_count": 6,
      "id": "Vq37hbF7TC0v",
      "metadata": {
        "id": "Vq37hbF7TC0v"
      },
      "outputs": [],
      "source": [
        "cleaned_app_df[\"job\"]=cleaned_app_df[\"job\"].replace(order)"
      ]
    },
    {
      "cell_type": "code",
      "execution_count": 7,
      "id": "ZEu51Hh-LyC5",
      "metadata": {
        "id": "ZEu51Hh-LyC5"
      },
      "outputs": [],
      "source": [
        "train_df=max_df.merge(cleaned_app_df,how=\"inner\",on=\"id\").drop(\"id\",axis=1)"
      ]
    },
    {
      "cell_type": "code",
      "execution_count": 8,
      "id": "JqwrdVI-75AF",
      "metadata": {
        "id": "JqwrdVI-75AF"
      },
      "outputs": [],
      "source": [
        "numerical_transformer = StandardScaler()\n",
        "categorical_transformer=OneHotEncoder()\n",
        "ord_transformer=OrdinalEncoder()"
      ]
    },
    {
      "cell_type": "code",
      "execution_count": 9,
      "id": "V03vSX3e8BDr",
      "metadata": {
        "id": "V03vSX3e8BDr"
      },
      "outputs": [],
      "source": [
        "X,y=train_df.drop(columns=dep_var),train_df[dep_var]"
      ]
    },
    {
      "cell_type": "code",
      "execution_count": 10,
      "id": "PxZXExPK77oD",
      "metadata": {
        "id": "PxZXExPK77oD"
      },
      "outputs": [],
      "source": [
        "categorical_cols = [cname for cname in X.columns if X[cname].nunique() < 10 and \n",
        "                        X[cname].dtype == \"object\"]\n",
        "numerical_cols = [cname for cname in X.columns if X[cname].dtype in ['int64', 'float64']]\n"
      ]
    },
    {
      "cell_type": "code",
      "execution_count": 11,
      "id": "GUdPAjpk76qY",
      "metadata": {
        "id": "GUdPAjpk76qY"
      },
      "outputs": [],
      "source": [
        "preprocessor = ColumnTransformer(\n",
        "    transformers=[\n",
        "        ('num', numerical_transformer, numerical_cols),\n",
        "        ('cat', categorical_transformer, categorical_cols),\n",
        "        ('ord',ord_transformer,['job'])\n",
        "    ])"
      ]
    },
    {
      "cell_type": "code",
      "execution_count": 12,
      "id": "sBxqujKg8FDR",
      "metadata": {
        "id": "sBxqujKg8FDR"
      },
      "outputs": [],
      "source": [
        "xs=preprocessor.fit_transform(X)"
      ]
    },
    {
      "cell_type": "code",
      "execution_count": 13,
      "id": "gpCTr2Oh_t_Q",
      "metadata": {
        "id": "gpCTr2Oh_t_Q"
      },
      "outputs": [],
      "source": [
        "score_df=pd.DataFrame()"
      ]
    },
    {
      "cell_type": "markdown",
      "id": "pvixVAlrN2nf",
      "metadata": {
        "id": "pvixVAlrN2nf"
      },
      "source": [
        "cv same"
      ]
    },
    {
      "cell_type": "code",
      "execution_count": 14,
      "id": "Uk6kEisNN2AP",
      "metadata": {
        "id": "Uk6kEisNN2AP"
      },
      "outputs": [],
      "source": [
        "cv = RepeatedStratifiedKFold(n_splits=n_splits, n_repeats=n_repeats, random_state=random_state)"
      ]
    },
    {
      "cell_type": "code",
      "execution_count": 15,
      "id": "nQxbNZZ4OAlw",
      "metadata": {
        "id": "nQxbNZZ4OAlw"
      },
      "outputs": [],
      "source": [
        "# dataframe of scores to be converted into plot later\n",
        "score_df=pd.DataFrame()"
      ]
    },
    {
      "cell_type": "code",
      "execution_count": 16,
      "id": "1ZfWWT07KV_s",
      "metadata": {
        "id": "1ZfWWT07KV_s"
      },
      "outputs": [],
      "source": [
        "import keras\n",
        "import tensorflow as tf\n",
        "from keras.utils.np_utils import to_categorical\n",
        "from keras import optimizers\n",
        "from keras.models import Sequential\n",
        "from keras.layers import Dense, Activation, Flatten\n",
        "from sklearn.utils.class_weight import compute_class_weight"
      ]
    },
    {
      "cell_type": "code",
      "execution_count": 17,
      "id": "RX72U7191Fyd",
      "metadata": {
        "id": "RX72U7191Fyd"
      },
      "outputs": [],
      "source": [
        "def scheduler(epoch, lr):\n",
        "          if epoch < 10:\n",
        "            return lr\n",
        "          else:\n",
        "            return lr * tf.math.exp(-0.1)\n",
        "schedule = tf.keras.callbacks.LearningRateScheduler(scheduler)\n",
        "# montior is the loss, not metric, patience is personal heuristic\n",
        "earlystop=keras.callbacks.EarlyStopping(monitor='val_loss',patience=5,restore_best_weights=True)\n",
        "callbacks=[schedule,earlystop]\n",
        "#Adam > SGD\n",
        "opt = tf.optimizers.Adam(learning_rate=0.001)\n",
        "#Use BinaryFocalCrossentropy instead of BinaryCrossentropy\n",
        "loss= tf.keras.losses.BinaryFocalCrossentropy()\n",
        "# we can use AUC and PR metric\n",
        "metrics = [tf.keras.metrics.AUC(curve='ROC')]\n",
        "def createModel(loss,optimizer,metrics):\n",
        "    model= keras.Sequential([\n",
        "      keras.layers.Dense(1024,activation=\"relu\"),\n",
        "      keras.layers.Dropout(0.2),\n",
        "      keras.layers.Dense(512,activation=\"relu\"),\n",
        "      keras.layers.Dropout(0.2),\n",
        "      keras.layers.Dense(256,activation=\"relu\"),\n",
        "      keras.layers.Dense(128,activation=\"relu\"),\n",
        "      keras.layers.Dense(1,activation=\"sigmoid\")])\n",
        "    model.compile(loss=loss,optimizer=opt, metrics=metrics)\n",
        "    return model"
      ]
    },
    {
      "cell_type": "code",
      "execution_count": 18,
      "id": "AzogFSgyKUaT",
      "metadata": {
        "colab": {
          "base_uri": "https://localhost:8080/"
        },
        "id": "AzogFSgyKUaT",
        "outputId": "3924fa8f-c61c-44ef-c96a-569b1850d41c"
      },
      "outputs": [
        {
          "name": "stdout",
          "output_type": "stream",
          "text": [
            "Epoch 1/100\n",
            "285/285 [==============================] - 4s 11ms/step - loss: 0.1752 - auc: 0.5150 - val_loss: 0.1632 - val_auc: 0.5364 - lr: 0.0010\n",
            "Epoch 2/100\n",
            "285/285 [==============================] - 3s 12ms/step - loss: 0.1732 - auc: 0.5354 - val_loss: 0.1728 - val_auc: 0.5403 - lr: 0.0010\n",
            "Epoch 3/100\n",
            "285/285 [==============================] - 4s 13ms/step - loss: 0.1722 - auc: 0.5558 - val_loss: 0.1721 - val_auc: 0.5598 - lr: 0.0010\n",
            "Epoch 4/100\n",
            "285/285 [==============================] - 3s 12ms/step - loss: 0.1714 - auc: 0.5724 - val_loss: 0.1634 - val_auc: 0.5602 - lr: 0.0010\n",
            "Epoch 5/100\n",
            "285/285 [==============================] - 3s 12ms/step - loss: 0.1704 - auc: 0.5877 - val_loss: 0.1677 - val_auc: 0.5660 - lr: 0.0010\n",
            "Epoch 6/100\n",
            "285/285 [==============================] - 3s 12ms/step - loss: 0.1693 - auc: 0.6032 - val_loss: 0.1754 - val_auc: 0.5721 - lr: 0.0010\n",
            "NN with best score of 0.5358146773445001\n",
            "Epoch 1/100\n",
            "285/285 [==============================] - 5s 12ms/step - loss: 0.1782 - auc: 0.5444 - val_loss: 0.1770 - val_auc: 0.5191 - lr: 0.0010\n",
            "Epoch 2/100\n",
            "285/285 [==============================] - 3s 10ms/step - loss: 0.1730 - auc: 0.5317 - val_loss: 0.1652 - val_auc: 0.5539 - lr: 0.0010\n",
            "Epoch 3/100\n",
            "285/285 [==============================] - 3s 9ms/step - loss: 0.1721 - auc: 0.5576 - val_loss: 0.1615 - val_auc: 0.5520 - lr: 0.0010\n",
            "Epoch 4/100\n",
            "285/285 [==============================] - 3s 10ms/step - loss: 0.1707 - auc: 0.5835 - val_loss: 0.1647 - val_auc: 0.5703 - lr: 0.0010\n",
            "Epoch 5/100\n",
            "285/285 [==============================] - 3s 9ms/step - loss: 0.1691 - auc: 0.6032 - val_loss: 0.1663 - val_auc: 0.5655 - lr: 0.0010\n",
            "Epoch 6/100\n",
            "285/285 [==============================] - 3s 9ms/step - loss: 0.1668 - auc: 0.6267 - val_loss: 0.1610 - val_auc: 0.5713 - lr: 0.0010\n",
            "Epoch 7/100\n",
            "285/285 [==============================] - 3s 9ms/step - loss: 0.1655 - auc: 0.6411 - val_loss: 0.1597 - val_auc: 0.5800 - lr: 0.0010\n",
            "Epoch 8/100\n",
            "285/285 [==============================] - 4s 13ms/step - loss: 0.1631 - auc: 0.6652 - val_loss: 0.1651 - val_auc: 0.5737 - lr: 0.0010\n",
            "Epoch 9/100\n",
            "285/285 [==============================] - 3s 12ms/step - loss: 0.1614 - auc: 0.6771 - val_loss: 0.1641 - val_auc: 0.5980 - lr: 0.0010\n",
            "Epoch 10/100\n",
            "285/285 [==============================] - 3s 11ms/step - loss: 0.1578 - auc: 0.6991 - val_loss: 0.1809 - val_auc: 0.6093 - lr: 0.0010\n",
            "Epoch 11/100\n",
            "285/285 [==============================] - 3s 12ms/step - loss: 0.1546 - auc: 0.7143 - val_loss: 0.1693 - val_auc: 0.6097 - lr: 9.0484e-04\n",
            "Epoch 12/100\n",
            "285/285 [==============================] - 3s 12ms/step - loss: 0.1513 - auc: 0.7346 - val_loss: 0.1675 - val_auc: 0.6211 - lr: 8.1873e-04\n",
            "NN with best score of 0.5801829292595941\n",
            "NN with avg score of 0.5579988033020471\n"
          ]
        }
      ],
      "source": [
        "bestscore=0\n",
        "bestmodel,bestmodel_val_data=None,None\n",
        "bestmodel_val_data=None\n",
        "scores=[]\n",
        "for train_index, test_index in cv.split(xs,y):\n",
        "      X_train = xs[train_index]\n",
        "      y_train = y[train_index]\n",
        "      X_test = xs[test_index]\n",
        "      y_test = y[test_index]\n",
        "      model= createModel(loss=loss,optimizer=opt, metrics=metrics)\n",
        "      class_w= dict(zip(np.unique(y_train),compute_class_weight(\"balanced\",classes=np.unique(y_train),y=y_train)))\n",
        "      history=model.fit(X_train, y_train,batch_size=64, epochs=100,validation_data=(X_test,y_test),verbose=1,callbacks=callbacks,class_weight=class_w)\n",
        "      y_pred = model.predict(X_test,verbose=0)\n",
        "      score=roc_auc_score(y_test,y_pred)\n",
        "      scores.append(score)\n",
        "      if score>bestscore:\n",
        "            bestmodel=model\n",
        "            bestscore,bestmodel_val_data=score,[y_test,X_test]\n",
        "            print(f\"NN with best score of {score}\")\n",
        "score_df[\"NN\"]=scores\n",
        "print(f\"NN with avg score of {np.median(np.array(scores))}\")"
      ]
    },
    {
      "cell_type": "code",
      "execution_count": 19,
      "id": "K7bwex0kS2Yi",
      "metadata": {
        "id": "K7bwex0kS2Yi"
      },
      "outputs": [
        {
          "name": "stdout",
          "output_type": "stream",
          "text": [
            "570/570 [==============================] - 1s 2ms/step\n"
          ]
        },
        {
          "data": {
            "text/plain": [
              "<AxesSubplot:title={'center':'preds'}, xlabel='[ground_truth]'>"
            ]
          },
          "execution_count": 19,
          "metadata": {},
          "output_type": "execute_result"
        },
        {
          "data": {
            "image/png": "[encoded data removed]",
            "text/plain": [
              "<Figure size 432x288 with 1 Axes>"
            ]
          },
          "metadata": {
            "needs_background": "light"
          },
          "output_type": "display_data"
        }
      ],
      "source": [
        "y_test,X_test=bestmodel_val_data\n",
        "view=pd.DataFrame([model.predict(X_test).reshape(-1),y_test.values]).T\n",
        "view.columns=[\"preds\",\"ground_truth\"]\n",
        "view.boxplot(by='ground_truth')"
      ]
    },
    {
      "cell_type": "code",
      "execution_count": 20,
      "id": "PxwPQbYOF-qb",
      "metadata": {
        "id": "PxwPQbYOF-qb"
      },
      "outputs": [],
      "source": [
        "# classes are balanced ,we use BCE\n",
        "loss= keras.losses.BinaryCrossentropy()\n",
        "earlystop=keras.callbacks.EarlyStopping(patience=5,restore_best_weights=True)\n",
        "callbacks=[schedule,earlystop]"
      ]
    },
    {
      "cell_type": "code",
      "execution_count": 21,
      "id": "05d6081d",
      "metadata": {},
      "outputs": [],
      "source": [
        "score_df.to_csv(\"../content/score_nn.csv\")"
      ]
    },
    {
      "cell_type": "code",
      "execution_count": 22,
      "id": "aQEChnN0GV2r",
      "metadata": {
        "id": "aQEChnN0GV2r"
      },
      "outputs": [],
      "source": [
        "score_df_smote=pd.DataFrame()"
      ]
    },
    {
      "cell_type": "code",
      "execution_count": 23,
      "id": "zaCI_Np_G5Zz",
      "metadata": {
        "id": "zaCI_Np_G5Zz"
      },
      "outputs": [
        {
          "name": "stdout",
          "output_type": "stream",
          "text": [
            "Epoch 1/100\n",
            "503/503 [==============================] - 5s 8ms/step - loss: 0.6772 - auc: 0.6131 - val_loss: 0.6455 - val_auc: 0.5718 - lr: 8.1873e-04\n",
            "Epoch 2/100\n",
            "503/503 [==============================] - 4s 7ms/step - loss: 0.5998 - auc: 0.7356 - val_loss: 0.5979 - val_auc: 0.6073 - lr: 8.1873e-04\n",
            "Epoch 3/100\n",
            "503/503 [==============================] - 4s 7ms/step - loss: 0.5185 - auc: 0.8189 - val_loss: 0.5705 - val_auc: 0.6308 - lr: 8.1873e-04\n",
            "Epoch 4/100\n",
            "503/503 [==============================] - 4s 7ms/step - loss: 0.4598 - auc: 0.8629 - val_loss: 0.5734 - val_auc: 0.6496 - lr: 8.1873e-04\n",
            "Epoch 5/100\n",
            "503/503 [==============================] - 4s 7ms/step - loss: 0.4224 - auc: 0.8859 - val_loss: 0.5205 - val_auc: 0.6470 - lr: 8.1873e-04\n",
            "Epoch 6/100\n",
            "503/503 [==============================] - 4s 7ms/step - loss: 0.3947 - auc: 0.9010 - val_loss: 0.5413 - val_auc: 0.6700 - lr: 8.1873e-04\n",
            "Epoch 7/100\n",
            "503/503 [==============================] - 4s 7ms/step - loss: 0.3709 - auc: 0.9128 - val_loss: 0.5268 - val_auc: 0.6707 - lr: 8.1873e-04\n",
            "Epoch 8/100\n",
            "503/503 [==============================] - 3s 7ms/step - loss: 0.3483 - auc: 0.9233 - val_loss: 0.5359 - val_auc: 0.6703 - lr: 8.1873e-04\n",
            "Epoch 9/100\n",
            "503/503 [==============================] - 3s 7ms/step - loss: 0.3385 - auc: 0.9275 - val_loss: 0.5642 - val_auc: 0.6775 - lr: 8.1873e-04\n",
            "Epoch 10/100\n",
            "503/503 [==============================] - 4s 7ms/step - loss: 0.3287 - auc: 0.9315 - val_loss: 0.5583 - val_auc: 0.6770 - lr: 8.1873e-04\n",
            "NN with best score of 0.647072684864785\n",
            "Epoch 1/100\n",
            "503/503 [==============================] - 4s 7ms/step - loss: 0.6705 - auc: 0.7048 - val_loss: 0.7072 - val_auc: 0.5727 - lr: 8.1873e-04\n",
            "Epoch 2/100\n",
            "503/503 [==============================] - 3s 6ms/step - loss: 0.5862 - auc: 0.7518 - val_loss: 0.5493 - val_auc: 0.5980 - lr: 8.1873e-04\n",
            "Epoch 3/100\n",
            "503/503 [==============================] - 3s 6ms/step - loss: 0.5113 - auc: 0.8239 - val_loss: 0.6047 - val_auc: 0.6278 - lr: 8.1873e-04\n",
            "Epoch 4/100\n",
            "503/503 [==============================] - 3s 6ms/step - loss: 0.4586 - auc: 0.8625 - val_loss: 0.5602 - val_auc: 0.6355 - lr: 8.1873e-04\n",
            "Epoch 5/100\n",
            "503/503 [==============================] - 3s 6ms/step - loss: 0.4181 - auc: 0.8881 - val_loss: 0.5111 - val_auc: 0.6524 - lr: 8.1873e-04\n",
            "Epoch 6/100\n",
            "503/503 [==============================] - 4s 7ms/step - loss: 0.3910 - auc: 0.9029 - val_loss: 0.5621 - val_auc: 0.6558 - lr: 8.1873e-04\n",
            "Epoch 7/100\n",
            "503/503 [==============================] - 3s 7ms/step - loss: 0.3708 - auc: 0.9124 - val_loss: 0.5659 - val_auc: 0.6670 - lr: 8.1873e-04\n",
            "Epoch 8/100\n",
            "503/503 [==============================] - 3s 7ms/step - loss: 0.3542 - auc: 0.9209 - val_loss: 0.5537 - val_auc: 0.6666 - lr: 8.1873e-04\n",
            "Epoch 9/100\n",
            "503/503 [==============================] - 3s 7ms/step - loss: 0.3412 - auc: 0.9265 - val_loss: 0.5816 - val_auc: 0.6700 - lr: 8.1873e-04\n",
            "Epoch 10/100\n",
            "503/503 [==============================] - 3s 6ms/step - loss: 0.3296 - auc: 0.9311 - val_loss: 0.5643 - val_auc: 0.6714 - lr: 8.1873e-04\n",
            "NN with best score of 0.6520941700012768\n"
          ]
        }
      ],
      "source": [
        "bestscore=0\n",
        "bestmodel,bestmodel_val_data=None,None\n",
        "scores=[]\n",
        "for train_index, test_index in cv.split(xs,y):\n",
        "      X_train = xs[train_index]\n",
        "      y_train = y[train_index]\n",
        "      X_test = xs[test_index]\n",
        "      y_test = y[test_index]\n",
        "      model= createModel(loss=loss,optimizer=opt, metrics=metrics)\n",
        "      sm=SMOTE()\n",
        "      X_train_oversampled, y_train_oversampled = sm.fit_resample(X_train, y_train)\n",
        "      model.compile(loss=loss,optimizer=opt, metrics=metrics)\n",
        "      # we do not compute classweights as the data is balanced\n",
        "      history=model.fit(X_train_oversampled,y_train_oversampled,batch_size=64, epochs=100,validation_data=(X_test,y_test),verbose=1,callbacks=callbacks)\n",
        "      y_pred = model.predict(X_test,verbose=0)\n",
        "      score=roc_auc_score(y_test,y_pred)\n",
        "      scores.append(score)\n",
        "      if score>bestscore:\n",
        "            bestmodel=model\n",
        "            bestscore,bestmodel_val_data=score,[y_test,X_test]\n",
        "            print(f\"NN with best score of {score}\")\n",
        "score_df_smote[\"NN_Smote\"]=scores"
      ]
    },
    {
      "cell_type": "code",
      "execution_count": 24,
      "id": "IQJrqaeYHA57",
      "metadata": {
        "id": "IQJrqaeYHA57"
      },
      "outputs": [
        {
          "name": "stdout",
          "output_type": "stream",
          "text": [
            "570/570 [==============================] - 1s 2ms/step\n"
          ]
        },
        {
          "data": {
            "text/plain": [
              "<AxesSubplot:title={'center':'preds'}, xlabel='[ground_truth]'>"
            ]
          },
          "execution_count": 24,
          "metadata": {},
          "output_type": "execute_result"
        },
        {
          "data": {
            "image/png": "[encoded data removed]",
            "text/plain": [
              "<Figure size 432x288 with 1 Axes>"
            ]
          },
          "metadata": {
            "needs_background": "light"
          },
          "output_type": "display_data"
        }
      ],
      "source": [
        "y_test,X_test=bestmodel_val_data\n",
        "view=pd.DataFrame([model.predict(X_test).reshape(-1),y_test.values]).T\n",
        "view.columns=[\"preds\",\"ground_truth\"]\n",
        "view.boxplot(by='ground_truth')"
      ]
    },
    {
      "cell_type": "code",
      "execution_count": 25,
      "id": "qtZQdhI4KdLE",
      "metadata": {
        "id": "qtZQdhI4KdLE"
      },
      "outputs": [],
      "source": [
        "score_df_smote.to_csv(\"../content/score_nn_smote.csv\")"
      ]
    },
    {
      "cell_type": "code",
      "execution_count": 26,
      "id": "d8v2Phf6KblL",
      "metadata": {
        "id": "d8v2Phf6KblL"
      },
      "outputs": [],
      "source": [
        "score_df_tl=pd.DataFrame()"
      ]
    },
    {
      "cell_type": "code",
      "execution_count": 27,
      "id": "ouVb58vcKaFZ",
      "metadata": {
        "id": "ouVb58vcKaFZ"
      },
      "outputs": [
        {
          "name": "stdout",
          "output_type": "stream",
          "text": [
            "Epoch 1/100\n",
            "503/503 [==============================] - 5s 7ms/step - loss: 0.6750 - auc: 0.6965 - val_loss: 0.6935 - val_auc: 0.6519 - lr: 8.1873e-04\n",
            "Epoch 2/100\n",
            "503/503 [==============================] - 3s 7ms/step - loss: 0.6061 - auc: 0.7265 - val_loss: 0.5514 - val_auc: 0.7333 - lr: 8.1873e-04\n",
            "Epoch 3/100\n",
            "503/503 [==============================] - 3s 7ms/step - loss: 0.5251 - auc: 0.8120 - val_loss: 0.4654 - val_auc: 0.7999 - lr: 8.1873e-04\n",
            "Epoch 4/100\n",
            "503/503 [==============================] - 3s 7ms/step - loss: 0.4686 - auc: 0.8561 - val_loss: 0.3879 - val_auc: 0.8354 - lr: 8.1873e-04\n",
            "Epoch 5/100\n",
            "503/503 [==============================] - 3s 7ms/step - loss: 0.4271 - auc: 0.8824 - val_loss: 0.3697 - val_auc: 0.8541 - lr: 8.1873e-04\n",
            "Epoch 6/100\n",
            "503/503 [==============================] - 4s 7ms/step - loss: 0.3947 - auc: 0.9004 - val_loss: 0.3471 - val_auc: 0.8724 - lr: 8.1873e-04\n",
            "Epoch 7/100\n",
            "503/503 [==============================] - 3s 7ms/step - loss: 0.3743 - auc: 0.9111 - val_loss: 0.3141 - val_auc: 0.8857 - lr: 8.1873e-04\n",
            "Epoch 8/100\n",
            "503/503 [==============================] - 3s 7ms/step - loss: 0.3574 - auc: 0.9187 - val_loss: 0.3573 - val_auc: 0.9052 - lr: 8.1873e-04\n",
            "Epoch 9/100\n",
            "503/503 [==============================] - 3s 7ms/step - loss: 0.3441 - auc: 0.9249 - val_loss: 0.3041 - val_auc: 0.9107 - lr: 8.1873e-04\n",
            "Epoch 10/100\n",
            "503/503 [==============================] - 3s 7ms/step - loss: 0.3330 - auc: 0.9299 - val_loss: 0.3455 - val_auc: 0.9192 - lr: 8.1873e-04\n",
            "Epoch 11/100\n",
            "503/503 [==============================] - 3s 7ms/step - loss: 0.3167 - auc: 0.9364 - val_loss: 0.3259 - val_auc: 0.9255 - lr: 7.4082e-04\n",
            "Epoch 12/100\n",
            "503/503 [==============================] - 3s 7ms/step - loss: 0.3013 - auc: 0.9423 - val_loss: 0.2684 - val_auc: 0.9245 - lr: 6.7032e-04\n",
            "Epoch 13/100\n",
            "503/503 [==============================] - 3s 7ms/step - loss: 0.2911 - auc: 0.9463 - val_loss: 0.2660 - val_auc: 0.9310 - lr: 6.0653e-04\n",
            "Epoch 14/100\n",
            "503/503 [==============================] - 3s 7ms/step - loss: 0.2847 - auc: 0.9480 - val_loss: 0.2650 - val_auc: 0.9375 - lr: 5.4881e-04\n",
            "Epoch 15/100\n",
            "503/503 [==============================] - 3s 7ms/step - loss: 0.2714 - auc: 0.9529 - val_loss: 0.2536 - val_auc: 0.9390 - lr: 4.9659e-04\n",
            "Epoch 16/100\n",
            "503/503 [==============================] - 3s 7ms/step - loss: 0.2664 - auc: 0.9547 - val_loss: 0.2723 - val_auc: 0.9430 - lr: 4.4933e-04\n",
            "Epoch 17/100\n",
            "503/503 [==============================] - 3s 7ms/step - loss: 0.2590 - auc: 0.9569 - val_loss: 0.2526 - val_auc: 0.9455 - lr: 4.0657e-04\n",
            "Epoch 18/100\n",
            "503/503 [==============================] - 3s 7ms/step - loss: 0.2500 - auc: 0.9598 - val_loss: 0.2337 - val_auc: 0.9461 - lr: 3.6788e-04\n",
            "Epoch 19/100\n",
            "503/503 [==============================] - 4s 7ms/step - loss: 0.2453 - auc: 0.9612 - val_loss: 0.2219 - val_auc: 0.9489 - lr: 3.3287e-04\n",
            "Epoch 20/100\n",
            "503/503 [==============================] - 4s 7ms/step - loss: 0.2387 - auc: 0.9631 - val_loss: 0.2420 - val_auc: 0.9514 - lr: 3.0119e-04\n",
            "Epoch 21/100\n",
            "503/503 [==============================] - 3s 7ms/step - loss: 0.2385 - auc: 0.9630 - val_loss: 0.2266 - val_auc: 0.9502 - lr: 2.7253e-04\n",
            "Epoch 22/100\n",
            "503/503 [==============================] - 3s 6ms/step - loss: 0.2303 - auc: 0.9655 - val_loss: 0.2229 - val_auc: 0.9519 - lr: 2.4660e-04\n",
            "Epoch 23/100\n",
            "503/503 [==============================] - 4s 7ms/step - loss: 0.2270 - auc: 0.9668 - val_loss: 0.2259 - val_auc: 0.9529 - lr: 2.2313e-04\n",
            "Epoch 24/100\n",
            "503/503 [==============================] - 3s 7ms/step - loss: 0.2241 - auc: 0.9677 - val_loss: 0.2179 - val_auc: 0.9536 - lr: 2.0190e-04\n",
            "Epoch 25/100\n",
            "503/503 [==============================] - 3s 7ms/step - loss: 0.2213 - auc: 0.9681 - val_loss: 0.2183 - val_auc: 0.9542 - lr: 1.8268e-04\n",
            "Epoch 26/100\n",
            "503/503 [==============================] - 4s 7ms/step - loss: 0.2202 - auc: 0.9687 - val_loss: 0.2144 - val_auc: 0.9552 - lr: 1.6530e-04\n",
            "Epoch 27/100\n",
            "503/503 [==============================] - 3s 7ms/step - loss: 0.2154 - auc: 0.9702 - val_loss: 0.2151 - val_auc: 0.9562 - lr: 1.4957e-04\n",
            "Epoch 28/100\n",
            "503/503 [==============================] - 3s 7ms/step - loss: 0.2130 - auc: 0.9706 - val_loss: 0.2075 - val_auc: 0.9564 - lr: 1.3534e-04\n",
            "Epoch 29/100\n",
            "503/503 [==============================] - 3s 7ms/step - loss: 0.2112 - auc: 0.9712 - val_loss: 0.2149 - val_auc: 0.9570 - lr: 1.2246e-04\n",
            "Epoch 30/100\n",
            "503/503 [==============================] - 3s 7ms/step - loss: 0.2088 - auc: 0.9717 - val_loss: 0.2120 - val_auc: 0.9568 - lr: 1.1080e-04\n",
            "Epoch 31/100\n",
            "503/503 [==============================] - 4s 7ms/step - loss: 0.2093 - auc: 0.9719 - val_loss: 0.2139 - val_auc: 0.9572 - lr: 1.0026e-04\n",
            "Epoch 32/100\n",
            "503/503 [==============================] - 3s 6ms/step - loss: 0.2073 - auc: 0.9721 - val_loss: 0.2071 - val_auc: 0.9575 - lr: 9.0718e-05\n",
            "Epoch 33/100\n",
            "503/503 [==============================] - 3s 7ms/step - loss: 0.2038 - auc: 0.9731 - val_loss: 0.2021 - val_auc: 0.9581 - lr: 8.2085e-05\n",
            "Epoch 34/100\n",
            "503/503 [==============================] - 3s 7ms/step - loss: 0.2045 - auc: 0.9727 - val_loss: 0.2078 - val_auc: 0.9584 - lr: 7.4274e-05\n",
            "Epoch 35/100\n",
            "503/503 [==============================] - 4s 7ms/step - loss: 0.2027 - auc: 0.9733 - val_loss: 0.2098 - val_auc: 0.9586 - lr: 6.7206e-05\n",
            "Epoch 36/100\n",
            "503/503 [==============================] - 3s 7ms/step - loss: 0.2033 - auc: 0.9732 - val_loss: 0.2087 - val_auc: 0.9586 - lr: 6.0810e-05\n",
            "Epoch 37/100\n",
            "503/503 [==============================] - 3s 7ms/step - loss: 0.2013 - auc: 0.9738 - val_loss: 0.2070 - val_auc: 0.9586 - lr: 5.5023e-05\n",
            "Epoch 38/100\n",
            "503/503 [==============================] - 4s 7ms/step - loss: 0.1996 - auc: 0.9741 - val_loss: 0.2099 - val_auc: 0.9591 - lr: 4.9787e-05\n",
            "NN with best score of 0.9580878468341565\n",
            "Epoch 1/100\n",
            "503/503 [==============================] - 5s 8ms/step - loss: 0.6819 - auc: 0.7605 - val_loss: 0.6804 - val_auc: 0.5502 - lr: 4.9787e-05\n",
            "Epoch 2/100\n",
            "503/503 [==============================] - 4s 7ms/step - loss: 0.6617 - auc: 0.6423 - val_loss: 0.6679 - val_auc: 0.5673 - lr: 4.9787e-05\n",
            "Epoch 3/100\n",
            "503/503 [==============================] - 4s 7ms/step - loss: 0.6388 - auc: 0.6851 - val_loss: 0.7312 - val_auc: 0.5790 - lr: 4.9787e-05\n",
            "Epoch 4/100\n",
            "503/503 [==============================] - 4s 7ms/step - loss: 0.6179 - auc: 0.7157 - val_loss: 0.7559 - val_auc: 0.5907 - lr: 4.9787e-05\n",
            "Epoch 5/100\n",
            "495/503 [============================>.] - ETA: 0s - loss: 0.5980 - auc: 0.7414"
          ]
        }
      ],
      "source": [
        "bestscore=0\n",
        "bestmodel,bestmodel_val_data=None,None\n",
        "scores=[]\n",
        "for train_index, test_index in cv.split(xs,y):\n",
        "      X_train = xs[train_index]\n",
        "      y_train = y[train_index]\n",
        "      X_test = xs[test_index]\n",
        "      y_test = y[test_index]\n",
        "      model= createModel(loss=loss,optimizer=opt, metrics=metrics)\n",
        "      tl=TomekLinks()\n",
        "      X_train_undersampled, y_train_undersampled = tl.fit_resample(X_train, y_train)\n",
        "      model.compile(loss=loss,optimizer=opt, metrics=metrics)\n",
        "      history=model.fit(X_train_oversampled,y_train_oversampled,batch_size=64, epochs=100,validation_data=(X_test,y_test),verbose=1,callbacks=callbacks)\n",
        "      y_pred = model.predict(X_test,verbose=0)\n",
        "      score=roc_auc_score(y_test,y_pred)\n",
        "      scores.append(score)\n",
        "      if score>bestscore:\n",
        "            bestmodel=model\n",
        "            bestscore,bestmodel_val_data=score,[y_test,X_test]\n",
        "            print(f\"NN with best score of {score}\")\n",
        "score_df_tl[\"NN_Smote\"]=scores"
      ]
    },
    {
      "cell_type": "code",
      "execution_count": null,
      "id": "bVOnO9znK6ZN",
      "metadata": {
        "id": "bVOnO9znK6ZN"
      },
      "outputs": [],
      "source": [
        "y_test,X_test=bestmodel_val_data\n",
        "view=pd.DataFrame([model.predict(X_test).reshape(-1),y_test.values]).T\n",
        "view.columns=[\"preds\",\"ground_truth\"]\n",
        "view.boxplot(by='ground_truth')"
      ]
    },
    {
      "cell_type": "code",
      "execution_count": null,
      "id": "x3VY5pyWbN3e",
      "metadata": {
        "id": "x3VY5pyWbN3e"
      },
      "outputs": [],
      "source": [
        "score_df_tl.to_csv(\"../content/score_nn_tl.csv\")"
      ]
    }
  ],
  "metadata": {
    "colab": {
      "collapsed_sections": [],
      "include_colab_link": true,
      "provenance": []
    },
    "kernelspec": {
      "display_name": "Python 3.10.0 64-bit",
      "language": "python",
      "name": "python3"
    },
    "language_info": {
      "codemirror_mode": {
        "name": "ipython",
        "version": 3
      },
      "file_extension": ".py",
      "mimetype": "text/x-python",
      "name": "python",
      "nbconvert_exporter": "python",
      "pygments_lexer": "ipython3",
      "version": "3.10.0"
    },
    "vscode": {
      "interpreter": {
        "hash": "525f50cd3df40e9d57f214b2f9bedadf4bf08c85f9f5b3b27734de5b2eace747"
      }
    }
  },
  "nbformat": 4,
  "nbformat_minor": 5
}
