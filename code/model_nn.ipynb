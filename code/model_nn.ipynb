{
  "cells": [
    {
      "cell_type": "markdown",
      "metadata": {
        "id": "view-in-github",
        "colab_type": "text"
      },
      "source": [
        "<a href=\"https://colab.research.google.com/github/johntanas/it1244project/blob/main/code/model_nn.ipynb\" target=\"_parent\"><img src=\"https://colab.research.google.com/assets/colab-badge.svg\" alt=\"Open In Colab\"/></a>"
      ]
    },
    {
      "cell_type": "code",
      "execution_count": 2,
      "id": "5179ea71",
      "metadata": {
        "id": "5179ea71"
      },
      "outputs": [],
      "source": [
        "import pandas as pd\n",
        "import numpy as np\n",
        "from sklearn.preprocessing import StandardScaler,OneHotEncoder,OrdinalEncoder\n",
        "from sklearn.compose import ColumnTransformer\n",
        "from sklearn.model_selection import RepeatedStratifiedKFold,cross_val_score\n",
        "from sklearn.linear_model import LogisticRegression\n",
        "from sklearn.neighbors import KNeighborsClassifier\n",
        "from sklearn.tree import DecisionTreeClassifier\n",
        "from sklearn.ensemble import RandomForestClassifier\n",
        "from sklearn.metrics import classification_report\n",
        "from imblearn.over_sampling import SMOTE\n",
        "from sklearn.metrics import roc_auc_score,average_precision_score,SCORERS"
      ]
    },
    {
      "cell_type": "code",
      "source": [
        "n_repeats=1\n",
        "n_splits=5"
      ],
      "metadata": {
        "id": "gwWC421NqpxW"
      },
      "id": "gwWC421NqpxW",
      "execution_count": 19,
      "outputs": []
    },
    {
      "cell_type": "code",
      "source": [
        "path_to_max_label=\"/content/max_label.csv\"\n",
        "path_to_app=\"/content/cleaned_application.csv\"\n",
        "cleaned_app_df=pd.read_csv(path_to_app,index_col=0)\n",
        "max_df=pd.read_csv(path_to_max_label,index_col=0)"
      ],
      "metadata": {
        "id": "XJlCQwWJEl2_"
      },
      "id": "XJlCQwWJEl2_",
      "execution_count": 4,
      "outputs": []
    },
    {
      "cell_type": "code",
      "source": [
        "dep_var=\"status\"\n",
        "random_state=42"
      ],
      "metadata": {
        "id": "DoxeFDv6Mgj8"
      },
      "id": "DoxeFDv6Mgj8",
      "execution_count": 5,
      "outputs": []
    },
    {
      "cell_type": "markdown",
      "source": [
        "Sort by median income of job to give a ordering to the jobs"
      ],
      "metadata": {
        "id": "gWn5S5FRTFWX"
      },
      "id": "gWn5S5FRTFWX"
    },
    {
      "cell_type": "code",
      "source": [
        "order=cleaned_app_df.groupby(\"job\")[\"income\"].median().sort_values()"
      ],
      "metadata": {
        "id": "zieu69u9S3r9"
      },
      "id": "zieu69u9S3r9",
      "execution_count": 6,
      "outputs": []
    },
    {
      "cell_type": "code",
      "source": [
        "cleaned_app_df[\"job\"]=cleaned_app_df[\"job\"].replace(order)"
      ],
      "metadata": {
        "id": "Vq37hbF7TC0v"
      },
      "id": "Vq37hbF7TC0v",
      "execution_count": 7,
      "outputs": []
    },
    {
      "cell_type": "code",
      "source": [
        "train_df=max_df.merge(cleaned_app_df,how=\"inner\",on=\"id\").drop(\"id\",axis=1)"
      ],
      "metadata": {
        "id": "ZEu51Hh-LyC5"
      },
      "id": "ZEu51Hh-LyC5",
      "execution_count": 8,
      "outputs": []
    },
    {
      "cell_type": "code",
      "source": [
        "numerical_transformer = StandardScaler()\n",
        "categorical_transformer=OneHotEncoder()\n",
        "ord_transformer=OrdinalEncoder()"
      ],
      "metadata": {
        "id": "JqwrdVI-75AF"
      },
      "id": "JqwrdVI-75AF",
      "execution_count": 9,
      "outputs": []
    },
    {
      "cell_type": "code",
      "source": [
        "X,y=train_df.drop(columns=dep_var),train_df[dep_var]"
      ],
      "metadata": {
        "id": "V03vSX3e8BDr"
      },
      "id": "V03vSX3e8BDr",
      "execution_count": 10,
      "outputs": []
    },
    {
      "cell_type": "code",
      "source": [
        "categorical_cols = [cname for cname in X.columns if X[cname].nunique() < 10 and \n",
        "                        X[cname].dtype == \"object\"]\n",
        "numerical_cols = [cname for cname in X.columns if X[cname].dtype in ['int64', 'float64']]\n"
      ],
      "metadata": {
        "id": "PxZXExPK77oD"
      },
      "id": "PxZXExPK77oD",
      "execution_count": 11,
      "outputs": []
    },
    {
      "cell_type": "code",
      "source": [
        "preprocessor = ColumnTransformer(\n",
        "    transformers=[\n",
        "        ('num', numerical_transformer, numerical_cols),\n",
        "        ('cat', categorical_transformer, categorical_cols),\n",
        "        ('ord',ord_transformer,['job'])\n",
        "    ])"
      ],
      "metadata": {
        "id": "GUdPAjpk76qY"
      },
      "id": "GUdPAjpk76qY",
      "execution_count": 12,
      "outputs": []
    },
    {
      "cell_type": "code",
      "source": [
        "xs=preprocessor.fit_transform(X)"
      ],
      "metadata": {
        "id": "sBxqujKg8FDR"
      },
      "id": "sBxqujKg8FDR",
      "execution_count": 13,
      "outputs": []
    },
    {
      "cell_type": "code",
      "source": [
        "score_df=pd.DataFrame()"
      ],
      "metadata": {
        "id": "gpCTr2Oh_t_Q"
      },
      "id": "gpCTr2Oh_t_Q",
      "execution_count": 14,
      "outputs": []
    },
    {
      "cell_type": "markdown",
      "source": [
        "We will be doing cross validation with StratifiedKFold =5 and 5 repeats.\n",
        "We use StratifiedKFold instead of Kfold to perserve  the percentage of samples for each class."
      ],
      "metadata": {
        "id": "pvixVAlrN2nf"
      },
      "id": "pvixVAlrN2nf"
    },
    {
      "cell_type": "code",
      "source": [
        "cv = RepeatedStratifiedKFold(n_splits=n_splits, n_repeats=n_repeats, random_state=random_state)"
      ],
      "metadata": {
        "id": "Uk6kEisNN2AP"
      },
      "id": "Uk6kEisNN2AP",
      "execution_count": 15,
      "outputs": []
    },
    {
      "cell_type": "code",
      "source": [
        "# dataframe of scores to be converted into plot later\n",
        "score_df=pd.DataFrame()"
      ],
      "metadata": {
        "id": "nQxbNZZ4OAlw"
      },
      "id": "nQxbNZZ4OAlw",
      "execution_count": 16,
      "outputs": []
    },
    {
      "cell_type": "code",
      "source": [
        "import keras\n",
        "import tensorflow as tf\n",
        "from keras.utils.np_utils import to_categorical\n",
        "from keras import optimizers\n",
        "from keras.models import Sequential\n",
        "from keras.layers import Dense, Activation, Flatten\n",
        "from sklearn.utils.class_weight import compute_class_weight"
      ],
      "metadata": {
        "id": "1ZfWWT07KV_s"
      },
      "id": "1ZfWWT07KV_s",
      "execution_count": 24,
      "outputs": []
    },
    {
      "cell_type": "code",
      "source": [
        "def scheduler(epoch, lr):\n",
        "          if epoch < 10:\n",
        "            return lr\n",
        "          else:\n",
        "            return lr * tf.math.exp(-0.1)\n",
        "schedule = tf.keras.callbacks.LearningRateScheduler(scheduler)\n",
        "earlystop=keras.callbacks.EarlyStopping(patience=5,restore_best_weights=True)\n",
        "callbacks=[schedule,earlystop]\n",
        "#Adam > SGD\n",
        "opt = tf.optimizers.Adam(learning_rate=0.001)\n",
        "#Use BinaryFocalCrossentropy instead of BinaryCrossentropy\n",
        "loss= tf.keras.losses.BinaryCrossentropy()\n",
        "def createModel():\n",
        "    model= keras.Sequential([\n",
        "      keras.layers.Dense(1024,activation=\"relu\"),\n",
        "      keras.layers.Dropout(0.2),\n",
        "      keras.layers.Dense(512,activation=\"relu\"),\n",
        "      keras.layers.Dropout(0.2),\n",
        "      keras.layers.Dense(256,activation=\"relu\"),\n",
        "      keras.layers.Dense(128,activation=\"relu\"),\n",
        "      keras.layers.Dense(1,activation=\"sigmoid\")])\n",
        "    return model"
      ],
      "metadata": {
        "id": "RX72U7191Fyd"
      },
      "id": "RX72U7191Fyd",
      "execution_count": 21,
      "outputs": []
    },
    {
      "cell_type": "code",
      "source": [
        "bestscore=0\n",
        "bestmodel=None\n",
        "bestmodel_val_data=None\n",
        "scores=[]\n",
        "for train_index, test_index in cv.split(xs,y):\n",
        "      X_train = xs[train_index]\n",
        "      y_train = y[train_index]\n",
        "      X_test = xs[test_index]\n",
        "      y_test = y[test_index]\n",
        "      model= createModel()\n",
        "      class_w= dict(zip(np.unique(y_train),compute_class_weight(\"balanced\",classes=np.unique(y_train),y=y_train)))\n",
        "      model.compile(loss=loss,optimizer=opt, metrics=[tf.keras.metrics.AUC(curve='ROC')])\n",
        "      history=model.fit(X_train, y_train,batch_size=64, epochs=100,validation_data=(X_test,y_test),verbose=1,callbacks=callbacks,class_weight=class_w)\n",
        "      y_pred = model.predict(X_test,verbose=0)\n",
        "      score=roc_auc_score(y_test,y_pred[:,1])\n",
        "      scores.append(score)\n",
        "score_df[\"NN\"]=scores"
      ],
      "metadata": {
        "colab": {
          "base_uri": "https://localhost:8080/"
        },
        "id": "AzogFSgyKUaT",
        "outputId": "e676eb15-ca3a-4f0c-c2f3-c2cd0e5c13a1"
      },
      "id": "AzogFSgyKUaT",
      "execution_count": null,
      "outputs": [
        {
          "output_type": "stream",
          "name": "stdout",
          "text": [
            "Epoch 1/100\n",
            "456/456 [==============================] - 14s 26ms/step - loss: 0.6968 - auc_8: 0.5152 - val_loss: 0.7234 - val_auc_8: 0.5426 - lr: 0.0010\n",
            "Epoch 2/100\n",
            "456/456 [==============================] - 11s 23ms/step - loss: 0.6900 - auc_8: 0.5426 - val_loss: 0.6941 - val_auc_8: 0.5616 - lr: 0.0010\n",
            "Epoch 3/100\n",
            "456/456 [==============================] - 11s 24ms/step - loss: 0.6873 - auc_8: 0.5607 - val_loss: 0.6651 - val_auc_8: 0.5630 - lr: 0.0010\n",
            "Epoch 4/100\n",
            " 66/456 [===>..........................] - ETA: 8s - loss: 0.6795 - auc_8: 0.5769"
          ]
        }
      ]
    },
    {
      "cell_type": "code",
      "source": [
        "y_test,X_test=bestmodel_val_data[0],bestmodel_val_data[1]\n",
        "preds=bestmodel.predict(X_test)"
      ],
      "metadata": {
        "id": "K7bwex0kS2Yi"
      },
      "id": "K7bwex0kS2Yi",
      "execution_count": null,
      "outputs": []
    },
    {
      "cell_type": "code",
      "source": [
        "bestmodel.summary()"
      ],
      "metadata": {
        "id": "KrOoGzytX-1y"
      },
      "id": "KrOoGzytX-1y",
      "execution_count": null,
      "outputs": []
    },
    {
      "cell_type": "code",
      "source": [
        "preds.min(axis=0),preds.max(axis=0)"
      ],
      "metadata": {
        "id": "G-UfqtQyUCFq"
      },
      "id": "G-UfqtQyUCFq",
      "execution_count": null,
      "outputs": []
    },
    {
      "cell_type": "code",
      "source": [
        "bestscore=0\n",
        "bestmodel=None\n",
        "# we stop at k ==11 as it seems that the knn auc roc score drops off at k=7\n",
        "for i in range(1,12,2):\n",
        "    scores=[]\n",
        "    for train_index, test_index in cv.split(xs,y):\n",
        "        X_train = xs[train_index]\n",
        "        y_train = y[train_index]\n",
        "        X_test = xs[test_index]\n",
        "        y_test = y[test_index]\n",
        "        sm = SMOTE()\n",
        "        X_train_oversampled, y_train_oversampled = sm.fit_resample(X_train, y_train)\n",
        "        model = KNeighborsClassifier(i)\n",
        "        model.fit(X_train_oversampled, y_train_oversampled)  \n",
        "        y_pred = model.predict(X_test)\n",
        "        score=roc_auc_score(y_test,y_pred)\n",
        "        scores.append(score)\n",
        "        if score>bestscore:\n",
        "            bestmodel=model\n",
        "            bestscore=score\n",
        "            print(f\"KNN {i} with best score of {score}\")\n",
        "    score_df_smote[\"KNN\"+str(i)]=scores\n",
        "    print(f\"KNN {i} with best score of {score}\")"
      ],
      "metadata": {
        "id": "LPQZgmXlPn-J"
      },
      "id": "LPQZgmXlPn-J",
      "execution_count": null,
      "outputs": []
    },
    {
      "cell_type": "markdown",
      "source": [
        "Smote works by using a random example from the minority class which is first chosen. Then k of the nearest neighbors for that example are found (k=5 is the default value which is used here). A randomly selected neighbor is chosen and a synthetic example is created at a randomly selected point between the two examples in feature space. Thus, smote is essentially overfitting our KNN classifier\n",
        "https://machinelearningmastery.com/smote-oversampling-for-imbalanced-classification/"
      ],
      "metadata": {
        "id": "zLxPvcmdkgzz"
      },
      "id": "zLxPvcmdkgzz"
    },
    {
      "cell_type": "code",
      "source": [
        "bestscore=0\n",
        "bestmodel=None\n",
        "scores=[]\n",
        "for train_index, test_index in cv.split(xs,y):\n",
        "      X_train = xs[train_index]\n",
        "      y_train = y[train_index]\n",
        "      X_test = xs[test_index]\n",
        "      y_test = y[test_index]\n",
        "      sm = SMOTE()\n",
        "      X_train_oversampled, y_train_oversampled = sm.fit_resample(X_train, y_train)\n",
        "      model = DecisionTreeClassifier(random_state=random_state)\n",
        "      model.fit(X_train_oversampled, y_train_oversampled )  \n",
        "      y_pred = model.predict(X_test)\n",
        "      score=roc_auc_score(y_test,y_pred)\n",
        "      scores.append(score)\n",
        "      if score>bestscore:\n",
        "            bestmodel=model\n",
        "            bestscore=score\n",
        "            print(f\"DecisionTreeClassifier with best score of {score}\")\n",
        "score_df_smote[\"DecisionTreeClassifier\"]=scores\n",
        "print(f\"DecisionTreeClassifier with avg score of {np.array(scores).mean()}\")"
      ],
      "metadata": {
        "id": "6wycaO_HQOCt"
      },
      "id": "6wycaO_HQOCt",
      "execution_count": null,
      "outputs": []
    },
    {
      "cell_type": "code",
      "source": [
        "bestscore=0\n",
        "bestmodel=None\n",
        "scores=[]\n",
        "for train_index, test_index in cv.split(xs,y):\n",
        "      X_train = xs[train_index]\n",
        "      y_train = y[train_index]\n",
        "      X_test = xs[test_index]\n",
        "      y_test = y[test_index]\n",
        "      sm = SMOTE()\n",
        "      X_train_oversampled, y_train_oversampled = sm.fit_resample(X_train, y_train)\n",
        "      model = RandomForestClassifier(random_state=random_state)\n",
        "      model.fit(X_train_oversampled, y_train_oversampled)  \n",
        "      y_pred = model.predict(X_test)\n",
        "      score=roc_auc_score(y_test,y_pred)\n",
        "      scores.append(score)\n",
        "      if score>bestscore:\n",
        "            bestmodel=model\n",
        "            bestscore=score\n",
        "            print(f\"RandomForestClassifier with best score of {score}\")\n",
        "score_df_smote[\"RandomForestClassifier\"]=scores\n",
        "print(f\"RandomForestClassifier with avg score of {np.array(scores).mean()}\")"
      ],
      "metadata": {
        "id": "gvxhBwzRQm7f"
      },
      "id": "gvxhBwzRQm7f",
      "execution_count": null,
      "outputs": []
    },
    {
      "cell_type": "markdown",
      "source": [
        "Surpisingly, smote actually deproves auc score across the trees models but improves knn , suggesting that the orginial data is quite noisy, and creating sythenic data will only add on to the noise."
      ],
      "metadata": {
        "id": "QM_sVAKLPuIp"
      },
      "id": "QM_sVAKLPuIp"
    },
    {
      "cell_type": "code",
      "source": [
        "score_df_smote.to_csv(\"score_smote.csv\")"
      ],
      "metadata": {
        "id": "iHOPGiqRbJsH"
      },
      "id": "iHOPGiqRbJsH",
      "execution_count": null,
      "outputs": []
    },
    {
      "cell_type": "markdown",
      "source": [
        "Thus,we could also try totem links on knn and rf."
      ],
      "metadata": {
        "id": "zG_hWTsKQPkT"
      },
      "id": "zG_hWTsKQPkT"
    },
    {
      "cell_type": "code",
      "source": [
        "from imblearn.under_sampling import TomekLinks"
      ],
      "metadata": {
        "id": "xS81wLi-PhED"
      },
      "id": "xS81wLi-PhED",
      "execution_count": null,
      "outputs": []
    },
    {
      "cell_type": "code",
      "source": [
        "#totem link dataframe\n",
        "score_df_tl=pd.DataFrame()"
      ],
      "metadata": {
        "id": "v0CnXS8SZEAF"
      },
      "id": "v0CnXS8SZEAF",
      "execution_count": null,
      "outputs": []
    },
    {
      "cell_type": "code",
      "source": [
        "bestscore=0\n",
        "bestmodel=None\n",
        "scores=[]\n",
        "# we stop at k ==9 as it seems that the knn auc roc score drops off at k=7\n",
        "for i in range(1,10,2):\n",
        "    scores=[]\n",
        "    for train_index, test_index in cv.split(xs,y):\n",
        "        X_train = xs[train_index]\n",
        "        y_train = y[train_index]\n",
        "        X_test = xs[test_index]\n",
        "        y_test = y[test_index]\n",
        "        tl = TomekLinks()\n",
        "        X_train_undersampled, y_train_undersampled = tl.fit_resample(X_train, y_train)\n",
        "        model = KNeighborsClassifier(i)\n",
        "        model.fit(X_train_undersampled, y_train_undersampled)  \n",
        "        y_pred = model.predict(X_test)\n",
        "        score=roc_auc_score(y_test,y_pred)\n",
        "        scores.append(score)\n",
        "        if score>bestscore:\n",
        "            bestmodel=model\n",
        "            bestscore=score\n",
        "            print(f\"KNN {i} with best score of {score}\")\n",
        "    score_df_tl[\"KNN\"+str(i)]=scores\n",
        "    print(f\"KNN {i} with best score of {score}\")"
      ],
      "metadata": {
        "id": "na0a8ibbYjyN"
      },
      "id": "na0a8ibbYjyN",
      "execution_count": null,
      "outputs": []
    },
    {
      "cell_type": "code",
      "source": [
        "bestscore=0\n",
        "bestmodel=None\n",
        "scores=[]\n",
        "for train_index, test_index in cv.split(xs,y):\n",
        "      X_train = xs[train_index]\n",
        "      y_train = y[train_index]\n",
        "      X_test = xs[test_index]\n",
        "      y_test = y[test_index]\n",
        "      sm = SMOTE()\n",
        "      X_train_undersampled, y_train_undersampled = tl.fit_resample(X_train, y_train)\n",
        "      model = RandomForestClassifier(random_state=random_state)\n",
        "      model.fit(X_train_undersampled, y_train_undersampled)   \n",
        "      y_pred = model.predict(X_test)\n",
        "      score=roc_auc_score(y_test,y_pred)\n",
        "      scores.append(score)\n",
        "      if score>bestscore:\n",
        "            bestmodel=model\n",
        "            bestscore=score\n",
        "            print(f\"RandomForestClassifier with best score of {score}\")\n",
        "score_df_tl[\"RandomForestClassifier\"]=scores\n",
        "print(f\"RandomForestClassifier with avg score of {np.array(scores).mean()}\")"
      ],
      "metadata": {
        "id": "njq-1Ro9Y92x"
      },
      "id": "njq-1Ro9Y92x",
      "execution_count": null,
      "outputs": []
    },
    {
      "cell_type": "code",
      "source": [
        "score_df_tl.to_csv(\"score_tl.csv\")"
      ],
      "metadata": {
        "id": "x3VY5pyWbN3e"
      },
      "id": "x3VY5pyWbN3e",
      "execution_count": null,
      "outputs": []
    }
  ],
  "metadata": {
    "kernelspec": {
      "display_name": "Python 3.10.0 64-bit",
      "language": "python",
      "name": "python3"
    },
    "language_info": {
      "codemirror_mode": {
        "name": "ipython",
        "version": 3
      },
      "file_extension": ".py",
      "mimetype": "text/x-python",
      "name": "python",
      "nbconvert_exporter": "python",
      "pygments_lexer": "ipython3",
      "version": "3.10.0"
    },
    "vscode": {
      "interpreter": {
        "hash": "525f50cd3df40e9d57f214b2f9bedadf4bf08c85f9f5b3b27734de5b2eace747"
      }
    },
    "colab": {
      "provenance": [],
      "collapsed_sections": [],
      "include_colab_link": true
    }
  },
  "nbformat": 4,
  "nbformat_minor": 5
}