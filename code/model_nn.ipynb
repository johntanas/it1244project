{
  "cells": [
    {
      "cell_type": "markdown",
      "metadata": {
        "colab_type": "text",
        "id": "view-in-github"
      },
      "source": [
        "<a href=\"https://colab.research.google.com/github/johntanas/it1244project/blob/main/code/model_nn.ipynb\" target=\"_parent\"><img src=\"https://colab.research.google.com/assets/colab-badge.svg\" alt=\"Open In Colab\"/></a>"
      ]
    },
    {
      "cell_type": "code",
      "execution_count": null,
      "id": "5179ea71",
      "metadata": {
        "id": "5179ea71"
      },
      "outputs": [],
      "source": [
        "import pandas as pd\n",
        "import numpy as np\n",
        "from sklearn.preprocessing import StandardScaler,OneHotEncoder,OrdinalEncoder\n",
        "from sklearn.compose import ColumnTransformer\n",
        "from sklearn.model_selection import RepeatedStratifiedKFold\n",
        "from imblearn.over_sampling import SMOTE\n",
        "from sklearn.metrics import roc_auc_score,plot_roc_curve,roc_curve\n",
        "from imblearn.under_sampling import TomekLinks\n",
        "import matplotlib.pyplot as plt"
      ]
    },
    {
      "cell_type": "code",
      "execution_count": null,
      "id": "gwWC421NqpxW",
      "metadata": {
        "id": "gwWC421NqpxW"
      },
      "outputs": [],
      "source": [
        "n_repeats=1\n",
        "n_splits=5"
      ]
    },
    {
      "cell_type": "code",
      "execution_count": null,
      "id": "XJlCQwWJEl2_",
      "metadata": {
        "id": "XJlCQwWJEl2_"
      },
      "outputs": [],
      "source": [
        "path_to_max_label=\"../content/max_label.csv\"\n",
        "path_to_app=\"../content/cleaned_application.csv\"\n",
        "cleaned_app_df=pd.read_csv(path_to_app,index_col=0)\n",
        "max_df=pd.read_csv(path_to_max_label,index_col=0)"
      ]
    },
    {
      "cell_type": "code",
      "execution_count": null,
      "id": "DoxeFDv6Mgj8",
      "metadata": {
        "id": "DoxeFDv6Mgj8"
      },
      "outputs": [],
      "source": [
        "dep_var=\"status\"\n",
        "random_state=42"
      ]
    },
    {
      "cell_type": "markdown",
      "id": "LU5wQZdFPNoR",
      "metadata": {
        "id": "LU5wQZdFPNoR"
      },
      "source": [
        "preprocessing the same as other model notebook."
      ]
    },
    {
      "cell_type": "code",
      "execution_count": null,
      "id": "zieu69u9S3r9",
      "metadata": {
        "id": "zieu69u9S3r9"
      },
      "outputs": [],
      "source": [
        "order=cleaned_app_df.groupby(\"job\")[\"income\"].median().sort_values()"
      ]
    },
    {
      "cell_type": "code",
      "execution_count": null,
      "id": "Vq37hbF7TC0v",
      "metadata": {
        "id": "Vq37hbF7TC0v"
      },
      "outputs": [],
      "source": [
        "cleaned_app_df[\"job\"]=cleaned_app_df[\"job\"].replace(order)"
      ]
    },
    {
      "cell_type": "code",
      "execution_count": null,
      "id": "ZEu51Hh-LyC5",
      "metadata": {
        "id": "ZEu51Hh-LyC5"
      },
      "outputs": [],
      "source": [
        "train_df=max_df.merge(cleaned_app_df,how=\"inner\",on=\"id\").drop(\"id\",axis=1)"
      ]
    },
    {
      "cell_type": "code",
      "execution_count": null,
      "id": "JqwrdVI-75AF",
      "metadata": {
        "id": "JqwrdVI-75AF"
      },
      "outputs": [],
      "source": [
        "numerical_transformer = StandardScaler()\n",
        "categorical_transformer=OneHotEncoder()\n",
        "ord_transformer=OrdinalEncoder()"
      ]
    },
    {
      "cell_type": "code",
      "execution_count": null,
      "id": "V03vSX3e8BDr",
      "metadata": {
        "id": "V03vSX3e8BDr"
      },
      "outputs": [],
      "source": [
        "X,y=train_df.drop(columns=dep_var),train_df[dep_var]"
      ]
    },
    {
      "cell_type": "code",
      "execution_count": null,
      "id": "PxZXExPK77oD",
      "metadata": {
        "id": "PxZXExPK77oD"
      },
      "outputs": [],
      "source": [
        "categorical_cols = [cname for cname in X.columns if X[cname].nunique() < 10 and \n",
        "                        X[cname].dtype == \"object\"]\n",
        "numerical_cols = [cname for cname in X.columns if X[cname].dtype in ['int64', 'float64']]\n"
      ]
    },
    {
      "cell_type": "code",
      "execution_count": null,
      "id": "GUdPAjpk76qY",
      "metadata": {
        "id": "GUdPAjpk76qY"
      },
      "outputs": [],
      "source": [
        "preprocessor = ColumnTransformer(\n",
        "    transformers=[\n",
        "        ('num', numerical_transformer, numerical_cols),\n",
        "        ('cat', categorical_transformer, categorical_cols),\n",
        "        ('ord',ord_transformer,['job'])\n",
        "    ])"
      ]
    },
    {
      "cell_type": "code",
      "execution_count": null,
      "id": "sBxqujKg8FDR",
      "metadata": {
        "id": "sBxqujKg8FDR"
      },
      "outputs": [],
      "source": [
        "xs=preprocessor.fit_transform(X)"
      ]
    },
    {
      "cell_type": "code",
      "execution_count": null,
      "id": "gpCTr2Oh_t_Q",
      "metadata": {
        "id": "gpCTr2Oh_t_Q"
      },
      "outputs": [],
      "source": [
        "score_df=pd.DataFrame()"
      ]
    },
    {
      "cell_type": "markdown",
      "id": "pvixVAlrN2nf",
      "metadata": {
        "id": "pvixVAlrN2nf"
      },
      "source": [
        "cv same"
      ]
    },
    {
      "cell_type": "code",
      "execution_count": null,
      "id": "Uk6kEisNN2AP",
      "metadata": {
        "id": "Uk6kEisNN2AP"
      },
      "outputs": [],
      "source": [
        "cv = RepeatedStratifiedKFold(n_splits=n_splits, n_repeats=n_repeats, random_state=random_state)"
      ]
    },
    {
      "cell_type": "code",
      "execution_count": null,
      "id": "nQxbNZZ4OAlw",
      "metadata": {
        "id": "nQxbNZZ4OAlw"
      },
      "outputs": [],
      "source": [
        "# dataframe of scores to be converted into plot later\n",
        "score_df=pd.DataFrame()"
      ]
    },
    {
      "cell_type": "code",
      "execution_count": null,
      "id": "1ZfWWT07KV_s",
      "metadata": {
        "id": "1ZfWWT07KV_s"
      },
      "outputs": [],
      "source": [
        "import keras\n",
        "import tensorflow as tf\n",
        "from keras.utils.np_utils import to_categorical\n",
        "from keras import optimizers\n",
        "from keras.models import Sequential\n",
        "from keras.layers import Dense, Activation, Flatten\n",
        "from sklearn.utils.class_weight import compute_class_weight"
      ]
    },
    {
      "cell_type": "code",
      "execution_count": null,
      "id": "RX72U7191Fyd",
      "metadata": {
        "id": "RX72U7191Fyd"
      },
      "outputs": [],
      "source": [
        "def scheduler(epoch, lr):\n",
        "          if epoch < 10:\n",
        "            return lr\n",
        "          else:\n",
        "            return lr * tf.math.exp(-0.1)\n",
        "#Use BinaryFocalCrossentropy instead of BinaryCrossentropy\n",
        "loss= tf.keras.losses.BinaryFocalCrossentropy()\n",
        "# we can use AUC and PR metric\n",
        "metrics = [tf.keras.metrics.AUC(curve='ROC')]\n",
        "def createModel(loss,optimizer,metrics):\n",
        "    model= keras.Sequential([\n",
        "      keras.layers.Dense(1024,activation=\"relu\"),\n",
        "      keras.layers.Dropout(0.2),\n",
        "      keras.layers.Dense(512,activation=\"relu\"),\n",
        "      keras.layers.Dropout(0.2),\n",
        "      keras.layers.Dense(256,activation=\"relu\"),\n",
        "      keras.layers.Dense(128,activation=\"relu\"),\n",
        "      keras.layers.Dense(1,activation=\"sigmoid\")])\n",
        "    model.compile(loss=loss,optimizer=optimizer, metrics=metrics)\n",
        "    return model"
      ]
    },
    {
      "cell_type": "code",
      "execution_count": 117,
      "id": "AzogFSgyKUaT",
      "metadata": {
        "colab": {
          "base_uri": "https://localhost:8080/",
          "height": 415
        },
        "id": "AzogFSgyKUaT",
        "outputId": "12956347-44af-45cd-a307-a115d5bf4894"
      },
      "outputs": [
        {
          "name": "stdout",
          "output_type": "stream",
          "text": [
            "Epoch 1/100\n",
            "456/456 [==============================] - 5s 9ms/step - loss: 0.6952 - auc_2: 0.6543 - val_loss: 0.7033 - val_auc_2: 0.5473 - lr: 0.0010\n",
            "Epoch 2/100\n",
            "456/456 [==============================] - 4s 8ms/step - loss: 0.6898 - auc_2: 0.5473 - val_loss: 0.7254 - val_auc_2: 0.5603 - lr: 0.0010\n",
            "Epoch 3/100\n",
            "456/456 [==============================] - 4s 8ms/step - loss: 0.6858 - auc_2: 0.5665 - val_loss: 0.7083 - val_auc_2: 0.5817 - lr: 0.0010\n",
            "Epoch 4/100\n",
            "456/456 [==============================] - 4s 8ms/step - loss: 0.6805 - auc_2: 0.5870 - val_loss: 0.6667 - val_auc_2: 0.5557 - lr: 0.0010\n",
            "Epoch 5/100\n",
            "456/456 [==============================] - 4s 8ms/step - loss: 0.6745 - auc_2: 0.6029 - val_loss: 0.6736 - val_auc_2: 0.5904 - lr: 0.0010\n",
            "Epoch 6/100\n",
            "456/456 [==============================] - 4s 8ms/step - loss: 0.6680 - auc_2: 0.6186 - val_loss: 0.6437 - val_auc_2: 0.6095 - lr: 0.0010\n",
            "Epoch 7/100\n",
            "456/456 [==============================] - 4s 8ms/step - loss: 0.6602 - auc_2: 0.6398 - val_loss: 0.6594 - val_auc_2: 0.6019 - lr: 0.0010\n",
            "Epoch 8/100\n",
            "456/456 [==============================] - 4s 8ms/step - loss: 0.6484 - auc_2: 0.6603 - val_loss: 0.6657 - val_auc_2: 0.6269 - lr: 0.0010\n",
            "Epoch 9/100\n",
            "456/456 [==============================] - 4s 8ms/step - loss: 0.6367 - auc_2: 0.6799 - val_loss: 0.6972 - val_auc_2: 0.6405 - lr: 0.0010\n",
            "Epoch 10/100\n",
            "175/456 [==========>...................] - ETA: 2s - loss: 0.6164 - auc_2: 0.7068"
          ]
        }
      ],
      "source": [
        "bestscore=0\n",
        "bestmodel,bestmodel_val_data=None,None\n",
        "scores=[]\n",
        "for train_index, test_index in cv.split(xs,y):\n",
        "      X_train = xs[train_index]\n",
        "      y_train = y[train_index]\n",
        "      X_test = xs[test_index]\n",
        "      y_test = y[test_index]\n",
        "      #Adam > SGD\n",
        "      opt = tf.optimizers.Adam(learning_rate=0.001)\n",
        "      model= createModel(loss=loss,optimizer=opt, metrics=metrics)\n",
        "      schedule = tf.keras.callbacks.LearningRateScheduler(scheduler)\n",
        "      earlystop=keras.callbacks.EarlyStopping(monitor='val_loss',patience=10,restore_best_weights=True)\n",
        "      callbacks=[schedule,earlystop]\n",
        "      class_w= dict(zip(np.unique(y_train),compute_class_weight(\"balanced\",classes=np.unique(y_train),y=y_train)))\n",
        "      history=model.fit(X_train, y_train,batch_size=64, epochs=100,validation_data=(X_test,y_test),verbose=1,callbacks=callbacks,class_weight=class_w)\n",
        "      y_pred = model.predict(X_test,verbose=0)\n",
        "      score=roc_auc_score(y_test,y_pred)\n",
        "      scores.append(score)\n",
        "      if score>bestscore:\n",
        "            bestmodel=model\n",
        "            bestscore,bestmodel_val_data,besthistory=score,[y_test,X_test,history]\n",
        "            print(f\"NN with best score of {score}\")\n",
        "score_df[\"NN\"]=scores\n",
        "print(f\"NN with avg score of {np.median(np.array(scores))}\")"
      ]
    },
    {
      "cell_type": "code",
      "execution_count": null,
      "id": "K7bwex0kS2Yi",
      "metadata": {
        "id": "K7bwex0kS2Yi"
      },
      "outputs": [],
      "source": [
        "y_test,X_test=bestmodel_val_data\n",
        "y_prob=bestmodel.predict(X_test)\n",
        "fpr , tpr , thresholds = roc_curve (y_test ,y_prob)\n",
        "auc_score=roc_auc_score(y_test,y_prob)  "
      ]
    },
    {
      "cell_type": "code",
      "execution_count": null,
      "id": "d032b488",
      "metadata": {},
      "outputs": [],
      "source": [
        "#https://androidkt.com/get-the-roc-curve-and-auc-for-keras-model/\n",
        "def plot_roc_curve(fpr,tpr): \n",
        "  plt.plot(fpr,tpr,label=f\"NN with AUC {auc_score}\") \n",
        "  plt.axis([0,1,0,1]) \n",
        "  plt.xlabel('False Positive Rate') \n",
        "  plt.ylabel('True Positive Rate') \n",
        "  plt.legend()\n",
        "  plt.show()    \n",
        "plot_roc_curve (fpr,tpr) "
      ]
    },
    {
      "cell_type": "code",
      "execution_count": null,
      "id": "616f3602",
      "metadata": {},
      "outputs": [],
      "source": [
        "plt.plot(besthistory.history[\"loss\"],label=\"training_loss\")\n",
        "plt.plot(besthistory.history[\"val_loss\"],label=\"val_loss\")\n",
        "plt.legend()"
      ]
    },
    {
      "cell_type": "code",
      "execution_count": null,
      "id": "dd08c3e2",
      "metadata": {},
      "outputs": [],
      "source": [
        "plt.plot(besthistory.history[\"auc_2\"],label=\"training_auc\")\n",
        "plt.plot(besthistory.history[\"val_auc_2\"],label=\"val_loss\")\n",
        "plt.legend()"
      ]
    },
    {
      "cell_type": "code",
      "execution_count": null,
      "id": "bc660dd6",
      "metadata": {},
      "outputs": [],
      "source": [
        "score_df.to_csv(\"../content/score_nn.csv\")"
      ]
    },
    {
      "cell_type": "code",
      "execution_count": null,
      "id": "PxwPQbYOF-qb",
      "metadata": {
        "id": "PxwPQbYOF-qb"
      },
      "outputs": [],
      "source": [
        "# classes are balanced ,we use BCE\n",
        "loss= keras.losses.BinaryCrossentropy()\n",
        "earlystop=keras.callbacks.EarlyStopping(patience=5,restore_best_weights=True)\n",
        "callbacks=[schedule,earlystop]"
      ]
    },
    {
      "cell_type": "code",
      "execution_count": null,
      "id": "aQEChnN0GV2r",
      "metadata": {
        "id": "aQEChnN0GV2r"
      },
      "outputs": [],
      "source": [
        "score_df_smote=pd.DataFrame()"
      ]
    },
    {
      "cell_type": "code",
      "execution_count": null,
      "id": "zaCI_Np_G5Zz",
      "metadata": {
        "colab": {
          "base_uri": "https://localhost:8080/"
        },
        "id": "zaCI_Np_G5Zz",
        "outputId": "622d38b4-0f05-4c5d-f1d2-ff2a407e5b54"
      },
      "outputs": [],
      "source": [
        "bestscore=0\n",
        "bestmodel,bestmodel_val_data=None,None\n",
        "scores=[]\n",
        "for train_index, test_index in cv.split(xs,y):\n",
        "      X_train = xs[train_index]\n",
        "      y_train = y[train_index]\n",
        "      X_test = xs[test_index]\n",
        "      y_test = y[test_index]\n",
        "      opt = tf.optimizers.Adam(learning_rate=0.001)\n",
        "      model= createModel(loss=loss,optimizer=opt, metrics=metrics)\n",
        "      sm=SMOTE()\n",
        "      X_train_oversampled, y_train_oversampled = sm.fit_resample(X_train, y_train)\n",
        "      schedule = tf.keras.callbacks.LearningRateScheduler(scheduler)\n",
        "      earlystop=keras.callbacks.EarlyStopping(monitor='val_loss',patience=10,restore_best_weights=True)\n",
        "      callbacks=[schedule,earlystop]\n",
        "      history=model.fit(X_train_oversampled,y_train_oversampled,batch_size=64, epochs=100,validation_data=(X_test,y_test),verbose=1,callbacks=callbacks)\n",
        "      y_pred = model.predict(X_test,verbose=0)\n",
        "      score=roc_auc_score(y_test,y_pred)\n",
        "      scores.append(score)\n",
        "      if score>bestscore:\n",
        "            bestmodel=model\n",
        "            bestscore,bestmodel_val_data,besthistory=score,[y_test,X_test,history]\n",
        "            print(f\"NN with best score of {score}\")\n",
        "score_df_smote[\"NN_Smote\"]=scores"
      ]
    },
    {
      "cell_type": "code",
      "execution_count": null,
      "id": "IQJrqaeYHA57",
      "metadata": {
        "colab": {
          "base_uri": "https://localhost:8080/",
          "height": 391
        },
        "id": "IQJrqaeYHA57",
        "outputId": "76cdbeb6-8c44-49bd-cee8-3befdb31e5de"
      },
      "outputs": [],
      "source": [
        "y_test,X_test=bestmodel_val_data\n",
        "y_prob=bestmodel.predict(X_test)\n",
        "fpr , tpr , thresholds = roc_curve (y_test ,y_prob)\n",
        "auc_score=roc_auc_score(y_test,y_prob)  \n",
        "plot_roc_curve (fpr,tpr) "
      ]
    },
    {
      "cell_type": "code",
      "execution_count": null,
      "id": "6eb7247a",
      "metadata": {},
      "outputs": [],
      "source": [
        "plt.plot(besthistory.history[\"loss\"],label=\"training_loss\")\n",
        "plt.plot(besthistory.history[\"val_loss\"],label=\"val_loss\")\n",
        "plt.legend()"
      ]
    },
    {
      "cell_type": "code",
      "execution_count": null,
      "id": "d2e6667f",
      "metadata": {},
      "outputs": [],
      "source": [
        "plt.plot(besthistory.history[\"auc_2\"],label=\"training_auc\")\n",
        "plt.plot(besthistory.history[\"val_auc_2\"],label=\"val_loss\")\n",
        "plt.legend()"
      ]
    },
    {
      "cell_type": "code",
      "execution_count": null,
      "id": "qtZQdhI4KdLE",
      "metadata": {
        "id": "qtZQdhI4KdLE"
      },
      "outputs": [],
      "source": [
        "score_df_smote.to_csv(\"../content/score_nn_smote.csv\")"
      ]
    },
    {
      "cell_type": "code",
      "execution_count": null,
      "id": "d8v2Phf6KblL",
      "metadata": {
        "id": "d8v2Phf6KblL"
      },
      "outputs": [],
      "source": [
        "score_df_tl=pd.DataFrame()"
      ]
    },
    {
      "cell_type": "code",
      "execution_count": null,
      "id": "ouVb58vcKaFZ",
      "metadata": {
        "colab": {
          "base_uri": "https://localhost:8080/",
          "height": 1000
        },
        "id": "ouVb58vcKaFZ",
        "outputId": "cd4ae333-8b96-47dd-9de2-ff9a81751c83"
      },
      "outputs": [],
      "source": [
        "bestscore=0\n",
        "bestmodel,bestmodel_val_data=None,None\n",
        "scores=[]\n",
        "for train_index, test_index in cv.split(xs,y):\n",
        "      X_train = xs[train_index]\n",
        "      y_train = y[train_index]\n",
        "      X_test = xs[test_index]\n",
        "      y_test = y[test_index]\n",
        "      opt = tf.optimizers.Adam(learning_rate=0.001)\n",
        "      model= createModel(loss=loss,optimizer=opt, metrics=metrics)\n",
        "      tl=TomekLinks()\n",
        "      schedule = tf.keras.callbacks.LearningRateScheduler(scheduler)\n",
        "      earlystop=keras.callbacks.EarlyStopping(monitor='val_loss',patience=10,restore_best_weights=True)\n",
        "      callbacks=[schedule,earlystop]\n",
        "      X_train_undersampled, y_train_undersampled = tl.fit_resample(X_train, y_train)\n",
        "      history=model.fit(X_train_undersampled,y_train_undersampled,batch_size=64, epochs=100,validation_data=(X_test,y_test),verbose=1,callbacks=callbacks)\n",
        "      y_pred = model.predict(X_test,verbose=0)\n",
        "      score=roc_auc_score(y_test,y_pred)\n",
        "      scores.append(score)\n",
        "      if score>bestscore:\n",
        "            bestmodel=model\n",
        "            bestscore,bestmodel_val_data,besthistory=score,[y_test,X_test,history]\n",
        "            print(f\"NN with best score of {score}\")\n",
        "score_df_tl[\"NN_tl\"]=scores"
      ]
    },
    {
      "cell_type": "code",
      "execution_count": null,
      "id": "bVOnO9znK6ZN",
      "metadata": {
        "id": "bVOnO9znK6ZN"
      },
      "outputs": [],
      "source": [
        "y_test,X_test=bestmodel_val_data\n",
        "y_prob=bestmodel.predict(X_test)\n",
        "fpr , tpr , thresholds = roc_curve (y_test ,y_prob)\n",
        "auc_score=roc_auc_score(y_test,y_prob)  \n",
        "plot_roc_curve (fpr,tpr) "
      ]
    },
    {
      "cell_type": "markdown",
      "id": "ae58e090",
      "metadata": {},
      "source": [
        "We use the latest model to demostrate the loss and AUC over epochs"
      ]
    },
    {
      "cell_type": "code",
      "execution_count": null,
      "id": "3c0903e2",
      "metadata": {},
      "outputs": [],
      "source": [
        "plt.plot(besthistory.history[\"loss\"],label=\"training_loss\")\n",
        "plt.plot(besthistory.history[\"val_loss\"],label=\"val_loss\")\n",
        "plt.legend()"
      ]
    },
    {
      "cell_type": "code",
      "execution_count": null,
      "id": "d1323c3a",
      "metadata": {},
      "outputs": [],
      "source": [
        "plt.plot(besthistory.history[\"auc_2\"],label=\"training_auc\")\n",
        "plt.plot(besthistory.history[\"val_auc_2\"],label=\"val_loss\")\n",
        "plt.legend()"
      ]
    },
    {
      "cell_type": "markdown",
      "id": "bc891c76",
      "metadata": {},
      "source": [
        "All the NN are overfitting as seen from the difference between the training loss and val loss"
      ]
    },
    {
      "cell_type": "code",
      "execution_count": null,
      "id": "x3VY5pyWbN3e",
      "metadata": {
        "id": "x3VY5pyWbN3e"
      },
      "outputs": [],
      "source": [
        "score_df_tl.to_csv(\"../content/score_nn_tl.csv\")"
      ]
    }
  ],
  "metadata": {
    "colab": {
      "collapsed_sections": [],
      "include_colab_link": true,
      "provenance": []
    },
    "kernelspec": {
      "display_name": "Python 3.10.0 64-bit",
      "language": "python",
      "name": "python3"
    },
    "language_info": {
      "codemirror_mode": {
        "name": "ipython",
        "version": 3
      },
      "file_extension": ".py",
      "mimetype": "text/x-python",
      "name": "python",
      "nbconvert_exporter": "python",
      "pygments_lexer": "ipython3",
      "version": "3.10.0"
    },
    "vscode": {
      "interpreter": {
        "hash": "525f50cd3df40e9d57f214b2f9bedadf4bf08c85f9f5b3b27734de5b2eace747"
      }
    }
  },
  "nbformat": 4,
  "nbformat_minor": 5
}
