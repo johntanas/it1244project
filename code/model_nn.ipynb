{
  "cells": [
    {
      "cell_type": "markdown",
      "metadata": {
        "id": "view-in-github",
        "colab_type": "text"
      },
      "source": [
        "<a href=\"https://colab.research.google.com/github/johntanas/it1244project/blob/main/code/model_nn.ipynb\" target=\"_parent\"><img src=\"https://colab.research.google.com/assets/colab-badge.svg\" alt=\"Open In Colab\"/></a>"
      ]
    },
    {
      "cell_type": "code",
      "execution_count": 1,
      "id": "5179ea71",
      "metadata": {
        "id": "5179ea71"
      },
      "outputs": [],
      "source": [
        "import pandas as pd\n",
        "import numpy as np\n",
        "from sklearn.preprocessing import StandardScaler,OneHotEncoder,OrdinalEncoder\n",
        "from sklearn.compose import ColumnTransformer\n",
        "from sklearn.model_selection import RepeatedStratifiedKFold\n",
        "from imblearn.over_sampling import SMOTE\n",
        "from sklearn.metrics import roc_auc_score\n",
        "from imblearn.under_sampling import TomekLinks\n",
        "import matplotlib.pyplot as plt"
      ]
    },
    {
      "cell_type": "code",
      "source": [
        "n_repeats=5\n",
        "n_splits=5"
      ],
      "metadata": {
        "id": "gwWC421NqpxW"
      },
      "id": "gwWC421NqpxW",
      "execution_count": 2,
      "outputs": []
    },
    {
      "cell_type": "code",
      "source": [
        "path_to_max_label=\"/content/max_label.csv\"\n",
        "path_to_app=\"/content/cleaned_application.csv\"\n",
        "cleaned_app_df=pd.read_csv(path_to_app,index_col=0)\n",
        "max_df=pd.read_csv(path_to_max_label,index_col=0)"
      ],
      "metadata": {
        "id": "XJlCQwWJEl2_"
      },
      "id": "XJlCQwWJEl2_",
      "execution_count": 3,
      "outputs": []
    },
    {
      "cell_type": "code",
      "source": [
        "dep_var=\"status\"\n",
        "random_state=42"
      ],
      "metadata": {
        "id": "DoxeFDv6Mgj8"
      },
      "id": "DoxeFDv6Mgj8",
      "execution_count": 4,
      "outputs": []
    },
    {
      "cell_type": "markdown",
      "source": [
        "preprocessing the same as other model notebook."
      ],
      "metadata": {
        "id": "LU5wQZdFPNoR"
      },
      "id": "LU5wQZdFPNoR"
    },
    {
      "cell_type": "code",
      "source": [
        "order=cleaned_app_df.groupby(\"job\")[\"income\"].median().sort_values()"
      ],
      "metadata": {
        "id": "zieu69u9S3r9"
      },
      "id": "zieu69u9S3r9",
      "execution_count": 5,
      "outputs": []
    },
    {
      "cell_type": "code",
      "source": [
        "cleaned_app_df[\"job\"]=cleaned_app_df[\"job\"].replace(order)"
      ],
      "metadata": {
        "id": "Vq37hbF7TC0v"
      },
      "id": "Vq37hbF7TC0v",
      "execution_count": 6,
      "outputs": []
    },
    {
      "cell_type": "code",
      "source": [
        "train_df=max_df.merge(cleaned_app_df,how=\"inner\",on=\"id\").drop(\"id\",axis=1)"
      ],
      "metadata": {
        "id": "ZEu51Hh-LyC5"
      },
      "id": "ZEu51Hh-LyC5",
      "execution_count": 7,
      "outputs": []
    },
    {
      "cell_type": "code",
      "source": [
        "numerical_transformer = StandardScaler()\n",
        "categorical_transformer=OneHotEncoder()\n",
        "ord_transformer=OrdinalEncoder()"
      ],
      "metadata": {
        "id": "JqwrdVI-75AF"
      },
      "id": "JqwrdVI-75AF",
      "execution_count": 8,
      "outputs": []
    },
    {
      "cell_type": "code",
      "source": [
        "X,y=train_df.drop(columns=dep_var),train_df[dep_var]"
      ],
      "metadata": {
        "id": "V03vSX3e8BDr"
      },
      "id": "V03vSX3e8BDr",
      "execution_count": 9,
      "outputs": []
    },
    {
      "cell_type": "code",
      "source": [
        "categorical_cols = [cname for cname in X.columns if X[cname].nunique() < 10 and \n",
        "                        X[cname].dtype == \"object\"]\n",
        "numerical_cols = [cname for cname in X.columns if X[cname].dtype in ['int64', 'float64']]\n"
      ],
      "metadata": {
        "id": "PxZXExPK77oD"
      },
      "id": "PxZXExPK77oD",
      "execution_count": 10,
      "outputs": []
    },
    {
      "cell_type": "code",
      "source": [
        "preprocessor = ColumnTransformer(\n",
        "    transformers=[\n",
        "        ('num', numerical_transformer, numerical_cols),\n",
        "        ('cat', categorical_transformer, categorical_cols),\n",
        "        ('ord',ord_transformer,['job'])\n",
        "    ])"
      ],
      "metadata": {
        "id": "GUdPAjpk76qY"
      },
      "id": "GUdPAjpk76qY",
      "execution_count": 11,
      "outputs": []
    },
    {
      "cell_type": "code",
      "source": [
        "xs=preprocessor.fit_transform(X)"
      ],
      "metadata": {
        "id": "sBxqujKg8FDR"
      },
      "id": "sBxqujKg8FDR",
      "execution_count": 12,
      "outputs": []
    },
    {
      "cell_type": "code",
      "source": [
        "score_df=pd.DataFrame()"
      ],
      "metadata": {
        "id": "gpCTr2Oh_t_Q"
      },
      "id": "gpCTr2Oh_t_Q",
      "execution_count": 13,
      "outputs": []
    },
    {
      "cell_type": "markdown",
      "source": [
        "cv same"
      ],
      "metadata": {
        "id": "pvixVAlrN2nf"
      },
      "id": "pvixVAlrN2nf"
    },
    {
      "cell_type": "code",
      "source": [
        "cv = RepeatedStratifiedKFold(n_splits=n_splits, n_repeats=n_repeats, random_state=random_state)"
      ],
      "metadata": {
        "id": "Uk6kEisNN2AP"
      },
      "id": "Uk6kEisNN2AP",
      "execution_count": 14,
      "outputs": []
    },
    {
      "cell_type": "code",
      "source": [
        "# dataframe of scores to be converted into plot later\n",
        "score_df=pd.DataFrame()"
      ],
      "metadata": {
        "id": "nQxbNZZ4OAlw"
      },
      "id": "nQxbNZZ4OAlw",
      "execution_count": 15,
      "outputs": []
    },
    {
      "cell_type": "code",
      "source": [
        "import keras\n",
        "import tensorflow as tf\n",
        "from keras.utils.np_utils import to_categorical\n",
        "from keras import optimizers\n",
        "from keras.models import Sequential\n",
        "from keras.layers import Dense, Activation, Flatten\n",
        "from sklearn.utils.class_weight import compute_class_weight"
      ],
      "metadata": {
        "id": "1ZfWWT07KV_s"
      },
      "id": "1ZfWWT07KV_s",
      "execution_count": 16,
      "outputs": []
    },
    {
      "cell_type": "code",
      "source": [
        "def scheduler(epoch, lr):\n",
        "          if epoch < 10:\n",
        "            return lr\n",
        "          else:\n",
        "            return lr * tf.math.exp(-0.1)\n",
        "schedule = tf.keras.callbacks.LearningRateScheduler(scheduler)\n",
        "# montior is the loss, not metric, patience is personal heuristic\n",
        "earlystop=keras.callbacks.EarlyStopping(monitor='val_loss',patience=5,restore_best_weights=True)\n",
        "callbacks=[schedule,earlystop]\n",
        "#Adam > SGD\n",
        "opt = tf.optimizers.Adam(learning_rate=0.001)\n",
        "#Use BinaryFocalCrossentropy instead of BinaryCrossentropy\n",
        "loss= tf.keras.losses.BinaryFocalCrossentropy()\n",
        "# we can use AUC and PR metric\n",
        "metrics = [tf.keras.metrics.AUC(curve='ROC')]\n",
        "def createModel(loss,optimizer,metrics):\n",
        "    model= keras.Sequential([\n",
        "      keras.layers.Dense(1024,activation=\"relu\"),\n",
        "      keras.layers.Dropout(0.2),\n",
        "      keras.layers.Dense(512,activation=\"relu\"),\n",
        "      keras.layers.Dropout(0.2),\n",
        "      keras.layers.Dense(256,activation=\"relu\"),\n",
        "      keras.layers.Dense(128,activation=\"relu\"),\n",
        "      keras.layers.Dense(1,activation=\"sigmoid\")])\n",
        "    model.compile(loss=loss,optimizer=opt, metrics=metrics)\n",
        "    return model"
      ],
      "metadata": {
        "id": "RX72U7191Fyd"
      },
      "id": "RX72U7191Fyd",
      "execution_count": 17,
      "outputs": []
    },
    {
      "cell_type": "code",
      "source": [
        "bestscore=0\n",
        "bestmodel,bestmodel_val_data=None,None\n",
        "bestmodel_val_data=None\n",
        "scores=[]\n",
        "for train_index, test_index in cv.split(xs,y):\n",
        "      X_train = xs[train_index]\n",
        "      y_train = y[train_index]\n",
        "      X_test = xs[test_index]\n",
        "      y_test = y[test_index]\n",
        "      model= createModel(loss=loss,optimizer=opt, metrics=metrics)\n",
        "      class_w= dict(zip(np.unique(y_train),compute_class_weight(\"balanced\",classes=np.unique(y_train),y=y_train)))\n",
        "      history=model.fit(X_train, y_train,batch_size=64, epochs=100,validation_data=(X_test,y_test),verbose=1,callbacks=callbacks,class_weight=class_w)\n",
        "      y_pred = model.predict(X_test,verbose=0)\n",
        "      score=roc_auc_score(y_test,y_pred)\n",
        "      scores.append(score)\n",
        "      if score>bestscore:\n",
        "            bestmodel=model\n",
        "            bestscore,bestmodel_val_data=score,[y_test,X_test]\n",
        "            print(f\"NN with best score of {score}\")\n",
        "score_df[\"NN\"]=scores\n",
        "print(f\"NN with avg score of {np.median(np.array(scores))}\")"
      ],
      "metadata": {
        "colab": {
          "base_uri": "https://localhost:8080/"
        },
        "id": "AzogFSgyKUaT",
        "outputId": "3924fa8f-c61c-44ef-c96a-569b1850d41c"
      },
      "id": "AzogFSgyKUaT",
      "execution_count": null,
      "outputs": [
        {
          "output_type": "stream",
          "name": "stdout",
          "text": [
            "Epoch 1/100\n",
            "456/456 [==============================] - 10s 20ms/step - loss: 0.1746 - auc: 0.5103 - val_loss: 0.1807 - val_auc: 0.5399 - lr: 0.0010\n",
            "Epoch 2/100\n",
            "456/456 [==============================] - 8s 18ms/step - loss: 0.1728 - auc: 0.5408 - val_loss: 0.1612 - val_auc: 0.5478 - lr: 0.0010\n",
            "Epoch 3/100\n",
            "456/456 [==============================] - 6s 13ms/step - loss: 0.1725 - auc: 0.5517 - val_loss: 0.1784 - val_auc: 0.5827 - lr: 0.0010\n",
            "Epoch 4/100\n",
            "456/456 [==============================] - 5s 11ms/step - loss: 0.1710 - auc: 0.5768 - val_loss: 0.1646 - val_auc: 0.5607 - lr: 0.0010\n",
            "Epoch 5/100\n",
            "456/456 [==============================] - 5s 11ms/step - loss: 0.1697 - auc: 0.5936 - val_loss: 0.1765 - val_auc: 0.5830 - lr: 0.0010\n",
            "Epoch 6/100\n",
            "456/456 [==============================] - 7s 16ms/step - loss: 0.1680 - auc: 0.6114 - val_loss: 0.1681 - val_auc: 0.6237 - lr: 0.0010\n",
            "Epoch 7/100\n",
            "456/456 [==============================] - 5s 11ms/step - loss: 0.1657 - auc: 0.6410 - val_loss: 0.1555 - val_auc: 0.6249 - lr: 0.0010\n",
            "Epoch 8/100\n",
            "456/456 [==============================] - 5s 11ms/step - loss: 0.1635 - auc: 0.6590 - val_loss: 0.1589 - val_auc: 0.6368 - lr: 0.0010\n",
            "Epoch 9/100\n",
            "456/456 [==============================] - 5s 11ms/step - loss: 0.1611 - auc: 0.6772 - val_loss: 0.1674 - val_auc: 0.6333 - lr: 0.0010\n",
            "Epoch 10/100\n",
            "456/456 [==============================] - 5s 11ms/step - loss: 0.1576 - auc: 0.7017 - val_loss: 0.1655 - val_auc: 0.6633 - lr: 0.0010\n",
            "Epoch 11/100\n",
            "456/456 [==============================] - 5s 11ms/step - loss: 0.1546 - auc: 0.7174 - val_loss: 0.1500 - val_auc: 0.6628 - lr: 9.0484e-04\n",
            "Epoch 12/100\n",
            "456/456 [==============================] - 5s 11ms/step - loss: 0.1506 - auc: 0.7417 - val_loss: 0.1479 - val_auc: 0.6782 - lr: 8.1873e-04\n",
            "Epoch 13/100\n",
            "456/456 [==============================] - 5s 11ms/step - loss: 0.1467 - auc: 0.7594 - val_loss: 0.1508 - val_auc: 0.6889 - lr: 7.4082e-04\n",
            "Epoch 14/100\n",
            "456/456 [==============================] - 5s 11ms/step - loss: 0.1426 - auc: 0.7778 - val_loss: 0.1568 - val_auc: 0.6926 - lr: 6.7032e-04\n",
            "Epoch 15/100\n",
            "456/456 [==============================] - 5s 11ms/step - loss: 0.1378 - auc: 0.7968 - val_loss: 0.1486 - val_auc: 0.6957 - lr: 6.0653e-04\n",
            "Epoch 16/100\n",
            "456/456 [==============================] - 5s 11ms/step - loss: 0.1340 - auc: 0.8103 - val_loss: 0.1442 - val_auc: 0.7016 - lr: 5.4881e-04\n",
            "Epoch 17/100\n",
            "456/456 [==============================] - 5s 11ms/step - loss: 0.1299 - auc: 0.8239 - val_loss: 0.1427 - val_auc: 0.7030 - lr: 4.9659e-04\n",
            "Epoch 18/100\n",
            "456/456 [==============================] - 5s 11ms/step - loss: 0.1267 - auc: 0.8343 - val_loss: 0.1406 - val_auc: 0.7094 - lr: 4.4933e-04\n",
            "Epoch 19/100\n",
            "456/456 [==============================] - 5s 11ms/step - loss: 0.1235 - auc: 0.8417 - val_loss: 0.1440 - val_auc: 0.7137 - lr: 4.0657e-04\n",
            "Epoch 20/100\n",
            "456/456 [==============================] - 5s 11ms/step - loss: 0.1214 - auc: 0.8488 - val_loss: 0.1477 - val_auc: 0.7173 - lr: 3.6788e-04\n",
            "Epoch 21/100\n",
            "456/456 [==============================] - 6s 12ms/step - loss: 0.1172 - auc: 0.8601 - val_loss: 0.1453 - val_auc: 0.7174 - lr: 3.3287e-04\n",
            "Epoch 22/100\n",
            "456/456 [==============================] - 6s 12ms/step - loss: 0.1150 - auc: 0.8654 - val_loss: 0.1422 - val_auc: 0.7213 - lr: 3.0119e-04\n",
            "Epoch 23/100\n",
            "456/456 [==============================] - 5s 11ms/step - loss: 0.1135 - auc: 0.8685 - val_loss: 0.1471 - val_auc: 0.7238 - lr: 2.7253e-04\n",
            "NN with best score of 0.7092683842244596\n",
            "Epoch 1/100\n",
            "456/456 [==============================] - 6s 12ms/step - loss: 0.1740 - auc: 0.5829 - val_loss: 0.1697 - val_auc: 0.5505 - lr: 2.7253e-04\n",
            "Epoch 2/100\n",
            "456/456 [==============================] - 5s 11ms/step - loss: 0.1716 - auc: 0.5670 - val_loss: 0.1595 - val_auc: 0.5620 - lr: 2.7253e-04\n",
            "Epoch 3/100\n",
            "456/456 [==============================] - 5s 11ms/step - loss: 0.1702 - auc: 0.5925 - val_loss: 0.1793 - val_auc: 0.5762 - lr: 2.7253e-04\n",
            "Epoch 4/100\n",
            "456/456 [==============================] - 5s 11ms/step - loss: 0.1683 - auc: 0.6155 - val_loss: 0.1688 - val_auc: 0.5921 - lr: 2.7253e-04\n",
            "Epoch 5/100\n",
            "456/456 [==============================] - 5s 11ms/step - loss: 0.1661 - auc: 0.6368 - val_loss: 0.1650 - val_auc: 0.6075 - lr: 2.7253e-04\n",
            "Epoch 6/100\n",
            "456/456 [==============================] - 5s 11ms/step - loss: 0.1635 - auc: 0.6586 - val_loss: 0.1684 - val_auc: 0.6071 - lr: 2.7253e-04\n",
            "Epoch 7/100\n",
            "456/456 [==============================] - 5s 11ms/step - loss: 0.1612 - auc: 0.6770 - val_loss: 0.1590 - val_auc: 0.6278 - lr: 2.7253e-04\n",
            "Epoch 8/100\n",
            "456/456 [==============================] - 5s 11ms/step - loss: 0.1576 - auc: 0.7012 - val_loss: 0.1529 - val_auc: 0.6394 - lr: 2.7253e-04\n",
            "Epoch 9/100\n",
            "456/456 [==============================] - 5s 11ms/step - loss: 0.1548 - auc: 0.7177 - val_loss: 0.1481 - val_auc: 0.6486 - lr: 2.7253e-04\n",
            "Epoch 10/100\n",
            "456/456 [==============================] - 5s 11ms/step - loss: 0.1518 - auc: 0.7311 - val_loss: 0.1473 - val_auc: 0.6583 - lr: 2.7253e-04\n",
            "Epoch 11/100\n",
            "456/456 [==============================] - 5s 11ms/step - loss: 0.1478 - auc: 0.7533 - val_loss: 0.1524 - val_auc: 0.6612 - lr: 2.4660e-04\n",
            "Epoch 12/100\n",
            "456/456 [==============================] - 5s 11ms/step - loss: 0.1433 - auc: 0.7723 - val_loss: 0.1640 - val_auc: 0.6677 - lr: 2.2313e-04\n",
            "Epoch 13/100\n",
            "456/456 [==============================] - 6s 12ms/step - loss: 0.1400 - auc: 0.7881 - val_loss: 0.1499 - val_auc: 0.6774 - lr: 2.0190e-04\n",
            "Epoch 14/100\n",
            "456/456 [==============================] - 5s 11ms/step - loss: 0.1363 - auc: 0.8001 - val_loss: 0.1571 - val_auc: 0.6866 - lr: 1.8268e-04\n",
            "Epoch 15/100\n",
            "456/456 [==============================] - 5s 11ms/step - loss: 0.1328 - auc: 0.8129 - val_loss: 0.1466 - val_auc: 0.6934 - lr: 1.6530e-04\n",
            "Epoch 16/100\n",
            "456/456 [==============================] - 5s 11ms/step - loss: 0.1303 - auc: 0.8217 - val_loss: 0.1489 - val_auc: 0.6968 - lr: 1.4957e-04\n",
            "Epoch 17/100\n",
            "456/456 [==============================] - 5s 11ms/step - loss: 0.1286 - auc: 0.8281 - val_loss: 0.1550 - val_auc: 0.6992 - lr: 1.3534e-04\n",
            "Epoch 18/100\n",
            "456/456 [==============================] - 5s 11ms/step - loss: 0.1255 - auc: 0.8360 - val_loss: 0.1441 - val_auc: 0.7039 - lr: 1.2246e-04\n",
            "Epoch 19/100\n",
            "456/456 [==============================] - 5s 11ms/step - loss: 0.1228 - auc: 0.8450 - val_loss: 0.1448 - val_auc: 0.7078 - lr: 1.1080e-04\n",
            "Epoch 20/100\n",
            "456/456 [==============================] - 5s 11ms/step - loss: 0.1204 - auc: 0.8503 - val_loss: 0.1477 - val_auc: 0.7103 - lr: 1.0026e-04\n",
            "Epoch 21/100\n",
            "456/456 [==============================] - 5s 11ms/step - loss: 0.1195 - auc: 0.8543 - val_loss: 0.1563 - val_auc: 0.7109 - lr: 9.0718e-05\n",
            "Epoch 22/100\n",
            "456/456 [==============================] - 5s 11ms/step - loss: 0.1181 - auc: 0.8579 - val_loss: 0.1470 - val_auc: 0.7117 - lr: 8.2085e-05\n",
            "Epoch 23/100\n",
            "456/456 [==============================] - 5s 11ms/step - loss: 0.1164 - auc: 0.8618 - val_loss: 0.1532 - val_auc: 0.7142 - lr: 7.4274e-05\n",
            "Epoch 1/100\n",
            "456/456 [==============================] - 6s 12ms/step - loss: 0.1736 - auc: 0.5804 - val_loss: 0.1700 - val_auc: 0.5540 - lr: 7.4274e-05\n",
            "Epoch 2/100\n",
            "456/456 [==============================] - 5s 11ms/step - loss: 0.1717 - auc: 0.5639 - val_loss: 0.1689 - val_auc: 0.5669 - lr: 7.4274e-05\n",
            "Epoch 3/100\n",
            "456/456 [==============================] - 5s 11ms/step - loss: 0.1709 - auc: 0.5803 - val_loss: 0.1661 - val_auc: 0.5708 - lr: 7.4274e-05\n",
            "Epoch 4/100\n",
            "456/456 [==============================] - 5s 11ms/step - loss: 0.1699 - auc: 0.5934 - val_loss: 0.1689 - val_auc: 0.5861 - lr: 7.4274e-05\n",
            "Epoch 5/100\n",
            "456/456 [==============================] - 5s 11ms/step - loss: 0.1690 - auc: 0.6072 - val_loss: 0.1614 - val_auc: 0.5861 - lr: 7.4274e-05\n",
            "Epoch 6/100\n",
            "456/456 [==============================] - 6s 12ms/step - loss: 0.1676 - auc: 0.6262 - val_loss: 0.1723 - val_auc: 0.5935 - lr: 7.4274e-05\n",
            "Epoch 7/100\n",
            "456/456 [==============================] - 5s 11ms/step - loss: 0.1668 - auc: 0.6310 - val_loss: 0.1685 - val_auc: 0.5951 - lr: 7.4274e-05\n",
            "Epoch 8/100\n",
            "456/456 [==============================] - 5s 11ms/step - loss: 0.1659 - auc: 0.6394 - val_loss: 0.1677 - val_auc: 0.6021 - lr: 7.4274e-05\n",
            "Epoch 9/100\n",
            "456/456 [==============================] - 5s 11ms/step - loss: 0.1645 - auc: 0.6554 - val_loss: 0.1598 - val_auc: 0.6173 - lr: 7.4274e-05\n",
            "Epoch 10/100\n",
            "456/456 [==============================] - 5s 11ms/step - loss: 0.1639 - auc: 0.6601 - val_loss: 0.1848 - val_auc: 0.6169 - lr: 7.4274e-05\n",
            "Epoch 11/100\n",
            "456/456 [==============================] - 5s 11ms/step - loss: 0.1626 - auc: 0.6699 - val_loss: 0.1701 - val_auc: 0.6226 - lr: 6.7206e-05\n",
            "Epoch 12/100\n",
            "456/456 [==============================] - 5s 11ms/step - loss: 0.1605 - auc: 0.6863 - val_loss: 0.1573 - val_auc: 0.6341 - lr: 6.0810e-05\n",
            "Epoch 13/100\n",
            "456/456 [==============================] - 5s 11ms/step - loss: 0.1598 - auc: 0.6880 - val_loss: 0.1440 - val_auc: 0.6402 - lr: 5.5023e-05\n",
            "Epoch 14/100\n",
            "456/456 [==============================] - 5s 11ms/step - loss: 0.1589 - auc: 0.6959 - val_loss: 0.1763 - val_auc: 0.6440 - lr: 4.9787e-05\n",
            "Epoch 15/100\n",
            "456/456 [==============================] - 5s 11ms/step - loss: 0.1576 - auc: 0.7046 - val_loss: 0.1686 - val_auc: 0.6494 - lr: 4.5049e-05\n",
            "Epoch 16/100\n",
            "456/456 [==============================] - 5s 11ms/step - loss: 0.1564 - auc: 0.7113 - val_loss: 0.1691 - val_auc: 0.6530 - lr: 4.0762e-05\n",
            "Epoch 17/100\n",
            "456/456 [==============================] - 5s 11ms/step - loss: 0.1559 - auc: 0.7148 - val_loss: 0.1575 - val_auc: 0.6553 - lr: 3.6883e-05\n",
            "Epoch 18/100\n",
            "456/456 [==============================] - 5s 11ms/step - loss: 0.1541 - auc: 0.7261 - val_loss: 0.1609 - val_auc: 0.6565 - lr: 3.3373e-05\n",
            "Epoch 1/100\n",
            "456/456 [==============================] - 6s 11ms/step - loss: 0.1735 - auc: 0.5588 - val_loss: 0.1612 - val_auc: 0.5421 - lr: 3.3373e-05\n",
            "Epoch 2/100\n",
            "456/456 [==============================] - 5s 11ms/step - loss: 0.1720 - auc: 0.5573 - val_loss: 0.1744 - val_auc: 0.5709 - lr: 3.3373e-05\n",
            "Epoch 3/100\n",
            "456/456 [==============================] - 5s 11ms/step - loss: 0.1711 - auc: 0.5745 - val_loss: 0.1664 - val_auc: 0.5565 - lr: 3.3373e-05\n",
            "Epoch 4/100\n",
            "456/456 [==============================] - 5s 11ms/step - loss: 0.1705 - auc: 0.5863 - val_loss: 0.1694 - val_auc: 0.5670 - lr: 3.3373e-05\n",
            "Epoch 5/100\n",
            "456/456 [==============================] - 5s 11ms/step - loss: 0.1698 - auc: 0.5979 - val_loss: 0.1811 - val_auc: 0.5754 - lr: 3.3373e-05\n",
            "Epoch 6/100\n",
            "456/456 [==============================] - 5s 11ms/step - loss: 0.1692 - auc: 0.6060 - val_loss: 0.1596 - val_auc: 0.5752 - lr: 3.3373e-05\n",
            "Epoch 7/100\n",
            "456/456 [==============================] - 5s 11ms/step - loss: 0.1688 - auc: 0.6129 - val_loss: 0.1611 - val_auc: 0.5828 - lr: 3.3373e-05\n",
            "Epoch 8/100\n",
            "456/456 [==============================] - 5s 12ms/step - loss: 0.1684 - auc: 0.6145 - val_loss: 0.1695 - val_auc: 0.5900 - lr: 3.3373e-05\n",
            "Epoch 9/100\n",
            "456/456 [==============================] - 5s 11ms/step - loss: 0.1677 - auc: 0.6243 - val_loss: 0.1656 - val_auc: 0.5884 - lr: 3.3373e-05\n",
            "Epoch 10/100\n",
            "456/456 [==============================] - 5s 11ms/step - loss: 0.1669 - auc: 0.6307 - val_loss: 0.1671 - val_auc: 0.5907 - lr: 3.3373e-05\n",
            "Epoch 11/100\n",
            "456/456 [==============================] - 5s 11ms/step - loss: 0.1664 - auc: 0.6373 - val_loss: 0.1790 - val_auc: 0.5891 - lr: 3.0197e-05\n",
            "Epoch 1/100\n",
            "456/456 [==============================] - 6s 12ms/step - loss: 0.1741 - auc: 0.5358 - val_loss: 0.1689 - val_auc: 0.5547 - lr: 3.0197e-05\n",
            "Epoch 2/100\n",
            "456/456 [==============================] - 5s 11ms/step - loss: 0.1722 - auc: 0.5564 - val_loss: 0.1713 - val_auc: 0.5734 - lr: 3.0197e-05\n",
            "Epoch 3/100\n",
            "456/456 [==============================] - 5s 11ms/step - loss: 0.1715 - auc: 0.5710 - val_loss: 0.1730 - val_auc: 0.5830 - lr: 3.0197e-05\n",
            "Epoch 4/100\n",
            "456/456 [==============================] - 5s 11ms/step - loss: 0.1711 - auc: 0.5768 - val_loss: 0.1732 - val_auc: 0.5889 - lr: 3.0197e-05\n",
            "Epoch 5/100\n",
            "456/456 [==============================] - 5s 11ms/step - loss: 0.1707 - auc: 0.5859 - val_loss: 0.1706 - val_auc: 0.5930 - lr: 3.0197e-05\n",
            "Epoch 6/100\n",
            "456/456 [==============================] - 5s 11ms/step - loss: 0.1700 - auc: 0.5970 - val_loss: 0.1741 - val_auc: 0.5914 - lr: 3.0197e-05\n",
            "Epoch 1/100\n",
            "456/456 [==============================] - 6s 12ms/step - loss: 0.1736 - auc: 0.5477 - val_loss: 0.1621 - val_auc: 0.5567 - lr: 3.0197e-05\n",
            "Epoch 2/100\n",
            "456/456 [==============================] - 5s 12ms/step - loss: 0.1719 - auc: 0.5615 - val_loss: 0.1675 - val_auc: 0.5716 - lr: 3.0197e-05\n",
            "Epoch 3/100\n",
            "456/456 [==============================] - 5s 12ms/step - loss: 0.1712 - auc: 0.5753 - val_loss: 0.1793 - val_auc: 0.5705 - lr: 3.0197e-05\n",
            "Epoch 4/100\n",
            "456/456 [==============================] - 5s 11ms/step - loss: 0.1708 - auc: 0.5814 - val_loss: 0.1667 - val_auc: 0.5810 - lr: 3.0197e-05\n",
            "Epoch 5/100\n",
            "456/456 [==============================] - 7s 16ms/step - loss: 0.1700 - auc: 0.5957 - val_loss: 0.1650 - val_auc: 0.5871 - lr: 3.0197e-05\n",
            "Epoch 6/100\n",
            "456/456 [==============================] - 9s 19ms/step - loss: 0.1697 - auc: 0.5975 - val_loss: 0.1694 - val_auc: 0.5892 - lr: 3.0197e-05\n",
            "Epoch 1/100\n",
            "456/456 [==============================] - 6s 12ms/step - loss: 0.1733 - auc: 0.5484 - val_loss: 0.1743 - val_auc: 0.5627 - lr: 3.0197e-05\n",
            "Epoch 2/100\n",
            "456/456 [==============================] - 5s 11ms/step - loss: 0.1715 - auc: 0.5688 - val_loss: 0.1722 - val_auc: 0.5724 - lr: 3.0197e-05\n",
            "Epoch 3/100\n",
            "456/456 [==============================] - 5s 11ms/step - loss: 0.1710 - auc: 0.5791 - val_loss: 0.1801 - val_auc: 0.5759 - lr: 3.0197e-05\n",
            "Epoch 4/100\n",
            "456/456 [==============================] - 5s 11ms/step - loss: 0.1702 - auc: 0.5934 - val_loss: 0.1699 - val_auc: 0.5770 - lr: 3.0197e-05\n",
            "Epoch 5/100\n",
            "456/456 [==============================] - 8s 18ms/step - loss: 0.1698 - auc: 0.6002 - val_loss: 0.1694 - val_auc: 0.5817 - lr: 3.0197e-05\n",
            "Epoch 6/100\n",
            "456/456 [==============================] - 6s 13ms/step - loss: 0.1694 - auc: 0.6053 - val_loss: 0.1736 - val_auc: 0.5889 - lr: 3.0197e-05\n",
            "Epoch 7/100\n",
            "456/456 [==============================] - 5s 11ms/step - loss: 0.1687 - auc: 0.6149 - val_loss: 0.1664 - val_auc: 0.5850 - lr: 3.0197e-05\n",
            "Epoch 8/100\n",
            "456/456 [==============================] - 5s 11ms/step - loss: 0.1680 - auc: 0.6240 - val_loss: 0.1699 - val_auc: 0.5876 - lr: 3.0197e-05\n",
            "Epoch 9/100\n",
            "456/456 [==============================] - 5s 11ms/step - loss: 0.1674 - auc: 0.6284 - val_loss: 0.1699 - val_auc: 0.5924 - lr: 3.0197e-05\n",
            "Epoch 10/100\n",
            "456/456 [==============================] - 5s 11ms/step - loss: 0.1669 - auc: 0.6350 - val_loss: 0.1767 - val_auc: 0.5949 - lr: 3.0197e-05\n",
            "Epoch 11/100\n",
            "456/456 [==============================] - 5s 11ms/step - loss: 0.1662 - auc: 0.6412 - val_loss: 0.1699 - val_auc: 0.6039 - lr: 2.7324e-05\n",
            "Epoch 12/100\n",
            "456/456 [==============================] - 6s 13ms/step - loss: 0.1660 - auc: 0.6437 - val_loss: 0.1689 - val_auc: 0.6061 - lr: 2.4724e-05\n",
            "Epoch 1/100\n",
            "456/456 [==============================] - 6s 12ms/step - loss: 0.1734 - auc: 0.5455 - val_loss: 0.1681 - val_auc: 0.5455 - lr: 2.4724e-05\n",
            "Epoch 2/100\n",
            "456/456 [==============================] - 5s 12ms/step - loss: 0.1721 - auc: 0.5563 - val_loss: 0.1704 - val_auc: 0.5660 - lr: 2.4724e-05\n",
            "Epoch 3/100\n",
            "456/456 [==============================] - 5s 11ms/step - loss: 0.1713 - auc: 0.5744 - val_loss: 0.1668 - val_auc: 0.5677 - lr: 2.4724e-05\n",
            "Epoch 4/100\n",
            "456/456 [==============================] - 5s 11ms/step - loss: 0.1711 - auc: 0.5770 - val_loss: 0.1698 - val_auc: 0.5723 - lr: 2.4724e-05\n",
            "Epoch 5/100\n",
            "456/456 [==============================] - 5s 11ms/step - loss: 0.1704 - auc: 0.5901 - val_loss: 0.1558 - val_auc: 0.5715 - lr: 2.4724e-05\n",
            "Epoch 6/100\n",
            "456/456 [==============================] - 5s 11ms/step - loss: 0.1703 - auc: 0.5925 - val_loss: 0.1692 - val_auc: 0.5781 - lr: 2.4724e-05\n",
            "Epoch 7/100\n",
            "456/456 [==============================] - 5s 11ms/step - loss: 0.1695 - auc: 0.6022 - val_loss: 0.1700 - val_auc: 0.5842 - lr: 2.4724e-05\n",
            "Epoch 8/100\n",
            "456/456 [==============================] - 5s 11ms/step - loss: 0.1690 - auc: 0.6117 - val_loss: 0.1680 - val_auc: 0.5906 - lr: 2.4724e-05\n",
            "Epoch 9/100\n",
            "456/456 [==============================] - 5s 11ms/step - loss: 0.1687 - auc: 0.6129 - val_loss: 0.1620 - val_auc: 0.5877 - lr: 2.4724e-05\n",
            "Epoch 10/100\n",
            "456/456 [==============================] - 5s 11ms/step - loss: 0.1685 - auc: 0.6181 - val_loss: 0.1696 - val_auc: 0.5962 - lr: 2.4724e-05\n",
            "Epoch 1/100\n",
            "456/456 [==============================] - 6s 12ms/step - loss: 0.1735 - auc: 0.5460 - val_loss: 0.1656 - val_auc: 0.5689 - lr: 2.4724e-05\n",
            "Epoch 2/100\n",
            "456/456 [==============================] - 5s 11ms/step - loss: 0.1720 - auc: 0.5586 - val_loss: 0.1649 - val_auc: 0.5795 - lr: 2.4724e-05\n",
            "Epoch 3/100\n",
            "456/456 [==============================] - 5s 11ms/step - loss: 0.1714 - auc: 0.5738 - val_loss: 0.1626 - val_auc: 0.5778 - lr: 2.4724e-05\n",
            "Epoch 4/100\n",
            "456/456 [==============================] - 5s 11ms/step - loss: 0.1711 - auc: 0.5777 - val_loss: 0.1695 - val_auc: 0.5801 - lr: 2.4724e-05\n",
            "Epoch 5/100\n",
            "456/456 [==============================] - 5s 11ms/step - loss: 0.1708 - auc: 0.5829 - val_loss: 0.1760 - val_auc: 0.5749 - lr: 2.4724e-05\n",
            "Epoch 6/100\n",
            "456/456 [==============================] - 5s 11ms/step - loss: 0.1701 - auc: 0.5930 - val_loss: 0.1702 - val_auc: 0.5863 - lr: 2.4724e-05\n",
            "Epoch 7/100\n",
            "456/456 [==============================] - 5s 11ms/step - loss: 0.1697 - auc: 0.6020 - val_loss: 0.1703 - val_auc: 0.5837 - lr: 2.4724e-05\n",
            "Epoch 8/100\n",
            "456/456 [==============================] - 6s 12ms/step - loss: 0.1692 - auc: 0.6074 - val_loss: 0.1606 - val_auc: 0.5866 - lr: 2.4724e-05\n",
            "Epoch 9/100\n",
            "456/456 [==============================] - 5s 11ms/step - loss: 0.1690 - auc: 0.6114 - val_loss: 0.1663 - val_auc: 0.5942 - lr: 2.4724e-05\n",
            "Epoch 10/100\n",
            "456/456 [==============================] - 5s 11ms/step - loss: 0.1687 - auc: 0.6146 - val_loss: 0.1698 - val_auc: 0.5938 - lr: 2.4724e-05\n",
            "Epoch 11/100\n",
            "456/456 [==============================] - 5s 11ms/step - loss: 0.1682 - auc: 0.6192 - val_loss: 0.1644 - val_auc: 0.6022 - lr: 2.2371e-05\n",
            "Epoch 12/100\n",
            "456/456 [==============================] - 5s 11ms/step - loss: 0.1677 - auc: 0.6246 - val_loss: 0.1630 - val_auc: 0.6040 - lr: 2.0242e-05\n",
            "Epoch 13/100\n",
            "456/456 [==============================] - 5s 11ms/step - loss: 0.1674 - auc: 0.6314 - val_loss: 0.1693 - val_auc: 0.6076 - lr: 1.8316e-05\n",
            "Epoch 1/100\n",
            "456/456 [==============================] - 6s 12ms/step - loss: 0.1733 - auc: 0.5496 - val_loss: 0.1723 - val_auc: 0.5664 - lr: 1.8316e-05\n",
            "Epoch 2/100\n",
            "456/456 [==============================] - 5s 11ms/step - loss: 0.1721 - auc: 0.5564 - val_loss: 0.1681 - val_auc: 0.5708 - lr: 1.8316e-05\n",
            "Epoch 3/100\n",
            "456/456 [==============================] - 5s 11ms/step - loss: 0.1718 - auc: 0.5614 - val_loss: 0.1744 - val_auc: 0.5800 - lr: 1.8316e-05\n",
            "Epoch 4/100\n",
            "456/456 [==============================] - 5s 11ms/step - loss: 0.1715 - auc: 0.5681 - val_loss: 0.1782 - val_auc: 0.5800 - lr: 1.8316e-05\n",
            "Epoch 5/100\n",
            "456/456 [==============================] - 5s 11ms/step - loss: 0.1710 - auc: 0.5793 - val_loss: 0.1689 - val_auc: 0.5923 - lr: 1.8316e-05\n",
            "Epoch 6/100\n",
            "456/456 [==============================] - 5s 11ms/step - loss: 0.1703 - auc: 0.5922 - val_loss: 0.1754 - val_auc: 0.5883 - lr: 1.8316e-05\n",
            "Epoch 7/100\n",
            "456/456 [==============================] - 5s 11ms/step - loss: 0.1705 - auc: 0.5885 - val_loss: 0.1658 - val_auc: 0.5883 - lr: 1.8316e-05\n",
            "Epoch 8/100\n",
            "456/456 [==============================] - 5s 11ms/step - loss: 0.1699 - auc: 0.5970 - val_loss: 0.1703 - val_auc: 0.5952 - lr: 1.8316e-05\n",
            "Epoch 9/100\n",
            "456/456 [==============================] - 5s 11ms/step - loss: 0.1697 - auc: 0.6009 - val_loss: 0.1784 - val_auc: 0.5915 - lr: 1.8316e-05\n",
            "Epoch 10/100\n",
            "456/456 [==============================] - 5s 11ms/step - loss: 0.1693 - auc: 0.6075 - val_loss: 0.1744 - val_auc: 0.5981 - lr: 1.8316e-05\n",
            "Epoch 11/100\n",
            "456/456 [==============================] - 5s 11ms/step - loss: 0.1691 - auc: 0.6081 - val_loss: 0.1741 - val_auc: 0.6007 - lr: 1.6573e-05\n",
            "Epoch 12/100\n",
            "456/456 [==============================] - 5s 11ms/step - loss: 0.1686 - auc: 0.6153 - val_loss: 0.1713 - val_auc: 0.6021 - lr: 1.4996e-05\n",
            "Epoch 1/100\n",
            "456/456 [==============================] - 6s 12ms/step - loss: 0.1735 - auc: 0.5434 - val_loss: 0.1715 - val_auc: 0.5667 - lr: 1.4996e-05\n",
            "Epoch 2/100\n",
            "456/456 [==============================] - 5s 11ms/step - loss: 0.1725 - auc: 0.5513 - val_loss: 0.1674 - val_auc: 0.5812 - lr: 1.4996e-05\n",
            "Epoch 3/100\n",
            "456/456 [==============================] - 5s 11ms/step - loss: 0.1718 - auc: 0.5634 - val_loss: 0.1675 - val_auc: 0.5888 - lr: 1.4996e-05\n",
            "Epoch 4/100\n",
            "456/456 [==============================] - 5s 11ms/step - loss: 0.1714 - auc: 0.5731 - val_loss: 0.1699 - val_auc: 0.5874 - lr: 1.4996e-05\n",
            "Epoch 5/100\n",
            "456/456 [==============================] - 5s 11ms/step - loss: 0.1712 - auc: 0.5756 - val_loss: 0.1658 - val_auc: 0.5908 - lr: 1.4996e-05\n",
            "Epoch 6/100\n",
            "456/456 [==============================] - 5s 11ms/step - loss: 0.1711 - auc: 0.5781 - val_loss: 0.1654 - val_auc: 0.5927 - lr: 1.4996e-05\n",
            "Epoch 7/100\n",
            "456/456 [==============================] - 5s 11ms/step - loss: 0.1707 - auc: 0.5852 - val_loss: 0.1690 - val_auc: 0.5942 - lr: 1.4996e-05\n",
            "Epoch 8/100\n",
            "456/456 [==============================] - 5s 11ms/step - loss: 0.1707 - auc: 0.5863 - val_loss: 0.1694 - val_auc: 0.5962 - lr: 1.4996e-05\n",
            "Epoch 9/100\n",
            "456/456 [==============================] - 5s 11ms/step - loss: 0.1702 - auc: 0.5929 - val_loss: 0.1695 - val_auc: 0.5973 - lr: 1.4996e-05\n",
            "Epoch 10/100\n",
            "456/456 [==============================] - 6s 12ms/step - loss: 0.1699 - auc: 0.5974 - val_loss: 0.1665 - val_auc: 0.5994 - lr: 1.4996e-05\n",
            "Epoch 11/100\n",
            "456/456 [==============================] - 5s 11ms/step - loss: 0.1697 - auc: 0.6022 - val_loss: 0.1695 - val_auc: 0.5997 - lr: 1.3569e-05\n",
            "Epoch 1/100\n",
            "456/456 [==============================] - 6s 12ms/step - loss: 0.1737 - auc: 0.5393 - val_loss: 0.1676 - val_auc: 0.5460 - lr: 1.3569e-05\n",
            "Epoch 2/100\n",
            "456/456 [==============================] - 5s 11ms/step - loss: 0.1726 - auc: 0.5497 - val_loss: 0.1757 - val_auc: 0.5564 - lr: 1.3569e-05\n",
            "Epoch 3/100\n",
            "456/456 [==============================] - 5s 11ms/step - loss: 0.1718 - auc: 0.5653 - val_loss: 0.1687 - val_auc: 0.5600 - lr: 1.3569e-05\n",
            "Epoch 4/100\n",
            "456/456 [==============================] - 5s 11ms/step - loss: 0.1716 - auc: 0.5666 - val_loss: 0.1686 - val_auc: 0.5660 - lr: 1.3569e-05\n",
            "Epoch 5/100\n",
            "456/456 [==============================] - 5s 11ms/step - loss: 0.1710 - auc: 0.5787 - val_loss: 0.1670 - val_auc: 0.5704 - lr: 1.3569e-05\n",
            "Epoch 6/100\n",
            "456/456 [==============================] - 5s 11ms/step - loss: 0.1708 - auc: 0.5799 - val_loss: 0.1630 - val_auc: 0.5678 - lr: 1.3569e-05\n",
            "Epoch 7/100\n",
            "456/456 [==============================] - 5s 11ms/step - loss: 0.1708 - auc: 0.5810 - val_loss: 0.1731 - val_auc: 0.5723 - lr: 1.3569e-05\n",
            "Epoch 8/100\n",
            "456/456 [==============================] - 5s 11ms/step - loss: 0.1704 - auc: 0.5883 - val_loss: 0.1746 - val_auc: 0.5735 - lr: 1.3569e-05\n",
            "Epoch 9/100\n",
            "456/456 [==============================] - 5s 12ms/step - loss: 0.1704 - auc: 0.5889 - val_loss: 0.1642 - val_auc: 0.5731 - lr: 1.3569e-05\n",
            "Epoch 10/100\n",
            "456/456 [==============================] - 5s 11ms/step - loss: 0.1700 - auc: 0.5956 - val_loss: 0.1662 - val_auc: 0.5799 - lr: 1.3569e-05\n",
            "Epoch 11/100\n",
            "456/456 [==============================] - 5s 11ms/step - loss: 0.1700 - auc: 0.5951 - val_loss: 0.1656 - val_auc: 0.5810 - lr: 1.2277e-05\n",
            "Epoch 1/100\n",
            "456/456 [==============================] - 7s 12ms/step - loss: 0.1736 - auc: 0.5378 - val_loss: 0.1770 - val_auc: 0.5466 - lr: 1.2277e-05\n",
            "Epoch 2/100\n",
            "456/456 [==============================] - 5s 12ms/step - loss: 0.1726 - auc: 0.5457 - val_loss: 0.1717 - val_auc: 0.5510 - lr: 1.2277e-05\n",
            "Epoch 3/100\n",
            "456/456 [==============================] - 5s 12ms/step - loss: 0.1717 - auc: 0.5674 - val_loss: 0.1710 - val_auc: 0.5525 - lr: 1.2277e-05\n",
            "Epoch 4/100\n",
            "456/456 [==============================] - 5s 12ms/step - loss: 0.1718 - auc: 0.5654 - val_loss: 0.1692 - val_auc: 0.5563 - lr: 1.2277e-05\n",
            "Epoch 5/100\n",
            "456/456 [==============================] - 5s 11ms/step - loss: 0.1713 - auc: 0.5715 - val_loss: 0.1715 - val_auc: 0.5627 - lr: 1.2277e-05\n",
            "Epoch 6/100\n",
            "456/456 [==============================] - 5s 11ms/step - loss: 0.1712 - auc: 0.5756 - val_loss: 0.1759 - val_auc: 0.5621 - lr: 1.2277e-05\n",
            "Epoch 7/100\n",
            "456/456 [==============================] - 5s 11ms/step - loss: 0.1712 - auc: 0.5754 - val_loss: 0.1700 - val_auc: 0.5668 - lr: 1.2277e-05\n",
            "Epoch 8/100\n",
            "456/456 [==============================] - 5s 11ms/step - loss: 0.1705 - auc: 0.5856 - val_loss: 0.1671 - val_auc: 0.5688 - lr: 1.2277e-05\n",
            "Epoch 9/100\n",
            "456/456 [==============================] - 5s 11ms/step - loss: 0.1704 - auc: 0.5892 - val_loss: 0.1768 - val_auc: 0.5697 - lr: 1.2277e-05\n",
            "Epoch 10/100\n",
            "456/456 [==============================] - 5s 11ms/step - loss: 0.1702 - auc: 0.5933 - val_loss: 0.1680 - val_auc: 0.5722 - lr: 1.2277e-05\n",
            "Epoch 11/100\n",
            "456/456 [==============================] - 5s 11ms/step - loss: 0.1703 - auc: 0.5911 - val_loss: 0.1718 - val_auc: 0.5752 - lr: 1.1109e-05\n",
            "Epoch 12/100\n",
            "456/456 [==============================] - 5s 11ms/step - loss: 0.1694 - auc: 0.6060 - val_loss: 0.1737 - val_auc: 0.5766 - lr: 1.0052e-05\n",
            "Epoch 13/100\n",
            "456/456 [==============================] - 5s 11ms/step - loss: 0.1698 - auc: 0.5986 - val_loss: 0.1705 - val_auc: 0.5785 - lr: 9.0953e-06\n",
            "Epoch 1/100\n",
            "456/456 [==============================] - 6s 12ms/step - loss: 0.1737 - auc: 0.5352 - val_loss: 0.1688 - val_auc: 0.5396 - lr: 9.0953e-06\n",
            "Epoch 2/100\n",
            "456/456 [==============================] - 5s 11ms/step - loss: 0.1725 - auc: 0.5457 - val_loss: 0.1678 - val_auc: 0.5522 - lr: 9.0953e-06\n",
            "Epoch 3/100\n",
            "456/456 [==============================] - 5s 11ms/step - loss: 0.1721 - auc: 0.5548 - val_loss: 0.1733 - val_auc: 0.5576 - lr: 9.0953e-06\n",
            "Epoch 4/100\n",
            "456/456 [==============================] - 5s 11ms/step - loss: 0.1722 - auc: 0.5531 - val_loss: 0.1674 - val_auc: 0.5616 - lr: 9.0953e-06\n",
            "Epoch 5/100\n",
            "456/456 [==============================] - 5s 11ms/step - loss: 0.1719 - auc: 0.5595 - val_loss: 0.1672 - val_auc: 0.5681 - lr: 9.0953e-06\n",
            "Epoch 6/100\n",
            "456/456 [==============================] - 5s 11ms/step - loss: 0.1714 - auc: 0.5703 - val_loss: 0.1623 - val_auc: 0.5660 - lr: 9.0953e-06\n",
            "Epoch 7/100\n",
            "456/456 [==============================] - 5s 11ms/step - loss: 0.1715 - auc: 0.5714 - val_loss: 0.1673 - val_auc: 0.5687 - lr: 9.0953e-06\n",
            "Epoch 8/100\n",
            "456/456 [==============================] - 5s 11ms/step - loss: 0.1711 - auc: 0.5781 - val_loss: 0.1658 - val_auc: 0.5699 - lr: 9.0953e-06\n",
            "Epoch 9/100\n",
            "456/456 [==============================] - 5s 11ms/step - loss: 0.1708 - auc: 0.5822 - val_loss: 0.1651 - val_auc: 0.5710 - lr: 9.0953e-06\n",
            "Epoch 10/100\n",
            "456/456 [==============================] - 5s 12ms/step - loss: 0.1708 - auc: 0.5817 - val_loss: 0.1631 - val_auc: 0.5730 - lr: 9.0953e-06\n",
            "Epoch 11/100\n",
            "456/456 [==============================] - 5s 11ms/step - loss: 0.1707 - auc: 0.5864 - val_loss: 0.1642 - val_auc: 0.5777 - lr: 8.2298e-06\n",
            "Epoch 1/100\n",
            "456/456 [==============================] - 6s 12ms/step - loss: 0.1738 - auc: 0.5344 - val_loss: 0.1717 - val_auc: 0.5561 - lr: 8.2298e-06\n",
            "Epoch 2/100\n",
            "456/456 [==============================] - 5s 11ms/step - loss: 0.1728 - auc: 0.5391 - val_loss: 0.1735 - val_auc: 0.5514 - lr: 8.2298e-06\n",
            "Epoch 3/100\n",
            "456/456 [==============================] - 5s 11ms/step - loss: 0.1726 - auc: 0.5466 - val_loss: 0.1772 - val_auc: 0.5504 - lr: 8.2298e-06\n",
            "Epoch 4/100\n",
            "456/456 [==============================] - 5s 11ms/step - loss: 0.1727 - auc: 0.5431 - val_loss: 0.1770 - val_auc: 0.5496 - lr: 8.2298e-06\n",
            "Epoch 5/100\n",
            "456/456 [==============================] - 5s 11ms/step - loss: 0.1720 - auc: 0.5608 - val_loss: 0.1819 - val_auc: 0.5530 - lr: 8.2298e-06\n",
            "Epoch 6/100\n",
            "456/456 [==============================] - 5s 11ms/step - loss: 0.1716 - auc: 0.5703 - val_loss: 0.1747 - val_auc: 0.5585 - lr: 8.2298e-06\n",
            "Epoch 1/100\n",
            "456/456 [==============================] - 6s 12ms/step - loss: 0.1740 - auc: 0.5241 - val_loss: 0.1678 - val_auc: 0.5397 - lr: 8.2298e-06\n",
            "Epoch 2/100\n",
            "456/456 [==============================] - 5s 11ms/step - loss: 0.1728 - auc: 0.5418 - val_loss: 0.1749 - val_auc: 0.5542 - lr: 8.2298e-06\n",
            "Epoch 3/100\n",
            "456/456 [==============================] - 5s 11ms/step - loss: 0.1726 - auc: 0.5470 - val_loss: 0.1674 - val_auc: 0.5583 - lr: 8.2298e-06\n",
            "Epoch 4/100\n",
            "456/456 [==============================] - 5s 11ms/step - loss: 0.1722 - auc: 0.5524 - val_loss: 0.1699 - val_auc: 0.5624 - lr: 8.2298e-06\n",
            "Epoch 5/100\n",
            "456/456 [==============================] - 5s 12ms/step - loss: 0.1719 - auc: 0.5590 - val_loss: 0.1724 - val_auc: 0.5648 - lr: 8.2298e-06\n",
            "Epoch 6/100\n",
            "456/456 [==============================] - 5s 12ms/step - loss: 0.1715 - auc: 0.5670 - val_loss: 0.1715 - val_auc: 0.5672 - lr: 8.2298e-06\n",
            "Epoch 7/100\n",
            "456/456 [==============================] - 5s 12ms/step - loss: 0.1716 - auc: 0.5670 - val_loss: 0.1705 - val_auc: 0.5709 - lr: 8.2298e-06\n",
            "Epoch 8/100\n",
            "456/456 [==============================] - 5s 12ms/step - loss: 0.1714 - auc: 0.5702 - val_loss: 0.1711 - val_auc: 0.5744 - lr: 8.2298e-06\n",
            "Epoch 1/100\n",
            "456/456 [==============================] - 6s 12ms/step - loss: 0.1738 - auc: 0.5222 - val_loss: 0.1767 - val_auc: 0.5638 - lr: 8.2298e-06\n",
            "Epoch 2/100\n",
            "456/456 [==============================] - 5s 11ms/step - loss: 0.1727 - auc: 0.5371 - val_loss: 0.1736 - val_auc: 0.5766 - lr: 8.2298e-06\n",
            "Epoch 3/100\n",
            "456/456 [==============================] - 5s 11ms/step - loss: 0.1725 - auc: 0.5429 - val_loss: 0.1768 - val_auc: 0.5750 - lr: 8.2298e-06\n",
            "Epoch 4/100\n",
            "456/456 [==============================] - 5s 11ms/step - loss: 0.1724 - auc: 0.5475 - val_loss: 0.1740 - val_auc: 0.5821 - lr: 8.2298e-06\n",
            "Epoch 5/100\n",
            "456/456 [==============================] - 5s 11ms/step - loss: 0.1721 - auc: 0.5515 - val_loss: 0.1705 - val_auc: 0.5828 - lr: 8.2298e-06\n",
            "Epoch 6/100\n",
            "131/456 [=======>......................] - ETA: 3s - loss: 0.1730 - auc: 0.5584"
          ]
        }
      ]
    },
    {
      "cell_type": "code",
      "source": [
        "y_test,X_test=bestmodel_val_data\n",
        "view=pd.DataFrame([model.predict(X_test).reshape(-1),y_test.values]).T\n",
        "view.columns=[\"preds\",\"ground_truth\"]\n",
        "view.boxplot(by='ground_truth')"
      ],
      "metadata": {
        "id": "K7bwex0kS2Yi"
      },
      "id": "K7bwex0kS2Yi",
      "execution_count": null,
      "outputs": []
    },
    {
      "cell_type": "code",
      "source": [
        "# classes are balanced ,we use BCE\n",
        "loss= keras.losses.BinaryCrossentropy()\n",
        "earlystop=keras.callbacks.EarlyStopping(patience=5,restore_best_weights=True)\n",
        "callbacks=[schedule,earlystop]"
      ],
      "metadata": {
        "id": "PxwPQbYOF-qb"
      },
      "id": "PxwPQbYOF-qb",
      "execution_count": null,
      "outputs": []
    },
    {
      "cell_type": "code",
      "source": [
        "score_df_smote=pd.DataFrame()"
      ],
      "metadata": {
        "id": "aQEChnN0GV2r"
      },
      "id": "aQEChnN0GV2r",
      "execution_count": null,
      "outputs": []
    },
    {
      "cell_type": "code",
      "source": [
        "bestscore=0\n",
        "bestmodel,bestmodel_val_data=None,None\n",
        "scores=[]\n",
        "for train_index, test_index in cv.split(xs,y):\n",
        "      X_train = xs[train_index]\n",
        "      y_train = y[train_index]\n",
        "      X_test = xs[test_index]\n",
        "      y_test = y[test_index]\n",
        "      model= createModel(loss=loss,optimizer=opt, metrics=metrics)\n",
        "      sm=SMOTE()\n",
        "      X_train_oversampled, y_train_oversampled = sm.fit_resample(X_train, y_train)\n",
        "      model.compile(loss=loss,optimizer=opt, metrics=metrics)\n",
        "      # we do not compute classweights as the data is balanced\n",
        "      history=model.fit(X_train_oversampled,y_train_oversampled,batch_size=64, epochs=100,validation_data=(X_test,y_test),verbose=1,callbacks=callbacks)\n",
        "      y_pred = model.predict(X_test,verbose=0)\n",
        "      score=roc_auc_score(y_test,y_pred)\n",
        "      scores.append(score)\n",
        "      if score>bestscore:\n",
        "            bestmodel=model\n",
        "            bestscore,bestmodel_val_data=score,[y_test,X_test]\n",
        "            print(f\"NN with best score of {score}\")\n",
        "score_df_smote[\"NN_Smote\"]=scores"
      ],
      "metadata": {
        "id": "zaCI_Np_G5Zz"
      },
      "id": "zaCI_Np_G5Zz",
      "execution_count": null,
      "outputs": []
    },
    {
      "cell_type": "code",
      "source": [
        "y_test,X_test=bestmodel_val_data\n",
        "view=pd.DataFrame([model.predict(X_test).reshape(-1),y_test.values]).T\n",
        "view.columns=[\"preds\",\"ground_truth\"]\n",
        "view.boxplot(by='ground_truth')"
      ],
      "metadata": {
        "id": "IQJrqaeYHA57"
      },
      "id": "IQJrqaeYHA57",
      "execution_count": null,
      "outputs": []
    },
    {
      "cell_type": "code",
      "source": [
        "score_df_smote.to_csv(\"score_nn_smote.csv\")"
      ],
      "metadata": {
        "id": "qtZQdhI4KdLE"
      },
      "id": "qtZQdhI4KdLE",
      "execution_count": null,
      "outputs": []
    },
    {
      "cell_type": "code",
      "source": [
        "score_df_tl=pd.DataFrame()"
      ],
      "metadata": {
        "id": "d8v2Phf6KblL"
      },
      "id": "d8v2Phf6KblL",
      "execution_count": null,
      "outputs": []
    },
    {
      "cell_type": "code",
      "source": [
        "bestscore=0\n",
        "bestmodel,bestmodel_val_data=None,None\n",
        "scores=[]\n",
        "for train_index, test_index in cv.split(xs,y):\n",
        "      X_train = xs[train_index]\n",
        "      y_train = y[train_index]\n",
        "      X_test = xs[test_index]\n",
        "      y_test = y[test_index]\n",
        "      model= createModel(loss=loss,optimizer=opt, metrics=metrics)\n",
        "      tl=TomekLinks()\n",
        "      X_train_undersampled, y_train_undersampled = tl.fit_resample(X_train, y_train)\n",
        "      model.compile(loss=loss,optimizer=opt, metrics=metrics)\n",
        "      history=model.fit(X_train_oversampled,y_train_oversampled,batch_size=64, epochs=100,validation_data=(X_test,y_test),verbose=1,callbacks=callbacks)\n",
        "      y_pred = model.predict(X_test,verbose=0)\n",
        "      score=roc_auc_score(y_test,y_pred)\n",
        "      scores.append(score)\n",
        "      if score>bestscore:\n",
        "            bestmodel=model\n",
        "            bestscore,bestmodel_val_data=score,[y_test,X_test]\n",
        "            print(f\"NN with best score of {score}\")\n",
        "score_df_tl[\"NN_Smote\"]=scores"
      ],
      "metadata": {
        "id": "ouVb58vcKaFZ"
      },
      "id": "ouVb58vcKaFZ",
      "execution_count": null,
      "outputs": []
    },
    {
      "cell_type": "code",
      "source": [
        "y_test,X_test=bestmodel_val_data\n",
        "view=pd.DataFrame([model.predict(X_test).reshape(-1),y_test.values]).T\n",
        "view.columns=[\"preds\",\"ground_truth\"]\n",
        "view.boxplot(by='ground_truth')"
      ],
      "metadata": {
        "id": "bVOnO9znK6ZN"
      },
      "id": "bVOnO9znK6ZN",
      "execution_count": null,
      "outputs": []
    },
    {
      "cell_type": "code",
      "source": [
        "score_df_tl.to_csv(\"score_tl.csv\")"
      ],
      "metadata": {
        "id": "x3VY5pyWbN3e"
      },
      "id": "x3VY5pyWbN3e",
      "execution_count": null,
      "outputs": []
    }
  ],
  "metadata": {
    "kernelspec": {
      "display_name": "Python 3.10.0 64-bit",
      "language": "python",
      "name": "python3"
    },
    "language_info": {
      "codemirror_mode": {
        "name": "ipython",
        "version": 3
      },
      "file_extension": ".py",
      "mimetype": "text/x-python",
      "name": "python",
      "nbconvert_exporter": "python",
      "pygments_lexer": "ipython3",
      "version": "3.10.0"
    },
    "vscode": {
      "interpreter": {
        "hash": "525f50cd3df40e9d57f214b2f9bedadf4bf08c85f9f5b3b27734de5b2eace747"
      }
    },
    "colab": {
      "provenance": [],
      "collapsed_sections": [],
      "include_colab_link": true
    }
  },
  "nbformat": 4,
  "nbformat_minor": 5
}