{
  "cells": [
    {
      "cell_type": "markdown",
      "metadata": {
        "id": "view-in-github",
        "colab_type": "text"
      },
      "source": [
        "<a href=\"https://colab.research.google.com/github/johntanas/it1244project/blob/main/code/model_nn.ipynb\" target=\"_parent\"><img src=\"https://colab.research.google.com/assets/colab-badge.svg\" alt=\"Open In Colab\"/></a>"
      ]
    },
    {
      "cell_type": "code",
      "execution_count": 1,
      "id": "5179ea71",
      "metadata": {
        "id": "5179ea71"
      },
      "outputs": [],
      "source": [
        "import pandas as pd\n",
        "import numpy as np\n",
        "from sklearn.preprocessing import StandardScaler,OneHotEncoder,OrdinalEncoder\n",
        "from sklearn.compose import ColumnTransformer\n",
        "from sklearn.model_selection import RepeatedStratifiedKFold,cross_val_score\n",
        "from sklearn.linear_model import LogisticRegression\n",
        "from sklearn.neighbors import KNeighborsClassifier\n",
        "from sklearn.tree import DecisionTreeClassifier\n",
        "from sklearn.ensemble import RandomForestClassifier\n",
        "from sklearn.metrics import classification_report\n",
        "from imblearn.over_sampling import SMOTE\n",
        "from sklearn.metrics import roc_auc_score\n",
        "from imblearn.under_sampling import TomekLinks"
      ]
    },
    {
      "cell_type": "code",
      "source": [
        "n_repeats=1\n",
        "n_splits=5"
      ],
      "metadata": {
        "id": "gwWC421NqpxW"
      },
      "id": "gwWC421NqpxW",
      "execution_count": 2,
      "outputs": []
    },
    {
      "cell_type": "code",
      "source": [
        "path_to_max_label=\"/content/max_label.csv\"\n",
        "path_to_app=\"/content/cleaned_application.csv\"\n",
        "cleaned_app_df=pd.read_csv(path_to_app,index_col=0)\n",
        "max_df=pd.read_csv(path_to_max_label,index_col=0)"
      ],
      "metadata": {
        "id": "XJlCQwWJEl2_"
      },
      "id": "XJlCQwWJEl2_",
      "execution_count": 3,
      "outputs": []
    },
    {
      "cell_type": "code",
      "source": [
        "dep_var=\"status\"\n",
        "random_state=42"
      ],
      "metadata": {
        "id": "DoxeFDv6Mgj8"
      },
      "id": "DoxeFDv6Mgj8",
      "execution_count": 4,
      "outputs": []
    },
    {
      "cell_type": "markdown",
      "source": [
        "preprocessing the same as other model notebook."
      ],
      "metadata": {
        "id": "LU5wQZdFPNoR"
      },
      "id": "LU5wQZdFPNoR"
    },
    {
      "cell_type": "code",
      "source": [
        "order=cleaned_app_df.groupby(\"job\")[\"income\"].median().sort_values()"
      ],
      "metadata": {
        "id": "zieu69u9S3r9"
      },
      "id": "zieu69u9S3r9",
      "execution_count": 5,
      "outputs": []
    },
    {
      "cell_type": "code",
      "source": [
        "cleaned_app_df[\"job\"]=cleaned_app_df[\"job\"].replace(order)"
      ],
      "metadata": {
        "id": "Vq37hbF7TC0v"
      },
      "id": "Vq37hbF7TC0v",
      "execution_count": 6,
      "outputs": []
    },
    {
      "cell_type": "code",
      "source": [
        "train_df=max_df.merge(cleaned_app_df,how=\"inner\",on=\"id\").drop(\"id\",axis=1)"
      ],
      "metadata": {
        "id": "ZEu51Hh-LyC5"
      },
      "id": "ZEu51Hh-LyC5",
      "execution_count": 7,
      "outputs": []
    },
    {
      "cell_type": "code",
      "source": [
        "numerical_transformer = StandardScaler()\n",
        "categorical_transformer=OneHotEncoder()\n",
        "ord_transformer=OrdinalEncoder()"
      ],
      "metadata": {
        "id": "JqwrdVI-75AF"
      },
      "id": "JqwrdVI-75AF",
      "execution_count": 8,
      "outputs": []
    },
    {
      "cell_type": "code",
      "source": [
        "X,y=train_df.drop(columns=dep_var),train_df[dep_var]"
      ],
      "metadata": {
        "id": "V03vSX3e8BDr"
      },
      "id": "V03vSX3e8BDr",
      "execution_count": 9,
      "outputs": []
    },
    {
      "cell_type": "code",
      "source": [
        "categorical_cols = [cname for cname in X.columns if X[cname].nunique() < 10 and \n",
        "                        X[cname].dtype == \"object\"]\n",
        "numerical_cols = [cname for cname in X.columns if X[cname].dtype in ['int64', 'float64']]\n"
      ],
      "metadata": {
        "id": "PxZXExPK77oD"
      },
      "id": "PxZXExPK77oD",
      "execution_count": 10,
      "outputs": []
    },
    {
      "cell_type": "code",
      "source": [
        "preprocessor = ColumnTransformer(\n",
        "    transformers=[\n",
        "        ('num', numerical_transformer, numerical_cols),\n",
        "        ('cat', categorical_transformer, categorical_cols),\n",
        "        ('ord',ord_transformer,['job'])\n",
        "    ])"
      ],
      "metadata": {
        "id": "GUdPAjpk76qY"
      },
      "id": "GUdPAjpk76qY",
      "execution_count": 11,
      "outputs": []
    },
    {
      "cell_type": "code",
      "source": [
        "xs=preprocessor.fit_transform(X)"
      ],
      "metadata": {
        "id": "sBxqujKg8FDR"
      },
      "id": "sBxqujKg8FDR",
      "execution_count": 12,
      "outputs": []
    },
    {
      "cell_type": "code",
      "source": [
        "score_df=pd.DataFrame()"
      ],
      "metadata": {
        "id": "gpCTr2Oh_t_Q"
      },
      "id": "gpCTr2Oh_t_Q",
      "execution_count": 13,
      "outputs": []
    },
    {
      "cell_type": "markdown",
      "source": [
        "cv same"
      ],
      "metadata": {
        "id": "pvixVAlrN2nf"
      },
      "id": "pvixVAlrN2nf"
    },
    {
      "cell_type": "code",
      "source": [
        "cv = RepeatedStratifiedKFold(n_splits=n_splits, n_repeats=n_repeats, random_state=random_state)"
      ],
      "metadata": {
        "id": "Uk6kEisNN2AP"
      },
      "id": "Uk6kEisNN2AP",
      "execution_count": 14,
      "outputs": []
    },
    {
      "cell_type": "code",
      "source": [
        "# dataframe of scores to be converted into plot later\n",
        "score_df=pd.DataFrame()"
      ],
      "metadata": {
        "id": "nQxbNZZ4OAlw"
      },
      "id": "nQxbNZZ4OAlw",
      "execution_count": 15,
      "outputs": []
    },
    {
      "cell_type": "code",
      "source": [
        "import keras\n",
        "import tensorflow as tf\n",
        "from keras.utils.np_utils import to_categorical\n",
        "from keras import optimizers\n",
        "from keras.models import Sequential\n",
        "from keras.layers import Dense, Activation, Flatten\n",
        "from sklearn.utils.class_weight import compute_class_weight"
      ],
      "metadata": {
        "id": "1ZfWWT07KV_s"
      },
      "id": "1ZfWWT07KV_s",
      "execution_count": 16,
      "outputs": []
    },
    {
      "cell_type": "code",
      "source": [
        "def scheduler(epoch, lr):\n",
        "          if epoch < 10:\n",
        "            return lr\n",
        "          else:\n",
        "            return lr * tf.math.exp(-0.1)\n",
        "schedule = tf.keras.callbacks.LearningRateScheduler(scheduler)\n",
        "# montior is the loss, not metric, min deltat and patience is personal heuristic\n",
        "earlystop=keras.callbacks.EarlyStopping(monitor='val_loss',patience=5,min_delta=0.01,restore_best_weights=True)\n",
        "callbacks=[schedule,earlystop]\n",
        "#Adam > SGD\n",
        "opt = tf.optimizers.Adam(learning_rate=0.001)\n",
        "#Use BinaryFocalCrossentropy instead of BinaryCrossentropy\n",
        "loss= tf.keras.losses.BinaryFocalCrossentropy()\n",
        "# we can use AUC and PR metric\n",
        "metrics = [tf.keras.metrics.AUC(curve='ROC')]\n",
        "def createModel(loss,optimizer,metrics):\n",
        "    model= keras.Sequential([\n",
        "      keras.layers.Dense(1024,activation=\"relu\"),\n",
        "      keras.layers.Dropout(0.2),\n",
        "      keras.layers.Dense(512,activation=\"relu\"),\n",
        "      keras.layers.Dropout(0.2),\n",
        "      keras.layers.Dense(256,activation=\"relu\"),\n",
        "      keras.layers.Dense(128,activation=\"relu\"),\n",
        "      keras.layers.Dense(1,activation=\"sigmoid\")])\n",
        "    model.compile(loss=loss,optimizer=opt, metrics=metrics)\n",
        "    return model"
      ],
      "metadata": {
        "id": "RX72U7191Fyd"
      },
      "id": "RX72U7191Fyd",
      "execution_count": 17,
      "outputs": []
    },
    {
      "cell_type": "code",
      "source": [
        "bestscore=0\n",
        "bestmodel,bestmodel_val_data=None,None\n",
        "bestmodel_val_data=None\n",
        "scores=[]\n",
        "for train_index, test_index in cv.split(xs,y):\n",
        "      X_train = xs[train_index]\n",
        "      y_train = y[train_index]\n",
        "      X_test = xs[test_index]\n",
        "      y_test = y[test_index]\n",
        "      model= createModel(loss=loss,optimizer=opt, metrics=metrics)\n",
        "      class_w= dict(zip(np.unique(y_train),compute_class_weight(\"balanced\",classes=np.unique(y_train),y=y_train)))\n",
        "      history=model.fit(X_train, y_train,batch_size=64, epochs=100,validation_data=(X_test,y_test),verbose=1,callbacks=callbacks,class_weight=class_w)\n",
        "      y_pred = model.predict(X_test,verbose=0)\n",
        "      score=roc_auc_score(y_test,y_pred)\n",
        "      scores.append(score)\n",
        "      if score>bestscore:\n",
        "            bestmodel=model\n",
        "            bestscore,bestmodel_val_data=score,[y_test,X_test]\n",
        "            print(f\"NN with best score of {score}\")\n",
        "score_df[\"NN\"]=scores\n",
        "print(f\"NN with avg score of {np.median(np.array(scores))}\")"
      ],
      "metadata": {
        "colab": {
          "base_uri": "https://localhost:8080/"
        },
        "id": "AzogFSgyKUaT",
        "outputId": "5ec442c6-10ea-4aae-9fe2-d4c4260b11d0"
      },
      "id": "AzogFSgyKUaT",
      "execution_count": null,
      "outputs": [
        {
          "output_type": "stream",
          "name": "stdout",
          "text": [
            "Epoch 1/100\n",
            "456/456 [==============================] - 9s 18ms/step - loss: 0.1746 - auc: 0.5138 - val_loss: 0.1740 - val_auc: 0.5199 - lr: 0.0010\n",
            "Epoch 2/100\n",
            "456/456 [==============================] - 8s 18ms/step - loss: 0.1728 - auc: 0.5369 - val_loss: 0.1973 - val_auc: 0.5442 - lr: 0.0010\n",
            "Epoch 3/100\n",
            "456/456 [==============================] - 8s 18ms/step - loss: 0.1723 - auc: 0.5568 - val_loss: 0.1743 - val_auc: 0.5494 - lr: 0.0010\n",
            "Epoch 4/100\n",
            "456/456 [==============================] - 8s 18ms/step - loss: 0.1712 - auc: 0.5760 - val_loss: 0.1732 - val_auc: 0.5915 - lr: 0.0010\n",
            "Epoch 5/100\n",
            "456/456 [==============================] - 8s 18ms/step - loss: 0.1699 - auc: 0.5951 - val_loss: 0.1750 - val_auc: 0.5883 - lr: 0.0010\n",
            "Epoch 6/100\n",
            "456/456 [==============================] - 6s 12ms/step - loss: 0.1683 - auc: 0.6142 - val_loss: 0.1629 - val_auc: 0.6048 - lr: 0.0010\n",
            "Epoch 7/100\n",
            "456/456 [==============================] - 6s 13ms/step - loss: 0.1666 - auc: 0.6318 - val_loss: 0.1934 - val_auc: 0.6149 - lr: 0.0010\n",
            "Epoch 8/100\n",
            "456/456 [==============================] - 5s 11ms/step - loss: 0.1638 - auc: 0.6552 - val_loss: 0.1706 - val_auc: 0.6329 - lr: 0.0010\n",
            "Epoch 9/100\n",
            "456/456 [==============================] - 5s 11ms/step - loss: 0.1612 - auc: 0.6764 - val_loss: 0.1582 - val_auc: 0.6434 - lr: 0.0010\n",
            "Epoch 10/100\n",
            "456/456 [==============================] - 5s 10ms/step - loss: 0.1586 - auc: 0.6914 - val_loss: 0.1629 - val_auc: 0.6582 - lr: 0.0010\n",
            "Epoch 11/100\n",
            "456/456 [==============================] - 5s 10ms/step - loss: 0.1547 - auc: 0.7144 - val_loss: 0.1491 - val_auc: 0.6601 - lr: 9.0484e-04\n",
            "Epoch 12/100\n",
            "456/456 [==============================] - 5s 10ms/step - loss: 0.1507 - auc: 0.7375 - val_loss: 0.1578 - val_auc: 0.6703 - lr: 8.1873e-04\n",
            "Epoch 13/100\n",
            "456/456 [==============================] - 5s 10ms/step - loss: 0.1468 - auc: 0.7566 - val_loss: 0.1579 - val_auc: 0.6859 - lr: 7.4082e-04\n",
            "Epoch 14/100\n",
            "456/456 [==============================] - 5s 10ms/step - loss: 0.1418 - auc: 0.7783 - val_loss: 0.1459 - val_auc: 0.6910 - lr: 6.7032e-04\n",
            "Epoch 15/100\n",
            "456/456 [==============================] - 5s 10ms/step - loss: 0.1389 - auc: 0.7923 - val_loss: 0.1469 - val_auc: 0.6938 - lr: 6.0653e-04\n",
            "Epoch 16/100\n",
            "456/456 [==============================] - 5s 10ms/step - loss: 0.1343 - auc: 0.8080 - val_loss: 0.1476 - val_auc: 0.7011 - lr: 5.4881e-04\n",
            "NN with best score of 0.6600552810224203\n",
            "Epoch 1/100\n",
            "344/456 [=====================>........] - ETA: 1s - loss: 0.1752 - auc: 0.5792"
          ]
        }
      ]
    },
    {
      "cell_type": "code",
      "source": [
        "y_test,X_test=bestmodel_val_data\n",
        "view=pd.DataFrame([model.predict(X_test).reshape(-1),y_test.values]).T\n",
        "view.columns=[\"preds\",\"ground_truth\"]\n",
        "view"
      ],
      "metadata": {
        "id": "K7bwex0kS2Yi"
      },
      "id": "K7bwex0kS2Yi",
      "execution_count": null,
      "outputs": []
    },
    {
      "cell_type": "code",
      "source": [
        "# classes are balanced ,we use BCE\n",
        "loss= keras.losses.BinaryCrossentropy()\n",
        "earlystop=keras.callbacks.EarlyStopping(patience=5,restore_best_weights=True)\n",
        "callbacks=[loss,earlystop]"
      ],
      "metadata": {
        "id": "PxwPQbYOF-qb"
      },
      "id": "PxwPQbYOF-qb",
      "execution_count": null,
      "outputs": []
    },
    {
      "cell_type": "code",
      "source": [
        "score_df_smote=pd.DataFrame()"
      ],
      "metadata": {
        "id": "aQEChnN0GV2r"
      },
      "id": "aQEChnN0GV2r",
      "execution_count": null,
      "outputs": []
    },
    {
      "cell_type": "code",
      "source": [
        "bestscore=0\n",
        "bestmodel,bestmodel_val_data=None,None\n",
        "scores=[]\n",
        "for train_index, test_index in cv.split(xs,y):\n",
        "      X_train = xs[train_index]\n",
        "      y_train = y[train_index]\n",
        "      X_test = xs[test_index]\n",
        "      y_test = y[test_index]\n",
        "      model= createModel(loss=loss,optimizer=opt, metrics=metrics)\n",
        "      sm=SMOTE()\n",
        "      X_train_oversampled, y_train_oversampled = sm.fit_resample(X_train, y_train)\n",
        "      model.compile(loss=loss,optimizer=opt, metrics=metrics)\n",
        "      # we do not compute classweights as the data is balanced\n",
        "      history=model.fit(X_train_oversampled,y_train_oversampled,batch_size=64, epochs=100,validation_data=(X_test,y_test),verbose=1,callbacks=callbacks)\n",
        "      y_pred = model.predict(X_test,verbose=0)\n",
        "      score=roc_auc_score(y_test,y_pred)\n",
        "      scores.append(score)\n",
        "      if score>bestscore:\n",
        "            bestmodel=model\n",
        "            bestscore,bestmodel_val_data=score,[y_test,X_test]\n",
        "            print(f\"NN with best score of {score}\")\n",
        "score_df_smote[\"NN_Smote\"]=scores"
      ],
      "metadata": {
        "id": "zaCI_Np_G5Zz"
      },
      "id": "zaCI_Np_G5Zz",
      "execution_count": null,
      "outputs": []
    },
    {
      "cell_type": "code",
      "source": [
        "y_test,X_test=bestmodel_val_data\n",
        "view=pd.DataFrame([model.predict(X_test).reshape(-1),y_test.values]).T\n",
        "view.columns=[\"preds\",\"ground_truth\"]\n",
        "view"
      ],
      "metadata": {
        "id": "IQJrqaeYHA57"
      },
      "id": "IQJrqaeYHA57",
      "execution_count": null,
      "outputs": []
    },
    {
      "cell_type": "code",
      "source": [
        "score_df_smote.to_csv(\"score_nn_smote.csv\")"
      ],
      "metadata": {
        "id": "qtZQdhI4KdLE"
      },
      "id": "qtZQdhI4KdLE",
      "execution_count": null,
      "outputs": []
    },
    {
      "cell_type": "code",
      "source": [
        "score_df_tl=pd.DataFrame()"
      ],
      "metadata": {
        "id": "d8v2Phf6KblL"
      },
      "id": "d8v2Phf6KblL",
      "execution_count": null,
      "outputs": []
    },
    {
      "cell_type": "code",
      "source": [
        "bestscore=0\n",
        "bestmodel,bestmodel_val_data=None,None\n",
        "scores=[]\n",
        "for train_index, test_index in cv.split(xs,y):\n",
        "      X_train = xs[train_index]\n",
        "      y_train = y[train_index]\n",
        "      X_test = xs[test_index]\n",
        "      y_test = y[test_index]\n",
        "      model= createModel(loss=loss,optimizer=opt, metrics=metrics)\n",
        "      tl=TomekLinks()\n",
        "      X_train_undersampled, y_train_undersampled = tl.fit_resample(X_train, y_train)\n",
        "      model.compile(loss=loss,optimizer=opt, metrics=metrics)\n",
        "      history=model.fit(X_train_oversampled,y_train_oversampled,batch_size=64, epochs=100,validation_data=(X_test,y_test),verbose=1,callbacks=callbacks)\n",
        "      y_pred = model.predict(X_test,verbose=0)\n",
        "      score=roc_auc_score(y_test,y_pred)\n",
        "      scores.append(score)\n",
        "      if score>bestscore:\n",
        "            bestmodel=model\n",
        "            bestscore,bestmodel_val_data=score,[y_test,X_test]\n",
        "            print(f\"NN with best score of {score}\")\n",
        "score_df_tl[\"NN_Smote\"]=scores"
      ],
      "metadata": {
        "id": "ouVb58vcKaFZ"
      },
      "id": "ouVb58vcKaFZ",
      "execution_count": null,
      "outputs": []
    },
    {
      "cell_type": "code",
      "source": [
        "y_test,X_test=bestmodel_val_data\n",
        "view=pd.DataFrame([model.predict(X_test).reshape(-1),y_test.values]).T\n",
        "view.columns=[\"preds\",\"ground_truth\"]\n",
        "view"
      ],
      "metadata": {
        "id": "bVOnO9znK6ZN"
      },
      "id": "bVOnO9znK6ZN",
      "execution_count": null,
      "outputs": []
    },
    {
      "cell_type": "code",
      "source": [
        "score_df_tl.to_csv(\"score_tl.csv\")"
      ],
      "metadata": {
        "id": "x3VY5pyWbN3e"
      },
      "id": "x3VY5pyWbN3e",
      "execution_count": null,
      "outputs": []
    }
  ],
  "metadata": {
    "kernelspec": {
      "display_name": "Python 3.10.0 64-bit",
      "language": "python",
      "name": "python3"
    },
    "language_info": {
      "codemirror_mode": {
        "name": "ipython",
        "version": 3
      },
      "file_extension": ".py",
      "mimetype": "text/x-python",
      "name": "python",
      "nbconvert_exporter": "python",
      "pygments_lexer": "ipython3",
      "version": "3.10.0"
    },
    "vscode": {
      "interpreter": {
        "hash": "525f50cd3df40e9d57f214b2f9bedadf4bf08c85f9f5b3b27734de5b2eace747"
      }
    },
    "colab": {
      "provenance": [],
      "collapsed_sections": [],
      "include_colab_link": true
    }
  },
  "nbformat": 4,
  "nbformat_minor": 5
}