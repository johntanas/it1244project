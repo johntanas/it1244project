{
  "cells": [
    {
      "cell_type": "markdown",
      "metadata": {
        "id": "view-in-github",
        "colab_type": "text"
      },
      "source": [
        "<a href=\"https://colab.research.google.com/github/johntanas/it1244project/blob/main/code/model_final.ipynb\" target=\"_parent\"><img src=\"https://colab.research.google.com/assets/colab-badge.svg\" alt=\"Open In Colab\"/></a>"
      ]
    },
    {
      "cell_type": "code",
      "execution_count": 92,
      "id": "5179ea71",
      "metadata": {
        "id": "5179ea71"
      },
      "outputs": [],
      "source": [
        "import pandas as pd\n",
        "import numpy as np\n",
        "from sklearn.preprocessing import StandardScaler,OneHotEncoder,OrdinalEncoder\n",
        "from sklearn.compose import ColumnTransformer\n",
        "from sklearn.model_selection import train_test_split,RepeatedStratifiedKFold,cross_val_score\n",
        "from sklearn.linear_model import LogisticRegression\n",
        "from sklearn.neighbors import KNeighborsClassifier\n",
        "from sklearn.svm import SVC\n",
        "from sklearn.tree import DecisionTreeClassifier\n",
        "from sklearn.ensemble import RandomForestClassifier\n",
        "from xgboost import XGBClassifier\n",
        "from sklearn.metrics import classification_report"
      ]
    },
    {
      "cell_type": "code",
      "source": [
        "path_to_max_label=\"/content/max_label.csv\"\n",
        "path_to_app=\"/content/cleaned_application.csv\"\n",
        "cleaned_app_df=pd.read_csv(path_to_app,index_col=0)\n",
        "max_df=pd.read_csv(path_to_max_label,index_col=0)"
      ],
      "metadata": {
        "id": "XJlCQwWJEl2_"
      },
      "id": "XJlCQwWJEl2_",
      "execution_count": 93,
      "outputs": []
    },
    {
      "cell_type": "code",
      "source": [
        "dep_var=\"status\"\n",
        "random_state=42"
      ],
      "metadata": {
        "id": "DoxeFDv6Mgj8"
      },
      "id": "DoxeFDv6Mgj8",
      "execution_count": 94,
      "outputs": []
    },
    {
      "cell_type": "markdown",
      "source": [
        "Sort by median income of job to give a ordering to the jobs"
      ],
      "metadata": {
        "id": "gWn5S5FRTFWX"
      },
      "id": "gWn5S5FRTFWX"
    },
    {
      "cell_type": "code",
      "source": [
        "order=cleaned_app_df.groupby(\"job\")[\"income\"].median().sort_values()"
      ],
      "metadata": {
        "id": "zieu69u9S3r9"
      },
      "id": "zieu69u9S3r9",
      "execution_count": 95,
      "outputs": []
    },
    {
      "cell_type": "code",
      "source": [
        "cleaned_app_df[\"job\"]=cleaned_app_df[\"job\"].replace(order)"
      ],
      "metadata": {
        "id": "Vq37hbF7TC0v"
      },
      "id": "Vq37hbF7TC0v",
      "execution_count": 96,
      "outputs": []
    },
    {
      "cell_type": "code",
      "source": [
        "train_df=max_df.merge(cleaned_app_df,how=\"inner\",on=\"id\").drop(\"id\",axis=1)"
      ],
      "metadata": {
        "id": "ZEu51Hh-LyC5"
      },
      "id": "ZEu51Hh-LyC5",
      "execution_count": 97,
      "outputs": []
    },
    {
      "cell_type": "code",
      "source": [
        "numerical_transformer = StandardScaler()\n",
        "categorical_transformer=OneHotEncoder()\n",
        "ord_transformer=OrdinalEncoder()"
      ],
      "metadata": {
        "id": "JqwrdVI-75AF"
      },
      "id": "JqwrdVI-75AF",
      "execution_count": 98,
      "outputs": []
    },
    {
      "cell_type": "code",
      "source": [
        "X,y=train_df.drop(columns=dep_var),train_df[dep_var]"
      ],
      "metadata": {
        "id": "V03vSX3e8BDr"
      },
      "id": "V03vSX3e8BDr",
      "execution_count": 99,
      "outputs": []
    },
    {
      "cell_type": "code",
      "source": [
        "categorical_cols = [cname for cname in X.columns if X[cname].nunique() < 10 and \n",
        "                        X[cname].dtype == \"object\"]\n",
        "numerical_cols = [cname for cname in X.columns if X[cname].dtype in ['int64', 'float64']]\n"
      ],
      "metadata": {
        "id": "PxZXExPK77oD"
      },
      "id": "PxZXExPK77oD",
      "execution_count": 100,
      "outputs": []
    },
    {
      "cell_type": "code",
      "source": [
        "preprocessor = ColumnTransformer(\n",
        "    transformers=[\n",
        "        ('num', numerical_transformer, numerical_cols),\n",
        "        ('cat', categorical_transformer, categorical_cols),\n",
        "        ('ord',ord_transformer,['job'])\n",
        "    ])"
      ],
      "metadata": {
        "id": "GUdPAjpk76qY"
      },
      "id": "GUdPAjpk76qY",
      "execution_count": 101,
      "outputs": []
    },
    {
      "cell_type": "code",
      "source": [
        "xs=preprocessor.fit_transform(X)"
      ],
      "metadata": {
        "id": "sBxqujKg8FDR"
      },
      "id": "sBxqujKg8FDR",
      "execution_count": 102,
      "outputs": []
    },
    {
      "cell_type": "code",
      "source": [
        "score_df=pd.DataFrame()"
      ],
      "metadata": {
        "id": "gpCTr2Oh_t_Q"
      },
      "id": "gpCTr2Oh_t_Q",
      "execution_count": 103,
      "outputs": []
    },
    {
      "cell_type": "markdown",
      "source": [
        "We will be doing cross validation with Kfold =10 and 5 repeats"
      ],
      "metadata": {
        "id": "pvixVAlrN2nf"
      },
      "id": "pvixVAlrN2nf"
    },
    {
      "cell_type": "code",
      "source": [
        "n_repeats=5\n",
        "n_splits=10"
      ],
      "metadata": {
        "id": "Vnz2vEB8Su7i"
      },
      "id": "Vnz2vEB8Su7i",
      "execution_count": 104,
      "outputs": []
    },
    {
      "cell_type": "code",
      "source": [
        "cv = RepeatedStratifiedKFold(n_splits=n_splits, n_repeats=n_repeats, random_state=random_state)"
      ],
      "metadata": {
        "id": "Uk6kEisNN2AP"
      },
      "id": "Uk6kEisNN2AP",
      "execution_count": 105,
      "outputs": []
    },
    {
      "cell_type": "code",
      "source": [
        "# dataframe of scores to be converted into plot later\n",
        "score_df=pd.DataFrame()"
      ],
      "metadata": {
        "id": "nQxbNZZ4OAlw"
      },
      "id": "nQxbNZZ4OAlw",
      "execution_count": 106,
      "outputs": []
    },
    {
      "cell_type": "markdown",
      "source": [
        "\n",
        "* AUC is classification-threshold-invariant. It measures the quality of the model's predictions irrespective of what classification threshold is chosen. \n",
        "https://developers.google.com/machine-learning/crash-course/classification/roc-and-auc\n",
        "* Thus we choose AUC as the banks who use the models can determine their own threshold risk probability for bad users and calculate their expected value/loss for these bad users and give them a approiate interest rate when extending credit to them\n"
      ],
      "metadata": {
        "id": "otetLM2TJYq6"
      },
      "id": "otetLM2TJYq6"
    },
    {
      "cell_type": "code",
      "source": [
        "classifier=LogisticRegression(max_iter=1000,random_state=random_state)\n",
        "scores = cross_val_score(classifier, xs, y, scoring='roc_auc', cv=cv, n_jobs=-1)\n",
        "print(scores)\n",
        "print(np.array(scores).mean())\n",
        "score_df[\"LogisticRegression\"]=scores"
      ],
      "metadata": {
        "id": "bysLAlZT9Lpn"
      },
      "id": "bysLAlZT9Lpn",
      "execution_count": null,
      "outputs": []
    },
    {
      "cell_type": "markdown",
      "source": [
        "There is very little linearity in the imbalanced dataset for the linear dividing line of logisitic regression to work on. This can be seen from the low level of correlation in the table below where all variables have correlation between -0.03 and 0.03"
      ],
      "metadata": {
        "id": "3HTQ7PwT-kzj"
      },
      "id": "3HTQ7PwT-kzj"
    },
    {
      "cell_type": "code",
      "source": [
        "import matplotlib.pyplot as plt\n",
        "import seaborn as sns\n",
        "plt.subplots(figsize=(12,5))\n",
        "status_correlation=train_df.corr()[[\"status\"]]\n",
        "sns.heatmap(status_correlation,annot=True,cmap='RdPu')\n",
        "plt.title('Correlation between the variables')\n",
        "plt.xticks(rotation=45)"
      ],
      "metadata": {
        "id": "w6bfiUl3Oehq"
      },
      "id": "w6bfiUl3Oehq",
      "execution_count": null,
      "outputs": []
    },
    {
      "cell_type": "code",
      "source": [
        "classifier=SVC()\n",
        "scores = cross_val_score(classifier, xs, y, scoring='roc_auc', cv=cv, n_jobs=-1)\n",
        "print(scores)\n",
        "print(np.array(scores).mean())\n",
        "score_df[\"SVC\"]=scores"
      ],
      "metadata": {
        "id": "JKJhQfpgRiDB"
      },
      "id": "JKJhQfpgRiDB",
      "execution_count": null,
      "outputs": []
    },
    {
      "cell_type": "markdown",
      "source": [
        "K-nearest neighbours"
      ],
      "metadata": {
        "id": "tBDScAaj9sfb"
      },
      "id": "tBDScAaj9sfb"
    },
    {
      "cell_type": "code",
      "source": [
        "# try different K values\n",
        "for i in range(1,10):\n",
        "  classifier=KNeighborsClassifier(i)\n",
        "  scores = cross_val_score(classifier, xs, y, scoring='roc_auc', cv=cv, n_jobs=-1)\n",
        "  score_df[\"KNN\"+str(i)]=scores\n",
        "  print(\"KNN\"+str(i)+\"score\")\n",
        "  print(np.array(scores).mean())"
      ],
      "metadata": {
        "id": "WL5QVGSF8xI3"
      },
      "id": "WL5QVGSF8xI3",
      "execution_count": null,
      "outputs": []
    },
    {
      "cell_type": "markdown",
      "source": [
        "Knn with small K (3) is more able to detect outliers in a imbalanced dataset"
      ],
      "metadata": {
        "id": "jpwucJst-zNx"
      },
      "id": "jpwucJst-zNx"
    },
    {
      "cell_type": "code",
      "source": [
        "classifier=DecisionTreeClassifier(random_state=random_state)\n",
        "scores = cross_val_score(classifier, xs, y, scoring='roc_auc', cv=cv, n_jobs=-1)\n",
        "print(scores)\n",
        "print(np.array(scores).mean())\n",
        "score_df[\"DecisionTreeClassifier\"]=scores"
      ],
      "metadata": {
        "id": "pRQKOGTD_J7V"
      },
      "id": "pRQKOGTD_J7V",
      "execution_count": null,
      "outputs": []
    },
    {
      "cell_type": "code",
      "source": [
        "classifier=RandomForestClassifier(random_state=random_state)\n",
        "scores = cross_val_score(classifier, xs, y, scoring='roc_auc', cv=cv, n_jobs=-1)\n",
        "print(scores)\n",
        "print(np.array(scores).mean())\n",
        "score_df[\"RandomForestClassifier\"]=scores"
      ],
      "metadata": {
        "id": "JAzYtjtP_NEn"
      },
      "id": "JAzYtjtP_NEn",
      "execution_count": null,
      "outputs": []
    },
    {
      "cell_type": "markdown",
      "source": [
        "Random forests are an ensemble of decision trees and typically do better than decision trees"
      ],
      "metadata": {
        "id": "JmpS6xa2ADmq"
      },
      "id": "JmpS6xa2ADmq"
    },
    {
      "cell_type": "code",
      "source": [
        "classifier=XGBClassifier(random_state=random_state)\n",
        "scores = cross_val_score(classifier, xs, y, scoring='roc_auc', cv=cv, n_jobs=-1)"
      ],
      "metadata": {
        "id": "MzZdZRPP_O4a"
      },
      "id": "MzZdZRPP_O4a",
      "execution_count": null,
      "outputs": []
    },
    {
      "cell_type": "code",
      "source": [
        "import keras\n",
        "import tensorflow as tf\n",
        "from keras.utils.np_utils import to_categorical\n",
        "from keras import optimizers\n",
        "from keras.models import Sequential\n",
        "import keras.layers as layers"
      ],
      "metadata": {
        "id": "1ZfWWT07KV_s"
      },
      "id": "1ZfWWT07KV_s",
      "execution_count": null,
      "outputs": []
    },
    {
      "cell_type": "code",
      "source": [
        "#https://stackoverflow.com/questions/61622760/sklearn-model-selection-cross-val-score-in-ann-regression\n",
        "def create_network():\n",
        "    model = keras.models.Sequential()\n",
        "    model.add(layers.Dense(256, activation='relu'))\n",
        "    model.add(layers.Dense(32, activation='relu'))\n",
        "    model.add(layers.Dense(2))\n",
        "    model.compile(optimizer=tf.optimizers.SGD(learning_rate=0.01),\n",
        "                  loss=tf.keras.losses.BinaryFocalCrossentropy())\n",
        "    return model\n",
        "\n",
        "from keras.wrappers.scikit_learn import KerasClassifier\n",
        "classifier = KerasClassifier(build_fn=create_network, \n",
        "                                 epochs=10, \n",
        "                                 batch_size=32, \n",
        "                                 verbose=1)\n"
      ],
      "metadata": {
        "id": "AzogFSgyKUaT"
      },
      "id": "AzogFSgyKUaT",
      "execution_count": null,
      "outputs": []
    },
    {
      "cell_type": "code",
      "source": [
        "#scores = cross_val_score(classifier, xs, y, scoring='roc_auc', cv=cv, n_jobs=-1)"
      ],
      "metadata": {
        "id": "Wn7P2lvXKzVx"
      },
      "id": "Wn7P2lvXKzVx",
      "execution_count": null,
      "outputs": []
    },
    {
      "cell_type": "code",
      "source": [
        "print(scores)\n",
        "print(np.array(scores).mean())"
      ],
      "metadata": {
        "id": "5qCoPhon_RI9"
      },
      "id": "5qCoPhon_RI9",
      "execution_count": null,
      "outputs": []
    },
    {
      "cell_type": "markdown",
      "source": [
        "SMOTE works by selecting examples that are close in the feature space, drawing a line between the examples in the feature space and drawing a new sample at a point along that line.\n",
        "https://machinelearningmastery.com/smote-oversampling-for-imbalanced-classification/\n",
        "https://arxiv.org/abs/1106.1813"
      ],
      "metadata": {
        "id": "ThrsCgY8H66P"
      },
      "id": "ThrsCgY8H66P"
    },
    {
      "cell_type": "code",
      "source": [
        "# score Dataframe for model with smote \n",
        "score_df_smote=pd.DataFrame()"
      ],
      "metadata": {
        "id": "uq8VQ9ZDPPNy"
      },
      "id": "uq8VQ9ZDPPNy",
      "execution_count": null,
      "outputs": []
    },
    {
      "cell_type": "code",
      "source": [
        "from sklearn.model_selection import KFold\n",
        "from imblearn.over_sampling import SMOTE\n",
        "from sklearn.metrics import roc_auc_score"
      ],
      "metadata": {
        "id": "_XGeTEVfPxpX"
      },
      "id": "_XGeTEVfPxpX",
      "execution_count": null,
      "outputs": []
    },
    {
      "cell_type": "code",
      "source": [
        "#https://stackoverflow.com/questions/55591063/how-to-perform-smote-with-cross-validation-in-sklearn-in-python\n",
        "scores=np.array()\n",
        "for i in range(n_repeats):\n",
        "  kf = KFold(n_splits=n_splits)\n",
        "  for fold, (train_index, test_index) in enumerate(kf.split(X), 1):\n",
        "      X_train = xs[train_index]\n",
        "      y_train = y[train_index]\n",
        "      X_test = xs[test_index]\n",
        "      y_test = y[test_index]\n",
        "      sm = SMOTE()\n",
        "      X_train_oversampled, y_train_oversampled = sm.fit_resample(X_train, y_train)\n",
        "      model = LogisticRegression(max_iter=1000,random_state=random_state)\n",
        "      model.fit(X_train_oversampled, y_train_oversampled )  \n",
        "      y_pred = model.predict(X_test)\n",
        "      scores=np.append(scores,roc_auc_score(y_test,y_pred))"
      ],
      "metadata": {
        "id": "0kkJ59prMAvS"
      },
      "id": "0kkJ59prMAvS",
      "execution_count": null,
      "outputs": []
    },
    {
      "cell_type": "code",
      "source": [
        "print(np.array(scores).mean())"
      ],
      "metadata": {
        "id": "nxBg0G0mPfKw"
      },
      "id": "nxBg0G0mPfKw",
      "execution_count": null,
      "outputs": []
    },
    {
      "cell_type": "code",
      "source": [
        "score_df_smote[\"LogisticRegression\"]=scores"
      ],
      "metadata": {
        "id": "rwiltz59PONr"
      },
      "id": "rwiltz59PONr",
      "execution_count": null,
      "outputs": []
    },
    {
      "cell_type": "markdown",
      "source": [
        "Smote does nothing to help improve the linearity of the dataset for logisitic regression to work"
      ],
      "metadata": {
        "id": "L4YKgiINPoaT"
      },
      "id": "L4YKgiINPoaT"
    },
    {
      "cell_type": "code",
      "source": [
        "scores=[]\n",
        "for i in range(1,10):\n",
        "    for j in range(n_repeats):\n",
        "        kf = KFold(n_splits=n_splits)\n",
        "        for fold, (train_index, test_index) in enumerate(kf.split(X), 1):\n",
        "        X_train = xs[train_index]\n",
        "        y_train = y[train_index]\n",
        "        X_test = xs[test_index]\n",
        "        y_test = y[test_index]\n",
        "        sm = SMOTE()\n",
        "        X_train_oversampled, y_train_oversampled = sm.fit_resample(X_train, y_train)\n",
        "        model = KNeighborsClassifier(i)\n",
        "        model.fit(X_train_oversampled, y_train_oversampled )  \n",
        "        y_pred = model.predict(X_test)\n",
        "        scores.append(roc_auc_score(y_test,y_pred))\n",
        "    score_df_smote[\"KNN\"+str(i)]=scores\n",
        "    print(\"KNN\"+str(i)+\"score\")\n",
        "    print(np.array(scores).mean())"
      ],
      "metadata": {
        "id": "LPQZgmXlPn-J"
      },
      "id": "LPQZgmXlPn-J",
      "execution_count": null,
      "outputs": []
    },
    {
      "cell_type": "code",
      "source": [
        "scores=[]\n",
        "for i in range(n_repeats):\n",
        "  kf = KFold(n_splits=n_splits)\n",
        "  for fold, (train_index, test_index) in enumerate(kf.split(X), 1):\n",
        "      X_train = xs[train_index]\n",
        "      y_train = y[train_index]\n",
        "      X_test = xs[test_index]\n",
        "      y_test = y[test_index]\n",
        "      sm = SMOTE()\n",
        "      X_train_oversampled, y_train_oversampled = sm.fit_resample(X_train, y_train)\n",
        "      model = DecisionTreeClassifier(random_state=random_state)\n",
        "      model.fit(X_train_oversampled, y_train_oversampled )  \n",
        "      y_pred = model.predict(X_test)\n",
        "      scores.append(roc_auc_score(y_test,y_pred))\n",
        "score_df_smote[\"DecisionTreeClassifier\"]=scores"
      ],
      "metadata": {
        "id": "6wycaO_HQOCt"
      },
      "id": "6wycaO_HQOCt",
      "execution_count": null,
      "outputs": []
    },
    {
      "cell_type": "code",
      "source": [
        "scores=[]\n",
        "for i in range(5):\n",
        "  kf = KFold(n_splits=10)\n",
        "  for fold, (train_index, test_index) in enumerate(kf.split(X), 1):\n",
        "      X_train = xs[train_index]\n",
        "      y_train = y[train_index]\n",
        "      X_test = xs[test_index]\n",
        "      y_test = y[test_index]\n",
        "      sm = SMOTE()\n",
        "      X_train_oversampled, y_train_oversampled = sm.fit_resample(X_train, y_train)\n",
        "      model = RandomForestClassifier(random_state=random_state)\n",
        "      model.fit(X_train_oversampled, y_train_oversampled )  \n",
        "      y_pred = model.predict(X_test)\n",
        "      scores.append(roc_auc_score(y_test,y_pred))\n",
        "score_df_smote[\"RandomForestClassifier\"]=scores"
      ],
      "metadata": {
        "id": "gvxhBwzRQm7f"
      },
      "id": "gvxhBwzRQm7f",
      "execution_count": null,
      "outputs": []
    },
    {
      "cell_type": "code",
      "source": [],
      "metadata": {
        "id": "5sWARir4Qg-Z"
      },
      "id": "5sWARir4Qg-Z",
      "execution_count": null,
      "outputs": []
    }
  ],
  "metadata": {
    "kernelspec": {
      "display_name": "Python 3.10.0 64-bit",
      "language": "python",
      "name": "python3"
    },
    "language_info": {
      "codemirror_mode": {
        "name": "ipython",
        "version": 3
      },
      "file_extension": ".py",
      "mimetype": "text/x-python",
      "name": "python",
      "nbconvert_exporter": "python",
      "pygments_lexer": "ipython3",
      "version": "3.10.0"
    },
    "vscode": {
      "interpreter": {
        "hash": "525f50cd3df40e9d57f214b2f9bedadf4bf08c85f9f5b3b27734de5b2eace747"
      }
    },
    "colab": {
      "provenance": [],
      "collapsed_sections": [],
      "include_colab_link": true
    }
  },
  "nbformat": 4,
  "nbformat_minor": 5
}