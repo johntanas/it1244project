{
  "cells": [
    {
      "cell_type": "markdown",
      "metadata": {
        "colab_type": "text",
        "id": "view-in-github"
      },
      "source": [
        "<a href=\"https://colab.research.google.com/github/johntanas/it1244project/blob/main/code/label_final.ipynb\" target=\"_parent\"><img src=\"https://colab.research.google.com/assets/colab-badge.svg\" alt=\"Open In Colab\"/></a>"
      ]
    },
    {
      "cell_type": "code",
      "execution_count": 39,
      "id": "5179ea71",
      "metadata": {
        "id": "5179ea71"
      },
      "outputs": [],
      "source": [
        "import pandas as pd\n",
        "import numpy as np\n",
        "import warnings\n",
        "from sklearn.cluster import KMeans\n",
        "from sklearn import metrics\n",
        "from scipy.spatial.distance import cdist\n",
        "import numpy as np\n",
        "import matplotlib.pyplot as plt\n",
        "from sklearn.preprocessing import StandardScaler\n",
        "warnings.filterwarnings('ignore')"
      ]
    },
    {
      "cell_type": "code",
      "execution_count": 40,
      "id": "cb2b7195",
      "metadata": {
        "id": "cb2b7195"
      },
      "outputs": [],
      "source": [
        "#set to true if using colab\n",
        "onlinedataset=False\n",
        "if onlinedataset:\n",
        "  url = \"https://drive.google.com/file/d/1TBcW6O9KMRMh9CWf36OIjZwvY-qzH1VS/view?usp=sharing\"\n",
        "  url='https://drive.google.com/uc?id=' + url.split('/')[-2]\n",
        "  credit_record=pd.read_csv(url,index_col=0)\n",
        "else:\n",
        "  pathtodataset=\"../content/credit_record.csv\"\n",
        "  credit_record=pd.read_csv(pathtodataset,index_col=0)"
      ]
    },
    {
      "cell_type": "code",
      "execution_count": 41,
      "id": "de915099",
      "metadata": {
        "colab": {
          "base_uri": "https://localhost:8080/",
          "height": 424
        },
        "id": "de915099",
        "outputId": "0344fc04-b76e-46f5-f026-e6812263d359"
      },
      "outputs": [
        {
          "data": {
            "text/html": [
              "<div>\n",
              "<style scoped>\n",
              "    .dataframe tbody tr th:only-of-type {\n",
              "        vertical-align: middle;\n",
              "    }\n",
              "\n",
              "    .dataframe tbody tr th {\n",
              "        vertical-align: top;\n",
              "    }\n",
              "\n",
              "    .dataframe thead th {\n",
              "        text-align: right;\n",
              "    }\n",
              "</style>\n",
              "<table border=\"1\" class=\"dataframe\">\n",
              "  <thead>\n",
              "    <tr style=\"text-align: right;\">\n",
              "      <th></th>\n",
              "      <th>id</th>\n",
              "      <th>month_bal</th>\n",
              "      <th>status</th>\n",
              "    </tr>\n",
              "  </thead>\n",
              "  <tbody>\n",
              "    <tr>\n",
              "      <th>0</th>\n",
              "      <td>5001711</td>\n",
              "      <td>0</td>\n",
              "      <td>X</td>\n",
              "    </tr>\n",
              "    <tr>\n",
              "      <th>1</th>\n",
              "      <td>5001711</td>\n",
              "      <td>-1</td>\n",
              "      <td>0</td>\n",
              "    </tr>\n",
              "    <tr>\n",
              "      <th>2</th>\n",
              "      <td>5001711</td>\n",
              "      <td>-2</td>\n",
              "      <td>0</td>\n",
              "    </tr>\n",
              "    <tr>\n",
              "      <th>3</th>\n",
              "      <td>5001711</td>\n",
              "      <td>-3</td>\n",
              "      <td>0</td>\n",
              "    </tr>\n",
              "    <tr>\n",
              "      <th>4</th>\n",
              "      <td>5001712</td>\n",
              "      <td>0</td>\n",
              "      <td>C</td>\n",
              "    </tr>\n",
              "    <tr>\n",
              "      <th>...</th>\n",
              "      <td>...</td>\n",
              "      <td>...</td>\n",
              "      <td>...</td>\n",
              "    </tr>\n",
              "    <tr>\n",
              "      <th>1048570</th>\n",
              "      <td>5150487</td>\n",
              "      <td>-25</td>\n",
              "      <td>C</td>\n",
              "    </tr>\n",
              "    <tr>\n",
              "      <th>1048571</th>\n",
              "      <td>5150487</td>\n",
              "      <td>-26</td>\n",
              "      <td>C</td>\n",
              "    </tr>\n",
              "    <tr>\n",
              "      <th>1048572</th>\n",
              "      <td>5150487</td>\n",
              "      <td>-27</td>\n",
              "      <td>C</td>\n",
              "    </tr>\n",
              "    <tr>\n",
              "      <th>1048573</th>\n",
              "      <td>5150487</td>\n",
              "      <td>-28</td>\n",
              "      <td>C</td>\n",
              "    </tr>\n",
              "    <tr>\n",
              "      <th>1048574</th>\n",
              "      <td>5150487</td>\n",
              "      <td>-29</td>\n",
              "      <td>C</td>\n",
              "    </tr>\n",
              "  </tbody>\n",
              "</table>\n",
              "<p>1048575 rows × 3 columns</p>\n",
              "</div>"
            ],
            "text/plain": [
              "              id  month_bal status\n",
              "0        5001711          0      X\n",
              "1        5001711         -1      0\n",
              "2        5001711         -2      0\n",
              "3        5001711         -3      0\n",
              "4        5001712          0      C\n",
              "...          ...        ...    ...\n",
              "1048570  5150487        -25      C\n",
              "1048571  5150487        -26      C\n",
              "1048572  5150487        -27      C\n",
              "1048573  5150487        -28      C\n",
              "1048574  5150487        -29      C\n",
              "\n",
              "[1048575 rows x 3 columns]"
            ]
          },
          "execution_count": 41,
          "metadata": {},
          "output_type": "execute_result"
        }
      ],
      "source": [
        "credit_record"
      ]
    },
    {
      "cell_type": "code",
      "execution_count": 42,
      "id": "211c0fbd",
      "metadata": {
        "colab": {
          "base_uri": "https://localhost:8080/"
        },
        "id": "211c0fbd",
        "outputId": "bce0ae69-bbfd-4789-d806-74dfbc9c12be"
      },
      "outputs": [
        {
          "data": {
            "text/plain": [
              "(array([  0,  -1,  -2,  -3,  -4,  -5,  -6,  -7,  -8,  -9, -10, -11, -12,\n",
              "        -13, -14, -15, -16, -17, -18, -19, -20, -21, -22, -23, -24, -25,\n",
              "        -26, -27, -28, -29, -30, -31, -32, -33, -34, -35, -36, -37, -38,\n",
              "        -39, -40, -41, -42, -43, -44, -45, -46, -47, -48, -49, -50, -51,\n",
              "        -52, -53, -54, -55, -56, -57, -58, -59, -60], dtype=int64),\n",
              " array(['X', '0', 'C', '1', '2', '3', '4', '5'], dtype=object))"
            ]
          },
          "execution_count": 42,
          "metadata": {},
          "output_type": "execute_result"
        }
      ],
      "source": [
        "credit_record[\"month_bal\"].unique(),credit_record[\"status\"].unique()"
      ]
    },
    {
      "cell_type": "code",
      "execution_count": 43,
      "id": "w2tYpYyrqR7q",
      "metadata": {
        "id": "w2tYpYyrqR7q"
      },
      "outputs": [],
      "source": [
        "to_avg={\"X\":-1,\"C\":0}\n",
        "for i in range(6):\n",
        "  to_avg[str(i)]=i+1"
      ]
    },
    {
      "cell_type": "markdown",
      "id": "3zC9bloZ_bu0",
      "metadata": {
        "id": "3zC9bloZ_bu0"
      },
      "source": [
        "# get a better plot"
      ]
    },
    {
      "cell_type": "code",
      "execution_count": 44,
      "id": "l7VbrCoX8D5K",
      "metadata": {
        "colab": {
          "base_uri": "https://localhost:8080/",
          "height": 265
        },
        "id": "l7VbrCoX8D5K",
        "outputId": "03be6344-8514-4216-bd50-4977e018158d"
      },
      "outputs": [
        {
          "data": {
            "image/png": "[encoded data removed]",
            "text/plain": [
              "<Figure size 432x288 with 1 Axes>"
            ]
          },
          "metadata": {
            "needs_background": "light"
          },
          "output_type": "display_data"
        }
      ],
      "source": [
        "plt.scatter(credit_record[\"month_bal\"],credit_record[\"status\"],alpha=0.005,c=credit_record[\"id\"])\n",
        "plt.show()"
      ]
    },
    {
      "cell_type": "code",
      "execution_count": 45,
      "id": "UbT-BICxq1W_",
      "metadata": {
        "id": "UbT-BICxq1W_"
      },
      "outputs": [],
      "source": [
        "credit_record=credit_record.replace({\"status\":to_avg})"
      ]
    },
    {
      "cell_type": "code",
      "execution_count": 46,
      "id": "TMcg6JZ-uUF9",
      "metadata": {
        "colab": {
          "base_uri": "https://localhost:8080/",
          "height": 424
        },
        "id": "TMcg6JZ-uUF9",
        "outputId": "5d6531bd-173b-42b8-cdf2-ef27b8d82e27"
      },
      "outputs": [
        {
          "data": {
            "text/html": [
              "<div>\n",
              "<style scoped>\n",
              "    .dataframe tbody tr th:only-of-type {\n",
              "        vertical-align: middle;\n",
              "    }\n",
              "\n",
              "    .dataframe tbody tr th {\n",
              "        vertical-align: top;\n",
              "    }\n",
              "\n",
              "    .dataframe thead th {\n",
              "        text-align: right;\n",
              "    }\n",
              "</style>\n",
              "<table border=\"1\" class=\"dataframe\">\n",
              "  <thead>\n",
              "    <tr style=\"text-align: right;\">\n",
              "      <th></th>\n",
              "      <th>id</th>\n",
              "      <th>month_bal</th>\n",
              "      <th>status</th>\n",
              "    </tr>\n",
              "  </thead>\n",
              "  <tbody>\n",
              "    <tr>\n",
              "      <th>0</th>\n",
              "      <td>5001711</td>\n",
              "      <td>0</td>\n",
              "      <td>-1</td>\n",
              "    </tr>\n",
              "    <tr>\n",
              "      <th>1</th>\n",
              "      <td>5001711</td>\n",
              "      <td>-1</td>\n",
              "      <td>1</td>\n",
              "    </tr>\n",
              "    <tr>\n",
              "      <th>2</th>\n",
              "      <td>5001711</td>\n",
              "      <td>-2</td>\n",
              "      <td>1</td>\n",
              "    </tr>\n",
              "    <tr>\n",
              "      <th>3</th>\n",
              "      <td>5001711</td>\n",
              "      <td>-3</td>\n",
              "      <td>1</td>\n",
              "    </tr>\n",
              "    <tr>\n",
              "      <th>4</th>\n",
              "      <td>5001712</td>\n",
              "      <td>0</td>\n",
              "      <td>0</td>\n",
              "    </tr>\n",
              "    <tr>\n",
              "      <th>...</th>\n",
              "      <td>...</td>\n",
              "      <td>...</td>\n",
              "      <td>...</td>\n",
              "    </tr>\n",
              "    <tr>\n",
              "      <th>1048570</th>\n",
              "      <td>5150487</td>\n",
              "      <td>-25</td>\n",
              "      <td>0</td>\n",
              "    </tr>\n",
              "    <tr>\n",
              "      <th>1048571</th>\n",
              "      <td>5150487</td>\n",
              "      <td>-26</td>\n",
              "      <td>0</td>\n",
              "    </tr>\n",
              "    <tr>\n",
              "      <th>1048572</th>\n",
              "      <td>5150487</td>\n",
              "      <td>-27</td>\n",
              "      <td>0</td>\n",
              "    </tr>\n",
              "    <tr>\n",
              "      <th>1048573</th>\n",
              "      <td>5150487</td>\n",
              "      <td>-28</td>\n",
              "      <td>0</td>\n",
              "    </tr>\n",
              "    <tr>\n",
              "      <th>1048574</th>\n",
              "      <td>5150487</td>\n",
              "      <td>-29</td>\n",
              "      <td>0</td>\n",
              "    </tr>\n",
              "  </tbody>\n",
              "</table>\n",
              "<p>1048575 rows × 3 columns</p>\n",
              "</div>"
            ],
            "text/plain": [
              "              id  month_bal  status\n",
              "0        5001711          0      -1\n",
              "1        5001711         -1       1\n",
              "2        5001711         -2       1\n",
              "3        5001711         -3       1\n",
              "4        5001712          0       0\n",
              "...          ...        ...     ...\n",
              "1048570  5150487        -25       0\n",
              "1048571  5150487        -26       0\n",
              "1048572  5150487        -27       0\n",
              "1048573  5150487        -28       0\n",
              "1048574  5150487        -29       0\n",
              "\n",
              "[1048575 rows x 3 columns]"
            ]
          },
          "execution_count": 46,
          "metadata": {},
          "output_type": "execute_result"
        }
      ],
      "source": [
        "credit_record"
      ]
    },
    {
      "cell_type": "code",
      "execution_count": 47,
      "id": "3RX7Fit9rO7V",
      "metadata": {
        "id": "3RX7Fit9rO7V"
      },
      "outputs": [],
      "source": [
        "avg=credit_record.groupby(\"id\")[\"status\"].mean()"
      ]
    },
    {
      "cell_type": "code",
      "execution_count": 48,
      "id": "ZthR4TX68UVg",
      "metadata": {
        "colab": {
          "base_uri": "https://localhost:8080/",
          "height": 284
        },
        "id": "ZthR4TX68UVg",
        "outputId": "a4f99fd0-33f9-461f-c0e0-ccb3f6179753"
      },
      "outputs": [
        {
          "data": {
            "text/plain": [
              "<AxesSubplot:ylabel='Density'>"
            ]
          },
          "execution_count": 48,
          "metadata": {},
          "output_type": "execute_result"
        },
        {
          "data": {
            "image/png": "[encoded data removed]",
            "text/plain": [
              "<Figure size 432x288 with 1 Axes>"
            ]
          },
          "metadata": {
            "needs_background": "light"
          },
          "output_type": "display_data"
        }
      ],
      "source": [
        "avg.plot.kde()"
      ]
    },
    {
      "cell_type": "code",
      "execution_count": 49,
      "id": "Jo8CQWWJs3xC",
      "metadata": {
        "id": "Jo8CQWWJs3xC"
      },
      "outputs": [],
      "source": [
        "X=StandardScaler().fit_transform(np.array(avg).reshape(-1,1))"
      ]
    },
    {
      "cell_type": "markdown",
      "id": "Fu0g3QLma2UI",
      "metadata": {
        "id": "Fu0g3QLma2UI"
      },
      "source": [
        "https://www.geeksforgeeks.org/elbow-method-for-optimal-value-of-k-in-kmeans/"
      ]
    },
    {
      "cell_type": "code",
      "execution_count": 50,
      "id": "s5ri04IOrnYa",
      "metadata": {
        "id": "s5ri04IOrnYa"
      },
      "outputs": [],
      "source": [
        "inertias = []\n",
        "mapping2 = {}\n",
        "K = range(1, 10)\n",
        "  \n",
        "for k in K:\n",
        "    # Building and fitting the model\n",
        "    kmeanModel = KMeans(n_clusters=k).fit(X)\n",
        "    kmeanModel.fit(X)\n",
        "    inertias.append(kmeanModel.inertia_)\n",
        "  \n",
        "    mapping2[k] = kmeanModel.inertia_"
      ]
    },
    {
      "cell_type": "code",
      "execution_count": 51,
      "id": "3YsKskZJr1kU",
      "metadata": {
        "colab": {
          "base_uri": "https://localhost:8080/",
          "height": 295
        },
        "id": "3YsKskZJr1kU",
        "outputId": "776238c9-462e-48dc-9cc5-0f73a470080a"
      },
      "outputs": [
        {
          "data": {
            "image/png": "[encoded data removed]",
            "text/plain": [
              "<Figure size 432x288 with 1 Axes>"
            ]
          },
          "metadata": {
            "needs_background": "light"
          },
          "output_type": "display_data"
        }
      ],
      "source": [
        "plt.plot(K, inertias, 'bx-')\n",
        "plt.xlabel('Values of K')\n",
        "plt.ylabel('inertias')\n",
        "plt.title('The Elbow Method using inertias')\n",
        "plt.show()"
      ]
    },
    {
      "cell_type": "markdown",
      "id": "6wuYprEhtGeE",
      "metadata": {
        "id": "6wuYprEhtGeE"
      },
      "source": [
        "It seems K=3 is the elbow and from the histogram"
      ]
    },
    {
      "cell_type": "code",
      "execution_count": 52,
      "id": "cobWxSPht-LG",
      "metadata": {
        "id": "cobWxSPht-LG"
      },
      "outputs": [],
      "source": [
        "df=pd.DataFrame(avg)\n",
        "label1=df.copy()"
      ]
    },
    {
      "cell_type": "markdown",
      "id": "Rb4iZoSHtY4p",
      "metadata": {
        "id": "Rb4iZoSHtY4p"
      },
      "source": [
        "We repeat Kmeans with 30 random states as 30 already is a statisically large sample size"
      ]
    },
    {
      "cell_type": "code",
      "execution_count": 53,
      "id": "JyfxAR6IsKSz",
      "metadata": {
        "colab": {
          "base_uri": "https://localhost:8080/"
        },
        "id": "JyfxAR6IsKSz",
        "outputId": "ec449cc9-d929-4049-e764-c3cbd79bd128"
      },
      "outputs": [
        {
          "name": "stdout",
          "output_type": "stream",
          "text": [
            "better clusters found with inertia = 6364.312706010388 at \n",
            "[[-0.15458969]\n",
            " [-1.91332462]\n",
            " [ 0.96845536]]\n",
            "better clusters found with inertia = 6364.312706010387 at \n",
            "[[-1.91332462]\n",
            " [-0.15458969]\n",
            " [ 0.96845536]]\n",
            "better clusters found with inertia = 6364.301357860698 at \n",
            "[[-0.15511067]\n",
            " [-1.91414336]\n",
            " [ 0.96804677]]\n",
            "better clusters found with inertia = 6364.301357860697 at \n",
            "[[-0.15511067]\n",
            " [-1.91414336]\n",
            " [ 0.96804677]]\n"
          ]
        }
      ],
      "source": [
        "maxInertia=float(\"INF\")\n",
        "bestkmeans=None\n",
        "for i in range(30):\n",
        "  kmeanModel = KMeans(n_clusters=3,random_state=i).fit(X)\n",
        "  kmeanModel.fit(X)\n",
        "  if kmeanModel.inertia_<maxInertia:\n",
        "    print(f\"better clusters found with inertia = {kmeanModel.inertia_} at \\n{kmeanModel.cluster_centers_}\")\n",
        "    bestkmeans=kmeanModel\n",
        "    maxInertia=kmeanModel.inertia_\n"
      ]
    },
    {
      "cell_type": "code",
      "execution_count": 54,
      "id": "KcCy4m7wtWNK",
      "metadata": {
        "id": "KcCy4m7wtWNK"
      },
      "outputs": [],
      "source": [
        "label1[\"label\"]=bestkmeans.labels_"
      ]
    },
    {
      "cell_type": "code",
      "execution_count": 55,
      "id": "Xe85YwrQvZf6",
      "metadata": {
        "id": "Xe85YwrQvZf6"
      },
      "outputs": [],
      "source": [
        "label1.to_csv(\"../content/average_label.csv\")"
      ]
    },
    {
      "cell_type": "markdown",
      "id": "Bf8TN-r9uRNJ",
      "metadata": {
        "id": "Bf8TN-r9uRNJ"
      },
      "source": [
        "We can also try kmeans on the exponential moving average!"
      ]
    },
    {
      "cell_type": "code",
      "execution_count": 56,
      "id": "9ZpzNmfRwQ07",
      "metadata": {
        "id": "9ZpzNmfRwQ07"
      },
      "outputs": [],
      "source": [
        "descDf=credit_record.sort_values(['id','month_bal'],ascending=[True,True])"
      ]
    },
    {
      "cell_type": "markdown",
      "id": "PdIiSo_QxLFd",
      "metadata": {
        "id": "PdIiSo_QxLFd"
      },
      "source": [
        "We set alpha = 0.5 to give receny bias"
      ]
    },
    {
      "cell_type": "code",
      "execution_count": 57,
      "id": "09HNWZxXuQ4J",
      "metadata": {
        "id": "09HNWZxXuQ4J"
      },
      "outputs": [],
      "source": [
        "eMovingAvg=descDf.groupby(\"id\")[\"status\"].ewm(alpha=0.5).mean()"
      ]
    },
    {
      "cell_type": "code",
      "execution_count": 58,
      "id": "3Uj6cpHsj92D",
      "metadata": {
        "id": "3Uj6cpHsj92D"
      },
      "outputs": [],
      "source": [
        "clustering2=eMovingAvg.groupby(\"id\").nth([-1])"
      ]
    },
    {
      "cell_type": "code",
      "execution_count": 59,
      "id": "XGW3HuFW980x",
      "metadata": {
        "colab": {
          "base_uri": "https://localhost:8080/",
          "height": 282
        },
        "id": "XGW3HuFW980x",
        "outputId": "2f7e4986-56c7-4e3b-fc4f-87e573b4913b"
      },
      "outputs": [
        {
          "data": {
            "text/plain": [
              "<AxesSubplot:ylabel='Density'>"
            ]
          },
          "execution_count": 59,
          "metadata": {},
          "output_type": "execute_result"
        },
        {
          "data": {
            "image/png": "[encoded data removed]",
            "text/plain": [
              "<Figure size 432x288 with 1 Axes>"
            ]
          },
          "metadata": {
            "needs_background": "light"
          },
          "output_type": "display_data"
        }
      ],
      "source": [
        "clustering2.plot.kde()"
      ]
    },
    {
      "cell_type": "code",
      "execution_count": 60,
      "id": "jGFiL46SzWxT",
      "metadata": {
        "id": "jGFiL46SzWxT"
      },
      "outputs": [],
      "source": [
        "Xevm=StandardScaler().fit_transform(np.array(clustering2).reshape(-1, 1))"
      ]
    },
    {
      "cell_type": "markdown",
      "id": "QHCqs93GypNj",
      "metadata": {
        "id": "QHCqs93GypNj"
      },
      "source": [
        "set k =3"
      ]
    },
    {
      "cell_type": "code",
      "execution_count": 61,
      "id": "7apr5In5ykpa",
      "metadata": {
        "colab": {
          "base_uri": "https://localhost:8080/"
        },
        "id": "7apr5In5ykpa",
        "outputId": "7f4ed9ac-dfbd-48f9-e4fe-9232699e498f"
      },
      "outputs": [
        {
          "name": "stdout",
          "output_type": "stream",
          "text": [
            "better clusters found with inertia = 6056.017686955832 at \n",
            "[[-0.12756356]\n",
            " [ 1.44536237]\n",
            " [-1.58846903]]\n",
            "better clusters found with inertia = 6056.017686955831 at \n",
            "[[ 1.44536237]\n",
            " [-0.12756356]\n",
            " [-1.58846903]]\n"
          ]
        }
      ],
      "source": [
        "max2Inertia=float(\"INF\")\n",
        "best2kmeans=None\n",
        "for i in range(30):\n",
        "  kmeanModel = KMeans(n_clusters=3,random_state=i).fit(Xevm)\n",
        "  kmeanModel.fit(Xevm)\n",
        "  if kmeanModel.inertia_<max2Inertia:\n",
        "    print(f\"better clusters found with inertia = {kmeanModel.inertia_} at \\n{kmeanModel.cluster_centers_}\")\n",
        "    best2kmeans=kmeanModel\n",
        "    max2Inertia=kmeanModel.inertia_\n"
      ]
    },
    {
      "cell_type": "code",
      "execution_count": 62,
      "id": "2kpJPVMOCnuQ",
      "metadata": {
        "id": "2kpJPVMOCnuQ"
      },
      "outputs": [],
      "source": [
        "label2=df.copy()"
      ]
    },
    {
      "cell_type": "code",
      "execution_count": 63,
      "id": "W3xIIjRTyok8",
      "metadata": {
        "id": "W3xIIjRTyok8"
      },
      "outputs": [],
      "source": [
        "label2[\"label\"]=best2kmeans.labels_"
      ]
    },
    {
      "cell_type": "code",
      "execution_count": 64,
      "id": "jchi3jge0Hss",
      "metadata": {
        "id": "jchi3jge0Hss"
      },
      "outputs": [],
      "source": [
        "label2.to_csv(\"../content/exvm_label.csv\")"
      ]
    },
    {
      "cell_type": "code",
      "execution_count": 65,
      "id": "Kuj_KHFt7ing",
      "metadata": {
        "colab": {
          "base_uri": "https://localhost:8080/",
          "height": 424
        },
        "id": "Kuj_KHFt7ing",
        "outputId": "ec539e72-86fa-4d11-d2a5-503d040837c8"
      },
      "outputs": [
        {
          "data": {
            "text/html": [
              "<div>\n",
              "<style scoped>\n",
              "    .dataframe tbody tr th:only-of-type {\n",
              "        vertical-align: middle;\n",
              "    }\n",
              "\n",
              "    .dataframe tbody tr th {\n",
              "        vertical-align: top;\n",
              "    }\n",
              "\n",
              "    .dataframe thead th {\n",
              "        text-align: right;\n",
              "    }\n",
              "</style>\n",
              "<table border=\"1\" class=\"dataframe\">\n",
              "  <thead>\n",
              "    <tr style=\"text-align: right;\">\n",
              "      <th></th>\n",
              "      <th>id</th>\n",
              "      <th>month_bal</th>\n",
              "      <th>status</th>\n",
              "    </tr>\n",
              "  </thead>\n",
              "  <tbody>\n",
              "    <tr>\n",
              "      <th>150</th>\n",
              "      <td>5001718</td>\n",
              "      <td>-8</td>\n",
              "      <td>2</td>\n",
              "    </tr>\n",
              "    <tr>\n",
              "      <th>154</th>\n",
              "      <td>5001718</td>\n",
              "      <td>-12</td>\n",
              "      <td>2</td>\n",
              "    </tr>\n",
              "    <tr>\n",
              "      <th>224</th>\n",
              "      <td>5001720</td>\n",
              "      <td>0</td>\n",
              "      <td>2</td>\n",
              "    </tr>\n",
              "    <tr>\n",
              "      <th>227</th>\n",
              "      <td>5001720</td>\n",
              "      <td>-3</td>\n",
              "      <td>2</td>\n",
              "    </tr>\n",
              "    <tr>\n",
              "      <th>228</th>\n",
              "      <td>5001720</td>\n",
              "      <td>-4</td>\n",
              "      <td>2</td>\n",
              "    </tr>\n",
              "    <tr>\n",
              "      <th>...</th>\n",
              "      <td>...</td>\n",
              "      <td>...</td>\n",
              "      <td>...</td>\n",
              "    </tr>\n",
              "    <tr>\n",
              "      <th>1048241</th>\n",
              "      <td>5150464</td>\n",
              "      <td>-9</td>\n",
              "      <td>2</td>\n",
              "    </tr>\n",
              "    <tr>\n",
              "      <th>1048242</th>\n",
              "      <td>5150464</td>\n",
              "      <td>-10</td>\n",
              "      <td>2</td>\n",
              "    </tr>\n",
              "    <tr>\n",
              "      <th>1048243</th>\n",
              "      <td>5150464</td>\n",
              "      <td>-11</td>\n",
              "      <td>2</td>\n",
              "    </tr>\n",
              "    <tr>\n",
              "      <th>1048244</th>\n",
              "      <td>5150464</td>\n",
              "      <td>-12</td>\n",
              "      <td>2</td>\n",
              "    </tr>\n",
              "    <tr>\n",
              "      <th>1048245</th>\n",
              "      <td>5150464</td>\n",
              "      <td>-13</td>\n",
              "      <td>2</td>\n",
              "    </tr>\n",
              "  </tbody>\n",
              "</table>\n",
              "<p>14194 rows × 3 columns</p>\n",
              "</div>"
            ],
            "text/plain": [
              "              id  month_bal  status\n",
              "150      5001718         -8       2\n",
              "154      5001718        -12       2\n",
              "224      5001720          0       2\n",
              "227      5001720         -3       2\n",
              "228      5001720         -4       2\n",
              "...          ...        ...     ...\n",
              "1048241  5150464         -9       2\n",
              "1048242  5150464        -10       2\n",
              "1048243  5150464        -11       2\n",
              "1048244  5150464        -12       2\n",
              "1048245  5150464        -13       2\n",
              "\n",
              "[14194 rows x 3 columns]"
            ]
          },
          "execution_count": 65,
          "metadata": {},
          "output_type": "execute_result"
        }
      ],
      "source": [
        "credit_record[credit_record[\"status\"]>1]"
      ]
    },
    {
      "cell_type": "code",
      "execution_count": 66,
      "id": "vqKuWv2p7nhJ",
      "metadata": {
        "id": "vqKuWv2p7nhJ"
      },
      "outputs": [],
      "source": [
        "max_data=credit_record.groupby(\"id\").max()[\"status\"]"
      ]
    },
    {
      "cell_type": "code",
      "execution_count": 67,
      "id": "qonfo_917_ar",
      "metadata": {
        "colab": {
          "base_uri": "https://localhost:8080/",
          "height": 334
        },
        "id": "qonfo_917_ar",
        "outputId": "5c211084-e3b2-4504-d5a1-88d4179e814e"
      },
      "outputs": [
        {
          "data": {
            "text/plain": [
              "(array([ 4536.,  1417., 34682.,     0.,  4683.,   336.,     0.,    88.,\n",
              "           48.,   195.]),\n",
              " array([-1. , -0.3,  0.4,  1.1,  1.8,  2.5,  3.2,  3.9,  4.6,  5.3,  6. ]),\n",
              " <BarContainer object of 10 artists>)"
            ]
          },
          "execution_count": 67,
          "metadata": {},
          "output_type": "execute_result"
        },
        {
          "data": {
            "image/png": "[encoded data removed]",
            "text/plain": [
              "<Figure size 432x288 with 1 Axes>"
            ]
          },
          "metadata": {
            "needs_background": "light"
          },
          "output_type": "display_data"
        }
      ],
      "source": [
        "plt.hist(max_data)"
      ]
    },
    {
      "cell_type": "code",
      "execution_count": 68,
      "id": "5J3I739u-jD2",
      "metadata": {
        "id": "5J3I739u-jD2"
      },
      "outputs": [],
      "source": [
        "X=StandardScaler().fit_transform(np.array(max_data).reshape(-1,1))"
      ]
    },
    {
      "cell_type": "code",
      "execution_count": 69,
      "id": "Jxh6wOZP-liu",
      "metadata": {
        "colab": {
          "base_uri": "https://localhost:8080/",
          "height": 295
        },
        "id": "Jxh6wOZP-liu",
        "outputId": "6fa3c1ca-a016-4131-d219-7513ce856dbd"
      },
      "outputs": [
        {
          "data": {
            "image/png": "[encoded data removed]",
            "text/plain": [
              "<Figure size 432x288 with 1 Axes>"
            ]
          },
          "metadata": {
            "needs_background": "light"
          },
          "output_type": "display_data"
        }
      ],
      "source": [
        "inertias = []\n",
        "mapping2 = {}\n",
        "K = range(1, 10)\n",
        "  \n",
        "for k in K:\n",
        "    # Building and fitting the model\n",
        "    kmeanModel = KMeans(n_clusters=k).fit(X)\n",
        "    kmeanModel.fit(X)\n",
        "    inertias.append(kmeanModel.inertia_)\n",
        "  \n",
        "    mapping2[k] = kmeanModel.inertia_\n",
        "plt.plot(K, inertias, 'bx-')\n",
        "plt.xlabel('Values of K')\n",
        "plt.ylabel('inertias')\n",
        "plt.title('The Elbow Method using inertias')\n",
        "plt.show()"
      ]
    },
    {
      "cell_type": "markdown",
      "id": "QfnG7wjR_BIV",
      "metadata": {
        "id": "QfnG7wjR_BIV"
      },
      "source": [
        "Elbow is k =4"
      ]
    },
    {
      "cell_type": "code",
      "execution_count": 70,
      "id": "EZIDIo4M-pwm",
      "metadata": {
        "colab": {
          "base_uri": "https://localhost:8080/"
        },
        "id": "EZIDIo4M-pwm",
        "outputId": "db81644c-f614-49b2-c25d-bc2e32b492e6"
      },
      "outputs": [
        {
          "name": "stdout",
          "output_type": "stream",
          "text": [
            "better clusters found with inertia = 2379.532265047955 at \n",
            "[[ 0.09694962]\n",
            " [-2.02437326]\n",
            " [ 5.30194336]\n",
            " [ 1.38149914]]\n"
          ]
        }
      ],
      "source": [
        "maxInertia=float(\"INF\")\n",
        "bestkmeans=None\n",
        "for i in range(30):\n",
        "  kmeanModel = KMeans(n_clusters=4,random_state=i).fit(X)\n",
        "  kmeanModel.fit(X)\n",
        "  if kmeanModel.inertia_<maxInertia:\n",
        "    print(f\"better clusters found with inertia = {kmeanModel.inertia_} at \\n{kmeanModel.cluster_centers_}\")\n",
        "    bestkmeans=kmeanModel\n",
        "    maxInertia=kmeanModel.inertia_"
      ]
    },
    {
      "cell_type": "markdown",
      "id": "H9wOFrvU_IG8",
      "metadata": {
        "id": "H9wOFrvU_IG8"
      },
      "source": [
        "The kmeans is not clustering the data properly as the data is skewed ( from histogram)"
      ]
    },
    {
      "cell_type": "code",
      "execution_count": 71,
      "id": "XH-N_NtS-yjA",
      "metadata": {
        "id": "XH-N_NtS-yjA"
      },
      "outputs": [],
      "source": [
        "label3=pd.DataFrame(max_data>1)"
      ]
    },
    {
      "cell_type": "code",
      "execution_count": 72,
      "id": "s04iZoLn-9oI",
      "metadata": {
        "id": "s04iZoLn-9oI"
      },
      "outputs": [],
      "source": [
        "label3[\"status\"]=label3['status'].astype(int)"
      ]
    },
    {
      "cell_type": "code",
      "execution_count": 73,
      "id": "ahsQ614M-VEA",
      "metadata": {
        "id": "ahsQ614M-VEA"
      },
      "outputs": [],
      "source": [
        "label3.to_csv(\"../content/max_label.csv\")"
      ]
    }
  ],
  "metadata": {
    "colab": {
      "include_colab_link": true,
      "provenance": []
    },
    "kernelspec": {
      "display_name": "Python 3.10.0 64-bit",
      "language": "python",
      "name": "python3"
    },
    "language_info": {
      "codemirror_mode": {
        "name": "ipython",
        "version": 3
      },
      "file_extension": ".py",
      "mimetype": "text/x-python",
      "name": "python",
      "nbconvert_exporter": "python",
      "pygments_lexer": "ipython3",
      "version": "3.10.0"
    },
    "vscode": {
      "interpreter": {
        "hash": "525f50cd3df40e9d57f214b2f9bedadf4bf08c85f9f5b3b27734de5b2eace747"
      }
    }
  },
  "nbformat": 4,
  "nbformat_minor": 5
}
