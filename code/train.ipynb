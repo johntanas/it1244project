{
 "cells": [
  {
   "cell_type": "code",
   "execution_count": 1,
   "id": "5179ea71",
   "metadata": {},
   "outputs": [],
   "source": [
    "import pandas as pd\n",
    "import numpy as np"
   ]
  },
  {
   "cell_type": "code",
   "execution_count": 2,
   "id": "cb2b7195",
   "metadata": {},
   "outputs": [],
   "source": [
    "app_df=pd.read_csv(\"../content/cleaned_application.csv\",index_col=0)"
   ]
  },
  {
   "cell_type": "code",
   "execution_count": 3,
   "id": "44a0cd6a",
   "metadata": {},
   "outputs": [
    {
     "name": "stderr",
     "output_type": "stream",
     "text": [
      "C:\\Users\\siong hwee\\anaconda3\\lib\\site-packages\\numpy\\lib\\arraysetops.py:583: FutureWarning: elementwise comparison failed; returning scalar instead, but in the future will perform elementwise comparison\n",
      "  mask |= (ar1 == a)\n"
     ]
    }
   ],
   "source": [
    "credit_record=pd.read_csv(\"../content/credit_record.csv\",index_col=0)"
   ]
  },
  {
   "cell_type": "code",
   "execution_count": 4,
   "id": "34b22dd3",
   "metadata": {},
   "outputs": [
    {
     "data": {
      "text/html": [
       "<div>\n",
       "<style scoped>\n",
       "    .dataframe tbody tr th:only-of-type {\n",
       "        vertical-align: middle;\n",
       "    }\n",
       "\n",
       "    .dataframe tbody tr th {\n",
       "        vertical-align: top;\n",
       "    }\n",
       "\n",
       "    .dataframe thead th {\n",
       "        text-align: right;\n",
       "    }\n",
       "</style>\n",
       "<table border=\"1\" class=\"dataframe\">\n",
       "  <thead>\n",
       "    <tr style=\"text-align: right;\">\n",
       "      <th></th>\n",
       "      <th>id</th>\n",
       "      <th>gender</th>\n",
       "      <th>own_car</th>\n",
       "      <th>own_realty</th>\n",
       "      <th>num_child</th>\n",
       "      <th>income</th>\n",
       "      <th>income_type</th>\n",
       "      <th>education_level</th>\n",
       "      <th>family_status</th>\n",
       "      <th>house_type</th>\n",
       "      <th>birth_day</th>\n",
       "      <th>employment_length</th>\n",
       "      <th>mobile</th>\n",
       "      <th>work_phone</th>\n",
       "      <th>phone</th>\n",
       "      <th>email</th>\n",
       "      <th>job</th>\n",
       "      <th>CNT_FAM_MEMBERS</th>\n",
       "    </tr>\n",
       "  </thead>\n",
       "  <tbody>\n",
       "    <tr>\n",
       "      <th>0</th>\n",
       "      <td>5008804</td>\n",
       "      <td>M</td>\n",
       "      <td>Y</td>\n",
       "      <td>Y</td>\n",
       "      <td>0</td>\n",
       "      <td>427500.0</td>\n",
       "      <td>Working</td>\n",
       "      <td>Higher education</td>\n",
       "      <td>Civil marriage</td>\n",
       "      <td>Rented apartment</td>\n",
       "      <td>-12005</td>\n",
       "      <td>-4542</td>\n",
       "      <td>1</td>\n",
       "      <td>1</td>\n",
       "      <td>0</td>\n",
       "      <td>0</td>\n",
       "      <td>High skill tech staff</td>\n",
       "      <td>2.0</td>\n",
       "    </tr>\n",
       "    <tr>\n",
       "      <th>1</th>\n",
       "      <td>5008805</td>\n",
       "      <td>M</td>\n",
       "      <td>Y</td>\n",
       "      <td>Y</td>\n",
       "      <td>0</td>\n",
       "      <td>427500.0</td>\n",
       "      <td>Working</td>\n",
       "      <td>Higher education</td>\n",
       "      <td>Civil marriage</td>\n",
       "      <td>Rented apartment</td>\n",
       "      <td>-12005</td>\n",
       "      <td>-4542</td>\n",
       "      <td>1</td>\n",
       "      <td>1</td>\n",
       "      <td>0</td>\n",
       "      <td>0</td>\n",
       "      <td>High skill tech staff</td>\n",
       "      <td>2.0</td>\n",
       "    </tr>\n",
       "    <tr>\n",
       "      <th>2</th>\n",
       "      <td>5008806</td>\n",
       "      <td>M</td>\n",
       "      <td>Y</td>\n",
       "      <td>Y</td>\n",
       "      <td>0</td>\n",
       "      <td>112500.0</td>\n",
       "      <td>Working</td>\n",
       "      <td>Secondary / secondary special</td>\n",
       "      <td>Married</td>\n",
       "      <td>House / apartment</td>\n",
       "      <td>-21474</td>\n",
       "      <td>-1134</td>\n",
       "      <td>1</td>\n",
       "      <td>0</td>\n",
       "      <td>0</td>\n",
       "      <td>0</td>\n",
       "      <td>Security staff</td>\n",
       "      <td>2.0</td>\n",
       "    </tr>\n",
       "    <tr>\n",
       "      <th>3</th>\n",
       "      <td>5008808</td>\n",
       "      <td>F</td>\n",
       "      <td>N</td>\n",
       "      <td>Y</td>\n",
       "      <td>0</td>\n",
       "      <td>270000.0</td>\n",
       "      <td>Commercial associate</td>\n",
       "      <td>Secondary / secondary special</td>\n",
       "      <td>Single / not married</td>\n",
       "      <td>House / apartment</td>\n",
       "      <td>-19110</td>\n",
       "      <td>-3051</td>\n",
       "      <td>1</td>\n",
       "      <td>0</td>\n",
       "      <td>1</td>\n",
       "      <td>1</td>\n",
       "      <td>Sales staff</td>\n",
       "      <td>1.0</td>\n",
       "    </tr>\n",
       "    <tr>\n",
       "      <th>4</th>\n",
       "      <td>5008809</td>\n",
       "      <td>F</td>\n",
       "      <td>N</td>\n",
       "      <td>Y</td>\n",
       "      <td>0</td>\n",
       "      <td>270000.0</td>\n",
       "      <td>Commercial associate</td>\n",
       "      <td>Secondary / secondary special</td>\n",
       "      <td>Single / not married</td>\n",
       "      <td>House / apartment</td>\n",
       "      <td>-19110</td>\n",
       "      <td>-3051</td>\n",
       "      <td>1</td>\n",
       "      <td>0</td>\n",
       "      <td>1</td>\n",
       "      <td>1</td>\n",
       "      <td>Sales staff</td>\n",
       "      <td>1.0</td>\n",
       "    </tr>\n",
       "  </tbody>\n",
       "</table>\n",
       "</div>"
      ],
      "text/plain": [
       "        id gender own_car own_realty  num_child    income  \\\n",
       "0  5008804      M       Y          Y          0  427500.0   \n",
       "1  5008805      M       Y          Y          0  427500.0   \n",
       "2  5008806      M       Y          Y          0  112500.0   \n",
       "3  5008808      F       N          Y          0  270000.0   \n",
       "4  5008809      F       N          Y          0  270000.0   \n",
       "\n",
       "            income_type                education_level         family_status  \\\n",
       "0               Working               Higher education        Civil marriage   \n",
       "1               Working               Higher education        Civil marriage   \n",
       "2               Working  Secondary / secondary special               Married   \n",
       "3  Commercial associate  Secondary / secondary special  Single / not married   \n",
       "4  Commercial associate  Secondary / secondary special  Single / not married   \n",
       "\n",
       "          house_type  birth_day  employment_length  mobile  work_phone  phone  \\\n",
       "0   Rented apartment     -12005              -4542       1           1      0   \n",
       "1   Rented apartment     -12005              -4542       1           1      0   \n",
       "2  House / apartment     -21474              -1134       1           0      0   \n",
       "3  House / apartment     -19110              -3051       1           0      1   \n",
       "4  House / apartment     -19110              -3051       1           0      1   \n",
       "\n",
       "   email                    job  CNT_FAM_MEMBERS  \n",
       "0      0  High skill tech staff              2.0  \n",
       "1      0  High skill tech staff              2.0  \n",
       "2      0         Security staff              2.0  \n",
       "3      1            Sales staff              1.0  \n",
       "4      1            Sales staff              1.0  "
      ]
     },
     "execution_count": 4,
     "metadata": {},
     "output_type": "execute_result"
    }
   ],
   "source": [
    "app_df.head()"
   ]
  },
  {
   "cell_type": "code",
   "execution_count": 5,
   "id": "ca0b1598",
   "metadata": {},
   "outputs": [
    {
     "data": {
      "text/plain": [
       "array([1], dtype=int64)"
      ]
     },
     "execution_count": 5,
     "metadata": {},
     "output_type": "execute_result"
    }
   ],
   "source": [
    "app_df[\"mobile\"].unique()"
   ]
  },
  {
   "cell_type": "markdown",
   "id": "6b30c832",
   "metadata": {},
   "source": [
    "Everyone has a mobile phone, we should drop this redundant factor (cardinality=1) to reduce the dimesionality of our data"
   ]
  },
  {
   "cell_type": "code",
   "execution_count": 6,
   "id": "955ed104",
   "metadata": {},
   "outputs": [],
   "source": [
    "prev_df=app_df.drop(columns=[\"mobile\"],inplace=True)"
   ]
  },
  {
   "cell_type": "code",
   "execution_count": 7,
   "id": "de915099",
   "metadata": {},
   "outputs": [
    {
     "data": {
      "text/html": [
       "<div>\n",
       "<style scoped>\n",
       "    .dataframe tbody tr th:only-of-type {\n",
       "        vertical-align: middle;\n",
       "    }\n",
       "\n",
       "    .dataframe tbody tr th {\n",
       "        vertical-align: top;\n",
       "    }\n",
       "\n",
       "    .dataframe thead th {\n",
       "        text-align: right;\n",
       "    }\n",
       "</style>\n",
       "<table border=\"1\" class=\"dataframe\">\n",
       "  <thead>\n",
       "    <tr style=\"text-align: right;\">\n",
       "      <th></th>\n",
       "      <th>id</th>\n",
       "      <th>month_bal</th>\n",
       "      <th>status</th>\n",
       "    </tr>\n",
       "  </thead>\n",
       "  <tbody>\n",
       "    <tr>\n",
       "      <th>0</th>\n",
       "      <td>5001711</td>\n",
       "      <td>0</td>\n",
       "      <td>X</td>\n",
       "    </tr>\n",
       "    <tr>\n",
       "      <th>1</th>\n",
       "      <td>5001711</td>\n",
       "      <td>-1</td>\n",
       "      <td>0</td>\n",
       "    </tr>\n",
       "    <tr>\n",
       "      <th>2</th>\n",
       "      <td>5001711</td>\n",
       "      <td>-2</td>\n",
       "      <td>0</td>\n",
       "    </tr>\n",
       "    <tr>\n",
       "      <th>3</th>\n",
       "      <td>5001711</td>\n",
       "      <td>-3</td>\n",
       "      <td>0</td>\n",
       "    </tr>\n",
       "    <tr>\n",
       "      <th>4</th>\n",
       "      <td>5001712</td>\n",
       "      <td>0</td>\n",
       "      <td>C</td>\n",
       "    </tr>\n",
       "    <tr>\n",
       "      <th>...</th>\n",
       "      <td>...</td>\n",
       "      <td>...</td>\n",
       "      <td>...</td>\n",
       "    </tr>\n",
       "    <tr>\n",
       "      <th>1048570</th>\n",
       "      <td>5150487</td>\n",
       "      <td>-25</td>\n",
       "      <td>C</td>\n",
       "    </tr>\n",
       "    <tr>\n",
       "      <th>1048571</th>\n",
       "      <td>5150487</td>\n",
       "      <td>-26</td>\n",
       "      <td>C</td>\n",
       "    </tr>\n",
       "    <tr>\n",
       "      <th>1048572</th>\n",
       "      <td>5150487</td>\n",
       "      <td>-27</td>\n",
       "      <td>C</td>\n",
       "    </tr>\n",
       "    <tr>\n",
       "      <th>1048573</th>\n",
       "      <td>5150487</td>\n",
       "      <td>-28</td>\n",
       "      <td>C</td>\n",
       "    </tr>\n",
       "    <tr>\n",
       "      <th>1048574</th>\n",
       "      <td>5150487</td>\n",
       "      <td>-29</td>\n",
       "      <td>C</td>\n",
       "    </tr>\n",
       "  </tbody>\n",
       "</table>\n",
       "<p>1048575 rows × 3 columns</p>\n",
       "</div>"
      ],
      "text/plain": [
       "              id  month_bal status\n",
       "0        5001711          0      X\n",
       "1        5001711         -1      0\n",
       "2        5001711         -2      0\n",
       "3        5001711         -3      0\n",
       "4        5001712          0      C\n",
       "...          ...        ...    ...\n",
       "1048570  5150487        -25      C\n",
       "1048571  5150487        -26      C\n",
       "1048572  5150487        -27      C\n",
       "1048573  5150487        -28      C\n",
       "1048574  5150487        -29      C\n",
       "\n",
       "[1048575 rows x 3 columns]"
      ]
     },
     "execution_count": 7,
     "metadata": {},
     "output_type": "execute_result"
    }
   ],
   "source": [
    "credit_record"
   ]
  },
  {
   "cell_type": "code",
   "execution_count": 8,
   "id": "211c0fbd",
   "metadata": {},
   "outputs": [
    {
     "data": {
      "text/plain": [
       "(array([  0,  -1,  -2,  -3,  -4,  -5,  -6,  -7,  -8,  -9, -10, -11, -12,\n",
       "        -13, -14, -15, -16, -17, -18, -19, -20, -21, -22, -23, -24, -25,\n",
       "        -26, -27, -28, -29, -30, -31, -32, -33, -34, -35, -36, -37, -38,\n",
       "        -39, -40, -41, -42, -43, -44, -45, -46, -47, -48, -49, -50, -51,\n",
       "        -52, -53, -54, -55, -56, -57, -58, -59, -60], dtype=int64),\n",
       " array(['X', '0', 'C', '1', '2', '3', '4', '5'], dtype=object))"
      ]
     },
     "execution_count": 8,
     "metadata": {},
     "output_type": "execute_result"
    }
   ],
   "source": [
    "credit_record[\"month_bal\"].unique(),credit_record[\"status\"].unique()"
   ]
  },
  {
   "cell_type": "markdown",
   "id": "4bf84628",
   "metadata": {},
   "source": [
    "We define a good label as a person not having >1 month of no loan payment"
   ]
  },
  {
   "cell_type": "code",
   "execution_count": 9,
   "id": "ccbc5b78",
   "metadata": {},
   "outputs": [],
   "source": [
    "good_records=[\"X\",\"0\",\"C\"]"
   ]
  },
  {
   "cell_type": "code",
   "execution_count": 13,
   "id": "551371f8",
   "metadata": {},
   "outputs": [],
   "source": [
    "label_df=credit_record.groupby(\"id\").apply(lambda x: all(x[\"status\"].isin(good_records)))"
   ]
  },
  {
   "cell_type": "code",
   "execution_count": 28,
   "id": "64cdbb97",
   "metadata": {},
   "outputs": [],
   "source": [
    "ids=pd.DataFrame({\"label\":label_df}).reset_index()\n"
   ]
  },
  {
   "cell_type": "code",
   "execution_count": 30,
   "id": "2f4d70f3",
   "metadata": {},
   "outputs": [],
   "source": [
    "ids[\"label\"]=ids[\"label\"].apply(lambda x:int(x))"
   ]
  },
  {
   "cell_type": "markdown",
   "id": "732fe6fd",
   "metadata": {},
   "source": [
    "Data preprocessing"
   ]
  },
  {
   "cell_type": "code",
   "execution_count": 34,
   "id": "2c21d812",
   "metadata": {},
   "outputs": [
    {
     "data": {
      "text/plain": [
       "count    438557.000000\n",
       "mean      60563.675328\n",
       "std      138767.799647\n",
       "min      -17531.000000\n",
       "25%       -3103.000000\n",
       "50%       -1467.000000\n",
       "75%        -371.000000\n",
       "max      365243.000000\n",
       "Name: employment_length, dtype: float64"
      ]
     },
     "execution_count": 34,
     "metadata": {},
     "output_type": "execute_result"
    }
   ],
   "source": [
    "app_df[\"employment_length\"].describe()"
   ]
  },
  {
   "cell_type": "code",
   "execution_count": 35,
   "id": "74a2be03",
   "metadata": {},
   "outputs": [
    {
     "data": {
      "text/plain": [
       "count    363228.000000\n",
       "mean      -2623.052700\n",
       "std        2399.514253\n",
       "min      -17531.000000\n",
       "25%       -3512.000000\n",
       "50%       -1924.000000\n",
       "75%        -915.000000\n",
       "max         -12.000000\n",
       "Name: employment_length, dtype: float64"
      ]
     },
     "execution_count": 35,
     "metadata": {},
     "output_type": "execute_result"
    }
   ],
   "source": [
    "app_df[app_df[\"employment_length\"]!=365243][\"employment_length\"].describe()"
   ]
  },
  {
   "cell_type": "code",
   "execution_count": 36,
   "id": "2bde16b2",
   "metadata": {},
   "outputs": [],
   "source": [
    "pensioners=app_df[app_df[\"employment_length\"]==365243]"
   ]
  },
  {
   "cell_type": "code",
   "execution_count": 37,
   "id": "0a830370",
   "metadata": {},
   "outputs": [
    {
     "data": {
      "text/plain": [
       "array(['Pensioner'], dtype=object)"
      ]
     },
     "execution_count": 37,
     "metadata": {},
     "output_type": "execute_result"
    }
   ],
   "source": [
    "pensioners[\"income_type\"].unique()"
   ]
  },
  {
   "cell_type": "code",
   "execution_count": 38,
   "id": "24fba15c",
   "metadata": {},
   "outputs": [
    {
     "data": {
      "text/plain": [
       "count    75329.000000\n",
       "mean    -21715.424272\n",
       "std       1839.857354\n",
       "min     -25201.000000\n",
       "25%     -22981.000000\n",
       "50%     -21927.000000\n",
       "75%     -20807.000000\n",
       "max      -8145.000000\n",
       "Name: birth_day, dtype: float64"
      ]
     },
     "execution_count": 38,
     "metadata": {},
     "output_type": "execute_result"
    }
   ],
   "source": [
    "pensioners[\"birth_day\"].describe()"
   ]
  },
  {
   "cell_type": "markdown",
   "id": "8f49b430",
   "metadata": {},
   "source": [
    "Having the pensioners with employment length = 365243 is both incorrect (1000 years) and will definitely affect the feature scaling of employment length. Thus , we propose that the retirement age is the median of the dataset (21927) and employment length will be max(median-age,0)."
   ]
  },
  {
   "cell_type": "code",
   "execution_count": 39,
   "id": "e0812071",
   "metadata": {},
   "outputs": [
    {
     "name": "stderr",
     "output_type": "stream",
     "text": [
      "C:\\Users\\SIONGH~1\\AppData\\Local\\Temp/ipykernel_9304/2582114183.py:1: SettingWithCopyWarning: \n",
      "A value is trying to be set on a copy of a slice from a DataFrame.\n",
      "Try using .loc[row_indexer,col_indexer] = value instead\n",
      "\n",
      "See the caveats in the documentation: https://pandas.pydata.org/pandas-docs/stable/user_guide/indexing.html#returning-a-view-versus-a-copy\n",
      "  pensioners[\"employment_length\"]=pensioners.apply(lambda x : max(-21927-x[\"birth_day\"],0),axis=1)\n"
     ]
    }
   ],
   "source": [
    "pensioners[\"employment_length\"]=pensioners.apply(lambda x : max(-21927-x[\"birth_day\"],0),axis=1)"
   ]
  },
  {
   "cell_type": "code",
   "execution_count": 40,
   "id": "61af3c7a",
   "metadata": {},
   "outputs": [],
   "source": [
    "app_df.update(pensioners)"
   ]
  },
  {
   "cell_type": "code",
   "execution_count": 41,
   "id": "eb1e2dcd",
   "metadata": {},
   "outputs": [],
   "source": [
    "cat_features = app_df.columns[app_df.dtypes == 'object'].to_list()"
   ]
  },
  {
   "cell_type": "code",
   "execution_count": 42,
   "id": "23b96bb5",
   "metadata": {},
   "outputs": [],
   "source": [
    "app_df=app_df.fillna(\"Pensioner\")"
   ]
  },
  {
   "cell_type": "code",
   "execution_count": 43,
   "id": "d4d24cf9",
   "metadata": {},
   "outputs": [
    {
     "data": {
      "text/html": [
       "<div>\n",
       "<style scoped>\n",
       "    .dataframe tbody tr th:only-of-type {\n",
       "        vertical-align: middle;\n",
       "    }\n",
       "\n",
       "    .dataframe tbody tr th {\n",
       "        vertical-align: top;\n",
       "    }\n",
       "\n",
       "    .dataframe thead th {\n",
       "        text-align: right;\n",
       "    }\n",
       "</style>\n",
       "<table border=\"1\" class=\"dataframe\">\n",
       "  <thead>\n",
       "    <tr style=\"text-align: right;\">\n",
       "      <th></th>\n",
       "      <th>gender</th>\n",
       "      <th>own_car</th>\n",
       "      <th>own_realty</th>\n",
       "      <th>income_type</th>\n",
       "      <th>education_level</th>\n",
       "      <th>family_status</th>\n",
       "      <th>house_type</th>\n",
       "      <th>job</th>\n",
       "    </tr>\n",
       "  </thead>\n",
       "  <tbody>\n",
       "    <tr>\n",
       "      <th>count</th>\n",
       "      <td>438557</td>\n",
       "      <td>438557</td>\n",
       "      <td>438557</td>\n",
       "      <td>438557</td>\n",
       "      <td>438557</td>\n",
       "      <td>438557</td>\n",
       "      <td>438557</td>\n",
       "      <td>438557</td>\n",
       "    </tr>\n",
       "    <tr>\n",
       "      <th>unique</th>\n",
       "      <td>2</td>\n",
       "      <td>2</td>\n",
       "      <td>2</td>\n",
       "      <td>5</td>\n",
       "      <td>5</td>\n",
       "      <td>5</td>\n",
       "      <td>6</td>\n",
       "      <td>19</td>\n",
       "    </tr>\n",
       "    <tr>\n",
       "      <th>top</th>\n",
       "      <td>F</td>\n",
       "      <td>N</td>\n",
       "      <td>Y</td>\n",
       "      <td>Working</td>\n",
       "      <td>Secondary / secondary special</td>\n",
       "      <td>Married</td>\n",
       "      <td>House / apartment</td>\n",
       "      <td>Laborers</td>\n",
       "    </tr>\n",
       "    <tr>\n",
       "      <th>freq</th>\n",
       "      <td>294440</td>\n",
       "      <td>275459</td>\n",
       "      <td>304074</td>\n",
       "      <td>226104</td>\n",
       "      <td>301821</td>\n",
       "      <td>299828</td>\n",
       "      <td>393831</td>\n",
       "      <td>90688</td>\n",
       "    </tr>\n",
       "  </tbody>\n",
       "</table>\n",
       "</div>"
      ],
      "text/plain": [
       "        gender own_car own_realty income_type                education_level  \\\n",
       "count   438557  438557     438557      438557                         438557   \n",
       "unique       2       2          2           5                              5   \n",
       "top          F       N          Y     Working  Secondary / secondary special   \n",
       "freq    294440  275459     304074      226104                         301821   \n",
       "\n",
       "       family_status         house_type       job  \n",
       "count         438557             438557    438557  \n",
       "unique             5                  6        19  \n",
       "top          Married  House / apartment  Laborers  \n",
       "freq          299828             393831     90688  "
      ]
     },
     "execution_count": 43,
     "metadata": {},
     "output_type": "execute_result"
    }
   ],
   "source": [
    "app_df[cat_features].describe()"
   ]
  },
  {
   "cell_type": "markdown",
   "id": "4c328c3c",
   "metadata": {},
   "source": [
    "We can use ordinal scaling for the factors ,even gender as there is only 2 genders and both the ordinal and nominal classification lead to 0 and 1 encoding so there is no difference. However, we have to create our own ranking for the factors with cardinality>2."
   ]
  },
  {
   "cell_type": "code",
   "execution_count": 44,
   "id": "49f62b23",
   "metadata": {},
   "outputs": [],
   "source": [
    "auto_cat_features=[\"gender\",\"own_car\",\"own_realty\"]"
   ]
  },
  {
   "cell_type": "code",
   "execution_count": 45,
   "id": "97e1e179",
   "metadata": {},
   "outputs": [],
   "source": [
    "for i in auto_cat_features:\n",
    "    cat_features.remove(i)"
   ]
  },
  {
   "cell_type": "code",
   "execution_count": 46,
   "id": "ddb8fbfc",
   "metadata": {},
   "outputs": [
    {
     "data": {
      "text/plain": [
       "['income_type', 'education_level', 'family_status', 'house_type', 'job']"
      ]
     },
     "execution_count": 46,
     "metadata": {},
     "output_type": "execute_result"
    }
   ],
   "source": [
    "cat_features"
   ]
  },
  {
   "cell_type": "code",
   "execution_count": 47,
   "id": "48dbb10d",
   "metadata": {},
   "outputs": [],
   "source": [
    "from sklearn.preprocessing import OrdinalEncoder"
   ]
  },
  {
   "cell_type": "code",
   "execution_count": 48,
   "id": "ccde6659",
   "metadata": {},
   "outputs": [],
   "source": [
    "df1=app_df.copy()"
   ]
  },
  {
   "cell_type": "code",
   "execution_count": 49,
   "id": "09c7c126",
   "metadata": {},
   "outputs": [],
   "source": [
    "autoenc =OrdinalEncoder()\n",
    "autoenc.fit(app_df[auto_cat_features])\n",
    "df1[auto_cat_features]=autoenc.transform(app_df[auto_cat_features])"
   ]
  },
  {
   "cell_type": "code",
   "execution_count": 50,
   "id": "881f356f",
   "metadata": {},
   "outputs": [
    {
     "data": {
      "text/plain": [
       "[array(['Commercial associate', 'Pensioner', 'State servant', 'Student',\n",
       "        'Working'], dtype=object),\n",
       " array(['Academic degree', 'Higher education', 'Incomplete higher',\n",
       "        'Lower secondary', 'Secondary / secondary special'], dtype=object),\n",
       " array(['Civil marriage', 'Married', 'Separated', 'Single / not married',\n",
       "        'Widow'], dtype=object),\n",
       " array(['Co-op apartment', 'House / apartment', 'Municipal apartment',\n",
       "        'Office apartment', 'Rented apartment', 'With parents'],\n",
       "       dtype=object),\n",
       " array(['Accountants', 'Cleaning staff', 'Cooking staff', 'Core staff',\n",
       "        'Drivers', 'HR staff', 'High skill tech staff', 'IT staff',\n",
       "        'Laborers', 'Low-skill Laborers', 'Managers', 'Medicine staff',\n",
       "        'Pensioner', 'Private service staff', 'Realty agents',\n",
       "        'Sales staff', 'Secretaries', 'Security staff',\n",
       "        'Waiters/barmen staff'], dtype=object)]"
      ]
     },
     "execution_count": 50,
     "metadata": {},
     "output_type": "execute_result"
    }
   ],
   "source": [
    "testenc =OrdinalEncoder()\n",
    "testenc.fit(app_df[cat_features])\n",
    "testenc.categories_"
   ]
  },
  {
   "cell_type": "code",
   "execution_count": 51,
   "id": "3808be78",
   "metadata": {},
   "outputs": [],
   "source": [
    "categories=[['Student', 'Pensioner','Working','State servant','Commercial associate'],\n",
    "     ['Lower secondary', 'Secondary / secondary special','Incomplete higher', 'Higher education', 'Academic degree'],\n",
    "            ['Widow','Single / not married','Separated','Civil marriage', 'Married'],\n",
    "            ['Rented apartment','With parents','Co-op apartment', 'Municipal apartment','Office apartment', 'House / apartment']]"
   ]
  },
  {
   "cell_type": "markdown",
   "id": "b9949cad",
   "metadata": {},
   "source": [
    "Lets use median income level to justify the ordering of jobs instead of a biased personal heuristic!"
   ]
  },
  {
   "cell_type": "code",
   "execution_count": 52,
   "id": "dc0fe45c",
   "metadata": {},
   "outputs": [],
   "source": [
    "job_income=dict(app_df.groupby(\"job\").apply(lambda x: x[\"income\"].median()))"
   ]
  },
  {
   "cell_type": "code",
   "execution_count": 53,
   "id": "56a2f91d",
   "metadata": {},
   "outputs": [],
   "source": [
    "sorted_job_income={k: v for k, v in sorted(job_income.items(), key=lambda item: item[1])}"
   ]
  },
  {
   "cell_type": "code",
   "execution_count": 54,
   "id": "a17a1f25",
   "metadata": {},
   "outputs": [],
   "source": [
    "job_ranking=list(sorted_job_income.keys())"
   ]
  },
  {
   "cell_type": "code",
   "execution_count": 55,
   "id": "e091a794",
   "metadata": {},
   "outputs": [],
   "source": [
    "categories.append(job_ranking)"
   ]
  },
  {
   "cell_type": "code",
   "execution_count": 56,
   "id": "247f4a10",
   "metadata": {},
   "outputs": [],
   "source": [
    "catenc =OrdinalEncoder(categories=categories)\n",
    "catenc.fit(app_df[cat_features])\n",
    "df1[cat_features]=catenc.transform(app_df[cat_features])"
   ]
  },
  {
   "cell_type": "markdown",
   "id": "f75f2e5a",
   "metadata": {},
   "source": [
    "We can normalise birthday,employment length,num_child and standarise income and CNT_FAM_MEMBERS "
   ]
  },
  {
   "cell_type": "code",
   "execution_count": 57,
   "id": "cbd1bb2a",
   "metadata": {},
   "outputs": [],
   "source": [
    "from sklearn.preprocessing import MinMaxScaler,StandardScaler"
   ]
  },
  {
   "cell_type": "code",
   "execution_count": 58,
   "id": "a4d72b98",
   "metadata": {},
   "outputs": [],
   "source": [
    "num_features = app_df.columns[app_df.dtypes != 'object'].to_list()\n",
    "num_features.remove('id')"
   ]
  },
  {
   "cell_type": "code",
   "execution_count": 59,
   "id": "170a6db3",
   "metadata": {},
   "outputs": [
    {
     "data": {
      "text/html": [
       "<div>\n",
       "<style scoped>\n",
       "    .dataframe tbody tr th:only-of-type {\n",
       "        vertical-align: middle;\n",
       "    }\n",
       "\n",
       "    .dataframe tbody tr th {\n",
       "        vertical-align: top;\n",
       "    }\n",
       "\n",
       "    .dataframe thead th {\n",
       "        text-align: right;\n",
       "    }\n",
       "</style>\n",
       "<table border=\"1\" class=\"dataframe\">\n",
       "  <thead>\n",
       "    <tr style=\"text-align: right;\">\n",
       "      <th></th>\n",
       "      <th>num_child</th>\n",
       "      <th>income</th>\n",
       "      <th>birth_day</th>\n",
       "      <th>employment_length</th>\n",
       "      <th>work_phone</th>\n",
       "      <th>phone</th>\n",
       "      <th>email</th>\n",
       "      <th>CNT_FAM_MEMBERS</th>\n",
       "    </tr>\n",
       "  </thead>\n",
       "  <tbody>\n",
       "    <tr>\n",
       "      <th>0</th>\n",
       "      <td>0.0</td>\n",
       "      <td>427500.0</td>\n",
       "      <td>-12005.0</td>\n",
       "      <td>-4542.0</td>\n",
       "      <td>1.0</td>\n",
       "      <td>0.0</td>\n",
       "      <td>0.0</td>\n",
       "      <td>2.0</td>\n",
       "    </tr>\n",
       "    <tr>\n",
       "      <th>1</th>\n",
       "      <td>0.0</td>\n",
       "      <td>427500.0</td>\n",
       "      <td>-12005.0</td>\n",
       "      <td>-4542.0</td>\n",
       "      <td>1.0</td>\n",
       "      <td>0.0</td>\n",
       "      <td>0.0</td>\n",
       "      <td>2.0</td>\n",
       "    </tr>\n",
       "    <tr>\n",
       "      <th>2</th>\n",
       "      <td>0.0</td>\n",
       "      <td>112500.0</td>\n",
       "      <td>-21474.0</td>\n",
       "      <td>-1134.0</td>\n",
       "      <td>0.0</td>\n",
       "      <td>0.0</td>\n",
       "      <td>0.0</td>\n",
       "      <td>2.0</td>\n",
       "    </tr>\n",
       "    <tr>\n",
       "      <th>3</th>\n",
       "      <td>0.0</td>\n",
       "      <td>270000.0</td>\n",
       "      <td>-19110.0</td>\n",
       "      <td>-3051.0</td>\n",
       "      <td>0.0</td>\n",
       "      <td>1.0</td>\n",
       "      <td>1.0</td>\n",
       "      <td>1.0</td>\n",
       "    </tr>\n",
       "    <tr>\n",
       "      <th>4</th>\n",
       "      <td>0.0</td>\n",
       "      <td>270000.0</td>\n",
       "      <td>-19110.0</td>\n",
       "      <td>-3051.0</td>\n",
       "      <td>0.0</td>\n",
       "      <td>1.0</td>\n",
       "      <td>1.0</td>\n",
       "      <td>1.0</td>\n",
       "    </tr>\n",
       "    <tr>\n",
       "      <th>...</th>\n",
       "      <td>...</td>\n",
       "      <td>...</td>\n",
       "      <td>...</td>\n",
       "      <td>...</td>\n",
       "      <td>...</td>\n",
       "      <td>...</td>\n",
       "      <td>...</td>\n",
       "      <td>...</td>\n",
       "    </tr>\n",
       "    <tr>\n",
       "      <th>438552</th>\n",
       "      <td>0.0</td>\n",
       "      <td>135000.0</td>\n",
       "      <td>-22717.0</td>\n",
       "      <td>790.0</td>\n",
       "      <td>0.0</td>\n",
       "      <td>0.0</td>\n",
       "      <td>0.0</td>\n",
       "      <td>1.0</td>\n",
       "    </tr>\n",
       "    <tr>\n",
       "      <th>438553</th>\n",
       "      <td>0.0</td>\n",
       "      <td>103500.0</td>\n",
       "      <td>-15939.0</td>\n",
       "      <td>-3007.0</td>\n",
       "      <td>0.0</td>\n",
       "      <td>0.0</td>\n",
       "      <td>0.0</td>\n",
       "      <td>1.0</td>\n",
       "    </tr>\n",
       "    <tr>\n",
       "      <th>438554</th>\n",
       "      <td>0.0</td>\n",
       "      <td>54000.0</td>\n",
       "      <td>-8169.0</td>\n",
       "      <td>-372.0</td>\n",
       "      <td>1.0</td>\n",
       "      <td>0.0</td>\n",
       "      <td>0.0</td>\n",
       "      <td>1.0</td>\n",
       "    </tr>\n",
       "    <tr>\n",
       "      <th>438555</th>\n",
       "      <td>0.0</td>\n",
       "      <td>72000.0</td>\n",
       "      <td>-21673.0</td>\n",
       "      <td>0.0</td>\n",
       "      <td>0.0</td>\n",
       "      <td>0.0</td>\n",
       "      <td>0.0</td>\n",
       "      <td>2.0</td>\n",
       "    </tr>\n",
       "    <tr>\n",
       "      <th>438556</th>\n",
       "      <td>0.0</td>\n",
       "      <td>121500.0</td>\n",
       "      <td>-18858.0</td>\n",
       "      <td>-1201.0</td>\n",
       "      <td>0.0</td>\n",
       "      <td>1.0</td>\n",
       "      <td>0.0</td>\n",
       "      <td>2.0</td>\n",
       "    </tr>\n",
       "  </tbody>\n",
       "</table>\n",
       "<p>438557 rows × 8 columns</p>\n",
       "</div>"
      ],
      "text/plain": [
       "        num_child    income  birth_day  employment_length  work_phone  phone  \\\n",
       "0             0.0  427500.0   -12005.0            -4542.0         1.0    0.0   \n",
       "1             0.0  427500.0   -12005.0            -4542.0         1.0    0.0   \n",
       "2             0.0  112500.0   -21474.0            -1134.0         0.0    0.0   \n",
       "3             0.0  270000.0   -19110.0            -3051.0         0.0    1.0   \n",
       "4             0.0  270000.0   -19110.0            -3051.0         0.0    1.0   \n",
       "...           ...       ...        ...                ...         ...    ...   \n",
       "438552        0.0  135000.0   -22717.0              790.0         0.0    0.0   \n",
       "438553        0.0  103500.0   -15939.0            -3007.0         0.0    0.0   \n",
       "438554        0.0   54000.0    -8169.0             -372.0         1.0    0.0   \n",
       "438555        0.0   72000.0   -21673.0                0.0         0.0    0.0   \n",
       "438556        0.0  121500.0   -18858.0            -1201.0         0.0    1.0   \n",
       "\n",
       "        email  CNT_FAM_MEMBERS  \n",
       "0         0.0              2.0  \n",
       "1         0.0              2.0  \n",
       "2         0.0              2.0  \n",
       "3         1.0              1.0  \n",
       "4         1.0              1.0  \n",
       "...       ...              ...  \n",
       "438552    0.0              1.0  \n",
       "438553    0.0              1.0  \n",
       "438554    0.0              1.0  \n",
       "438555    0.0              2.0  \n",
       "438556    0.0              2.0  \n",
       "\n",
       "[438557 rows x 8 columns]"
      ]
     },
     "execution_count": 59,
     "metadata": {},
     "output_type": "execute_result"
    }
   ],
   "source": [
    "app_df[num_features]"
   ]
  },
  {
   "cell_type": "code",
   "execution_count": 60,
   "id": "3cb00755",
   "metadata": {},
   "outputs": [],
   "source": [
    "std_feature=[\"income\",\"CNT_FAM_MEMBERS\"]"
   ]
  },
  {
   "cell_type": "code",
   "execution_count": 61,
   "id": "237dc802",
   "metadata": {},
   "outputs": [],
   "source": [
    "for i in std_feature:\n",
    "    num_features.remove(i)\n",
    "norm_features=std_feature.copy()"
   ]
  },
  {
   "cell_type": "code",
   "execution_count": 62,
   "id": "ff9eea27",
   "metadata": {},
   "outputs": [],
   "source": [
    "norm=MinMaxScaler()\n",
    "norm.fit(app_df[norm_features])\n",
    "df1[norm_features]=norm.transform(app_df[norm_features])"
   ]
  },
  {
   "cell_type": "code",
   "execution_count": 63,
   "id": "b5c0fdb7",
   "metadata": {},
   "outputs": [],
   "source": [
    "std=StandardScaler()\n",
    "std.fit(app_df[std_feature])\n",
    "df1[std_feature]=std.transform(app_df[std_feature])"
   ]
  },
  {
   "cell_type": "code",
   "execution_count": 71,
   "id": "875174f1",
   "metadata": {},
   "outputs": [],
   "source": [
    "training_df=ids.merge(df1,how=\"inner\")"
   ]
  },
  {
   "cell_type": "code",
   "execution_count": 72,
   "id": "a65c74f1",
   "metadata": {},
   "outputs": [
    {
     "data": {
      "text/html": [
       "<div>\n",
       "<style scoped>\n",
       "    .dataframe tbody tr th:only-of-type {\n",
       "        vertical-align: middle;\n",
       "    }\n",
       "\n",
       "    .dataframe tbody tr th {\n",
       "        vertical-align: top;\n",
       "    }\n",
       "\n",
       "    .dataframe thead th {\n",
       "        text-align: right;\n",
       "    }\n",
       "</style>\n",
       "<table border=\"1\" class=\"dataframe\">\n",
       "  <thead>\n",
       "    <tr style=\"text-align: right;\">\n",
       "      <th></th>\n",
       "      <th>id</th>\n",
       "      <th>label</th>\n",
       "      <th>gender</th>\n",
       "      <th>own_car</th>\n",
       "      <th>own_realty</th>\n",
       "      <th>num_child</th>\n",
       "      <th>income</th>\n",
       "      <th>income_type</th>\n",
       "      <th>education_level</th>\n",
       "      <th>family_status</th>\n",
       "      <th>house_type</th>\n",
       "      <th>birth_day</th>\n",
       "      <th>employment_length</th>\n",
       "      <th>work_phone</th>\n",
       "      <th>phone</th>\n",
       "      <th>email</th>\n",
       "      <th>job</th>\n",
       "      <th>CNT_FAM_MEMBERS</th>\n",
       "    </tr>\n",
       "  </thead>\n",
       "  <tbody>\n",
       "    <tr>\n",
       "      <th>0</th>\n",
       "      <td>5008804</td>\n",
       "      <td>0</td>\n",
       "      <td>1.0</td>\n",
       "      <td>1.0</td>\n",
       "      <td>1.0</td>\n",
       "      <td>0.0</td>\n",
       "      <td>2.179879</td>\n",
       "      <td>2.0</td>\n",
       "      <td>3.0</td>\n",
       "      <td>3.0</td>\n",
       "      <td>0.0</td>\n",
       "      <td>-12005.0</td>\n",
       "      <td>-4542.0</td>\n",
       "      <td>1.0</td>\n",
       "      <td>0.0</td>\n",
       "      <td>0.0</td>\n",
       "      <td>13.0</td>\n",
       "      <td>-0.216745</td>\n",
       "    </tr>\n",
       "    <tr>\n",
       "      <th>1</th>\n",
       "      <td>5008805</td>\n",
       "      <td>0</td>\n",
       "      <td>1.0</td>\n",
       "      <td>1.0</td>\n",
       "      <td>1.0</td>\n",
       "      <td>0.0</td>\n",
       "      <td>2.179879</td>\n",
       "      <td>2.0</td>\n",
       "      <td>3.0</td>\n",
       "      <td>3.0</td>\n",
       "      <td>0.0</td>\n",
       "      <td>-12005.0</td>\n",
       "      <td>-4542.0</td>\n",
       "      <td>1.0</td>\n",
       "      <td>0.0</td>\n",
       "      <td>0.0</td>\n",
       "      <td>13.0</td>\n",
       "      <td>-0.216745</td>\n",
       "    </tr>\n",
       "    <tr>\n",
       "      <th>2</th>\n",
       "      <td>5008806</td>\n",
       "      <td>1</td>\n",
       "      <td>1.0</td>\n",
       "      <td>1.0</td>\n",
       "      <td>1.0</td>\n",
       "      <td>0.0</td>\n",
       "      <td>-0.681502</td>\n",
       "      <td>2.0</td>\n",
       "      <td>1.0</td>\n",
       "      <td>4.0</td>\n",
       "      <td>5.0</td>\n",
       "      <td>-21474.0</td>\n",
       "      <td>-1134.0</td>\n",
       "      <td>0.0</td>\n",
       "      <td>0.0</td>\n",
       "      <td>0.0</td>\n",
       "      <td>9.0</td>\n",
       "      <td>-0.216745</td>\n",
       "    </tr>\n",
       "    <tr>\n",
       "      <th>3</th>\n",
       "      <td>5008808</td>\n",
       "      <td>1</td>\n",
       "      <td>0.0</td>\n",
       "      <td>0.0</td>\n",
       "      <td>1.0</td>\n",
       "      <td>0.0</td>\n",
       "      <td>0.749189</td>\n",
       "      <td>4.0</td>\n",
       "      <td>1.0</td>\n",
       "      <td>1.0</td>\n",
       "      <td>5.0</td>\n",
       "      <td>-19110.0</td>\n",
       "      <td>-3051.0</td>\n",
       "      <td>0.0</td>\n",
       "      <td>1.0</td>\n",
       "      <td>1.0</td>\n",
       "      <td>8.0</td>\n",
       "      <td>-1.331316</td>\n",
       "    </tr>\n",
       "    <tr>\n",
       "      <th>4</th>\n",
       "      <td>5008809</td>\n",
       "      <td>1</td>\n",
       "      <td>0.0</td>\n",
       "      <td>0.0</td>\n",
       "      <td>1.0</td>\n",
       "      <td>0.0</td>\n",
       "      <td>0.749189</td>\n",
       "      <td>4.0</td>\n",
       "      <td>1.0</td>\n",
       "      <td>1.0</td>\n",
       "      <td>5.0</td>\n",
       "      <td>-19110.0</td>\n",
       "      <td>-3051.0</td>\n",
       "      <td>0.0</td>\n",
       "      <td>1.0</td>\n",
       "      <td>1.0</td>\n",
       "      <td>8.0</td>\n",
       "      <td>-1.331316</td>\n",
       "    </tr>\n",
       "    <tr>\n",
       "      <th>...</th>\n",
       "      <td>...</td>\n",
       "      <td>...</td>\n",
       "      <td>...</td>\n",
       "      <td>...</td>\n",
       "      <td>...</td>\n",
       "      <td>...</td>\n",
       "      <td>...</td>\n",
       "      <td>...</td>\n",
       "      <td>...</td>\n",
       "      <td>...</td>\n",
       "      <td>...</td>\n",
       "      <td>...</td>\n",
       "      <td>...</td>\n",
       "      <td>...</td>\n",
       "      <td>...</td>\n",
       "      <td>...</td>\n",
       "      <td>...</td>\n",
       "      <td>...</td>\n",
       "    </tr>\n",
       "    <tr>\n",
       "      <th>36452</th>\n",
       "      <td>5150482</td>\n",
       "      <td>1</td>\n",
       "      <td>0.0</td>\n",
       "      <td>1.0</td>\n",
       "      <td>1.0</td>\n",
       "      <td>1.0</td>\n",
       "      <td>-0.272733</td>\n",
       "      <td>2.0</td>\n",
       "      <td>1.0</td>\n",
       "      <td>4.0</td>\n",
       "      <td>5.0</td>\n",
       "      <td>-10808.0</td>\n",
       "      <td>-1739.0</td>\n",
       "      <td>0.0</td>\n",
       "      <td>0.0</td>\n",
       "      <td>0.0</td>\n",
       "      <td>10.0</td>\n",
       "      <td>0.897826</td>\n",
       "    </tr>\n",
       "    <tr>\n",
       "      <th>36453</th>\n",
       "      <td>5150483</td>\n",
       "      <td>1</td>\n",
       "      <td>0.0</td>\n",
       "      <td>1.0</td>\n",
       "      <td>1.0</td>\n",
       "      <td>1.0</td>\n",
       "      <td>-0.272733</td>\n",
       "      <td>2.0</td>\n",
       "      <td>1.0</td>\n",
       "      <td>4.0</td>\n",
       "      <td>5.0</td>\n",
       "      <td>-10808.0</td>\n",
       "      <td>-1739.0</td>\n",
       "      <td>0.0</td>\n",
       "      <td>0.0</td>\n",
       "      <td>0.0</td>\n",
       "      <td>10.0</td>\n",
       "      <td>0.897826</td>\n",
       "    </tr>\n",
       "    <tr>\n",
       "      <th>36454</th>\n",
       "      <td>5150484</td>\n",
       "      <td>1</td>\n",
       "      <td>0.0</td>\n",
       "      <td>1.0</td>\n",
       "      <td>1.0</td>\n",
       "      <td>1.0</td>\n",
       "      <td>-0.272733</td>\n",
       "      <td>2.0</td>\n",
       "      <td>1.0</td>\n",
       "      <td>4.0</td>\n",
       "      <td>5.0</td>\n",
       "      <td>-10808.0</td>\n",
       "      <td>-1739.0</td>\n",
       "      <td>0.0</td>\n",
       "      <td>0.0</td>\n",
       "      <td>0.0</td>\n",
       "      <td>10.0</td>\n",
       "      <td>0.897826</td>\n",
       "    </tr>\n",
       "    <tr>\n",
       "      <th>36455</th>\n",
       "      <td>5150485</td>\n",
       "      <td>1</td>\n",
       "      <td>0.0</td>\n",
       "      <td>1.0</td>\n",
       "      <td>1.0</td>\n",
       "      <td>1.0</td>\n",
       "      <td>-0.272733</td>\n",
       "      <td>2.0</td>\n",
       "      <td>1.0</td>\n",
       "      <td>4.0</td>\n",
       "      <td>5.0</td>\n",
       "      <td>-10808.0</td>\n",
       "      <td>-1739.0</td>\n",
       "      <td>0.0</td>\n",
       "      <td>0.0</td>\n",
       "      <td>0.0</td>\n",
       "      <td>10.0</td>\n",
       "      <td>0.897826</td>\n",
       "    </tr>\n",
       "    <tr>\n",
       "      <th>36456</th>\n",
       "      <td>5150487</td>\n",
       "      <td>1</td>\n",
       "      <td>1.0</td>\n",
       "      <td>1.0</td>\n",
       "      <td>0.0</td>\n",
       "      <td>0.0</td>\n",
       "      <td>0.136036</td>\n",
       "      <td>2.0</td>\n",
       "      <td>1.0</td>\n",
       "      <td>4.0</td>\n",
       "      <td>5.0</td>\n",
       "      <td>-19398.0</td>\n",
       "      <td>-2166.0</td>\n",
       "      <td>0.0</td>\n",
       "      <td>0.0</td>\n",
       "      <td>0.0</td>\n",
       "      <td>11.0</td>\n",
       "      <td>-0.216745</td>\n",
       "    </tr>\n",
       "  </tbody>\n",
       "</table>\n",
       "<p>36457 rows × 18 columns</p>\n",
       "</div>"
      ],
      "text/plain": [
       "            id  label  gender  own_car  own_realty  num_child    income  \\\n",
       "0      5008804      0     1.0      1.0         1.0        0.0  2.179879   \n",
       "1      5008805      0     1.0      1.0         1.0        0.0  2.179879   \n",
       "2      5008806      1     1.0      1.0         1.0        0.0 -0.681502   \n",
       "3      5008808      1     0.0      0.0         1.0        0.0  0.749189   \n",
       "4      5008809      1     0.0      0.0         1.0        0.0  0.749189   \n",
       "...        ...    ...     ...      ...         ...        ...       ...   \n",
       "36452  5150482      1     0.0      1.0         1.0        1.0 -0.272733   \n",
       "36453  5150483      1     0.0      1.0         1.0        1.0 -0.272733   \n",
       "36454  5150484      1     0.0      1.0         1.0        1.0 -0.272733   \n",
       "36455  5150485      1     0.0      1.0         1.0        1.0 -0.272733   \n",
       "36456  5150487      1     1.0      1.0         0.0        0.0  0.136036   \n",
       "\n",
       "       income_type  education_level  family_status  house_type  birth_day  \\\n",
       "0              2.0              3.0            3.0         0.0   -12005.0   \n",
       "1              2.0              3.0            3.0         0.0   -12005.0   \n",
       "2              2.0              1.0            4.0         5.0   -21474.0   \n",
       "3              4.0              1.0            1.0         5.0   -19110.0   \n",
       "4              4.0              1.0            1.0         5.0   -19110.0   \n",
       "...            ...              ...            ...         ...        ...   \n",
       "36452          2.0              1.0            4.0         5.0   -10808.0   \n",
       "36453          2.0              1.0            4.0         5.0   -10808.0   \n",
       "36454          2.0              1.0            4.0         5.0   -10808.0   \n",
       "36455          2.0              1.0            4.0         5.0   -10808.0   \n",
       "36456          2.0              1.0            4.0         5.0   -19398.0   \n",
       "\n",
       "       employment_length  work_phone  phone  email   job  CNT_FAM_MEMBERS  \n",
       "0                -4542.0         1.0    0.0    0.0  13.0        -0.216745  \n",
       "1                -4542.0         1.0    0.0    0.0  13.0        -0.216745  \n",
       "2                -1134.0         0.0    0.0    0.0   9.0        -0.216745  \n",
       "3                -3051.0         0.0    1.0    1.0   8.0        -1.331316  \n",
       "4                -3051.0         0.0    1.0    1.0   8.0        -1.331316  \n",
       "...                  ...         ...    ...    ...   ...              ...  \n",
       "36452            -1739.0         0.0    0.0    0.0  10.0         0.897826  \n",
       "36453            -1739.0         0.0    0.0    0.0  10.0         0.897826  \n",
       "36454            -1739.0         0.0    0.0    0.0  10.0         0.897826  \n",
       "36455            -1739.0         0.0    0.0    0.0  10.0         0.897826  \n",
       "36456            -2166.0         0.0    0.0    0.0  11.0        -0.216745  \n",
       "\n",
       "[36457 rows x 18 columns]"
      ]
     },
     "execution_count": 72,
     "metadata": {},
     "output_type": "execute_result"
    }
   ],
   "source": [
    "training_df"
   ]
  },
  {
   "cell_type": "code",
   "execution_count": 81,
   "id": "a8a2e46d",
   "metadata": {},
   "outputs": [],
   "source": [
    "from sklearn.linear_model import LogisticRegression\n",
    "from sklearn.model_selection import  KFold, cross_val_score\n",
    "from sklearn.metrics import GridSearchCV, cross_validate, KFold, cross_val_score"
   ]
  },
  {
   "cell_type": "code",
   "execution_count": 94,
   "id": "57d497f5",
   "metadata": {},
   "outputs": [],
   "source": [
    "def kf_cross_val(model, X, y): \n",
    "    scores = []\n",
    "    kf = KFold(n_splits=5, shuffle=True, random_state=42)\n",
    "    for fold, (train_index, test_index) in enumerate(kf.split(X, y)):\n",
    "        x_train = X.iloc[train_index]\n",
    "        y_train = y.loc[train_index]\n",
    "        x_test = X.loc[test_index]\n",
    "        y_test = y.loc[test_index]\n",
    "        model.fit(x_train,y_train)\n",
    "        y_pred = model.predict_proba(x_test)[:,1]     \n",
    "        scores.append(roc_auc_score(y_test,y_pred))       \n",
    "    return scores"
   ]
  },
  {
   "cell_type": "code",
   "execution_count": 95,
   "id": "29fbf5f2",
   "metadata": {},
   "outputs": [],
   "source": [
    "X_train=training_df[training_df.columns.difference(['id','label'])]\n",
    "y_train=training_df[\"label\"].copy()"
   ]
  },
  {
   "cell_type": "code",
   "execution_count": 96,
   "id": "06a731e3",
   "metadata": {},
   "outputs": [
    {
     "name": "stdout",
     "output_type": "stream",
     "text": [
      "L2 Regularization: 0.5199 (0.00376)\n",
      "No Regularization: 0.5199 (0.00376)\n"
     ]
    }
   ],
   "source": [
    "lr = LogisticRegression(max_iter=2000, random_state=0)\n",
    "lr_score = kf_cross_val(lr, X_train, y_train)\n",
    "print(f\"L2 Regularization: {round(np.mean(lr_score),5)} ({round(np.std(lr_score),5)})\")\n",
    "\n",
    "lr = LogisticRegression(max_iter=2000, penalty='none', random_state=0)\n",
    "lr_score = kf_cross_val(lr, X_train, y_train)\n",
    "print(f\"No Regularization: {round(np.mean(lr_score),5)} ({round(np.std(lr_score),5)})\")"
   ]
  },
  {
   "cell_type": "markdown",
   "id": "672386ea",
   "metadata": {},
   "source": [
    "It seems logistic Regression is no better than guessing due to the ordinal features in the dataset"
   ]
  },
  {
   "cell_type": "code",
   "execution_count": null,
   "id": "db605ac0",
   "metadata": {},
   "outputs": [],
   "source": []
  }
 ],
 "metadata": {
  "kernelspec": {
   "display_name": "Python 3 (ipykernel)",
   "language": "python",
   "name": "python3"
  },
  "language_info": {
   "codemirror_mode": {
    "name": "ipython",
    "version": 3
   },
   "file_extension": ".py",
   "mimetype": "text/x-python",
   "name": "python",
   "nbconvert_exporter": "python",
   "pygments_lexer": "ipython3",
   "version": "3.9.7"
  }
 },
 "nbformat": 4,
 "nbformat_minor": 5
}
