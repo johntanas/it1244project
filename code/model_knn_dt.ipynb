{
  "cells": [
    {
      "cell_type": "markdown",
      "metadata": {
        "id": "view-in-github",
        "colab_type": "text"
      },
      "source": [
        "<a href=\"https://colab.research.google.com/github/johntanas/it1244project/blob/main/code/model_knn_dt.ipynb\" target=\"_parent\"><img src=\"https://colab.research.google.com/assets/colab-badge.svg\" alt=\"Open In Colab\"/></a>"
      ]
    },
    {
      "cell_type": "code",
      "execution_count": 1,
      "id": "5179ea71",
      "metadata": {
        "id": "5179ea71"
      },
      "outputs": [],
      "source": [
        "import pandas as pd\n",
        "import numpy as np"
      ]
    },
    {
      "cell_type": "code",
      "source": [
        "onlinedataset=True\n",
        "if onlinedataset:\n",
        "  url = \"https://drive.google.com/file/d/1Ktdv2NTyK2AM48yBvbpFezd82-srqj7w/view?usp=sharing\"\n",
        "  url='https://drive.google.com/uc?id=' + url.split('/')[-2]\n",
        "  cleaned_app_df=pd.read_csv(url,index_col=0)\n",
        "else:\n",
        "  pathtoapp=\"/content/cleaned_application.csv\"\n",
        "  cleaned_app_df=pd.read_csv(pathtoapp,index_col=0)\n",
        "path_to_avg_label=\"/content/average_label.csv\"\n",
        "path_to_evm_label=\"/content/expo_moving_labels.csv\"\n",
        "avg_df=pd.read_csv(path_to_avg_label,index_col=0)\n",
        "ewm_df=pd.read_csv(path_to_evm_label,index_col=0)"
      ],
      "metadata": {
        "id": "XJlCQwWJEl2_"
      },
      "id": "XJlCQwWJEl2_",
      "execution_count": 2,
      "outputs": []
    },
    {
      "cell_type": "code",
      "source": [
        "labels_to_int_evm={\"bad\":1,\"neutral\":2,\"good\":3}\n",
        "labels_to_int_avg={\"very bad\":0,\"bad\":1,\"neutral\":2,\"good\":3}"
      ],
      "metadata": {
        "id": "yATIoEXw31Eu"
      },
      "id": "yATIoEXw31Eu",
      "execution_count": 237,
      "outputs": []
    },
    {
      "cell_type": "code",
      "source": [
        "avg_df=avg_df.replace({\"label\":labels_to_int_avg})\n",
        "ewm_df=ewm_df.replace({\"label\":labels_to_int_evm})"
      ],
      "metadata": {
        "id": "lXL4go3Q3UVC"
      },
      "id": "lXL4go3Q3UVC",
      "execution_count": 238,
      "outputs": []
    },
    {
      "cell_type": "code",
      "source": [
        "dep_var=\"label\"\n",
        "random_state=42"
      ],
      "metadata": {
        "id": "DoxeFDv6Mgj8"
      },
      "id": "DoxeFDv6Mgj8",
      "execution_count": 239,
      "outputs": []
    },
    {
      "cell_type": "code",
      "source": [
        "from sklearn.model_selection import ShuffleSplit\n",
        "from pandas.api.types import is_string_dtype, is_numeric_dtype, is_categorical_dtype\n",
        "from sklearn.ensemble import RandomForestClassifier\n",
        "from sklearn.tree import DecisionTreeClassifier,export_text,plot_tree\n",
        "from fastai.tabular.all import *\n",
        "from sklearn.metrics import classification_report, confusion_matrix,ConfusionMatrixDisplay"
      ],
      "metadata": {
        "id": "72z3c3jMIzVZ"
      },
      "id": "72z3c3jMIzVZ",
      "execution_count": 240,
      "outputs": []
    },
    {
      "cell_type": "code",
      "source": [
        "train_df=ewm_df.merge(cleaned_app_df,how=\"inner\",on=\"id\").drop(\"id\",axis=1)"
      ],
      "metadata": {
        "id": "ZEu51Hh-LyC5"
      },
      "id": "ZEu51Hh-LyC5",
      "execution_count": 241,
      "outputs": []
    },
    {
      "cell_type": "code",
      "execution_count": 242,
      "id": "db605ac0",
      "metadata": {
        "id": "db605ac0"
      },
      "outputs": [],
      "source": [
        "cont,cat = cont_cat_split(train_df, max_card=1, dep_var=dep_var)"
      ]
    },
    {
      "cell_type": "code",
      "source": [
        "sss = ShuffleSplit(n_splits=1, test_size=0.2)\n",
        "train_idx, valid_idx = next(sss.split(train_df))\n",
        "splits = (list(train_idx),list(valid_idx))"
      ],
      "metadata": {
        "id": "OPi_3D8PNUsR"
      },
      "id": "OPi_3D8PNUsR",
      "execution_count": 243,
      "outputs": []
    },
    {
      "cell_type": "code",
      "source": [
        "procs = [Categorify, Normalize]\n",
        "to = TabularPandas(train_df, procs, cat, cont,\n",
        "                      splits=splits, y_names=dep_var)"
      ],
      "metadata": {
        "id": "fyZWDaD6I76o"
      },
      "id": "fyZWDaD6I76o",
      "execution_count": 244,
      "outputs": []
    },
    {
      "cell_type": "code",
      "source": [
        "xs,y = to.train.xs,to.train.y\n",
        "valid_xs,valid_y = to.valid.xs,to.valid.y"
      ],
      "metadata": {
        "id": "psnOcv568fbM"
      },
      "id": "psnOcv568fbM",
      "execution_count": 245,
      "outputs": []
    },
    {
      "cell_type": "code",
      "source": [
        "m = DecisionTreeClassifier(max_depth=18,random_state=random_state)\n",
        "m.fit(xs, y)"
      ],
      "metadata": {
        "id": "65zi5g0g8Jku",
        "outputId": "a6e1c568-ec27-4562-c189-e63c69a68914",
        "colab": {
          "base_uri": "https://localhost:8080/"
        }
      },
      "id": "65zi5g0g8Jku",
      "execution_count": 246,
      "outputs": [
        {
          "output_type": "execute_result",
          "data": {
            "text/plain": [
              "DecisionTreeClassifier(max_depth=18, random_state=42)"
            ]
          },
          "metadata": {},
          "execution_count": 246
        }
      ]
    },
    {
      "cell_type": "code",
      "source": [
        "preds=m.predict(valid_xs)"
      ],
      "metadata": {
        "id": "3IKlaeFFMuZ1"
      },
      "id": "3IKlaeFFMuZ1",
      "execution_count": 247,
      "outputs": []
    },
    {
      "cell_type": "code",
      "source": [
        "#int_to_labels_evm={1:\"bad\",2:\"good\"}\n",
        "int_to_labels_evm={v:k for k,v in enumerate(labels_to_int_evm)}"
      ],
      "metadata": {
        "id": "sVmFd-LbPJVS"
      },
      "id": "sVmFd-LbPJVS",
      "execution_count": 249,
      "outputs": []
    },
    {
      "cell_type": "code",
      "source": [
        "print(classification_report(preds,valid_y,target_names=int_to_labels_evm))\n",
        "disp=ConfusionMatrixDisplay.from_predictions(preds, valid_y,display_labels=int_to_labels_evm)\n",
        "fig=disp.ax_.get_figure() \n",
        "fig.set_figwidth(10)\n",
        "fig.set_figheight(5) "
      ],
      "metadata": {
        "id": "lj5t7afwMjsQ",
        "outputId": "22f3e0a5-a414-4a3f-9399-21b5caa15c39",
        "colab": {
          "base_uri": "https://localhost:8080/",
          "height": 508
        }
      },
      "id": "lj5t7afwMjsQ",
      "execution_count": 250,
      "outputs": [
        {
          "output_type": "stream",
          "name": "stdout",
          "text": [
            "              precision    recall  f1-score   support\n",
            "\n",
            "         bad       0.41      0.53      0.46      1988\n",
            "     neutral       0.76      0.59      0.66      4817\n",
            "        good       0.27      0.53      0.36       487\n",
            "\n",
            "    accuracy                           0.57      7292\n",
            "   macro avg       0.48      0.55      0.49      7292\n",
            "weighted avg       0.63      0.57      0.59      7292\n",
            "\n"
          ]
        },
        {
          "output_type": "display_data",
          "data": {
            "text/plain": [
              "<Figure size 720x360 with 2 Axes>"
            ],
            "image/png": "[encoded data removed]"
          },
          "metadata": {
            "needs_background": "light"
          }
        }
      ]
    },
    {
      "cell_type": "code",
      "source": [
        "def rf(xs, y, n_estimators=40, max_samples=20_000,\n",
        "       max_features=0.5, min_samples_leaf=5,random_state=random_state):\n",
        "    return RandomForestClassifier(n_jobs=-1, n_estimators=n_estimators,\n",
        "        max_samples=max_samples, max_features=max_features,\n",
        "        min_samples_leaf=min_samples_leaf, oob_score=True,random_state=random_state).fit(xs, y)"
      ],
      "metadata": {
        "id": "1ugWF27F8vk6"
      },
      "id": "1ugWF27F8vk6",
      "execution_count": 256,
      "outputs": []
    },
    {
      "cell_type": "code",
      "source": [
        "rf_m = rf(xs, y)\n",
        "preds_rf=rf_m.predict(valid_xs)"
      ],
      "metadata": {
        "id": "2IyvRObh8zea"
      },
      "id": "2IyvRObh8zea",
      "execution_count": 257,
      "outputs": []
    },
    {
      "cell_type": "code",
      "source": [
        "print(classification_report(preds_rf,valid_y,target_names=int_to_labels_evm))\n",
        "disp=ConfusionMatrixDisplay.from_predictions(preds_rf, valid_y,display_labels=int_to_labels_evm)\n",
        "fig=disp.ax_.get_figure() \n",
        "fig.set_figwidth(10)\n",
        "fig.set_figheight(5) "
      ],
      "metadata": {
        "id": "Xyef8KbELlD_",
        "outputId": "ebf8904e-0a5f-4e41-81fd-8f057960f02b",
        "colab": {
          "base_uri": "https://localhost:8080/",
          "height": 508
        }
      },
      "id": "Xyef8KbELlD_",
      "execution_count": 258,
      "outputs": [
        {
          "output_type": "stream",
          "name": "stdout",
          "text": [
            "              precision    recall  f1-score   support\n",
            "\n",
            "         bad       0.46      0.57      0.51      2115\n",
            "     neutral       0.78      0.60      0.68      4854\n",
            "        good       0.20      0.60      0.30       323\n",
            "\n",
            "    accuracy                           0.59      7292\n",
            "   macro avg       0.48      0.59      0.50      7292\n",
            "weighted avg       0.66      0.59      0.61      7292\n",
            "\n"
          ]
        },
        {
          "output_type": "display_data",
          "data": {
            "text/plain": [
              "<Figure size 720x360 with 2 Axes>"
            ],
            "image/png": "[encoded data removed]"
          },
          "metadata": {
            "needs_background": "light"
          }
        }
      ]
    },
    {
      "cell_type": "code",
      "source": [
        "from lightgbm import LGBMClassifier"
      ],
      "metadata": {
        "id": "PmghXWKw9TU-"
      },
      "id": "PmghXWKw9TU-",
      "execution_count": 259,
      "outputs": []
    },
    {
      "cell_type": "code",
      "source": [
        "boosted_tree=LGBMClassifier(boosting_type=\"gbdt\",random_state=random_state)\n",
        "boosted_tree.fit(xs,y)"
      ],
      "metadata": {
        "id": "aUMnzoIq9T86",
        "outputId": "343fa0e2-72a3-4911-a8d0-19f3a72f6449",
        "colab": {
          "base_uri": "https://localhost:8080/"
        }
      },
      "id": "aUMnzoIq9T86",
      "execution_count": 260,
      "outputs": [
        {
          "output_type": "execute_result",
          "data": {
            "text/plain": [
              "LGBMClassifier(random_state=42)"
            ]
          },
          "metadata": {},
          "execution_count": 260
        }
      ]
    },
    {
      "cell_type": "code",
      "source": [
        "pred_boost=boosted_tree.predict(valid_xs)\n",
        "print(classification_report(pred_boost,valid_y,target_names=int_to_labels_evm))\n",
        "disp=ConfusionMatrixDisplay.from_predictions(pred_boost, valid_y,display_labels=int_to_labels_evm)\n",
        "fig=disp.ax_.get_figure() \n",
        "fig.set_figwidth(10)\n",
        "fig.set_figheight(5) "
      ],
      "metadata": {
        "id": "8IYpMFMaOy5Y",
        "outputId": "113f5ca9-6aff-45dd-92a6-5e92bd440377",
        "colab": {
          "base_uri": "https://localhost:8080/",
          "height": 508
        }
      },
      "id": "8IYpMFMaOy5Y",
      "execution_count": 261,
      "outputs": [
        {
          "output_type": "stream",
          "name": "stdout",
          "text": [
            "              precision    recall  f1-score   support\n",
            "\n",
            "         bad       0.19      0.55      0.28       883\n",
            "     neutral       0.92      0.54      0.68      6337\n",
            "        good       0.06      0.81      0.11        72\n",
            "\n",
            "    accuracy                           0.55      7292\n",
            "   macro avg       0.39      0.63      0.36      7292\n",
            "weighted avg       0.82      0.55      0.63      7292\n",
            "\n"
          ]
        },
        {
          "output_type": "display_data",
          "data": {
            "text/plain": [
              "<Figure size 720x360 with 2 Axes>"
            ],
            "image/png": "[encoded data removed]"
          },
          "metadata": {
            "needs_background": "light"
          }
        }
      ]
    },
    {
      "cell_type": "markdown",
      "source": [
        "It seems that the random forest is the best at detecting bad clients with a 50% precision rate, we would be compressing neutral with good when we make a prediction"
      ],
      "metadata": {
        "id": "YBolYVoUQipq"
      },
      "id": "YBolYVoUQipq"
    },
    {
      "cell_type": "code",
      "source": [
        "def rf_feat_importance(m, df):\n",
        "    return pd.DataFrame({'cols':df.columns, 'imp':m.feature_importances_}\n",
        "                       ).sort_values('imp', ascending=False)\n",
        "fi = rf_feat_importance(m, xs)\n",
        "def plot_fi(fi):\n",
        "    return fi.plot('cols', 'imp', 'barh', figsize=(12,7), legend=False)\n",
        "plot_fi(fi);"
      ],
      "metadata": {
        "id": "oGNw-_aEQxmo",
        "outputId": "e9dba595-5f1e-4bf0-ff40-948875bc3f42",
        "colab": {
          "base_uri": "https://localhost:8080/",
          "height": 428
        }
      },
      "id": "oGNw-_aEQxmo",
      "execution_count": 262,
      "outputs": [
        {
          "output_type": "display_data",
          "data": {
            "text/plain": [
              "<Figure size 864x504 with 1 Axes>"
            ],
            "image/png": "[encoded data removed]"
          },
          "metadata": {
            "needs_background": "light"
          }
        }
      ]
    },
    {
      "cell_type": "markdown",
      "source": [
        "We can drop weak learners from looking at our random forest feature importance.\n",
        "We define a weak learner as less than 0.05 feature importance."
      ],
      "metadata": {
        "id": "9H6nVCmCQ0FO"
      },
      "id": "9H6nVCmCQ0FO"
    },
    {
      "cell_type": "code",
      "source": [
        "imp_cols=fi[fi[\"imp\"]>0.05]"
      ],
      "metadata": {
        "id": "h-68bo2mPTvw"
      },
      "id": "h-68bo2mPTvw",
      "execution_count": 263,
      "outputs": []
    },
    {
      "cell_type": "markdown",
      "source": [
        "We can do KNN with the dataset with the reduced dimension"
      ],
      "metadata": {
        "id": "hnW_N2lLRbO0"
      },
      "id": "hnW_N2lLRbO0"
    },
    {
      "cell_type": "code",
      "source": [
        "from sklearn.neighbors import KNeighborsClassifier\n",
        "from sklearn.model_selection import train_test_split"
      ],
      "metadata": {
        "id": "r2vIDVVJSSyY"
      },
      "id": "r2vIDVVJSSyY",
      "execution_count": 264,
      "outputs": []
    },
    {
      "cell_type": "code",
      "source": [
        "imp_X=train_df[np.array(imp_cols.cols)]\n",
        "y=train_df[\"label\"]"
      ],
      "metadata": {
        "id": "0JPzAWh-WjaM"
      },
      "id": "0JPzAWh-WjaM",
      "execution_count": 265,
      "outputs": []
    },
    {
      "cell_type": "markdown",
      "source": [
        "We one hot code the jobs before we train test split incase we split and lose a job"
      ],
      "metadata": {
        "id": "-DNHboiLX1R4"
      },
      "id": "-DNHboiLX1R4"
    },
    {
      "cell_type": "code",
      "source": [
        "jobs=pd.get_dummies(imp_X[\"job\"])"
      ],
      "metadata": {
        "id": "UCtAaEbGYDCN"
      },
      "id": "UCtAaEbGYDCN",
      "execution_count": 266,
      "outputs": []
    },
    {
      "cell_type": "code",
      "source": [
        "to_split=imp_X.drop(columns=\"job\").join(jobs)"
      ],
      "metadata": {
        "id": "gIjhBacdYOvc"
      },
      "id": "gIjhBacdYOvc",
      "execution_count": 267,
      "outputs": []
    },
    {
      "cell_type": "code",
      "source": [
        "cont=imp_X._get_numeric_data().columns"
      ],
      "metadata": {
        "id": "D-aKh2wfYqV7"
      },
      "id": "D-aKh2wfYqV7",
      "execution_count": 268,
      "outputs": []
    },
    {
      "cell_type": "code",
      "source": [
        "X_knn,valid_X_knn,y_knn,valid_y_knn=train_test_split(to_split,y,random_state=random_state)"
      ],
      "metadata": {
        "id": "BOJ1Y_QCXWSg"
      },
      "id": "BOJ1Y_QCXWSg",
      "execution_count": 269,
      "outputs": []
    },
    {
      "cell_type": "code",
      "source": [
        "# take k= sqrt(len(features))\n",
        "k=round(math.sqrt(X_knn.shape[0]))\n",
        "# k should be odd\n",
        "if k %2 ==0:\n",
        "  k+=1"
      ],
      "metadata": {
        "id": "aWP2n1vTSzNS"
      },
      "id": "aWP2n1vTSzNS",
      "execution_count": 270,
      "outputs": []
    },
    {
      "cell_type": "markdown",
      "source": [
        "We standardise the numerical cols using training data"
      ],
      "metadata": {
        "id": "BI8SQJcxT7Jr"
      },
      "id": "BI8SQJcxT7Jr"
    },
    {
      "cell_type": "code",
      "source": [
        "from sklearn.preprocessing import StandardScaler\n",
        "knn_standard=StandardScaler()\n",
        "knn_standard.fit(X_knn[cont])"
      ],
      "metadata": {
        "id": "WaX8fPOSUJgF",
        "outputId": "0487ab66-2b59-486e-a87d-415fd0ecff30",
        "colab": {
          "base_uri": "https://localhost:8080/"
        }
      },
      "id": "WaX8fPOSUJgF",
      "execution_count": 271,
      "outputs": [
        {
          "output_type": "execute_result",
          "data": {
            "text/plain": [
              "StandardScaler()"
            ]
          },
          "metadata": {},
          "execution_count": 271
        }
      ]
    },
    {
      "cell_type": "code",
      "source": [
        "scaled_features=knn_standard.transform(X_knn[cont])\n",
        "X_knn[cont]=scaled_features"
      ],
      "metadata": {
        "id": "WpzKe5gIVVcN"
      },
      "id": "WpzKe5gIVVcN",
      "execution_count": 272,
      "outputs": []
    },
    {
      "cell_type": "code",
      "source": [
        "valid_scaled_features=knn_standard.transform(valid_X_knn[cont])\n",
        "valid_X_knn[cont]=valid_scaled_features"
      ],
      "metadata": {
        "id": "1VdTuBUnY_oS"
      },
      "id": "1VdTuBUnY_oS",
      "execution_count": 273,
      "outputs": []
    },
    {
      "cell_type": "code",
      "source": [
        "knn=KNeighborsClassifier(k)"
      ],
      "metadata": {
        "id": "LiB4QKYLTaMR"
      },
      "id": "LiB4QKYLTaMR",
      "execution_count": 274,
      "outputs": []
    },
    {
      "cell_type": "code",
      "source": [
        "knn.fit(X_knn,y_knn)"
      ],
      "metadata": {
        "id": "Pw_ydHkaVzjw",
        "outputId": "66ddede1-d52a-4f74-c6cc-f71d3172c74e",
        "colab": {
          "base_uri": "https://localhost:8080/"
        }
      },
      "id": "Pw_ydHkaVzjw",
      "execution_count": 275,
      "outputs": [
        {
          "output_type": "execute_result",
          "data": {
            "text/plain": [
              "KNeighborsClassifier(n_neighbors=165)"
            ]
          },
          "metadata": {},
          "execution_count": 275
        }
      ]
    },
    {
      "cell_type": "code",
      "source": [
        "preds_knn=knn.predict(valid_X_knn)\n",
        "print(classification_report(preds_knn,valid_y_knn,target_names=int_to_labels_evm))\n",
        "disp=ConfusionMatrixDisplay.from_predictions(preds_knn,valid_y_knn,display_labels=int_to_labels_evm)\n",
        "fig=disp.ax_.get_figure() \n",
        "fig.set_figwidth(10)\n",
        "fig.set_figheight(5) "
      ],
      "metadata": {
        "id": "MVA3ViDVV-Lo",
        "outputId": "5db7f9eb-0693-423f-8404-84b9e3a8e4d7",
        "colab": {
          "base_uri": "https://localhost:8080/",
          "height": 632
        }
      },
      "id": "MVA3ViDVV-Lo",
      "execution_count": 276,
      "outputs": [
        {
          "output_type": "stream",
          "name": "stderr",
          "text": [
            "/usr/local/lib/python3.7/dist-packages/sklearn/metrics/_classification.py:1318: UndefinedMetricWarning: Recall and F-score are ill-defined and being set to 0.0 in labels with no true samples. Use `zero_division` parameter to control this behavior.\n",
            "  _warn_prf(average, modifier, msg_start, len(result))\n",
            "/usr/local/lib/python3.7/dist-packages/sklearn/metrics/_classification.py:1318: UndefinedMetricWarning: Recall and F-score are ill-defined and being set to 0.0 in labels with no true samples. Use `zero_division` parameter to control this behavior.\n",
            "  _warn_prf(average, modifier, msg_start, len(result))\n",
            "/usr/local/lib/python3.7/dist-packages/sklearn/metrics/_classification.py:1318: UndefinedMetricWarning: Recall and F-score are ill-defined and being set to 0.0 in labels with no true samples. Use `zero_division` parameter to control this behavior.\n",
            "  _warn_prf(average, modifier, msg_start, len(result))\n"
          ]
        },
        {
          "output_type": "stream",
          "name": "stdout",
          "text": [
            "              precision    recall  f1-score   support\n",
            "\n",
            "         bad       0.10      0.44      0.17       763\n",
            "     neutral       0.93      0.51      0.66      8352\n",
            "        good       0.00      0.00      0.00         0\n",
            "\n",
            "    accuracy                           0.51      9115\n",
            "   macro avg       0.34      0.32      0.28      9115\n",
            "weighted avg       0.86      0.51      0.62      9115\n",
            "\n"
          ]
        },
        {
          "output_type": "display_data",
          "data": {
            "text/plain": [
              "<Figure size 720x360 with 2 Axes>"
            ],
            "image/png": "[encoded data removed]"
          },
          "metadata": {
            "needs_background": "light"
          }
        }
      ]
    }
  ],
  "metadata": {
    "kernelspec": {
      "display_name": "Python 3.10.0 64-bit",
      "language": "python",
      "name": "python3"
    },
    "language_info": {
      "codemirror_mode": {
        "name": "ipython",
        "version": 3
      },
      "file_extension": ".py",
      "mimetype": "text/x-python",
      "name": "python",
      "nbconvert_exporter": "python",
      "pygments_lexer": "ipython3",
      "version": "3.10.0"
    },
    "vscode": {
      "interpreter": {
        "hash": "525f50cd3df40e9d57f214b2f9bedadf4bf08c85f9f5b3b27734de5b2eace747"
      }
    },
    "colab": {
      "provenance": [],
      "collapsed_sections": [],
      "include_colab_link": true
    }
  },
  "nbformat": 4,
  "nbformat_minor": 5
}