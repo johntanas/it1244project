{
  "cells": [
    {
      "cell_type": "markdown",
      "metadata": {
        "id": "view-in-github",
        "colab_type": "text"
      },
      "source": [
        "<a href=\"https://colab.research.google.com/github/johntanas/it1244project/blob/main/code/label_kmeans.ipynb\" target=\"_parent\"><img src=\"https://colab.research.google.com/assets/colab-badge.svg\" alt=\"Open In Colab\"/></a>"
      ]
    },
    {
      "cell_type": "code",
      "execution_count": 113,
      "id": "5179ea71",
      "metadata": {
        "id": "5179ea71"
      },
      "outputs": [],
      "source": [
        "import pandas as pd\n",
        "import numpy as np\n",
        "import warnings\n",
        "warnings.filterwarnings('ignore')"
      ]
    },
    {
      "cell_type": "code",
      "execution_count": 114,
      "id": "cb2b7195",
      "metadata": {
        "id": "cb2b7195"
      },
      "outputs": [],
      "source": [
        "onlinedataset=True\n",
        "if onlinedataset:\n",
        "  url = \"https://drive.google.com/file/d/1TBcW6O9KMRMh9CWf36OIjZwvY-qzH1VS/view?usp=sharing\"\n",
        "  url='https://drive.google.com/uc?id=' + url.split('/')[-2]\n",
        "  credit_record=pd.read_csv(url,index_col=0)\n",
        "  url = \"https://drive.google.com/file/d/1Ktdv2NTyK2AM48yBvbpFezd82-srqj7w/view?usp=sharing\"\n",
        "  url='https://drive.google.com/uc?id=' + url.split('/')[-2]\n",
        "  cleaned_app_df=pd.read_csv(url,index_col=0)\n",
        "else:\n",
        "  pathtodataset=\"./content/application.csv\"\n",
        "  credit_record=pd.read_csv(pathtodataset,index_col=0)\n",
        "  pathtoapp=\"./content/cleaned_application.csv\"\n",
        "  cleaned_app_df=pd.read_csv(pathtoapp,index_col=0)"
      ]
    },
    {
      "cell_type": "code",
      "execution_count": 115,
      "id": "de915099",
      "metadata": {
        "colab": {
          "base_uri": "https://localhost:8080/",
          "height": 424
        },
        "id": "de915099",
        "outputId": "0d2c1a20-2225-48b1-8f5b-9b7c863e1252"
      },
      "outputs": [
        {
          "output_type": "execute_result",
          "data": {
            "text/plain": [
              "              id  month_bal status\n",
              "0        5001711          0      X\n",
              "1        5001711         -1      0\n",
              "2        5001711         -2      0\n",
              "3        5001711         -3      0\n",
              "4        5001712          0      C\n",
              "...          ...        ...    ...\n",
              "1048570  5150487        -25      C\n",
              "1048571  5150487        -26      C\n",
              "1048572  5150487        -27      C\n",
              "1048573  5150487        -28      C\n",
              "1048574  5150487        -29      C\n",
              "\n",
              "[1048575 rows x 3 columns]"
            ],
            "text/html": [
              "\n",
              "  <div id=\"df-966f98f5-18eb-4e66-ab7e-26f7faa560a2\">\n",
              "    <div class=\"colab-df-container\">\n",
              "      <div>\n",
              "<style scoped>\n",
              "    .dataframe tbody tr th:only-of-type {\n",
              "        vertical-align: middle;\n",
              "    }\n",
              "\n",
              "    .dataframe tbody tr th {\n",
              "        vertical-align: top;\n",
              "    }\n",
              "\n",
              "    .dataframe thead th {\n",
              "        text-align: right;\n",
              "    }\n",
              "</style>\n",
              "<table border=\"1\" class=\"dataframe\">\n",
              "  <thead>\n",
              "    <tr style=\"text-align: right;\">\n",
              "      <th></th>\n",
              "      <th>id</th>\n",
              "      <th>month_bal</th>\n",
              "      <th>status</th>\n",
              "    </tr>\n",
              "  </thead>\n",
              "  <tbody>\n",
              "    <tr>\n",
              "      <th>0</th>\n",
              "      <td>5001711</td>\n",
              "      <td>0</td>\n",
              "      <td>X</td>\n",
              "    </tr>\n",
              "    <tr>\n",
              "      <th>1</th>\n",
              "      <td>5001711</td>\n",
              "      <td>-1</td>\n",
              "      <td>0</td>\n",
              "    </tr>\n",
              "    <tr>\n",
              "      <th>2</th>\n",
              "      <td>5001711</td>\n",
              "      <td>-2</td>\n",
              "      <td>0</td>\n",
              "    </tr>\n",
              "    <tr>\n",
              "      <th>3</th>\n",
              "      <td>5001711</td>\n",
              "      <td>-3</td>\n",
              "      <td>0</td>\n",
              "    </tr>\n",
              "    <tr>\n",
              "      <th>4</th>\n",
              "      <td>5001712</td>\n",
              "      <td>0</td>\n",
              "      <td>C</td>\n",
              "    </tr>\n",
              "    <tr>\n",
              "      <th>...</th>\n",
              "      <td>...</td>\n",
              "      <td>...</td>\n",
              "      <td>...</td>\n",
              "    </tr>\n",
              "    <tr>\n",
              "      <th>1048570</th>\n",
              "      <td>5150487</td>\n",
              "      <td>-25</td>\n",
              "      <td>C</td>\n",
              "    </tr>\n",
              "    <tr>\n",
              "      <th>1048571</th>\n",
              "      <td>5150487</td>\n",
              "      <td>-26</td>\n",
              "      <td>C</td>\n",
              "    </tr>\n",
              "    <tr>\n",
              "      <th>1048572</th>\n",
              "      <td>5150487</td>\n",
              "      <td>-27</td>\n",
              "      <td>C</td>\n",
              "    </tr>\n",
              "    <tr>\n",
              "      <th>1048573</th>\n",
              "      <td>5150487</td>\n",
              "      <td>-28</td>\n",
              "      <td>C</td>\n",
              "    </tr>\n",
              "    <tr>\n",
              "      <th>1048574</th>\n",
              "      <td>5150487</td>\n",
              "      <td>-29</td>\n",
              "      <td>C</td>\n",
              "    </tr>\n",
              "  </tbody>\n",
              "</table>\n",
              "<p>1048575 rows × 3 columns</p>\n",
              "</div>\n",
              "      <button class=\"colab-df-convert\" onclick=\"convertToInteractive('df-966f98f5-18eb-4e66-ab7e-26f7faa560a2')\"\n",
              "              title=\"Convert this dataframe to an interactive table.\"\n",
              "              style=\"display:none;\">\n",
              "        \n",
              "  <svg xmlns=\"http://www.w3.org/2000/svg\" height=\"24px\"viewBox=\"0 0 24 24\"\n",
              "       width=\"24px\">\n",
              "    <path d=\"M0 0h24v24H0V0z\" fill=\"none\"/>\n",
              "    <path d=\"M18.56 5.44l.94 2.06.94-2.06 2.06-.94-2.06-.94-.94-2.06-.94 2.06-2.06.94zm-11 1L8.5 8.5l.94-2.06 2.06-.94-2.06-.94L8.5 2.5l-.94 2.06-2.06.94zm10 10l.94 2.06.94-2.06 2.06-.94-2.06-.94-.94-2.06-.94 2.06-2.06.94z\"/><path d=\"M17.41 7.96l-1.37-1.37c-.4-.4-.92-.59-1.43-.59-.52 0-1.04.2-1.43.59L10.3 9.45l-7.72 7.72c-.78.78-.78 2.05 0 2.83L4 21.41c.39.39.9.59 1.41.59.51 0 1.02-.2 1.41-.59l7.78-7.78 2.81-2.81c.8-.78.8-2.07 0-2.86zM5.41 20L4 18.59l7.72-7.72 1.47 1.35L5.41 20z\"/>\n",
              "  </svg>\n",
              "      </button>\n",
              "      \n",
              "  <style>\n",
              "    .colab-df-container {\n",
              "      display:flex;\n",
              "      flex-wrap:wrap;\n",
              "      gap: 12px;\n",
              "    }\n",
              "\n",
              "    .colab-df-convert {\n",
              "      background-color: #E8F0FE;\n",
              "      border: none;\n",
              "      border-radius: 50%;\n",
              "      cursor: pointer;\n",
              "      display: none;\n",
              "      fill: #1967D2;\n",
              "      height: 32px;\n",
              "      padding: 0 0 0 0;\n",
              "      width: 32px;\n",
              "    }\n",
              "\n",
              "    .colab-df-convert:hover {\n",
              "      background-color: #E2EBFA;\n",
              "      box-shadow: 0px 1px 2px rgba(60, 64, 67, 0.3), 0px 1px 3px 1px rgba(60, 64, 67, 0.15);\n",
              "      fill: #174EA6;\n",
              "    }\n",
              "\n",
              "    [theme=dark] .colab-df-convert {\n",
              "      background-color: #3B4455;\n",
              "      fill: #D2E3FC;\n",
              "    }\n",
              "\n",
              "    [theme=dark] .colab-df-convert:hover {\n",
              "      background-color: #434B5C;\n",
              "      box-shadow: 0px 1px 3px 1px rgba(0, 0, 0, 0.15);\n",
              "      filter: drop-shadow(0px 1px 2px rgba(0, 0, 0, 0.3));\n",
              "      fill: #FFFFFF;\n",
              "    }\n",
              "  </style>\n",
              "\n",
              "      <script>\n",
              "        const buttonEl =\n",
              "          document.querySelector('#df-966f98f5-18eb-4e66-ab7e-26f7faa560a2 button.colab-df-convert');\n",
              "        buttonEl.style.display =\n",
              "          google.colab.kernel.accessAllowed ? 'block' : 'none';\n",
              "\n",
              "        async function convertToInteractive(key) {\n",
              "          const element = document.querySelector('#df-966f98f5-18eb-4e66-ab7e-26f7faa560a2');\n",
              "          const dataTable =\n",
              "            await google.colab.kernel.invokeFunction('convertToInteractive',\n",
              "                                                     [key], {});\n",
              "          if (!dataTable) return;\n",
              "\n",
              "          const docLinkHtml = 'Like what you see? Visit the ' +\n",
              "            '<a target=\"_blank\" href=https://colab.research.google.com/notebooks/data_table.ipynb>data table notebook</a>'\n",
              "            + ' to learn more about interactive tables.';\n",
              "          element.innerHTML = '';\n",
              "          dataTable['output_type'] = 'display_data';\n",
              "          await google.colab.output.renderOutput(dataTable, element);\n",
              "          const docLink = document.createElement('div');\n",
              "          docLink.innerHTML = docLinkHtml;\n",
              "          element.appendChild(docLink);\n",
              "        }\n",
              "      </script>\n",
              "    </div>\n",
              "  </div>\n",
              "  "
            ]
          },
          "metadata": {},
          "execution_count": 115
        }
      ],
      "source": [
        "credit_record"
      ]
    },
    {
      "cell_type": "code",
      "execution_count": 116,
      "id": "211c0fbd",
      "metadata": {
        "colab": {
          "base_uri": "https://localhost:8080/"
        },
        "id": "211c0fbd",
        "outputId": "04bc5d83-035f-4c98-b491-b13dcc707930"
      },
      "outputs": [
        {
          "output_type": "execute_result",
          "data": {
            "text/plain": [
              "(array([  0,  -1,  -2,  -3,  -4,  -5,  -6,  -7,  -8,  -9, -10, -11, -12,\n",
              "        -13, -14, -15, -16, -17, -18, -19, -20, -21, -22, -23, -24, -25,\n",
              "        -26, -27, -28, -29, -30, -31, -32, -33, -34, -35, -36, -37, -38,\n",
              "        -39, -40, -41, -42, -43, -44, -45, -46, -47, -48, -49, -50, -51,\n",
              "        -52, -53, -54, -55, -56, -57, -58, -59, -60]),\n",
              " array(['X', '0', 'C', '1', '2', '3', '4', '5'], dtype=object))"
            ]
          },
          "metadata": {},
          "execution_count": 116
        }
      ],
      "source": [
        "credit_record[\"month_bal\"].unique(),credit_record[\"status\"].unique()"
      ]
    },
    {
      "cell_type": "code",
      "source": [
        "to_avg={\"X\":-1,\"C\":0}\n",
        "for i in range(6):\n",
        "  to_avg[str(i)]=i+1"
      ],
      "metadata": {
        "id": "w2tYpYyrqR7q"
      },
      "id": "w2tYpYyrqR7q",
      "execution_count": 117,
      "outputs": []
    },
    {
      "cell_type": "code",
      "source": [
        "from sklearn.cluster import KMeans\n",
        "from sklearn import metrics\n",
        "from scipy.spatial.distance import cdist\n",
        "import numpy as np\n",
        "import matplotlib.pyplot as plt\n",
        "from sklearn.preprocessing import StandardScaler"
      ],
      "metadata": {
        "id": "tOILpQS-rupf"
      },
      "id": "tOILpQS-rupf",
      "execution_count": 118,
      "outputs": []
    },
    {
      "cell_type": "code",
      "source": [
        "credit_record=credit_record.replace({\"status\":to_avg})"
      ],
      "metadata": {
        "id": "UbT-BICxq1W_"
      },
      "id": "UbT-BICxq1W_",
      "execution_count": 119,
      "outputs": []
    },
    {
      "cell_type": "code",
      "source": [
        "credit_record"
      ],
      "metadata": {
        "colab": {
          "base_uri": "https://localhost:8080/",
          "height": 424
        },
        "id": "TMcg6JZ-uUF9",
        "outputId": "9edfc859-fa4a-43f7-fb36-54d2b84f80d8"
      },
      "id": "TMcg6JZ-uUF9",
      "execution_count": 120,
      "outputs": [
        {
          "output_type": "execute_result",
          "data": {
            "text/plain": [
              "              id  month_bal  status\n",
              "0        5001711          0      -1\n",
              "1        5001711         -1       1\n",
              "2        5001711         -2       1\n",
              "3        5001711         -3       1\n",
              "4        5001712          0       0\n",
              "...          ...        ...     ...\n",
              "1048570  5150487        -25       0\n",
              "1048571  5150487        -26       0\n",
              "1048572  5150487        -27       0\n",
              "1048573  5150487        -28       0\n",
              "1048574  5150487        -29       0\n",
              "\n",
              "[1048575 rows x 3 columns]"
            ],
            "text/html": [
              "\n",
              "  <div id=\"df-7e2512c9-03d4-4c63-952e-14d5a27cf496\">\n",
              "    <div class=\"colab-df-container\">\n",
              "      <div>\n",
              "<style scoped>\n",
              "    .dataframe tbody tr th:only-of-type {\n",
              "        vertical-align: middle;\n",
              "    }\n",
              "\n",
              "    .dataframe tbody tr th {\n",
              "        vertical-align: top;\n",
              "    }\n",
              "\n",
              "    .dataframe thead th {\n",
              "        text-align: right;\n",
              "    }\n",
              "</style>\n",
              "<table border=\"1\" class=\"dataframe\">\n",
              "  <thead>\n",
              "    <tr style=\"text-align: right;\">\n",
              "      <th></th>\n",
              "      <th>id</th>\n",
              "      <th>month_bal</th>\n",
              "      <th>status</th>\n",
              "    </tr>\n",
              "  </thead>\n",
              "  <tbody>\n",
              "    <tr>\n",
              "      <th>0</th>\n",
              "      <td>5001711</td>\n",
              "      <td>0</td>\n",
              "      <td>-1</td>\n",
              "    </tr>\n",
              "    <tr>\n",
              "      <th>1</th>\n",
              "      <td>5001711</td>\n",
              "      <td>-1</td>\n",
              "      <td>1</td>\n",
              "    </tr>\n",
              "    <tr>\n",
              "      <th>2</th>\n",
              "      <td>5001711</td>\n",
              "      <td>-2</td>\n",
              "      <td>1</td>\n",
              "    </tr>\n",
              "    <tr>\n",
              "      <th>3</th>\n",
              "      <td>5001711</td>\n",
              "      <td>-3</td>\n",
              "      <td>1</td>\n",
              "    </tr>\n",
              "    <tr>\n",
              "      <th>4</th>\n",
              "      <td>5001712</td>\n",
              "      <td>0</td>\n",
              "      <td>0</td>\n",
              "    </tr>\n",
              "    <tr>\n",
              "      <th>...</th>\n",
              "      <td>...</td>\n",
              "      <td>...</td>\n",
              "      <td>...</td>\n",
              "    </tr>\n",
              "    <tr>\n",
              "      <th>1048570</th>\n",
              "      <td>5150487</td>\n",
              "      <td>-25</td>\n",
              "      <td>0</td>\n",
              "    </tr>\n",
              "    <tr>\n",
              "      <th>1048571</th>\n",
              "      <td>5150487</td>\n",
              "      <td>-26</td>\n",
              "      <td>0</td>\n",
              "    </tr>\n",
              "    <tr>\n",
              "      <th>1048572</th>\n",
              "      <td>5150487</td>\n",
              "      <td>-27</td>\n",
              "      <td>0</td>\n",
              "    </tr>\n",
              "    <tr>\n",
              "      <th>1048573</th>\n",
              "      <td>5150487</td>\n",
              "      <td>-28</td>\n",
              "      <td>0</td>\n",
              "    </tr>\n",
              "    <tr>\n",
              "      <th>1048574</th>\n",
              "      <td>5150487</td>\n",
              "      <td>-29</td>\n",
              "      <td>0</td>\n",
              "    </tr>\n",
              "  </tbody>\n",
              "</table>\n",
              "<p>1048575 rows × 3 columns</p>\n",
              "</div>\n",
              "      <button class=\"colab-df-convert\" onclick=\"convertToInteractive('df-7e2512c9-03d4-4c63-952e-14d5a27cf496')\"\n",
              "              title=\"Convert this dataframe to an interactive table.\"\n",
              "              style=\"display:none;\">\n",
              "        \n",
              "  <svg xmlns=\"http://www.w3.org/2000/svg\" height=\"24px\"viewBox=\"0 0 24 24\"\n",
              "       width=\"24px\">\n",
              "    <path d=\"M0 0h24v24H0V0z\" fill=\"none\"/>\n",
              "    <path d=\"M18.56 5.44l.94 2.06.94-2.06 2.06-.94-2.06-.94-.94-2.06-.94 2.06-2.06.94zm-11 1L8.5 8.5l.94-2.06 2.06-.94-2.06-.94L8.5 2.5l-.94 2.06-2.06.94zm10 10l.94 2.06.94-2.06 2.06-.94-2.06-.94-.94-2.06-.94 2.06-2.06.94z\"/><path d=\"M17.41 7.96l-1.37-1.37c-.4-.4-.92-.59-1.43-.59-.52 0-1.04.2-1.43.59L10.3 9.45l-7.72 7.72c-.78.78-.78 2.05 0 2.83L4 21.41c.39.39.9.59 1.41.59.51 0 1.02-.2 1.41-.59l7.78-7.78 2.81-2.81c.8-.78.8-2.07 0-2.86zM5.41 20L4 18.59l7.72-7.72 1.47 1.35L5.41 20z\"/>\n",
              "  </svg>\n",
              "      </button>\n",
              "      \n",
              "  <style>\n",
              "    .colab-df-container {\n",
              "      display:flex;\n",
              "      flex-wrap:wrap;\n",
              "      gap: 12px;\n",
              "    }\n",
              "\n",
              "    .colab-df-convert {\n",
              "      background-color: #E8F0FE;\n",
              "      border: none;\n",
              "      border-radius: 50%;\n",
              "      cursor: pointer;\n",
              "      display: none;\n",
              "      fill: #1967D2;\n",
              "      height: 32px;\n",
              "      padding: 0 0 0 0;\n",
              "      width: 32px;\n",
              "    }\n",
              "\n",
              "    .colab-df-convert:hover {\n",
              "      background-color: #E2EBFA;\n",
              "      box-shadow: 0px 1px 2px rgba(60, 64, 67, 0.3), 0px 1px 3px 1px rgba(60, 64, 67, 0.15);\n",
              "      fill: #174EA6;\n",
              "    }\n",
              "\n",
              "    [theme=dark] .colab-df-convert {\n",
              "      background-color: #3B4455;\n",
              "      fill: #D2E3FC;\n",
              "    }\n",
              "\n",
              "    [theme=dark] .colab-df-convert:hover {\n",
              "      background-color: #434B5C;\n",
              "      box-shadow: 0px 1px 3px 1px rgba(0, 0, 0, 0.15);\n",
              "      filter: drop-shadow(0px 1px 2px rgba(0, 0, 0, 0.3));\n",
              "      fill: #FFFFFF;\n",
              "    }\n",
              "  </style>\n",
              "\n",
              "      <script>\n",
              "        const buttonEl =\n",
              "          document.querySelector('#df-7e2512c9-03d4-4c63-952e-14d5a27cf496 button.colab-df-convert');\n",
              "        buttonEl.style.display =\n",
              "          google.colab.kernel.accessAllowed ? 'block' : 'none';\n",
              "\n",
              "        async function convertToInteractive(key) {\n",
              "          const element = document.querySelector('#df-7e2512c9-03d4-4c63-952e-14d5a27cf496');\n",
              "          const dataTable =\n",
              "            await google.colab.kernel.invokeFunction('convertToInteractive',\n",
              "                                                     [key], {});\n",
              "          if (!dataTable) return;\n",
              "\n",
              "          const docLinkHtml = 'Like what you see? Visit the ' +\n",
              "            '<a target=\"_blank\" href=https://colab.research.google.com/notebooks/data_table.ipynb>data table notebook</a>'\n",
              "            + ' to learn more about interactive tables.';\n",
              "          element.innerHTML = '';\n",
              "          dataTable['output_type'] = 'display_data';\n",
              "          await google.colab.output.renderOutput(dataTable, element);\n",
              "          const docLink = document.createElement('div');\n",
              "          docLink.innerHTML = docLinkHtml;\n",
              "          element.appendChild(docLink);\n",
              "        }\n",
              "      </script>\n",
              "    </div>\n",
              "  </div>\n",
              "  "
            ]
          },
          "metadata": {},
          "execution_count": 120
        }
      ]
    },
    {
      "cell_type": "code",
      "source": [
        "series=credit_record.groupby(\"id\")[\"status\"].mean()"
      ],
      "metadata": {
        "id": "3RX7Fit9rO7V"
      },
      "id": "3RX7Fit9rO7V",
      "execution_count": 121,
      "outputs": []
    },
    {
      "cell_type": "code",
      "source": [
        "X=StandardScaler().fit_transform(np.array(series).reshape(-1,1))"
      ],
      "metadata": {
        "id": "Jo8CQWWJs3xC"
      },
      "id": "Jo8CQWWJs3xC",
      "execution_count": 122,
      "outputs": []
    },
    {
      "cell_type": "markdown",
      "source": [
        "https://www.geeksforgeeks.org/elbow-method-for-optimal-value-of-k-in-kmeans/"
      ],
      "metadata": {
        "id": "Fu0g3QLma2UI"
      },
      "id": "Fu0g3QLma2UI"
    },
    {
      "cell_type": "code",
      "source": [
        "distortions = []\n",
        "inertias = []\n",
        "mapping1 = {}\n",
        "mapping2 = {}\n",
        "K = range(1, 10)\n",
        "  \n",
        "for k in K:\n",
        "    # Building and fitting the model\n",
        "    kmeanModel = KMeans(n_clusters=k).fit(X)\n",
        "    kmeanModel.fit(X)\n",
        "  \n",
        "    distortions.append(sum(np.min(cdist(X, kmeanModel.cluster_centers_,\n",
        "                                        'euclidean'), axis=1)) / X.shape[0])\n",
        "    inertias.append(kmeanModel.inertia_)\n",
        "  \n",
        "    mapping1[k] = sum(np.min(cdist(X, kmeanModel.cluster_centers_,\n",
        "                                   'euclidean'), axis=1)) / X.shape[0]\n",
        "    mapping2[k] = kmeanModel.inertia_"
      ],
      "metadata": {
        "id": "s5ri04IOrnYa"
      },
      "id": "s5ri04IOrnYa",
      "execution_count": 123,
      "outputs": []
    },
    {
      "cell_type": "code",
      "source": [
        "plt.plot(K, distortions, 'bx-')\n",
        "plt.xlabel('Values of K')\n",
        "plt.ylabel('Distortion')\n",
        "plt.title('The Elbow Method using Distortion')\n",
        "plt.show()"
      ],
      "metadata": {
        "id": "3YsKskZJr1kU",
        "outputId": "a5e0467f-d34a-4d85-94f6-1d859197b058",
        "colab": {
          "base_uri": "https://localhost:8080/",
          "height": 295
        }
      },
      "id": "3YsKskZJr1kU",
      "execution_count": 124,
      "outputs": [
        {
          "output_type": "display_data",
          "data": {
            "text/plain": [
              "<Figure size 432x288 with 1 Axes>"
            ],
            "image/png": "[encoded data removed]"
          },
          "metadata": {
            "needs_background": "light"
          }
        }
      ]
    },
    {
      "cell_type": "markdown",
      "source": [
        "It seems K=4 is the elbow"
      ],
      "metadata": {
        "id": "6wuYprEhtGeE"
      },
      "id": "6wuYprEhtGeE"
    },
    {
      "cell_type": "code",
      "source": [
        "df=pd.DataFrame(series)\n",
        "label1=df.copy()"
      ],
      "metadata": {
        "id": "cobWxSPht-LG"
      },
      "id": "cobWxSPht-LG",
      "execution_count": 125,
      "outputs": []
    },
    {
      "cell_type": "markdown",
      "source": [
        "We repeat Kmeans with 30 random states as 30 already is a statisically large sample size"
      ],
      "metadata": {
        "id": "Rb4iZoSHtY4p"
      },
      "id": "Rb4iZoSHtY4p"
    },
    {
      "cell_type": "code",
      "source": [
        "maxInertia=float(\"INF\")\n",
        "bestkmeans=None\n",
        "for i in range(30):\n",
        "  kmeanModel = KMeans(n_clusters=4,random_state=i).fit(X)\n",
        "  kmeanModel.fit(X)\n",
        "  if kmeanModel.inertia_<maxInertia:\n",
        "    print(f\"better clusters found with inertia = {kmeanModel.inertia_} at \\n{kmeanModel.cluster_centers_}\")\n",
        "    bestkmeans=kmeanModel\n",
        "    maxInertia=kmeanModel.inertia_\n"
      ],
      "metadata": {
        "colab": {
          "base_uri": "https://localhost:8080/"
        },
        "id": "JyfxAR6IsKSz",
        "outputId": "02d99514-3fd5-4c59-f098-bcf7773a4599"
      },
      "id": "JyfxAR6IsKSz",
      "execution_count": 126,
      "outputs": [
        {
          "output_type": "stream",
          "name": "stdout",
          "text": [
            "better clusters found with inertia = 4447.283591952056 at \n",
            "[[-0.33006697]\n",
            " [ 1.12126491]\n",
            " [-1.94281256]\n",
            " [ 0.34058123]]\n",
            "better clusters found with inertia = 4445.895119846266 at \n",
            "[[-0.33867348]\n",
            " [ 1.11751472]\n",
            " [-1.94513759]\n",
            " [ 0.32708314]]\n"
          ]
        }
      ]
    },
    {
      "cell_type": "code",
      "source": [
        "label1[\"label\"]=bestkmeans.labels_"
      ],
      "metadata": {
        "id": "KcCy4m7wtWNK"
      },
      "id": "KcCy4m7wtWNK",
      "execution_count": 127,
      "outputs": []
    },
    {
      "cell_type": "code",
      "source": [
        "bestkmeans.cluster_centers_"
      ],
      "metadata": {
        "colab": {
          "base_uri": "https://localhost:8080/"
        },
        "id": "sDNK-n5ruxpP",
        "outputId": "aa52a478-684f-48cc-8eda-eb85054f8b84"
      },
      "id": "sDNK-n5ruxpP",
      "execution_count": 128,
      "outputs": [
        {
          "output_type": "execute_result",
          "data": {
            "text/plain": [
              "array([[-0.33867348],\n",
              "       [ 1.11751472],\n",
              "       [-1.94513759],\n",
              "       [ 0.32708314]])"
            ]
          },
          "metadata": {},
          "execution_count": 128
        }
      ]
    },
    {
      "cell_type": "markdown",
      "source": [
        "Cluster 1,4 are neutral, cluster 1 is bad, cluster 2 is good. We can compress the groups into 2 classes later as we would be losing information if we compress them before we add into our neural network/logistic regression"
      ],
      "metadata": {
        "id": "wsokp930u2Ja"
      },
      "id": "wsokp930u2Ja"
    },
    {
      "cell_type": "code",
      "source": [
        "label_dict={0:\"neutral\",1:\"bad\",2:\"good\",3:\"neutral\"}"
      ],
      "metadata": {
        "id": "YhF-fOVZu9lg"
      },
      "id": "YhF-fOVZu9lg",
      "execution_count": 129,
      "outputs": []
    },
    {
      "cell_type": "code",
      "source": [
        "out=label1.replace({\"label\":label_dict})"
      ],
      "metadata": {
        "id": "ZV3mlRHYtiQz"
      },
      "id": "ZV3mlRHYtiQz",
      "execution_count": 130,
      "outputs": []
    },
    {
      "cell_type": "code",
      "source": [
        "out.to_csv(\"average_label.csv\")"
      ],
      "metadata": {
        "id": "Xe85YwrQvZf6"
      },
      "id": "Xe85YwrQvZf6",
      "execution_count": 131,
      "outputs": []
    },
    {
      "cell_type": "markdown",
      "source": [
        "We can also try kmeans on the exponential moving average!"
      ],
      "metadata": {
        "id": "Bf8TN-r9uRNJ"
      },
      "id": "Bf8TN-r9uRNJ"
    },
    {
      "cell_type": "code",
      "source": [
        "descDf=credit_record.sort_values(['id','month_bal'],ascending=[True,True])"
      ],
      "metadata": {
        "id": "9ZpzNmfRwQ07"
      },
      "id": "9ZpzNmfRwQ07",
      "execution_count": 132,
      "outputs": []
    },
    {
      "cell_type": "markdown",
      "source": [
        "We set alpha = 0.5 to give receny bias"
      ],
      "metadata": {
        "id": "PdIiSo_QxLFd"
      },
      "id": "PdIiSo_QxLFd"
    },
    {
      "cell_type": "code",
      "source": [
        "eMovingAvg=descDf.groupby(\"id\")[\"status\"].ewm(alpha=0.5).mean()"
      ],
      "metadata": {
        "id": "09HNWZxXuQ4J"
      },
      "id": "09HNWZxXuQ4J",
      "execution_count": 133,
      "outputs": []
    },
    {
      "cell_type": "code",
      "source": [
        "clustering2=eMovingAvg.groupby(\"id\").nth([-1])"
      ],
      "metadata": {
        "id": "3Uj6cpHsj92D"
      },
      "id": "3Uj6cpHsj92D",
      "execution_count": 134,
      "outputs": []
    },
    {
      "cell_type": "markdown",
      "source": [
        "Find k clusters using elbow method"
      ],
      "metadata": {
        "id": "koxz5usjyb1H"
      },
      "id": "koxz5usjyb1H"
    },
    {
      "cell_type": "code",
      "source": [
        "Xevm=StandardScaler().fit_transform(np.array(clustering2).reshape(-1, 1))"
      ],
      "metadata": {
        "id": "jGFiL46SzWxT"
      },
      "id": "jGFiL46SzWxT",
      "execution_count": 135,
      "outputs": []
    },
    {
      "cell_type": "code",
      "source": [
        "distortions = []\n",
        "inertias = []\n",
        "mapping1 = {}\n",
        "mapping2 = {}\n",
        "K = range(1, 10)\n",
        "  \n",
        "for k in K:\n",
        "    # Building and fitting the model\n",
        "    kmeanModel = KMeans(n_clusters=k).fit(Xevm)\n",
        "    kmeanModel.fit(Xevm)\n",
        "  \n",
        "    distortions.append(sum(np.min(cdist(Xevm, kmeanModel.cluster_centers_,\n",
        "                                        'euclidean'), axis=1)) / Xevm.shape[0])\n",
        "    inertias.append(kmeanModel.inertia_)\n",
        "  \n",
        "    mapping1[k] = sum(np.min(cdist(Xevm, kmeanModel.cluster_centers_,\n",
        "                                   'euclidean'), axis=1)) / Xevm.shape[0]\n",
        "    mapping2[k] = kmeanModel.inertia_\n",
        "plt.plot(K, distortions, 'bx-')\n",
        "plt.xlabel('Values of K')\n",
        "plt.ylabel('Distortion')\n",
        "plt.title('The Elbow Method using Distortion')\n",
        "plt.show()"
      ],
      "metadata": {
        "colab": {
          "base_uri": "https://localhost:8080/",
          "height": 295
        },
        "id": "_kunwHb2wggK",
        "outputId": "4bb36c09-6e6a-433d-fee2-5181025431b5"
      },
      "id": "_kunwHb2wggK",
      "execution_count": 136,
      "outputs": [
        {
          "output_type": "display_data",
          "data": {
            "text/plain": [
              "<Figure size 432x288 with 1 Axes>"
            ],
            "image/png": "[encoded data removed]"
          },
          "metadata": {
            "needs_background": "light"
          }
        }
      ]
    },
    {
      "cell_type": "markdown",
      "source": [
        "Seems we choose k=3 here!"
      ],
      "metadata": {
        "id": "QHCqs93GypNj"
      },
      "id": "QHCqs93GypNj"
    },
    {
      "cell_type": "code",
      "source": [
        "max2Inertia=float(\"INF\")\n",
        "best2kmeans=None\n",
        "for i in range(30):\n",
        "  kmeanModel = KMeans(n_clusters=3,random_state=i).fit(Xevm)\n",
        "  kmeanModel.fit(Xevm)\n",
        "  if kmeanModel.inertia_<max2Inertia:\n",
        "    print(f\"better clusters found with inertia = {kmeanModel.inertia_} at \\n{kmeanModel.cluster_centers_}\")\n",
        "    best2kmeans=kmeanModel\n",
        "    max2Inertia=kmeanModel.inertia_\n"
      ],
      "metadata": {
        "colab": {
          "base_uri": "https://localhost:8080/"
        },
        "id": "7apr5In5ykpa",
        "outputId": "04dc6e6c-54cc-4a5e-833d-220a8d9b52a0"
      },
      "id": "7apr5In5ykpa",
      "execution_count": 137,
      "outputs": [
        {
          "output_type": "stream",
          "name": "stdout",
          "text": [
            "better clusters found with inertia = 6056.017686955709 at \n",
            "[[-0.12756356]\n",
            " [ 1.44536237]\n",
            " [-1.58846903]]\n"
          ]
        }
      ]
    },
    {
      "cell_type": "code",
      "source": [
        "label2=df.copy()"
      ],
      "metadata": {
        "id": "2kpJPVMOCnuQ"
      },
      "id": "2kpJPVMOCnuQ",
      "execution_count": 138,
      "outputs": []
    },
    {
      "cell_type": "code",
      "source": [
        "label2[\"label\"]=best2kmeans.labels_"
      ],
      "metadata": {
        "id": "W3xIIjRTyok8"
      },
      "id": "W3xIIjRTyok8",
      "execution_count": 139,
      "outputs": []
    },
    {
      "cell_type": "code",
      "source": [
        "label_dict2={0:\"neutral\",1:\"bad\",2:\"good\"}"
      ],
      "metadata": {
        "id": "PftPjCMHzH5o"
      },
      "id": "PftPjCMHzH5o",
      "execution_count": 141,
      "outputs": []
    },
    {
      "cell_type": "code",
      "source": [
        "out2=label2.replace({\"label\":label_dict2})"
      ],
      "metadata": {
        "id": "X6Yy6o1HzBjc"
      },
      "id": "X6Yy6o1HzBjc",
      "execution_count": 142,
      "outputs": []
    },
    {
      "cell_type": "code",
      "source": [
        "out2.to_csv(\"expo_moving_labels.csv\")"
      ],
      "metadata": {
        "id": "jchi3jge0Hss"
      },
      "id": "jchi3jge0Hss",
      "execution_count": 143,
      "outputs": []
    }
  ],
  "metadata": {
    "kernelspec": {
      "display_name": "Python 3.10.0 64-bit",
      "language": "python",
      "name": "python3"
    },
    "language_info": {
      "codemirror_mode": {
        "name": "ipython",
        "version": 3
      },
      "file_extension": ".py",
      "mimetype": "text/x-python",
      "name": "python",
      "nbconvert_exporter": "python",
      "pygments_lexer": "ipython3",
      "version": "3.10.0"
    },
    "vscode": {
      "interpreter": {
        "hash": "525f50cd3df40e9d57f214b2f9bedadf4bf08c85f9f5b3b27734de5b2eace747"
      }
    },
    "colab": {
      "provenance": [],
      "include_colab_link": true
    }
  },
  "nbformat": 4,
  "nbformat_minor": 5
}