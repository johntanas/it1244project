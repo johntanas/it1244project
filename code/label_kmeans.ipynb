{
  "cells": [
    {
      "cell_type": "markdown",
      "metadata": {
        "id": "view-in-github",
        "colab_type": "text"
      },
      "source": [
        "<a href=\"https://colab.research.google.com/github/johntanas/it1244project/blob/main/code/label_kmeans.ipynb\" target=\"_parent\"><img src=\"https://colab.research.google.com/assets/colab-badge.svg\" alt=\"Open In Colab\"/></a>"
      ]
    },
    {
      "cell_type": "code",
      "execution_count": 107,
      "id": "5179ea71",
      "metadata": {
        "id": "5179ea71"
      },
      "outputs": [],
      "source": [
        "import pandas as pd\n",
        "import numpy as np\n",
        "import warnings\n",
        "warnings.filterwarnings('ignore')"
      ]
    },
    {
      "cell_type": "code",
      "execution_count": 108,
      "id": "cb2b7195",
      "metadata": {
        "id": "cb2b7195"
      },
      "outputs": [],
      "source": [
        "onlinedataset=True\n",
        "if onlinedataset:\n",
        "  url = \"https://drive.google.com/file/d/1TBcW6O9KMRMh9CWf36OIjZwvY-qzH1VS/view?usp=sharing\"\n",
        "  url='https://drive.google.com/uc?id=' + url.split('/')[-2]\n",
        "  credit_record=pd.read_csv(url,index_col=0)\n",
        "  url = \"https://drive.google.com/file/d/1Ktdv2NTyK2AM48yBvbpFezd82-srqj7w/view?usp=sharing\"\n",
        "  url='https://drive.google.com/uc?id=' + url.split('/')[-2]\n",
        "  cleaned_app_df=pd.read_csv(url,index_col=0)\n",
        "else:\n",
        "  pathtodataset=\"./content/application.csv\"\n",
        "  credit_record=pd.read_csv(pathtodataset,index_col=0)\n",
        "  pathtoapp=\"./content/cleaned_application.csv\"\n",
        "  cleaned_app_df=pd.read_csv(pathtoapp,index_col=0)"
      ]
    },
    {
      "cell_type": "code",
      "execution_count": 109,
      "id": "de915099",
      "metadata": {
        "colab": {
          "base_uri": "https://localhost:8080/",
          "height": 424
        },
        "id": "de915099",
        "outputId": "bb980308-0e13-4a8d-b141-4906d2a1ebed"
      },
      "outputs": [
        {
          "output_type": "execute_result",
          "data": {
            "text/plain": [
              "              id  month_bal status\n",
              "0        5001711          0      X\n",
              "1        5001711         -1      0\n",
              "2        5001711         -2      0\n",
              "3        5001711         -3      0\n",
              "4        5001712          0      C\n",
              "...          ...        ...    ...\n",
              "1048570  5150487        -25      C\n",
              "1048571  5150487        -26      C\n",
              "1048572  5150487        -27      C\n",
              "1048573  5150487        -28      C\n",
              "1048574  5150487        -29      C\n",
              "\n",
              "[1048575 rows x 3 columns]"
            ],
            "text/html": [
              "\n",
              "  <div id=\"df-f2f06341-425d-4be7-b8f4-a3e46ba5bd07\">\n",
              "    <div class=\"colab-df-container\">\n",
              "      <div>\n",
              "<style scoped>\n",
              "    .dataframe tbody tr th:only-of-type {\n",
              "        vertical-align: middle;\n",
              "    }\n",
              "\n",
              "    .dataframe tbody tr th {\n",
              "        vertical-align: top;\n",
              "    }\n",
              "\n",
              "    .dataframe thead th {\n",
              "        text-align: right;\n",
              "    }\n",
              "</style>\n",
              "<table border=\"1\" class=\"dataframe\">\n",
              "  <thead>\n",
              "    <tr style=\"text-align: right;\">\n",
              "      <th></th>\n",
              "      <th>id</th>\n",
              "      <th>month_bal</th>\n",
              "      <th>status</th>\n",
              "    </tr>\n",
              "  </thead>\n",
              "  <tbody>\n",
              "    <tr>\n",
              "      <th>0</th>\n",
              "      <td>5001711</td>\n",
              "      <td>0</td>\n",
              "      <td>X</td>\n",
              "    </tr>\n",
              "    <tr>\n",
              "      <th>1</th>\n",
              "      <td>5001711</td>\n",
              "      <td>-1</td>\n",
              "      <td>0</td>\n",
              "    </tr>\n",
              "    <tr>\n",
              "      <th>2</th>\n",
              "      <td>5001711</td>\n",
              "      <td>-2</td>\n",
              "      <td>0</td>\n",
              "    </tr>\n",
              "    <tr>\n",
              "      <th>3</th>\n",
              "      <td>5001711</td>\n",
              "      <td>-3</td>\n",
              "      <td>0</td>\n",
              "    </tr>\n",
              "    <tr>\n",
              "      <th>4</th>\n",
              "      <td>5001712</td>\n",
              "      <td>0</td>\n",
              "      <td>C</td>\n",
              "    </tr>\n",
              "    <tr>\n",
              "      <th>...</th>\n",
              "      <td>...</td>\n",
              "      <td>...</td>\n",
              "      <td>...</td>\n",
              "    </tr>\n",
              "    <tr>\n",
              "      <th>1048570</th>\n",
              "      <td>5150487</td>\n",
              "      <td>-25</td>\n",
              "      <td>C</td>\n",
              "    </tr>\n",
              "    <tr>\n",
              "      <th>1048571</th>\n",
              "      <td>5150487</td>\n",
              "      <td>-26</td>\n",
              "      <td>C</td>\n",
              "    </tr>\n",
              "    <tr>\n",
              "      <th>1048572</th>\n",
              "      <td>5150487</td>\n",
              "      <td>-27</td>\n",
              "      <td>C</td>\n",
              "    </tr>\n",
              "    <tr>\n",
              "      <th>1048573</th>\n",
              "      <td>5150487</td>\n",
              "      <td>-28</td>\n",
              "      <td>C</td>\n",
              "    </tr>\n",
              "    <tr>\n",
              "      <th>1048574</th>\n",
              "      <td>5150487</td>\n",
              "      <td>-29</td>\n",
              "      <td>C</td>\n",
              "    </tr>\n",
              "  </tbody>\n",
              "</table>\n",
              "<p>1048575 rows × 3 columns</p>\n",
              "</div>\n",
              "      <button class=\"colab-df-convert\" onclick=\"convertToInteractive('df-f2f06341-425d-4be7-b8f4-a3e46ba5bd07')\"\n",
              "              title=\"Convert this dataframe to an interactive table.\"\n",
              "              style=\"display:none;\">\n",
              "        \n",
              "  <svg xmlns=\"http://www.w3.org/2000/svg\" height=\"24px\"viewBox=\"0 0 24 24\"\n",
              "       width=\"24px\">\n",
              "    <path d=\"M0 0h24v24H0V0z\" fill=\"none\"/>\n",
              "    <path d=\"M18.56 5.44l.94 2.06.94-2.06 2.06-.94-2.06-.94-.94-2.06-.94 2.06-2.06.94zm-11 1L8.5 8.5l.94-2.06 2.06-.94-2.06-.94L8.5 2.5l-.94 2.06-2.06.94zm10 10l.94 2.06.94-2.06 2.06-.94-2.06-.94-.94-2.06-.94 2.06-2.06.94z\"/><path d=\"M17.41 7.96l-1.37-1.37c-.4-.4-.92-.59-1.43-.59-.52 0-1.04.2-1.43.59L10.3 9.45l-7.72 7.72c-.78.78-.78 2.05 0 2.83L4 21.41c.39.39.9.59 1.41.59.51 0 1.02-.2 1.41-.59l7.78-7.78 2.81-2.81c.8-.78.8-2.07 0-2.86zM5.41 20L4 18.59l7.72-7.72 1.47 1.35L5.41 20z\"/>\n",
              "  </svg>\n",
              "      </button>\n",
              "      \n",
              "  <style>\n",
              "    .colab-df-container {\n",
              "      display:flex;\n",
              "      flex-wrap:wrap;\n",
              "      gap: 12px;\n",
              "    }\n",
              "\n",
              "    .colab-df-convert {\n",
              "      background-color: #E8F0FE;\n",
              "      border: none;\n",
              "      border-radius: 50%;\n",
              "      cursor: pointer;\n",
              "      display: none;\n",
              "      fill: #1967D2;\n",
              "      height: 32px;\n",
              "      padding: 0 0 0 0;\n",
              "      width: 32px;\n",
              "    }\n",
              "\n",
              "    .colab-df-convert:hover {\n",
              "      background-color: #E2EBFA;\n",
              "      box-shadow: 0px 1px 2px rgba(60, 64, 67, 0.3), 0px 1px 3px 1px rgba(60, 64, 67, 0.15);\n",
              "      fill: #174EA6;\n",
              "    }\n",
              "\n",
              "    [theme=dark] .colab-df-convert {\n",
              "      background-color: #3B4455;\n",
              "      fill: #D2E3FC;\n",
              "    }\n",
              "\n",
              "    [theme=dark] .colab-df-convert:hover {\n",
              "      background-color: #434B5C;\n",
              "      box-shadow: 0px 1px 3px 1px rgba(0, 0, 0, 0.15);\n",
              "      filter: drop-shadow(0px 1px 2px rgba(0, 0, 0, 0.3));\n",
              "      fill: #FFFFFF;\n",
              "    }\n",
              "  </style>\n",
              "\n",
              "      <script>\n",
              "        const buttonEl =\n",
              "          document.querySelector('#df-f2f06341-425d-4be7-b8f4-a3e46ba5bd07 button.colab-df-convert');\n",
              "        buttonEl.style.display =\n",
              "          google.colab.kernel.accessAllowed ? 'block' : 'none';\n",
              "\n",
              "        async function convertToInteractive(key) {\n",
              "          const element = document.querySelector('#df-f2f06341-425d-4be7-b8f4-a3e46ba5bd07');\n",
              "          const dataTable =\n",
              "            await google.colab.kernel.invokeFunction('convertToInteractive',\n",
              "                                                     [key], {});\n",
              "          if (!dataTable) return;\n",
              "\n",
              "          const docLinkHtml = 'Like what you see? Visit the ' +\n",
              "            '<a target=\"_blank\" href=https://colab.research.google.com/notebooks/data_table.ipynb>data table notebook</a>'\n",
              "            + ' to learn more about interactive tables.';\n",
              "          element.innerHTML = '';\n",
              "          dataTable['output_type'] = 'display_data';\n",
              "          await google.colab.output.renderOutput(dataTable, element);\n",
              "          const docLink = document.createElement('div');\n",
              "          docLink.innerHTML = docLinkHtml;\n",
              "          element.appendChild(docLink);\n",
              "        }\n",
              "      </script>\n",
              "    </div>\n",
              "  </div>\n",
              "  "
            ]
          },
          "metadata": {},
          "execution_count": 109
        }
      ],
      "source": [
        "credit_record"
      ]
    },
    {
      "cell_type": "code",
      "execution_count": 110,
      "id": "211c0fbd",
      "metadata": {
        "colab": {
          "base_uri": "https://localhost:8080/"
        },
        "id": "211c0fbd",
        "outputId": "79fa6230-653a-4eef-811c-531c29cc35b8"
      },
      "outputs": [
        {
          "output_type": "execute_result",
          "data": {
            "text/plain": [
              "(array([  0,  -1,  -2,  -3,  -4,  -5,  -6,  -7,  -8,  -9, -10, -11, -12,\n",
              "        -13, -14, -15, -16, -17, -18, -19, -20, -21, -22, -23, -24, -25,\n",
              "        -26, -27, -28, -29, -30, -31, -32, -33, -34, -35, -36, -37, -38,\n",
              "        -39, -40, -41, -42, -43, -44, -45, -46, -47, -48, -49, -50, -51,\n",
              "        -52, -53, -54, -55, -56, -57, -58, -59, -60]),\n",
              " array(['X', '0', 'C', '1', '2', '3', '4', '5'], dtype=object))"
            ]
          },
          "metadata": {},
          "execution_count": 110
        }
      ],
      "source": [
        "credit_record[\"month_bal\"].unique(),credit_record[\"status\"].unique()"
      ]
    },
    {
      "cell_type": "code",
      "source": [
        "to_avg={\"X\":-1,\"C\":0}\n",
        "for i in range(6):\n",
        "  to_avg[str(i)]=i+1"
      ],
      "metadata": {
        "id": "w2tYpYyrqR7q"
      },
      "id": "w2tYpYyrqR7q",
      "execution_count": 111,
      "outputs": []
    },
    {
      "cell_type": "code",
      "source": [
        "\n",
        "from sklearn.cluster import KMeans\n",
        "from sklearn import metrics\n",
        "from scipy.spatial.distance import cdist\n",
        "import numpy as np\n",
        "import matplotlib.pyplot as plt"
      ],
      "metadata": {
        "id": "tOILpQS-rupf"
      },
      "id": "tOILpQS-rupf",
      "execution_count": 112,
      "outputs": []
    },
    {
      "cell_type": "code",
      "source": [
        "credit_record=credit_record.replace({\"status\":to_avg})"
      ],
      "metadata": {
        "id": "UbT-BICxq1W_"
      },
      "id": "UbT-BICxq1W_",
      "execution_count": 113,
      "outputs": []
    },
    {
      "cell_type": "code",
      "source": [
        "credit_record"
      ],
      "metadata": {
        "colab": {
          "base_uri": "https://localhost:8080/",
          "height": 424
        },
        "id": "TMcg6JZ-uUF9",
        "outputId": "7ed3d033-f598-4288-8b6d-fac77ac4fd3f"
      },
      "id": "TMcg6JZ-uUF9",
      "execution_count": 114,
      "outputs": [
        {
          "output_type": "execute_result",
          "data": {
            "text/plain": [
              "              id  month_bal  status\n",
              "0        5001711          0      -1\n",
              "1        5001711         -1       1\n",
              "2        5001711         -2       1\n",
              "3        5001711         -3       1\n",
              "4        5001712          0       0\n",
              "...          ...        ...     ...\n",
              "1048570  5150487        -25       0\n",
              "1048571  5150487        -26       0\n",
              "1048572  5150487        -27       0\n",
              "1048573  5150487        -28       0\n",
              "1048574  5150487        -29       0\n",
              "\n",
              "[1048575 rows x 3 columns]"
            ],
            "text/html": [
              "\n",
              "  <div id=\"df-17ec654c-120e-41fd-a680-73479f224b21\">\n",
              "    <div class=\"colab-df-container\">\n",
              "      <div>\n",
              "<style scoped>\n",
              "    .dataframe tbody tr th:only-of-type {\n",
              "        vertical-align: middle;\n",
              "    }\n",
              "\n",
              "    .dataframe tbody tr th {\n",
              "        vertical-align: top;\n",
              "    }\n",
              "\n",
              "    .dataframe thead th {\n",
              "        text-align: right;\n",
              "    }\n",
              "</style>\n",
              "<table border=\"1\" class=\"dataframe\">\n",
              "  <thead>\n",
              "    <tr style=\"text-align: right;\">\n",
              "      <th></th>\n",
              "      <th>id</th>\n",
              "      <th>month_bal</th>\n",
              "      <th>status</th>\n",
              "    </tr>\n",
              "  </thead>\n",
              "  <tbody>\n",
              "    <tr>\n",
              "      <th>0</th>\n",
              "      <td>5001711</td>\n",
              "      <td>0</td>\n",
              "      <td>-1</td>\n",
              "    </tr>\n",
              "    <tr>\n",
              "      <th>1</th>\n",
              "      <td>5001711</td>\n",
              "      <td>-1</td>\n",
              "      <td>1</td>\n",
              "    </tr>\n",
              "    <tr>\n",
              "      <th>2</th>\n",
              "      <td>5001711</td>\n",
              "      <td>-2</td>\n",
              "      <td>1</td>\n",
              "    </tr>\n",
              "    <tr>\n",
              "      <th>3</th>\n",
              "      <td>5001711</td>\n",
              "      <td>-3</td>\n",
              "      <td>1</td>\n",
              "    </tr>\n",
              "    <tr>\n",
              "      <th>4</th>\n",
              "      <td>5001712</td>\n",
              "      <td>0</td>\n",
              "      <td>0</td>\n",
              "    </tr>\n",
              "    <tr>\n",
              "      <th>...</th>\n",
              "      <td>...</td>\n",
              "      <td>...</td>\n",
              "      <td>...</td>\n",
              "    </tr>\n",
              "    <tr>\n",
              "      <th>1048570</th>\n",
              "      <td>5150487</td>\n",
              "      <td>-25</td>\n",
              "      <td>0</td>\n",
              "    </tr>\n",
              "    <tr>\n",
              "      <th>1048571</th>\n",
              "      <td>5150487</td>\n",
              "      <td>-26</td>\n",
              "      <td>0</td>\n",
              "    </tr>\n",
              "    <tr>\n",
              "      <th>1048572</th>\n",
              "      <td>5150487</td>\n",
              "      <td>-27</td>\n",
              "      <td>0</td>\n",
              "    </tr>\n",
              "    <tr>\n",
              "      <th>1048573</th>\n",
              "      <td>5150487</td>\n",
              "      <td>-28</td>\n",
              "      <td>0</td>\n",
              "    </tr>\n",
              "    <tr>\n",
              "      <th>1048574</th>\n",
              "      <td>5150487</td>\n",
              "      <td>-29</td>\n",
              "      <td>0</td>\n",
              "    </tr>\n",
              "  </tbody>\n",
              "</table>\n",
              "<p>1048575 rows × 3 columns</p>\n",
              "</div>\n",
              "      <button class=\"colab-df-convert\" onclick=\"convertToInteractive('df-17ec654c-120e-41fd-a680-73479f224b21')\"\n",
              "              title=\"Convert this dataframe to an interactive table.\"\n",
              "              style=\"display:none;\">\n",
              "        \n",
              "  <svg xmlns=\"http://www.w3.org/2000/svg\" height=\"24px\"viewBox=\"0 0 24 24\"\n",
              "       width=\"24px\">\n",
              "    <path d=\"M0 0h24v24H0V0z\" fill=\"none\"/>\n",
              "    <path d=\"M18.56 5.44l.94 2.06.94-2.06 2.06-.94-2.06-.94-.94-2.06-.94 2.06-2.06.94zm-11 1L8.5 8.5l.94-2.06 2.06-.94-2.06-.94L8.5 2.5l-.94 2.06-2.06.94zm10 10l.94 2.06.94-2.06 2.06-.94-2.06-.94-.94-2.06-.94 2.06-2.06.94z\"/><path d=\"M17.41 7.96l-1.37-1.37c-.4-.4-.92-.59-1.43-.59-.52 0-1.04.2-1.43.59L10.3 9.45l-7.72 7.72c-.78.78-.78 2.05 0 2.83L4 21.41c.39.39.9.59 1.41.59.51 0 1.02-.2 1.41-.59l7.78-7.78 2.81-2.81c.8-.78.8-2.07 0-2.86zM5.41 20L4 18.59l7.72-7.72 1.47 1.35L5.41 20z\"/>\n",
              "  </svg>\n",
              "      </button>\n",
              "      \n",
              "  <style>\n",
              "    .colab-df-container {\n",
              "      display:flex;\n",
              "      flex-wrap:wrap;\n",
              "      gap: 12px;\n",
              "    }\n",
              "\n",
              "    .colab-df-convert {\n",
              "      background-color: #E8F0FE;\n",
              "      border: none;\n",
              "      border-radius: 50%;\n",
              "      cursor: pointer;\n",
              "      display: none;\n",
              "      fill: #1967D2;\n",
              "      height: 32px;\n",
              "      padding: 0 0 0 0;\n",
              "      width: 32px;\n",
              "    }\n",
              "\n",
              "    .colab-df-convert:hover {\n",
              "      background-color: #E2EBFA;\n",
              "      box-shadow: 0px 1px 2px rgba(60, 64, 67, 0.3), 0px 1px 3px 1px rgba(60, 64, 67, 0.15);\n",
              "      fill: #174EA6;\n",
              "    }\n",
              "\n",
              "    [theme=dark] .colab-df-convert {\n",
              "      background-color: #3B4455;\n",
              "      fill: #D2E3FC;\n",
              "    }\n",
              "\n",
              "    [theme=dark] .colab-df-convert:hover {\n",
              "      background-color: #434B5C;\n",
              "      box-shadow: 0px 1px 3px 1px rgba(0, 0, 0, 0.15);\n",
              "      filter: drop-shadow(0px 1px 2px rgba(0, 0, 0, 0.3));\n",
              "      fill: #FFFFFF;\n",
              "    }\n",
              "  </style>\n",
              "\n",
              "      <script>\n",
              "        const buttonEl =\n",
              "          document.querySelector('#df-17ec654c-120e-41fd-a680-73479f224b21 button.colab-df-convert');\n",
              "        buttonEl.style.display =\n",
              "          google.colab.kernel.accessAllowed ? 'block' : 'none';\n",
              "\n",
              "        async function convertToInteractive(key) {\n",
              "          const element = document.querySelector('#df-17ec654c-120e-41fd-a680-73479f224b21');\n",
              "          const dataTable =\n",
              "            await google.colab.kernel.invokeFunction('convertToInteractive',\n",
              "                                                     [key], {});\n",
              "          if (!dataTable) return;\n",
              "\n",
              "          const docLinkHtml = 'Like what you see? Visit the ' +\n",
              "            '<a target=\"_blank\" href=https://colab.research.google.com/notebooks/data_table.ipynb>data table notebook</a>'\n",
              "            + ' to learn more about interactive tables.';\n",
              "          element.innerHTML = '';\n",
              "          dataTable['output_type'] = 'display_data';\n",
              "          await google.colab.output.renderOutput(dataTable, element);\n",
              "          const docLink = document.createElement('div');\n",
              "          docLink.innerHTML = docLinkHtml;\n",
              "          element.appendChild(docLink);\n",
              "        }\n",
              "      </script>\n",
              "    </div>\n",
              "  </div>\n",
              "  "
            ]
          },
          "metadata": {},
          "execution_count": 114
        }
      ]
    },
    {
      "cell_type": "code",
      "source": [
        "series=credit_record.groupby(\"id\")[\"status\"].mean()"
      ],
      "metadata": {
        "id": "3RX7Fit9rO7V"
      },
      "id": "3RX7Fit9rO7V",
      "execution_count": 115,
      "outputs": []
    },
    {
      "cell_type": "code",
      "source": [
        "X=np.array(series).reshape(-1,1)"
      ],
      "metadata": {
        "id": "Jo8CQWWJs3xC"
      },
      "id": "Jo8CQWWJs3xC",
      "execution_count": 116,
      "outputs": []
    },
    {
      "cell_type": "markdown",
      "source": [
        "https://www.geeksforgeeks.org/elbow-method-for-optimal-value-of-k-in-kmeans/"
      ],
      "metadata": {
        "id": "Fu0g3QLma2UI"
      },
      "id": "Fu0g3QLma2UI"
    },
    {
      "cell_type": "code",
      "source": [
        "distortions = []\n",
        "inertias = []\n",
        "mapping1 = {}\n",
        "mapping2 = {}\n",
        "K = range(1, 10)\n",
        "  \n",
        "for k in K:\n",
        "    # Building and fitting the model\n",
        "    kmeanModel = KMeans(n_clusters=k).fit(X)\n",
        "    kmeanModel.fit(X)\n",
        "  \n",
        "    distortions.append(sum(np.min(cdist(X, kmeanModel.cluster_centers_,\n",
        "                                        'euclidean'), axis=1)) / X.shape[0])\n",
        "    inertias.append(kmeanModel.inertia_)\n",
        "  \n",
        "    mapping1[k] = sum(np.min(cdist(X, kmeanModel.cluster_centers_,\n",
        "                                   'euclidean'), axis=1)) / X.shape[0]\n",
        "    mapping2[k] = kmeanModel.inertia_"
      ],
      "metadata": {
        "id": "s5ri04IOrnYa"
      },
      "id": "s5ri04IOrnYa",
      "execution_count": 117,
      "outputs": []
    },
    {
      "cell_type": "code",
      "source": [
        "plt.plot(K, distortions, 'bx-')\n",
        "plt.xlabel('Values of K')\n",
        "plt.ylabel('Distortion')\n",
        "plt.title('The Elbow Method using Distortion')\n",
        "plt.show()"
      ],
      "metadata": {
        "id": "3YsKskZJr1kU",
        "outputId": "a46181f0-f52d-4ec4-f7bf-4f97a0adc7fc",
        "colab": {
          "base_uri": "https://localhost:8080/",
          "height": 295
        }
      },
      "id": "3YsKskZJr1kU",
      "execution_count": 118,
      "outputs": [
        {
          "output_type": "display_data",
          "data": {
            "text/plain": [
              "<Figure size 432x288 with 1 Axes>"
            ],
            "image/png": "[encoded data removed]"
          },
          "metadata": {
            "needs_background": "light"
          }
        }
      ]
    },
    {
      "cell_type": "markdown",
      "source": [
        "It seems K=4 is the elbow"
      ],
      "metadata": {
        "id": "6wuYprEhtGeE"
      },
      "id": "6wuYprEhtGeE"
    },
    {
      "cell_type": "code",
      "source": [
        "df=pd.DataFrame(series)\n",
        "label1=df.copy()"
      ],
      "metadata": {
        "id": "cobWxSPht-LG"
      },
      "id": "cobWxSPht-LG",
      "execution_count": 119,
      "outputs": []
    },
    {
      "cell_type": "markdown",
      "source": [
        "We repeat Kmeans with 30 random states as 30 already is a statisically large sample size"
      ],
      "metadata": {
        "id": "Rb4iZoSHtY4p"
      },
      "id": "Rb4iZoSHtY4p"
    },
    {
      "cell_type": "code",
      "source": [
        "maxInertia=float(\"INF\")\n",
        "bestkmeans=None\n",
        "for i in range(30):\n",
        "  kmeanModel = KMeans(n_clusters=4,random_state=i).fit(X)\n",
        "  kmeanModel.fit(X)\n",
        "  if kmeanModel.inertia_<maxInertia:\n",
        "    print(f\"better clusters found with inertia = {kmeanModel.inertia_} at \\n{kmeanModel.cluster_centers_}\")\n",
        "    bestkmeans=kmeanModel\n",
        "    maxInertia=kmeanModel.inertia_\n"
      ],
      "metadata": {
        "colab": {
          "base_uri": "https://localhost:8080/"
        },
        "id": "JyfxAR6IsKSz",
        "outputId": "1b254260-7804-4648-cf30-13940ee248d6"
      },
      "id": "JyfxAR6IsKSz",
      "execution_count": 120,
      "outputs": [
        {
          "output_type": "stream",
          "name": "stdout",
          "text": [
            "better clusters found with inertia = 1695.9139047710523 at \n",
            "[[ 0.07942569]\n",
            " [ 0.97565929]\n",
            " [-0.91648491]\n",
            " [ 0.49356766]]\n",
            "better clusters found with inertia = 1695.459437499488 at \n",
            "[[ 0.07233007]\n",
            " [ 0.97330256]\n",
            " [-0.91823825]\n",
            " [ 0.48310344]]\n",
            "better clusters found with inertia = 1695.3844909516647 at \n",
            "[[ 0.9734455 ]\n",
            " [ 0.07469211]\n",
            " [-0.91792067]\n",
            " [ 0.48606976]]\n",
            "better clusters found with inertia = 1695.3844289459207 at \n",
            "[[ 0.07411095]\n",
            " [ 0.48523226]\n",
            " [-0.91792067]\n",
            " [ 0.97334345]]\n"
          ]
        }
      ]
    },
    {
      "cell_type": "code",
      "source": [
        "label1[\"label\"]=bestkmeans.labels_"
      ],
      "metadata": {
        "id": "KcCy4m7wtWNK"
      },
      "id": "KcCy4m7wtWNK",
      "execution_count": 121,
      "outputs": []
    },
    {
      "cell_type": "code",
      "source": [
        "bestkmeans.cluster_centers_"
      ],
      "metadata": {
        "colab": {
          "base_uri": "https://localhost:8080/"
        },
        "id": "sDNK-n5ruxpP",
        "outputId": "08042ed0-2e89-4f12-b43c-1f0eca211964"
      },
      "id": "sDNK-n5ruxpP",
      "execution_count": 122,
      "outputs": [
        {
          "output_type": "execute_result",
          "data": {
            "text/plain": [
              "array([[ 0.07411095],\n",
              "       [ 0.48523226],\n",
              "       [-0.91792067],\n",
              "       [ 0.97334345]])"
            ]
          },
          "metadata": {},
          "execution_count": 122
        }
      ]
    },
    {
      "cell_type": "markdown",
      "source": [
        "Cluster 0 is neutral, cluster 1 is bad, cluster 2 is good and cluster 3 is very bad. We can compress the groups into 2 classes later as we would be losing information if we compress them before we add into our neural network/logistic regression"
      ],
      "metadata": {
        "id": "wsokp930u2Ja"
      },
      "id": "wsokp930u2Ja"
    },
    {
      "cell_type": "code",
      "source": [
        "label_dict={0:\"neutral\",1:\"bad\",2:\"good\",3:\"very bad\"}"
      ],
      "metadata": {
        "id": "YhF-fOVZu9lg"
      },
      "id": "YhF-fOVZu9lg",
      "execution_count": 123,
      "outputs": []
    },
    {
      "cell_type": "code",
      "source": [
        "out=label1.drop(columns=[\"status\"]).replace({\"label\":label_dict})"
      ],
      "metadata": {
        "id": "ZV3mlRHYtiQz"
      },
      "id": "ZV3mlRHYtiQz",
      "execution_count": 124,
      "outputs": []
    },
    {
      "cell_type": "code",
      "source": [
        "out.to_csv(\"average_label.csv\")"
      ],
      "metadata": {
        "id": "Xe85YwrQvZf6"
      },
      "id": "Xe85YwrQvZf6",
      "execution_count": 125,
      "outputs": []
    },
    {
      "cell_type": "markdown",
      "source": [
        "We can also try kmeans on the exponential moving average!"
      ],
      "metadata": {
        "id": "Bf8TN-r9uRNJ"
      },
      "id": "Bf8TN-r9uRNJ"
    },
    {
      "cell_type": "code",
      "source": [
        "descDf=credit_record.sort_values(['id','month_bal'],ascending=[True,True])"
      ],
      "metadata": {
        "id": "9ZpzNmfRwQ07"
      },
      "id": "9ZpzNmfRwQ07",
      "execution_count": 126,
      "outputs": []
    },
    {
      "cell_type": "code",
      "source": [
        "descDf"
      ],
      "metadata": {
        "colab": {
          "base_uri": "https://localhost:8080/",
          "height": 424
        },
        "id": "ioN3qWbXwsWs",
        "outputId": "733b4601-9cbc-4e0a-9cb2-f79a3364711d"
      },
      "id": "ioN3qWbXwsWs",
      "execution_count": 127,
      "outputs": [
        {
          "output_type": "execute_result",
          "data": {
            "text/plain": [
              "              id  month_bal  status\n",
              "3        5001711         -3       1\n",
              "2        5001711         -2       1\n",
              "1        5001711         -1       1\n",
              "0        5001711          0      -1\n",
              "22       5001712        -18       1\n",
              "...          ...        ...     ...\n",
              "1048549  5150487         -4       0\n",
              "1048548  5150487         -3       0\n",
              "1048547  5150487         -2       0\n",
              "1048546  5150487         -1       0\n",
              "1048545  5150487          0       0\n",
              "\n",
              "[1048575 rows x 3 columns]"
            ],
            "text/html": [
              "\n",
              "  <div id=\"df-63c5c0f3-88f6-4c0c-894f-739dd975af69\">\n",
              "    <div class=\"colab-df-container\">\n",
              "      <div>\n",
              "<style scoped>\n",
              "    .dataframe tbody tr th:only-of-type {\n",
              "        vertical-align: middle;\n",
              "    }\n",
              "\n",
              "    .dataframe tbody tr th {\n",
              "        vertical-align: top;\n",
              "    }\n",
              "\n",
              "    .dataframe thead th {\n",
              "        text-align: right;\n",
              "    }\n",
              "</style>\n",
              "<table border=\"1\" class=\"dataframe\">\n",
              "  <thead>\n",
              "    <tr style=\"text-align: right;\">\n",
              "      <th></th>\n",
              "      <th>id</th>\n",
              "      <th>month_bal</th>\n",
              "      <th>status</th>\n",
              "    </tr>\n",
              "  </thead>\n",
              "  <tbody>\n",
              "    <tr>\n",
              "      <th>3</th>\n",
              "      <td>5001711</td>\n",
              "      <td>-3</td>\n",
              "      <td>1</td>\n",
              "    </tr>\n",
              "    <tr>\n",
              "      <th>2</th>\n",
              "      <td>5001711</td>\n",
              "      <td>-2</td>\n",
              "      <td>1</td>\n",
              "    </tr>\n",
              "    <tr>\n",
              "      <th>1</th>\n",
              "      <td>5001711</td>\n",
              "      <td>-1</td>\n",
              "      <td>1</td>\n",
              "    </tr>\n",
              "    <tr>\n",
              "      <th>0</th>\n",
              "      <td>5001711</td>\n",
              "      <td>0</td>\n",
              "      <td>-1</td>\n",
              "    </tr>\n",
              "    <tr>\n",
              "      <th>22</th>\n",
              "      <td>5001712</td>\n",
              "      <td>-18</td>\n",
              "      <td>1</td>\n",
              "    </tr>\n",
              "    <tr>\n",
              "      <th>...</th>\n",
              "      <td>...</td>\n",
              "      <td>...</td>\n",
              "      <td>...</td>\n",
              "    </tr>\n",
              "    <tr>\n",
              "      <th>1048549</th>\n",
              "      <td>5150487</td>\n",
              "      <td>-4</td>\n",
              "      <td>0</td>\n",
              "    </tr>\n",
              "    <tr>\n",
              "      <th>1048548</th>\n",
              "      <td>5150487</td>\n",
              "      <td>-3</td>\n",
              "      <td>0</td>\n",
              "    </tr>\n",
              "    <tr>\n",
              "      <th>1048547</th>\n",
              "      <td>5150487</td>\n",
              "      <td>-2</td>\n",
              "      <td>0</td>\n",
              "    </tr>\n",
              "    <tr>\n",
              "      <th>1048546</th>\n",
              "      <td>5150487</td>\n",
              "      <td>-1</td>\n",
              "      <td>0</td>\n",
              "    </tr>\n",
              "    <tr>\n",
              "      <th>1048545</th>\n",
              "      <td>5150487</td>\n",
              "      <td>0</td>\n",
              "      <td>0</td>\n",
              "    </tr>\n",
              "  </tbody>\n",
              "</table>\n",
              "<p>1048575 rows × 3 columns</p>\n",
              "</div>\n",
              "      <button class=\"colab-df-convert\" onclick=\"convertToInteractive('df-63c5c0f3-88f6-4c0c-894f-739dd975af69')\"\n",
              "              title=\"Convert this dataframe to an interactive table.\"\n",
              "              style=\"display:none;\">\n",
              "        \n",
              "  <svg xmlns=\"http://www.w3.org/2000/svg\" height=\"24px\"viewBox=\"0 0 24 24\"\n",
              "       width=\"24px\">\n",
              "    <path d=\"M0 0h24v24H0V0z\" fill=\"none\"/>\n",
              "    <path d=\"M18.56 5.44l.94 2.06.94-2.06 2.06-.94-2.06-.94-.94-2.06-.94 2.06-2.06.94zm-11 1L8.5 8.5l.94-2.06 2.06-.94-2.06-.94L8.5 2.5l-.94 2.06-2.06.94zm10 10l.94 2.06.94-2.06 2.06-.94-2.06-.94-.94-2.06-.94 2.06-2.06.94z\"/><path d=\"M17.41 7.96l-1.37-1.37c-.4-.4-.92-.59-1.43-.59-.52 0-1.04.2-1.43.59L10.3 9.45l-7.72 7.72c-.78.78-.78 2.05 0 2.83L4 21.41c.39.39.9.59 1.41.59.51 0 1.02-.2 1.41-.59l7.78-7.78 2.81-2.81c.8-.78.8-2.07 0-2.86zM5.41 20L4 18.59l7.72-7.72 1.47 1.35L5.41 20z\"/>\n",
              "  </svg>\n",
              "      </button>\n",
              "      \n",
              "  <style>\n",
              "    .colab-df-container {\n",
              "      display:flex;\n",
              "      flex-wrap:wrap;\n",
              "      gap: 12px;\n",
              "    }\n",
              "\n",
              "    .colab-df-convert {\n",
              "      background-color: #E8F0FE;\n",
              "      border: none;\n",
              "      border-radius: 50%;\n",
              "      cursor: pointer;\n",
              "      display: none;\n",
              "      fill: #1967D2;\n",
              "      height: 32px;\n",
              "      padding: 0 0 0 0;\n",
              "      width: 32px;\n",
              "    }\n",
              "\n",
              "    .colab-df-convert:hover {\n",
              "      background-color: #E2EBFA;\n",
              "      box-shadow: 0px 1px 2px rgba(60, 64, 67, 0.3), 0px 1px 3px 1px rgba(60, 64, 67, 0.15);\n",
              "      fill: #174EA6;\n",
              "    }\n",
              "\n",
              "    [theme=dark] .colab-df-convert {\n",
              "      background-color: #3B4455;\n",
              "      fill: #D2E3FC;\n",
              "    }\n",
              "\n",
              "    [theme=dark] .colab-df-convert:hover {\n",
              "      background-color: #434B5C;\n",
              "      box-shadow: 0px 1px 3px 1px rgba(0, 0, 0, 0.15);\n",
              "      filter: drop-shadow(0px 1px 2px rgba(0, 0, 0, 0.3));\n",
              "      fill: #FFFFFF;\n",
              "    }\n",
              "  </style>\n",
              "\n",
              "      <script>\n",
              "        const buttonEl =\n",
              "          document.querySelector('#df-63c5c0f3-88f6-4c0c-894f-739dd975af69 button.colab-df-convert');\n",
              "        buttonEl.style.display =\n",
              "          google.colab.kernel.accessAllowed ? 'block' : 'none';\n",
              "\n",
              "        async function convertToInteractive(key) {\n",
              "          const element = document.querySelector('#df-63c5c0f3-88f6-4c0c-894f-739dd975af69');\n",
              "          const dataTable =\n",
              "            await google.colab.kernel.invokeFunction('convertToInteractive',\n",
              "                                                     [key], {});\n",
              "          if (!dataTable) return;\n",
              "\n",
              "          const docLinkHtml = 'Like what you see? Visit the ' +\n",
              "            '<a target=\"_blank\" href=https://colab.research.google.com/notebooks/data_table.ipynb>data table notebook</a>'\n",
              "            + ' to learn more about interactive tables.';\n",
              "          element.innerHTML = '';\n",
              "          dataTable['output_type'] = 'display_data';\n",
              "          await google.colab.output.renderOutput(dataTable, element);\n",
              "          const docLink = document.createElement('div');\n",
              "          docLink.innerHTML = docLinkHtml;\n",
              "          element.appendChild(docLink);\n",
              "        }\n",
              "      </script>\n",
              "    </div>\n",
              "  </div>\n",
              "  "
            ]
          },
          "metadata": {},
          "execution_count": 127
        }
      ]
    },
    {
      "cell_type": "markdown",
      "source": [
        "We set alpha = 1/60 as the max length of the credit record is 60 and pandas will deal with all the lengths < 60 for us"
      ],
      "metadata": {
        "id": "PdIiSo_QxLFd"
      },
      "id": "PdIiSo_QxLFd"
    },
    {
      "cell_type": "code",
      "source": [
        "eMovingAvg=descDf.groupby(\"id\")[\"status\"].ewm(alpha=0.017).mean()"
      ],
      "metadata": {
        "id": "09HNWZxXuQ4J"
      },
      "id": "09HNWZxXuQ4J",
      "execution_count": 128,
      "outputs": []
    },
    {
      "cell_type": "code",
      "source": [
        "clustering2=eMovingAvg.groupby(\"id\").nth([-1])"
      ],
      "metadata": {
        "id": "3Uj6cpHsj92D"
      },
      "id": "3Uj6cpHsj92D",
      "execution_count": 129,
      "outputs": []
    },
    {
      "cell_type": "markdown",
      "source": [
        "Find k clusters using elbow method"
      ],
      "metadata": {
        "id": "koxz5usjyb1H"
      },
      "id": "koxz5usjyb1H"
    },
    {
      "cell_type": "code",
      "source": [
        "clustering2"
      ],
      "metadata": {
        "colab": {
          "base_uri": "https://localhost:8080/"
        },
        "id": "0pDHh57tzZG0",
        "outputId": "db50d7ed-a05e-4547-c273-0d6d805026c8"
      },
      "id": "0pDHh57tzZG0",
      "execution_count": 130,
      "outputs": [
        {
          "output_type": "execute_result",
          "data": {
            "text/plain": [
              "id\n",
              "5001711    0.487068\n",
              "5001712    0.485680\n",
              "5001713   -1.000000\n",
              "5001714   -1.000000\n",
              "5001715   -1.000000\n",
              "             ...   \n",
              "5150482    0.631848\n",
              "5150483   -1.000000\n",
              "5150484    0.914917\n",
              "5150485    1.000000\n",
              "5150487    0.000000\n",
              "Name: status, Length: 45985, dtype: float64"
            ]
          },
          "metadata": {},
          "execution_count": 130
        }
      ]
    },
    {
      "cell_type": "code",
      "source": [
        "Xevm=np.array(clustering2).reshape(-1, 1)"
      ],
      "metadata": {
        "id": "jGFiL46SzWxT"
      },
      "id": "jGFiL46SzWxT",
      "execution_count": 131,
      "outputs": []
    },
    {
      "cell_type": "code",
      "source": [
        "distortions = []\n",
        "inertias = []\n",
        "mapping1 = {}\n",
        "mapping2 = {}\n",
        "K = range(1, 10)\n",
        "  \n",
        "for k in K:\n",
        "    # Building and fitting the model\n",
        "    kmeanModel = KMeans(n_clusters=k).fit(Xevm)\n",
        "    kmeanModel.fit(Xevm)\n",
        "  \n",
        "    distortions.append(sum(np.min(cdist(Xevm, kmeanModel.cluster_centers_,\n",
        "                                        'euclidean'), axis=1)) / Xevm.shape[0])\n",
        "    inertias.append(kmeanModel.inertia_)\n",
        "  \n",
        "    mapping1[k] = sum(np.min(cdist(Xevm, kmeanModel.cluster_centers_,\n",
        "                                   'euclidean'), axis=1)) / Xevm.shape[0]\n",
        "    mapping2[k] = kmeanModel.inertia_\n",
        "plt.plot(K, distortions, 'bx-')\n",
        "plt.xlabel('Values of K')\n",
        "plt.ylabel('Distortion')\n",
        "plt.title('The Elbow Method using Distortion')\n",
        "plt.show()"
      ],
      "metadata": {
        "colab": {
          "base_uri": "https://localhost:8080/",
          "height": 295
        },
        "id": "_kunwHb2wggK",
        "outputId": "d7db4adb-9840-449f-8e8c-526bb2dc40e4"
      },
      "id": "_kunwHb2wggK",
      "execution_count": 132,
      "outputs": [
        {
          "output_type": "display_data",
          "data": {
            "text/plain": [
              "<Figure size 432x288 with 1 Axes>"
            ],
            "image/png": "[encoded data removed]"
          },
          "metadata": {
            "needs_background": "light"
          }
        }
      ]
    },
    {
      "cell_type": "markdown",
      "source": [
        "Seems we choose k=3 here!"
      ],
      "metadata": {
        "id": "QHCqs93GypNj"
      },
      "id": "QHCqs93GypNj"
    },
    {
      "cell_type": "code",
      "source": [
        "max2Inertia=float(\"INF\")\n",
        "best2kmeans=None\n",
        "for i in range(30):\n",
        "  kmeanModel = KMeans(n_clusters=3,random_state=i).fit(Xevm)\n",
        "  kmeanModel.fit(Xevm)\n",
        "  if kmeanModel.inertia_<max2Inertia:\n",
        "    print(f\"better clusters found with inertia = {kmeanModel.inertia_} at \\n{kmeanModel.cluster_centers_}\")\n",
        "    best2kmeans=kmeanModel\n",
        "    max2Inertia=kmeanModel.inertia_\n"
      ],
      "metadata": {
        "colab": {
          "base_uri": "https://localhost:8080/"
        },
        "id": "7apr5In5ykpa",
        "outputId": "3169b314-b3f5-47dd-96b7-21eda891e4be"
      },
      "id": "7apr5In5ykpa",
      "execution_count": 133,
      "outputs": [
        {
          "output_type": "stream",
          "name": "stdout",
          "text": [
            "better clusters found with inertia = 2446.5718854005663 at \n",
            "[[ 0.8860665 ]\n",
            " [ 0.17059367]\n",
            " [-0.90456218]]\n",
            "better clusters found with inertia = 2446.5652322584665 at \n",
            "[[ 0.17032936]\n",
            " [ 0.88604403]\n",
            " [-0.90549149]]\n",
            "better clusters found with inertia = 2446.5563394694195 at \n",
            "[[ 0.16998196]\n",
            " [-0.90532265]\n",
            " [ 0.88545993]]\n"
          ]
        }
      ]
    },
    {
      "cell_type": "code",
      "source": [
        "label2[\"label\"]=best2kmeans.labels_"
      ],
      "metadata": {
        "id": "W3xIIjRTyok8"
      },
      "id": "W3xIIjRTyok8",
      "execution_count": 134,
      "outputs": []
    },
    {
      "cell_type": "code",
      "source": [
        "best2kmeans.cluster_centers_"
      ],
      "metadata": {
        "colab": {
          "base_uri": "https://localhost:8080/"
        },
        "id": "JK2t-MdPy8Y9",
        "outputId": "a472531d-2a42-46f2-a0ba-ae17e2a9df25"
      },
      "id": "JK2t-MdPy8Y9",
      "execution_count": 135,
      "outputs": [
        {
          "output_type": "execute_result",
          "data": {
            "text/plain": [
              "array([[ 0.16998196],\n",
              "       [-0.90532265],\n",
              "       [ 0.88545993]])"
            ]
          },
          "metadata": {},
          "execution_count": 135
        }
      ]
    },
    {
      "cell_type": "code",
      "source": [
        "label_dict2={0:\"neutral\",1:\"good\",2:\"bad\"}"
      ],
      "metadata": {
        "id": "PftPjCMHzH5o"
      },
      "id": "PftPjCMHzH5o",
      "execution_count": 136,
      "outputs": []
    },
    {
      "cell_type": "code",
      "source": [
        "out2=label2.drop(columns=[\"status\"]).replace({\"label\":label_dict2})"
      ],
      "metadata": {
        "id": "X6Yy6o1HzBjc"
      },
      "id": "X6Yy6o1HzBjc",
      "execution_count": 137,
      "outputs": []
    },
    {
      "cell_type": "code",
      "source": [
        "out2.to_csv(\"expo_moving_labels.csv\")"
      ],
      "metadata": {
        "id": "jchi3jge0Hss"
      },
      "id": "jchi3jge0Hss",
      "execution_count": 138,
      "outputs": []
    }
  ],
  "metadata": {
    "kernelspec": {
      "display_name": "Python 3.10.0 64-bit",
      "language": "python",
      "name": "python3"
    },
    "language_info": {
      "codemirror_mode": {
        "name": "ipython",
        "version": 3
      },
      "file_extension": ".py",
      "mimetype": "text/x-python",
      "name": "python",
      "nbconvert_exporter": "python",
      "pygments_lexer": "ipython3",
      "version": "3.10.0"
    },
    "vscode": {
      "interpreter": {
        "hash": "525f50cd3df40e9d57f214b2f9bedadf4bf08c85f9f5b3b27734de5b2eace747"
      }
    },
    "colab": {
      "provenance": [],
      "include_colab_link": true
    }
  },
  "nbformat": 4,
  "nbformat_minor": 5
}