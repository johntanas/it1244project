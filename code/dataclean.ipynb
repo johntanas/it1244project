{
  "cells": [
    {
      "cell_type": "markdown",
      "metadata": {
        "id": "view-in-github",
        "colab_type": "text"
      },
      "source": [
        "<a href=\"https://colab.research.google.com/github/johntanas/it1244project/blob/main/code/dataclean.ipynb\" target=\"_parent\"><img src=\"https://colab.research.google.com/assets/colab-badge.svg\" alt=\"Open In Colab\"/></a>"
      ]
    },
    {
      "cell_type": "code",
      "execution_count": 1,
      "id": "1301147c",
      "metadata": {
        "id": "1301147c"
      },
      "outputs": [],
      "source": [
        "import numpy as np\n",
        "import pandas as pd\n",
        "import matplotlib as mpl\n",
        "import matplotlib.pyplot as plt\n",
        "import seaborn as sns"
      ]
    },
    {
      "cell_type": "code",
      "execution_count": 2,
      "id": "_q1A7524YJfz",
      "metadata": {
        "id": "_q1A7524YJfz"
      },
      "outputs": [],
      "source": [
        "random_state=42"
      ]
    },
    {
      "cell_type": "code",
      "execution_count": 3,
      "id": "ede13b0c",
      "metadata": {
        "id": "ede13b0c"
      },
      "outputs": [],
      "source": [
        "onlinedataset=True\n",
        "if onlinedataset:\n",
        "  url = \"https://drive.google.com/file/d/1sPoe6p1zKBOZQcQWsTTl0wzE9WCreffo/view?usp=sharing\"\n",
        "  url='https://drive.google.com/uc?id=' + url.split('/')[-2]\n",
        "  app_df=pd.read_csv(url,index_col=0)\n",
        "else:\n",
        "  pathtodataset=\"./content/credit_record.csv\"\n",
        "  app_df=pd.read_csv(pathtodataset,index_col=0)"
      ]
    },
    {
      "cell_type": "code",
      "execution_count": 4,
      "id": "28c149ca",
      "metadata": {
        "colab": {
          "base_uri": "https://localhost:8080/",
          "height": 357
        },
        "id": "28c149ca",
        "outputId": "39cd7cec-ac23-4b0d-d948-22334ef2e709"
      },
      "outputs": [
        {
          "output_type": "execute_result",
          "data": {
            "text/plain": [
              "        id gender own_car own_realty  num_child    income  \\\n",
              "0  5008804      M       Y          Y          0  427500.0   \n",
              "1  5008805      M       Y          Y          0  427500.0   \n",
              "2  5008806      M       Y          Y          0  112500.0   \n",
              "3  5008808      F       N          Y          0  270000.0   \n",
              "4  5008809      F       N          Y          0  270000.0   \n",
              "\n",
              "            income_type                education_level         family_status  \\\n",
              "0               Working               Higher education        Civil marriage   \n",
              "1               Working               Higher education        Civil marriage   \n",
              "2               Working  Secondary / secondary special               Married   \n",
              "3  Commercial associate  Secondary / secondary special  Single / not married   \n",
              "4  Commercial associate  Secondary / secondary special  Single / not married   \n",
              "\n",
              "          house_type  birth_day  employment_length  mobile  work_phone  phone  \\\n",
              "0   Rented apartment     -12005              -4542       1           1      0   \n",
              "1   Rented apartment     -12005              -4542       1           1      0   \n",
              "2  House / apartment     -21474              -1134       1           0      0   \n",
              "3  House / apartment     -19110              -3051       1           0      1   \n",
              "4  House / apartment     -19110              -3051       1           0      1   \n",
              "\n",
              "   email             job  CNT_FAM_MEMBERS  \n",
              "0      0             NaN              2.0  \n",
              "1      0             NaN              2.0  \n",
              "2      0  Security staff              2.0  \n",
              "3      1     Sales staff              1.0  \n",
              "4      1     Sales staff              1.0  "
            ],
            "text/html": [
              "\n",
              "  <div id=\"df-d3733ab2-ac5e-4c83-b51a-e4a895c9809f\">\n",
              "    <div class=\"colab-df-container\">\n",
              "      <div>\n",
              "<style scoped>\n",
              "    .dataframe tbody tr th:only-of-type {\n",
              "        vertical-align: middle;\n",
              "    }\n",
              "\n",
              "    .dataframe tbody tr th {\n",
              "        vertical-align: top;\n",
              "    }\n",
              "\n",
              "    .dataframe thead th {\n",
              "        text-align: right;\n",
              "    }\n",
              "</style>\n",
              "<table border=\"1\" class=\"dataframe\">\n",
              "  <thead>\n",
              "    <tr style=\"text-align: right;\">\n",
              "      <th></th>\n",
              "      <th>id</th>\n",
              "      <th>gender</th>\n",
              "      <th>own_car</th>\n",
              "      <th>own_realty</th>\n",
              "      <th>num_child</th>\n",
              "      <th>income</th>\n",
              "      <th>income_type</th>\n",
              "      <th>education_level</th>\n",
              "      <th>family_status</th>\n",
              "      <th>house_type</th>\n",
              "      <th>birth_day</th>\n",
              "      <th>employment_length</th>\n",
              "      <th>mobile</th>\n",
              "      <th>work_phone</th>\n",
              "      <th>phone</th>\n",
              "      <th>email</th>\n",
              "      <th>job</th>\n",
              "      <th>CNT_FAM_MEMBERS</th>\n",
              "    </tr>\n",
              "  </thead>\n",
              "  <tbody>\n",
              "    <tr>\n",
              "      <th>0</th>\n",
              "      <td>5008804</td>\n",
              "      <td>M</td>\n",
              "      <td>Y</td>\n",
              "      <td>Y</td>\n",
              "      <td>0</td>\n",
              "      <td>427500.0</td>\n",
              "      <td>Working</td>\n",
              "      <td>Higher education</td>\n",
              "      <td>Civil marriage</td>\n",
              "      <td>Rented apartment</td>\n",
              "      <td>-12005</td>\n",
              "      <td>-4542</td>\n",
              "      <td>1</td>\n",
              "      <td>1</td>\n",
              "      <td>0</td>\n",
              "      <td>0</td>\n",
              "      <td>NaN</td>\n",
              "      <td>2.0</td>\n",
              "    </tr>\n",
              "    <tr>\n",
              "      <th>1</th>\n",
              "      <td>5008805</td>\n",
              "      <td>M</td>\n",
              "      <td>Y</td>\n",
              "      <td>Y</td>\n",
              "      <td>0</td>\n",
              "      <td>427500.0</td>\n",
              "      <td>Working</td>\n",
              "      <td>Higher education</td>\n",
              "      <td>Civil marriage</td>\n",
              "      <td>Rented apartment</td>\n",
              "      <td>-12005</td>\n",
              "      <td>-4542</td>\n",
              "      <td>1</td>\n",
              "      <td>1</td>\n",
              "      <td>0</td>\n",
              "      <td>0</td>\n",
              "      <td>NaN</td>\n",
              "      <td>2.0</td>\n",
              "    </tr>\n",
              "    <tr>\n",
              "      <th>2</th>\n",
              "      <td>5008806</td>\n",
              "      <td>M</td>\n",
              "      <td>Y</td>\n",
              "      <td>Y</td>\n",
              "      <td>0</td>\n",
              "      <td>112500.0</td>\n",
              "      <td>Working</td>\n",
              "      <td>Secondary / secondary special</td>\n",
              "      <td>Married</td>\n",
              "      <td>House / apartment</td>\n",
              "      <td>-21474</td>\n",
              "      <td>-1134</td>\n",
              "      <td>1</td>\n",
              "      <td>0</td>\n",
              "      <td>0</td>\n",
              "      <td>0</td>\n",
              "      <td>Security staff</td>\n",
              "      <td>2.0</td>\n",
              "    </tr>\n",
              "    <tr>\n",
              "      <th>3</th>\n",
              "      <td>5008808</td>\n",
              "      <td>F</td>\n",
              "      <td>N</td>\n",
              "      <td>Y</td>\n",
              "      <td>0</td>\n",
              "      <td>270000.0</td>\n",
              "      <td>Commercial associate</td>\n",
              "      <td>Secondary / secondary special</td>\n",
              "      <td>Single / not married</td>\n",
              "      <td>House / apartment</td>\n",
              "      <td>-19110</td>\n",
              "      <td>-3051</td>\n",
              "      <td>1</td>\n",
              "      <td>0</td>\n",
              "      <td>1</td>\n",
              "      <td>1</td>\n",
              "      <td>Sales staff</td>\n",
              "      <td>1.0</td>\n",
              "    </tr>\n",
              "    <tr>\n",
              "      <th>4</th>\n",
              "      <td>5008809</td>\n",
              "      <td>F</td>\n",
              "      <td>N</td>\n",
              "      <td>Y</td>\n",
              "      <td>0</td>\n",
              "      <td>270000.0</td>\n",
              "      <td>Commercial associate</td>\n",
              "      <td>Secondary / secondary special</td>\n",
              "      <td>Single / not married</td>\n",
              "      <td>House / apartment</td>\n",
              "      <td>-19110</td>\n",
              "      <td>-3051</td>\n",
              "      <td>1</td>\n",
              "      <td>0</td>\n",
              "      <td>1</td>\n",
              "      <td>1</td>\n",
              "      <td>Sales staff</td>\n",
              "      <td>1.0</td>\n",
              "    </tr>\n",
              "  </tbody>\n",
              "</table>\n",
              "</div>\n",
              "      <button class=\"colab-df-convert\" onclick=\"convertToInteractive('df-d3733ab2-ac5e-4c83-b51a-e4a895c9809f')\"\n",
              "              title=\"Convert this dataframe to an interactive table.\"\n",
              "              style=\"display:none;\">\n",
              "        \n",
              "  <svg xmlns=\"http://www.w3.org/2000/svg\" height=\"24px\"viewBox=\"0 0 24 24\"\n",
              "       width=\"24px\">\n",
              "    <path d=\"M0 0h24v24H0V0z\" fill=\"none\"/>\n",
              "    <path d=\"M18.56 5.44l.94 2.06.94-2.06 2.06-.94-2.06-.94-.94-2.06-.94 2.06-2.06.94zm-11 1L8.5 8.5l.94-2.06 2.06-.94-2.06-.94L8.5 2.5l-.94 2.06-2.06.94zm10 10l.94 2.06.94-2.06 2.06-.94-2.06-.94-.94-2.06-.94 2.06-2.06.94z\"/><path d=\"M17.41 7.96l-1.37-1.37c-.4-.4-.92-.59-1.43-.59-.52 0-1.04.2-1.43.59L10.3 9.45l-7.72 7.72c-.78.78-.78 2.05 0 2.83L4 21.41c.39.39.9.59 1.41.59.51 0 1.02-.2 1.41-.59l7.78-7.78 2.81-2.81c.8-.78.8-2.07 0-2.86zM5.41 20L4 18.59l7.72-7.72 1.47 1.35L5.41 20z\"/>\n",
              "  </svg>\n",
              "      </button>\n",
              "      \n",
              "  <style>\n",
              "    .colab-df-container {\n",
              "      display:flex;\n",
              "      flex-wrap:wrap;\n",
              "      gap: 12px;\n",
              "    }\n",
              "\n",
              "    .colab-df-convert {\n",
              "      background-color: #E8F0FE;\n",
              "      border: none;\n",
              "      border-radius: 50%;\n",
              "      cursor: pointer;\n",
              "      display: none;\n",
              "      fill: #1967D2;\n",
              "      height: 32px;\n",
              "      padding: 0 0 0 0;\n",
              "      width: 32px;\n",
              "    }\n",
              "\n",
              "    .colab-df-convert:hover {\n",
              "      background-color: #E2EBFA;\n",
              "      box-shadow: 0px 1px 2px rgba(60, 64, 67, 0.3), 0px 1px 3px 1px rgba(60, 64, 67, 0.15);\n",
              "      fill: #174EA6;\n",
              "    }\n",
              "\n",
              "    [theme=dark] .colab-df-convert {\n",
              "      background-color: #3B4455;\n",
              "      fill: #D2E3FC;\n",
              "    }\n",
              "\n",
              "    [theme=dark] .colab-df-convert:hover {\n",
              "      background-color: #434B5C;\n",
              "      box-shadow: 0px 1px 3px 1px rgba(0, 0, 0, 0.15);\n",
              "      filter: drop-shadow(0px 1px 2px rgba(0, 0, 0, 0.3));\n",
              "      fill: #FFFFFF;\n",
              "    }\n",
              "  </style>\n",
              "\n",
              "      <script>\n",
              "        const buttonEl =\n",
              "          document.querySelector('#df-d3733ab2-ac5e-4c83-b51a-e4a895c9809f button.colab-df-convert');\n",
              "        buttonEl.style.display =\n",
              "          google.colab.kernel.accessAllowed ? 'block' : 'none';\n",
              "\n",
              "        async function convertToInteractive(key) {\n",
              "          const element = document.querySelector('#df-d3733ab2-ac5e-4c83-b51a-e4a895c9809f');\n",
              "          const dataTable =\n",
              "            await google.colab.kernel.invokeFunction('convertToInteractive',\n",
              "                                                     [key], {});\n",
              "          if (!dataTable) return;\n",
              "\n",
              "          const docLinkHtml = 'Like what you see? Visit the ' +\n",
              "            '<a target=\"_blank\" href=https://colab.research.google.com/notebooks/data_table.ipynb>data table notebook</a>'\n",
              "            + ' to learn more about interactive tables.';\n",
              "          element.innerHTML = '';\n",
              "          dataTable['output_type'] = 'display_data';\n",
              "          await google.colab.output.renderOutput(dataTable, element);\n",
              "          const docLink = document.createElement('div');\n",
              "          docLink.innerHTML = docLinkHtml;\n",
              "          element.appendChild(docLink);\n",
              "        }\n",
              "      </script>\n",
              "    </div>\n",
              "  </div>\n",
              "  "
            ]
          },
          "metadata": {},
          "execution_count": 4
        }
      ],
      "source": [
        "app_df.head()"
      ]
    },
    {
      "cell_type": "code",
      "execution_count": 5,
      "id": "d4ee91ff",
      "metadata": {
        "colab": {
          "base_uri": "https://localhost:8080/",
          "height": 300
        },
        "id": "d4ee91ff",
        "outputId": "150e89f0-e4a2-4df3-d4fc-96c43abd0779"
      },
      "outputs": [
        {
          "output_type": "execute_result",
          "data": {
            "text/plain": [
              "                 id      num_child        income      birth_day  \\\n",
              "count  4.385570e+05  438557.000000  4.385570e+05  438557.000000   \n",
              "mean   6.022176e+06       0.427390  1.875243e+05  -15997.904649   \n",
              "std    5.716370e+05       0.724882  1.100869e+05    4185.030007   \n",
              "min    5.008804e+06       0.000000  2.610000e+04  -25201.000000   \n",
              "25%    5.609375e+06       0.000000  1.215000e+05  -19483.000000   \n",
              "50%    6.047745e+06       0.000000  1.607805e+05  -15630.000000   \n",
              "75%    6.456971e+06       1.000000  2.250000e+05  -12514.000000   \n",
              "max    7.999952e+06      19.000000  6.750000e+06   -7489.000000   \n",
              "\n",
              "       employment_length    mobile     work_phone          phone  \\\n",
              "count      438557.000000  438557.0  438557.000000  438557.000000   \n",
              "mean        60563.675328       1.0       0.206133       0.287771   \n",
              "std        138767.799647       0.0       0.404527       0.452724   \n",
              "min        -17531.000000       1.0       0.000000       0.000000   \n",
              "25%         -3103.000000       1.0       0.000000       0.000000   \n",
              "50%         -1467.000000       1.0       0.000000       0.000000   \n",
              "75%          -371.000000       1.0       0.000000       1.000000   \n",
              "max        365243.000000       1.0       1.000000       1.000000   \n",
              "\n",
              "               email  CNT_FAM_MEMBERS  \n",
              "count  438557.000000    438557.000000  \n",
              "mean        0.108207         2.194465  \n",
              "std         0.310642         0.897207  \n",
              "min         0.000000         1.000000  \n",
              "25%         0.000000         2.000000  \n",
              "50%         0.000000         2.000000  \n",
              "75%         0.000000         3.000000  \n",
              "max         1.000000        20.000000  "
            ],
            "text/html": [
              "\n",
              "  <div id=\"df-8f120b41-54b4-490c-9bbf-7aa15d40ea44\">\n",
              "    <div class=\"colab-df-container\">\n",
              "      <div>\n",
              "<style scoped>\n",
              "    .dataframe tbody tr th:only-of-type {\n",
              "        vertical-align: middle;\n",
              "    }\n",
              "\n",
              "    .dataframe tbody tr th {\n",
              "        vertical-align: top;\n",
              "    }\n",
              "\n",
              "    .dataframe thead th {\n",
              "        text-align: right;\n",
              "    }\n",
              "</style>\n",
              "<table border=\"1\" class=\"dataframe\">\n",
              "  <thead>\n",
              "    <tr style=\"text-align: right;\">\n",
              "      <th></th>\n",
              "      <th>id</th>\n",
              "      <th>num_child</th>\n",
              "      <th>income</th>\n",
              "      <th>birth_day</th>\n",
              "      <th>employment_length</th>\n",
              "      <th>mobile</th>\n",
              "      <th>work_phone</th>\n",
              "      <th>phone</th>\n",
              "      <th>email</th>\n",
              "      <th>CNT_FAM_MEMBERS</th>\n",
              "    </tr>\n",
              "  </thead>\n",
              "  <tbody>\n",
              "    <tr>\n",
              "      <th>count</th>\n",
              "      <td>4.385570e+05</td>\n",
              "      <td>438557.000000</td>\n",
              "      <td>4.385570e+05</td>\n",
              "      <td>438557.000000</td>\n",
              "      <td>438557.000000</td>\n",
              "      <td>438557.0</td>\n",
              "      <td>438557.000000</td>\n",
              "      <td>438557.000000</td>\n",
              "      <td>438557.000000</td>\n",
              "      <td>438557.000000</td>\n",
              "    </tr>\n",
              "    <tr>\n",
              "      <th>mean</th>\n",
              "      <td>6.022176e+06</td>\n",
              "      <td>0.427390</td>\n",
              "      <td>1.875243e+05</td>\n",
              "      <td>-15997.904649</td>\n",
              "      <td>60563.675328</td>\n",
              "      <td>1.0</td>\n",
              "      <td>0.206133</td>\n",
              "      <td>0.287771</td>\n",
              "      <td>0.108207</td>\n",
              "      <td>2.194465</td>\n",
              "    </tr>\n",
              "    <tr>\n",
              "      <th>std</th>\n",
              "      <td>5.716370e+05</td>\n",
              "      <td>0.724882</td>\n",
              "      <td>1.100869e+05</td>\n",
              "      <td>4185.030007</td>\n",
              "      <td>138767.799647</td>\n",
              "      <td>0.0</td>\n",
              "      <td>0.404527</td>\n",
              "      <td>0.452724</td>\n",
              "      <td>0.310642</td>\n",
              "      <td>0.897207</td>\n",
              "    </tr>\n",
              "    <tr>\n",
              "      <th>min</th>\n",
              "      <td>5.008804e+06</td>\n",
              "      <td>0.000000</td>\n",
              "      <td>2.610000e+04</td>\n",
              "      <td>-25201.000000</td>\n",
              "      <td>-17531.000000</td>\n",
              "      <td>1.0</td>\n",
              "      <td>0.000000</td>\n",
              "      <td>0.000000</td>\n",
              "      <td>0.000000</td>\n",
              "      <td>1.000000</td>\n",
              "    </tr>\n",
              "    <tr>\n",
              "      <th>25%</th>\n",
              "      <td>5.609375e+06</td>\n",
              "      <td>0.000000</td>\n",
              "      <td>1.215000e+05</td>\n",
              "      <td>-19483.000000</td>\n",
              "      <td>-3103.000000</td>\n",
              "      <td>1.0</td>\n",
              "      <td>0.000000</td>\n",
              "      <td>0.000000</td>\n",
              "      <td>0.000000</td>\n",
              "      <td>2.000000</td>\n",
              "    </tr>\n",
              "    <tr>\n",
              "      <th>50%</th>\n",
              "      <td>6.047745e+06</td>\n",
              "      <td>0.000000</td>\n",
              "      <td>1.607805e+05</td>\n",
              "      <td>-15630.000000</td>\n",
              "      <td>-1467.000000</td>\n",
              "      <td>1.0</td>\n",
              "      <td>0.000000</td>\n",
              "      <td>0.000000</td>\n",
              "      <td>0.000000</td>\n",
              "      <td>2.000000</td>\n",
              "    </tr>\n",
              "    <tr>\n",
              "      <th>75%</th>\n",
              "      <td>6.456971e+06</td>\n",
              "      <td>1.000000</td>\n",
              "      <td>2.250000e+05</td>\n",
              "      <td>-12514.000000</td>\n",
              "      <td>-371.000000</td>\n",
              "      <td>1.0</td>\n",
              "      <td>0.000000</td>\n",
              "      <td>1.000000</td>\n",
              "      <td>0.000000</td>\n",
              "      <td>3.000000</td>\n",
              "    </tr>\n",
              "    <tr>\n",
              "      <th>max</th>\n",
              "      <td>7.999952e+06</td>\n",
              "      <td>19.000000</td>\n",
              "      <td>6.750000e+06</td>\n",
              "      <td>-7489.000000</td>\n",
              "      <td>365243.000000</td>\n",
              "      <td>1.0</td>\n",
              "      <td>1.000000</td>\n",
              "      <td>1.000000</td>\n",
              "      <td>1.000000</td>\n",
              "      <td>20.000000</td>\n",
              "    </tr>\n",
              "  </tbody>\n",
              "</table>\n",
              "</div>\n",
              "      <button class=\"colab-df-convert\" onclick=\"convertToInteractive('df-8f120b41-54b4-490c-9bbf-7aa15d40ea44')\"\n",
              "              title=\"Convert this dataframe to an interactive table.\"\n",
              "              style=\"display:none;\">\n",
              "        \n",
              "  <svg xmlns=\"http://www.w3.org/2000/svg\" height=\"24px\"viewBox=\"0 0 24 24\"\n",
              "       width=\"24px\">\n",
              "    <path d=\"M0 0h24v24H0V0z\" fill=\"none\"/>\n",
              "    <path d=\"M18.56 5.44l.94 2.06.94-2.06 2.06-.94-2.06-.94-.94-2.06-.94 2.06-2.06.94zm-11 1L8.5 8.5l.94-2.06 2.06-.94-2.06-.94L8.5 2.5l-.94 2.06-2.06.94zm10 10l.94 2.06.94-2.06 2.06-.94-2.06-.94-.94-2.06-.94 2.06-2.06.94z\"/><path d=\"M17.41 7.96l-1.37-1.37c-.4-.4-.92-.59-1.43-.59-.52 0-1.04.2-1.43.59L10.3 9.45l-7.72 7.72c-.78.78-.78 2.05 0 2.83L4 21.41c.39.39.9.59 1.41.59.51 0 1.02-.2 1.41-.59l7.78-7.78 2.81-2.81c.8-.78.8-2.07 0-2.86zM5.41 20L4 18.59l7.72-7.72 1.47 1.35L5.41 20z\"/>\n",
              "  </svg>\n",
              "      </button>\n",
              "      \n",
              "  <style>\n",
              "    .colab-df-container {\n",
              "      display:flex;\n",
              "      flex-wrap:wrap;\n",
              "      gap: 12px;\n",
              "    }\n",
              "\n",
              "    .colab-df-convert {\n",
              "      background-color: #E8F0FE;\n",
              "      border: none;\n",
              "      border-radius: 50%;\n",
              "      cursor: pointer;\n",
              "      display: none;\n",
              "      fill: #1967D2;\n",
              "      height: 32px;\n",
              "      padding: 0 0 0 0;\n",
              "      width: 32px;\n",
              "    }\n",
              "\n",
              "    .colab-df-convert:hover {\n",
              "      background-color: #E2EBFA;\n",
              "      box-shadow: 0px 1px 2px rgba(60, 64, 67, 0.3), 0px 1px 3px 1px rgba(60, 64, 67, 0.15);\n",
              "      fill: #174EA6;\n",
              "    }\n",
              "\n",
              "    [theme=dark] .colab-df-convert {\n",
              "      background-color: #3B4455;\n",
              "      fill: #D2E3FC;\n",
              "    }\n",
              "\n",
              "    [theme=dark] .colab-df-convert:hover {\n",
              "      background-color: #434B5C;\n",
              "      box-shadow: 0px 1px 3px 1px rgba(0, 0, 0, 0.15);\n",
              "      filter: drop-shadow(0px 1px 2px rgba(0, 0, 0, 0.3));\n",
              "      fill: #FFFFFF;\n",
              "    }\n",
              "  </style>\n",
              "\n",
              "      <script>\n",
              "        const buttonEl =\n",
              "          document.querySelector('#df-8f120b41-54b4-490c-9bbf-7aa15d40ea44 button.colab-df-convert');\n",
              "        buttonEl.style.display =\n",
              "          google.colab.kernel.accessAllowed ? 'block' : 'none';\n",
              "\n",
              "        async function convertToInteractive(key) {\n",
              "          const element = document.querySelector('#df-8f120b41-54b4-490c-9bbf-7aa15d40ea44');\n",
              "          const dataTable =\n",
              "            await google.colab.kernel.invokeFunction('convertToInteractive',\n",
              "                                                     [key], {});\n",
              "          if (!dataTable) return;\n",
              "\n",
              "          const docLinkHtml = 'Like what you see? Visit the ' +\n",
              "            '<a target=\"_blank\" href=https://colab.research.google.com/notebooks/data_table.ipynb>data table notebook</a>'\n",
              "            + ' to learn more about interactive tables.';\n",
              "          element.innerHTML = '';\n",
              "          dataTable['output_type'] = 'display_data';\n",
              "          await google.colab.output.renderOutput(dataTable, element);\n",
              "          const docLink = document.createElement('div');\n",
              "          docLink.innerHTML = docLinkHtml;\n",
              "          element.appendChild(docLink);\n",
              "        }\n",
              "      </script>\n",
              "    </div>\n",
              "  </div>\n",
              "  "
            ]
          },
          "metadata": {},
          "execution_count": 5
        }
      ],
      "source": [
        "app_df.describe()"
      ]
    },
    {
      "cell_type": "code",
      "source": [
        "app_df[\"mobile\"].unique()"
      ],
      "metadata": {
        "id": "KkLGH1I5_l8c",
        "outputId": "938e1d73-e607-4db0-bbf8-5ca2569daa5d",
        "colab": {
          "base_uri": "https://localhost:8080/"
        }
      },
      "id": "KkLGH1I5_l8c",
      "execution_count": 6,
      "outputs": [
        {
          "output_type": "execute_result",
          "data": {
            "text/plain": [
              "array([1])"
            ]
          },
          "metadata": {},
          "execution_count": 6
        }
      ]
    },
    {
      "cell_type": "markdown",
      "source": [
        "Everyone has a mobile phone, we should drop this redundant factor (cardinality=1) to reduce the dimesionality of our data"
      ],
      "metadata": {
        "id": "SbynSVM-_65W"
      },
      "id": "SbynSVM-_65W"
    },
    {
      "cell_type": "code",
      "source": [
        "prev_df=app_df.drop(columns=[\"mobile\"],inplace=True)"
      ],
      "metadata": {
        "id": "2UUI4lLc_2ZU"
      },
      "id": "2UUI4lLc_2ZU",
      "execution_count": 7,
      "outputs": []
    },
    {
      "cell_type": "markdown",
      "source": [
        "Removing multiple applications and keeping the latest one"
      ],
      "metadata": {
        "id": "C89LsWcPLp5x"
      },
      "id": "C89LsWcPLp5x"
    },
    {
      "cell_type": "code",
      "source": [
        "app_df = app_df.sort_values(\"birth_day\").drop_duplicates(\"id\")"
      ],
      "metadata": {
        "id": "TBSaoAlwLm-6"
      },
      "id": "TBSaoAlwLm-6",
      "execution_count": 8,
      "outputs": []
    },
    {
      "cell_type": "code",
      "source": [
        "#app_df=app_df.drop_duplicates(subset=app_df.columns.difference([\"id\"]))"
      ],
      "metadata": {
        "id": "fX2ugo_gUvMk"
      },
      "id": "fX2ugo_gUvMk",
      "execution_count": 9,
      "outputs": []
    },
    {
      "cell_type": "code",
      "source": [
        "app_df"
      ],
      "metadata": {
        "id": "TNYxD9T-Ux6d",
        "outputId": "3fde3a48-c711-42de-aeca-6d26a8b17964",
        "colab": {
          "base_uri": "https://localhost:8080/",
          "height": 678
        }
      },
      "id": "TNYxD9T-Ux6d",
      "execution_count": 10,
      "outputs": [
        {
          "output_type": "execute_result",
          "data": {
            "text/plain": [
              "             id gender own_car own_realty  num_child    income  \\\n",
              "53141   5163082      F       N          N          0  180000.0   \n",
              "53142   5163083      F       N          N          0  180000.0   \n",
              "279211  6112238      F       N          Y          0  108000.0   \n",
              "40884   5116225      M       Y          Y          0  238500.0   \n",
              "40885   5116226      M       Y          Y          0  238500.0   \n",
              "...         ...    ...     ...        ...        ...       ...   \n",
              "246588  6037219      M       Y          Y          0   80397.0   \n",
              "246589  6037220      M       Y          Y          0   80397.0   \n",
              "391724  6661175      F       N          Y          0  112500.0   \n",
              "391723  6661174      F       N          Y          0  112500.0   \n",
              "238     5009058      F       Y          Y          0  112500.0   \n",
              "\n",
              "                 income_type                education_level  \\\n",
              "53141              Pensioner               Higher education   \n",
              "53142              Pensioner               Higher education   \n",
              "279211             Pensioner               Higher education   \n",
              "40884              Pensioner  Secondary / secondary special   \n",
              "40885              Pensioner  Secondary / secondary special   \n",
              "...                      ...                            ...   \n",
              "246588  Commercial associate  Secondary / secondary special   \n",
              "246589  Commercial associate  Secondary / secondary special   \n",
              "391724               Working  Secondary / secondary special   \n",
              "391723               Working  Secondary / secondary special   \n",
              "238     Commercial associate  Secondary / secondary special   \n",
              "\n",
              "               family_status         house_type  birth_day  employment_length  \\\n",
              "53141                Married  House / apartment     -25201             365243   \n",
              "53142                Married  House / apartment     -25201             365243   \n",
              "279211  Single / not married  House / apartment     -25159             365243   \n",
              "40884                Married   Office apartment     -25152             365243   \n",
              "40885                Married   Office apartment     -25152             365243   \n",
              "...                      ...                ...        ...                ...   \n",
              "246588  Single / not married  House / apartment      -7680               -262   \n",
              "246589  Single / not married  House / apartment      -7680               -262   \n",
              "391724  Single / not married  House / apartment      -7678               -209   \n",
              "391723  Single / not married  House / apartment      -7678               -209   \n",
              "238     Single / not married  House / apartment      -7489               -797   \n",
              "\n",
              "        work_phone  phone  email                    job  CNT_FAM_MEMBERS  \n",
              "53141            0      0      0                    NaN              2.0  \n",
              "53142            0      0      0                    NaN              2.0  \n",
              "279211           0      1      0                    NaN              1.0  \n",
              "40884            0      0      0                    NaN              2.0  \n",
              "40885            0      0      0                    NaN              2.0  \n",
              "...            ...    ...    ...                    ...              ...  \n",
              "246588           1      1      0            Sales staff              1.0  \n",
              "246589           1      1      0            Sales staff              1.0  \n",
              "391724           0      0      1             Core staff              1.0  \n",
              "391723           0      0      1             Core staff              1.0  \n",
              "238              0      1      1  Private service staff              1.0  \n",
              "\n",
              "[438510 rows x 17 columns]"
            ],
            "text/html": [
              "\n",
              "  <div id=\"df-022942a3-2d14-4eae-b660-2db36afa5375\">\n",
              "    <div class=\"colab-df-container\">\n",
              "      <div>\n",
              "<style scoped>\n",
              "    .dataframe tbody tr th:only-of-type {\n",
              "        vertical-align: middle;\n",
              "    }\n",
              "\n",
              "    .dataframe tbody tr th {\n",
              "        vertical-align: top;\n",
              "    }\n",
              "\n",
              "    .dataframe thead th {\n",
              "        text-align: right;\n",
              "    }\n",
              "</style>\n",
              "<table border=\"1\" class=\"dataframe\">\n",
              "  <thead>\n",
              "    <tr style=\"text-align: right;\">\n",
              "      <th></th>\n",
              "      <th>id</th>\n",
              "      <th>gender</th>\n",
              "      <th>own_car</th>\n",
              "      <th>own_realty</th>\n",
              "      <th>num_child</th>\n",
              "      <th>income</th>\n",
              "      <th>income_type</th>\n",
              "      <th>education_level</th>\n",
              "      <th>family_status</th>\n",
              "      <th>house_type</th>\n",
              "      <th>birth_day</th>\n",
              "      <th>employment_length</th>\n",
              "      <th>work_phone</th>\n",
              "      <th>phone</th>\n",
              "      <th>email</th>\n",
              "      <th>job</th>\n",
              "      <th>CNT_FAM_MEMBERS</th>\n",
              "    </tr>\n",
              "  </thead>\n",
              "  <tbody>\n",
              "    <tr>\n",
              "      <th>53141</th>\n",
              "      <td>5163082</td>\n",
              "      <td>F</td>\n",
              "      <td>N</td>\n",
              "      <td>N</td>\n",
              "      <td>0</td>\n",
              "      <td>180000.0</td>\n",
              "      <td>Pensioner</td>\n",
              "      <td>Higher education</td>\n",
              "      <td>Married</td>\n",
              "      <td>House / apartment</td>\n",
              "      <td>-25201</td>\n",
              "      <td>365243</td>\n",
              "      <td>0</td>\n",
              "      <td>0</td>\n",
              "      <td>0</td>\n",
              "      <td>NaN</td>\n",
              "      <td>2.0</td>\n",
              "    </tr>\n",
              "    <tr>\n",
              "      <th>53142</th>\n",
              "      <td>5163083</td>\n",
              "      <td>F</td>\n",
              "      <td>N</td>\n",
              "      <td>N</td>\n",
              "      <td>0</td>\n",
              "      <td>180000.0</td>\n",
              "      <td>Pensioner</td>\n",
              "      <td>Higher education</td>\n",
              "      <td>Married</td>\n",
              "      <td>House / apartment</td>\n",
              "      <td>-25201</td>\n",
              "      <td>365243</td>\n",
              "      <td>0</td>\n",
              "      <td>0</td>\n",
              "      <td>0</td>\n",
              "      <td>NaN</td>\n",
              "      <td>2.0</td>\n",
              "    </tr>\n",
              "    <tr>\n",
              "      <th>279211</th>\n",
              "      <td>6112238</td>\n",
              "      <td>F</td>\n",
              "      <td>N</td>\n",
              "      <td>Y</td>\n",
              "      <td>0</td>\n",
              "      <td>108000.0</td>\n",
              "      <td>Pensioner</td>\n",
              "      <td>Higher education</td>\n",
              "      <td>Single / not married</td>\n",
              "      <td>House / apartment</td>\n",
              "      <td>-25159</td>\n",
              "      <td>365243</td>\n",
              "      <td>0</td>\n",
              "      <td>1</td>\n",
              "      <td>0</td>\n",
              "      <td>NaN</td>\n",
              "      <td>1.0</td>\n",
              "    </tr>\n",
              "    <tr>\n",
              "      <th>40884</th>\n",
              "      <td>5116225</td>\n",
              "      <td>M</td>\n",
              "      <td>Y</td>\n",
              "      <td>Y</td>\n",
              "      <td>0</td>\n",
              "      <td>238500.0</td>\n",
              "      <td>Pensioner</td>\n",
              "      <td>Secondary / secondary special</td>\n",
              "      <td>Married</td>\n",
              "      <td>Office apartment</td>\n",
              "      <td>-25152</td>\n",
              "      <td>365243</td>\n",
              "      <td>0</td>\n",
              "      <td>0</td>\n",
              "      <td>0</td>\n",
              "      <td>NaN</td>\n",
              "      <td>2.0</td>\n",
              "    </tr>\n",
              "    <tr>\n",
              "      <th>40885</th>\n",
              "      <td>5116226</td>\n",
              "      <td>M</td>\n",
              "      <td>Y</td>\n",
              "      <td>Y</td>\n",
              "      <td>0</td>\n",
              "      <td>238500.0</td>\n",
              "      <td>Pensioner</td>\n",
              "      <td>Secondary / secondary special</td>\n",
              "      <td>Married</td>\n",
              "      <td>Office apartment</td>\n",
              "      <td>-25152</td>\n",
              "      <td>365243</td>\n",
              "      <td>0</td>\n",
              "      <td>0</td>\n",
              "      <td>0</td>\n",
              "      <td>NaN</td>\n",
              "      <td>2.0</td>\n",
              "    </tr>\n",
              "    <tr>\n",
              "      <th>...</th>\n",
              "      <td>...</td>\n",
              "      <td>...</td>\n",
              "      <td>...</td>\n",
              "      <td>...</td>\n",
              "      <td>...</td>\n",
              "      <td>...</td>\n",
              "      <td>...</td>\n",
              "      <td>...</td>\n",
              "      <td>...</td>\n",
              "      <td>...</td>\n",
              "      <td>...</td>\n",
              "      <td>...</td>\n",
              "      <td>...</td>\n",
              "      <td>...</td>\n",
              "      <td>...</td>\n",
              "      <td>...</td>\n",
              "      <td>...</td>\n",
              "    </tr>\n",
              "    <tr>\n",
              "      <th>246588</th>\n",
              "      <td>6037219</td>\n",
              "      <td>M</td>\n",
              "      <td>Y</td>\n",
              "      <td>Y</td>\n",
              "      <td>0</td>\n",
              "      <td>80397.0</td>\n",
              "      <td>Commercial associate</td>\n",
              "      <td>Secondary / secondary special</td>\n",
              "      <td>Single / not married</td>\n",
              "      <td>House / apartment</td>\n",
              "      <td>-7680</td>\n",
              "      <td>-262</td>\n",
              "      <td>1</td>\n",
              "      <td>1</td>\n",
              "      <td>0</td>\n",
              "      <td>Sales staff</td>\n",
              "      <td>1.0</td>\n",
              "    </tr>\n",
              "    <tr>\n",
              "      <th>246589</th>\n",
              "      <td>6037220</td>\n",
              "      <td>M</td>\n",
              "      <td>Y</td>\n",
              "      <td>Y</td>\n",
              "      <td>0</td>\n",
              "      <td>80397.0</td>\n",
              "      <td>Commercial associate</td>\n",
              "      <td>Secondary / secondary special</td>\n",
              "      <td>Single / not married</td>\n",
              "      <td>House / apartment</td>\n",
              "      <td>-7680</td>\n",
              "      <td>-262</td>\n",
              "      <td>1</td>\n",
              "      <td>1</td>\n",
              "      <td>0</td>\n",
              "      <td>Sales staff</td>\n",
              "      <td>1.0</td>\n",
              "    </tr>\n",
              "    <tr>\n",
              "      <th>391724</th>\n",
              "      <td>6661175</td>\n",
              "      <td>F</td>\n",
              "      <td>N</td>\n",
              "      <td>Y</td>\n",
              "      <td>0</td>\n",
              "      <td>112500.0</td>\n",
              "      <td>Working</td>\n",
              "      <td>Secondary / secondary special</td>\n",
              "      <td>Single / not married</td>\n",
              "      <td>House / apartment</td>\n",
              "      <td>-7678</td>\n",
              "      <td>-209</td>\n",
              "      <td>0</td>\n",
              "      <td>0</td>\n",
              "      <td>1</td>\n",
              "      <td>Core staff</td>\n",
              "      <td>1.0</td>\n",
              "    </tr>\n",
              "    <tr>\n",
              "      <th>391723</th>\n",
              "      <td>6661174</td>\n",
              "      <td>F</td>\n",
              "      <td>N</td>\n",
              "      <td>Y</td>\n",
              "      <td>0</td>\n",
              "      <td>112500.0</td>\n",
              "      <td>Working</td>\n",
              "      <td>Secondary / secondary special</td>\n",
              "      <td>Single / not married</td>\n",
              "      <td>House / apartment</td>\n",
              "      <td>-7678</td>\n",
              "      <td>-209</td>\n",
              "      <td>0</td>\n",
              "      <td>0</td>\n",
              "      <td>1</td>\n",
              "      <td>Core staff</td>\n",
              "      <td>1.0</td>\n",
              "    </tr>\n",
              "    <tr>\n",
              "      <th>238</th>\n",
              "      <td>5009058</td>\n",
              "      <td>F</td>\n",
              "      <td>Y</td>\n",
              "      <td>Y</td>\n",
              "      <td>0</td>\n",
              "      <td>112500.0</td>\n",
              "      <td>Commercial associate</td>\n",
              "      <td>Secondary / secondary special</td>\n",
              "      <td>Single / not married</td>\n",
              "      <td>House / apartment</td>\n",
              "      <td>-7489</td>\n",
              "      <td>-797</td>\n",
              "      <td>0</td>\n",
              "      <td>1</td>\n",
              "      <td>1</td>\n",
              "      <td>Private service staff</td>\n",
              "      <td>1.0</td>\n",
              "    </tr>\n",
              "  </tbody>\n",
              "</table>\n",
              "<p>438510 rows × 17 columns</p>\n",
              "</div>\n",
              "      <button class=\"colab-df-convert\" onclick=\"convertToInteractive('df-022942a3-2d14-4eae-b660-2db36afa5375')\"\n",
              "              title=\"Convert this dataframe to an interactive table.\"\n",
              "              style=\"display:none;\">\n",
              "        \n",
              "  <svg xmlns=\"http://www.w3.org/2000/svg\" height=\"24px\"viewBox=\"0 0 24 24\"\n",
              "       width=\"24px\">\n",
              "    <path d=\"M0 0h24v24H0V0z\" fill=\"none\"/>\n",
              "    <path d=\"M18.56 5.44l.94 2.06.94-2.06 2.06-.94-2.06-.94-.94-2.06-.94 2.06-2.06.94zm-11 1L8.5 8.5l.94-2.06 2.06-.94-2.06-.94L8.5 2.5l-.94 2.06-2.06.94zm10 10l.94 2.06.94-2.06 2.06-.94-2.06-.94-.94-2.06-.94 2.06-2.06.94z\"/><path d=\"M17.41 7.96l-1.37-1.37c-.4-.4-.92-.59-1.43-.59-.52 0-1.04.2-1.43.59L10.3 9.45l-7.72 7.72c-.78.78-.78 2.05 0 2.83L4 21.41c.39.39.9.59 1.41.59.51 0 1.02-.2 1.41-.59l7.78-7.78 2.81-2.81c.8-.78.8-2.07 0-2.86zM5.41 20L4 18.59l7.72-7.72 1.47 1.35L5.41 20z\"/>\n",
              "  </svg>\n",
              "      </button>\n",
              "      \n",
              "  <style>\n",
              "    .colab-df-container {\n",
              "      display:flex;\n",
              "      flex-wrap:wrap;\n",
              "      gap: 12px;\n",
              "    }\n",
              "\n",
              "    .colab-df-convert {\n",
              "      background-color: #E8F0FE;\n",
              "      border: none;\n",
              "      border-radius: 50%;\n",
              "      cursor: pointer;\n",
              "      display: none;\n",
              "      fill: #1967D2;\n",
              "      height: 32px;\n",
              "      padding: 0 0 0 0;\n",
              "      width: 32px;\n",
              "    }\n",
              "\n",
              "    .colab-df-convert:hover {\n",
              "      background-color: #E2EBFA;\n",
              "      box-shadow: 0px 1px 2px rgba(60, 64, 67, 0.3), 0px 1px 3px 1px rgba(60, 64, 67, 0.15);\n",
              "      fill: #174EA6;\n",
              "    }\n",
              "\n",
              "    [theme=dark] .colab-df-convert {\n",
              "      background-color: #3B4455;\n",
              "      fill: #D2E3FC;\n",
              "    }\n",
              "\n",
              "    [theme=dark] .colab-df-convert:hover {\n",
              "      background-color: #434B5C;\n",
              "      box-shadow: 0px 1px 3px 1px rgba(0, 0, 0, 0.15);\n",
              "      filter: drop-shadow(0px 1px 2px rgba(0, 0, 0, 0.3));\n",
              "      fill: #FFFFFF;\n",
              "    }\n",
              "  </style>\n",
              "\n",
              "      <script>\n",
              "        const buttonEl =\n",
              "          document.querySelector('#df-022942a3-2d14-4eae-b660-2db36afa5375 button.colab-df-convert');\n",
              "        buttonEl.style.display =\n",
              "          google.colab.kernel.accessAllowed ? 'block' : 'none';\n",
              "\n",
              "        async function convertToInteractive(key) {\n",
              "          const element = document.querySelector('#df-022942a3-2d14-4eae-b660-2db36afa5375');\n",
              "          const dataTable =\n",
              "            await google.colab.kernel.invokeFunction('convertToInteractive',\n",
              "                                                     [key], {});\n",
              "          if (!dataTable) return;\n",
              "\n",
              "          const docLinkHtml = 'Like what you see? Visit the ' +\n",
              "            '<a target=\"_blank\" href=https://colab.research.google.com/notebooks/data_table.ipynb>data table notebook</a>'\n",
              "            + ' to learn more about interactive tables.';\n",
              "          element.innerHTML = '';\n",
              "          dataTable['output_type'] = 'display_data';\n",
              "          await google.colab.output.renderOutput(dataTable, element);\n",
              "          const docLink = document.createElement('div');\n",
              "          docLink.innerHTML = docLinkHtml;\n",
              "          element.appendChild(docLink);\n",
              "        }\n",
              "      </script>\n",
              "    </div>\n",
              "  </div>\n",
              "  "
            ]
          },
          "metadata": {},
          "execution_count": 10
        }
      ]
    },
    {
      "cell_type": "code",
      "execution_count": 11,
      "id": "24326b45",
      "metadata": {
        "id": "24326b45"
      },
      "outputs": [],
      "source": [
        "missing_values_count = app_df.isnull().sum()"
      ]
    },
    {
      "cell_type": "code",
      "execution_count": 12,
      "id": "4b65a529",
      "metadata": {
        "colab": {
          "base_uri": "https://localhost:8080/"
        },
        "id": "4b65a529",
        "outputId": "7772a419-de0a-4c8d-e432-61d6dc8528ce"
      },
      "outputs": [
        {
          "output_type": "execute_result",
          "data": {
            "text/plain": [
              "id                        0\n",
              "gender                    0\n",
              "own_car                   0\n",
              "own_realty                0\n",
              "num_child                 0\n",
              "income                    0\n",
              "income_type               0\n",
              "education_level           0\n",
              "family_status             0\n",
              "house_type                0\n",
              "birth_day                 0\n",
              "employment_length         0\n",
              "work_phone                0\n",
              "phone                     0\n",
              "email                     0\n",
              "job                  134197\n",
              "CNT_FAM_MEMBERS           0\n",
              "dtype: int64"
            ]
          },
          "metadata": {},
          "execution_count": 12
        }
      ],
      "source": [
        "missing_values_count"
      ]
    },
    {
      "cell_type": "markdown",
      "id": "019bbd45",
      "metadata": {
        "id": "019bbd45"
      },
      "source": [
        "The only column with missing values is the job column."
      ]
    },
    {
      "cell_type": "markdown",
      "source": [
        "There are some pensioners that are still working and the rest are unemployed. We will label the non-working pensioner with job of pensioner."
      ],
      "metadata": {
        "id": "CaKDdQGS78_I"
      },
      "id": "CaKDdQGS78_I"
    },
    {
      "cell_type": "code",
      "source": [
        "pensioners_not_working=app_df[app_df['employment_length']>=0]\n",
        "pensioners_not_working[\"income_type\"].unique()"
      ],
      "metadata": {
        "id": "8syC1eef6LcW",
        "outputId": "8d59986c-06cc-4e3a-e55a-1b3d36fc111e",
        "colab": {
          "base_uri": "https://localhost:8080/"
        }
      },
      "id": "8syC1eef6LcW",
      "execution_count": 13,
      "outputs": [
        {
          "output_type": "execute_result",
          "data": {
            "text/plain": [
              "array(['Pensioner'], dtype=object)"
            ]
          },
          "metadata": {},
          "execution_count": 13
        }
      ]
    },
    {
      "cell_type": "markdown",
      "source": [
        "all the people with employment_length>= 0 (unemployed) are pensioners so we can simply fillna with `'Pensioner'` as only the job col is na"
      ],
      "metadata": {
        "id": "U-Ki4xun-CS5"
      },
      "id": "U-Ki4xun-CS5"
    },
    {
      "cell_type": "code",
      "source": [
        "pensioners_not_working=pensioners_not_working.fillna('Pensioner')"
      ],
      "metadata": {
        "id": "45Hb8tzh-Bfj"
      },
      "id": "45Hb8tzh-Bfj",
      "execution_count": 14,
      "outputs": []
    },
    {
      "cell_type": "code",
      "source": [
        "pensioners_not_working['employment_length'].describe()"
      ],
      "metadata": {
        "id": "UNwwWwY098PA",
        "outputId": "1e895670-71cb-4a4c-e1c0-5ebcc2af13b6",
        "colab": {
          "base_uri": "https://localhost:8080/"
        }
      },
      "id": "UNwwWwY098PA",
      "execution_count": 15,
      "outputs": [
        {
          "output_type": "execute_result",
          "data": {
            "text/plain": [
              "count     75329.0\n",
              "mean     365243.0\n",
              "std           0.0\n",
              "min      365243.0\n",
              "25%      365243.0\n",
              "50%      365243.0\n",
              "75%      365243.0\n",
              "max      365243.0\n",
              "Name: employment_length, dtype: float64"
            ]
          },
          "metadata": {},
          "execution_count": 15
        }
      ]
    },
    {
      "cell_type": "code",
      "source": [
        "pensioners_not_working['birth_day'].describe()"
      ],
      "metadata": {
        "id": "L4i3jzSR8ons",
        "outputId": "eab2eafc-8c7e-4dd3-818e-a7dcfe249497",
        "colab": {
          "base_uri": "https://localhost:8080/"
        }
      },
      "id": "L4i3jzSR8ons",
      "execution_count": 16,
      "outputs": [
        {
          "output_type": "execute_result",
          "data": {
            "text/plain": [
              "count    75329.000000\n",
              "mean    -21715.424272\n",
              "std       1839.857354\n",
              "min     -25201.000000\n",
              "25%     -22981.000000\n",
              "50%     -21927.000000\n",
              "75%     -20807.000000\n",
              "max      -8145.000000\n",
              "Name: birth_day, dtype: float64"
            ]
          },
          "metadata": {},
          "execution_count": 16
        }
      ]
    },
    {
      "cell_type": "markdown",
      "source": [
        "Having the pensioners with employment length = 365243 is both incorrect (1000 years) and will definitely affect the feature scaling of employment length. Thus , we propose that the retirement age is the median of the dataset 21929 (60 years old) and employment length which is long they have been pensioners will be max(median-age,0)."
      ],
      "metadata": {
        "id": "rVD5Lcin8aKW"
      },
      "id": "rVD5Lcin8aKW"
    },
    {
      "cell_type": "code",
      "source": [
        "pd.options.mode.chained_assignment = None\n",
        "pensioners_not_working[\"employment_length\"]=pensioners_not_working.apply(lambda x : max(-21929-x[\"birth_day\"],0),axis=1)"
      ],
      "metadata": {
        "id": "Rh9lo2iI8m5b"
      },
      "id": "Rh9lo2iI8m5b",
      "execution_count": 17,
      "outputs": []
    },
    {
      "cell_type": "code",
      "source": [
        "employed=app_df[app_df['employment_length']<0]"
      ],
      "metadata": {
        "id": "ByxudhyB9q8y"
      },
      "id": "ByxudhyB9q8y",
      "execution_count": 18,
      "outputs": []
    },
    {
      "cell_type": "code",
      "source": [
        "employed.describe()"
      ],
      "metadata": {
        "id": "G_M2SPc1VtiT",
        "outputId": "3be3cdfb-de37-47d1-9b45-430f542b336d",
        "colab": {
          "base_uri": "https://localhost:8080/",
          "height": 300
        }
      },
      "id": "G_M2SPc1VtiT",
      "execution_count": 19,
      "outputs": [
        {
          "output_type": "execute_result",
          "data": {
            "text/plain": [
              "                 id      num_child        income      birth_day  \\\n",
              "count  3.631810e+05  363181.000000  3.631810e+05  363181.000000   \n",
              "mean   6.022598e+06       0.507471  1.945943e+05  -14812.356153   \n",
              "std    5.703291e+05       0.764173  1.141705e+05    3501.379005   \n",
              "min    5.008804e+06       0.000000  2.700000e+04  -24834.000000   \n",
              "25%    5.617515e+06       0.000000  1.350000e+05  -17455.000000   \n",
              "50%    6.047737e+06       0.000000  1.800000e+05  -14581.000000   \n",
              "75%    6.448645e+06       1.000000  2.250000e+05  -11938.000000   \n",
              "max    7.999952e+06      19.000000  6.750000e+06   -7489.000000   \n",
              "\n",
              "       employment_length     work_phone          phone          email  \\\n",
              "count      363181.000000  363181.000000  363181.000000  363181.000000   \n",
              "mean        -2623.129475       0.248873       0.286623       0.118809   \n",
              "std          2399.565821       0.432361       0.452184       0.323564   \n",
              "min        -17531.000000       0.000000       0.000000       0.000000   \n",
              "25%         -3512.000000       0.000000       0.000000       0.000000   \n",
              "50%         -1924.000000       0.000000       0.000000       0.000000   \n",
              "75%          -915.000000       0.000000       1.000000       0.000000   \n",
              "max           -12.000000       1.000000       1.000000       1.000000   \n",
              "\n",
              "       CNT_FAM_MEMBERS  \n",
              "count    363181.000000  \n",
              "mean          2.290497  \n",
              "std           0.926872  \n",
              "min           1.000000  \n",
              "25%           2.000000  \n",
              "50%           2.000000  \n",
              "75%           3.000000  \n",
              "max          20.000000  "
            ],
            "text/html": [
              "\n",
              "  <div id=\"df-efeebad3-ded8-476c-bbd0-8f35fb050eb0\">\n",
              "    <div class=\"colab-df-container\">\n",
              "      <div>\n",
              "<style scoped>\n",
              "    .dataframe tbody tr th:only-of-type {\n",
              "        vertical-align: middle;\n",
              "    }\n",
              "\n",
              "    .dataframe tbody tr th {\n",
              "        vertical-align: top;\n",
              "    }\n",
              "\n",
              "    .dataframe thead th {\n",
              "        text-align: right;\n",
              "    }\n",
              "</style>\n",
              "<table border=\"1\" class=\"dataframe\">\n",
              "  <thead>\n",
              "    <tr style=\"text-align: right;\">\n",
              "      <th></th>\n",
              "      <th>id</th>\n",
              "      <th>num_child</th>\n",
              "      <th>income</th>\n",
              "      <th>birth_day</th>\n",
              "      <th>employment_length</th>\n",
              "      <th>work_phone</th>\n",
              "      <th>phone</th>\n",
              "      <th>email</th>\n",
              "      <th>CNT_FAM_MEMBERS</th>\n",
              "    </tr>\n",
              "  </thead>\n",
              "  <tbody>\n",
              "    <tr>\n",
              "      <th>count</th>\n",
              "      <td>3.631810e+05</td>\n",
              "      <td>363181.000000</td>\n",
              "      <td>3.631810e+05</td>\n",
              "      <td>363181.000000</td>\n",
              "      <td>363181.000000</td>\n",
              "      <td>363181.000000</td>\n",
              "      <td>363181.000000</td>\n",
              "      <td>363181.000000</td>\n",
              "      <td>363181.000000</td>\n",
              "    </tr>\n",
              "    <tr>\n",
              "      <th>mean</th>\n",
              "      <td>6.022598e+06</td>\n",
              "      <td>0.507471</td>\n",
              "      <td>1.945943e+05</td>\n",
              "      <td>-14812.356153</td>\n",
              "      <td>-2623.129475</td>\n",
              "      <td>0.248873</td>\n",
              "      <td>0.286623</td>\n",
              "      <td>0.118809</td>\n",
              "      <td>2.290497</td>\n",
              "    </tr>\n",
              "    <tr>\n",
              "      <th>std</th>\n",
              "      <td>5.703291e+05</td>\n",
              "      <td>0.764173</td>\n",
              "      <td>1.141705e+05</td>\n",
              "      <td>3501.379005</td>\n",
              "      <td>2399.565821</td>\n",
              "      <td>0.432361</td>\n",
              "      <td>0.452184</td>\n",
              "      <td>0.323564</td>\n",
              "      <td>0.926872</td>\n",
              "    </tr>\n",
              "    <tr>\n",
              "      <th>min</th>\n",
              "      <td>5.008804e+06</td>\n",
              "      <td>0.000000</td>\n",
              "      <td>2.700000e+04</td>\n",
              "      <td>-24834.000000</td>\n",
              "      <td>-17531.000000</td>\n",
              "      <td>0.000000</td>\n",
              "      <td>0.000000</td>\n",
              "      <td>0.000000</td>\n",
              "      <td>1.000000</td>\n",
              "    </tr>\n",
              "    <tr>\n",
              "      <th>25%</th>\n",
              "      <td>5.617515e+06</td>\n",
              "      <td>0.000000</td>\n",
              "      <td>1.350000e+05</td>\n",
              "      <td>-17455.000000</td>\n",
              "      <td>-3512.000000</td>\n",
              "      <td>0.000000</td>\n",
              "      <td>0.000000</td>\n",
              "      <td>0.000000</td>\n",
              "      <td>2.000000</td>\n",
              "    </tr>\n",
              "    <tr>\n",
              "      <th>50%</th>\n",
              "      <td>6.047737e+06</td>\n",
              "      <td>0.000000</td>\n",
              "      <td>1.800000e+05</td>\n",
              "      <td>-14581.000000</td>\n",
              "      <td>-1924.000000</td>\n",
              "      <td>0.000000</td>\n",
              "      <td>0.000000</td>\n",
              "      <td>0.000000</td>\n",
              "      <td>2.000000</td>\n",
              "    </tr>\n",
              "    <tr>\n",
              "      <th>75%</th>\n",
              "      <td>6.448645e+06</td>\n",
              "      <td>1.000000</td>\n",
              "      <td>2.250000e+05</td>\n",
              "      <td>-11938.000000</td>\n",
              "      <td>-915.000000</td>\n",
              "      <td>0.000000</td>\n",
              "      <td>1.000000</td>\n",
              "      <td>0.000000</td>\n",
              "      <td>3.000000</td>\n",
              "    </tr>\n",
              "    <tr>\n",
              "      <th>max</th>\n",
              "      <td>7.999952e+06</td>\n",
              "      <td>19.000000</td>\n",
              "      <td>6.750000e+06</td>\n",
              "      <td>-7489.000000</td>\n",
              "      <td>-12.000000</td>\n",
              "      <td>1.000000</td>\n",
              "      <td>1.000000</td>\n",
              "      <td>1.000000</td>\n",
              "      <td>20.000000</td>\n",
              "    </tr>\n",
              "  </tbody>\n",
              "</table>\n",
              "</div>\n",
              "      <button class=\"colab-df-convert\" onclick=\"convertToInteractive('df-efeebad3-ded8-476c-bbd0-8f35fb050eb0')\"\n",
              "              title=\"Convert this dataframe to an interactive table.\"\n",
              "              style=\"display:none;\">\n",
              "        \n",
              "  <svg xmlns=\"http://www.w3.org/2000/svg\" height=\"24px\"viewBox=\"0 0 24 24\"\n",
              "       width=\"24px\">\n",
              "    <path d=\"M0 0h24v24H0V0z\" fill=\"none\"/>\n",
              "    <path d=\"M18.56 5.44l.94 2.06.94-2.06 2.06-.94-2.06-.94-.94-2.06-.94 2.06-2.06.94zm-11 1L8.5 8.5l.94-2.06 2.06-.94-2.06-.94L8.5 2.5l-.94 2.06-2.06.94zm10 10l.94 2.06.94-2.06 2.06-.94-2.06-.94-.94-2.06-.94 2.06-2.06.94z\"/><path d=\"M17.41 7.96l-1.37-1.37c-.4-.4-.92-.59-1.43-.59-.52 0-1.04.2-1.43.59L10.3 9.45l-7.72 7.72c-.78.78-.78 2.05 0 2.83L4 21.41c.39.39.9.59 1.41.59.51 0 1.02-.2 1.41-.59l7.78-7.78 2.81-2.81c.8-.78.8-2.07 0-2.86zM5.41 20L4 18.59l7.72-7.72 1.47 1.35L5.41 20z\"/>\n",
              "  </svg>\n",
              "      </button>\n",
              "      \n",
              "  <style>\n",
              "    .colab-df-container {\n",
              "      display:flex;\n",
              "      flex-wrap:wrap;\n",
              "      gap: 12px;\n",
              "    }\n",
              "\n",
              "    .colab-df-convert {\n",
              "      background-color: #E8F0FE;\n",
              "      border: none;\n",
              "      border-radius: 50%;\n",
              "      cursor: pointer;\n",
              "      display: none;\n",
              "      fill: #1967D2;\n",
              "      height: 32px;\n",
              "      padding: 0 0 0 0;\n",
              "      width: 32px;\n",
              "    }\n",
              "\n",
              "    .colab-df-convert:hover {\n",
              "      background-color: #E2EBFA;\n",
              "      box-shadow: 0px 1px 2px rgba(60, 64, 67, 0.3), 0px 1px 3px 1px rgba(60, 64, 67, 0.15);\n",
              "      fill: #174EA6;\n",
              "    }\n",
              "\n",
              "    [theme=dark] .colab-df-convert {\n",
              "      background-color: #3B4455;\n",
              "      fill: #D2E3FC;\n",
              "    }\n",
              "\n",
              "    [theme=dark] .colab-df-convert:hover {\n",
              "      background-color: #434B5C;\n",
              "      box-shadow: 0px 1px 3px 1px rgba(0, 0, 0, 0.15);\n",
              "      filter: drop-shadow(0px 1px 2px rgba(0, 0, 0, 0.3));\n",
              "      fill: #FFFFFF;\n",
              "    }\n",
              "  </style>\n",
              "\n",
              "      <script>\n",
              "        const buttonEl =\n",
              "          document.querySelector('#df-efeebad3-ded8-476c-bbd0-8f35fb050eb0 button.colab-df-convert');\n",
              "        buttonEl.style.display =\n",
              "          google.colab.kernel.accessAllowed ? 'block' : 'none';\n",
              "\n",
              "        async function convertToInteractive(key) {\n",
              "          const element = document.querySelector('#df-efeebad3-ded8-476c-bbd0-8f35fb050eb0');\n",
              "          const dataTable =\n",
              "            await google.colab.kernel.invokeFunction('convertToInteractive',\n",
              "                                                     [key], {});\n",
              "          if (!dataTable) return;\n",
              "\n",
              "          const docLinkHtml = 'Like what you see? Visit the ' +\n",
              "            '<a target=\"_blank\" href=https://colab.research.google.com/notebooks/data_table.ipynb>data table notebook</a>'\n",
              "            + ' to learn more about interactive tables.';\n",
              "          element.innerHTML = '';\n",
              "          dataTable['output_type'] = 'display_data';\n",
              "          await google.colab.output.renderOutput(dataTable, element);\n",
              "          const docLink = document.createElement('div');\n",
              "          docLink.innerHTML = docLinkHtml;\n",
              "          element.appendChild(docLink);\n",
              "        }\n",
              "      </script>\n",
              "    </div>\n",
              "  </div>\n",
              "  "
            ]
          },
          "metadata": {},
          "execution_count": 19
        }
      ]
    },
    {
      "cell_type": "code",
      "source": [
        "employed_pen=employed[employed[\"income_type\"]=='Pensioner']\n",
        "employed_pen[~employed_pen[\"job\"].isna()]"
      ],
      "metadata": {
        "id": "VUTVIJst9lrU",
        "outputId": "6c51940b-d7c4-4c4c-e22d-16bc967f46fe",
        "colab": {
          "base_uri": "https://localhost:8080/",
          "height": 661
        }
      },
      "id": "VUTVIJst9lrU",
      "execution_count": 20,
      "outputs": [
        {
          "output_type": "execute_result",
          "data": {
            "text/plain": [
              "             id gender own_car own_realty  num_child    income income_type  \\\n",
              "435030  5270617      M       N          N          0  360000.0   Pensioner   \n",
              "435251  5372348      F       N          N          0  126000.0   Pensioner   \n",
              "436438  5952203      M       N          Y          1  157500.0   Pensioner   \n",
              "437060  6153998      M       Y          Y          0  270000.0   Pensioner   \n",
              "436969  6116043      M       Y          Y          0  270000.0   Pensioner   \n",
              "...         ...    ...     ...        ...        ...       ...         ...   \n",
              "435912  5730605      F       N          N          0   67500.0   Pensioner   \n",
              "436811  6076878      F       N          Y          0  202500.0   Pensioner   \n",
              "437131  6192077      M       Y          N          0  184500.0   Pensioner   \n",
              "435452  5464986      F       N          Y          0  180000.0   Pensioner   \n",
              "436705  6048203      F       Y          N          1   91188.0   Pensioner   \n",
              "\n",
              "                      education_level         family_status  \\\n",
              "435030               Higher education  Single / not married   \n",
              "435251  Secondary / secondary special               Married   \n",
              "436438  Secondary / secondary special               Married   \n",
              "437060  Secondary / secondary special               Married   \n",
              "436969               Higher education               Married   \n",
              "...                               ...                   ...   \n",
              "435912  Secondary / secondary special  Single / not married   \n",
              "436811               Higher education               Married   \n",
              "437131  Secondary / secondary special        Civil marriage   \n",
              "435452  Secondary / secondary special               Married   \n",
              "436705  Secondary / secondary special        Civil marriage   \n",
              "\n",
              "                 house_type  birth_day  employment_length  work_phone  phone  \\\n",
              "435030    House / apartment     -21907              -4782           1      0   \n",
              "435251    House / apartment     -21840              -1328           0      0   \n",
              "436438    House / apartment     -21805              -4683           0      0   \n",
              "437060  Municipal apartment     -21780              -1755           0      0   \n",
              "436969     Rented apartment     -21478               -276           0      0   \n",
              "...                     ...        ...                ...         ...    ...   \n",
              "435912         With parents     -10148               -616           0      0   \n",
              "436811    House / apartment      -9863              -2381           0      0   \n",
              "437131    House / apartment      -9646              -3099           1      0   \n",
              "435452    House / apartment      -9361               -336           0      0   \n",
              "436705    House / apartment      -9236               -214           1      1   \n",
              "\n",
              "        email          job  CNT_FAM_MEMBERS  \n",
              "435030      0     Managers              2.0  \n",
              "435251      0     Laborers              2.0  \n",
              "436438      0     Laborers              3.0  \n",
              "437060      1   Core staff              2.0  \n",
              "436969      0      Drivers              2.0  \n",
              "...       ...          ...              ...  \n",
              "435912      0     Laborers              1.0  \n",
              "436811      0   Core staff              2.0  \n",
              "437131      0      Drivers              2.0  \n",
              "435452      0  Secretaries              2.0  \n",
              "436705      0  Sales staff              3.0  \n",
              "\n",
              "[136 rows x 17 columns]"
            ],
            "text/html": [
              "\n",
              "  <div id=\"df-9abd2c58-41a9-4c4b-a653-31886e628f19\">\n",
              "    <div class=\"colab-df-container\">\n",
              "      <div>\n",
              "<style scoped>\n",
              "    .dataframe tbody tr th:only-of-type {\n",
              "        vertical-align: middle;\n",
              "    }\n",
              "\n",
              "    .dataframe tbody tr th {\n",
              "        vertical-align: top;\n",
              "    }\n",
              "\n",
              "    .dataframe thead th {\n",
              "        text-align: right;\n",
              "    }\n",
              "</style>\n",
              "<table border=\"1\" class=\"dataframe\">\n",
              "  <thead>\n",
              "    <tr style=\"text-align: right;\">\n",
              "      <th></th>\n",
              "      <th>id</th>\n",
              "      <th>gender</th>\n",
              "      <th>own_car</th>\n",
              "      <th>own_realty</th>\n",
              "      <th>num_child</th>\n",
              "      <th>income</th>\n",
              "      <th>income_type</th>\n",
              "      <th>education_level</th>\n",
              "      <th>family_status</th>\n",
              "      <th>house_type</th>\n",
              "      <th>birth_day</th>\n",
              "      <th>employment_length</th>\n",
              "      <th>work_phone</th>\n",
              "      <th>phone</th>\n",
              "      <th>email</th>\n",
              "      <th>job</th>\n",
              "      <th>CNT_FAM_MEMBERS</th>\n",
              "    </tr>\n",
              "  </thead>\n",
              "  <tbody>\n",
              "    <tr>\n",
              "      <th>435030</th>\n",
              "      <td>5270617</td>\n",
              "      <td>M</td>\n",
              "      <td>N</td>\n",
              "      <td>N</td>\n",
              "      <td>0</td>\n",
              "      <td>360000.0</td>\n",
              "      <td>Pensioner</td>\n",
              "      <td>Higher education</td>\n",
              "      <td>Single / not married</td>\n",
              "      <td>House / apartment</td>\n",
              "      <td>-21907</td>\n",
              "      <td>-4782</td>\n",
              "      <td>1</td>\n",
              "      <td>0</td>\n",
              "      <td>0</td>\n",
              "      <td>Managers</td>\n",
              "      <td>2.0</td>\n",
              "    </tr>\n",
              "    <tr>\n",
              "      <th>435251</th>\n",
              "      <td>5372348</td>\n",
              "      <td>F</td>\n",
              "      <td>N</td>\n",
              "      <td>N</td>\n",
              "      <td>0</td>\n",
              "      <td>126000.0</td>\n",
              "      <td>Pensioner</td>\n",
              "      <td>Secondary / secondary special</td>\n",
              "      <td>Married</td>\n",
              "      <td>House / apartment</td>\n",
              "      <td>-21840</td>\n",
              "      <td>-1328</td>\n",
              "      <td>0</td>\n",
              "      <td>0</td>\n",
              "      <td>0</td>\n",
              "      <td>Laborers</td>\n",
              "      <td>2.0</td>\n",
              "    </tr>\n",
              "    <tr>\n",
              "      <th>436438</th>\n",
              "      <td>5952203</td>\n",
              "      <td>M</td>\n",
              "      <td>N</td>\n",
              "      <td>Y</td>\n",
              "      <td>1</td>\n",
              "      <td>157500.0</td>\n",
              "      <td>Pensioner</td>\n",
              "      <td>Secondary / secondary special</td>\n",
              "      <td>Married</td>\n",
              "      <td>House / apartment</td>\n",
              "      <td>-21805</td>\n",
              "      <td>-4683</td>\n",
              "      <td>0</td>\n",
              "      <td>0</td>\n",
              "      <td>0</td>\n",
              "      <td>Laborers</td>\n",
              "      <td>3.0</td>\n",
              "    </tr>\n",
              "    <tr>\n",
              "      <th>437060</th>\n",
              "      <td>6153998</td>\n",
              "      <td>M</td>\n",
              "      <td>Y</td>\n",
              "      <td>Y</td>\n",
              "      <td>0</td>\n",
              "      <td>270000.0</td>\n",
              "      <td>Pensioner</td>\n",
              "      <td>Secondary / secondary special</td>\n",
              "      <td>Married</td>\n",
              "      <td>Municipal apartment</td>\n",
              "      <td>-21780</td>\n",
              "      <td>-1755</td>\n",
              "      <td>0</td>\n",
              "      <td>0</td>\n",
              "      <td>1</td>\n",
              "      <td>Core staff</td>\n",
              "      <td>2.0</td>\n",
              "    </tr>\n",
              "    <tr>\n",
              "      <th>436969</th>\n",
              "      <td>6116043</td>\n",
              "      <td>M</td>\n",
              "      <td>Y</td>\n",
              "      <td>Y</td>\n",
              "      <td>0</td>\n",
              "      <td>270000.0</td>\n",
              "      <td>Pensioner</td>\n",
              "      <td>Higher education</td>\n",
              "      <td>Married</td>\n",
              "      <td>Rented apartment</td>\n",
              "      <td>-21478</td>\n",
              "      <td>-276</td>\n",
              "      <td>0</td>\n",
              "      <td>0</td>\n",
              "      <td>0</td>\n",
              "      <td>Drivers</td>\n",
              "      <td>2.0</td>\n",
              "    </tr>\n",
              "    <tr>\n",
              "      <th>...</th>\n",
              "      <td>...</td>\n",
              "      <td>...</td>\n",
              "      <td>...</td>\n",
              "      <td>...</td>\n",
              "      <td>...</td>\n",
              "      <td>...</td>\n",
              "      <td>...</td>\n",
              "      <td>...</td>\n",
              "      <td>...</td>\n",
              "      <td>...</td>\n",
              "      <td>...</td>\n",
              "      <td>...</td>\n",
              "      <td>...</td>\n",
              "      <td>...</td>\n",
              "      <td>...</td>\n",
              "      <td>...</td>\n",
              "      <td>...</td>\n",
              "    </tr>\n",
              "    <tr>\n",
              "      <th>435912</th>\n",
              "      <td>5730605</td>\n",
              "      <td>F</td>\n",
              "      <td>N</td>\n",
              "      <td>N</td>\n",
              "      <td>0</td>\n",
              "      <td>67500.0</td>\n",
              "      <td>Pensioner</td>\n",
              "      <td>Secondary / secondary special</td>\n",
              "      <td>Single / not married</td>\n",
              "      <td>With parents</td>\n",
              "      <td>-10148</td>\n",
              "      <td>-616</td>\n",
              "      <td>0</td>\n",
              "      <td>0</td>\n",
              "      <td>0</td>\n",
              "      <td>Laborers</td>\n",
              "      <td>1.0</td>\n",
              "    </tr>\n",
              "    <tr>\n",
              "      <th>436811</th>\n",
              "      <td>6076878</td>\n",
              "      <td>F</td>\n",
              "      <td>N</td>\n",
              "      <td>Y</td>\n",
              "      <td>0</td>\n",
              "      <td>202500.0</td>\n",
              "      <td>Pensioner</td>\n",
              "      <td>Higher education</td>\n",
              "      <td>Married</td>\n",
              "      <td>House / apartment</td>\n",
              "      <td>-9863</td>\n",
              "      <td>-2381</td>\n",
              "      <td>0</td>\n",
              "      <td>0</td>\n",
              "      <td>0</td>\n",
              "      <td>Core staff</td>\n",
              "      <td>2.0</td>\n",
              "    </tr>\n",
              "    <tr>\n",
              "      <th>437131</th>\n",
              "      <td>6192077</td>\n",
              "      <td>M</td>\n",
              "      <td>Y</td>\n",
              "      <td>N</td>\n",
              "      <td>0</td>\n",
              "      <td>184500.0</td>\n",
              "      <td>Pensioner</td>\n",
              "      <td>Secondary / secondary special</td>\n",
              "      <td>Civil marriage</td>\n",
              "      <td>House / apartment</td>\n",
              "      <td>-9646</td>\n",
              "      <td>-3099</td>\n",
              "      <td>1</td>\n",
              "      <td>0</td>\n",
              "      <td>0</td>\n",
              "      <td>Drivers</td>\n",
              "      <td>2.0</td>\n",
              "    </tr>\n",
              "    <tr>\n",
              "      <th>435452</th>\n",
              "      <td>5464986</td>\n",
              "      <td>F</td>\n",
              "      <td>N</td>\n",
              "      <td>Y</td>\n",
              "      <td>0</td>\n",
              "      <td>180000.0</td>\n",
              "      <td>Pensioner</td>\n",
              "      <td>Secondary / secondary special</td>\n",
              "      <td>Married</td>\n",
              "      <td>House / apartment</td>\n",
              "      <td>-9361</td>\n",
              "      <td>-336</td>\n",
              "      <td>0</td>\n",
              "      <td>0</td>\n",
              "      <td>0</td>\n",
              "      <td>Secretaries</td>\n",
              "      <td>2.0</td>\n",
              "    </tr>\n",
              "    <tr>\n",
              "      <th>436705</th>\n",
              "      <td>6048203</td>\n",
              "      <td>F</td>\n",
              "      <td>Y</td>\n",
              "      <td>N</td>\n",
              "      <td>1</td>\n",
              "      <td>91188.0</td>\n",
              "      <td>Pensioner</td>\n",
              "      <td>Secondary / secondary special</td>\n",
              "      <td>Civil marriage</td>\n",
              "      <td>House / apartment</td>\n",
              "      <td>-9236</td>\n",
              "      <td>-214</td>\n",
              "      <td>1</td>\n",
              "      <td>1</td>\n",
              "      <td>0</td>\n",
              "      <td>Sales staff</td>\n",
              "      <td>3.0</td>\n",
              "    </tr>\n",
              "  </tbody>\n",
              "</table>\n",
              "<p>136 rows × 17 columns</p>\n",
              "</div>\n",
              "      <button class=\"colab-df-convert\" onclick=\"convertToInteractive('df-9abd2c58-41a9-4c4b-a653-31886e628f19')\"\n",
              "              title=\"Convert this dataframe to an interactive table.\"\n",
              "              style=\"display:none;\">\n",
              "        \n",
              "  <svg xmlns=\"http://www.w3.org/2000/svg\" height=\"24px\"viewBox=\"0 0 24 24\"\n",
              "       width=\"24px\">\n",
              "    <path d=\"M0 0h24v24H0V0z\" fill=\"none\"/>\n",
              "    <path d=\"M18.56 5.44l.94 2.06.94-2.06 2.06-.94-2.06-.94-.94-2.06-.94 2.06-2.06.94zm-11 1L8.5 8.5l.94-2.06 2.06-.94-2.06-.94L8.5 2.5l-.94 2.06-2.06.94zm10 10l.94 2.06.94-2.06 2.06-.94-2.06-.94-.94-2.06-.94 2.06-2.06.94z\"/><path d=\"M17.41 7.96l-1.37-1.37c-.4-.4-.92-.59-1.43-.59-.52 0-1.04.2-1.43.59L10.3 9.45l-7.72 7.72c-.78.78-.78 2.05 0 2.83L4 21.41c.39.39.9.59 1.41.59.51 0 1.02-.2 1.41-.59l7.78-7.78 2.81-2.81c.8-.78.8-2.07 0-2.86zM5.41 20L4 18.59l7.72-7.72 1.47 1.35L5.41 20z\"/>\n",
              "  </svg>\n",
              "      </button>\n",
              "      \n",
              "  <style>\n",
              "    .colab-df-container {\n",
              "      display:flex;\n",
              "      flex-wrap:wrap;\n",
              "      gap: 12px;\n",
              "    }\n",
              "\n",
              "    .colab-df-convert {\n",
              "      background-color: #E8F0FE;\n",
              "      border: none;\n",
              "      border-radius: 50%;\n",
              "      cursor: pointer;\n",
              "      display: none;\n",
              "      fill: #1967D2;\n",
              "      height: 32px;\n",
              "      padding: 0 0 0 0;\n",
              "      width: 32px;\n",
              "    }\n",
              "\n",
              "    .colab-df-convert:hover {\n",
              "      background-color: #E2EBFA;\n",
              "      box-shadow: 0px 1px 2px rgba(60, 64, 67, 0.3), 0px 1px 3px 1px rgba(60, 64, 67, 0.15);\n",
              "      fill: #174EA6;\n",
              "    }\n",
              "\n",
              "    [theme=dark] .colab-df-convert {\n",
              "      background-color: #3B4455;\n",
              "      fill: #D2E3FC;\n",
              "    }\n",
              "\n",
              "    [theme=dark] .colab-df-convert:hover {\n",
              "      background-color: #434B5C;\n",
              "      box-shadow: 0px 1px 3px 1px rgba(0, 0, 0, 0.15);\n",
              "      filter: drop-shadow(0px 1px 2px rgba(0, 0, 0, 0.3));\n",
              "      fill: #FFFFFF;\n",
              "    }\n",
              "  </style>\n",
              "\n",
              "      <script>\n",
              "        const buttonEl =\n",
              "          document.querySelector('#df-9abd2c58-41a9-4c4b-a653-31886e628f19 button.colab-df-convert');\n",
              "        buttonEl.style.display =\n",
              "          google.colab.kernel.accessAllowed ? 'block' : 'none';\n",
              "\n",
              "        async function convertToInteractive(key) {\n",
              "          const element = document.querySelector('#df-9abd2c58-41a9-4c4b-a653-31886e628f19');\n",
              "          const dataTable =\n",
              "            await google.colab.kernel.invokeFunction('convertToInteractive',\n",
              "                                                     [key], {});\n",
              "          if (!dataTable) return;\n",
              "\n",
              "          const docLinkHtml = 'Like what you see? Visit the ' +\n",
              "            '<a target=\"_blank\" href=https://colab.research.google.com/notebooks/data_table.ipynb>data table notebook</a>'\n",
              "            + ' to learn more about interactive tables.';\n",
              "          element.innerHTML = '';\n",
              "          dataTable['output_type'] = 'display_data';\n",
              "          await google.colab.output.renderOutput(dataTable, element);\n",
              "          const docLink = document.createElement('div');\n",
              "          docLink.innerHTML = docLinkHtml;\n",
              "          element.appendChild(docLink);\n",
              "        }\n",
              "      </script>\n",
              "    </div>\n",
              "  </div>\n",
              "  "
            ]
          },
          "metadata": {},
          "execution_count": 20
        }
      ]
    },
    {
      "cell_type": "markdown",
      "source": [
        "Some pensioners can still have jobs but are receiving a pension"
      ],
      "metadata": {
        "id": "XblEsfvL-dWE"
      },
      "id": "XblEsfvL-dWE"
    },
    {
      "cell_type": "code",
      "source": [
        "employed.isna().sum()"
      ],
      "metadata": {
        "id": "U8SY1SS56M4o",
        "outputId": "81eb96b2-1fbb-44bf-eaea-3b64798a6a00",
        "colab": {
          "base_uri": "https://localhost:8080/"
        }
      },
      "id": "U8SY1SS56M4o",
      "execution_count": 21,
      "outputs": [
        {
          "output_type": "execute_result",
          "data": {
            "text/plain": [
              "id                       0\n",
              "gender                   0\n",
              "own_car                  0\n",
              "own_realty               0\n",
              "num_child                0\n",
              "income                   0\n",
              "income_type              0\n",
              "education_level          0\n",
              "family_status            0\n",
              "house_type               0\n",
              "birth_day                0\n",
              "employment_length        0\n",
              "work_phone               0\n",
              "phone                    0\n",
              "email                    0\n",
              "job                  58868\n",
              "CNT_FAM_MEMBERS          0\n",
              "dtype: int64"
            ]
          },
          "metadata": {},
          "execution_count": 21
        }
      ]
    },
    {
      "cell_type": "code",
      "source": [
        "cond=employed['job'].notnull()\n",
        "predict_df= employed[~cond]\n",
        "df=employed[cond]"
      ],
      "metadata": {
        "id": "X0IipSB-58e3"
      },
      "id": "X0IipSB-58e3",
      "execution_count": 22,
      "outputs": []
    },
    {
      "cell_type": "code",
      "execution_count": 23,
      "id": "4ea59168",
      "metadata": {
        "colab": {
          "base_uri": "https://localhost:8080/"
        },
        "id": "4ea59168",
        "outputId": "49363492-7bc9-4cb6-e2d6-a94e0986cdcc"
      },
      "outputs": [
        {
          "output_type": "stream",
          "name": "stdout",
          "text": [
            "(58868, 17)\n",
            "(304313, 17)\n"
          ]
        }
      ],
      "source": [
        "print(predict_df.shape)\n",
        "print(df.shape)"
      ]
    },
    {
      "cell_type": "markdown",
      "id": "xcdvYVQJe85t",
      "metadata": {
        "id": "xcdvYVQJe85t"
      },
      "source": [
        "Id is a redundant factor but we have to keep id for `predict_df` when we want to merge the predicted df later"
      ]
    },
    {
      "cell_type": "code",
      "execution_count": 24,
      "id": "Gmd1Is2Pe8To",
      "metadata": {
        "id": "Gmd1Is2Pe8To"
      },
      "outputs": [],
      "source": [
        "train_df=df.drop(\"id\",axis=1,inplace=False)"
      ]
    },
    {
      "cell_type": "markdown",
      "id": "b2b71166",
      "metadata": {
        "id": "b2b71166"
      },
      "source": [
        "We can use a decision tree to predict the job of the person if we assume our data (n=62608) covers the majority of jobs that we will encounter (no outlier jobs). "
      ]
    },
    {
      "cell_type": "markdown",
      "id": "qvxjfne16bz3",
      "metadata": {
        "id": "qvxjfne16bz3"
      },
      "source": [
        "The following code is inspired by https://github.com/fastai/fastbook/blob/master/09_tabular.ipynb"
      ]
    },
    {
      "cell_type": "code",
      "execution_count": 25,
      "id": "315d82fe",
      "metadata": {
        "id": "315d82fe"
      },
      "outputs": [],
      "source": [
        "from sklearn.model_selection import ShuffleSplit\n",
        "from pandas.api.types import is_string_dtype, is_numeric_dtype, is_categorical_dtype\n",
        "from sklearn.ensemble import RandomForestClassifier\n",
        "from sklearn.tree import DecisionTreeClassifier,export_text,plot_tree\n",
        "from fastai.tabular.all import *"
      ]
    },
    {
      "cell_type": "code",
      "execution_count": 26,
      "id": "RMMyxSBC6JYB",
      "metadata": {
        "id": "RMMyxSBC6JYB"
      },
      "outputs": [],
      "source": [
        "dep_var=\"job\""
      ]
    },
    {
      "cell_type": "code",
      "execution_count": 27,
      "id": "3Jc8fgG05PRK",
      "metadata": {
        "id": "3Jc8fgG05PRK"
      },
      "outputs": [],
      "source": [
        "sss = ShuffleSplit(n_splits=1, test_size=0.2)\n",
        "train_idx, valid_idx = next(sss.split(train_df))\n",
        "splits = (list(train_idx),list(valid_idx))"
      ]
    },
    {
      "cell_type": "code",
      "execution_count": 28,
      "id": "c91f214a",
      "metadata": {
        "id": "c91f214a"
      },
      "outputs": [],
      "source": [
        "procs = [Categorify]"
      ]
    },
    {
      "cell_type": "code",
      "execution_count": 29,
      "id": "z9U7CnRy4x0k",
      "metadata": {
        "id": "z9U7CnRy4x0k"
      },
      "outputs": [],
      "source": [
        "cont,cat = cont_cat_split(train_df, 1, dep_var=dep_var)"
      ]
    },
    {
      "cell_type": "code",
      "execution_count": 30,
      "id": "7Q8hb3036kn-",
      "metadata": {
        "id": "7Q8hb3036kn-"
      },
      "outputs": [],
      "source": [
        "to = TabularPandas(train_df, procs, cat, cont, y_names=dep_var, splits=splits)"
      ]
    },
    {
      "cell_type": "code",
      "execution_count": 31,
      "id": "KNnkFsOa6rHO",
      "metadata": {
        "colab": {
          "base_uri": "https://localhost:8080/"
        },
        "id": "KNnkFsOa6rHO",
        "outputId": "77e8189d-b1e7-42b3-c013-b3ebee2690c2"
      },
      "outputs": [
        {
          "output_type": "execute_result",
          "data": {
            "text/plain": [
              "(243450, 60863)"
            ]
          },
          "metadata": {},
          "execution_count": 31
        }
      ],
      "source": [
        "len(to.train),len(to.valid)"
      ]
    },
    {
      "cell_type": "code",
      "execution_count": 32,
      "id": "GEUlDVn585Gl",
      "metadata": {
        "id": "GEUlDVn585Gl"
      },
      "outputs": [],
      "source": [
        "xs,y = to.train.xs,to.train.y\n",
        "valid_xs,valid_y = to.valid.xs,to.valid.y"
      ]
    },
    {
      "cell_type": "code",
      "execution_count": 33,
      "id": "rr31_gF486cT",
      "metadata": {
        "colab": {
          "base_uri": "https://localhost:8080/"
        },
        "id": "rr31_gF486cT",
        "outputId": "a73e2cb2-f58f-435a-e4e9-109f41325a4b"
      },
      "outputs": [
        {
          "output_type": "execute_result",
          "data": {
            "text/plain": [
              "DecisionTreeClassifier(max_depth=10, random_state=42)"
            ]
          },
          "metadata": {},
          "execution_count": 33
        }
      ],
      "source": [
        "m = DecisionTreeClassifier(max_depth=10,random_state=random_state)\n",
        "m.fit(xs, y)"
      ]
    },
    {
      "cell_type": "code",
      "execution_count": 34,
      "id": "v0HDPeGidXdl",
      "metadata": {
        "id": "v0HDPeGidXdl"
      },
      "outputs": [],
      "source": [
        "class_names2pass = sorted(train_df[\"job\"].unique())"
      ]
    },
    {
      "cell_type": "code",
      "execution_count": 35,
      "id": "Ob3BUCixc-Ey",
      "metadata": {
        "colab": {
          "base_uri": "https://localhost:8080/",
          "height": 1000
        },
        "id": "Ob3BUCixc-Ey",
        "outputId": "25cebe2e-9c95-4f55-9026-244a7aa3ddf3"
      },
      "outputs": [
        {
          "output_type": "display_data",
          "data": {
            "text/plain": [
              "<Figure size 1800x1440 with 1 Axes>"
            ],
            "image/png": "[encoded data removed]"
          },
          "metadata": {
            "needs_background": "light"
          }
        }
      ],
      "source": [
        "fig = plt.figure(figsize=(25,20))\n",
        "var = plot_tree(m,feature_names=train_df.columns, class_names=class_names2pass,max_depth=2,fontsize=12)"
      ]
    },
    {
      "cell_type": "code",
      "execution_count": 36,
      "id": "5g61SbZJfQV4",
      "metadata": {
        "id": "5g61SbZJfQV4"
      },
      "outputs": [],
      "source": [
        "from sklearn.metrics import classification_report, confusion_matrix,ConfusionMatrixDisplay"
      ]
    },
    {
      "cell_type": "code",
      "source": [
        "preds_dt=m.predict(valid_xs)"
      ],
      "metadata": {
        "id": "XDKxlwBGW-Kg"
      },
      "id": "XDKxlwBGW-Kg",
      "execution_count": 37,
      "outputs": []
    },
    {
      "cell_type": "code",
      "execution_count": 38,
      "id": "pY8ooIB3O2rP",
      "metadata": {
        "id": "pY8ooIB3O2rP",
        "outputId": "dc9aff4a-5872-4e89-aa55-1f1f4569400c",
        "colab": {
          "base_uri": "https://localhost:8080/",
          "height": 1000
        }
      },
      "outputs": [
        {
          "output_type": "stream",
          "name": "stderr",
          "text": [
            "/usr/local/lib/python3.7/dist-packages/sklearn/metrics/_classification.py:1318: UndefinedMetricWarning: Precision and F-score are ill-defined and being set to 0.0 in labels with no predicted samples. Use `zero_division` parameter to control this behavior.\n",
            "  _warn_prf(average, modifier, msg_start, len(result))\n",
            "/usr/local/lib/python3.7/dist-packages/sklearn/metrics/_classification.py:1318: UndefinedMetricWarning: Precision and F-score are ill-defined and being set to 0.0 in labels with no predicted samples. Use `zero_division` parameter to control this behavior.\n",
            "  _warn_prf(average, modifier, msg_start, len(result))\n",
            "/usr/local/lib/python3.7/dist-packages/sklearn/metrics/_classification.py:1318: UndefinedMetricWarning: Precision and F-score are ill-defined and being set to 0.0 in labels with no predicted samples. Use `zero_division` parameter to control this behavior.\n",
            "  _warn_prf(average, modifier, msg_start, len(result))\n"
          ]
        },
        {
          "output_type": "stream",
          "name": "stdout",
          "text": [
            "                       precision    recall  f1-score   support\n",
            "\n",
            "          Accountants       0.39      0.11      0.18      3272\n",
            "       Cleaning staff       0.30      0.08      0.12      1126\n",
            "        Cooking staff       0.29      0.01      0.02      1607\n",
            "           Core staff       0.42      0.47      0.44      8598\n",
            "              Drivers       0.44      0.29      0.35      5221\n",
            "             HR staff       1.00      0.01      0.01       157\n",
            "High skill tech staff       0.50      0.06      0.10      3395\n",
            "             IT staff       1.00      0.02      0.03       120\n",
            "             Laborers       0.41      0.65      0.50     15645\n",
            "   Low-skill Laborers       0.00      0.00      0.00       442\n",
            "             Managers       0.43      0.43      0.43      7033\n",
            "       Medicine staff       0.44      0.16      0.23      2594\n",
            "Private service staff       0.71      0.03      0.06       727\n",
            "        Realty agents       0.00      0.00      0.00       220\n",
            "          Sales staff       0.33      0.50      0.39      8280\n",
            "          Secretaries       0.82      0.02      0.04       430\n",
            "       Security staff       0.62      0.03      0.06      1661\n",
            " Waiters/barmen staff       0.80      0.01      0.02       335\n",
            "\n",
            "             accuracy                           0.40     60863\n",
            "            macro avg       0.49      0.16      0.17     60863\n",
            "         weighted avg       0.42      0.40      0.36     60863\n",
            "\n"
          ]
        },
        {
          "output_type": "display_data",
          "data": {
            "text/plain": [
              "<Figure size 1440x1080 with 2 Axes>"
            ],
            "image/png": "[encoded data removed]"
          },
          "metadata": {
            "needs_background": "light"
          }
        }
      ],
      "source": [
        "print(classification_report(valid_y,preds_dt,target_names=class_names2pass))\n",
        "disp=ConfusionMatrixDisplay.from_estimator(m,valid_xs, valid_y,display_labels=class_names2pass)\n",
        "fig=disp.ax_.get_figure() \n",
        "fig.set_figwidth(20)\n",
        "fig.set_figheight(15) "
      ]
    },
    {
      "cell_type": "markdown",
      "id": "tEXn84vFPN0x",
      "metadata": {
        "id": "tEXn84vFPN0x"
      },
      "source": [
        "This baseline decision tree is garbage!"
      ]
    },
    {
      "cell_type": "markdown",
      "id": "eTm4EIgeQVf3",
      "metadata": {
        "id": "eTm4EIgeQVf3"
      },
      "source": [
        "Perhaps we could use random forests"
      ]
    },
    {
      "cell_type": "code",
      "execution_count": 39,
      "id": "LPDRpcMYQbAG",
      "metadata": {
        "id": "LPDRpcMYQbAG"
      },
      "outputs": [],
      "source": [
        "def rf(xs, y, n_estimators=40, max_samples=30000,\n",
        "       max_features=0.5, min_samples_leaf=5):\n",
        "    return RandomForestClassifier(n_jobs=-1, n_estimators=n_estimators,\n",
        "        max_samples=max_samples, max_features=max_features,\n",
        "        min_samples_leaf=min_samples_leaf, oob_score=True,random_state=random_state).fit(xs, y)"
      ]
    },
    {
      "cell_type": "code",
      "execution_count": 40,
      "id": "0V-EQBcrQjVQ",
      "metadata": {
        "id": "0V-EQBcrQjVQ"
      },
      "outputs": [],
      "source": [
        "rf_m = rf(xs, y);"
      ]
    },
    {
      "cell_type": "code",
      "execution_count": 41,
      "id": "DVwgFfAEQwHO",
      "metadata": {
        "id": "DVwgFfAEQwHO"
      },
      "outputs": [],
      "source": [
        "preds_rf=rf_m.predict(valid_xs)"
      ]
    },
    {
      "cell_type": "code",
      "source": [
        "print(classification_report(valid_y,preds_rf,target_names=class_names2pass))"
      ],
      "metadata": {
        "id": "GQ9TJTAFYHxm",
        "outputId": "ed68a65c-71ec-4a76-fce9-7a5a9d560724",
        "colab": {
          "base_uri": "https://localhost:8080/"
        }
      },
      "id": "GQ9TJTAFYHxm",
      "execution_count": 42,
      "outputs": [
        {
          "output_type": "stream",
          "name": "stdout",
          "text": [
            "                       precision    recall  f1-score   support\n",
            "\n",
            "          Accountants       0.74      0.48      0.58      3272\n",
            "       Cleaning staff       0.66      0.27      0.38      1126\n",
            "        Cooking staff       0.94      0.18      0.30      1607\n",
            "           Core staff       0.62      0.67      0.64      8598\n",
            "              Drivers       0.67      0.53      0.60      5221\n",
            "             HR staff       1.00      0.06      0.11       157\n",
            "High skill tech staff       0.89      0.26      0.40      3395\n",
            "             IT staff       1.00      0.07      0.12       120\n",
            "             Laborers       0.56      0.83      0.67     15645\n",
            "   Low-skill Laborers       1.00      0.07      0.14       442\n",
            "             Managers       0.64      0.63      0.63      7033\n",
            "       Medicine staff       0.69      0.46      0.55      2594\n",
            "Private service staff       0.97      0.13      0.23       727\n",
            "        Realty agents       1.00      0.07      0.13       220\n",
            "          Sales staff       0.54      0.73      0.62      8280\n",
            "          Secretaries       1.00      0.06      0.11       430\n",
            "       Security staff       0.92      0.13      0.23      1661\n",
            " Waiters/barmen staff       1.00      0.08      0.14       335\n",
            "\n",
            "             accuracy                           0.60     60863\n",
            "            macro avg       0.82      0.32      0.37     60863\n",
            "         weighted avg       0.66      0.60      0.58     60863\n",
            "\n"
          ]
        }
      ]
    },
    {
      "cell_type": "code",
      "execution_count": 43,
      "id": "WhEVPqnBjITD",
      "metadata": {
        "colab": {
          "base_uri": "https://localhost:8080/",
          "height": 877
        },
        "id": "WhEVPqnBjITD",
        "outputId": "acf87925-a56b-4b0d-97df-7e0a5f2a26c0"
      },
      "outputs": [
        {
          "output_type": "display_data",
          "data": {
            "text/plain": [
              "<Figure size 1440x1080 with 2 Axes>"
            ],
            "image/png": "[encoded data removed]"
          },
          "metadata": {
            "needs_background": "light"
          }
        }
      ],
      "source": [
        "disp=ConfusionMatrixDisplay.from_estimator(rf_m,valid_xs, valid_y,display_labels=class_names2pass)\n",
        "fig=disp.ax_.get_figure() \n",
        "fig.set_figwidth(20)\n",
        "fig.set_figheight(15) "
      ]
    },
    {
      "cell_type": "markdown",
      "id": "O4aTDrA-Q-4L",
      "metadata": {
        "id": "O4aTDrA-Q-4L"
      },
      "source": [
        "Random forests do a bit better but still are bad"
      ]
    },
    {
      "cell_type": "markdown",
      "id": "FwuVsI1wUrxN",
      "metadata": {
        "id": "FwuVsI1wUrxN"
      },
      "source": [
        "Feature Importance"
      ]
    },
    {
      "cell_type": "code",
      "execution_count": 44,
      "id": "bJOoODL5UpLf",
      "metadata": {
        "id": "bJOoODL5UpLf"
      },
      "outputs": [],
      "source": [
        "def rf_feat_importance(m, df):\n",
        "    return pd.DataFrame({'cols':df.columns, 'imp':m.feature_importances_}\n",
        "                       ).sort_values('imp', ascending=False)"
      ]
    },
    {
      "cell_type": "code",
      "execution_count": 45,
      "id": "MMiWSj0lU5X2",
      "metadata": {
        "colab": {
          "base_uri": "https://localhost:8080/",
          "height": 363
        },
        "id": "MMiWSj0lU5X2",
        "outputId": "94b91aa4-9c0d-4ebd-f964-202212054b38"
      },
      "outputs": [
        {
          "output_type": "execute_result",
          "data": {
            "text/plain": [
              "                 cols       imp\n",
              "0              gender  0.223838\n",
              "4     education_level  0.187657\n",
              "10  employment_length  0.146320\n",
              "9           birth_day  0.124685\n",
              "8              income  0.117094\n",
              "3         income_type  0.110023\n",
              "1             own_car  0.024431\n",
              "5       family_status  0.011515\n",
              "11         work_phone  0.010099\n",
              "6          house_type  0.009513"
            ],
            "text/html": [
              "\n",
              "  <div id=\"df-e18abccf-7f73-4521-a365-1c1c206db31c\">\n",
              "    <div class=\"colab-df-container\">\n",
              "      <div>\n",
              "<style scoped>\n",
              "    .dataframe tbody tr th:only-of-type {\n",
              "        vertical-align: middle;\n",
              "    }\n",
              "\n",
              "    .dataframe tbody tr th {\n",
              "        vertical-align: top;\n",
              "    }\n",
              "\n",
              "    .dataframe thead th {\n",
              "        text-align: right;\n",
              "    }\n",
              "</style>\n",
              "<table border=\"1\" class=\"dataframe\">\n",
              "  <thead>\n",
              "    <tr style=\"text-align: right;\">\n",
              "      <th></th>\n",
              "      <th>cols</th>\n",
              "      <th>imp</th>\n",
              "    </tr>\n",
              "  </thead>\n",
              "  <tbody>\n",
              "    <tr>\n",
              "      <th>0</th>\n",
              "      <td>gender</td>\n",
              "      <td>0.223838</td>\n",
              "    </tr>\n",
              "    <tr>\n",
              "      <th>4</th>\n",
              "      <td>education_level</td>\n",
              "      <td>0.187657</td>\n",
              "    </tr>\n",
              "    <tr>\n",
              "      <th>10</th>\n",
              "      <td>employment_length</td>\n",
              "      <td>0.146320</td>\n",
              "    </tr>\n",
              "    <tr>\n",
              "      <th>9</th>\n",
              "      <td>birth_day</td>\n",
              "      <td>0.124685</td>\n",
              "    </tr>\n",
              "    <tr>\n",
              "      <th>8</th>\n",
              "      <td>income</td>\n",
              "      <td>0.117094</td>\n",
              "    </tr>\n",
              "    <tr>\n",
              "      <th>3</th>\n",
              "      <td>income_type</td>\n",
              "      <td>0.110023</td>\n",
              "    </tr>\n",
              "    <tr>\n",
              "      <th>1</th>\n",
              "      <td>own_car</td>\n",
              "      <td>0.024431</td>\n",
              "    </tr>\n",
              "    <tr>\n",
              "      <th>5</th>\n",
              "      <td>family_status</td>\n",
              "      <td>0.011515</td>\n",
              "    </tr>\n",
              "    <tr>\n",
              "      <th>11</th>\n",
              "      <td>work_phone</td>\n",
              "      <td>0.010099</td>\n",
              "    </tr>\n",
              "    <tr>\n",
              "      <th>6</th>\n",
              "      <td>house_type</td>\n",
              "      <td>0.009513</td>\n",
              "    </tr>\n",
              "  </tbody>\n",
              "</table>\n",
              "</div>\n",
              "      <button class=\"colab-df-convert\" onclick=\"convertToInteractive('df-e18abccf-7f73-4521-a365-1c1c206db31c')\"\n",
              "              title=\"Convert this dataframe to an interactive table.\"\n",
              "              style=\"display:none;\">\n",
              "        \n",
              "  <svg xmlns=\"http://www.w3.org/2000/svg\" height=\"24px\"viewBox=\"0 0 24 24\"\n",
              "       width=\"24px\">\n",
              "    <path d=\"M0 0h24v24H0V0z\" fill=\"none\"/>\n",
              "    <path d=\"M18.56 5.44l.94 2.06.94-2.06 2.06-.94-2.06-.94-.94-2.06-.94 2.06-2.06.94zm-11 1L8.5 8.5l.94-2.06 2.06-.94-2.06-.94L8.5 2.5l-.94 2.06-2.06.94zm10 10l.94 2.06.94-2.06 2.06-.94-2.06-.94-.94-2.06-.94 2.06-2.06.94z\"/><path d=\"M17.41 7.96l-1.37-1.37c-.4-.4-.92-.59-1.43-.59-.52 0-1.04.2-1.43.59L10.3 9.45l-7.72 7.72c-.78.78-.78 2.05 0 2.83L4 21.41c.39.39.9.59 1.41.59.51 0 1.02-.2 1.41-.59l7.78-7.78 2.81-2.81c.8-.78.8-2.07 0-2.86zM5.41 20L4 18.59l7.72-7.72 1.47 1.35L5.41 20z\"/>\n",
              "  </svg>\n",
              "      </button>\n",
              "      \n",
              "  <style>\n",
              "    .colab-df-container {\n",
              "      display:flex;\n",
              "      flex-wrap:wrap;\n",
              "      gap: 12px;\n",
              "    }\n",
              "\n",
              "    .colab-df-convert {\n",
              "      background-color: #E8F0FE;\n",
              "      border: none;\n",
              "      border-radius: 50%;\n",
              "      cursor: pointer;\n",
              "      display: none;\n",
              "      fill: #1967D2;\n",
              "      height: 32px;\n",
              "      padding: 0 0 0 0;\n",
              "      width: 32px;\n",
              "    }\n",
              "\n",
              "    .colab-df-convert:hover {\n",
              "      background-color: #E2EBFA;\n",
              "      box-shadow: 0px 1px 2px rgba(60, 64, 67, 0.3), 0px 1px 3px 1px rgba(60, 64, 67, 0.15);\n",
              "      fill: #174EA6;\n",
              "    }\n",
              "\n",
              "    [theme=dark] .colab-df-convert {\n",
              "      background-color: #3B4455;\n",
              "      fill: #D2E3FC;\n",
              "    }\n",
              "\n",
              "    [theme=dark] .colab-df-convert:hover {\n",
              "      background-color: #434B5C;\n",
              "      box-shadow: 0px 1px 3px 1px rgba(0, 0, 0, 0.15);\n",
              "      filter: drop-shadow(0px 1px 2px rgba(0, 0, 0, 0.3));\n",
              "      fill: #FFFFFF;\n",
              "    }\n",
              "  </style>\n",
              "\n",
              "      <script>\n",
              "        const buttonEl =\n",
              "          document.querySelector('#df-e18abccf-7f73-4521-a365-1c1c206db31c button.colab-df-convert');\n",
              "        buttonEl.style.display =\n",
              "          google.colab.kernel.accessAllowed ? 'block' : 'none';\n",
              "\n",
              "        async function convertToInteractive(key) {\n",
              "          const element = document.querySelector('#df-e18abccf-7f73-4521-a365-1c1c206db31c');\n",
              "          const dataTable =\n",
              "            await google.colab.kernel.invokeFunction('convertToInteractive',\n",
              "                                                     [key], {});\n",
              "          if (!dataTable) return;\n",
              "\n",
              "          const docLinkHtml = 'Like what you see? Visit the ' +\n",
              "            '<a target=\"_blank\" href=https://colab.research.google.com/notebooks/data_table.ipynb>data table notebook</a>'\n",
              "            + ' to learn more about interactive tables.';\n",
              "          element.innerHTML = '';\n",
              "          dataTable['output_type'] = 'display_data';\n",
              "          await google.colab.output.renderOutput(dataTable, element);\n",
              "          const docLink = document.createElement('div');\n",
              "          docLink.innerHTML = docLinkHtml;\n",
              "          element.appendChild(docLink);\n",
              "        }\n",
              "      </script>\n",
              "    </div>\n",
              "  </div>\n",
              "  "
            ]
          },
          "metadata": {},
          "execution_count": 45
        }
      ],
      "source": [
        "fi = rf_feat_importance(m, xs)\n",
        "fi[:10]"
      ]
    },
    {
      "cell_type": "code",
      "execution_count": 46,
      "id": "jSUAg4JRU6sH",
      "metadata": {
        "colab": {
          "base_uri": "https://localhost:8080/",
          "height": 428
        },
        "id": "jSUAg4JRU6sH",
        "outputId": "80123a29-7229-4f6e-82da-0e4f0bf7c119"
      },
      "outputs": [
        {
          "output_type": "display_data",
          "data": {
            "text/plain": [
              "<Figure size 864x504 with 1 Axes>"
            ],
            "image/png": "[encoded data removed]"
          },
          "metadata": {
            "needs_background": "light"
          }
        }
      ],
      "source": [
        "def plot_fi(fi):\n",
        "    return fi.plot('cols', 'imp', 'barh', figsize=(12,7), legend=False)\n",
        "\n",
        "plot_fi(fi);"
      ]
    },
    {
      "cell_type": "markdown",
      "id": "Lbrai5UiWotV",
      "metadata": {
        "id": "Lbrai5UiWotV"
      },
      "source": [
        "We would be using the random forest to predict the missing jobs but adding a label that the job is predicted from the random forest. Using this model might be better than simply removing na values or filling the median value of labours"
      ]
    },
    {
      "cell_type": "code",
      "execution_count": 47,
      "id": "N-Uk8ZwrXDZj",
      "metadata": {
        "id": "N-Uk8ZwrXDZj"
      },
      "outputs": [],
      "source": [
        "# use same pipeline to convert df\n",
        "predict_to = TabularPandas(predict_df, procs, cat, cont, y_names=dep_var)\n",
        "predict_xs = predict_to.train.xs\n",
        "predicted_jobs=rf_m.predict(predict_xs)\n",
        "predicted_jobs_names=[class_names2pass[i] for i in predicted_jobs]\n",
        "concat_df=predict_df.assign(job=predicted_jobs_names)"
      ]
    },
    {
      "cell_type": "code",
      "source": [
        "cleaned_df=pd.concat([concat_df,df,pensioners_not_working]).sort_values(\"id\")"
      ],
      "metadata": {
        "id": "WDl_GsDEAw9u"
      },
      "id": "WDl_GsDEAw9u",
      "execution_count": 48,
      "outputs": []
    },
    {
      "cell_type": "code",
      "source": [
        "cleaned_df.shape"
      ],
      "metadata": {
        "id": "aHOy-iRcCLcD",
        "outputId": "de19db69-c2b7-40de-868e-7de336daeab1",
        "colab": {
          "base_uri": "https://localhost:8080/"
        }
      },
      "id": "aHOy-iRcCLcD",
      "execution_count": 49,
      "outputs": [
        {
          "output_type": "execute_result",
          "data": {
            "text/plain": [
              "(438510, 17)"
            ]
          },
          "metadata": {},
          "execution_count": 49
        }
      ]
    },
    {
      "cell_type": "code",
      "source": [
        "cleaned_df.isnull().sum()"
      ],
      "metadata": {
        "id": "FQIqZz-cCUbP",
        "outputId": "57874f39-26d2-4c0d-dc3c-426afd2976c0",
        "colab": {
          "base_uri": "https://localhost:8080/"
        }
      },
      "id": "FQIqZz-cCUbP",
      "execution_count": 50,
      "outputs": [
        {
          "output_type": "execute_result",
          "data": {
            "text/plain": [
              "id                   0\n",
              "gender               0\n",
              "own_car              0\n",
              "own_realty           0\n",
              "num_child            0\n",
              "income               0\n",
              "income_type          0\n",
              "education_level      0\n",
              "family_status        0\n",
              "house_type           0\n",
              "birth_day            0\n",
              "employment_length    0\n",
              "work_phone           0\n",
              "phone                0\n",
              "email                0\n",
              "job                  0\n",
              "CNT_FAM_MEMBERS      0\n",
              "dtype: int64"
            ]
          },
          "metadata": {},
          "execution_count": 50
        }
      ]
    },
    {
      "cell_type": "code",
      "execution_count": 51,
      "id": "29FCMipIdeAQ",
      "metadata": {
        "id": "29FCMipIdeAQ"
      },
      "outputs": [],
      "source": [
        "cleaned_df.to_csv(\"cleaned_application.csv\")"
      ]
    }
  ],
  "metadata": {
    "colab": {
      "collapsed_sections": [],
      "provenance": [],
      "include_colab_link": true
    },
    "kernelspec": {
      "display_name": "Python 3.10.0 64-bit",
      "language": "python",
      "name": "python3"
    },
    "language_info": {
      "codemirror_mode": {
        "name": "ipython",
        "version": 3
      },
      "file_extension": ".py",
      "mimetype": "text/x-python",
      "name": "python",
      "nbconvert_exporter": "python",
      "pygments_lexer": "ipython3",
      "version": "3.10.0"
    },
    "vscode": {
      "interpreter": {
        "hash": "525f50cd3df40e9d57f214b2f9bedadf4bf08c85f9f5b3b27734de5b2eace747"
      }
    }
  },
  "nbformat": 4,
  "nbformat_minor": 5
}