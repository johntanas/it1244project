{
  "cells": [
    {
      "cell_type": "markdown",
      "metadata": {
        "id": "view-in-github",
        "colab_type": "text"
      },
      "source": [
        "<a href=\"https://colab.research.google.com/github/johntanas/it1244project/blob/main/code/model.ipynb\" target=\"_parent\"><img src=\"https://colab.research.google.com/assets/colab-badge.svg\" alt=\"Open In Colab\"/></a>"
      ]
    },
    {
      "cell_type": "code",
      "execution_count": 1,
      "id": "5179ea71",
      "metadata": {
        "id": "5179ea71"
      },
      "outputs": [],
      "source": [
        "import pandas as pd\n",
        "import numpy as np"
      ]
    },
    {
      "cell_type": "code",
      "source": [
        "path_to_evm_label=\"/content/expo_moving_labels.csv\"\n",
        "path_to_app=\"/content/cleaned_application.csv\"\n",
        "cleaned_app_df=pd.read_csv(path_to_app,index_col=0)\n",
        "ewm_df_status=pd.read_csv(path_to_evm_label,index_col=0)"
      ],
      "metadata": {
        "id": "XJlCQwWJEl2_"
      },
      "id": "XJlCQwWJEl2_",
      "execution_count": 2,
      "outputs": []
    },
    {
      "cell_type": "code",
      "source": [
        "labels_to_int_evm={\"bad\":1,\"neutral\":2,\"good\":2}"
      ],
      "metadata": {
        "id": "yATIoEXw31Eu"
      },
      "id": "yATIoEXw31Eu",
      "execution_count": 3,
      "outputs": []
    },
    {
      "cell_type": "code",
      "source": [
        "ewm_df=ewm_df_status.drop(columns=\"status\").replace({\"label\":labels_to_int_evm})"
      ],
      "metadata": {
        "id": "lXL4go3Q3UVC"
      },
      "id": "lXL4go3Q3UVC",
      "execution_count": 4,
      "outputs": []
    },
    {
      "cell_type": "code",
      "source": [
        "dep_var=\"label\"\n",
        "random_state=42"
      ],
      "metadata": {
        "id": "DoxeFDv6Mgj8"
      },
      "id": "DoxeFDv6Mgj8",
      "execution_count": 5,
      "outputs": []
    },
    {
      "cell_type": "code",
      "source": [
        "from sklearn.model_selection import ShuffleSplit\n",
        "from pandas.api.types import is_string_dtype, is_numeric_dtype, is_categorical_dtype\n",
        "from sklearn.ensemble import RandomForestClassifier\n",
        "from sklearn.tree import DecisionTreeClassifier,export_text,plot_tree\n",
        "from fastai.tabular.all import *\n",
        "from sklearn.metrics import classification_report, confusion_matrix,ConfusionMatrixDisplay"
      ],
      "metadata": {
        "id": "72z3c3jMIzVZ"
      },
      "id": "72z3c3jMIzVZ",
      "execution_count": 6,
      "outputs": []
    },
    {
      "cell_type": "code",
      "source": [
        "train_df=ewm_df.merge(cleaned_app_df,how=\"inner\",on=\"id\").drop(\"id\",axis=1)"
      ],
      "metadata": {
        "id": "ZEu51Hh-LyC5"
      },
      "id": "ZEu51Hh-LyC5",
      "execution_count": 34,
      "outputs": []
    },
    {
      "cell_type": "code",
      "execution_count": 35,
      "id": "db605ac0",
      "metadata": {
        "id": "db605ac0"
      },
      "outputs": [],
      "source": [
        "cont,cat = cont_cat_split(train_df, max_card=1, dep_var=dep_var)"
      ]
    },
    {
      "cell_type": "code",
      "source": [
        "sss = ShuffleSplit(n_splits=1, test_size=0.2)\n",
        "train_idx, valid_idx = next(sss.split(train_df))\n",
        "splits = (list(train_idx),list(valid_idx))"
      ],
      "metadata": {
        "id": "OPi_3D8PNUsR"
      },
      "id": "OPi_3D8PNUsR",
      "execution_count": 36,
      "outputs": []
    },
    {
      "cell_type": "code",
      "source": [
        "procs = [Categorify, Normalize]\n",
        "to = TabularPandas(train_df, procs, cat, cont,\n",
        "                      splits=splits, y_names=dep_var)"
      ],
      "metadata": {
        "id": "fyZWDaD6I76o"
      },
      "id": "fyZWDaD6I76o",
      "execution_count": 37,
      "outputs": []
    },
    {
      "cell_type": "code",
      "source": [
        "xs,y = to.train.xs,to.train.y\n",
        "valid_xs,valid_y = to.valid.xs,to.valid.y"
      ],
      "metadata": {
        "id": "psnOcv568fbM"
      },
      "id": "psnOcv568fbM",
      "execution_count": 38,
      "outputs": []
    },
    {
      "cell_type": "code",
      "source": [
        "Counter(valid_y)"
      ],
      "metadata": {
        "id": "KsBj7VXz60Yp",
        "outputId": "252cb87c-62de-40b3-ed15-e1056c4f855b",
        "colab": {
          "base_uri": "https://localhost:8080/"
        }
      },
      "id": "KsBj7VXz60Yp",
      "execution_count": 39,
      "outputs": [
        {
          "output_type": "execute_result",
          "data": {
            "text/plain": [
              "Counter({1: 384, 2: 1129})"
            ]
          },
          "metadata": {},
          "execution_count": 39
        }
      ]
    },
    {
      "cell_type": "code",
      "source": [
        "m = DecisionTreeClassifier(max_depth=18,random_state=random_state)\n",
        "m.fit(xs, y)"
      ],
      "metadata": {
        "id": "65zi5g0g8Jku",
        "outputId": "c27a1c50-4125-4151-e9c1-de28b1daaac5",
        "colab": {
          "base_uri": "https://localhost:8080/"
        }
      },
      "id": "65zi5g0g8Jku",
      "execution_count": 40,
      "outputs": [
        {
          "output_type": "execute_result",
          "data": {
            "text/plain": [
              "DecisionTreeClassifier(max_depth=18, random_state=42)"
            ]
          },
          "metadata": {},
          "execution_count": 40
        }
      ]
    },
    {
      "cell_type": "code",
      "source": [
        "preds=m.predict(valid_xs)"
      ],
      "metadata": {
        "id": "3IKlaeFFMuZ1"
      },
      "id": "3IKlaeFFMuZ1",
      "execution_count": 41,
      "outputs": []
    },
    {
      "cell_type": "code",
      "source": [
        "int_to_labels_evm={\"bad\":1,\"good\":2}\n",
        "#int_to_labels_evm={v:k for k,v in enumerate(labels_to_int_evm)}"
      ],
      "metadata": {
        "id": "sVmFd-LbPJVS"
      },
      "id": "sVmFd-LbPJVS",
      "execution_count": 42,
      "outputs": []
    },
    {
      "cell_type": "code",
      "source": [
        "print(classification_report(valid_y, preds,target_names=int_to_labels_evm))\n",
        "disp=ConfusionMatrixDisplay.from_predictions(valid_y, preds,display_labels=int_to_labels_evm)\n",
        "fig=disp.ax_.get_figure() \n",
        "fig.set_figwidth(10)\n",
        "fig.set_figheight(5) "
      ],
      "metadata": {
        "id": "lj5t7afwMjsQ",
        "outputId": "456ffefb-684a-4ba7-e1e8-3c4e27ae3728",
        "colab": {
          "base_uri": "https://localhost:8080/",
          "height": 491
        }
      },
      "id": "lj5t7afwMjsQ",
      "execution_count": 50,
      "outputs": [
        {
          "output_type": "stream",
          "name": "stdout",
          "text": [
            "              precision    recall  f1-score   support\n",
            "\n",
            "         bad       0.24      0.18      0.21       384\n",
            "        good       0.74      0.81      0.77      1129\n",
            "\n",
            "    accuracy                           0.65      1513\n",
            "   macro avg       0.49      0.49      0.49      1513\n",
            "weighted avg       0.61      0.65      0.63      1513\n",
            "\n"
          ]
        },
        {
          "output_type": "display_data",
          "data": {
            "text/plain": [
              "<Figure size 720x360 with 2 Axes>"
            ],
            "image/png": "[encoded data removed]"
          },
          "metadata": {
            "needs_background": "light"
          }
        }
      ]
    },
    {
      "cell_type": "code",
      "source": [
        "def rf(xs, y, n_estimators=40, max_samples=4000,\n",
        "       max_features=0.5, min_samples_leaf=5,random_state=random_state):\n",
        "    return RandomForestClassifier(n_jobs=-1, n_estimators=n_estimators,\n",
        "        max_samples=max_samples, max_features=max_features,\n",
        "        min_samples_leaf=min_samples_leaf, oob_score=True,random_state=random_state).fit(xs, y)"
      ],
      "metadata": {
        "id": "1ugWF27F8vk6"
      },
      "id": "1ugWF27F8vk6",
      "execution_count": 20,
      "outputs": []
    },
    {
      "cell_type": "code",
      "source": [
        "rf_m = rf(xs, y)\n",
        "preds_rf=rf_m.predict(valid_xs)"
      ],
      "metadata": {
        "id": "2IyvRObh8zea"
      },
      "id": "2IyvRObh8zea",
      "execution_count": 21,
      "outputs": []
    },
    {
      "cell_type": "code",
      "source": [
        "Counter(valid_y)"
      ],
      "metadata": {
        "id": "5uixt2YW6eEv",
        "outputId": "004de735-6d3c-4dc9-dde0-6f203f299a20",
        "colab": {
          "base_uri": "https://localhost:8080/"
        }
      },
      "id": "5uixt2YW6eEv",
      "execution_count": 27,
      "outputs": [
        {
          "output_type": "execute_result",
          "data": {
            "text/plain": [
              "Counter({2: 1169, 1: 344})"
            ]
          },
          "metadata": {},
          "execution_count": 27
        }
      ]
    },
    {
      "cell_type": "code",
      "source": [
        "print(classification_report(valid_y,preds_rf,target_names=int_to_labels_evm))\n",
        "disp=ConfusionMatrixDisplay.from_predictions(valid_y,preds_rf,display_labels=int_to_labels_evm)\n",
        "fig=disp.ax_.get_figure() \n",
        "fig.set_figwidth(10)\n",
        "fig.set_figheight(5) "
      ],
      "metadata": {
        "id": "Xyef8KbELlD_",
        "outputId": "61baac10-d1c0-4901-ac20-d81730100b10",
        "colab": {
          "base_uri": "https://localhost:8080/",
          "height": 490
        }
      },
      "id": "Xyef8KbELlD_",
      "execution_count": 47,
      "outputs": [
        {
          "output_type": "stream",
          "name": "stdout",
          "text": [
            "              precision    recall  f1-score   support\n",
            "\n",
            "         bad       0.29      0.01      0.02       384\n",
            "        good       0.75      0.99      0.85      1129\n",
            "\n",
            "    accuracy                           0.74      1513\n",
            "   macro avg       0.52      0.50      0.44      1513\n",
            "weighted avg       0.63      0.74      0.64      1513\n",
            "\n"
          ]
        },
        {
          "output_type": "display_data",
          "data": {
            "text/plain": [
              "<Figure size 720x360 with 2 Axes>"
            ],
            "image/png": "[encoded data removed]"
          },
          "metadata": {
            "needs_background": "light"
          }
        }
      ]
    },
    {
      "cell_type": "code",
      "source": [
        "from lightgbm import LGBMClassifier,plot_importance"
      ],
      "metadata": {
        "id": "PmghXWKw9TU-"
      },
      "id": "PmghXWKw9TU-",
      "execution_count": 23,
      "outputs": []
    },
    {
      "cell_type": "code",
      "source": [
        "boosted_tree=LGBMClassifier(boosting_type=\"gbdt\",random_state=random_state)\n",
        "boosted_tree.fit(xs,y)"
      ],
      "metadata": {
        "id": "aUMnzoIq9T86",
        "outputId": "a08d8be5-2c9e-49db-a691-9f329a8878f2",
        "colab": {
          "base_uri": "https://localhost:8080/"
        }
      },
      "id": "aUMnzoIq9T86",
      "execution_count": 32,
      "outputs": [
        {
          "output_type": "execute_result",
          "data": {
            "text/plain": [
              "LGBMClassifier(random_state=42)"
            ]
          },
          "metadata": {},
          "execution_count": 32
        }
      ]
    },
    {
      "cell_type": "code",
      "source": [
        "pred_boost=boosted_tree.predict(valid_xs)\n",
        "print(classification_report(valid_y,pred_boost,target_names=int_to_labels_evm))\n",
        "disp=ConfusionMatrixDisplay.from_predictions(valid_y,pred_boost,display_labels=int_to_labels_evm)\n",
        "fig=disp.ax_.get_figure() \n",
        "fig.set_figwidth(10)\n",
        "fig.set_figheight(5) "
      ],
      "metadata": {
        "id": "8IYpMFMaOy5Y",
        "outputId": "37d059e6-34af-47cf-c091-e9c7a2dcec71",
        "colab": {
          "base_uri": "https://localhost:8080/",
          "height": 490
        }
      },
      "id": "8IYpMFMaOy5Y",
      "execution_count": 52,
      "outputs": [
        {
          "output_type": "stream",
          "name": "stdout",
          "text": [
            "              precision    recall  f1-score   support\n",
            "\n",
            "         bad       0.85      0.17      0.29       384\n",
            "        good       0.78      0.99      0.87      1129\n",
            "\n",
            "    accuracy                           0.78      1513\n",
            "   macro avg       0.81      0.58      0.58      1513\n",
            "weighted avg       0.80      0.78      0.72      1513\n",
            "\n"
          ]
        },
        {
          "output_type": "display_data",
          "data": {
            "text/plain": [
              "<Figure size 720x360 with 2 Axes>"
            ],
            "image/png": "[encoded data removed]"
          },
          "metadata": {
            "needs_background": "light"
          }
        }
      ]
    },
    {
      "cell_type": "markdown",
      "source": [
        "We need to max precision of bad value, boosted tree good!"
      ],
      "metadata": {
        "id": "YBolYVoUQipq"
      },
      "id": "YBolYVoUQipq"
    },
    {
      "cell_type": "markdown",
      "source": [
        "Feature importance"
      ],
      "metadata": {
        "id": "6agQGWqt4lzm"
      },
      "id": "6agQGWqt4lzm"
    },
    {
      "cell_type": "code",
      "source": [
        "plot_importance(boosted_tree)"
      ],
      "metadata": {
        "colab": {
          "base_uri": "https://localhost:8080/",
          "height": 312
        },
        "id": "d48wjUWm4ImL",
        "outputId": "5c09947a-7027-4e4d-e27f-8bd87f084a6a"
      },
      "id": "d48wjUWm4ImL",
      "execution_count": 53,
      "outputs": [
        {
          "output_type": "execute_result",
          "data": {
            "text/plain": [
              "<matplotlib.axes._subplots.AxesSubplot at 0x7f68ac4a8350>"
            ]
          },
          "metadata": {},
          "execution_count": 53
        },
        {
          "output_type": "display_data",
          "data": {
            "text/plain": [
              "<Figure size 432x288 with 1 Axes>"
            ],
            "image/png": "[encoded data removed]"
          },
          "metadata": {
            "needs_background": "light"
          }
        }
      ]
    },
    {
      "cell_type": "markdown",
      "source": [
        "https://www.analyticsvidhya.com/blog/2020/07/10-techniques-to-deal-with-class-imbalance-in-machine-learning/"
      ],
      "metadata": {
        "id": "D7sJBBGw1siD"
      },
      "id": "D7sJBBGw1siD"
    },
    {
      "cell_type": "code",
      "source": [
        "import imblearn"
      ],
      "metadata": {
        "id": "1FRKipYLqFHo"
      },
      "id": "1FRKipYLqFHo",
      "execution_count": 54,
      "outputs": []
    },
    {
      "cell_type": "code",
      "source": [
        "sss = ShuffleSplit(n_splits=1, test_size=0.2)\n",
        "train_idx, valid_idx = next(sss.split(train_df))\n",
        "splits = (list(train_idx),list(valid_idx))"
      ],
      "metadata": {
        "id": "qfzu1P_hvtjU"
      },
      "id": "qfzu1P_hvtjU",
      "execution_count": 55,
      "outputs": []
    },
    {
      "cell_type": "code",
      "source": [
        "procs = [Categorify, Normalize]\n",
        "cont,cat = cont_cat_split(train_df, max_card=1,dep_var=dep_var)\n",
        "to = TabularPandas(train_df, procs, cat, cont,\n",
        "                      splits=splits,y_names=dep_var)\n",
        "xs,y = to.train.xs,to.train.y\n",
        "valid_xs,valid_y = to.valid.xs,to.valid.y"
      ],
      "metadata": {
        "id": "wZj9bBBJvUnf"
      },
      "id": "wZj9bBBJvUnf",
      "execution_count": 56,
      "outputs": []
    },
    {
      "cell_type": "code",
      "source": [
        "xs[\"label\"]=y\n",
        "class_1=xs[y==1]\n",
        "class_2=xs[y==2]\n",
        "class_count_2, class_count_1 = y.value_counts()\n",
        "print('class 2:', class_2.shape)\n",
        "print('class 1:', class_1.shape)\n",
        "class_2_under = class_2.sample(class_count_1)\n",
        "test_under = pd.concat([class_2_under, class_1], axis=0)\n",
        "y=test_under[\"label\"]\n",
        "xs=test_under.drop(\"label\",axis=1)"
      ],
      "metadata": {
        "colab": {
          "base_uri": "https://localhost:8080/"
        },
        "id": "zZkshWdowm9T",
        "outputId": "3d5b9702-61c9-4029-a45d-3b9afcf6d46d"
      },
      "id": "zZkshWdowm9T",
      "execution_count": 57,
      "outputs": [
        {
          "output_type": "stream",
          "name": "stdout",
          "text": [
            "class 2: (4475, 17)\n",
            "class 1: (1575, 17)\n"
          ]
        }
      ]
    },
    {
      "cell_type": "code",
      "source": [
        "boosted_tree=LGBMClassifier(boosting_type=\"gbdt\",random_state=random_state)\n",
        "boosted_tree.fit(xs,y)\n",
        "pred_boost=boosted_tree.predict(valid_xs)\n",
        "print(classification_report(valid_y,pred_boost,target_names=int_to_labels_evm))\n",
        "disp=ConfusionMatrixDisplay.from_predictions(valid_y,pred_boost,display_labels=int_to_labels_evm)\n",
        "fig=disp.ax_.get_figure() \n",
        "fig.set_figwidth(10)\n",
        "fig.set_figheight(5) "
      ],
      "metadata": {
        "colab": {
          "base_uri": "https://localhost:8080/",
          "height": 490
        },
        "id": "yc1vafpVv3Gf",
        "outputId": "f940fb0e-c341-4961-ff28-c4e18593896f"
      },
      "id": "yc1vafpVv3Gf",
      "execution_count": 58,
      "outputs": [
        {
          "output_type": "stream",
          "name": "stdout",
          "text": [
            "              precision    recall  f1-score   support\n",
            "\n",
            "         bad       0.25      0.51      0.34       367\n",
            "        good       0.77      0.52      0.62      1146\n",
            "\n",
            "    accuracy                           0.51      1513\n",
            "   macro avg       0.51      0.51      0.48      1513\n",
            "weighted avg       0.64      0.51      0.55      1513\n",
            "\n"
          ]
        },
        {
          "output_type": "display_data",
          "data": {
            "text/plain": [
              "<Figure size 720x360 with 2 Axes>"
            ],
            "image/png": "[encoded data removed]"
          },
          "metadata": {
            "needs_background": "light"
          }
        }
      ]
    },
    {
      "cell_type": "code",
      "source": [
        "from imblearn.under_sampling import TomekLinks"
      ],
      "metadata": {
        "id": "3qkDU20vy4nf"
      },
      "id": "3qkDU20vy4nf",
      "execution_count": 59,
      "outputs": []
    },
    {
      "cell_type": "code",
      "source": [
        "tl = TomekLinks()\n",
        "X_res, y_res=tl.fit_resample(xs, y)"
      ],
      "metadata": {
        "id": "6OXXGITbz2SG"
      },
      "id": "6OXXGITbz2SG",
      "execution_count": 60,
      "outputs": []
    },
    {
      "cell_type": "code",
      "source": [
        "boosted_tree=LGBMClassifier(boosting_type=\"gbdt\",random_state=random_state)\n",
        "boosted_tree.fit(X_res,y_res)\n",
        "pred_boost=boosted_tree.predict(valid_xs)\n",
        "print(classification_report(valid_y,pred_boost,target_names=int_to_labels_evm))\n",
        "disp=ConfusionMatrixDisplay.from_predictions(valid_y,pred_boost,display_labels=int_to_labels_evm)\n",
        "fig=disp.ax_.get_figure() \n",
        "fig.set_figwidth(10)\n",
        "fig.set_figheight(5) "
      ],
      "metadata": {
        "colab": {
          "base_uri": "https://localhost:8080/",
          "height": 490
        },
        "id": "Bzwn3WYh0Mqf",
        "outputId": "54995de7-4737-45a0-9cf5-5324945d6e10"
      },
      "id": "Bzwn3WYh0Mqf",
      "execution_count": 65,
      "outputs": [
        {
          "output_type": "stream",
          "name": "stdout",
          "text": [
            "              precision    recall  f1-score   support\n",
            "\n",
            "         bad       0.24      0.68      0.36       367\n",
            "        good       0.76      0.32      0.45      1146\n",
            "\n",
            "    accuracy                           0.41      1513\n",
            "   macro avg       0.50      0.50      0.40      1513\n",
            "weighted avg       0.63      0.41      0.43      1513\n",
            "\n"
          ]
        },
        {
          "output_type": "display_data",
          "data": {
            "text/plain": [
              "<Figure size 720x360 with 2 Axes>"
            ],
            "image/png": "[encoded data removed]"
          },
          "metadata": {
            "needs_background": "light"
          }
        }
      ]
    },
    {
      "cell_type": "code",
      "source": [
        "from imblearn.over_sampling import SMOTE\n",
        "smote = SMOTE()\n",
        "x_smote, y_smote = smote.fit_resample(xs, y)\n",
        "print(x_smote.shape)"
      ],
      "metadata": {
        "colab": {
          "base_uri": "https://localhost:8080/"
        },
        "id": "_BhyFZh70Q0n",
        "outputId": "cd9fe7a9-8c06-4432-8988-5404253230e3"
      },
      "id": "_BhyFZh70Q0n",
      "execution_count": 63,
      "outputs": [
        {
          "output_type": "stream",
          "name": "stdout",
          "text": [
            "(3150, 16)\n"
          ]
        }
      ]
    },
    {
      "cell_type": "code",
      "source": [
        "boosted_tree=LGBMClassifier(boosting_type=\"gbdt\",random_state=random_state)\n",
        "boosted_tree.fit(x_smote,y_smote)\n",
        "pred_boost=boosted_tree.predict(valid_xs)\n",
        "print(classification_report(valid_y,pred_boost,target_names=int_to_labels_evm))\n",
        "disp=ConfusionMatrixDisplay.from_predictions(valid_y,pred_boost,display_labels=int_to_labels_evm)\n",
        "fig=disp.ax_.get_figure() \n",
        "fig.set_figwidth(10)\n",
        "fig.set_figheight(5) "
      ],
      "metadata": {
        "colab": {
          "base_uri": "https://localhost:8080/",
          "height": 490
        },
        "id": "1KNe-6pS0bov",
        "outputId": "0b5e111d-1c17-49c3-a623-46abe68a8424"
      },
      "id": "1KNe-6pS0bov",
      "execution_count": 64,
      "outputs": [
        {
          "output_type": "stream",
          "name": "stdout",
          "text": [
            "              precision    recall  f1-score   support\n",
            "\n",
            "         bad       0.25      0.51      0.34       367\n",
            "        good       0.77      0.52      0.62      1146\n",
            "\n",
            "    accuracy                           0.51      1513\n",
            "   macro avg       0.51      0.51      0.48      1513\n",
            "weighted avg       0.64      0.51      0.55      1513\n",
            "\n"
          ]
        },
        {
          "output_type": "display_data",
          "data": {
            "text/plain": [
              "<Figure size 720x360 with 2 Axes>"
            ],
            "image/png": "[encoded data removed]"
          },
          "metadata": {
            "needs_background": "light"
          }
        }
      ]
    },
    {
      "cell_type": "code",
      "source": [
        "from sklearn.svm import SVC"
      ],
      "metadata": {
        "id": "AkLJgdMW1ofn"
      },
      "id": "AkLJgdMW1ofn",
      "execution_count": 62,
      "outputs": []
    },
    {
      "cell_type": "code",
      "source": [
        "svc_model = SVC(class_weight='balanced', probability=True)\n",
        "svc_model.fit(xs, y)"
      ],
      "metadata": {
        "colab": {
          "base_uri": "https://localhost:8080/"
        },
        "id": "3LmeSeL407ZA",
        "outputId": "62374509-69ec-4d30-82a0-251c87b8c03a"
      },
      "id": "3LmeSeL407ZA",
      "execution_count": 66,
      "outputs": [
        {
          "output_type": "execute_result",
          "data": {
            "text/plain": [
              "SVC(class_weight='balanced', probability=True)"
            ]
          },
          "metadata": {},
          "execution_count": 66
        }
      ]
    },
    {
      "cell_type": "code",
      "source": [
        "svc_predict = svc_model.predict(valid_xs)# check performance\n",
        "print(classification_report(valid_y,svc_predict,target_names=int_to_labels_evm))\n",
        "disp=ConfusionMatrixDisplay.from_predictions(valid_y,svc_predict,display_labels=int_to_labels_evm)\n",
        "fig=disp.ax_.get_figure() \n",
        "fig.set_figwidth(10)\n",
        "fig.set_figheight(5) "
      ],
      "metadata": {
        "colab": {
          "base_uri": "https://localhost:8080/",
          "height": 490
        },
        "id": "oC6NNrDt1VEB",
        "outputId": "e6cd94fd-d883-46da-b930-c383fe18c696"
      },
      "id": "oC6NNrDt1VEB",
      "execution_count": 67,
      "outputs": [
        {
          "output_type": "stream",
          "name": "stdout",
          "text": [
            "              precision    recall  f1-score   support\n",
            "\n",
            "         bad       0.25      0.56      0.34       367\n",
            "        good       0.76      0.45      0.57      1146\n",
            "\n",
            "    accuracy                           0.48      1513\n",
            "   macro avg       0.50      0.50      0.45      1513\n",
            "weighted avg       0.64      0.48      0.51      1513\n",
            "\n"
          ]
        },
        {
          "output_type": "display_data",
          "data": {
            "text/plain": [
              "<Figure size 720x360 with 2 Axes>"
            ],
            "image/png": "[encoded data removed]"
          },
          "metadata": {
            "needs_background": "light"
          }
        }
      ]
    }
  ],
  "metadata": {
    "kernelspec": {
      "display_name": "Python 3.10.0 64-bit",
      "language": "python",
      "name": "python3"
    },
    "language_info": {
      "codemirror_mode": {
        "name": "ipython",
        "version": 3
      },
      "file_extension": ".py",
      "mimetype": "text/x-python",
      "name": "python",
      "nbconvert_exporter": "python",
      "pygments_lexer": "ipython3",
      "version": "3.10.0"
    },
    "vscode": {
      "interpreter": {
        "hash": "525f50cd3df40e9d57f214b2f9bedadf4bf08c85f9f5b3b27734de5b2eace747"
      }
    },
    "colab": {
      "provenance": [],
      "collapsed_sections": [],
      "include_colab_link": true
    }
  },
  "nbformat": 4,
  "nbformat_minor": 5
}