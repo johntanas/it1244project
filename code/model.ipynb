{
  "cells": [
    {
      "cell_type": "markdown",
      "metadata": {
        "id": "view-in-github",
        "colab_type": "text"
      },
      "source": [
        "<a href=\"https://colab.research.google.com/github/johntanas/it1244project/blob/main/code/model.ipynb\" target=\"_parent\"><img src=\"https://colab.research.google.com/assets/colab-badge.svg\" alt=\"Open In Colab\"/></a>"
      ]
    },
    {
      "cell_type": "code",
      "execution_count": 1,
      "id": "5179ea71",
      "metadata": {
        "id": "5179ea71"
      },
      "outputs": [],
      "source": [
        "import pandas as pd\n",
        "import numpy as np"
      ]
    },
    {
      "cell_type": "code",
      "source": [
        "onlinedataset=True\n",
        "if onlinedataset:\n",
        "  url = \"https://drive.google.com/file/d/1Ktdv2NTyK2AM48yBvbpFezd82-srqj7w/view?usp=sharing\"\n",
        "  url='https://drive.google.com/uc?id=' + url.split('/')[-2]\n",
        "  cleaned_app_df=pd.read_csv(url,index_col=0)\n",
        "  url = \"https://drive.google.com/file/d/1QDhZ3u0BZX8uqMFkSWW-Ck59XvtEdxhy/view?usp=sharing\"\n",
        "  url='https://drive.google.com/uc?id=' + url.split('/')[-2]\n",
        "  label_df=pd.read_csv(url,index_col=0)\n",
        "else:\n",
        "  pathtoapp=\"./content/cleaned_application.csv\"\n",
        "  cleaned_app_df=pd.read_csv(pathtoapp,index_col=0)\n",
        "  pathtolabel=\"./content/credit_record.csv\"\n",
        "  label_df=pd.read_csv(pathtolabel,index_col=0)"
      ],
      "metadata": {
        "id": "XJlCQwWJEl2_"
      },
      "id": "XJlCQwWJEl2_",
      "execution_count": 2,
      "outputs": []
    },
    {
      "cell_type": "code",
      "source": [
        "dep_var=\"label\"\n",
        "random_state=42"
      ],
      "metadata": {
        "id": "DoxeFDv6Mgj8"
      },
      "id": "DoxeFDv6Mgj8",
      "execution_count": 3,
      "outputs": []
    },
    {
      "cell_type": "code",
      "source": [
        "train_df=label_df.merge(cleaned_app_df,how=\"inner\")"
      ],
      "metadata": {
        "id": "5vyeq794MHpB"
      },
      "id": "5vyeq794MHpB",
      "execution_count": 4,
      "outputs": []
    },
    {
      "cell_type": "code",
      "execution_count": 5,
      "id": "eb1e2dcd",
      "metadata": {
        "id": "eb1e2dcd"
      },
      "outputs": [],
      "source": [
        "cat_features = cleaned_app_df.columns[cleaned_app_df.dtypes == 'object'].to_list()"
      ]
    },
    {
      "cell_type": "code",
      "execution_count": 6,
      "id": "d4d24cf9",
      "metadata": {
        "colab": {
          "base_uri": "https://localhost:8080/",
          "height": 175
        },
        "id": "d4d24cf9",
        "outputId": "48d09f4e-0796-4916-d957-451f0d6ea263"
      },
      "outputs": [
        {
          "output_type": "execute_result",
          "data": {
            "text/plain": [
              "        gender own_car own_realty income_type                education_level  \\\n",
              "count   438557  438557     438557      438557                         438557   \n",
              "unique       2       2          2           5                              5   \n",
              "top          F       N          Y     Working  Secondary / secondary special   \n",
              "freq    294440  275459     304074      226104                         301821   \n",
              "\n",
              "       family_status         house_type       job  \n",
              "count         438557             438557    438557  \n",
              "unique             5                  6        19  \n",
              "top          Married  House / apartment  Laborers  \n",
              "freq          299828             393831     98446  "
            ],
            "text/html": [
              "\n",
              "  <div id=\"df-e09d0de5-7200-4773-ae23-9875ce7ac156\">\n",
              "    <div class=\"colab-df-container\">\n",
              "      <div>\n",
              "<style scoped>\n",
              "    .dataframe tbody tr th:only-of-type {\n",
              "        vertical-align: middle;\n",
              "    }\n",
              "\n",
              "    .dataframe tbody tr th {\n",
              "        vertical-align: top;\n",
              "    }\n",
              "\n",
              "    .dataframe thead th {\n",
              "        text-align: right;\n",
              "    }\n",
              "</style>\n",
              "<table border=\"1\" class=\"dataframe\">\n",
              "  <thead>\n",
              "    <tr style=\"text-align: right;\">\n",
              "      <th></th>\n",
              "      <th>gender</th>\n",
              "      <th>own_car</th>\n",
              "      <th>own_realty</th>\n",
              "      <th>income_type</th>\n",
              "      <th>education_level</th>\n",
              "      <th>family_status</th>\n",
              "      <th>house_type</th>\n",
              "      <th>job</th>\n",
              "    </tr>\n",
              "  </thead>\n",
              "  <tbody>\n",
              "    <tr>\n",
              "      <th>count</th>\n",
              "      <td>438557</td>\n",
              "      <td>438557</td>\n",
              "      <td>438557</td>\n",
              "      <td>438557</td>\n",
              "      <td>438557</td>\n",
              "      <td>438557</td>\n",
              "      <td>438557</td>\n",
              "      <td>438557</td>\n",
              "    </tr>\n",
              "    <tr>\n",
              "      <th>unique</th>\n",
              "      <td>2</td>\n",
              "      <td>2</td>\n",
              "      <td>2</td>\n",
              "      <td>5</td>\n",
              "      <td>5</td>\n",
              "      <td>5</td>\n",
              "      <td>6</td>\n",
              "      <td>19</td>\n",
              "    </tr>\n",
              "    <tr>\n",
              "      <th>top</th>\n",
              "      <td>F</td>\n",
              "      <td>N</td>\n",
              "      <td>Y</td>\n",
              "      <td>Working</td>\n",
              "      <td>Secondary / secondary special</td>\n",
              "      <td>Married</td>\n",
              "      <td>House / apartment</td>\n",
              "      <td>Laborers</td>\n",
              "    </tr>\n",
              "    <tr>\n",
              "      <th>freq</th>\n",
              "      <td>294440</td>\n",
              "      <td>275459</td>\n",
              "      <td>304074</td>\n",
              "      <td>226104</td>\n",
              "      <td>301821</td>\n",
              "      <td>299828</td>\n",
              "      <td>393831</td>\n",
              "      <td>98446</td>\n",
              "    </tr>\n",
              "  </tbody>\n",
              "</table>\n",
              "</div>\n",
              "      <button class=\"colab-df-convert\" onclick=\"convertToInteractive('df-e09d0de5-7200-4773-ae23-9875ce7ac156')\"\n",
              "              title=\"Convert this dataframe to an interactive table.\"\n",
              "              style=\"display:none;\">\n",
              "        \n",
              "  <svg xmlns=\"http://www.w3.org/2000/svg\" height=\"24px\"viewBox=\"0 0 24 24\"\n",
              "       width=\"24px\">\n",
              "    <path d=\"M0 0h24v24H0V0z\" fill=\"none\"/>\n",
              "    <path d=\"M18.56 5.44l.94 2.06.94-2.06 2.06-.94-2.06-.94-.94-2.06-.94 2.06-2.06.94zm-11 1L8.5 8.5l.94-2.06 2.06-.94-2.06-.94L8.5 2.5l-.94 2.06-2.06.94zm10 10l.94 2.06.94-2.06 2.06-.94-2.06-.94-.94-2.06-.94 2.06-2.06.94z\"/><path d=\"M17.41 7.96l-1.37-1.37c-.4-.4-.92-.59-1.43-.59-.52 0-1.04.2-1.43.59L10.3 9.45l-7.72 7.72c-.78.78-.78 2.05 0 2.83L4 21.41c.39.39.9.59 1.41.59.51 0 1.02-.2 1.41-.59l7.78-7.78 2.81-2.81c.8-.78.8-2.07 0-2.86zM5.41 20L4 18.59l7.72-7.72 1.47 1.35L5.41 20z\"/>\n",
              "  </svg>\n",
              "      </button>\n",
              "      \n",
              "  <style>\n",
              "    .colab-df-container {\n",
              "      display:flex;\n",
              "      flex-wrap:wrap;\n",
              "      gap: 12px;\n",
              "    }\n",
              "\n",
              "    .colab-df-convert {\n",
              "      background-color: #E8F0FE;\n",
              "      border: none;\n",
              "      border-radius: 50%;\n",
              "      cursor: pointer;\n",
              "      display: none;\n",
              "      fill: #1967D2;\n",
              "      height: 32px;\n",
              "      padding: 0 0 0 0;\n",
              "      width: 32px;\n",
              "    }\n",
              "\n",
              "    .colab-df-convert:hover {\n",
              "      background-color: #E2EBFA;\n",
              "      box-shadow: 0px 1px 2px rgba(60, 64, 67, 0.3), 0px 1px 3px 1px rgba(60, 64, 67, 0.15);\n",
              "      fill: #174EA6;\n",
              "    }\n",
              "\n",
              "    [theme=dark] .colab-df-convert {\n",
              "      background-color: #3B4455;\n",
              "      fill: #D2E3FC;\n",
              "    }\n",
              "\n",
              "    [theme=dark] .colab-df-convert:hover {\n",
              "      background-color: #434B5C;\n",
              "      box-shadow: 0px 1px 3px 1px rgba(0, 0, 0, 0.15);\n",
              "      filter: drop-shadow(0px 1px 2px rgba(0, 0, 0, 0.3));\n",
              "      fill: #FFFFFF;\n",
              "    }\n",
              "  </style>\n",
              "\n",
              "      <script>\n",
              "        const buttonEl =\n",
              "          document.querySelector('#df-e09d0de5-7200-4773-ae23-9875ce7ac156 button.colab-df-convert');\n",
              "        buttonEl.style.display =\n",
              "          google.colab.kernel.accessAllowed ? 'block' : 'none';\n",
              "\n",
              "        async function convertToInteractive(key) {\n",
              "          const element = document.querySelector('#df-e09d0de5-7200-4773-ae23-9875ce7ac156');\n",
              "          const dataTable =\n",
              "            await google.colab.kernel.invokeFunction('convertToInteractive',\n",
              "                                                     [key], {});\n",
              "          if (!dataTable) return;\n",
              "\n",
              "          const docLinkHtml = 'Like what you see? Visit the ' +\n",
              "            '<a target=\"_blank\" href=https://colab.research.google.com/notebooks/data_table.ipynb>data table notebook</a>'\n",
              "            + ' to learn more about interactive tables.';\n",
              "          element.innerHTML = '';\n",
              "          dataTable['output_type'] = 'display_data';\n",
              "          await google.colab.output.renderOutput(dataTable, element);\n",
              "          const docLink = document.createElement('div');\n",
              "          docLink.innerHTML = docLinkHtml;\n",
              "          element.appendChild(docLink);\n",
              "        }\n",
              "      </script>\n",
              "    </div>\n",
              "  </div>\n",
              "  "
            ]
          },
          "metadata": {},
          "execution_count": 6
        }
      ],
      "source": [
        "cleaned_app_df[cat_features].describe()"
      ]
    },
    {
      "cell_type": "markdown",
      "id": "4c328c3c",
      "metadata": {
        "id": "4c328c3c"
      },
      "source": [
        "We can use ordinal scaling for the factors ,even gender as there is only 2 genders and both the ordinal and nominal classification lead to 0 and 1 encoding so there is no difference. However, we have to create our own ranking for the factors with cardinality>2."
      ]
    },
    {
      "cell_type": "code",
      "execution_count": 7,
      "id": "49f62b23",
      "metadata": {
        "id": "49f62b23"
      },
      "outputs": [],
      "source": [
        "auto_cat_features=[\"gender\",\"own_car\",\"own_realty\"]"
      ]
    },
    {
      "cell_type": "code",
      "execution_count": 8,
      "id": "97e1e179",
      "metadata": {
        "id": "97e1e179"
      },
      "outputs": [],
      "source": [
        "for i in auto_cat_features:\n",
        "    cat_features.remove(i)"
      ]
    },
    {
      "cell_type": "code",
      "execution_count": 9,
      "id": "ddb8fbfc",
      "metadata": {
        "colab": {
          "base_uri": "https://localhost:8080/"
        },
        "id": "ddb8fbfc",
        "outputId": "0f64aa85-60f1-443e-9aab-a8f30f5db2ab"
      },
      "outputs": [
        {
          "output_type": "execute_result",
          "data": {
            "text/plain": [
              "['income_type', 'education_level', 'family_status', 'house_type', 'job']"
            ]
          },
          "metadata": {},
          "execution_count": 9
        }
      ],
      "source": [
        "cat_features"
      ]
    },
    {
      "cell_type": "code",
      "execution_count": 10,
      "id": "48dbb10d",
      "metadata": {
        "id": "48dbb10d"
      },
      "outputs": [],
      "source": [
        "from sklearn.preprocessing import OrdinalEncoder"
      ]
    },
    {
      "cell_type": "code",
      "execution_count": 11,
      "id": "ccde6659",
      "metadata": {
        "id": "ccde6659"
      },
      "outputs": [],
      "source": [
        "df1=cleaned_app_df.copy()"
      ]
    },
    {
      "cell_type": "code",
      "execution_count": 12,
      "id": "09c7c126",
      "metadata": {
        "id": "09c7c126"
      },
      "outputs": [],
      "source": [
        "autoenc =OrdinalEncoder()\n",
        "autoenc.fit(cleaned_app_df[auto_cat_features])\n",
        "df1[auto_cat_features]=autoenc.transform(cleaned_app_df[auto_cat_features])"
      ]
    },
    {
      "cell_type": "code",
      "execution_count": 13,
      "id": "881f356f",
      "metadata": {
        "colab": {
          "base_uri": "https://localhost:8080/"
        },
        "id": "881f356f",
        "outputId": "75595b4a-84c8-457d-8e17-0a9f0a55bee8"
      },
      "outputs": [
        {
          "output_type": "execute_result",
          "data": {
            "text/plain": [
              "[array(['Commercial associate', 'Pensioner', 'State servant', 'Student',\n",
              "        'Working'], dtype=object),\n",
              " array(['Academic degree', 'Higher education', 'Incomplete higher',\n",
              "        'Lower secondary', 'Secondary / secondary special'], dtype=object),\n",
              " array(['Civil marriage', 'Married', 'Separated', 'Single / not married',\n",
              "        'Widow'], dtype=object),\n",
              " array(['Co-op apartment', 'House / apartment', 'Municipal apartment',\n",
              "        'Office apartment', 'Rented apartment', 'With parents'],\n",
              "       dtype=object),\n",
              " array(['Accountants', 'Cleaning staff', 'Cooking staff', 'Core staff',\n",
              "        'Drivers', 'HR staff', 'High skill tech staff', 'IT staff',\n",
              "        'Laborers', 'Low-skill Laborers', 'Managers', 'Medicine staff',\n",
              "        'Pensioner', 'Private service staff', 'Realty agents',\n",
              "        'Sales staff', 'Secretaries', 'Security staff',\n",
              "        'Waiters/barmen staff'], dtype=object)]"
            ]
          },
          "metadata": {},
          "execution_count": 13
        }
      ],
      "source": [
        "testenc =OrdinalEncoder()\n",
        "testenc.fit(cleaned_app_df[cat_features])\n",
        "testenc.categories_"
      ]
    },
    {
      "cell_type": "code",
      "execution_count": 14,
      "id": "3808be78",
      "metadata": {
        "id": "3808be78"
      },
      "outputs": [],
      "source": [
        "categories=[['Student', 'Pensioner','Working','State servant','Commercial associate'],\n",
        "     ['Lower secondary', 'Secondary / secondary special','Incomplete higher', 'Higher education', 'Academic degree'],\n",
        "            ['Widow','Single / not married','Separated','Civil marriage', 'Married'],\n",
        "            ['Rented apartment','With parents','Co-op apartment', 'Municipal apartment','Office apartment', 'House / apartment']]"
      ]
    },
    {
      "cell_type": "markdown",
      "id": "b9949cad",
      "metadata": {
        "id": "b9949cad"
      },
      "source": [
        "Lets use median income level to justify the ordering of jobs instead of a biased personal heuristic!"
      ]
    },
    {
      "cell_type": "code",
      "execution_count": 15,
      "id": "dc0fe45c",
      "metadata": {
        "id": "dc0fe45c"
      },
      "outputs": [],
      "source": [
        "job_income=dict(cleaned_app_df.groupby(\"job\").apply(lambda x: x[\"income\"].median()))"
      ]
    },
    {
      "cell_type": "code",
      "execution_count": 16,
      "id": "56a2f91d",
      "metadata": {
        "id": "56a2f91d"
      },
      "outputs": [],
      "source": [
        "sorted_job_income={k: v for k, v in sorted(job_income.items(), key=lambda item: item[1])}"
      ]
    },
    {
      "cell_type": "code",
      "execution_count": 17,
      "id": "a17a1f25",
      "metadata": {
        "id": "a17a1f25"
      },
      "outputs": [],
      "source": [
        "job_ranking=list(sorted_job_income.keys())"
      ]
    },
    {
      "cell_type": "code",
      "execution_count": 18,
      "id": "e091a794",
      "metadata": {
        "id": "e091a794"
      },
      "outputs": [],
      "source": [
        "categories.append(job_ranking)"
      ]
    },
    {
      "cell_type": "code",
      "execution_count": 20,
      "id": "247f4a10",
      "metadata": {
        "id": "247f4a10"
      },
      "outputs": [],
      "source": [
        "catenc =OrdinalEncoder(categories=categories)\n",
        "catenc.fit(cleaned_app_df[cat_features])\n",
        "df1[cat_features]=catenc.transform(cleaned_app_df[cat_features])"
      ]
    },
    {
      "cell_type": "markdown",
      "id": "f75f2e5a",
      "metadata": {
        "id": "f75f2e5a"
      },
      "source": [
        "We can normalise birthday,employment length,num_child and standarise income and CNT_FAM_MEMBERS "
      ]
    },
    {
      "cell_type": "code",
      "execution_count": 21,
      "id": "cbd1bb2a",
      "metadata": {
        "id": "cbd1bb2a"
      },
      "outputs": [],
      "source": [
        "from sklearn.preprocessing import MinMaxScaler,StandardScaler"
      ]
    },
    {
      "cell_type": "code",
      "execution_count": 22,
      "id": "a4d72b98",
      "metadata": {
        "id": "a4d72b98"
      },
      "outputs": [],
      "source": [
        "num_features = cleaned_app_df.columns[cleaned_app_df.dtypes != 'object'].to_list()\n",
        "num_features.remove('id')"
      ]
    },
    {
      "cell_type": "code",
      "execution_count": 23,
      "id": "170a6db3",
      "metadata": {
        "id": "170a6db3",
        "colab": {
          "base_uri": "https://localhost:8080/",
          "height": 424
        },
        "outputId": "aee645a1-f62e-42b7-9ed0-aa32c988a163"
      },
      "outputs": [
        {
          "output_type": "execute_result",
          "data": {
            "text/plain": [
              "        num_child    income  birth_day  employment_length  work_phone  phone  \\\n",
              "0               0  427500.0     -12005              -4542           1      0   \n",
              "1               0  427500.0     -12005              -4542           1      0   \n",
              "2               0  112500.0     -21474              -1134           0      0   \n",
              "3               0  270000.0     -19110              -3051           0      1   \n",
              "4               0  270000.0     -19110              -3051           0      1   \n",
              "...           ...       ...        ...                ...         ...    ...   \n",
              "423317          0   90000.0     -13432              -5446           0      0   \n",
              "426434          2  135000.0     -12576              -4382           0      0   \n",
              "432885          0  180000.0      -9970               -119           0      0   \n",
              "421225          1  180000.0     -10630               -454           0      0   \n",
              "424339          1  157500.0     -15859              -3679           0      0   \n",
              "\n",
              "        email  CNT_FAM_MEMBERS  \n",
              "0           0              2.0  \n",
              "1           0              2.0  \n",
              "2           0              2.0  \n",
              "3           1              1.0  \n",
              "4           1              1.0  \n",
              "...       ...              ...  \n",
              "423317      0              1.0  \n",
              "426434      0              4.0  \n",
              "432885      0              2.0  \n",
              "421225      0              3.0  \n",
              "424339      0              3.0  \n",
              "\n",
              "[438557 rows x 8 columns]"
            ],
            "text/html": [
              "\n",
              "  <div id=\"df-91935e75-4c56-4dc4-ace9-b710da58cdf0\">\n",
              "    <div class=\"colab-df-container\">\n",
              "      <div>\n",
              "<style scoped>\n",
              "    .dataframe tbody tr th:only-of-type {\n",
              "        vertical-align: middle;\n",
              "    }\n",
              "\n",
              "    .dataframe tbody tr th {\n",
              "        vertical-align: top;\n",
              "    }\n",
              "\n",
              "    .dataframe thead th {\n",
              "        text-align: right;\n",
              "    }\n",
              "</style>\n",
              "<table border=\"1\" class=\"dataframe\">\n",
              "  <thead>\n",
              "    <tr style=\"text-align: right;\">\n",
              "      <th></th>\n",
              "      <th>num_child</th>\n",
              "      <th>income</th>\n",
              "      <th>birth_day</th>\n",
              "      <th>employment_length</th>\n",
              "      <th>work_phone</th>\n",
              "      <th>phone</th>\n",
              "      <th>email</th>\n",
              "      <th>CNT_FAM_MEMBERS</th>\n",
              "    </tr>\n",
              "  </thead>\n",
              "  <tbody>\n",
              "    <tr>\n",
              "      <th>0</th>\n",
              "      <td>0</td>\n",
              "      <td>427500.0</td>\n",
              "      <td>-12005</td>\n",
              "      <td>-4542</td>\n",
              "      <td>1</td>\n",
              "      <td>0</td>\n",
              "      <td>0</td>\n",
              "      <td>2.0</td>\n",
              "    </tr>\n",
              "    <tr>\n",
              "      <th>1</th>\n",
              "      <td>0</td>\n",
              "      <td>427500.0</td>\n",
              "      <td>-12005</td>\n",
              "      <td>-4542</td>\n",
              "      <td>1</td>\n",
              "      <td>0</td>\n",
              "      <td>0</td>\n",
              "      <td>2.0</td>\n",
              "    </tr>\n",
              "    <tr>\n",
              "      <th>2</th>\n",
              "      <td>0</td>\n",
              "      <td>112500.0</td>\n",
              "      <td>-21474</td>\n",
              "      <td>-1134</td>\n",
              "      <td>0</td>\n",
              "      <td>0</td>\n",
              "      <td>0</td>\n",
              "      <td>2.0</td>\n",
              "    </tr>\n",
              "    <tr>\n",
              "      <th>3</th>\n",
              "      <td>0</td>\n",
              "      <td>270000.0</td>\n",
              "      <td>-19110</td>\n",
              "      <td>-3051</td>\n",
              "      <td>0</td>\n",
              "      <td>1</td>\n",
              "      <td>1</td>\n",
              "      <td>1.0</td>\n",
              "    </tr>\n",
              "    <tr>\n",
              "      <th>4</th>\n",
              "      <td>0</td>\n",
              "      <td>270000.0</td>\n",
              "      <td>-19110</td>\n",
              "      <td>-3051</td>\n",
              "      <td>0</td>\n",
              "      <td>1</td>\n",
              "      <td>1</td>\n",
              "      <td>1.0</td>\n",
              "    </tr>\n",
              "    <tr>\n",
              "      <th>...</th>\n",
              "      <td>...</td>\n",
              "      <td>...</td>\n",
              "      <td>...</td>\n",
              "      <td>...</td>\n",
              "      <td>...</td>\n",
              "      <td>...</td>\n",
              "      <td>...</td>\n",
              "      <td>...</td>\n",
              "    </tr>\n",
              "    <tr>\n",
              "      <th>423317</th>\n",
              "      <td>0</td>\n",
              "      <td>90000.0</td>\n",
              "      <td>-13432</td>\n",
              "      <td>-5446</td>\n",
              "      <td>0</td>\n",
              "      <td>0</td>\n",
              "      <td>0</td>\n",
              "      <td>1.0</td>\n",
              "    </tr>\n",
              "    <tr>\n",
              "      <th>426434</th>\n",
              "      <td>2</td>\n",
              "      <td>135000.0</td>\n",
              "      <td>-12576</td>\n",
              "      <td>-4382</td>\n",
              "      <td>0</td>\n",
              "      <td>0</td>\n",
              "      <td>0</td>\n",
              "      <td>4.0</td>\n",
              "    </tr>\n",
              "    <tr>\n",
              "      <th>432885</th>\n",
              "      <td>0</td>\n",
              "      <td>180000.0</td>\n",
              "      <td>-9970</td>\n",
              "      <td>-119</td>\n",
              "      <td>0</td>\n",
              "      <td>0</td>\n",
              "      <td>0</td>\n",
              "      <td>2.0</td>\n",
              "    </tr>\n",
              "    <tr>\n",
              "      <th>421225</th>\n",
              "      <td>1</td>\n",
              "      <td>180000.0</td>\n",
              "      <td>-10630</td>\n",
              "      <td>-454</td>\n",
              "      <td>0</td>\n",
              "      <td>0</td>\n",
              "      <td>0</td>\n",
              "      <td>3.0</td>\n",
              "    </tr>\n",
              "    <tr>\n",
              "      <th>424339</th>\n",
              "      <td>1</td>\n",
              "      <td>157500.0</td>\n",
              "      <td>-15859</td>\n",
              "      <td>-3679</td>\n",
              "      <td>0</td>\n",
              "      <td>0</td>\n",
              "      <td>0</td>\n",
              "      <td>3.0</td>\n",
              "    </tr>\n",
              "  </tbody>\n",
              "</table>\n",
              "<p>438557 rows × 8 columns</p>\n",
              "</div>\n",
              "      <button class=\"colab-df-convert\" onclick=\"convertToInteractive('df-91935e75-4c56-4dc4-ace9-b710da58cdf0')\"\n",
              "              title=\"Convert this dataframe to an interactive table.\"\n",
              "              style=\"display:none;\">\n",
              "        \n",
              "  <svg xmlns=\"http://www.w3.org/2000/svg\" height=\"24px\"viewBox=\"0 0 24 24\"\n",
              "       width=\"24px\">\n",
              "    <path d=\"M0 0h24v24H0V0z\" fill=\"none\"/>\n",
              "    <path d=\"M18.56 5.44l.94 2.06.94-2.06 2.06-.94-2.06-.94-.94-2.06-.94 2.06-2.06.94zm-11 1L8.5 8.5l.94-2.06 2.06-.94-2.06-.94L8.5 2.5l-.94 2.06-2.06.94zm10 10l.94 2.06.94-2.06 2.06-.94-2.06-.94-.94-2.06-.94 2.06-2.06.94z\"/><path d=\"M17.41 7.96l-1.37-1.37c-.4-.4-.92-.59-1.43-.59-.52 0-1.04.2-1.43.59L10.3 9.45l-7.72 7.72c-.78.78-.78 2.05 0 2.83L4 21.41c.39.39.9.59 1.41.59.51 0 1.02-.2 1.41-.59l7.78-7.78 2.81-2.81c.8-.78.8-2.07 0-2.86zM5.41 20L4 18.59l7.72-7.72 1.47 1.35L5.41 20z\"/>\n",
              "  </svg>\n",
              "      </button>\n",
              "      \n",
              "  <style>\n",
              "    .colab-df-container {\n",
              "      display:flex;\n",
              "      flex-wrap:wrap;\n",
              "      gap: 12px;\n",
              "    }\n",
              "\n",
              "    .colab-df-convert {\n",
              "      background-color: #E8F0FE;\n",
              "      border: none;\n",
              "      border-radius: 50%;\n",
              "      cursor: pointer;\n",
              "      display: none;\n",
              "      fill: #1967D2;\n",
              "      height: 32px;\n",
              "      padding: 0 0 0 0;\n",
              "      width: 32px;\n",
              "    }\n",
              "\n",
              "    .colab-df-convert:hover {\n",
              "      background-color: #E2EBFA;\n",
              "      box-shadow: 0px 1px 2px rgba(60, 64, 67, 0.3), 0px 1px 3px 1px rgba(60, 64, 67, 0.15);\n",
              "      fill: #174EA6;\n",
              "    }\n",
              "\n",
              "    [theme=dark] .colab-df-convert {\n",
              "      background-color: #3B4455;\n",
              "      fill: #D2E3FC;\n",
              "    }\n",
              "\n",
              "    [theme=dark] .colab-df-convert:hover {\n",
              "      background-color: #434B5C;\n",
              "      box-shadow: 0px 1px 3px 1px rgba(0, 0, 0, 0.15);\n",
              "      filter: drop-shadow(0px 1px 2px rgba(0, 0, 0, 0.3));\n",
              "      fill: #FFFFFF;\n",
              "    }\n",
              "  </style>\n",
              "\n",
              "      <script>\n",
              "        const buttonEl =\n",
              "          document.querySelector('#df-91935e75-4c56-4dc4-ace9-b710da58cdf0 button.colab-df-convert');\n",
              "        buttonEl.style.display =\n",
              "          google.colab.kernel.accessAllowed ? 'block' : 'none';\n",
              "\n",
              "        async function convertToInteractive(key) {\n",
              "          const element = document.querySelector('#df-91935e75-4c56-4dc4-ace9-b710da58cdf0');\n",
              "          const dataTable =\n",
              "            await google.colab.kernel.invokeFunction('convertToInteractive',\n",
              "                                                     [key], {});\n",
              "          if (!dataTable) return;\n",
              "\n",
              "          const docLinkHtml = 'Like what you see? Visit the ' +\n",
              "            '<a target=\"_blank\" href=https://colab.research.google.com/notebooks/data_table.ipynb>data table notebook</a>'\n",
              "            + ' to learn more about interactive tables.';\n",
              "          element.innerHTML = '';\n",
              "          dataTable['output_type'] = 'display_data';\n",
              "          await google.colab.output.renderOutput(dataTable, element);\n",
              "          const docLink = document.createElement('div');\n",
              "          docLink.innerHTML = docLinkHtml;\n",
              "          element.appendChild(docLink);\n",
              "        }\n",
              "      </script>\n",
              "    </div>\n",
              "  </div>\n",
              "  "
            ]
          },
          "metadata": {},
          "execution_count": 23
        }
      ],
      "source": [
        "cleaned_app_df[num_features]"
      ]
    },
    {
      "cell_type": "code",
      "execution_count": 24,
      "id": "3cb00755",
      "metadata": {
        "id": "3cb00755"
      },
      "outputs": [],
      "source": [
        "std_feature=[\"income\",\"CNT_FAM_MEMBERS\"]"
      ]
    },
    {
      "cell_type": "code",
      "execution_count": 25,
      "id": "237dc802",
      "metadata": {
        "id": "237dc802"
      },
      "outputs": [],
      "source": [
        "for i in std_feature:\n",
        "    num_features.remove(i)\n",
        "norm_features=std_feature.copy()"
      ]
    },
    {
      "cell_type": "code",
      "execution_count": 26,
      "id": "ff9eea27",
      "metadata": {
        "id": "ff9eea27"
      },
      "outputs": [],
      "source": [
        "norm=MinMaxScaler()\n",
        "norm.fit(cleaned_app_df[norm_features])\n",
        "df1[norm_features]=norm.transform(cleaned_app_df[norm_features])"
      ]
    },
    {
      "cell_type": "code",
      "execution_count": 27,
      "id": "b5c0fdb7",
      "metadata": {
        "id": "b5c0fdb7"
      },
      "outputs": [],
      "source": [
        "std=StandardScaler()\n",
        "std.fit(cleaned_app_df[std_feature])\n",
        "df1[std_feature]=std.transform(cleaned_app_df[std_feature])"
      ]
    },
    {
      "cell_type": "code",
      "execution_count": 28,
      "id": "a8a2e46d",
      "metadata": {
        "id": "a8a2e46d"
      },
      "outputs": [],
      "source": [
        "from sklearn.linear_model import LogisticRegression\n",
        "from sklearn.model_selection import  KFold, cross_val_score\n",
        "from sklearn.metrics import roc_auc_score"
      ]
    },
    {
      "cell_type": "code",
      "execution_count": 29,
      "id": "57d497f5",
      "metadata": {
        "id": "57d497f5"
      },
      "outputs": [],
      "source": [
        "def kf_cross_val(model, X, y): \n",
        "    scores = []\n",
        "    kf = KFold(n_splits=5, shuffle=True, random_state=42)\n",
        "    for fold, (train_index, test_index) in enumerate(kf.split(X, y)):\n",
        "        x_train = X.iloc[train_index]\n",
        "        y_train = y.loc[train_index]\n",
        "        x_test = X.loc[test_index]\n",
        "        y_test = y.loc[test_index]\n",
        "        model.fit(x_train,y_train)\n",
        "        y_pred = model.predict_proba(x_test)[:,1]     \n",
        "        scores.append(roc_auc_score(y_test,y_pred))       \n",
        "    return scores"
      ]
    },
    {
      "cell_type": "code",
      "source": [
        "training_df=label_df.merge(df1,how=\"inner\").drop(\"id\",axis=1)"
      ],
      "metadata": {
        "id": "miNNCetDGGDf"
      },
      "id": "miNNCetDGGDf",
      "execution_count": 51,
      "outputs": []
    },
    {
      "cell_type": "code",
      "execution_count": 61,
      "id": "29fbf5f2",
      "metadata": {
        "id": "29fbf5f2"
      },
      "outputs": [],
      "source": [
        "X_train=training_df[training_df.columns.difference(['label'])]\n",
        "y_train=training_df[\"label\"].copy()"
      ]
    },
    {
      "cell_type": "code",
      "execution_count": 62,
      "id": "06a731e3",
      "metadata": {
        "id": "06a731e3",
        "colab": {
          "base_uri": "https://localhost:8080/"
        },
        "outputId": "9f42a066-d4b6-46a9-f8dc-bf673dd4970b"
      },
      "outputs": [
        {
          "output_type": "stream",
          "name": "stdout",
          "text": [
            "L2 Regularization: 0.5181 (0.00597)\n",
            "No Regularization: 0.5181 (0.00598)\n"
          ]
        }
      ],
      "source": [
        "lr = LogisticRegression(max_iter=2000, random_state=random_state)\n",
        "lr_score = kf_cross_val(lr, X_train, y_train)\n",
        "print(f\"L2 Regularization: {round(np.mean(lr_score),5)} ({round(np.std(lr_score),5)})\")\n",
        "\n",
        "lr = LogisticRegression(max_iter=2000, penalty='none', random_state=random_state)\n",
        "lr_score = kf_cross_val(lr, X_train, y_train)\n",
        "print(f\"No Regularization: {round(np.mean(lr_score),5)} ({round(np.std(lr_score),5)})\")"
      ]
    },
    {
      "cell_type": "markdown",
      "id": "672386ea",
      "metadata": {
        "id": "672386ea"
      },
      "source": [
        "It seems logistic Regression is no better than guessing due to the ordinal features in the dataset"
      ]
    },
    {
      "cell_type": "code",
      "source": [
        "from pandas.api.types import is_string_dtype, is_numeric_dtype, is_categorical_dtype\n",
        "from sklearn.model_selection import ShuffleSplit\n",
        "from fastai.tabular.all import *\n",
        "from sklearn.model_selection import KFold"
      ],
      "metadata": {
        "id": "72z3c3jMIzVZ"
      },
      "id": "72z3c3jMIzVZ",
      "execution_count": 39,
      "outputs": []
    },
    {
      "cell_type": "code",
      "source": [
        "df_nn=label_df.merge(cleaned_app_df,how=\"inner\")"
      ],
      "metadata": {
        "id": "aVSGwbRoHLs8"
      },
      "id": "aVSGwbRoHLs8",
      "execution_count": 63,
      "outputs": []
    },
    {
      "cell_type": "code",
      "source": [
        "df_nn_final=df_nn.drop(\"id\",axis=1)"
      ],
      "metadata": {
        "id": "ZEu51Hh-LyC5"
      },
      "id": "ZEu51Hh-LyC5",
      "execution_count": 64,
      "outputs": []
    },
    {
      "cell_type": "code",
      "execution_count": 65,
      "id": "db605ac0",
      "metadata": {
        "id": "db605ac0"
      },
      "outputs": [],
      "source": [
        "cont_nn,cat_nn = cont_cat_split(df_nn_final, max_card=1000, dep_var=dep_var)"
      ]
    },
    {
      "cell_type": "code",
      "source": [
        "sss = ShuffleSplit(n_splits=1, test_size=0.2)\n",
        "train_idx, valid_idx = next(sss.split(train_df))\n",
        "splits = (list(train_idx),list(valid_idx))"
      ],
      "metadata": {
        "id": "OPi_3D8PNUsR"
      },
      "id": "OPi_3D8PNUsR",
      "execution_count": 66,
      "outputs": []
    },
    {
      "cell_type": "code",
      "source": [
        "procs_nn = [Categorify, Normalize]\n",
        "to_nn = TabularPandas(df_nn_final, procs_nn, cat_nn, cont_nn,\n",
        "                      splits=splits, y_names=dep_var)"
      ],
      "metadata": {
        "id": "fyZWDaD6I76o"
      },
      "id": "fyZWDaD6I76o",
      "execution_count": 89,
      "outputs": []
    },
    {
      "cell_type": "code",
      "source": [
        "dls = to_nn.dataloaders(1024)"
      ],
      "metadata": {
        "id": "6k2iPcwAIp1u"
      },
      "id": "6k2iPcwAIp1u",
      "execution_count": 90,
      "outputs": []
    },
    {
      "cell_type": "code",
      "source": [
        "kf = KFold(n_splits=5,random_state=random_state,shuffle=True)"
      ],
      "metadata": {
        "id": "7ht5aV6fNW-h"
      },
      "id": "7ht5aV6fNW-h",
      "execution_count": null,
      "outputs": []
    },
    {
      "cell_type": "code",
      "source": [
        "df_nn_final[cat_nn].nunique()"
      ],
      "metadata": {
        "colab": {
          "base_uri": "https://localhost:8080/"
        },
        "id": "N17NFVQlGXRf",
        "outputId": "05da1885-adaf-47c7-ed9c-e16389265e1d"
      },
      "id": "N17NFVQlGXRf",
      "execution_count": 72,
      "outputs": [
        {
          "output_type": "execute_result",
          "data": {
            "text/plain": [
              "gender              2\n",
              "own_car             2\n",
              "own_realty          2\n",
              "num_child           9\n",
              "income_type         5\n",
              "education_level     5\n",
              "family_status       5\n",
              "house_type          6\n",
              "work_phone          2\n",
              "phone               2\n",
              "email               2\n",
              "job                19\n",
              "dtype: int64"
            ]
          },
          "metadata": {},
          "execution_count": 72
        }
      ]
    },
    {
      "cell_type": "code",
      "source": [
        "y = to_nn.train.y"
      ],
      "metadata": {
        "id": "QCnOXmvpGpJH"
      },
      "id": "QCnOXmvpGpJH",
      "execution_count": 73,
      "outputs": []
    },
    {
      "cell_type": "code",
      "source": [
        "learn = tabular_learner(dls, layers=[17,289,2],loss_func=BCEWithLogitsLossFlat())"
      ],
      "metadata": {
        "id": "5ACpHyp5H3qX"
      },
      "id": "5ACpHyp5H3qX",
      "execution_count": 105,
      "outputs": []
    },
    {
      "cell_type": "code",
      "source": [
        "learn.lr_find()"
      ],
      "metadata": {
        "colab": {
          "base_uri": "https://localhost:8080/",
          "height": 300
        },
        "id": "e0zCmKQ-IRhv",
        "outputId": "b19985c0-60af-49c2-f988-c04904599ca0"
      },
      "id": "e0zCmKQ-IRhv",
      "execution_count": 106,
      "outputs": [
        {
          "output_type": "display_data",
          "data": {
            "text/plain": [
              "<IPython.core.display.HTML object>"
            ],
            "text/html": [
              "\n",
              "<style>\n",
              "    /* Turns off some styling */\n",
              "    progress {\n",
              "        /* gets rid of default border in Firefox and Opera. */\n",
              "        border: none;\n",
              "        /* Needs to be in here for Safari polyfill so background images work as expected. */\n",
              "        background-size: auto;\n",
              "    }\n",
              "    progress:not([value]), progress:not([value])::-webkit-progress-bar {\n",
              "        background: repeating-linear-gradient(45deg, #7e7e7e, #7e7e7e 10px, #5c5c5c 10px, #5c5c5c 20px);\n",
              "    }\n",
              "    .progress-bar-interrupted, .progress-bar-interrupted::-webkit-progress-bar {\n",
              "        background: #F44336;\n",
              "    }\n",
              "</style>\n"
            ]
          },
          "metadata": {}
        },
        {
          "output_type": "display_data",
          "data": {
            "text/plain": [
              "<IPython.core.display.HTML object>"
            ],
            "text/html": []
          },
          "metadata": {}
        },
        {
          "output_type": "execute_result",
          "data": {
            "text/plain": [
              "SuggestedLRs(valley=0.009120108559727669)"
            ]
          },
          "metadata": {},
          "execution_count": 106
        },
        {
          "output_type": "display_data",
          "data": {
            "text/plain": [
              "<Figure size 432x288 with 1 Axes>"
            ],
            "image/png": "[encoded data removed]"
          },
          "metadata": {
            "needs_background": "light"
          }
        }
      ]
    },
    {
      "cell_type": "code",
      "source": [
        "learn.fit_one_cycle(5, 1e-2)  "
      ],
      "metadata": {
        "colab": {
          "base_uri": "https://localhost:8080/",
          "height": 206
        },
        "id": "r-0uB0qPJFJ3",
        "outputId": "d693dac0-cf4f-44ca-8989-ee5a118d3b3c"
      },
      "id": "r-0uB0qPJFJ3",
      "execution_count": 107,
      "outputs": [
        {
          "output_type": "display_data",
          "data": {
            "text/plain": [
              "<IPython.core.display.HTML object>"
            ],
            "text/html": [
              "\n",
              "<style>\n",
              "    /* Turns off some styling */\n",
              "    progress {\n",
              "        /* gets rid of default border in Firefox and Opera. */\n",
              "        border: none;\n",
              "        /* Needs to be in here for Safari polyfill so background images work as expected. */\n",
              "        background-size: auto;\n",
              "    }\n",
              "    progress:not([value]), progress:not([value])::-webkit-progress-bar {\n",
              "        background: repeating-linear-gradient(45deg, #7e7e7e, #7e7e7e 10px, #5c5c5c 10px, #5c5c5c 20px);\n",
              "    }\n",
              "    .progress-bar-interrupted, .progress-bar-interrupted::-webkit-progress-bar {\n",
              "        background: #F44336;\n",
              "    }\n",
              "</style>\n"
            ]
          },
          "metadata": {}
        },
        {
          "output_type": "display_data",
          "data": {
            "text/plain": [
              "<IPython.core.display.HTML object>"
            ],
            "text/html": [
              "<table border=\"1\" class=\"dataframe\">\n",
              "  <thead>\n",
              "    <tr style=\"text-align: left;\">\n",
              "      <th>epoch</th>\n",
              "      <th>train_loss</th>\n",
              "      <th>valid_loss</th>\n",
              "      <th>time</th>\n",
              "    </tr>\n",
              "  </thead>\n",
              "  <tbody>\n",
              "    <tr>\n",
              "      <td>0</td>\n",
              "      <td>0.613193</td>\n",
              "      <td>0.583597</td>\n",
              "      <td>00:01</td>\n",
              "    </tr>\n",
              "    <tr>\n",
              "      <td>1</td>\n",
              "      <td>0.540155</td>\n",
              "      <td>0.448113</td>\n",
              "      <td>00:00</td>\n",
              "    </tr>\n",
              "    <tr>\n",
              "      <td>2</td>\n",
              "      <td>0.463620</td>\n",
              "      <td>0.382316</td>\n",
              "      <td>00:00</td>\n",
              "    </tr>\n",
              "    <tr>\n",
              "      <td>3</td>\n",
              "      <td>0.415471</td>\n",
              "      <td>0.363823</td>\n",
              "      <td>00:00</td>\n",
              "    </tr>\n",
              "    <tr>\n",
              "      <td>4</td>\n",
              "      <td>0.388775</td>\n",
              "      <td>0.362953</td>\n",
              "      <td>00:00</td>\n",
              "    </tr>\n",
              "  </tbody>\n",
              "</table>"
            ]
          },
          "metadata": {}
        }
      ]
    },
    {
      "cell_type": "code",
      "source": [
        "def hamming_distance(x,y):\n",
        "  labels=np.where(preds>0.5,1,0)\n",
        "  y=np.array(y)\n",
        "  return sum(labels!=y)/len(x)\n",
        "def hamming_distance_accuracy(x, y): return 1-hamming_distance(x,y)[0]"
      ],
      "metadata": {
        "id": "vHmpr0g6KXPH"
      },
      "id": "vHmpr0g6KXPH",
      "execution_count": 131,
      "outputs": []
    },
    {
      "cell_type": "code",
      "source": [
        "preds,targs = learn.get_preds()\n",
        "hamming_distance_accuracy(preds, targs)"
      ],
      "metadata": {
        "colab": {
          "base_uri": "https://localhost:8080/",
          "height": 34
        },
        "id": "CKVYWfyhJOQX",
        "outputId": "847c9a3d-2c39-4d19-ba77-a2a6010d773e"
      },
      "id": "CKVYWfyhJOQX",
      "execution_count": 132,
      "outputs": [
        {
          "output_type": "display_data",
          "data": {
            "text/plain": [
              "<IPython.core.display.HTML object>"
            ],
            "text/html": [
              "\n",
              "<style>\n",
              "    /* Turns off some styling */\n",
              "    progress {\n",
              "        /* gets rid of default border in Firefox and Opera. */\n",
              "        border: none;\n",
              "        /* Needs to be in here for Safari polyfill so background images work as expected. */\n",
              "        background-size: auto;\n",
              "    }\n",
              "    progress:not([value]), progress:not([value])::-webkit-progress-bar {\n",
              "        background: repeating-linear-gradient(45deg, #7e7e7e, #7e7e7e 10px, #5c5c5c 10px, #5c5c5c 20px);\n",
              "    }\n",
              "    .progress-bar-interrupted, .progress-bar-interrupted::-webkit-progress-bar {\n",
              "        background: #F44336;\n",
              "    }\n",
              "</style>\n"
            ]
          },
          "metadata": {}
        },
        {
          "output_type": "display_data",
          "data": {
            "text/plain": [
              "<IPython.core.display.HTML object>"
            ],
            "text/html": []
          },
          "metadata": {}
        },
        {
          "output_type": "execute_result",
          "data": {
            "text/plain": [
              "0.8809654415798135"
            ]
          },
          "metadata": {},
          "execution_count": 132
        }
      ]
    },
    {
      "cell_type": "code",
      "source": [
        "learn.lr_find()"
      ],
      "metadata": {
        "colab": {
          "base_uri": "https://localhost:8080/",
          "height": 304
        },
        "id": "YXYrakQRMYLf",
        "outputId": "0a63ef70-2c50-4a53-b4e1-725144506580"
      },
      "id": "YXYrakQRMYLf",
      "execution_count": 133,
      "outputs": [
        {
          "output_type": "display_data",
          "data": {
            "text/plain": [
              "<IPython.core.display.HTML object>"
            ],
            "text/html": [
              "\n",
              "<style>\n",
              "    /* Turns off some styling */\n",
              "    progress {\n",
              "        /* gets rid of default border in Firefox and Opera. */\n",
              "        border: none;\n",
              "        /* Needs to be in here for Safari polyfill so background images work as expected. */\n",
              "        background-size: auto;\n",
              "    }\n",
              "    progress:not([value]), progress:not([value])::-webkit-progress-bar {\n",
              "        background: repeating-linear-gradient(45deg, #7e7e7e, #7e7e7e 10px, #5c5c5c 10px, #5c5c5c 20px);\n",
              "    }\n",
              "    .progress-bar-interrupted, .progress-bar-interrupted::-webkit-progress-bar {\n",
              "        background: #F44336;\n",
              "    }\n",
              "</style>\n"
            ]
          },
          "metadata": {}
        },
        {
          "output_type": "display_data",
          "data": {
            "text/plain": [
              "<IPython.core.display.HTML object>"
            ],
            "text/html": []
          },
          "metadata": {}
        },
        {
          "output_type": "execute_result",
          "data": {
            "text/plain": [
              "SuggestedLRs(valley=0.001737800776027143)"
            ]
          },
          "metadata": {},
          "execution_count": 133
        },
        {
          "output_type": "display_data",
          "data": {
            "text/plain": [
              "<Figure size 432x288 with 1 Axes>"
            ],
            "image/png": "[encoded data removed]"
          },
          "metadata": {
            "needs_background": "light"
          }
        }
      ]
    },
    {
      "cell_type": "code",
      "source": [
        "learn.fit_one_cycle(5, 2e-3)  "
      ],
      "metadata": {
        "colab": {
          "base_uri": "https://localhost:8080/",
          "height": 206
        },
        "id": "T2UI3ShBMuvA",
        "outputId": "a99d57a3-2c79-4e3d-fc20-df8b8a7b5717"
      },
      "id": "T2UI3ShBMuvA",
      "execution_count": 134,
      "outputs": [
        {
          "output_type": "display_data",
          "data": {
            "text/plain": [
              "<IPython.core.display.HTML object>"
            ],
            "text/html": [
              "\n",
              "<style>\n",
              "    /* Turns off some styling */\n",
              "    progress {\n",
              "        /* gets rid of default border in Firefox and Opera. */\n",
              "        border: none;\n",
              "        /* Needs to be in here for Safari polyfill so background images work as expected. */\n",
              "        background-size: auto;\n",
              "    }\n",
              "    progress:not([value]), progress:not([value])::-webkit-progress-bar {\n",
              "        background: repeating-linear-gradient(45deg, #7e7e7e, #7e7e7e 10px, #5c5c5c 10px, #5c5c5c 20px);\n",
              "    }\n",
              "    .progress-bar-interrupted, .progress-bar-interrupted::-webkit-progress-bar {\n",
              "        background: #F44336;\n",
              "    }\n",
              "</style>\n"
            ]
          },
          "metadata": {}
        },
        {
          "output_type": "display_data",
          "data": {
            "text/plain": [
              "<IPython.core.display.HTML object>"
            ],
            "text/html": [
              "<table border=\"1\" class=\"dataframe\">\n",
              "  <thead>\n",
              "    <tr style=\"text-align: left;\">\n",
              "      <th>epoch</th>\n",
              "      <th>train_loss</th>\n",
              "      <th>valid_loss</th>\n",
              "      <th>time</th>\n",
              "    </tr>\n",
              "  </thead>\n",
              "  <tbody>\n",
              "    <tr>\n",
              "      <td>0</td>\n",
              "      <td>0.354542</td>\n",
              "      <td>0.360492</td>\n",
              "      <td>00:01</td>\n",
              "    </tr>\n",
              "    <tr>\n",
              "      <td>1</td>\n",
              "      <td>0.353642</td>\n",
              "      <td>0.358990</td>\n",
              "      <td>00:01</td>\n",
              "    </tr>\n",
              "    <tr>\n",
              "      <td>2</td>\n",
              "      <td>0.350965</td>\n",
              "      <td>0.357704</td>\n",
              "      <td>00:00</td>\n",
              "    </tr>\n",
              "    <tr>\n",
              "      <td>3</td>\n",
              "      <td>0.349378</td>\n",
              "      <td>0.357726</td>\n",
              "      <td>00:00</td>\n",
              "    </tr>\n",
              "    <tr>\n",
              "      <td>4</td>\n",
              "      <td>0.346786</td>\n",
              "      <td>0.357745</td>\n",
              "      <td>00:00</td>\n",
              "    </tr>\n",
              "  </tbody>\n",
              "</table>"
            ]
          },
          "metadata": {}
        }
      ]
    },
    {
      "cell_type": "code",
      "source": [
        "preds,targs = learn.get_preds()\n",
        "hamming_distance_accuracy(preds, targs)"
      ],
      "metadata": {
        "colab": {
          "base_uri": "https://localhost:8080/",
          "height": 34
        },
        "id": "QKnFID6lMzZo",
        "outputId": "93f9378b-ea23-4080-b1b3-6bf20fbed101"
      },
      "id": "QKnFID6lMzZo",
      "execution_count": 135,
      "outputs": [
        {
          "output_type": "display_data",
          "data": {
            "text/plain": [
              "<IPython.core.display.HTML object>"
            ],
            "text/html": [
              "\n",
              "<style>\n",
              "    /* Turns off some styling */\n",
              "    progress {\n",
              "        /* gets rid of default border in Firefox and Opera. */\n",
              "        border: none;\n",
              "        /* Needs to be in here for Safari polyfill so background images work as expected. */\n",
              "        background-size: auto;\n",
              "    }\n",
              "    progress:not([value]), progress:not([value])::-webkit-progress-bar {\n",
              "        background: repeating-linear-gradient(45deg, #7e7e7e, #7e7e7e 10px, #5c5c5c 10px, #5c5c5c 20px);\n",
              "    }\n",
              "    .progress-bar-interrupted, .progress-bar-interrupted::-webkit-progress-bar {\n",
              "        background: #F44336;\n",
              "    }\n",
              "</style>\n"
            ]
          },
          "metadata": {}
        },
        {
          "output_type": "display_data",
          "data": {
            "text/plain": [
              "<IPython.core.display.HTML object>"
            ],
            "text/html": []
          },
          "metadata": {}
        },
        {
          "output_type": "execute_result",
          "data": {
            "text/plain": [
              "0.8809654415798135"
            ]
          },
          "metadata": {},
          "execution_count": 135
        }
      ]
    }
  ],
  "metadata": {
    "kernelspec": {
      "display_name": "Python 3.10.0 64-bit",
      "language": "python",
      "name": "python3"
    },
    "language_info": {
      "codemirror_mode": {
        "name": "ipython",
        "version": 3
      },
      "file_extension": ".py",
      "mimetype": "text/x-python",
      "name": "python",
      "nbconvert_exporter": "python",
      "pygments_lexer": "ipython3",
      "version": "3.10.0"
    },
    "vscode": {
      "interpreter": {
        "hash": "525f50cd3df40e9d57f214b2f9bedadf4bf08c85f9f5b3b27734de5b2eace747"
      }
    },
    "colab": {
      "provenance": [],
      "collapsed_sections": [],
      "include_colab_link": true
    }
  },
  "nbformat": 4,
  "nbformat_minor": 5
}