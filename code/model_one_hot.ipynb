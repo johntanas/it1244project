{
  "cells": [
    {
      "cell_type": "markdown",
      "metadata": {
        "id": "view-in-github",
        "colab_type": "text"
      },
      "source": [
        "<a href=\"https://colab.research.google.com/github/johntanas/it1244project/blob/main/code/model_one_hot.ipynb\" target=\"_parent\"><img src=\"https://colab.research.google.com/assets/colab-badge.svg\" alt=\"Open In Colab\"/></a>"
      ]
    },
    {
      "cell_type": "code",
      "execution_count": 3,
      "id": "5179ea71",
      "metadata": {
        "id": "5179ea71"
      },
      "outputs": [],
      "source": [
        "import pandas as pd\n",
        "import numpy as np\n",
        "import warnings \n",
        "warnings.filterwarnings('ignore')"
      ]
    },
    {
      "cell_type": "code",
      "source": [
        "path_to_evm_label=\"/content/expo_moving_k2_labels.csv\" #https://drive.google.com/file/d/1RUSdg3mKkoY984r4s7rGabjwhJEcIA_2/view?usp=sharing\n",
        "path_to_app=\"/content/cleaned_application.csv\" #https://drive.google.com/file/d/1Ktdv2NTyK2AM48yBvbpFezd82-srqj7w/view?usp=sharing\n",
        "cleaned_app_df=pd.read_csv(path_to_app,index_col=0)\n",
        "ewm_df_status=pd.read_csv(path_to_evm_label,index_col=0)"
      ],
      "metadata": {
        "id": "XJlCQwWJEl2_"
      },
      "id": "XJlCQwWJEl2_",
      "execution_count": 4,
      "outputs": []
    },
    {
      "cell_type": "code",
      "source": [
        "labels_to_int_evm={\"bad\":0,\"good\":1}"
      ],
      "metadata": {
        "id": "yATIoEXw31Eu"
      },
      "id": "yATIoEXw31Eu",
      "execution_count": 5,
      "outputs": []
    },
    {
      "cell_type": "code",
      "source": [
        "ewm_df=ewm_df_status.drop(columns=\"status\").replace({\"label\":labels_to_int_evm})"
      ],
      "metadata": {
        "id": "lXL4go3Q3UVC"
      },
      "id": "lXL4go3Q3UVC",
      "execution_count": 6,
      "outputs": []
    },
    {
      "cell_type": "code",
      "source": [
        "dep_var=\"label\"\n",
        "random_state=42"
      ],
      "metadata": {
        "id": "DoxeFDv6Mgj8"
      },
      "id": "DoxeFDv6Mgj8",
      "execution_count": 7,
      "outputs": []
    },
    {
      "cell_type": "code",
      "source": [
        "from sklearn.model_selection import ShuffleSplit\n",
        "from pandas.api.types import is_string_dtype, is_numeric_dtype, is_categorical_dtype\n",
        "from sklearn.ensemble import RandomForestClassifier\n",
        "from sklearn.tree import DecisionTreeClassifier,export_text,plot_tree\n",
        "from sklearn.metrics import classification_report, confusion_matrix,ConfusionMatrixDisplay"
      ],
      "metadata": {
        "id": "72z3c3jMIzVZ"
      },
      "id": "72z3c3jMIzVZ",
      "execution_count": 11,
      "outputs": []
    },
    {
      "cell_type": "code",
      "source": [
        "df1=ewm_df.merge(cleaned_app_df,how=\"inner\",on=\"id\").drop(\"id\",axis=1)"
      ],
      "metadata": {
        "id": "ZEu51Hh-LyC5"
      },
      "id": "ZEu51Hh-LyC5",
      "execution_count": 12,
      "outputs": []
    },
    {
      "cell_type": "code",
      "source": [
        "df=df1.replace(to_replace = (\"Y\", \"N\"),\n",
        "             value = (1, 0))"
      ],
      "metadata": {
        "id": "ImorN9-dxy9h"
      },
      "id": "ImorN9-dxy9h",
      "execution_count": 13,
      "outputs": []
    },
    {
      "cell_type": "code",
      "source": [
        "gender = pd.get_dummies(df[\"gender\"])\n",
        "income_type = pd.get_dummies(df[\"income_type\"])\n",
        "education_level = pd.get_dummies(df[\"education_level\"])\n",
        "family_status = pd.get_dummies(df[\"family_status\"])\n",
        "house_type = pd.get_dummies(df[\"house_type\"])\n",
        "job = pd.get_dummies(df[\"job\"])\n",
        "one_hot=df.drop(columns = [\"gender\", \"income_type\", \"education_level\",\n",
        "                   \"family_status\", \"house_type\", \"job\"])\n",
        "one_hot = pd.concat([one_hot, gender, income_type, education_level, family_status,\n",
        "                house_type, job], axis = 1)\n",
        "yvals = pd.DataFrame(one_hot[dep_var])\n",
        "xvals = one_hot.drop(columns = dep_var)\n",
        "from sklearn.model_selection import train_test_split\n",
        "xtrain, xtest, y, valid_y = train_test_split(xvals, yvals, test_size = 0.20,\n",
        "                                                random_state = random_state)\n",
        "\n",
        "# Standardizing the training and test data\n",
        "from sklearn.preprocessing import StandardScaler\n",
        "std_x = StandardScaler()\n",
        "std_x.fit(xtrain)\n",
        "xs = std_x.transform(xtrain)\n",
        "valid_xs = std_x.transform(xtest)"
      ],
      "metadata": {
        "id": "6J-8F9sexD_m"
      },
      "id": "6J-8F9sexD_m",
      "execution_count": 14,
      "outputs": []
    },
    {
      "cell_type": "code",
      "source": [
        "pd.DataFrame(xs)"
      ],
      "metadata": {
        "id": "tIMUPfEB2Uyt",
        "outputId": "a33b719d-d3db-4d7f-8217-5c551194d798",
        "colab": {
          "base_uri": "https://localhost:8080/",
          "height": 488
        }
      },
      "id": "tIMUPfEB2Uyt",
      "execution_count": 15,
      "outputs": [
        {
          "output_type": "execute_result",
          "data": {
            "text/plain": [
              "            0         1         2         3         4         5         6   \\\n",
              "0     1.322403 -1.416144 -0.562311  0.253557  0.847678 -0.557377  1.881126   \n",
              "1    -0.756199 -1.416144  0.769710  2.175105  0.155277  0.492201 -0.531597   \n",
              "2    -0.756199  0.706143 -0.562311 -0.590049  1.100899  0.677858 -0.531597   \n",
              "3     1.322403  0.706143 -0.562311  0.394158  0.142709  0.205053 -0.531597   \n",
              "4    -0.756199  0.706143 -0.562311  1.893903 -1.639846  1.206360 -0.531597   \n",
              "...        ...       ...       ...       ...       ...       ...       ...   \n",
              "6045 -0.756199  0.706143 -0.562311  3.299913  1.210985  0.366368 -0.531597   \n",
              "6046 -0.756199 -1.416144 -0.562311  0.019222  0.321220  0.262812 -0.531597   \n",
              "6047 -0.756199  0.706143 -0.562311  1.097163 -1.354042  0.792140 -0.531597   \n",
              "6048 -0.756199 -1.416144 -0.562311 -1.058719  1.714634  0.565226  1.881126   \n",
              "6049 -0.756199  0.706143 -0.562311 -1.058719 -1.756449  1.413058 -0.531597   \n",
              "\n",
              "            7         8         9   ...        42        43        44  \\\n",
              "0    -0.628469 -0.299495 -0.184840  ... -0.080549 -0.318122 -0.181527   \n",
              "1    -0.628469 -0.299495  0.891466  ... -0.080549  3.143453 -0.181527   \n",
              "2    -0.628469 -0.299495 -0.184840  ... -0.080549 -0.318122 -0.181527   \n",
              "3    -0.628469  3.338951 -0.184840  ... -0.080549 -0.318122 -0.181527   \n",
              "4    -0.628469 -0.299495 -0.184840  ... -0.080549 -0.318122 -0.181527   \n",
              "...        ...       ...       ...  ...       ...       ...       ...   \n",
              "6045 -0.628469 -0.299495 -0.184840  ... -0.080549 -0.318122 -0.181527   \n",
              "6046 -0.628469 -0.299495 -1.261146  ... -0.080549 -0.318122 -0.181527   \n",
              "6047 -0.628469 -0.299495 -0.184840  ... -0.080549 -0.318122 -0.181527   \n",
              "6048 -0.628469 -0.299495 -1.261146  ... -0.080549 -0.318122  5.508825   \n",
              "6049 -0.628469 -0.299495 -1.261146  ... -0.080549 -0.318122 -0.181527   \n",
              "\n",
              "            45       46        47        48        49        50        51  \n",
              "0    -0.462476 -0.08753 -0.046405 -0.394007 -0.068188 -0.141039 -0.061775  \n",
              "1    -0.462476 -0.08753 -0.046405 -0.394007 -0.068188 -0.141039 -0.061775  \n",
              "2    -0.462476 -0.08753 -0.046405 -0.394007 -0.068188 -0.141039 -0.061775  \n",
              "3    -0.462476 -0.08753 -0.046405 -0.394007 -0.068188 -0.141039 -0.061775  \n",
              "4     2.162272 -0.08753 -0.046405 -0.394007 -0.068188 -0.141039 -0.061775  \n",
              "...        ...      ...       ...       ...       ...       ...       ...  \n",
              "6045 -0.462476 -0.08753 -0.046405 -0.394007 -0.068188 -0.141039 -0.061775  \n",
              "6046 -0.462476 -0.08753 -0.046405 -0.394007 -0.068188 -0.141039 -0.061775  \n",
              "6047  2.162272 -0.08753 -0.046405 -0.394007 -0.068188 -0.141039 -0.061775  \n",
              "6048 -0.462476 -0.08753 -0.046405 -0.394007 -0.068188 -0.141039 -0.061775  \n",
              "6049  2.162272 -0.08753 -0.046405 -0.394007 -0.068188 -0.141039 -0.061775  \n",
              "\n",
              "[6050 rows x 52 columns]"
            ],
            "text/html": [
              "\n",
              "  <div id=\"df-26cefeb0-80b4-4316-8de2-68b4c8e1b7b6\">\n",
              "    <div class=\"colab-df-container\">\n",
              "      <div>\n",
              "<style scoped>\n",
              "    .dataframe tbody tr th:only-of-type {\n",
              "        vertical-align: middle;\n",
              "    }\n",
              "\n",
              "    .dataframe tbody tr th {\n",
              "        vertical-align: top;\n",
              "    }\n",
              "\n",
              "    .dataframe thead th {\n",
              "        text-align: right;\n",
              "    }\n",
              "</style>\n",
              "<table border=\"1\" class=\"dataframe\">\n",
              "  <thead>\n",
              "    <tr style=\"text-align: right;\">\n",
              "      <th></th>\n",
              "      <th>0</th>\n",
              "      <th>1</th>\n",
              "      <th>2</th>\n",
              "      <th>3</th>\n",
              "      <th>4</th>\n",
              "      <th>5</th>\n",
              "      <th>6</th>\n",
              "      <th>7</th>\n",
              "      <th>8</th>\n",
              "      <th>9</th>\n",
              "      <th>...</th>\n",
              "      <th>42</th>\n",
              "      <th>43</th>\n",
              "      <th>44</th>\n",
              "      <th>45</th>\n",
              "      <th>46</th>\n",
              "      <th>47</th>\n",
              "      <th>48</th>\n",
              "      <th>49</th>\n",
              "      <th>50</th>\n",
              "      <th>51</th>\n",
              "    </tr>\n",
              "  </thead>\n",
              "  <tbody>\n",
              "    <tr>\n",
              "      <th>0</th>\n",
              "      <td>1.322403</td>\n",
              "      <td>-1.416144</td>\n",
              "      <td>-0.562311</td>\n",
              "      <td>0.253557</td>\n",
              "      <td>0.847678</td>\n",
              "      <td>-0.557377</td>\n",
              "      <td>1.881126</td>\n",
              "      <td>-0.628469</td>\n",
              "      <td>-0.299495</td>\n",
              "      <td>-0.184840</td>\n",
              "      <td>...</td>\n",
              "      <td>-0.080549</td>\n",
              "      <td>-0.318122</td>\n",
              "      <td>-0.181527</td>\n",
              "      <td>-0.462476</td>\n",
              "      <td>-0.08753</td>\n",
              "      <td>-0.046405</td>\n",
              "      <td>-0.394007</td>\n",
              "      <td>-0.068188</td>\n",
              "      <td>-0.141039</td>\n",
              "      <td>-0.061775</td>\n",
              "    </tr>\n",
              "    <tr>\n",
              "      <th>1</th>\n",
              "      <td>-0.756199</td>\n",
              "      <td>-1.416144</td>\n",
              "      <td>0.769710</td>\n",
              "      <td>2.175105</td>\n",
              "      <td>0.155277</td>\n",
              "      <td>0.492201</td>\n",
              "      <td>-0.531597</td>\n",
              "      <td>-0.628469</td>\n",
              "      <td>-0.299495</td>\n",
              "      <td>0.891466</td>\n",
              "      <td>...</td>\n",
              "      <td>-0.080549</td>\n",
              "      <td>3.143453</td>\n",
              "      <td>-0.181527</td>\n",
              "      <td>-0.462476</td>\n",
              "      <td>-0.08753</td>\n",
              "      <td>-0.046405</td>\n",
              "      <td>-0.394007</td>\n",
              "      <td>-0.068188</td>\n",
              "      <td>-0.141039</td>\n",
              "      <td>-0.061775</td>\n",
              "    </tr>\n",
              "    <tr>\n",
              "      <th>2</th>\n",
              "      <td>-0.756199</td>\n",
              "      <td>0.706143</td>\n",
              "      <td>-0.562311</td>\n",
              "      <td>-0.590049</td>\n",
              "      <td>1.100899</td>\n",
              "      <td>0.677858</td>\n",
              "      <td>-0.531597</td>\n",
              "      <td>-0.628469</td>\n",
              "      <td>-0.299495</td>\n",
              "      <td>-0.184840</td>\n",
              "      <td>...</td>\n",
              "      <td>-0.080549</td>\n",
              "      <td>-0.318122</td>\n",
              "      <td>-0.181527</td>\n",
              "      <td>-0.462476</td>\n",
              "      <td>-0.08753</td>\n",
              "      <td>-0.046405</td>\n",
              "      <td>-0.394007</td>\n",
              "      <td>-0.068188</td>\n",
              "      <td>-0.141039</td>\n",
              "      <td>-0.061775</td>\n",
              "    </tr>\n",
              "    <tr>\n",
              "      <th>3</th>\n",
              "      <td>1.322403</td>\n",
              "      <td>0.706143</td>\n",
              "      <td>-0.562311</td>\n",
              "      <td>0.394158</td>\n",
              "      <td>0.142709</td>\n",
              "      <td>0.205053</td>\n",
              "      <td>-0.531597</td>\n",
              "      <td>-0.628469</td>\n",
              "      <td>3.338951</td>\n",
              "      <td>-0.184840</td>\n",
              "      <td>...</td>\n",
              "      <td>-0.080549</td>\n",
              "      <td>-0.318122</td>\n",
              "      <td>-0.181527</td>\n",
              "      <td>-0.462476</td>\n",
              "      <td>-0.08753</td>\n",
              "      <td>-0.046405</td>\n",
              "      <td>-0.394007</td>\n",
              "      <td>-0.068188</td>\n",
              "      <td>-0.141039</td>\n",
              "      <td>-0.061775</td>\n",
              "    </tr>\n",
              "    <tr>\n",
              "      <th>4</th>\n",
              "      <td>-0.756199</td>\n",
              "      <td>0.706143</td>\n",
              "      <td>-0.562311</td>\n",
              "      <td>1.893903</td>\n",
              "      <td>-1.639846</td>\n",
              "      <td>1.206360</td>\n",
              "      <td>-0.531597</td>\n",
              "      <td>-0.628469</td>\n",
              "      <td>-0.299495</td>\n",
              "      <td>-0.184840</td>\n",
              "      <td>...</td>\n",
              "      <td>-0.080549</td>\n",
              "      <td>-0.318122</td>\n",
              "      <td>-0.181527</td>\n",
              "      <td>2.162272</td>\n",
              "      <td>-0.08753</td>\n",
              "      <td>-0.046405</td>\n",
              "      <td>-0.394007</td>\n",
              "      <td>-0.068188</td>\n",
              "      <td>-0.141039</td>\n",
              "      <td>-0.061775</td>\n",
              "    </tr>\n",
              "    <tr>\n",
              "      <th>...</th>\n",
              "      <td>...</td>\n",
              "      <td>...</td>\n",
              "      <td>...</td>\n",
              "      <td>...</td>\n",
              "      <td>...</td>\n",
              "      <td>...</td>\n",
              "      <td>...</td>\n",
              "      <td>...</td>\n",
              "      <td>...</td>\n",
              "      <td>...</td>\n",
              "      <td>...</td>\n",
              "      <td>...</td>\n",
              "      <td>...</td>\n",
              "      <td>...</td>\n",
              "      <td>...</td>\n",
              "      <td>...</td>\n",
              "      <td>...</td>\n",
              "      <td>...</td>\n",
              "      <td>...</td>\n",
              "      <td>...</td>\n",
              "      <td>...</td>\n",
              "    </tr>\n",
              "    <tr>\n",
              "      <th>6045</th>\n",
              "      <td>-0.756199</td>\n",
              "      <td>0.706143</td>\n",
              "      <td>-0.562311</td>\n",
              "      <td>3.299913</td>\n",
              "      <td>1.210985</td>\n",
              "      <td>0.366368</td>\n",
              "      <td>-0.531597</td>\n",
              "      <td>-0.628469</td>\n",
              "      <td>-0.299495</td>\n",
              "      <td>-0.184840</td>\n",
              "      <td>...</td>\n",
              "      <td>-0.080549</td>\n",
              "      <td>-0.318122</td>\n",
              "      <td>-0.181527</td>\n",
              "      <td>-0.462476</td>\n",
              "      <td>-0.08753</td>\n",
              "      <td>-0.046405</td>\n",
              "      <td>-0.394007</td>\n",
              "      <td>-0.068188</td>\n",
              "      <td>-0.141039</td>\n",
              "      <td>-0.061775</td>\n",
              "    </tr>\n",
              "    <tr>\n",
              "      <th>6046</th>\n",
              "      <td>-0.756199</td>\n",
              "      <td>-1.416144</td>\n",
              "      <td>-0.562311</td>\n",
              "      <td>0.019222</td>\n",
              "      <td>0.321220</td>\n",
              "      <td>0.262812</td>\n",
              "      <td>-0.531597</td>\n",
              "      <td>-0.628469</td>\n",
              "      <td>-0.299495</td>\n",
              "      <td>-1.261146</td>\n",
              "      <td>...</td>\n",
              "      <td>-0.080549</td>\n",
              "      <td>-0.318122</td>\n",
              "      <td>-0.181527</td>\n",
              "      <td>-0.462476</td>\n",
              "      <td>-0.08753</td>\n",
              "      <td>-0.046405</td>\n",
              "      <td>-0.394007</td>\n",
              "      <td>-0.068188</td>\n",
              "      <td>-0.141039</td>\n",
              "      <td>-0.061775</td>\n",
              "    </tr>\n",
              "    <tr>\n",
              "      <th>6047</th>\n",
              "      <td>-0.756199</td>\n",
              "      <td>0.706143</td>\n",
              "      <td>-0.562311</td>\n",
              "      <td>1.097163</td>\n",
              "      <td>-1.354042</td>\n",
              "      <td>0.792140</td>\n",
              "      <td>-0.531597</td>\n",
              "      <td>-0.628469</td>\n",
              "      <td>-0.299495</td>\n",
              "      <td>-0.184840</td>\n",
              "      <td>...</td>\n",
              "      <td>-0.080549</td>\n",
              "      <td>-0.318122</td>\n",
              "      <td>-0.181527</td>\n",
              "      <td>2.162272</td>\n",
              "      <td>-0.08753</td>\n",
              "      <td>-0.046405</td>\n",
              "      <td>-0.394007</td>\n",
              "      <td>-0.068188</td>\n",
              "      <td>-0.141039</td>\n",
              "      <td>-0.061775</td>\n",
              "    </tr>\n",
              "    <tr>\n",
              "      <th>6048</th>\n",
              "      <td>-0.756199</td>\n",
              "      <td>-1.416144</td>\n",
              "      <td>-0.562311</td>\n",
              "      <td>-1.058719</td>\n",
              "      <td>1.714634</td>\n",
              "      <td>0.565226</td>\n",
              "      <td>1.881126</td>\n",
              "      <td>-0.628469</td>\n",
              "      <td>-0.299495</td>\n",
              "      <td>-1.261146</td>\n",
              "      <td>...</td>\n",
              "      <td>-0.080549</td>\n",
              "      <td>-0.318122</td>\n",
              "      <td>5.508825</td>\n",
              "      <td>-0.462476</td>\n",
              "      <td>-0.08753</td>\n",
              "      <td>-0.046405</td>\n",
              "      <td>-0.394007</td>\n",
              "      <td>-0.068188</td>\n",
              "      <td>-0.141039</td>\n",
              "      <td>-0.061775</td>\n",
              "    </tr>\n",
              "    <tr>\n",
              "      <th>6049</th>\n",
              "      <td>-0.756199</td>\n",
              "      <td>0.706143</td>\n",
              "      <td>-0.562311</td>\n",
              "      <td>-1.058719</td>\n",
              "      <td>-1.756449</td>\n",
              "      <td>1.413058</td>\n",
              "      <td>-0.531597</td>\n",
              "      <td>-0.628469</td>\n",
              "      <td>-0.299495</td>\n",
              "      <td>-1.261146</td>\n",
              "      <td>...</td>\n",
              "      <td>-0.080549</td>\n",
              "      <td>-0.318122</td>\n",
              "      <td>-0.181527</td>\n",
              "      <td>2.162272</td>\n",
              "      <td>-0.08753</td>\n",
              "      <td>-0.046405</td>\n",
              "      <td>-0.394007</td>\n",
              "      <td>-0.068188</td>\n",
              "      <td>-0.141039</td>\n",
              "      <td>-0.061775</td>\n",
              "    </tr>\n",
              "  </tbody>\n",
              "</table>\n",
              "<p>6050 rows × 52 columns</p>\n",
              "</div>\n",
              "      <button class=\"colab-df-convert\" onclick=\"convertToInteractive('df-26cefeb0-80b4-4316-8de2-68b4c8e1b7b6')\"\n",
              "              title=\"Convert this dataframe to an interactive table.\"\n",
              "              style=\"display:none;\">\n",
              "        \n",
              "  <svg xmlns=\"http://www.w3.org/2000/svg\" height=\"24px\"viewBox=\"0 0 24 24\"\n",
              "       width=\"24px\">\n",
              "    <path d=\"M0 0h24v24H0V0z\" fill=\"none\"/>\n",
              "    <path d=\"M18.56 5.44l.94 2.06.94-2.06 2.06-.94-2.06-.94-.94-2.06-.94 2.06-2.06.94zm-11 1L8.5 8.5l.94-2.06 2.06-.94-2.06-.94L8.5 2.5l-.94 2.06-2.06.94zm10 10l.94 2.06.94-2.06 2.06-.94-2.06-.94-.94-2.06-.94 2.06-2.06.94z\"/><path d=\"M17.41 7.96l-1.37-1.37c-.4-.4-.92-.59-1.43-.59-.52 0-1.04.2-1.43.59L10.3 9.45l-7.72 7.72c-.78.78-.78 2.05 0 2.83L4 21.41c.39.39.9.59 1.41.59.51 0 1.02-.2 1.41-.59l7.78-7.78 2.81-2.81c.8-.78.8-2.07 0-2.86zM5.41 20L4 18.59l7.72-7.72 1.47 1.35L5.41 20z\"/>\n",
              "  </svg>\n",
              "      </button>\n",
              "      \n",
              "  <style>\n",
              "    .colab-df-container {\n",
              "      display:flex;\n",
              "      flex-wrap:wrap;\n",
              "      gap: 12px;\n",
              "    }\n",
              "\n",
              "    .colab-df-convert {\n",
              "      background-color: #E8F0FE;\n",
              "      border: none;\n",
              "      border-radius: 50%;\n",
              "      cursor: pointer;\n",
              "      display: none;\n",
              "      fill: #1967D2;\n",
              "      height: 32px;\n",
              "      padding: 0 0 0 0;\n",
              "      width: 32px;\n",
              "    }\n",
              "\n",
              "    .colab-df-convert:hover {\n",
              "      background-color: #E2EBFA;\n",
              "      box-shadow: 0px 1px 2px rgba(60, 64, 67, 0.3), 0px 1px 3px 1px rgba(60, 64, 67, 0.15);\n",
              "      fill: #174EA6;\n",
              "    }\n",
              "\n",
              "    [theme=dark] .colab-df-convert {\n",
              "      background-color: #3B4455;\n",
              "      fill: #D2E3FC;\n",
              "    }\n",
              "\n",
              "    [theme=dark] .colab-df-convert:hover {\n",
              "      background-color: #434B5C;\n",
              "      box-shadow: 0px 1px 3px 1px rgba(0, 0, 0, 0.15);\n",
              "      filter: drop-shadow(0px 1px 2px rgba(0, 0, 0, 0.3));\n",
              "      fill: #FFFFFF;\n",
              "    }\n",
              "  </style>\n",
              "\n",
              "      <script>\n",
              "        const buttonEl =\n",
              "          document.querySelector('#df-26cefeb0-80b4-4316-8de2-68b4c8e1b7b6 button.colab-df-convert');\n",
              "        buttonEl.style.display =\n",
              "          google.colab.kernel.accessAllowed ? 'block' : 'none';\n",
              "\n",
              "        async function convertToInteractive(key) {\n",
              "          const element = document.querySelector('#df-26cefeb0-80b4-4316-8de2-68b4c8e1b7b6');\n",
              "          const dataTable =\n",
              "            await google.colab.kernel.invokeFunction('convertToInteractive',\n",
              "                                                     [key], {});\n",
              "          if (!dataTable) return;\n",
              "\n",
              "          const docLinkHtml = 'Like what you see? Visit the ' +\n",
              "            '<a target=\"_blank\" href=https://colab.research.google.com/notebooks/data_table.ipynb>data table notebook</a>'\n",
              "            + ' to learn more about interactive tables.';\n",
              "          element.innerHTML = '';\n",
              "          dataTable['output_type'] = 'display_data';\n",
              "          await google.colab.output.renderOutput(dataTable, element);\n",
              "          const docLink = document.createElement('div');\n",
              "          docLink.innerHTML = docLinkHtml;\n",
              "          element.appendChild(docLink);\n",
              "        }\n",
              "      </script>\n",
              "    </div>\n",
              "  </div>\n",
              "  "
            ]
          },
          "metadata": {},
          "execution_count": 15
        }
      ]
    },
    {
      "cell_type": "code",
      "source": [
        "from sklearn.linear_model import LogisticRegression\n",
        "from sklearn.neighbors import KNeighborsClassifier\n",
        "from sklearn.svm import SVC\n",
        "from sklearn.tree import DecisionTreeClassifier\n",
        "from sklearn.ensemble import RandomForestClassifier\n",
        "from xgboost import XGBClassifier"
      ],
      "metadata": {
        "id": "786X9GeUq8Ri"
      },
      "id": "786X9GeUq8Ri",
      "execution_count": 16,
      "outputs": []
    },
    {
      "cell_type": "code",
      "source": [
        "int_to_labels_evm={\"bad\":1,\"good\":2}"
      ],
      "metadata": {
        "id": "ToeCDkYHrVju"
      },
      "id": "ToeCDkYHrVju",
      "execution_count": 17,
      "outputs": []
    },
    {
      "cell_type": "markdown",
      "source": [
        "https://www.kaggle.com/code/umerkk12/credit-card-predictive-analysis#there-are-9516-rows."
      ],
      "metadata": {
        "id": "a4PlSu_5vgwD"
      },
      "id": "a4PlSu_5vgwD"
    },
    {
      "cell_type": "code",
      "source": [
        "classifiers = {\n",
        "    \"LogisticRegression\" : LogisticRegression(),\n",
        "    \"KNeighbors\" : KNeighborsClassifier(),\n",
        "    \"SVC\" : SVC(),\n",
        "    \"DecisionTree\" : DecisionTreeClassifier(),\n",
        "    \"RandomForest\" : RandomForestClassifier(),\n",
        "    \"XGBoost\" : XGBClassifier()\n",
        "}"
      ],
      "metadata": {
        "id": "5UlAs7fmq2as"
      },
      "id": "5UlAs7fmq2as",
      "execution_count": 18,
      "outputs": []
    },
    {
      "cell_type": "code",
      "source": [
        "for key, classifier in classifiers.items():\n",
        "    classifier.fit(xs, y)\n",
        "    prediction = classifier.predict(valid_xs)\n",
        "    print(\"Model \"+key+ \" using unbalanced data\")\n",
        "    print(classification_report(valid_y, prediction,target_names=int_to_labels_evm))"
      ],
      "metadata": {
        "id": "fBpnl1H2q9Wf",
        "outputId": "2aa0bb0d-6792-4abb-d4b0-3c36a4759372",
        "colab": {
          "base_uri": "https://localhost:8080/"
        }
      },
      "id": "fBpnl1H2q9Wf",
      "execution_count": 19,
      "outputs": [
        {
          "output_type": "stream",
          "name": "stdout",
          "text": [
            "Model LogisticRegression using unbalanced data\n",
            "              precision    recall  f1-score   support\n",
            "\n",
            "         bad       0.67      0.00      0.01       410\n",
            "        good       0.73      1.00      0.84      1103\n",
            "\n",
            "    accuracy                           0.73      1513\n",
            "   macro avg       0.70      0.50      0.43      1513\n",
            "weighted avg       0.71      0.73      0.62      1513\n",
            "\n",
            "Model KNeighbors using unbalanced data\n",
            "              precision    recall  f1-score   support\n",
            "\n",
            "         bad       0.27      0.12      0.16       410\n",
            "        good       0.73      0.88      0.80      1103\n",
            "\n",
            "    accuracy                           0.67      1513\n",
            "   macro avg       0.50      0.50      0.48      1513\n",
            "weighted avg       0.60      0.67      0.63      1513\n",
            "\n",
            "Model SVC using unbalanced data\n",
            "              precision    recall  f1-score   support\n",
            "\n",
            "         bad       0.50      0.00      0.00       410\n",
            "        good       0.73      1.00      0.84      1103\n",
            "\n",
            "    accuracy                           0.73      1513\n",
            "   macro avg       0.61      0.50      0.42      1513\n",
            "weighted avg       0.67      0.73      0.62      1513\n",
            "\n",
            "Model DecisionTree using unbalanced data\n",
            "              precision    recall  f1-score   support\n",
            "\n",
            "         bad       0.26      0.29      0.27       410\n",
            "        good       0.72      0.69      0.71      1103\n",
            "\n",
            "    accuracy                           0.58      1513\n",
            "   macro avg       0.49      0.49      0.49      1513\n",
            "weighted avg       0.60      0.58      0.59      1513\n",
            "\n",
            "Model RandomForest using unbalanced data\n",
            "              precision    recall  f1-score   support\n",
            "\n",
            "         bad       0.31      0.05      0.09       410\n",
            "        good       0.73      0.96      0.83      1103\n",
            "\n",
            "    accuracy                           0.71      1513\n",
            "   macro avg       0.52      0.50      0.46      1513\n",
            "weighted avg       0.62      0.71      0.63      1513\n",
            "\n",
            "Model XGBoost using unbalanced data\n",
            "              precision    recall  f1-score   support\n",
            "\n",
            "         bad       0.43      0.01      0.01       410\n",
            "        good       0.73      1.00      0.84      1103\n",
            "\n",
            "    accuracy                           0.73      1513\n",
            "   macro avg       0.58      0.50      0.43      1513\n",
            "weighted avg       0.65      0.73      0.62      1513\n",
            "\n"
          ]
        }
      ]
    },
    {
      "cell_type": "code",
      "source": [
        "import keras\n",
        "import tensorflow as tf\n",
        "from keras.utils.np_utils import to_categorical\n",
        "from keras import optimizers\n",
        "from keras.models import Sequential\n",
        "from keras.layers import Dense, Activation, Flatten\n"
      ],
      "metadata": {
        "id": "mDzGfU-krrC0"
      },
      "id": "mDzGfU-krrC0",
      "execution_count": 20,
      "outputs": []
    },
    {
      "cell_type": "code",
      "source": [
        "one_hot_y=pd.get_dummies(y[\"label\"])\n",
        "one_hot_valid_y=pd.get_dummies(valid_y[\"label\"])"
      ],
      "metadata": {
        "id": "7exX8GRlz55D"
      },
      "id": "7exX8GRlz55D",
      "execution_count": 21,
      "outputs": []
    },
    {
      "cell_type": "code",
      "source": [
        "model=keras.Sequential([\n",
        "keras.Input(shape=(52,)),\n",
        "keras.layers.Dense(1024),\n",
        "keras.layers.Activation(\"sigmoid\"),\n",
        "keras.layers.Dense(512),\n",
        "keras.layers.Activation(activation=\"relu\"),\n",
        "keras.layers.Dense(2),\n",
        "keras.layers.Activation(activation=\"softmax\")])"
      ],
      "metadata": {
        "id": "-zrUimR1r6v5"
      },
      "id": "-zrUimR1r6v5",
      "execution_count": 22,
      "outputs": []
    },
    {
      "cell_type": "markdown",
      "source": [
        "use BinaryFocalCrossentropy for imbalanced data"
      ],
      "metadata": {
        "id": "xqUPgy6r7HmZ"
      },
      "id": "xqUPgy6r7HmZ"
    },
    {
      "cell_type": "code",
      "source": [
        "opt = tf.optimizers.SGD(learning_rate=0.01)\n",
        "model.compile(loss=tf.keras.losses.BinaryFocalCrossentropy(), optimizer=opt, metrics=['accuracy',tf.keras.metrics.Recall()])\n",
        "epochs = 10\n",
        "history=model.fit(xs, one_hot_y,batch_size=32, epochs=epochs,validation_data=(valid_xs,one_hot_valid_y))"
      ],
      "metadata": {
        "id": "y3GEkwxNsjUp",
        "outputId": "0bfc4d8f-1e1f-422c-fefd-deeeb3e5d8d0",
        "colab": {
          "base_uri": "https://localhost:8080/"
        }
      },
      "id": "y3GEkwxNsjUp",
      "execution_count": 23,
      "outputs": [
        {
          "output_type": "stream",
          "name": "stdout",
          "text": [
            "Epoch 1/10\n",
            "190/190 [==============================] - 4s 12ms/step - loss: 0.1541 - accuracy: 0.7129 - recall: 0.7129 - val_loss: 0.1895 - val_accuracy: 0.7290 - val_recall: 0.7290\n",
            "Epoch 2/10\n",
            "190/190 [==============================] - 2s 11ms/step - loss: 0.1524 - accuracy: 0.7157 - recall: 0.7157 - val_loss: 0.1932 - val_accuracy: 0.7290 - val_recall: 0.7290\n",
            "Epoch 3/10\n",
            "190/190 [==============================] - 2s 10ms/step - loss: 0.1516 - accuracy: 0.7195 - recall: 0.7195 - val_loss: 0.1967 - val_accuracy: 0.7290 - val_recall: 0.7290\n",
            "Epoch 4/10\n",
            "190/190 [==============================] - 2s 11ms/step - loss: 0.1499 - accuracy: 0.7253 - recall: 0.7253 - val_loss: 0.1749 - val_accuracy: 0.4699 - val_recall: 0.4699\n",
            "Epoch 5/10\n",
            "190/190 [==============================] - 2s 11ms/step - loss: 0.1508 - accuracy: 0.7235 - recall: 0.7235 - val_loss: 0.1759 - val_accuracy: 0.4501 - val_recall: 0.4501\n",
            "Epoch 6/10\n",
            "190/190 [==============================] - 2s 11ms/step - loss: 0.1505 - accuracy: 0.7238 - recall: 0.7238 - val_loss: 0.1781 - val_accuracy: 0.7290 - val_recall: 0.7290\n",
            "Epoch 7/10\n",
            "190/190 [==============================] - 2s 11ms/step - loss: 0.1498 - accuracy: 0.7263 - recall: 0.7263 - val_loss: 0.1734 - val_accuracy: 0.5367 - val_recall: 0.5367\n",
            "Epoch 8/10\n",
            "190/190 [==============================] - 2s 11ms/step - loss: 0.1503 - accuracy: 0.7218 - recall: 0.7218 - val_loss: 0.1653 - val_accuracy: 0.6775 - val_recall: 0.6775\n",
            "Epoch 9/10\n",
            "190/190 [==============================] - 2s 11ms/step - loss: 0.1494 - accuracy: 0.7243 - recall: 0.7243 - val_loss: 0.1733 - val_accuracy: 0.7290 - val_recall: 0.7290\n",
            "Epoch 10/10\n",
            "190/190 [==============================] - 2s 11ms/step - loss: 0.1499 - accuracy: 0.7253 - recall: 0.7253 - val_loss: 0.1609 - val_accuracy: 0.7105 - val_recall: 0.7105\n"
          ]
        }
      ]
    },
    {
      "cell_type": "code",
      "source": [
        "y_prob=model.predict(valid_xs)\n",
        "prediction = y_prob.argmax(axis=-1)\n",
        "print(\"Model Neural Net\")\n",
        "print(classification_report(valid_y, prediction,target_names=int_to_labels_evm))"
      ],
      "metadata": {
        "id": "C7o-crPTt4Fo",
        "outputId": "65f2991a-6dfc-490a-ebb7-5fc9193b3877",
        "colab": {
          "base_uri": "https://localhost:8080/"
        }
      },
      "id": "C7o-crPTt4Fo",
      "execution_count": 24,
      "outputs": [
        {
          "output_type": "stream",
          "name": "stdout",
          "text": [
            "48/48 [==============================] - 0s 3ms/step\n",
            "Model Neural Net\n",
            "              precision    recall  f1-score   support\n",
            "\n",
            "         bad       0.31      0.05      0.09       410\n",
            "        good       0.73      0.95      0.83      1103\n",
            "\n",
            "    accuracy                           0.71      1513\n",
            "   macro avg       0.52      0.50      0.46      1513\n",
            "weighted avg       0.62      0.71      0.63      1513\n",
            "\n"
          ]
        }
      ]
    },
    {
      "cell_type": "code",
      "source": [
        "from imblearn.over_sampling import SMOTE\n",
        "oversample = SMOTE()\n",
        "X_balanced, y_balanced = oversample.fit_resample(xs, y)"
      ],
      "metadata": {
        "id": "_XGeTEVfPxpX"
      },
      "id": "_XGeTEVfPxpX",
      "execution_count": 25,
      "outputs": []
    },
    {
      "cell_type": "code",
      "source": [
        "for key, classifier in classifiers.items():\n",
        "    classifier.fit(X_balanced, y_balanced)\n",
        "    prediction = classifier.predict(valid_xs)\n",
        "    print(\"Model \"+key)\n",
        "    print(classification_report(valid_y, prediction,target_names=int_to_labels_evm))"
      ],
      "metadata": {
        "id": "9gjyIi-JPtaN",
        "outputId": "a3349bb7-cb2c-4a70-8987-54468602faeb",
        "colab": {
          "base_uri": "https://localhost:8080/"
        }
      },
      "id": "9gjyIi-JPtaN",
      "execution_count": 26,
      "outputs": [
        {
          "output_type": "stream",
          "name": "stdout",
          "text": [
            "Model LogisticRegression\n",
            "              precision    recall  f1-score   support\n",
            "\n",
            "         bad       0.27      0.50      0.35       410\n",
            "        good       0.73      0.49      0.59      1103\n",
            "\n",
            "    accuracy                           0.49      1513\n",
            "   macro avg       0.50      0.50      0.47      1513\n",
            "weighted avg       0.60      0.49      0.52      1513\n",
            "\n",
            "Model KNeighbors\n",
            "              precision    recall  f1-score   support\n",
            "\n",
            "         bad       0.28      0.46      0.35       410\n",
            "        good       0.73      0.55      0.63      1103\n",
            "\n",
            "    accuracy                           0.53      1513\n",
            "   macro avg       0.51      0.51      0.49      1513\n",
            "weighted avg       0.61      0.53      0.55      1513\n",
            "\n",
            "Model SVC\n",
            "              precision    recall  f1-score   support\n",
            "\n",
            "         bad       0.27      0.44      0.33       410\n",
            "        good       0.73      0.55      0.63      1103\n",
            "\n",
            "    accuracy                           0.52      1513\n",
            "   macro avg       0.50      0.50      0.48      1513\n",
            "weighted avg       0.60      0.52      0.55      1513\n",
            "\n",
            "Model DecisionTree\n",
            "              precision    recall  f1-score   support\n",
            "\n",
            "         bad       0.29      0.33      0.31       410\n",
            "        good       0.74      0.70      0.72      1103\n",
            "\n",
            "    accuracy                           0.60      1513\n",
            "   macro avg       0.51      0.52      0.51      1513\n",
            "weighted avg       0.62      0.60      0.61      1513\n",
            "\n",
            "Model RandomForest\n",
            "              precision    recall  f1-score   support\n",
            "\n",
            "         bad       0.30      0.13      0.18       410\n",
            "        good       0.73      0.88      0.80      1103\n",
            "\n",
            "    accuracy                           0.68      1513\n",
            "   macro avg       0.51      0.51      0.49      1513\n",
            "weighted avg       0.61      0.68      0.63      1513\n",
            "\n",
            "Model XGBoost\n",
            "              precision    recall  f1-score   support\n",
            "\n",
            "         bad       0.23      0.05      0.08       410\n",
            "        good       0.73      0.94      0.82      1103\n",
            "\n",
            "    accuracy                           0.70      1513\n",
            "   macro avg       0.48      0.49      0.45      1513\n",
            "weighted avg       0.59      0.70      0.62      1513\n",
            "\n"
          ]
        }
      ]
    },
    {
      "cell_type": "code",
      "source": [
        "one_hot_y_balanced=pd.get_dummies(y_balanced[\"label\"])"
      ],
      "metadata": {
        "id": "VJ-ve8Xb0Wiw"
      },
      "id": "VJ-ve8Xb0Wiw",
      "execution_count": 27,
      "outputs": []
    },
    {
      "cell_type": "code",
      "source": [
        "model2=keras.Sequential([\n",
        "keras.Input(shape=(52,)),\n",
        "keras.layers.Dense(1024),\n",
        "keras.layers.Activation(\"sigmoid\"),\n",
        "keras.layers.Dense(512),\n",
        "keras.layers.Activation(activation=\"relu\"),\n",
        "keras.layers.Dense(2),\n",
        "keras.layers.Activation(activation=\"softmax\")])"
      ],
      "metadata": {
        "id": "91clwj1-vmYN"
      },
      "id": "91clwj1-vmYN",
      "execution_count": 30,
      "outputs": []
    },
    {
      "cell_type": "markdown",
      "source": [
        "Use BinaryCrossentropy instead"
      ],
      "metadata": {
        "id": "k43M27xU7DM3"
      },
      "id": "k43M27xU7DM3"
    },
    {
      "cell_type": "code",
      "source": [
        "opt = tf.optimizers.SGD(learning_rate=0.01)\n",
        "model2.compile(loss=tf.keras.losses.BinaryCrossentropy(), optimizer=opt, metrics=['accuracy',tf.keras.metrics.Recall()])\n",
        "epochs = 10\n",
        "history=model2.fit(X_balanced,one_hot_y_balanced,batch_size=32, epochs=epochs,validation_data=(valid_xs,one_hot_valid_y))"
      ],
      "metadata": {
        "id": "JX_-lH7PvodF",
        "outputId": "91ee2452-cd05-4e48-a141-e35efd7808fa",
        "colab": {
          "base_uri": "https://localhost:8080/"
        }
      },
      "id": "JX_-lH7PvodF",
      "execution_count": 31,
      "outputs": [
        {
          "output_type": "stream",
          "name": "stdout",
          "text": [
            "Epoch 1/10\n",
            "275/275 [==============================] - 4s 11ms/step - loss: 0.6972 - accuracy: 0.5061 - recall_2: 0.5061 - val_loss: 0.6579 - val_accuracy: 0.7290 - val_recall_2: 0.7290\n",
            "Epoch 2/10\n",
            "275/275 [==============================] - 3s 10ms/step - loss: 0.6960 - accuracy: 0.5022 - recall_2: 0.5022 - val_loss: 0.6667 - val_accuracy: 0.7211 - val_recall_2: 0.7211\n",
            "Epoch 3/10\n",
            "275/275 [==============================] - 3s 10ms/step - loss: 0.6936 - accuracy: 0.5179 - recall_2: 0.5179 - val_loss: 0.7250 - val_accuracy: 0.3047 - val_recall_2: 0.3047\n",
            "Epoch 4/10\n",
            "275/275 [==============================] - 3s 10ms/step - loss: 0.6926 - accuracy: 0.5172 - recall_2: 0.5172 - val_loss: 0.6891 - val_accuracy: 0.5155 - val_recall_2: 0.5155\n",
            "Epoch 5/10\n",
            "275/275 [==============================] - 3s 11ms/step - loss: 0.6913 - accuracy: 0.5229 - recall_2: 0.5229 - val_loss: 0.7903 - val_accuracy: 0.2723 - val_recall_2: 0.2723\n",
            "Epoch 6/10\n",
            "275/275 [==============================] - 3s 10ms/step - loss: 0.6914 - accuracy: 0.5237 - recall_2: 0.5237 - val_loss: 0.6667 - val_accuracy: 0.6834 - val_recall_2: 0.6834\n",
            "Epoch 7/10\n",
            "275/275 [==============================] - 3s 10ms/step - loss: 0.6897 - accuracy: 0.5310 - recall_2: 0.5310 - val_loss: 0.7049 - val_accuracy: 0.4210 - val_recall_2: 0.4210\n",
            "Epoch 8/10\n",
            "275/275 [==============================] - 3s 10ms/step - loss: 0.6899 - accuracy: 0.5397 - recall_2: 0.5397 - val_loss: 0.7275 - val_accuracy: 0.3496 - val_recall_2: 0.3496\n",
            "Epoch 9/10\n",
            "275/275 [==============================] - 3s 10ms/step - loss: 0.6890 - accuracy: 0.5360 - recall_2: 0.5360 - val_loss: 0.7079 - val_accuracy: 0.4151 - val_recall_2: 0.4151\n",
            "Epoch 10/10\n",
            "275/275 [==============================] - 3s 10ms/step - loss: 0.6890 - accuracy: 0.5394 - recall_2: 0.5394 - val_loss: 0.7501 - val_accuracy: 0.3258 - val_recall_2: 0.3258\n"
          ]
        }
      ]
    },
    {
      "cell_type": "code",
      "source": [
        "y_prob=model2.predict(valid_xs)\n",
        "prediction = y_prob.argmax(axis=-1)\n",
        "print(\"Model Neural Net\")\n",
        "print(classification_report(valid_y, prediction,target_names=int_to_labels_evm))"
      ],
      "metadata": {
        "id": "ZsCuvk0mv8vi",
        "outputId": "1ca0aaf3-e033-4315-9dea-58ef920d0e98",
        "colab": {
          "base_uri": "https://localhost:8080/"
        }
      },
      "id": "ZsCuvk0mv8vi",
      "execution_count": 32,
      "outputs": [
        {
          "output_type": "stream",
          "name": "stdout",
          "text": [
            "48/48 [==============================] - 0s 3ms/step\n",
            "Model Neural Net\n",
            "              precision    recall  f1-score   support\n",
            "\n",
            "         bad       0.28      0.93      0.43       410\n",
            "        good       0.79      0.10      0.18      1103\n",
            "\n",
            "    accuracy                           0.33      1513\n",
            "   macro avg       0.53      0.51      0.30      1513\n",
            "weighted avg       0.65      0.33      0.25      1513\n",
            "\n"
          ]
        }
      ]
    }
  ],
  "metadata": {
    "kernelspec": {
      "display_name": "Python 3.10.0 64-bit",
      "language": "python",
      "name": "python3"
    },
    "language_info": {
      "codemirror_mode": {
        "name": "ipython",
        "version": 3
      },
      "file_extension": ".py",
      "mimetype": "text/x-python",
      "name": "python",
      "nbconvert_exporter": "python",
      "pygments_lexer": "ipython3",
      "version": "3.10.0"
    },
    "vscode": {
      "interpreter": {
        "hash": "525f50cd3df40e9d57f214b2f9bedadf4bf08c85f9f5b3b27734de5b2eace747"
      }
    },
    "colab": {
      "provenance": [],
      "collapsed_sections": [],
      "include_colab_link": true
    }
  },
  "nbformat": 4,
  "nbformat_minor": 5
}