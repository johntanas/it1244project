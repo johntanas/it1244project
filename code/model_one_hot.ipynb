{
  "cells": [
    {
      "cell_type": "markdown",
      "metadata": {
        "id": "view-in-github",
        "colab_type": "text"
      },
      "source": [
        "<a href=\"https://colab.research.google.com/github/johntanas/it1244project/blob/main/code/model_one_hot.ipynb\" target=\"_parent\"><img src=\"https://colab.research.google.com/assets/colab-badge.svg\" alt=\"Open In Colab\"/></a>"
      ]
    },
    {
      "cell_type": "code",
      "execution_count": 2,
      "id": "5179ea71",
      "metadata": {
        "id": "5179ea71"
      },
      "outputs": [],
      "source": [
        "import pandas as pd\n",
        "import numpy as np"
      ]
    },
    {
      "cell_type": "code",
      "source": [
        "path_to_evm_label=\"/content/expo_moving_k2_labels.csv\"\n",
        "path_to_app=\"/content/cleaned_application.csv\"\n",
        "cleaned_app_df=pd.read_csv(path_to_app,index_col=0)\n",
        "ewm_df_status=pd.read_csv(path_to_evm_label,index_col=0)"
      ],
      "metadata": {
        "id": "XJlCQwWJEl2_"
      },
      "id": "XJlCQwWJEl2_",
      "execution_count": 157,
      "outputs": []
    },
    {
      "cell_type": "code",
      "source": [
        "labels_to_int_evm={\"bad\":0,\"good\":1}"
      ],
      "metadata": {
        "id": "yATIoEXw31Eu"
      },
      "id": "yATIoEXw31Eu",
      "execution_count": 4,
      "outputs": []
    },
    {
      "cell_type": "code",
      "source": [
        "ewm_df=ewm_df_status.drop(columns=\"status\").replace({\"label\":labels_to_int_evm})"
      ],
      "metadata": {
        "id": "lXL4go3Q3UVC"
      },
      "id": "lXL4go3Q3UVC",
      "execution_count": 5,
      "outputs": []
    },
    {
      "cell_type": "code",
      "source": [
        "dep_var=\"label\"\n",
        "random_state=42"
      ],
      "metadata": {
        "id": "DoxeFDv6Mgj8"
      },
      "id": "DoxeFDv6Mgj8",
      "execution_count": 6,
      "outputs": []
    },
    {
      "cell_type": "code",
      "source": [
        "from sklearn.model_selection import ShuffleSplit\n",
        "from pandas.api.types import is_string_dtype, is_numeric_dtype, is_categorical_dtype\n",
        "from sklearn.ensemble import RandomForestClassifier\n",
        "from sklearn.tree import DecisionTreeClassifier,export_text,plot_treefrom fastai.tabular.all import *\n",
        "from sklearn.metrics import classification_report, confusion_matrix,ConfusionMatrixDisplay"
      ],
      "metadata": {
        "id": "72z3c3jMIzVZ"
      },
      "id": "72z3c3jMIzVZ",
      "execution_count": 7,
      "outputs": []
    },
    {
      "cell_type": "code",
      "source": [
        "df1=ewm_df.merge(cleaned_app_df,how=\"inner\",on=\"id\").drop(\"id\",axis=1)"
      ],
      "metadata": {
        "id": "ZEu51Hh-LyC5"
      },
      "id": "ZEu51Hh-LyC5",
      "execution_count": 73,
      "outputs": []
    },
    {
      "cell_type": "code",
      "source": [
        "df=df1.replace(to_replace = (\"Y\", \"N\"),\n",
        "             value = (1, 0))"
      ],
      "metadata": {
        "id": "ImorN9-dxy9h"
      },
      "id": "ImorN9-dxy9h",
      "execution_count": 139,
      "outputs": []
    },
    {
      "cell_type": "code",
      "source": [
        "gender = pd.get_dummies(df[\"gender\"])\n",
        "income_type = pd.get_dummies(df[\"income_type\"])\n",
        "education_level = pd.get_dummies(df[\"education_level\"])\n",
        "family_status = pd.get_dummies(df[\"family_status\"])\n",
        "house_type = pd.get_dummies(df[\"house_type\"])\n",
        "job = pd.get_dummies(df[\"job\"])\n",
        "one_hot=df.drop(columns = [\"gender\", \"income_type\", \"education_level\",\n",
        "                   \"family_status\", \"house_type\", \"job\"])\n",
        "one_hot = pd.concat([one_hot, gender, income_type, education_level, family_status,\n",
        "                house_type, job], axis = 1)\n",
        "yvals = pd.DataFrame(one_hot[dep_var])\n",
        "xvals = one_hot.drop(columns = dep_var)\n",
        "from sklearn.model_selection import train_test_split\n",
        "xtrain, xtest, y, valid_y = train_test_split(xvals, yvals, test_size = 0.20,\n",
        "                                                random_state = random_state)\n",
        "\n",
        "# Standardizing the training and test data\n",
        "from sklearn.preprocessing import StandardScaler\n",
        "std_x = StandardScaler()\n",
        "std_x.fit(xtrain)\n",
        "xs = std_x.transform(xtrain)\n",
        "valid_xs = std_x.transform(xtest)"
      ],
      "metadata": {
        "id": "6J-8F9sexD_m"
      },
      "id": "6J-8F9sexD_m",
      "execution_count": 140,
      "outputs": []
    },
    {
      "cell_type": "code",
      "source": [
        "pd.DataFrame(xs)"
      ],
      "metadata": {
        "id": "tIMUPfEB2Uyt",
        "outputId": "91c1c108-5283-4d43-c592-b529b4cb9b49",
        "colab": {
          "base_uri": "https://localhost:8080/",
          "height": 488
        }
      },
      "id": "tIMUPfEB2Uyt",
      "execution_count": 156,
      "outputs": [
        {
          "output_type": "execute_result",
          "data": {
            "text/plain": [
              "            0         1         2         3         4         5         6   \\\n",
              "0     1.322403 -1.416144 -0.562311  0.253557  0.847678 -0.557377  1.881126   \n",
              "1    -0.756199 -1.416144  0.769710  2.175105  0.155277  0.492201 -0.531597   \n",
              "2    -0.756199  0.706143 -0.562311 -0.590049  1.100899  0.677858 -0.531597   \n",
              "3     1.322403  0.706143 -0.562311  0.394158  0.142709  0.205053 -0.531597   \n",
              "4    -0.756199  0.706143 -0.562311  1.893903 -1.639846  1.206360 -0.531597   \n",
              "...        ...       ...       ...       ...       ...       ...       ...   \n",
              "6045 -0.756199  0.706143 -0.562311  3.299913  1.210985  0.366368 -0.531597   \n",
              "6046 -0.756199 -1.416144 -0.562311  0.019222  0.321220  0.262812 -0.531597   \n",
              "6047 -0.756199  0.706143 -0.562311  1.097163 -1.354042  0.792140 -0.531597   \n",
              "6048 -0.756199 -1.416144 -0.562311 -1.058719  1.714634  0.565226  1.881126   \n",
              "6049 -0.756199  0.706143 -0.562311 -1.058719 -1.756449  1.413058 -0.531597   \n",
              "\n",
              "            7         8         9   ...        42        43        44  \\\n",
              "0    -0.628469 -0.299495 -0.184840  ... -0.080549 -0.318122 -0.181527   \n",
              "1    -0.628469 -0.299495  0.891466  ... -0.080549  3.143453 -0.181527   \n",
              "2    -0.628469 -0.299495 -0.184840  ... -0.080549 -0.318122 -0.181527   \n",
              "3    -0.628469  3.338951 -0.184840  ... -0.080549 -0.318122 -0.181527   \n",
              "4    -0.628469 -0.299495 -0.184840  ... -0.080549 -0.318122 -0.181527   \n",
              "...        ...       ...       ...  ...       ...       ...       ...   \n",
              "6045 -0.628469 -0.299495 -0.184840  ... -0.080549 -0.318122 -0.181527   \n",
              "6046 -0.628469 -0.299495 -1.261146  ... -0.080549 -0.318122 -0.181527   \n",
              "6047 -0.628469 -0.299495 -0.184840  ... -0.080549 -0.318122 -0.181527   \n",
              "6048 -0.628469 -0.299495 -1.261146  ... -0.080549 -0.318122  5.508825   \n",
              "6049 -0.628469 -0.299495 -1.261146  ... -0.080549 -0.318122 -0.181527   \n",
              "\n",
              "            45       46        47        48        49        50        51  \n",
              "0    -0.462476 -0.08753 -0.046405 -0.394007 -0.068188 -0.141039 -0.061775  \n",
              "1    -0.462476 -0.08753 -0.046405 -0.394007 -0.068188 -0.141039 -0.061775  \n",
              "2    -0.462476 -0.08753 -0.046405 -0.394007 -0.068188 -0.141039 -0.061775  \n",
              "3    -0.462476 -0.08753 -0.046405 -0.394007 -0.068188 -0.141039 -0.061775  \n",
              "4     2.162272 -0.08753 -0.046405 -0.394007 -0.068188 -0.141039 -0.061775  \n",
              "...        ...      ...       ...       ...       ...       ...       ...  \n",
              "6045 -0.462476 -0.08753 -0.046405 -0.394007 -0.068188 -0.141039 -0.061775  \n",
              "6046 -0.462476 -0.08753 -0.046405 -0.394007 -0.068188 -0.141039 -0.061775  \n",
              "6047  2.162272 -0.08753 -0.046405 -0.394007 -0.068188 -0.141039 -0.061775  \n",
              "6048 -0.462476 -0.08753 -0.046405 -0.394007 -0.068188 -0.141039 -0.061775  \n",
              "6049  2.162272 -0.08753 -0.046405 -0.394007 -0.068188 -0.141039 -0.061775  \n",
              "\n",
              "[6050 rows x 52 columns]"
            ],
            "text/html": [
              "\n",
              "  <div id=\"df-c4d55325-51b0-4ccf-9a62-fab35e368405\">\n",
              "    <div class=\"colab-df-container\">\n",
              "      <div>\n",
              "<style scoped>\n",
              "    .dataframe tbody tr th:only-of-type {\n",
              "        vertical-align: middle;\n",
              "    }\n",
              "\n",
              "    .dataframe tbody tr th {\n",
              "        vertical-align: top;\n",
              "    }\n",
              "\n",
              "    .dataframe thead th {\n",
              "        text-align: right;\n",
              "    }\n",
              "</style>\n",
              "<table border=\"1\" class=\"dataframe\">\n",
              "  <thead>\n",
              "    <tr style=\"text-align: right;\">\n",
              "      <th></th>\n",
              "      <th>0</th>\n",
              "      <th>1</th>\n",
              "      <th>2</th>\n",
              "      <th>3</th>\n",
              "      <th>4</th>\n",
              "      <th>5</th>\n",
              "      <th>6</th>\n",
              "      <th>7</th>\n",
              "      <th>8</th>\n",
              "      <th>9</th>\n",
              "      <th>...</th>\n",
              "      <th>42</th>\n",
              "      <th>43</th>\n",
              "      <th>44</th>\n",
              "      <th>45</th>\n",
              "      <th>46</th>\n",
              "      <th>47</th>\n",
              "      <th>48</th>\n",
              "      <th>49</th>\n",
              "      <th>50</th>\n",
              "      <th>51</th>\n",
              "    </tr>\n",
              "  </thead>\n",
              "  <tbody>\n",
              "    <tr>\n",
              "      <th>0</th>\n",
              "      <td>1.322403</td>\n",
              "      <td>-1.416144</td>\n",
              "      <td>-0.562311</td>\n",
              "      <td>0.253557</td>\n",
              "      <td>0.847678</td>\n",
              "      <td>-0.557377</td>\n",
              "      <td>1.881126</td>\n",
              "      <td>-0.628469</td>\n",
              "      <td>-0.299495</td>\n",
              "      <td>-0.184840</td>\n",
              "      <td>...</td>\n",
              "      <td>-0.080549</td>\n",
              "      <td>-0.318122</td>\n",
              "      <td>-0.181527</td>\n",
              "      <td>-0.462476</td>\n",
              "      <td>-0.08753</td>\n",
              "      <td>-0.046405</td>\n",
              "      <td>-0.394007</td>\n",
              "      <td>-0.068188</td>\n",
              "      <td>-0.141039</td>\n",
              "      <td>-0.061775</td>\n",
              "    </tr>\n",
              "    <tr>\n",
              "      <th>1</th>\n",
              "      <td>-0.756199</td>\n",
              "      <td>-1.416144</td>\n",
              "      <td>0.769710</td>\n",
              "      <td>2.175105</td>\n",
              "      <td>0.155277</td>\n",
              "      <td>0.492201</td>\n",
              "      <td>-0.531597</td>\n",
              "      <td>-0.628469</td>\n",
              "      <td>-0.299495</td>\n",
              "      <td>0.891466</td>\n",
              "      <td>...</td>\n",
              "      <td>-0.080549</td>\n",
              "      <td>3.143453</td>\n",
              "      <td>-0.181527</td>\n",
              "      <td>-0.462476</td>\n",
              "      <td>-0.08753</td>\n",
              "      <td>-0.046405</td>\n",
              "      <td>-0.394007</td>\n",
              "      <td>-0.068188</td>\n",
              "      <td>-0.141039</td>\n",
              "      <td>-0.061775</td>\n",
              "    </tr>\n",
              "    <tr>\n",
              "      <th>2</th>\n",
              "      <td>-0.756199</td>\n",
              "      <td>0.706143</td>\n",
              "      <td>-0.562311</td>\n",
              "      <td>-0.590049</td>\n",
              "      <td>1.100899</td>\n",
              "      <td>0.677858</td>\n",
              "      <td>-0.531597</td>\n",
              "      <td>-0.628469</td>\n",
              "      <td>-0.299495</td>\n",
              "      <td>-0.184840</td>\n",
              "      <td>...</td>\n",
              "      <td>-0.080549</td>\n",
              "      <td>-0.318122</td>\n",
              "      <td>-0.181527</td>\n",
              "      <td>-0.462476</td>\n",
              "      <td>-0.08753</td>\n",
              "      <td>-0.046405</td>\n",
              "      <td>-0.394007</td>\n",
              "      <td>-0.068188</td>\n",
              "      <td>-0.141039</td>\n",
              "      <td>-0.061775</td>\n",
              "    </tr>\n",
              "    <tr>\n",
              "      <th>3</th>\n",
              "      <td>1.322403</td>\n",
              "      <td>0.706143</td>\n",
              "      <td>-0.562311</td>\n",
              "      <td>0.394158</td>\n",
              "      <td>0.142709</td>\n",
              "      <td>0.205053</td>\n",
              "      <td>-0.531597</td>\n",
              "      <td>-0.628469</td>\n",
              "      <td>3.338951</td>\n",
              "      <td>-0.184840</td>\n",
              "      <td>...</td>\n",
              "      <td>-0.080549</td>\n",
              "      <td>-0.318122</td>\n",
              "      <td>-0.181527</td>\n",
              "      <td>-0.462476</td>\n",
              "      <td>-0.08753</td>\n",
              "      <td>-0.046405</td>\n",
              "      <td>-0.394007</td>\n",
              "      <td>-0.068188</td>\n",
              "      <td>-0.141039</td>\n",
              "      <td>-0.061775</td>\n",
              "    </tr>\n",
              "    <tr>\n",
              "      <th>4</th>\n",
              "      <td>-0.756199</td>\n",
              "      <td>0.706143</td>\n",
              "      <td>-0.562311</td>\n",
              "      <td>1.893903</td>\n",
              "      <td>-1.639846</td>\n",
              "      <td>1.206360</td>\n",
              "      <td>-0.531597</td>\n",
              "      <td>-0.628469</td>\n",
              "      <td>-0.299495</td>\n",
              "      <td>-0.184840</td>\n",
              "      <td>...</td>\n",
              "      <td>-0.080549</td>\n",
              "      <td>-0.318122</td>\n",
              "      <td>-0.181527</td>\n",
              "      <td>2.162272</td>\n",
              "      <td>-0.08753</td>\n",
              "      <td>-0.046405</td>\n",
              "      <td>-0.394007</td>\n",
              "      <td>-0.068188</td>\n",
              "      <td>-0.141039</td>\n",
              "      <td>-0.061775</td>\n",
              "    </tr>\n",
              "    <tr>\n",
              "      <th>...</th>\n",
              "      <td>...</td>\n",
              "      <td>...</td>\n",
              "      <td>...</td>\n",
              "      <td>...</td>\n",
              "      <td>...</td>\n",
              "      <td>...</td>\n",
              "      <td>...</td>\n",
              "      <td>...</td>\n",
              "      <td>...</td>\n",
              "      <td>...</td>\n",
              "      <td>...</td>\n",
              "      <td>...</td>\n",
              "      <td>...</td>\n",
              "      <td>...</td>\n",
              "      <td>...</td>\n",
              "      <td>...</td>\n",
              "      <td>...</td>\n",
              "      <td>...</td>\n",
              "      <td>...</td>\n",
              "      <td>...</td>\n",
              "      <td>...</td>\n",
              "    </tr>\n",
              "    <tr>\n",
              "      <th>6045</th>\n",
              "      <td>-0.756199</td>\n",
              "      <td>0.706143</td>\n",
              "      <td>-0.562311</td>\n",
              "      <td>3.299913</td>\n",
              "      <td>1.210985</td>\n",
              "      <td>0.366368</td>\n",
              "      <td>-0.531597</td>\n",
              "      <td>-0.628469</td>\n",
              "      <td>-0.299495</td>\n",
              "      <td>-0.184840</td>\n",
              "      <td>...</td>\n",
              "      <td>-0.080549</td>\n",
              "      <td>-0.318122</td>\n",
              "      <td>-0.181527</td>\n",
              "      <td>-0.462476</td>\n",
              "      <td>-0.08753</td>\n",
              "      <td>-0.046405</td>\n",
              "      <td>-0.394007</td>\n",
              "      <td>-0.068188</td>\n",
              "      <td>-0.141039</td>\n",
              "      <td>-0.061775</td>\n",
              "    </tr>\n",
              "    <tr>\n",
              "      <th>6046</th>\n",
              "      <td>-0.756199</td>\n",
              "      <td>-1.416144</td>\n",
              "      <td>-0.562311</td>\n",
              "      <td>0.019222</td>\n",
              "      <td>0.321220</td>\n",
              "      <td>0.262812</td>\n",
              "      <td>-0.531597</td>\n",
              "      <td>-0.628469</td>\n",
              "      <td>-0.299495</td>\n",
              "      <td>-1.261146</td>\n",
              "      <td>...</td>\n",
              "      <td>-0.080549</td>\n",
              "      <td>-0.318122</td>\n",
              "      <td>-0.181527</td>\n",
              "      <td>-0.462476</td>\n",
              "      <td>-0.08753</td>\n",
              "      <td>-0.046405</td>\n",
              "      <td>-0.394007</td>\n",
              "      <td>-0.068188</td>\n",
              "      <td>-0.141039</td>\n",
              "      <td>-0.061775</td>\n",
              "    </tr>\n",
              "    <tr>\n",
              "      <th>6047</th>\n",
              "      <td>-0.756199</td>\n",
              "      <td>0.706143</td>\n",
              "      <td>-0.562311</td>\n",
              "      <td>1.097163</td>\n",
              "      <td>-1.354042</td>\n",
              "      <td>0.792140</td>\n",
              "      <td>-0.531597</td>\n",
              "      <td>-0.628469</td>\n",
              "      <td>-0.299495</td>\n",
              "      <td>-0.184840</td>\n",
              "      <td>...</td>\n",
              "      <td>-0.080549</td>\n",
              "      <td>-0.318122</td>\n",
              "      <td>-0.181527</td>\n",
              "      <td>2.162272</td>\n",
              "      <td>-0.08753</td>\n",
              "      <td>-0.046405</td>\n",
              "      <td>-0.394007</td>\n",
              "      <td>-0.068188</td>\n",
              "      <td>-0.141039</td>\n",
              "      <td>-0.061775</td>\n",
              "    </tr>\n",
              "    <tr>\n",
              "      <th>6048</th>\n",
              "      <td>-0.756199</td>\n",
              "      <td>-1.416144</td>\n",
              "      <td>-0.562311</td>\n",
              "      <td>-1.058719</td>\n",
              "      <td>1.714634</td>\n",
              "      <td>0.565226</td>\n",
              "      <td>1.881126</td>\n",
              "      <td>-0.628469</td>\n",
              "      <td>-0.299495</td>\n",
              "      <td>-1.261146</td>\n",
              "      <td>...</td>\n",
              "      <td>-0.080549</td>\n",
              "      <td>-0.318122</td>\n",
              "      <td>5.508825</td>\n",
              "      <td>-0.462476</td>\n",
              "      <td>-0.08753</td>\n",
              "      <td>-0.046405</td>\n",
              "      <td>-0.394007</td>\n",
              "      <td>-0.068188</td>\n",
              "      <td>-0.141039</td>\n",
              "      <td>-0.061775</td>\n",
              "    </tr>\n",
              "    <tr>\n",
              "      <th>6049</th>\n",
              "      <td>-0.756199</td>\n",
              "      <td>0.706143</td>\n",
              "      <td>-0.562311</td>\n",
              "      <td>-1.058719</td>\n",
              "      <td>-1.756449</td>\n",
              "      <td>1.413058</td>\n",
              "      <td>-0.531597</td>\n",
              "      <td>-0.628469</td>\n",
              "      <td>-0.299495</td>\n",
              "      <td>-1.261146</td>\n",
              "      <td>...</td>\n",
              "      <td>-0.080549</td>\n",
              "      <td>-0.318122</td>\n",
              "      <td>-0.181527</td>\n",
              "      <td>2.162272</td>\n",
              "      <td>-0.08753</td>\n",
              "      <td>-0.046405</td>\n",
              "      <td>-0.394007</td>\n",
              "      <td>-0.068188</td>\n",
              "      <td>-0.141039</td>\n",
              "      <td>-0.061775</td>\n",
              "    </tr>\n",
              "  </tbody>\n",
              "</table>\n",
              "<p>6050 rows × 52 columns</p>\n",
              "</div>\n",
              "      <button class=\"colab-df-convert\" onclick=\"convertToInteractive('df-c4d55325-51b0-4ccf-9a62-fab35e368405')\"\n",
              "              title=\"Convert this dataframe to an interactive table.\"\n",
              "              style=\"display:none;\">\n",
              "        \n",
              "  <svg xmlns=\"http://www.w3.org/2000/svg\" height=\"24px\"viewBox=\"0 0 24 24\"\n",
              "       width=\"24px\">\n",
              "    <path d=\"M0 0h24v24H0V0z\" fill=\"none\"/>\n",
              "    <path d=\"M18.56 5.44l.94 2.06.94-2.06 2.06-.94-2.06-.94-.94-2.06-.94 2.06-2.06.94zm-11 1L8.5 8.5l.94-2.06 2.06-.94-2.06-.94L8.5 2.5l-.94 2.06-2.06.94zm10 10l.94 2.06.94-2.06 2.06-.94-2.06-.94-.94-2.06-.94 2.06-2.06.94z\"/><path d=\"M17.41 7.96l-1.37-1.37c-.4-.4-.92-.59-1.43-.59-.52 0-1.04.2-1.43.59L10.3 9.45l-7.72 7.72c-.78.78-.78 2.05 0 2.83L4 21.41c.39.39.9.59 1.41.59.51 0 1.02-.2 1.41-.59l7.78-7.78 2.81-2.81c.8-.78.8-2.07 0-2.86zM5.41 20L4 18.59l7.72-7.72 1.47 1.35L5.41 20z\"/>\n",
              "  </svg>\n",
              "      </button>\n",
              "      \n",
              "  <style>\n",
              "    .colab-df-container {\n",
              "      display:flex;\n",
              "      flex-wrap:wrap;\n",
              "      gap: 12px;\n",
              "    }\n",
              "\n",
              "    .colab-df-convert {\n",
              "      background-color: #E8F0FE;\n",
              "      border: none;\n",
              "      border-radius: 50%;\n",
              "      cursor: pointer;\n",
              "      display: none;\n",
              "      fill: #1967D2;\n",
              "      height: 32px;\n",
              "      padding: 0 0 0 0;\n",
              "      width: 32px;\n",
              "    }\n",
              "\n",
              "    .colab-df-convert:hover {\n",
              "      background-color: #E2EBFA;\n",
              "      box-shadow: 0px 1px 2px rgba(60, 64, 67, 0.3), 0px 1px 3px 1px rgba(60, 64, 67, 0.15);\n",
              "      fill: #174EA6;\n",
              "    }\n",
              "\n",
              "    [theme=dark] .colab-df-convert {\n",
              "      background-color: #3B4455;\n",
              "      fill: #D2E3FC;\n",
              "    }\n",
              "\n",
              "    [theme=dark] .colab-df-convert:hover {\n",
              "      background-color: #434B5C;\n",
              "      box-shadow: 0px 1px 3px 1px rgba(0, 0, 0, 0.15);\n",
              "      filter: drop-shadow(0px 1px 2px rgba(0, 0, 0, 0.3));\n",
              "      fill: #FFFFFF;\n",
              "    }\n",
              "  </style>\n",
              "\n",
              "      <script>\n",
              "        const buttonEl =\n",
              "          document.querySelector('#df-c4d55325-51b0-4ccf-9a62-fab35e368405 button.colab-df-convert');\n",
              "        buttonEl.style.display =\n",
              "          google.colab.kernel.accessAllowed ? 'block' : 'none';\n",
              "\n",
              "        async function convertToInteractive(key) {\n",
              "          const element = document.querySelector('#df-c4d55325-51b0-4ccf-9a62-fab35e368405');\n",
              "          const dataTable =\n",
              "            await google.colab.kernel.invokeFunction('convertToInteractive',\n",
              "                                                     [key], {});\n",
              "          if (!dataTable) return;\n",
              "\n",
              "          const docLinkHtml = 'Like what you see? Visit the ' +\n",
              "            '<a target=\"_blank\" href=https://colab.research.google.com/notebooks/data_table.ipynb>data table notebook</a>'\n",
              "            + ' to learn more about interactive tables.';\n",
              "          element.innerHTML = '';\n",
              "          dataTable['output_type'] = 'display_data';\n",
              "          await google.colab.output.renderOutput(dataTable, element);\n",
              "          const docLink = document.createElement('div');\n",
              "          docLink.innerHTML = docLinkHtml;\n",
              "          element.appendChild(docLink);\n",
              "        }\n",
              "      </script>\n",
              "    </div>\n",
              "  </div>\n",
              "  "
            ]
          },
          "metadata": {},
          "execution_count": 156
        }
      ]
    },
    {
      "cell_type": "code",
      "source": [
        "from sklearn.linear_model import LogisticRegression\n",
        "from sklearn.neighbors import KNeighborsClassifier\n",
        "from sklearn.svm import SVC\n",
        "from sklearn.tree import DecisionTreeClassifier\n",
        "from sklearn.ensemble import RandomForestClassifier\n",
        "from xgboost import XGBClassifier"
      ],
      "metadata": {
        "id": "786X9GeUq8Ri"
      },
      "id": "786X9GeUq8Ri",
      "execution_count": 141,
      "outputs": []
    },
    {
      "cell_type": "code",
      "source": [
        "int_to_labels_evm={\"bad\":1,\"good\":2}"
      ],
      "metadata": {
        "id": "ToeCDkYHrVju"
      },
      "id": "ToeCDkYHrVju",
      "execution_count": 142,
      "outputs": []
    },
    {
      "cell_type": "markdown",
      "source": [
        "https://www.kaggle.com/code/umerkk12/credit-card-predictive-analysis#there-are-9516-rows."
      ],
      "metadata": {
        "id": "a4PlSu_5vgwD"
      },
      "id": "a4PlSu_5vgwD"
    },
    {
      "cell_type": "code",
      "source": [
        "classifiers = {\n",
        "    \"LogisticRegression\" : LogisticRegression(),\n",
        "    \"KNeighbors\" : KNeighborsClassifier(),\n",
        "    \"SVC\" : SVC(),\n",
        "    \"DecisionTree\" : DecisionTreeClassifier(),\n",
        "    \"RandomForest\" : RandomForestClassifier(),\n",
        "    \"XGBoost\" : XGBClassifier()\n",
        "}"
      ],
      "metadata": {
        "id": "5UlAs7fmq2as"
      },
      "id": "5UlAs7fmq2as",
      "execution_count": 143,
      "outputs": []
    },
    {
      "cell_type": "code",
      "source": [
        "for key, classifier in classifiers.items():\n",
        "    classifier.fit(xs, y)\n",
        "    prediction = classifier.predict(valid_xs)\n",
        "    print(\"Model \"+key+ \" using unbalanced data\")\n",
        "    print(classification_report(valid_y, prediction,target_names=int_to_labels_evm))"
      ],
      "metadata": {
        "id": "fBpnl1H2q9Wf",
        "outputId": "3a4c91f4-b666-4477-88cc-bb4aa28de6e3",
        "colab": {
          "base_uri": "https://localhost:8080/"
        }
      },
      "id": "fBpnl1H2q9Wf",
      "execution_count": 144,
      "outputs": [
        {
          "output_type": "stream",
          "name": "stderr",
          "text": [
            "/usr/local/lib/python3.7/dist-packages/sklearn/utils/validation.py:993: DataConversionWarning: A column-vector y was passed when a 1d array was expected. Please change the shape of y to (n_samples, ), for example using ravel().\n",
            "  y = column_or_1d(y, warn=True)\n",
            "/usr/local/lib/python3.7/dist-packages/sklearn/neighbors/_classification.py:198: DataConversionWarning: A column-vector y was passed when a 1d array was expected. Please change the shape of y to (n_samples,), for example using ravel().\n",
            "  return self._fit(X, y)\n"
          ]
        },
        {
          "output_type": "stream",
          "name": "stdout",
          "text": [
            "Model LogisticRegression using unbalanced data\n",
            "              precision    recall  f1-score   support\n",
            "\n",
            "         bad       0.67      0.00      0.01       410\n",
            "        good       0.73      1.00      0.84      1103\n",
            "\n",
            "    accuracy                           0.73      1513\n",
            "   macro avg       0.70      0.50      0.43      1513\n",
            "weighted avg       0.71      0.73      0.62      1513\n",
            "\n",
            "Model KNeighbors using unbalanced data\n",
            "              precision    recall  f1-score   support\n",
            "\n",
            "         bad       0.27      0.12      0.16       410\n",
            "        good       0.73      0.88      0.80      1103\n",
            "\n",
            "    accuracy                           0.67      1513\n",
            "   macro avg       0.50      0.50      0.48      1513\n",
            "weighted avg       0.60      0.67      0.63      1513\n",
            "\n"
          ]
        },
        {
          "output_type": "stream",
          "name": "stderr",
          "text": [
            "/usr/local/lib/python3.7/dist-packages/sklearn/utils/validation.py:993: DataConversionWarning: A column-vector y was passed when a 1d array was expected. Please change the shape of y to (n_samples, ), for example using ravel().\n",
            "  y = column_or_1d(y, warn=True)\n"
          ]
        },
        {
          "output_type": "stream",
          "name": "stdout",
          "text": [
            "Model SVC using unbalanced data\n",
            "              precision    recall  f1-score   support\n",
            "\n",
            "         bad       0.50      0.00      0.00       410\n",
            "        good       0.73      1.00      0.84      1103\n",
            "\n",
            "    accuracy                           0.73      1513\n",
            "   macro avg       0.61      0.50      0.42      1513\n",
            "weighted avg       0.67      0.73      0.62      1513\n",
            "\n",
            "Model DecisionTree using unbalanced data\n",
            "              precision    recall  f1-score   support\n",
            "\n",
            "         bad       0.27      0.30      0.28       410\n",
            "        good       0.73      0.69      0.71      1103\n",
            "\n",
            "    accuracy                           0.58      1513\n",
            "   macro avg       0.50      0.50      0.50      1513\n",
            "weighted avg       0.60      0.58      0.59      1513\n",
            "\n"
          ]
        },
        {
          "output_type": "stream",
          "name": "stderr",
          "text": [
            "/usr/local/lib/python3.7/dist-packages/ipykernel_launcher.py:2: DataConversionWarning: A column-vector y was passed when a 1d array was expected. Please change the shape of y to (n_samples,), for example using ravel().\n",
            "  \n"
          ]
        },
        {
          "output_type": "stream",
          "name": "stdout",
          "text": [
            "Model RandomForest using unbalanced data\n",
            "              precision    recall  f1-score   support\n",
            "\n",
            "         bad       0.30      0.06      0.10       410\n",
            "        good       0.73      0.95      0.83      1103\n",
            "\n",
            "    accuracy                           0.71      1513\n",
            "   macro avg       0.52      0.50      0.46      1513\n",
            "weighted avg       0.61      0.71      0.63      1513\n",
            "\n"
          ]
        },
        {
          "output_type": "stream",
          "name": "stderr",
          "text": [
            "/usr/local/lib/python3.7/dist-packages/sklearn/preprocessing/_label.py:98: DataConversionWarning: A column-vector y was passed when a 1d array was expected. Please change the shape of y to (n_samples, ), for example using ravel().\n",
            "  y = column_or_1d(y, warn=True)\n",
            "/usr/local/lib/python3.7/dist-packages/sklearn/preprocessing/_label.py:133: DataConversionWarning: A column-vector y was passed when a 1d array was expected. Please change the shape of y to (n_samples, ), for example using ravel().\n",
            "  y = column_or_1d(y, warn=True)\n"
          ]
        },
        {
          "output_type": "stream",
          "name": "stdout",
          "text": [
            "Model XGBoost using unbalanced data\n",
            "              precision    recall  f1-score   support\n",
            "\n",
            "         bad       0.43      0.01      0.01       410\n",
            "        good       0.73      1.00      0.84      1103\n",
            "\n",
            "    accuracy                           0.73      1513\n",
            "   macro avg       0.58      0.50      0.43      1513\n",
            "weighted avg       0.65      0.73      0.62      1513\n",
            "\n"
          ]
        }
      ]
    },
    {
      "cell_type": "code",
      "source": [
        "import keras\n",
        "import tensorflow as tf\n",
        "from keras.utils.np_utils import to_categorical\n",
        "from keras import optimizers\n",
        "from keras.models import Sequential\n",
        "from keras.layers import Dense, Activation, Flatten\n"
      ],
      "metadata": {
        "id": "mDzGfU-krrC0"
      },
      "id": "mDzGfU-krrC0",
      "execution_count": 146,
      "outputs": []
    },
    {
      "cell_type": "code",
      "source": [
        "one_hot_y=pd.get_dummies(y[\"label\"])\n",
        "one_hot_valid_y=pd.get_dummies(valid_y[\"label\"])"
      ],
      "metadata": {
        "id": "7exX8GRlz55D"
      },
      "id": "7exX8GRlz55D",
      "execution_count": 147,
      "outputs": []
    },
    {
      "cell_type": "code",
      "source": [
        "model=keras.Sequential([\n",
        "keras.Input(shape=(52,)),\n",
        "keras.layers.Dense(1024),\n",
        "keras.layers.Activation(\"sigmoid\"),\n",
        "keras.layers.Dense(512),\n",
        "keras.layers.Activation(activation=\"relu\"),\n",
        "keras.layers.Dense(2),\n",
        "keras.layers.Activation(activation=\"softmax\")])"
      ],
      "metadata": {
        "id": "-zrUimR1r6v5"
      },
      "id": "-zrUimR1r6v5",
      "execution_count": 148,
      "outputs": []
    },
    {
      "cell_type": "code",
      "source": [
        "opt = tf.optimizers.SGD(learning_rate=0.01)\n",
        "model.compile(loss=tf.keras.losses.BinaryFocalCrossentropy(), optimizer=opt, metrics=['accuracy',tf.keras.metrics.Recall()])\n",
        "epochs = 10\n",
        "history=model.fit(xs, one_hot_y,batch_size=32, epochs=epochs,validation_data=(valid_xs,one_hot_valid_y))"
      ],
      "metadata": {
        "id": "y3GEkwxNsjUp",
        "outputId": "3e2cbf70-08a9-4183-9a15-c8ec913b44a2",
        "colab": {
          "base_uri": "https://localhost:8080/"
        }
      },
      "id": "y3GEkwxNsjUp",
      "execution_count": 149,
      "outputs": [
        {
          "output_type": "stream",
          "name": "stdout",
          "text": [
            "Epoch 1/10\n",
            "190/190 [==============================] - 3s 12ms/step - loss: 0.1525 - accuracy: 0.7226 - recall_12: 0.7226 - val_loss: 0.1858 - val_accuracy: 0.7290 - val_recall_12: 0.7290\n",
            "Epoch 2/10\n",
            "190/190 [==============================] - 2s 13ms/step - loss: 0.1512 - accuracy: 0.7250 - recall_12: 0.7250 - val_loss: 0.2023 - val_accuracy: 0.7290 - val_recall_12: 0.7290\n",
            "Epoch 3/10\n",
            "190/190 [==============================] - 3s 14ms/step - loss: 0.1509 - accuracy: 0.7220 - recall_12: 0.7220 - val_loss: 0.1714 - val_accuracy: 0.7290 - val_recall_12: 0.7290\n",
            "Epoch 4/10\n",
            "190/190 [==============================] - 3s 17ms/step - loss: 0.1504 - accuracy: 0.7246 - recall_12: 0.7246 - val_loss: 0.1788 - val_accuracy: 0.3510 - val_recall_12: 0.3510\n",
            "Epoch 5/10\n",
            "190/190 [==============================] - 3s 15ms/step - loss: 0.1499 - accuracy: 0.7240 - recall_12: 0.7240 - val_loss: 0.1586 - val_accuracy: 0.7257 - val_recall_12: 0.7257\n",
            "Epoch 6/10\n",
            "190/190 [==============================] - 2s 10ms/step - loss: 0.1492 - accuracy: 0.7260 - recall_12: 0.7260 - val_loss: 0.1730 - val_accuracy: 0.7290 - val_recall_12: 0.7290\n",
            "Epoch 7/10\n",
            "190/190 [==============================] - 2s 12ms/step - loss: 0.1486 - accuracy: 0.7258 - recall_12: 0.7258 - val_loss: 0.1793 - val_accuracy: 0.7290 - val_recall_12: 0.7290\n",
            "Epoch 8/10\n",
            "190/190 [==============================] - 2s 10ms/step - loss: 0.1486 - accuracy: 0.7230 - recall_12: 0.7230 - val_loss: 0.1651 - val_accuracy: 0.6847 - val_recall_12: 0.6847\n",
            "Epoch 9/10\n",
            "190/190 [==============================] - 2s 10ms/step - loss: 0.1490 - accuracy: 0.7260 - recall_12: 0.7260 - val_loss: 0.1573 - val_accuracy: 0.7244 - val_recall_12: 0.7244\n",
            "Epoch 10/10\n",
            "190/190 [==============================] - 2s 10ms/step - loss: 0.1486 - accuracy: 0.7243 - recall_12: 0.7243 - val_loss: 0.1614 - val_accuracy: 0.7079 - val_recall_12: 0.7079\n"
          ]
        }
      ]
    },
    {
      "cell_type": "code",
      "source": [
        "y_prob=model.predict(valid_xs)\n",
        "prediction = y_prob.argmax(axis=-1)\n",
        "print(\"Model Neural Net\")\n",
        "print(classification_report(valid_y, prediction,target_names=int_to_labels_evm))"
      ],
      "metadata": {
        "id": "C7o-crPTt4Fo",
        "outputId": "f6999b77-7c41-4b9b-a1f7-02832f4b00ed",
        "colab": {
          "base_uri": "https://localhost:8080/"
        }
      },
      "id": "C7o-crPTt4Fo",
      "execution_count": 119,
      "outputs": [
        {
          "output_type": "stream",
          "name": "stdout",
          "text": [
            "48/48 [==============================] - 0s 3ms/step\n",
            "Model Neural Net\n",
            "              precision    recall  f1-score   support\n",
            "\n",
            "         bad       0.00      0.00      0.00       410\n",
            "        good       0.73      1.00      0.84      1103\n",
            "\n",
            "    accuracy                           0.73      1513\n",
            "   macro avg       0.36      0.50      0.42      1513\n",
            "weighted avg       0.53      0.73      0.61      1513\n",
            "\n"
          ]
        },
        {
          "output_type": "stream",
          "name": "stderr",
          "text": [
            "/usr/local/lib/python3.7/dist-packages/sklearn/metrics/_classification.py:1318: UndefinedMetricWarning: Precision and F-score are ill-defined and being set to 0.0 in labels with no predicted samples. Use `zero_division` parameter to control this behavior.\n",
            "  _warn_prf(average, modifier, msg_start, len(result))\n",
            "/usr/local/lib/python3.7/dist-packages/sklearn/metrics/_classification.py:1318: UndefinedMetricWarning: Precision and F-score are ill-defined and being set to 0.0 in labels with no predicted samples. Use `zero_division` parameter to control this behavior.\n",
            "  _warn_prf(average, modifier, msg_start, len(result))\n",
            "/usr/local/lib/python3.7/dist-packages/sklearn/metrics/_classification.py:1318: UndefinedMetricWarning: Precision and F-score are ill-defined and being set to 0.0 in labels with no predicted samples. Use `zero_division` parameter to control this behavior.\n",
            "  _warn_prf(average, modifier, msg_start, len(result))\n"
          ]
        }
      ]
    },
    {
      "cell_type": "code",
      "source": [
        "from imblearn.over_sampling import SMOTE\n",
        "oversample = SMOTE()\n",
        "X_balanced, y_balanced = oversample.fit_resample(xs, y)"
      ],
      "metadata": {
        "id": "_XGeTEVfPxpX"
      },
      "id": "_XGeTEVfPxpX",
      "execution_count": 120,
      "outputs": []
    },
    {
      "cell_type": "code",
      "source": [
        "for key, classifier in classifiers.items():\n",
        "    classifier.fit(X_balanced, y_balanced)\n",
        "    prediction = classifier.predict(valid_xs)\n",
        "    print(\"Model \"+key)\n",
        "    print(classification_report(valid_y, prediction,target_names=int_to_labels_evm))"
      ],
      "metadata": {
        "id": "9gjyIi-JPtaN",
        "outputId": "b5ab9cef-5ff5-4cab-ee69-042caa396c5e",
        "colab": {
          "base_uri": "https://localhost:8080/"
        }
      },
      "id": "9gjyIi-JPtaN",
      "execution_count": 121,
      "outputs": [
        {
          "output_type": "stream",
          "name": "stderr",
          "text": [
            "/usr/local/lib/python3.7/dist-packages/sklearn/utils/validation.py:993: DataConversionWarning: A column-vector y was passed when a 1d array was expected. Please change the shape of y to (n_samples, ), for example using ravel().\n",
            "  y = column_or_1d(y, warn=True)\n",
            "/usr/local/lib/python3.7/dist-packages/sklearn/neighbors/_classification.py:198: DataConversionWarning: A column-vector y was passed when a 1d array was expected. Please change the shape of y to (n_samples,), for example using ravel().\n",
            "  return self._fit(X, y)\n"
          ]
        },
        {
          "output_type": "stream",
          "name": "stdout",
          "text": [
            "Model LogisticRegression\n",
            "              precision    recall  f1-score   support\n",
            "\n",
            "         bad       0.27      0.50      0.35       410\n",
            "        good       0.73      0.50      0.60      1103\n",
            "\n",
            "    accuracy                           0.50      1513\n",
            "   macro avg       0.50      0.50      0.47      1513\n",
            "weighted avg       0.61      0.50      0.53      1513\n",
            "\n",
            "Model KNeighbors\n",
            "              precision    recall  f1-score   support\n",
            "\n",
            "         bad       0.29      0.45      0.35       410\n",
            "        good       0.74      0.60      0.66      1103\n",
            "\n",
            "    accuracy                           0.56      1513\n",
            "   macro avg       0.52      0.52      0.51      1513\n",
            "weighted avg       0.62      0.56      0.58      1513\n",
            "\n"
          ]
        },
        {
          "output_type": "stream",
          "name": "stderr",
          "text": [
            "/usr/local/lib/python3.7/dist-packages/sklearn/utils/validation.py:993: DataConversionWarning: A column-vector y was passed when a 1d array was expected. Please change the shape of y to (n_samples, ), for example using ravel().\n",
            "  y = column_or_1d(y, warn=True)\n"
          ]
        },
        {
          "output_type": "stream",
          "name": "stdout",
          "text": [
            "Model SVC\n",
            "              precision    recall  f1-score   support\n",
            "\n",
            "         bad       0.27      0.46      0.34       410\n",
            "        good       0.73      0.55      0.63      1103\n",
            "\n",
            "    accuracy                           0.52      1513\n",
            "   macro avg       0.50      0.50      0.49      1513\n",
            "weighted avg       0.61      0.52      0.55      1513\n",
            "\n",
            "Model DecisionTree\n",
            "              precision    recall  f1-score   support\n",
            "\n",
            "         bad       0.29      0.35      0.32       410\n",
            "        good       0.74      0.68      0.71      1103\n",
            "\n",
            "    accuracy                           0.59      1513\n",
            "   macro avg       0.51      0.51      0.51      1513\n",
            "weighted avg       0.62      0.59      0.60      1513\n",
            "\n"
          ]
        },
        {
          "output_type": "stream",
          "name": "stderr",
          "text": [
            "/usr/local/lib/python3.7/dist-packages/ipykernel_launcher.py:2: DataConversionWarning: A column-vector y was passed when a 1d array was expected. Please change the shape of y to (n_samples,), for example using ravel().\n",
            "  \n"
          ]
        },
        {
          "output_type": "stream",
          "name": "stdout",
          "text": [
            "Model RandomForest\n",
            "              precision    recall  f1-score   support\n",
            "\n",
            "         bad       0.30      0.18      0.22       410\n",
            "        good       0.74      0.85      0.79      1103\n",
            "\n",
            "    accuracy                           0.67      1513\n",
            "   macro avg       0.52      0.51      0.51      1513\n",
            "weighted avg       0.62      0.67      0.64      1513\n",
            "\n"
          ]
        },
        {
          "output_type": "stream",
          "name": "stderr",
          "text": [
            "/usr/local/lib/python3.7/dist-packages/sklearn/preprocessing/_label.py:98: DataConversionWarning: A column-vector y was passed when a 1d array was expected. Please change the shape of y to (n_samples, ), for example using ravel().\n",
            "  y = column_or_1d(y, warn=True)\n",
            "/usr/local/lib/python3.7/dist-packages/sklearn/preprocessing/_label.py:133: DataConversionWarning: A column-vector y was passed when a 1d array was expected. Please change the shape of y to (n_samples, ), for example using ravel().\n",
            "  y = column_or_1d(y, warn=True)\n"
          ]
        },
        {
          "output_type": "stream",
          "name": "stdout",
          "text": [
            "Model XGBoost\n",
            "              precision    recall  f1-score   support\n",
            "\n",
            "         bad       0.29      0.10      0.15       410\n",
            "        good       0.73      0.91      0.81      1103\n",
            "\n",
            "    accuracy                           0.69      1513\n",
            "   macro avg       0.51      0.50      0.48      1513\n",
            "weighted avg       0.61      0.69      0.63      1513\n",
            "\n"
          ]
        }
      ]
    },
    {
      "cell_type": "code",
      "source": [
        "one_hot_y_balanced=pd.get_dummies(y_balanced[\"label\"])"
      ],
      "metadata": {
        "id": "VJ-ve8Xb0Wiw"
      },
      "id": "VJ-ve8Xb0Wiw",
      "execution_count": 129,
      "outputs": []
    },
    {
      "cell_type": "code",
      "source": [
        "model2=keras.Sequential([\n",
        "keras.Input(shape=(49,)),\n",
        "keras.layers.Dense(1024),\n",
        "keras.layers.Activation(\"sigmoid\"),\n",
        "keras.layers.Dense(512),\n",
        "keras.layers.Activation(activation=\"relu\"),\n",
        "keras.layers.Dense(2),\n",
        "keras.layers.Activation(activation=\"softmax\")])"
      ],
      "metadata": {
        "id": "91clwj1-vmYN"
      },
      "id": "91clwj1-vmYN",
      "execution_count": 127,
      "outputs": []
    },
    {
      "cell_type": "code",
      "source": [
        "opt = tf.optimizers.SGD(learning_rate=0.01)\n",
        "model2.compile(loss=tf.keras.losses.BinaryCrossentropy(), optimizer=opt, metrics=['accuracy',tf.keras.metrics.Recall()])\n",
        "epochs = 10\n",
        "history=model2.fit(X_balanced,one_hot_y_balanced,batch_size=32, epochs=epochs,validation_data=(valid_xs,one_hot_valid_y))"
      ],
      "metadata": {
        "id": "JX_-lH7PvodF",
        "outputId": "c41ae07b-372e-4c50-c16b-1b44e5dad8ba",
        "colab": {
          "base_uri": "https://localhost:8080/"
        }
      },
      "id": "JX_-lH7PvodF",
      "execution_count": 132,
      "outputs": [
        {
          "output_type": "stream",
          "name": "stdout",
          "text": [
            "Epoch 1/10\n",
            "275/275 [==============================] - 5s 14ms/step - loss: 0.6924 - accuracy: 0.5214 - recall_11: 0.5214 - val_loss: 0.7079 - val_accuracy: 0.3496 - val_recall_11: 0.3496\n",
            "Epoch 2/10\n",
            "275/275 [==============================] - 3s 12ms/step - loss: 0.6923 - accuracy: 0.5138 - recall_11: 0.5138 - val_loss: 0.6922 - val_accuracy: 0.4983 - val_recall_11: 0.4983\n",
            "Epoch 3/10\n",
            "275/275 [==============================] - 3s 12ms/step - loss: 0.6913 - accuracy: 0.5275 - recall_11: 0.5275 - val_loss: 0.6614 - val_accuracy: 0.7118 - val_recall_11: 0.7118\n",
            "Epoch 4/10\n",
            "275/275 [==============================] - 4s 14ms/step - loss: 0.6904 - accuracy: 0.5378 - recall_11: 0.5378 - val_loss: 0.6911 - val_accuracy: 0.5063 - val_recall_11: 0.5063\n",
            "Epoch 5/10\n",
            "275/275 [==============================] - 3s 11ms/step - loss: 0.6908 - accuracy: 0.5269 - recall_11: 0.5269 - val_loss: 0.7251 - val_accuracy: 0.3139 - val_recall_11: 0.3139\n",
            "Epoch 6/10\n",
            "275/275 [==============================] - 3s 11ms/step - loss: 0.6908 - accuracy: 0.5270 - recall_11: 0.5270 - val_loss: 0.6567 - val_accuracy: 0.7079 - val_recall_11: 0.7079\n",
            "Epoch 7/10\n",
            "275/275 [==============================] - 3s 13ms/step - loss: 0.6900 - accuracy: 0.5216 - recall_11: 0.5216 - val_loss: 0.7036 - val_accuracy: 0.4263 - val_recall_11: 0.4263\n",
            "Epoch 8/10\n",
            "275/275 [==============================] - 4s 15ms/step - loss: 0.6893 - accuracy: 0.5320 - recall_11: 0.5320 - val_loss: 0.7303 - val_accuracy: 0.3258 - val_recall_11: 0.3258\n",
            "Epoch 9/10\n",
            "275/275 [==============================] - 4s 14ms/step - loss: 0.6905 - accuracy: 0.5288 - recall_11: 0.5288 - val_loss: 0.6914 - val_accuracy: 0.5056 - val_recall_11: 0.5056\n",
            "Epoch 10/10\n",
            "275/275 [==============================] - 4s 14ms/step - loss: 0.6899 - accuracy: 0.5310 - recall_11: 0.5310 - val_loss: 0.6929 - val_accuracy: 0.4931 - val_recall_11: 0.4931\n"
          ]
        }
      ]
    },
    {
      "cell_type": "code",
      "source": [
        "y_prob=model2.predict(valid_xs)\n",
        "prediction = y_prob.argmax(axis=-1)\n",
        "print(\"Model Neural Net\")\n",
        "print(classification_report(valid_y, prediction,target_names=int_to_labels_evm))"
      ],
      "metadata": {
        "id": "ZsCuvk0mv8vi",
        "outputId": "a49b8f64-d1e4-47c8-e965-40085776cf93",
        "colab": {
          "base_uri": "https://localhost:8080/"
        }
      },
      "id": "ZsCuvk0mv8vi",
      "execution_count": 133,
      "outputs": [
        {
          "output_type": "stream",
          "name": "stdout",
          "text": [
            "48/48 [==============================] - 0s 3ms/step\n",
            "Model Neural Net\n",
            "              precision    recall  f1-score   support\n",
            "\n",
            "         bad       0.27      0.52      0.36       410\n",
            "        good       0.73      0.48      0.58      1103\n",
            "\n",
            "    accuracy                           0.49      1513\n",
            "   macro avg       0.50      0.50      0.47      1513\n",
            "weighted avg       0.61      0.49      0.52      1513\n",
            "\n"
          ]
        }
      ]
    },
    {
      "cell_type": "code",
      "source": [],
      "metadata": {
        "id": "AXz1z21l0LBg"
      },
      "id": "AXz1z21l0LBg",
      "execution_count": null,
      "outputs": []
    }
  ],
  "metadata": {
    "kernelspec": {
      "display_name": "Python 3.10.0 64-bit",
      "language": "python",
      "name": "python3"
    },
    "language_info": {
      "codemirror_mode": {
        "name": "ipython",
        "version": 3
      },
      "file_extension": ".py",
      "mimetype": "text/x-python",
      "name": "python",
      "nbconvert_exporter": "python",
      "pygments_lexer": "ipython3",
      "version": "3.10.0"
    },
    "vscode": {
      "interpreter": {
        "hash": "525f50cd3df40e9d57f214b2f9bedadf4bf08c85f9f5b3b27734de5b2eace747"
      }
    },
    "colab": {
      "provenance": [],
      "collapsed_sections": [],
      "include_colab_link": true
    }
  },
  "nbformat": 4,
  "nbformat_minor": 5
}