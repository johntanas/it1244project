{
  "cells": [
    {
      "cell_type": "markdown",
      "metadata": {
        "id": "view-in-github",
        "colab_type": "text"
      },
      "source": [
        "<a href=\"https://colab.research.google.com/github/johntanas/it1244project/blob/main/code/model_no_std.ipynb\" target=\"_parent\"><img src=\"https://colab.research.google.com/assets/colab-badge.svg\" alt=\"Open In Colab\"/></a>"
      ]
    },
    {
      "cell_type": "code",
      "execution_count": null,
      "id": "5179ea71",
      "metadata": {
        "id": "5179ea71"
      },
      "outputs": [],
      "source": [
        "import pandas as pd\n",
        "import numpy as np\n",
        "import warnings \n",
        "warnings.filterwarnings('ignore')"
      ]
    },
    {
      "cell_type": "code",
      "source": [
        "path_to_evm_label=\"/content/expo_moving_k2_labels.csv\" #https://drive.google.com/file/d/1RUSdg3mKkoY984r4s7rGabjwhJEcIA_2/view?usp=sharing\n",
        "path_to_app=\"/content/cleaned_application.csv\" #https://drive.google.com/file/d/1Ktdv2NTyK2AM48yBvbpFezd82-srqj7w/view?usp=sharing\n",
        "onlinedataset=True\n",
        "if onlinedataset:\n",
        "  url = \"https://drive.google.com/file/d/1Ktdv2NTyK2AM48yBvbpFezd82-srqj7w/view?usp=sharing\"\n",
        "  url='https://drive.google.com/uc?id=' + url.split('/')[-2]\n",
        "  cleaned_app_df=pd.read_csv(url,index_col=0)\n",
        "  url = \"https://drive.google.com/file/d/1RUSdg3mKkoY984r4s7rGabjwhJEcIA_2/view?usp=sharing\"\n",
        "  url='https://drive.google.com/uc?id=' + url.split('/')[-2]\n",
        "  ewm_df_status=pd.read_csv(url,index_col=0)\n",
        "else:\n",
        "  cleaned_app_df=pd.read_csv(path_to_app,index_col=0)\n",
        "  ewm_df_status=pd.read_csv(path_to_evm_label,index_col=0)"
      ],
      "metadata": {
        "id": "XJlCQwWJEl2_"
      },
      "id": "XJlCQwWJEl2_",
      "execution_count": null,
      "outputs": []
    },
    {
      "cell_type": "code",
      "source": [
        "labels_to_int_evm={\"bad\":0,\"good\":1}"
      ],
      "metadata": {
        "id": "yATIoEXw31Eu"
      },
      "id": "yATIoEXw31Eu",
      "execution_count": null,
      "outputs": []
    },
    {
      "cell_type": "code",
      "source": [
        "ewm_df=ewm_df_status.drop(columns=\"status\").replace({\"label\":labels_to_int_evm})"
      ],
      "metadata": {
        "id": "lXL4go3Q3UVC"
      },
      "id": "lXL4go3Q3UVC",
      "execution_count": null,
      "outputs": []
    },
    {
      "cell_type": "code",
      "source": [
        "dep_var=\"label\"\n",
        "random_state=42"
      ],
      "metadata": {
        "id": "DoxeFDv6Mgj8"
      },
      "id": "DoxeFDv6Mgj8",
      "execution_count": null,
      "outputs": []
    },
    {
      "cell_type": "code",
      "source": [
        "from sklearn.model_selection import ShuffleSplit\n",
        "from pandas.api.types import is_string_dtype, is_numeric_dtype, is_categorical_dtype\n",
        "from sklearn.ensemble import RandomForestClassifier\n",
        "from sklearn.tree import DecisionTreeClassifier,export_text,plot_tree\n",
        "from sklearn.metrics import classification_report, confusion_matrix,ConfusionMatrixDisplay"
      ],
      "metadata": {
        "id": "72z3c3jMIzVZ"
      },
      "id": "72z3c3jMIzVZ",
      "execution_count": null,
      "outputs": []
    },
    {
      "cell_type": "code",
      "source": [
        "df1=ewm_df.merge(cleaned_app_df,how=\"inner\",on=\"id\").drop(\"id\",axis=1)"
      ],
      "metadata": {
        "id": "ZEu51Hh-LyC5"
      },
      "id": "ZEu51Hh-LyC5",
      "execution_count": null,
      "outputs": []
    },
    {
      "cell_type": "code",
      "source": [
        "df=df1.replace(to_replace = (\"Y\", \"N\"),\n",
        "             value = (1, 0))"
      ],
      "metadata": {
        "id": "ImorN9-dxy9h"
      },
      "id": "ImorN9-dxy9h",
      "execution_count": null,
      "outputs": []
    },
    {
      "cell_type": "code",
      "source": [
        "gender = pd.get_dummies(df[\"gender\"])\n",
        "income_type = pd.get_dummies(df[\"income_type\"]).drop(\"Pensioner\",axis=1)\n",
        "education_level = pd.get_dummies(df[\"education_level\"])\n",
        "family_status = pd.get_dummies(df[\"family_status\"])\n",
        "house_type = pd.get_dummies(df[\"house_type\"])\n",
        "job = pd.get_dummies(df[\"job\"])\n",
        "cont=df[[\"income\",\"birth_day\",\t\"employment_length\"]]\n",
        "one_hot=df.drop(columns = [\"gender\", \"income_type\", \"education_level\",\n",
        "                   \"family_status\", \"house_type\", \"job\"])\n",
        "\n",
        "\n",
        "# Standardizing the training and test data\n",
        "from sklearn.preprocessing import StandardScaler\n",
        "std_x = StandardScaler()\n",
        "std_x.fit(cont)\n",
        "cont_std = std_x.transform(cont)"
      ],
      "metadata": {
        "id": "6J-8F9sexD_m"
      },
      "id": "6J-8F9sexD_m",
      "execution_count": null,
      "outputs": []
    },
    {
      "cell_type": "code",
      "source": [
        "one_hot = pd.concat([pd.DataFrame(cont_std,columns=[\"income\",\"birth_day\",\t\"employment_length\"]), gender, income_type, education_level, family_status,\n",
        "                house_type, job,df[\"label\"]], axis = 1)"
      ],
      "metadata": {
        "id": "oZzP-R59BkvC"
      },
      "id": "oZzP-R59BkvC",
      "execution_count": null,
      "outputs": []
    },
    {
      "cell_type": "code",
      "source": [
        "yvals = pd.DataFrame(one_hot[\"label\"])\n",
        "xvals = one_hot.drop(columns = \"label\")"
      ],
      "metadata": {
        "id": "oXJkPvE8B96B"
      },
      "id": "oXJkPvE8B96B",
      "execution_count": null,
      "outputs": []
    },
    {
      "cell_type": "code",
      "source": [
        "from sklearn.model_selection import train_test_split\n",
        "xs, valid_xs, y, valid_y = train_test_split(xvals, yvals, test_size = 0.20,\n",
        "                                                random_state = 42)"
      ],
      "metadata": {
        "id": "m_y4fN9rBEJX"
      },
      "id": "m_y4fN9rBEJX",
      "execution_count": null,
      "outputs": []
    },
    {
      "cell_type": "code",
      "source": [
        "from sklearn.linear_model import LogisticRegression\n",
        "from sklearn.neighbors import KNeighborsClassifier\n",
        "from sklearn.svm import SVC\n",
        "from sklearn.tree import DecisionTreeClassifier\n",
        "from sklearn.ensemble import RandomForestClassifier\n",
        "from xgboost import XGBClassifier"
      ],
      "metadata": {
        "id": "786X9GeUq8Ri"
      },
      "id": "786X9GeUq8Ri",
      "execution_count": null,
      "outputs": []
    },
    {
      "cell_type": "code",
      "source": [
        "int_to_labels_evm={\"bad\":0,\"good\":1}"
      ],
      "metadata": {
        "id": "ToeCDkYHrVju"
      },
      "id": "ToeCDkYHrVju",
      "execution_count": null,
      "outputs": []
    },
    {
      "cell_type": "markdown",
      "source": [
        "https://www.kaggle.com/code/umerkk12/credit-card-predictive-analysis#there-are-9516-rows."
      ],
      "metadata": {
        "id": "a4PlSu_5vgwD"
      },
      "id": "a4PlSu_5vgwD"
    },
    {
      "cell_type": "code",
      "source": [
        "classifiers = {\n",
        "    \"LogisticRegression\" : LogisticRegression(),\n",
        "    \"KNeighbors\" : KNeighborsClassifier(),\n",
        "    \"SVC\" : SVC(),\n",
        "    \"DecisionTree\" : DecisionTreeClassifier(),\n",
        "    \"RandomForest\" : RandomForestClassifier(),\n",
        "    \"XGBoost\" : XGBClassifier()\n",
        "}"
      ],
      "metadata": {
        "id": "5UlAs7fmq2as"
      },
      "id": "5UlAs7fmq2as",
      "execution_count": null,
      "outputs": []
    },
    {
      "cell_type": "code",
      "source": [
        "for key, classifier in classifiers.items():\n",
        "    classifier.fit(xs, y)\n",
        "    prediction = classifier.predict(valid_xs)\n",
        "    print(\"Model \"+key+ \" using unbalanced data\")\n",
        "    print(classification_report(valid_y, prediction,target_names=int_to_labels_evm))"
      ],
      "metadata": {
        "id": "fBpnl1H2q9Wf",
        "outputId": "0e09e646-9314-41c7-d854-95f9a078b158",
        "colab": {
          "base_uri": "https://localhost:8080/"
        }
      },
      "id": "fBpnl1H2q9Wf",
      "execution_count": null,
      "outputs": [
        {
          "output_type": "stream",
          "name": "stdout",
          "text": [
            "Model LogisticRegression using unbalanced data\n",
            "              precision    recall  f1-score   support\n",
            "\n",
            "         bad       1.00      0.00      0.00       410\n",
            "        good       0.73      1.00      0.84      1103\n",
            "\n",
            "    accuracy                           0.73      1513\n",
            "   macro avg       0.86      0.50      0.42      1513\n",
            "weighted avg       0.80      0.73      0.62      1513\n",
            "\n",
            "Model KNeighbors using unbalanced data\n",
            "              precision    recall  f1-score   support\n",
            "\n",
            "         bad       0.32      0.13      0.19       410\n",
            "        good       0.73      0.89      0.81      1103\n",
            "\n",
            "    accuracy                           0.69      1513\n",
            "   macro avg       0.53      0.51      0.50      1513\n",
            "weighted avg       0.62      0.69      0.64      1513\n",
            "\n",
            "Model SVC using unbalanced data\n",
            "              precision    recall  f1-score   support\n",
            "\n",
            "         bad       0.00      0.00      0.00       410\n",
            "        good       0.73      1.00      0.84      1103\n",
            "\n",
            "    accuracy                           0.73      1513\n",
            "   macro avg       0.36      0.50      0.42      1513\n",
            "weighted avg       0.53      0.73      0.61      1513\n",
            "\n",
            "Model DecisionTree using unbalanced data\n",
            "              precision    recall  f1-score   support\n",
            "\n",
            "         bad       0.29      0.31      0.30       410\n",
            "        good       0.74      0.72      0.73      1103\n",
            "\n",
            "    accuracy                           0.61      1513\n",
            "   macro avg       0.51      0.51      0.51      1513\n",
            "weighted avg       0.62      0.61      0.61      1513\n",
            "\n",
            "Model RandomForest using unbalanced data\n",
            "              precision    recall  f1-score   support\n",
            "\n",
            "         bad       0.30      0.10      0.15       410\n",
            "        good       0.73      0.92      0.81      1103\n",
            "\n",
            "    accuracy                           0.69      1513\n",
            "   macro avg       0.52      0.51      0.48      1513\n",
            "weighted avg       0.62      0.69      0.63      1513\n",
            "\n",
            "Model XGBoost using unbalanced data\n",
            "              precision    recall  f1-score   support\n",
            "\n",
            "         bad       0.33      0.01      0.01       410\n",
            "        good       0.73      0.99      0.84      1103\n",
            "\n",
            "    accuracy                           0.73      1513\n",
            "   macro avg       0.53      0.50      0.43      1513\n",
            "weighted avg       0.62      0.73      0.62      1513\n",
            "\n"
          ]
        }
      ]
    },
    {
      "cell_type": "code",
      "source": [
        "import keras\n",
        "import tensorflow as tf\n",
        "from keras.utils.np_utils import to_categorical\n",
        "from keras import optimizers\n",
        "from keras.models import Sequential\n",
        "from keras.layers import Dense, Activation, Flatten\n"
      ],
      "metadata": {
        "id": "mDzGfU-krrC0"
      },
      "id": "mDzGfU-krrC0",
      "execution_count": null,
      "outputs": []
    },
    {
      "cell_type": "code",
      "source": [
        "one_hot_y=pd.get_dummies(y[\"label\"])\n",
        "one_hot_valid_y=pd.get_dummies(valid_y[\"label\"])"
      ],
      "metadata": {
        "id": "7exX8GRlz55D"
      },
      "id": "7exX8GRlz55D",
      "execution_count": null,
      "outputs": []
    },
    {
      "cell_type": "code",
      "source": [
        "model=keras.Sequential([\n",
        "keras.Input(shape=(44,)),\n",
        "keras.layers.Dense(1024),\n",
        "keras.layers.Activation(\"sigmoid\"),\n",
        "keras.layers.Dense(512),\n",
        "keras.layers.Activation(activation=\"relu\"),\n",
        "keras.layers.Dense(2),\n",
        "keras.layers.Activation(activation=\"softmax\")])"
      ],
      "metadata": {
        "id": "-zrUimR1r6v5"
      },
      "id": "-zrUimR1r6v5",
      "execution_count": null,
      "outputs": []
    },
    {
      "cell_type": "markdown",
      "source": [
        "use BinaryFocalCrossentropy for imbalanced data"
      ],
      "metadata": {
        "id": "xqUPgy6r7HmZ"
      },
      "id": "xqUPgy6r7HmZ"
    },
    {
      "cell_type": "code",
      "source": [
        "opt = tf.optimizers.SGD(learning_rate=0.01)\n",
        "model.compile(loss=tf.keras.losses.BinaryFocalCrossentropy(), optimizer=opt, metrics=['accuracy',tf.keras.metrics.Recall()])\n",
        "epochs = 10\n",
        "history=model.fit(xs, one_hot_y,batch_size=32, epochs=epochs,validation_data=(valid_xs,one_hot_valid_y))"
      ],
      "metadata": {
        "id": "y3GEkwxNsjUp",
        "outputId": "bbbdb4a5-a19f-44c7-96f2-a8f0eca290b7",
        "colab": {
          "base_uri": "https://localhost:8080/"
        }
      },
      "id": "y3GEkwxNsjUp",
      "execution_count": null,
      "outputs": [
        {
          "output_type": "stream",
          "name": "stdout",
          "text": [
            "Epoch 1/10\n",
            "190/190 [==============================] - 4s 14ms/step - loss: 0.1525 - accuracy: 0.7145 - recall: 0.7145 - val_loss: 0.1944 - val_accuracy: 0.7290 - val_recall: 0.7290\n",
            "Epoch 2/10\n",
            "190/190 [==============================] - 2s 11ms/step - loss: 0.1538 - accuracy: 0.7197 - recall: 0.7197 - val_loss: 0.1887 - val_accuracy: 0.7290 - val_recall: 0.7290\n",
            "Epoch 3/10\n",
            "190/190 [==============================] - 2s 11ms/step - loss: 0.1525 - accuracy: 0.7215 - recall: 0.7215 - val_loss: 0.1868 - val_accuracy: 0.7290 - val_recall: 0.7290\n",
            "Epoch 4/10\n",
            "190/190 [==============================] - 2s 11ms/step - loss: 0.1510 - accuracy: 0.7238 - recall: 0.7238 - val_loss: 0.1803 - val_accuracy: 0.2981 - val_recall: 0.2981\n",
            "Epoch 5/10\n",
            "190/190 [==============================] - 2s 11ms/step - loss: 0.1517 - accuracy: 0.7228 - recall: 0.7228 - val_loss: 0.1877 - val_accuracy: 0.2730 - val_recall: 0.2730\n",
            "Epoch 6/10\n",
            "190/190 [==============================] - 2s 11ms/step - loss: 0.1523 - accuracy: 0.7200 - recall: 0.7200 - val_loss: 0.1783 - val_accuracy: 0.3351 - val_recall: 0.3351\n",
            "Epoch 7/10\n",
            "190/190 [==============================] - 2s 12ms/step - loss: 0.1512 - accuracy: 0.7220 - recall: 0.7220 - val_loss: 0.1791 - val_accuracy: 0.7290 - val_recall: 0.7290\n",
            "Epoch 8/10\n",
            "190/190 [==============================] - 2s 12ms/step - loss: 0.1511 - accuracy: 0.7218 - recall: 0.7218 - val_loss: 0.1725 - val_accuracy: 0.7290 - val_recall: 0.7290\n",
            "Epoch 9/10\n",
            "190/190 [==============================] - 2s 11ms/step - loss: 0.1498 - accuracy: 0.7263 - recall: 0.7263 - val_loss: 0.1746 - val_accuracy: 0.4660 - val_recall: 0.4660\n",
            "Epoch 10/10\n",
            "190/190 [==============================] - 2s 12ms/step - loss: 0.1496 - accuracy: 0.7223 - recall: 0.7223 - val_loss: 0.3983 - val_accuracy: 0.2710 - val_recall: 0.2710\n"
          ]
        }
      ]
    },
    {
      "cell_type": "code",
      "source": [
        "y_prob=model.predict(valid_xs)\n",
        "prediction = y_prob.argmax(axis=-1)\n",
        "print(\"Model Neural Net\")\n",
        "print(classification_report(valid_y, prediction,target_names=int_to_labels_evm))"
      ],
      "metadata": {
        "id": "C7o-crPTt4Fo",
        "outputId": "eca56aaf-5555-4ab7-bdc5-8414e53a413d",
        "colab": {
          "base_uri": "https://localhost:8080/"
        }
      },
      "id": "C7o-crPTt4Fo",
      "execution_count": null,
      "outputs": [
        {
          "output_type": "stream",
          "name": "stdout",
          "text": [
            "48/48 [==============================] - 0s 3ms/step\n",
            "Model Neural Net\n",
            "              precision    recall  f1-score   support\n",
            "\n",
            "         bad       0.27      1.00      0.43       410\n",
            "        good       0.00      0.00      0.00      1103\n",
            "\n",
            "    accuracy                           0.27      1513\n",
            "   macro avg       0.14      0.50      0.21      1513\n",
            "weighted avg       0.07      0.27      0.12      1513\n",
            "\n"
          ]
        }
      ]
    },
    {
      "cell_type": "code",
      "source": [
        "from imblearn.over_sampling import SMOTE\n",
        "oversample = SMOTE()\n",
        "X_balanced, y_balanced = oversample.fit_resample(xs, y)"
      ],
      "metadata": {
        "id": "_XGeTEVfPxpX"
      },
      "id": "_XGeTEVfPxpX",
      "execution_count": null,
      "outputs": []
    },
    {
      "cell_type": "code",
      "source": [
        "for key, classifier in classifiers.items():\n",
        "    classifier.fit(X_balanced, y_balanced)\n",
        "    prediction = classifier.predict(valid_xs)\n",
        "    print(\"Model \"+key)\n",
        "    print(classification_report(valid_y, prediction,target_names=int_to_labels_evm))"
      ],
      "metadata": {
        "id": "9gjyIi-JPtaN",
        "outputId": "1bc454d5-b8b6-4066-cac6-316eda7ea94f",
        "colab": {
          "base_uri": "https://localhost:8080/"
        }
      },
      "id": "9gjyIi-JPtaN",
      "execution_count": null,
      "outputs": [
        {
          "output_type": "stream",
          "name": "stdout",
          "text": [
            "Model LogisticRegression\n",
            "              precision    recall  f1-score   support\n",
            "\n",
            "         bad       0.29      0.20      0.23       410\n",
            "        good       0.73      0.82      0.77      1103\n",
            "\n",
            "    accuracy                           0.65      1513\n",
            "   macro avg       0.51      0.51      0.50      1513\n",
            "weighted avg       0.61      0.65      0.63      1513\n",
            "\n",
            "Model KNeighbors\n",
            "              precision    recall  f1-score   support\n",
            "\n",
            "         bad       0.27      0.43      0.33       410\n",
            "        good       0.73      0.57      0.64      1103\n",
            "\n",
            "    accuracy                           0.54      1513\n",
            "   macro avg       0.50      0.50      0.49      1513\n",
            "weighted avg       0.61      0.54      0.56      1513\n",
            "\n",
            "Model SVC\n",
            "              precision    recall  f1-score   support\n",
            "\n",
            "         bad       0.27      0.23      0.25       410\n",
            "        good       0.73      0.77      0.75      1103\n",
            "\n",
            "    accuracy                           0.63      1513\n",
            "   macro avg       0.50      0.50      0.50      1513\n",
            "weighted avg       0.61      0.63      0.61      1513\n",
            "\n",
            "Model DecisionTree\n",
            "              precision    recall  f1-score   support\n",
            "\n",
            "         bad       0.29      0.34      0.31       410\n",
            "        good       0.74      0.68      0.71      1103\n",
            "\n",
            "    accuracy                           0.59      1513\n",
            "   macro avg       0.51      0.51      0.51      1513\n",
            "weighted avg       0.61      0.59      0.60      1513\n",
            "\n",
            "Model RandomForest\n",
            "              precision    recall  f1-score   support\n",
            "\n",
            "         bad       0.33      0.28      0.30       410\n",
            "        good       0.75      0.79      0.77      1103\n",
            "\n",
            "    accuracy                           0.65      1513\n",
            "   macro avg       0.54      0.53      0.53      1513\n",
            "weighted avg       0.63      0.65      0.64      1513\n",
            "\n",
            "Model XGBoost\n",
            "              precision    recall  f1-score   support\n",
            "\n",
            "         bad       0.28      0.24      0.26       410\n",
            "        good       0.73      0.78      0.75      1103\n",
            "\n",
            "    accuracy                           0.63      1513\n",
            "   macro avg       0.51      0.51      0.51      1513\n",
            "weighted avg       0.61      0.63      0.62      1513\n",
            "\n"
          ]
        }
      ]
    },
    {
      "cell_type": "code",
      "source": [
        "one_hot_y_balanced=pd.get_dummies(y_balanced[\"label\"])"
      ],
      "metadata": {
        "id": "VJ-ve8Xb0Wiw"
      },
      "id": "VJ-ve8Xb0Wiw",
      "execution_count": null,
      "outputs": []
    },
    {
      "cell_type": "code",
      "source": [
        "model2=keras.Sequential([\n",
        "keras.Input(shape=(44,)),\n",
        "keras.layers.Dense(1024),\n",
        "keras.layers.Activation(\"sigmoid\"),\n",
        "keras.layers.Dense(512),\n",
        "keras.layers.Activation(activation=\"relu\"),\n",
        "keras.layers.Dense(2),\n",
        "keras.layers.Activation(activation=\"softmax\")])"
      ],
      "metadata": {
        "id": "91clwj1-vmYN"
      },
      "id": "91clwj1-vmYN",
      "execution_count": null,
      "outputs": []
    },
    {
      "cell_type": "markdown",
      "source": [
        "Use BinaryCrossentropy instead"
      ],
      "metadata": {
        "id": "k43M27xU7DM3"
      },
      "id": "k43M27xU7DM3"
    },
    {
      "cell_type": "code",
      "source": [
        "opt = tf.optimizers.SGD(learning_rate=0.01)\n",
        "model2.compile(loss=tf.keras.losses.BinaryCrossentropy(), optimizer=opt, metrics=['accuracy',tf.keras.metrics.Recall()])\n",
        "epochs = 10\n",
        "history=model2.fit(X_balanced,one_hot_y_balanced,batch_size=32, epochs=epochs,validation_data=(valid_xs,one_hot_valid_y))"
      ],
      "metadata": {
        "id": "JX_-lH7PvodF",
        "outputId": "ab4b869b-2ff3-4039-f095-3dc7361c93f7",
        "colab": {
          "base_uri": "https://localhost:8080/"
        }
      },
      "id": "JX_-lH7PvodF",
      "execution_count": null,
      "outputs": [
        {
          "output_type": "stream",
          "name": "stdout",
          "text": [
            "Epoch 1/10\n",
            "275/275 [==============================] - 4s 12ms/step - loss: 0.6968 - accuracy: 0.5020 - recall_1: 0.5020 - val_loss: 0.7137 - val_accuracy: 0.2710 - val_recall_1: 0.2710\n",
            "Epoch 2/10\n",
            "275/275 [==============================] - 3s 11ms/step - loss: 0.6956 - accuracy: 0.5019 - recall_1: 0.5019 - val_loss: 0.6564 - val_accuracy: 0.7290 - val_recall_1: 0.7290\n",
            "Epoch 3/10\n",
            "275/275 [==============================] - 3s 11ms/step - loss: 0.6968 - accuracy: 0.4941 - recall_1: 0.4941 - val_loss: 0.6643 - val_accuracy: 0.7297 - val_recall_1: 0.7297\n",
            "Epoch 4/10\n",
            "275/275 [==============================] - 3s 10ms/step - loss: 0.6968 - accuracy: 0.5019 - recall_1: 0.5019 - val_loss: 0.6512 - val_accuracy: 0.7297 - val_recall_1: 0.7297\n",
            "Epoch 5/10\n",
            "275/275 [==============================] - 3s 11ms/step - loss: 0.6957 - accuracy: 0.5014 - recall_1: 0.5014 - val_loss: 0.6714 - val_accuracy: 0.7297 - val_recall_1: 0.7297\n",
            "Epoch 6/10\n",
            "275/275 [==============================] - 3s 10ms/step - loss: 0.6953 - accuracy: 0.5024 - recall_1: 0.5024 - val_loss: 0.6836 - val_accuracy: 0.7217 - val_recall_1: 0.7217\n",
            "Epoch 7/10\n",
            "275/275 [==============================] - 4s 16ms/step - loss: 0.6948 - accuracy: 0.5060 - recall_1: 0.5060 - val_loss: 0.6253 - val_accuracy: 0.7290 - val_recall_1: 0.7290\n",
            "Epoch 8/10\n",
            "275/275 [==============================] - 3s 10ms/step - loss: 0.6959 - accuracy: 0.4987 - recall_1: 0.4987 - val_loss: 0.6558 - val_accuracy: 0.7297 - val_recall_1: 0.7297\n",
            "Epoch 9/10\n",
            "275/275 [==============================] - 4s 13ms/step - loss: 0.6946 - accuracy: 0.5059 - recall_1: 0.5059 - val_loss: 0.6981 - val_accuracy: 0.3596 - val_recall_1: 0.3596\n",
            "Epoch 10/10\n",
            "275/275 [==============================] - 3s 11ms/step - loss: 0.6938 - accuracy: 0.5075 - recall_1: 0.5075 - val_loss: 0.7237 - val_accuracy: 0.2710 - val_recall_1: 0.2710\n"
          ]
        }
      ]
    },
    {
      "cell_type": "code",
      "source": [
        "y_prob=model2.predict(valid_xs)\n",
        "prediction = y_prob.argmax(axis=-1)\n",
        "print(\"Model Neural Net\")\n",
        "print(classification_report(valid_y, prediction,target_names=int_to_labels_evm))"
      ],
      "metadata": {
        "id": "ZsCuvk0mv8vi",
        "outputId": "bf61859d-d3e5-406c-8ffc-8b2ec05ce6ef",
        "colab": {
          "base_uri": "https://localhost:8080/"
        }
      },
      "id": "ZsCuvk0mv8vi",
      "execution_count": null,
      "outputs": [
        {
          "output_type": "stream",
          "name": "stdout",
          "text": [
            "48/48 [==============================] - 0s 3ms/step\n",
            "Model Neural Net\n",
            "              precision    recall  f1-score   support\n",
            "\n",
            "         bad       0.27      1.00      0.43       410\n",
            "        good       0.00      0.00      0.00      1103\n",
            "\n",
            "    accuracy                           0.27      1513\n",
            "   macro avg       0.14      0.50      0.21      1513\n",
            "weighted avg       0.07      0.27      0.12      1513\n",
            "\n"
          ]
        }
      ]
    },
    {
      "cell_type": "code",
      "source": [],
      "metadata": {
        "id": "U1dJEW6fFXEs"
      },
      "id": "U1dJEW6fFXEs",
      "execution_count": null,
      "outputs": []
    }
  ],
  "metadata": {
    "kernelspec": {
      "display_name": "Python 3.10.0 64-bit",
      "language": "python",
      "name": "python3"
    },
    "language_info": {
      "codemirror_mode": {
        "name": "ipython",
        "version": 3
      },
      "file_extension": ".py",
      "mimetype": "text/x-python",
      "name": "python",
      "nbconvert_exporter": "python",
      "pygments_lexer": "ipython3",
      "version": "3.10.0"
    },
    "vscode": {
      "interpreter": {
        "hash": "525f50cd3df40e9d57f214b2f9bedadf4bf08c85f9f5b3b27734de5b2eace747"
      }
    },
    "colab": {
      "provenance": [],
      "collapsed_sections": [],
      "include_colab_link": true
    }
  },
  "nbformat": 4,
  "nbformat_minor": 5
}