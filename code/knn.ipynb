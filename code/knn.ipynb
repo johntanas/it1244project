{
  "cells": [
    {
      "cell_type": "markdown",
      "metadata": {
        "id": "view-in-github",
        "colab_type": "text"
      },
      "source": [
        "<a href=\"https://colab.research.google.com/github/johntanas/it1244project/blob/main/code/knn_dt_using_ewm.ipynb\" target=\"_parent\"><img src=\"https://colab.research.google.com/assets/colab-badge.svg\" alt=\"Open In Colab\"/></a>"
      ]
    },
    {
      "cell_type": "code",
      "execution_count": 2,
      "id": "5179ea71",
      "metadata": {
        "id": "5179ea71"
      },
      "outputs": [],
      "source": [
        "import pandas as pd\n",
        "import numpy as np"
      ]
    },
    {
      "cell_type": "code",
      "source": [
        "path_to_evm_label=\"/content/expo_moving_labels.csv\"\n",
        "path_to_app=\"/content/cleaned_application.csv\"\n",
        "cleaned_app_df=pd.read_csv(path_to_app,index_col=0)\n",
        "ewm_df_status=pd.read_csv(path_to_evm_label,index_col=0)"
      ],
      "metadata": {
        "id": "XJlCQwWJEl2_"
      },
      "id": "XJlCQwWJEl2_",
      "execution_count": 3,
      "outputs": []
    },
    {
      "cell_type": "code",
      "source": [
        "labels_to_int_evm={\"bad\":1,\"neutral\":2,\"good\":3}"
      ],
      "metadata": {
        "id": "yATIoEXw31Eu"
      },
      "id": "yATIoEXw31Eu",
      "execution_count": 4,
      "outputs": []
    },
    {
      "cell_type": "code",
      "source": [
        "ewm_df=ewm_df_status.drop(columns=\"status\").replace({\"label\":labels_to_int_evm})"
      ],
      "metadata": {
        "id": "lXL4go3Q3UVC"
      },
      "id": "lXL4go3Q3UVC",
      "execution_count": 5,
      "outputs": []
    },
    {
      "cell_type": "code",
      "source": [
        "dep_var=\"label\"\n",
        "random_state=42"
      ],
      "metadata": {
        "id": "DoxeFDv6Mgj8"
      },
      "id": "DoxeFDv6Mgj8",
      "execution_count": 6,
      "outputs": []
    },
    {
      "cell_type": "code",
      "source": [
        "from sklearn.model_selection import ShuffleSplit\n",
        "from pandas.api.types import is_string_dtype, is_numeric_dtype, is_categorical_dtype\n",
        "from sklearn.ensemble import RandomForestClassifier\n",
        "from sklearn.tree import DecisionTreeClassifier,export_text,plot_tree\n",
        "from fastai.tabular.all import *\n",
        "from sklearn.metrics import classification_report, confusion_matrix,ConfusionMatrixDisplay"
      ],
      "metadata": {
        "id": "72z3c3jMIzVZ"
      },
      "id": "72z3c3jMIzVZ",
      "execution_count": 7,
      "outputs": []
    },
    {
      "cell_type": "code",
      "source": [
        "train_df=ewm_df.merge(cleaned_app_df,how=\"inner\",on=\"id\").drop(\"id\",axis=1)"
      ],
      "metadata": {
        "id": "ZEu51Hh-LyC5"
      },
      "id": "ZEu51Hh-LyC5",
      "execution_count": 48,
      "outputs": []
    },
    {
      "cell_type": "code",
      "execution_count": 9,
      "id": "db605ac0",
      "metadata": {
        "id": "db605ac0"
      },
      "outputs": [],
      "source": [
        "cont,cat = cont_cat_split(train_df, max_card=1, dep_var=dep_var)"
      ]
    },
    {
      "cell_type": "code",
      "source": [
        "sss = ShuffleSplit(n_splits=1, test_size=0.2)\n",
        "train_idx, valid_idx = next(sss.split(train_df))\n",
        "splits = (list(train_idx),list(valid_idx))"
      ],
      "metadata": {
        "id": "OPi_3D8PNUsR"
      },
      "id": "OPi_3D8PNUsR",
      "execution_count": 10,
      "outputs": []
    },
    {
      "cell_type": "code",
      "source": [
        "procs = [Categorify, Normalize]\n",
        "to = TabularPandas(train_df, procs, cat, cont,\n",
        "                      splits=splits, y_names=dep_var)"
      ],
      "metadata": {
        "id": "fyZWDaD6I76o"
      },
      "id": "fyZWDaD6I76o",
      "execution_count": 11,
      "outputs": []
    },
    {
      "cell_type": "code",
      "source": [
        "xs,y = to.train.xs,to.train.y\n",
        "valid_xs,valid_y = to.valid.xs,to.valid.y"
      ],
      "metadata": {
        "id": "psnOcv568fbM"
      },
      "id": "psnOcv568fbM",
      "execution_count": 12,
      "outputs": []
    },
    {
      "cell_type": "code",
      "source": [
        "m = DecisionTreeClassifier(max_depth=18,random_state=random_state)\n",
        "m.fit(xs, y)"
      ],
      "metadata": {
        "id": "65zi5g0g8Jku",
        "outputId": "3bb62eb8-405c-43b7-931b-626c9732c9b6",
        "colab": {
          "base_uri": "https://localhost:8080/"
        }
      },
      "id": "65zi5g0g8Jku",
      "execution_count": 13,
      "outputs": [
        {
          "output_type": "execute_result",
          "data": {
            "text/plain": [
              "DecisionTreeClassifier(max_depth=18, random_state=42)"
            ]
          },
          "metadata": {},
          "execution_count": 13
        }
      ]
    },
    {
      "cell_type": "code",
      "source": [
        "preds=m.predict(valid_xs)"
      ],
      "metadata": {
        "id": "3IKlaeFFMuZ1"
      },
      "id": "3IKlaeFFMuZ1",
      "execution_count": 14,
      "outputs": []
    },
    {
      "cell_type": "code",
      "source": [
        "#int_to_labels_evm={1:\"bad\",2:\"good\"}\n",
        "int_to_labels_evm={v:k for k,v in enumerate(labels_to_int_evm)}"
      ],
      "metadata": {
        "id": "sVmFd-LbPJVS"
      },
      "id": "sVmFd-LbPJVS",
      "execution_count": 15,
      "outputs": []
    },
    {
      "cell_type": "code",
      "source": [
        "print(classification_report(preds,valid_y,target_names=int_to_labels_evm))\n",
        "disp=ConfusionMatrixDisplay.from_predictions(preds, valid_y,display_labels=int_to_labels_evm)\n",
        "fig=disp.ax_.get_figure() \n",
        "fig.set_figwidth(10)\n",
        "fig.set_figheight(5) "
      ],
      "metadata": {
        "id": "lj5t7afwMjsQ",
        "outputId": "f4e171b6-fa1b-45d6-ee3e-c24756418396",
        "colab": {
          "base_uri": "https://localhost:8080/",
          "height": 508
        }
      },
      "id": "lj5t7afwMjsQ",
      "execution_count": 16,
      "outputs": [
        {
          "output_type": "stream",
          "name": "stdout",
          "text": [
            "              precision    recall  f1-score   support\n",
            "\n",
            "         bad       0.20      0.39      0.26       798\n",
            "     neutral       0.88      0.67      0.76      6035\n",
            "        good       0.22      0.51      0.31       459\n",
            "\n",
            "    accuracy                           0.63      7292\n",
            "   macro avg       0.43      0.53      0.44      7292\n",
            "weighted avg       0.76      0.63      0.68      7292\n",
            "\n"
          ]
        },
        {
          "output_type": "display_data",
          "data": {
            "text/plain": [
              "<Figure size 720x360 with 2 Axes>"
            ],
            "image/png": "[encoded data removed]"
          },
          "metadata": {
            "needs_background": "light"
          }
        }
      ]
    },
    {
      "cell_type": "code",
      "source": [
        "def rf(xs, y, n_estimators=40, max_samples=20_000,\n",
        "       max_features=0.5, min_samples_leaf=5,random_state=random_state):\n",
        "    return RandomForestClassifier(n_jobs=-1, n_estimators=n_estimators,\n",
        "        max_samples=max_samples, max_features=max_features,\n",
        "        min_samples_leaf=min_samples_leaf, oob_score=True,random_state=random_state).fit(xs, y)"
      ],
      "metadata": {
        "id": "1ugWF27F8vk6"
      },
      "id": "1ugWF27F8vk6",
      "execution_count": 17,
      "outputs": []
    },
    {
      "cell_type": "code",
      "source": [
        "rf_m = rf(xs, y)\n",
        "preds_rf=rf_m.predict(valid_xs)"
      ],
      "metadata": {
        "id": "2IyvRObh8zea"
      },
      "id": "2IyvRObh8zea",
      "execution_count": 18,
      "outputs": []
    },
    {
      "cell_type": "code",
      "source": [
        "print(classification_report(preds_rf,valid_y,target_names=int_to_labels_evm))\n",
        "disp=ConfusionMatrixDisplay.from_predictions(preds_rf, valid_y,display_labels=int_to_labels_evm)\n",
        "fig=disp.ax_.get_figure() \n",
        "fig.set_figwidth(10)\n",
        "fig.set_figheight(5) "
      ],
      "metadata": {
        "id": "Xyef8KbELlD_",
        "outputId": "778919f8-cfc7-42e1-fb02-2b553c12f609",
        "colab": {
          "base_uri": "https://localhost:8080/",
          "height": 508
        }
      },
      "id": "Xyef8KbELlD_",
      "execution_count": 19,
      "outputs": [
        {
          "output_type": "stream",
          "name": "stdout",
          "text": [
            "              precision    recall  f1-score   support\n",
            "\n",
            "         bad       0.16      0.46      0.23       541\n",
            "     neutral       0.92      0.67      0.77      6379\n",
            "        good       0.22      0.62      0.32       372\n",
            "\n",
            "    accuracy                           0.65      7292\n",
            "   macro avg       0.43      0.58      0.44      7292\n",
            "weighted avg       0.83      0.65      0.71      7292\n",
            "\n"
          ]
        },
        {
          "output_type": "display_data",
          "data": {
            "text/plain": [
              "<Figure size 720x360 with 2 Axes>"
            ],
            "image/png": "[encoded data removed]"
          },
          "metadata": {
            "needs_background": "light"
          }
        }
      ]
    },
    {
      "cell_type": "code",
      "source": [
        "from lightgbm import LGBMClassifier"
      ],
      "metadata": {
        "id": "PmghXWKw9TU-"
      },
      "id": "PmghXWKw9TU-",
      "execution_count": 20,
      "outputs": []
    },
    {
      "cell_type": "code",
      "source": [
        "boosted_tree=LGBMClassifier(boosting_type=\"gbdt\",random_state=random_state)\n",
        "boosted_tree.fit(xs,y)"
      ],
      "metadata": {
        "id": "aUMnzoIq9T86",
        "outputId": "168c1c6d-b68b-4e02-cc96-23e03beadff3",
        "colab": {
          "base_uri": "https://localhost:8080/"
        }
      },
      "id": "aUMnzoIq9T86",
      "execution_count": 21,
      "outputs": [
        {
          "output_type": "execute_result",
          "data": {
            "text/plain": [
              "LGBMClassifier(random_state=42)"
            ]
          },
          "metadata": {},
          "execution_count": 21
        }
      ]
    },
    {
      "cell_type": "code",
      "source": [
        "pred_boost=boosted_tree.predict(valid_xs)\n",
        "print(classification_report(pred_boost,valid_y,target_names=int_to_labels_evm))\n",
        "disp=ConfusionMatrixDisplay.from_predictions(pred_boost, valid_y,display_labels=int_to_labels_evm)\n",
        "fig=disp.ax_.get_figure() \n",
        "fig.set_figwidth(10)\n",
        "fig.set_figheight(5) "
      ],
      "metadata": {
        "id": "8IYpMFMaOy5Y",
        "outputId": "0e862720-53b7-4a50-a401-4d95ae3f35a5",
        "colab": {
          "base_uri": "https://localhost:8080/",
          "height": 508
        }
      },
      "id": "8IYpMFMaOy5Y",
      "execution_count": 22,
      "outputs": [
        {
          "output_type": "stream",
          "name": "stdout",
          "text": [
            "              precision    recall  f1-score   support\n",
            "\n",
            "         bad       0.03      0.59      0.06        81\n",
            "     neutral       0.99      0.64      0.78      7137\n",
            "        good       0.05      0.70      0.09        74\n",
            "\n",
            "    accuracy                           0.64      7292\n",
            "   macro avg       0.36      0.65      0.31      7292\n",
            "weighted avg       0.97      0.64      0.76      7292\n",
            "\n"
          ]
        },
        {
          "output_type": "display_data",
          "data": {
            "text/plain": [
              "<Figure size 720x360 with 2 Axes>"
            ],
            "image/png": "[encoded data removed]"
          },
          "metadata": {
            "needs_background": "light"
          }
        }
      ]
    },
    {
      "cell_type": "markdown",
      "source": [
        "GARBAGE"
      ],
      "metadata": {
        "id": "YBolYVoUQipq"
      },
      "id": "YBolYVoUQipq"
    },
    {
      "cell_type": "code",
      "source": [
        "def rf_feat_importance(m, df):\n",
        "    return pd.DataFrame({'cols':df.columns, 'imp':m.feature_importances_}\n",
        "                       ).sort_values('imp', ascending=False)\n",
        "fi = rf_feat_importance(m, xs)\n",
        "def plot_fi(fi):\n",
        "    return fi.plot('cols', 'imp', 'barh', figsize=(12,7), legend=False)\n",
        "plot_fi(fi);"
      ],
      "metadata": {
        "id": "oGNw-_aEQxmo",
        "outputId": "01e8729d-bb2c-404f-8e3f-2d615a27b787",
        "colab": {
          "base_uri": "https://localhost:8080/",
          "height": 428
        }
      },
      "id": "oGNw-_aEQxmo",
      "execution_count": 23,
      "outputs": [
        {
          "output_type": "display_data",
          "data": {
            "text/plain": [
              "<Figure size 864x504 with 1 Axes>"
            ],
            "image/png": "[encoded data removed]"
          },
          "metadata": {
            "needs_background": "light"
          }
        }
      ]
    },
    {
      "cell_type": "markdown",
      "source": [
        "We can drop weak learners from looking at our random forest feature importance.\n",
        "We define a weak learner as less than 0.05 feature importance."
      ],
      "metadata": {
        "id": "9H6nVCmCQ0FO"
      },
      "id": "9H6nVCmCQ0FO"
    },
    {
      "cell_type": "code",
      "source": [
        "imp_cols=fi[fi[\"imp\"]>0.05]"
      ],
      "metadata": {
        "id": "h-68bo2mPTvw"
      },
      "id": "h-68bo2mPTvw",
      "execution_count": 24,
      "outputs": []
    },
    {
      "cell_type": "markdown",
      "source": [
        "We can do KNN with the dataset with the reduced dimension"
      ],
      "metadata": {
        "id": "hnW_N2lLRbO0"
      },
      "id": "hnW_N2lLRbO0"
    },
    {
      "cell_type": "code",
      "source": [
        "from sklearn.neighbors import KNeighborsClassifier\n",
        "from sklearn.model_selection import train_test_split"
      ],
      "metadata": {
        "id": "r2vIDVVJSSyY"
      },
      "id": "r2vIDVVJSSyY",
      "execution_count": 25,
      "outputs": []
    },
    {
      "cell_type": "code",
      "source": [
        "imp_X=train_df[np.array(imp_cols.cols)]\n",
        "y=train_df[\"label\"]"
      ],
      "metadata": {
        "id": "0JPzAWh-WjaM"
      },
      "id": "0JPzAWh-WjaM",
      "execution_count": 44,
      "outputs": []
    },
    {
      "cell_type": "markdown",
      "source": [
        "We one hot code the jobs before we train test split incase we split and lose a job"
      ],
      "metadata": {
        "id": "-DNHboiLX1R4"
      },
      "id": "-DNHboiLX1R4"
    },
    {
      "cell_type": "code",
      "source": [
        "jobs=pd.get_dummies(imp_X[\"job\"])"
      ],
      "metadata": {
        "id": "UCtAaEbGYDCN"
      },
      "id": "UCtAaEbGYDCN",
      "execution_count": 38,
      "outputs": []
    },
    {
      "cell_type": "code",
      "source": [
        "to_split=imp_X.drop(columns=\"job\").join(jobs)"
      ],
      "metadata": {
        "id": "gIjhBacdYOvc"
      },
      "id": "gIjhBacdYOvc",
      "execution_count": 39,
      "outputs": []
    },
    {
      "cell_type": "code",
      "source": [
        "cont=imp_X._get_numeric_data().columns"
      ],
      "metadata": {
        "id": "D-aKh2wfYqV7"
      },
      "id": "D-aKh2wfYqV7",
      "execution_count": 40,
      "outputs": []
    },
    {
      "cell_type": "code",
      "source": [
        "X_knn,valid_X_knn,y_knn,valid_y_knn=train_test_split(to_split,y,random_state=random_state)"
      ],
      "metadata": {
        "id": "BOJ1Y_QCXWSg"
      },
      "id": "BOJ1Y_QCXWSg",
      "execution_count": 41,
      "outputs": []
    },
    {
      "cell_type": "code",
      "source": [
        "# take k= sqrt(len(features))\n",
        "k=round(math.sqrt(X_knn.shape[0]))\n",
        "# k should be odd\n",
        "if k %2 ==0:\n",
        "  k+=1"
      ],
      "metadata": {
        "id": "aWP2n1vTSzNS"
      },
      "id": "aWP2n1vTSzNS",
      "execution_count": 72,
      "outputs": []
    },
    {
      "cell_type": "markdown",
      "source": [
        "We standardise the numerical cols using training data"
      ],
      "metadata": {
        "id": "BI8SQJcxT7Jr"
      },
      "id": "BI8SQJcxT7Jr"
    },
    {
      "cell_type": "code",
      "source": [
        "from sklearn.preprocessing import StandardScaler\n",
        "knn_standard=StandardScaler()\n",
        "knn_standard.fit(X_knn[cont])"
      ],
      "metadata": {
        "id": "WaX8fPOSUJgF",
        "outputId": "0b45ef34-41bd-4d54-85e1-b5167ab510b6",
        "colab": {
          "base_uri": "https://localhost:8080/"
        }
      },
      "id": "WaX8fPOSUJgF",
      "execution_count": 73,
      "outputs": [
        {
          "output_type": "execute_result",
          "data": {
            "text/plain": [
              "StandardScaler()"
            ]
          },
          "metadata": {},
          "execution_count": 73
        }
      ]
    },
    {
      "cell_type": "code",
      "source": [
        "scaled_features=knn_standard.transform(X_knn[cont])\n",
        "X_knn[cont]=scaled_features"
      ],
      "metadata": {
        "id": "WpzKe5gIVVcN"
      },
      "id": "WpzKe5gIVVcN",
      "execution_count": 74,
      "outputs": []
    },
    {
      "cell_type": "code",
      "source": [
        "valid_scaled_features=knn_standard.transform(valid_X_knn[cont])\n",
        "valid_X_knn[cont]=valid_scaled_features"
      ],
      "metadata": {
        "id": "1VdTuBUnY_oS"
      },
      "id": "1VdTuBUnY_oS",
      "execution_count": 75,
      "outputs": []
    },
    {
      "cell_type": "code",
      "source": [
        "knn=KNeighborsClassifier(k)"
      ],
      "metadata": {
        "id": "LiB4QKYLTaMR"
      },
      "id": "LiB4QKYLTaMR",
      "execution_count": 76,
      "outputs": []
    },
    {
      "cell_type": "code",
      "source": [
        "knn.fit(X_knn,y_knn)"
      ],
      "metadata": {
        "id": "Pw_ydHkaVzjw",
        "outputId": "e4257107-9c8e-4479-eee5-ebbae102b6c3",
        "colab": {
          "base_uri": "https://localhost:8080/"
        }
      },
      "id": "Pw_ydHkaVzjw",
      "execution_count": 77,
      "outputs": [
        {
          "output_type": "execute_result",
          "data": {
            "text/plain": [
              "KNeighborsClassifier(n_neighbors=165)"
            ]
          },
          "metadata": {},
          "execution_count": 77
        }
      ]
    },
    {
      "cell_type": "code",
      "source": [
        "preds_knn=knn.predict(valid_X_knn)\n",
        "print(classification_report(preds_knn,valid_y_knn,target_names=int_to_labels_evm))\n",
        "disp=ConfusionMatrixDisplay.from_predictions(preds_knn,valid_y_knn,display_labels=int_to_labels_evm)\n",
        "fig=disp.ax_.get_figure() \n",
        "fig.set_figwidth(10)\n",
        "fig.set_figheight(5) "
      ],
      "metadata": {
        "id": "MVA3ViDVV-Lo",
        "outputId": "fc740d49-292d-4244-847d-37c74c7ef45a",
        "colab": {
          "base_uri": "https://localhost:8080/",
          "height": 632
        }
      },
      "id": "MVA3ViDVV-Lo",
      "execution_count": 78,
      "outputs": [
        {
          "output_type": "stream",
          "name": "stderr",
          "text": [
            "/usr/local/lib/python3.7/dist-packages/sklearn/metrics/_classification.py:1318: UndefinedMetricWarning: Recall and F-score are ill-defined and being set to 0.0 in labels with no true samples. Use `zero_division` parameter to control this behavior.\n",
            "  _warn_prf(average, modifier, msg_start, len(result))\n",
            "/usr/local/lib/python3.7/dist-packages/sklearn/metrics/_classification.py:1318: UndefinedMetricWarning: Recall and F-score are ill-defined and being set to 0.0 in labels with no true samples. Use `zero_division` parameter to control this behavior.\n",
            "  _warn_prf(average, modifier, msg_start, len(result))\n",
            "/usr/local/lib/python3.7/dist-packages/sklearn/metrics/_classification.py:1318: UndefinedMetricWarning: Recall and F-score are ill-defined and being set to 0.0 in labels with no true samples. Use `zero_division` parameter to control this behavior.\n",
            "  _warn_prf(average, modifier, msg_start, len(result))\n"
          ]
        },
        {
          "output_type": "stream",
          "name": "stdout",
          "text": [
            "              precision    recall  f1-score   support\n",
            "\n",
            "         bad       0.00      0.00      0.00         0\n",
            "     neutral       1.00      0.63      0.77      9115\n",
            "        good       0.00      0.00      0.00         0\n",
            "\n",
            "    accuracy                           0.63      9115\n",
            "   macro avg       0.33      0.21      0.26      9115\n",
            "weighted avg       1.00      0.63      0.77      9115\n",
            "\n"
          ]
        },
        {
          "output_type": "display_data",
          "data": {
            "text/plain": [
              "<Figure size 720x360 with 2 Axes>"
            ],
            "image/png": "[encoded data removed]"
          },
          "metadata": {
            "needs_background": "light"
          }
        }
      ]
    },
    {
      "cell_type": "markdown",
      "source": [
        "KNN does not work for the imbalanced dataset"
      ],
      "metadata": {
        "id": "KGsar00rf3ts"
      },
      "id": "KGsar00rf3ts"
    }
  ],
  "metadata": {
    "kernelspec": {
      "display_name": "Python 3.10.0 64-bit",
      "language": "python",
      "name": "python3"
    },
    "language_info": {
      "codemirror_mode": {
        "name": "ipython",
        "version": 3
      },
      "file_extension": ".py",
      "mimetype": "text/x-python",
      "name": "python",
      "nbconvert_exporter": "python",
      "pygments_lexer": "ipython3",
      "version": "3.10.0"
    },
    "vscode": {
      "interpreter": {
        "hash": "525f50cd3df40e9d57f214b2f9bedadf4bf08c85f9f5b3b27734de5b2eace747"
      }
    },
    "colab": {
      "provenance": [],
      "collapsed_sections": [],
      "include_colab_link": true
    }
  },
  "nbformat": 4,
  "nbformat_minor": 5
}
