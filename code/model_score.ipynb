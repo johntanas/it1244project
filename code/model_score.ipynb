{
  "cells": [
    {
      "cell_type": "markdown",
      "metadata": {
        "id": "view-in-github",
        "colab_type": "text"
      },
      "source": [
        "<a href=\"https://colab.research.google.com/github/johntanas/it1244project/blob/main/code/model_score.ipynb\" target=\"_parent\"><img src=\"https://colab.research.google.com/assets/colab-badge.svg\" alt=\"Open In Colab\"/></a>"
      ]
    },
    {
      "cell_type": "code",
      "execution_count": 22,
      "id": "5179ea71",
      "metadata": {
        "id": "5179ea71"
      },
      "outputs": [],
      "source": [
        "import pandas as pd\n",
        "import numpy as np\n",
        "from sklearn.preprocessing import StandardScaler,OneHotEncoder,OrdinalEncoder\n",
        "from sklearn.compose import ColumnTransformer\n",
        "from sklearn.model_selection import RepeatedStratifiedKFold,cross_val_score\n",
        "from sklearn.linear_model import LogisticRegression\n",
        "from sklearn.neighbors import KNeighborsClassifier\n",
        "from sklearn.tree import DecisionTreeClassifier\n",
        "from sklearn.ensemble import RandomForestClassifier\n",
        "from sklearn.metrics import classification_report\n",
        "from imblearn.over_sampling import SMOTE\n",
        "from sklearn.metrics import roc_auc_score,average_precision_score,SCORERS"
      ]
    },
    {
      "cell_type": "markdown",
      "source": [
        "Running this file might take a while (>1 hour) due to KNN and n_repeats=5"
      ],
      "metadata": {
        "id": "Vb1AnAEUlsiG"
      },
      "id": "Vb1AnAEUlsiG"
    },
    {
      "cell_type": "code",
      "source": [
        "n_repeats=5\n",
        "n_splits=5"
      ],
      "metadata": {
        "id": "gwWC421NqpxW"
      },
      "id": "gwWC421NqpxW",
      "execution_count": 23,
      "outputs": []
    },
    {
      "cell_type": "code",
      "source": [
        "path_to_max_label=\"/content/max_label.csv\"\n",
        "path_to_app=\"/content/cleaned_application.csv\"\n",
        "cleaned_app_df=pd.read_csv(path_to_app,index_col=0)\n",
        "max_df=pd.read_csv(path_to_max_label,index_col=0)"
      ],
      "metadata": {
        "id": "XJlCQwWJEl2_"
      },
      "id": "XJlCQwWJEl2_",
      "execution_count": 24,
      "outputs": []
    },
    {
      "cell_type": "code",
      "source": [
        "dep_var=\"status\"\n",
        "random_state=42"
      ],
      "metadata": {
        "id": "DoxeFDv6Mgj8"
      },
      "id": "DoxeFDv6Mgj8",
      "execution_count": 25,
      "outputs": []
    },
    {
      "cell_type": "markdown",
      "source": [
        "Sort by median income of job to give a ordering to the jobs"
      ],
      "metadata": {
        "id": "gWn5S5FRTFWX"
      },
      "id": "gWn5S5FRTFWX"
    },
    {
      "cell_type": "code",
      "source": [
        "order=cleaned_app_df.groupby(\"job\")[\"income\"].median().sort_values()"
      ],
      "metadata": {
        "id": "zieu69u9S3r9"
      },
      "id": "zieu69u9S3r9",
      "execution_count": 26,
      "outputs": []
    },
    {
      "cell_type": "code",
      "source": [
        "cleaned_app_df[\"job\"]=cleaned_app_df[\"job\"].replace(order)"
      ],
      "metadata": {
        "id": "Vq37hbF7TC0v"
      },
      "id": "Vq37hbF7TC0v",
      "execution_count": 27,
      "outputs": []
    },
    {
      "cell_type": "code",
      "source": [
        "train_df=max_df.merge(cleaned_app_df,how=\"inner\",on=\"id\").drop(\"id\",axis=1)"
      ],
      "metadata": {
        "id": "ZEu51Hh-LyC5"
      },
      "id": "ZEu51Hh-LyC5",
      "execution_count": 29,
      "outputs": []
    },
    {
      "cell_type": "code",
      "source": [
        "numerical_transformer = StandardScaler()\n",
        "categorical_transformer=OneHotEncoder()\n",
        "ord_transformer=OrdinalEncoder()"
      ],
      "metadata": {
        "id": "JqwrdVI-75AF"
      },
      "id": "JqwrdVI-75AF",
      "execution_count": 30,
      "outputs": []
    },
    {
      "cell_type": "code",
      "source": [
        "X,y=train_df.drop(columns=dep_var),train_df[dep_var]"
      ],
      "metadata": {
        "id": "V03vSX3e8BDr"
      },
      "id": "V03vSX3e8BDr",
      "execution_count": 31,
      "outputs": []
    },
    {
      "cell_type": "code",
      "source": [
        "categorical_cols = [cname for cname in X.columns if X[cname].nunique() < 10 and \n",
        "                        X[cname].dtype == \"object\"]\n",
        "numerical_cols = [cname for cname in X.columns if X[cname].dtype in ['int64', 'float64']]\n"
      ],
      "metadata": {
        "id": "PxZXExPK77oD"
      },
      "id": "PxZXExPK77oD",
      "execution_count": 32,
      "outputs": []
    },
    {
      "cell_type": "code",
      "source": [
        "preprocessor = ColumnTransformer(\n",
        "    transformers=[\n",
        "        ('num', numerical_transformer, numerical_cols),\n",
        "        ('cat', categorical_transformer, categorical_cols),\n",
        "        ('ord',ord_transformer,['job'])\n",
        "    ])"
      ],
      "metadata": {
        "id": "GUdPAjpk76qY"
      },
      "id": "GUdPAjpk76qY",
      "execution_count": 33,
      "outputs": []
    },
    {
      "cell_type": "code",
      "source": [
        "xs=preprocessor.fit_transform(X)"
      ],
      "metadata": {
        "id": "sBxqujKg8FDR"
      },
      "id": "sBxqujKg8FDR",
      "execution_count": 34,
      "outputs": []
    },
    {
      "cell_type": "code",
      "source": [
        "score_df=pd.DataFrame()"
      ],
      "metadata": {
        "id": "gpCTr2Oh_t_Q"
      },
      "id": "gpCTr2Oh_t_Q",
      "execution_count": 35,
      "outputs": []
    },
    {
      "cell_type": "markdown",
      "source": [
        "We will be doing cross validation with StratifiedKFold =5 and 5 repeats.\n",
        "We use StratifiedKFold instead of Kfold to perserve  the percentage of samples for each class."
      ],
      "metadata": {
        "id": "pvixVAlrN2nf"
      },
      "id": "pvixVAlrN2nf"
    },
    {
      "cell_type": "code",
      "source": [
        "cv = RepeatedStratifiedKFold(n_splits=n_splits, n_repeats=n_repeats, random_state=random_state)"
      ],
      "metadata": {
        "id": "Uk6kEisNN2AP"
      },
      "id": "Uk6kEisNN2AP",
      "execution_count": 36,
      "outputs": []
    },
    {
      "cell_type": "code",
      "source": [
        "# dataframe of scores to be converted into plot later\n",
        "score_df=pd.DataFrame()"
      ],
      "metadata": {
        "id": "nQxbNZZ4OAlw"
      },
      "id": "nQxbNZZ4OAlw",
      "execution_count": 37,
      "outputs": []
    },
    {
      "cell_type": "markdown",
      "source": [
        "\n",
        "* AUC is classification-threshold-invariant. It measures the quality of the model's predictions irrespective of what classification threshold is chosen. \n",
        "https://developers.google.com/machine-learning/crash-course/classification/roc-and-auc\n",
        "* Thus we choose AUC as the banks who use the models can determine their own threshold risk probability for bad users and calculate their expected value/loss for these bad users and give them an appropriate interest rate when extending credit to them\n"
      ],
      "metadata": {
        "id": "otetLM2TJYq6"
      },
      "id": "otetLM2TJYq6"
    },
    {
      "cell_type": "markdown",
      "source": [
        "There is very little linearity in the imbalanced dataset for the linear dividing line of logisitic regression to work on. This can be seen from the low level of correlation in the table below where all variables have correlation between -0.03 and 0.03 and logisitic regression will be similar to random guessing so we do not try logisitic regression"
      ],
      "metadata": {
        "id": "3HTQ7PwT-kzj"
      },
      "id": "3HTQ7PwT-kzj"
    },
    {
      "cell_type": "code",
      "source": [
        "import matplotlib.pyplot as plt\n",
        "import seaborn as sns\n",
        "plt.subplots(figsize=(12,5))\n",
        "status_correlation=train_df.corr()[[\"status\"]]\n",
        "sns.heatmap(status_correlation,annot=True,cmap='RdPu')\n",
        "plt.title('Correlation between the variables')\n",
        "plt.xticks(rotation=45)"
      ],
      "metadata": {
        "colab": {
          "base_uri": "https://localhost:8080/",
          "height": 372
        },
        "id": "w6bfiUl3Oehq",
        "outputId": "25445402-9181-4373-8c80-9ff31e6bd767"
      },
      "id": "w6bfiUl3Oehq",
      "execution_count": 38,
      "outputs": [
        {
          "output_type": "execute_result",
          "data": {
            "text/plain": [
              "(array([0.5]), <a list of 1 Text major ticklabel objects>)"
            ]
          },
          "metadata": {},
          "execution_count": 38
        },
        {
          "output_type": "display_data",
          "data": {
            "text/plain": [
              "<Figure size 864x360 with 2 Axes>"
            ],
            "image/png": "[encoded data removed]"
          },
          "metadata": {
            "needs_background": "light"
          }
        }
      ]
    },
    {
      "cell_type": "markdown",
      "source": [
        "We cannot choose k= sqrt(len(X_train)) as it would be very hard to detect the minority class"
      ],
      "metadata": {
        "id": "tBDScAaj9sfb"
      },
      "id": "tBDScAaj9sfb"
    },
    {
      "cell_type": "code",
      "source": [
        "# try different K values\n",
        "bestscore=0\n",
        "bestmodel=None\n",
        "for i in range(1,6,2):\n",
        "    scores=[]\n",
        "    for train_index, test_index in cv.split(xs,y):\n",
        "          X_train = xs[train_index]\n",
        "          y_train = y[train_index]\n",
        "          X_test = xs[test_index]\n",
        "          y_test = y[test_index]\n",
        "          model = KNeighborsClassifier(i)\n",
        "          model.fit(X_train, y_train)  \n",
        "          y_pred = model.predict(X_test)\n",
        "          score=roc_auc_score(y_test,y_pred)\n",
        "          if score>bestscore:\n",
        "              bestmodel=model\n",
        "              bestscore=score\n",
        "              print(f\"KNN {i} with best score of {score}\")\n",
        "          scores.append(roc_auc_score(y_test,y_pred))\n",
        "    score_df[\"KNN\"+str(i)]=scores\n",
        "    print(f\"KNN {i} with avg score of {np.array(scores).median()}\")"
      ],
      "metadata": {
        "colab": {
          "base_uri": "https://localhost:8080/"
        },
        "id": "WL5QVGSF8xI3",
        "outputId": "01880865-fadf-451c-90cc-2da703e2733e"
      },
      "id": "WL5QVGSF8xI3",
      "execution_count": null,
      "outputs": [
        {
          "output_type": "stream",
          "name": "stdout",
          "text": [
            "KNN 1 with best score of 0.6395611467138573\n",
            "KNN 1 with best score of 0.6510423572904145\n",
            "KNN 1 with best score of 0.6586509247009791\n"
          ]
        }
      ]
    },
    {
      "cell_type": "markdown",
      "source": [
        "Knn with small K (1) is more able to detect the minority class in a imbalanced dataset. However, this would make this model more prone to noise"
      ],
      "metadata": {
        "id": "jpwucJst-zNx"
      },
      "id": "jpwucJst-zNx"
    },
    {
      "cell_type": "code",
      "source": [
        "bestscore=0\n",
        "bestmodel=None\n",
        "scores=[]\n",
        "for train_index, test_index in cv.split(xs,y):\n",
        "      X_train = xs[train_index]\n",
        "      y_train = y[train_index]\n",
        "      X_test = xs[test_index]\n",
        "      y_test = y[test_index]\n",
        "      model = DecisionTreeClassifier(random_state=random_state)\n",
        "      model.fit(X_train, y_train )  \n",
        "      y_pred = model.predict(X_test)\n",
        "      score=roc_auc_score(y_test,y_pred)\n",
        "      if score>bestscore:\n",
        "          bestmodel=model\n",
        "          bestscore=score\n",
        "          print(f\"DecisionTreeClassifier with best score of {score}\")\n",
        "      scores.append(roc_auc_score(y_test,y_pred))\n",
        "score_df[\"DecisionTreeClassifier\"]=scores\n",
        "print(f\"DecisionTreeClassifier with avg score of {np.array(scores).median()}\")"
      ],
      "metadata": {
        "id": "pRQKOGTD_J7V"
      },
      "id": "pRQKOGTD_J7V",
      "execution_count": null,
      "outputs": []
    },
    {
      "cell_type": "code",
      "source": [
        "bestscore=0\n",
        "bestmodel=None\n",
        "scores=[]\n",
        "for train_index, test_index in cv.split(xs,y):\n",
        "      X_train = xs[train_index]\n",
        "      y_train = y[train_index]\n",
        "      X_test = xs[test_index]\n",
        "      y_test = y[test_index]\n",
        "      model = RandomForestClassifier(random_state=random_state,class_weight =\"balanced_subsample\")\n",
        "      model.fit(X_train, y_train )  \n",
        "      y_pred = model.predict(X_test)\n",
        "      score=roc_auc_score(y_test,y_pred)\n",
        "      if score>bestscore:\n",
        "          bestmodel=model\n",
        "          bestscore=score\n",
        "          print(f\"RandomForestClassifier with best score of {score}\")\n",
        "      scores.append(roc_auc_score(y_test,y_pred))\n",
        "score_df[\"RandomForestClassifier\"]=scores\n",
        "print(f\"RandomForestClassifier with avg score of {np.array(scores).median()}\")"
      ],
      "metadata": {
        "id": "JAzYtjtP_NEn"
      },
      "id": "JAzYtjtP_NEn",
      "execution_count": null,
      "outputs": []
    },
    {
      "cell_type": "markdown",
      "source": [
        "Random forests are an ensemble of decision trees and typically do better than decision trees"
      ],
      "metadata": {
        "id": "JmpS6xa2ADmq"
      },
      "id": "JmpS6xa2ADmq"
    },
    {
      "cell_type": "code",
      "source": [
        "score_df.to_csv(\"score.csv\")"
      ],
      "metadata": {
        "id": "yE6PtiH8bDfW"
      },
      "id": "yE6PtiH8bDfW",
      "execution_count": null,
      "outputs": []
    },
    {
      "cell_type": "markdown",
      "source": [
        "SMOTE works by selecting examples that are close in the feature space, drawing a line between the examples in the feature space and drawing a new sample at a point along that line and it is one method to deal with imbalanced data\n",
        "https://arxiv.org/abs/1106.1813"
      ],
      "metadata": {
        "id": "ThrsCgY8H66P"
      },
      "id": "ThrsCgY8H66P"
    },
    {
      "cell_type": "code",
      "source": [
        "# score Dataframe for model with smote \n",
        "score_df_smote=pd.DataFrame()"
      ],
      "metadata": {
        "id": "uq8VQ9ZDPPNy"
      },
      "id": "uq8VQ9ZDPPNy",
      "execution_count": null,
      "outputs": []
    },
    {
      "cell_type": "code",
      "source": [
        "bestscore=0\n",
        "bestmodel=None\n",
        "# we stop at k ==11 as it seems that the knn auc roc score drops off at k=7\n",
        "for i in range(1,12,2):\n",
        "    scores=[]\n",
        "    for train_index, test_index in cv.split(xs,y):\n",
        "        X_train = xs[train_index]\n",
        "        y_train = y[train_index]\n",
        "        X_test = xs[test_index]\n",
        "        y_test = y[test_index]\n",
        "        sm = SMOTE()\n",
        "        X_train_oversampled, y_train_oversampled = sm.fit_resample(X_train, y_train)\n",
        "        model = KNeighborsClassifier(i)\n",
        "        model.fit(X_train_oversampled, y_train_oversampled)  \n",
        "        y_pred = model.predict(X_test)\n",
        "        score=roc_auc_score(y_test,y_pred)\n",
        "        scores.append(score)\n",
        "        if score>bestscore:\n",
        "            bestmodel=model\n",
        "            bestscore=score\n",
        "            print(f\"KNN {i} with best score of {score}\")\n",
        "    score_df_smote[\"KNN\"+str(i)]=scores\n",
        "    print(f\"KNN {i} with avg score of {np.array(scores).median()}\")"
      ],
      "metadata": {
        "id": "LPQZgmXlPn-J"
      },
      "id": "LPQZgmXlPn-J",
      "execution_count": null,
      "outputs": []
    },
    {
      "cell_type": "markdown",
      "source": [
        "Smote works by using a random example from the minority class which is first chosen. Then k of the nearest neighbors for that example are found (k=5 is the default value which is used here). A randomly selected neighbor is chosen and a synthetic example is created at a randomly selected point between the two examples in feature space. Thus, smote is essentially overfitting our KNN classifier\n",
        "https://machinelearningmastery.com/smote-oversampling-for-imbalanced-classification/"
      ],
      "metadata": {
        "id": "zLxPvcmdkgzz"
      },
      "id": "zLxPvcmdkgzz"
    },
    {
      "cell_type": "code",
      "source": [
        "bestscore=0\n",
        "bestmodel=None\n",
        "scores=[]\n",
        "for train_index, test_index in cv.split(xs,y):\n",
        "      X_train = xs[train_index]\n",
        "      y_train = y[train_index]\n",
        "      X_test = xs[test_index]\n",
        "      y_test = y[test_index]\n",
        "      sm = SMOTE()\n",
        "      X_train_oversampled, y_train_oversampled = sm.fit_resample(X_train, y_train)\n",
        "      model = DecisionTreeClassifier(random_state=random_state)\n",
        "      model.fit(X_train_oversampled, y_train_oversampled )  \n",
        "      y_pred = model.predict(X_test)\n",
        "      score=roc_auc_score(y_test,y_pred)\n",
        "      scores.append(score)\n",
        "      if score>bestscore:\n",
        "            bestmodel=model\n",
        "            bestscore=score\n",
        "            print(f\"DecisionTreeClassifier with best score of {score}\")\n",
        "score_df_smote[\"DecisionTreeClassifier\"]=scores\n",
        "print(f\"DecisionTreeClassifier with avg score of {np.array(scores).median()}\")"
      ],
      "metadata": {
        "id": "6wycaO_HQOCt"
      },
      "id": "6wycaO_HQOCt",
      "execution_count": null,
      "outputs": []
    },
    {
      "cell_type": "code",
      "source": [
        "bestscore=0\n",
        "bestmodel=None\n",
        "scores=[]\n",
        "for train_index, test_index in cv.split(xs,y):\n",
        "      X_train = xs[train_index]\n",
        "      y_train = y[train_index]\n",
        "      X_test = xs[test_index]\n",
        "      y_test = y[test_index]\n",
        "      sm = SMOTE()\n",
        "      X_train_oversampled, y_train_oversampled = sm.fit_resample(X_train, y_train)\n",
        "      model = RandomForestClassifier(random_state=random_state)\n",
        "      model.fit(X_train_oversampled, y_train_oversampled)  \n",
        "      y_pred = model.predict(X_test)\n",
        "      score=roc_auc_score(y_test,y_pred)\n",
        "      scores.append(score)\n",
        "      if score>bestscore:\n",
        "            bestmodel=model\n",
        "            bestscore=score\n",
        "            print(f\"RandomForestClassifier with best score of {score}\")\n",
        "score_df_smote[\"RandomForestClassifier\"]=scores\n",
        "print(f\"RandomForestClassifier with avg score of {np.array(scores).median()}\")"
      ],
      "metadata": {
        "id": "gvxhBwzRQm7f"
      },
      "id": "gvxhBwzRQm7f",
      "execution_count": null,
      "outputs": []
    },
    {
      "cell_type": "markdown",
      "source": [
        "Surpisingly, smote actually deproves auc score across the trees models but improves knn , suggesting that the orginial data is quite noisy, and creating sythenic data will only add on to the noise."
      ],
      "metadata": {
        "id": "QM_sVAKLPuIp"
      },
      "id": "QM_sVAKLPuIp"
    },
    {
      "cell_type": "code",
      "source": [
        "score_df_smote.to_csv(\"score_smote.csv\")"
      ],
      "metadata": {
        "id": "iHOPGiqRbJsH"
      },
      "id": "iHOPGiqRbJsH",
      "execution_count": null,
      "outputs": []
    },
    {
      "cell_type": "markdown",
      "source": [
        "Thus,we could also try totem links on knn and rf."
      ],
      "metadata": {
        "id": "zG_hWTsKQPkT"
      },
      "id": "zG_hWTsKQPkT"
    },
    {
      "cell_type": "code",
      "source": [
        "from imblearn.under_sampling import TomekLinks"
      ],
      "metadata": {
        "id": "xS81wLi-PhED"
      },
      "id": "xS81wLi-PhED",
      "execution_count": null,
      "outputs": []
    },
    {
      "cell_type": "code",
      "source": [
        "#totem link dataframe\n",
        "score_df_tl=pd.DataFrame()"
      ],
      "metadata": {
        "id": "v0CnXS8SZEAF"
      },
      "id": "v0CnXS8SZEAF",
      "execution_count": null,
      "outputs": []
    },
    {
      "cell_type": "code",
      "source": [
        "bestscore=0\n",
        "bestmodel=None\n",
        "scores=[]\n",
        "# we stop at k ==9 as it seems that the knn auc roc score drops off at k=7\n",
        "for i in range(1,10,2):\n",
        "    scores=[]\n",
        "    for train_index, test_index in cv.split(xs,y):\n",
        "        X_train = xs[train_index]\n",
        "        y_train = y[train_index]\n",
        "        X_test = xs[test_index]\n",
        "        y_test = y[test_index]\n",
        "        tl = TomekLinks()\n",
        "        X_train_undersampled, y_train_undersampled = tl.fit_resample(X_train, y_train)\n",
        "        model = KNeighborsClassifier(i)\n",
        "        model.fit(X_train_undersampled, y_train_undersampled)  \n",
        "        y_pred = model.predict(X_test)\n",
        "        score=roc_auc_score(y_test,y_pred)\n",
        "        scores.append(score)\n",
        "        if score>bestscore:\n",
        "            bestmodel=model\n",
        "            bestscore=score\n",
        "            print(f\"KNN {i} with best score of {score}\")\n",
        "    score_df_tl[\"KNN\"+str(i)]=scores\n",
        "    print(f\"KNN {i} with avg score of {np.array(scores).median()}\")"
      ],
      "metadata": {
        "id": "na0a8ibbYjyN"
      },
      "id": "na0a8ibbYjyN",
      "execution_count": null,
      "outputs": []
    },
    {
      "cell_type": "code",
      "source": [
        "bestscore=0\n",
        "bestmodel=None\n",
        "scores=[]\n",
        "for train_index, test_index in cv.split(xs,y):\n",
        "      X_train = xs[train_index]\n",
        "      y_train = y[train_index]\n",
        "      X_test = xs[test_index]\n",
        "      y_test = y[test_index]\n",
        "      sm = SMOTE()\n",
        "      X_train_undersampled, y_train_undersampled = tl.fit_resample(X_train, y_train)\n",
        "      model = RandomForestClassifier(random_state=random_state)\n",
        "      model.fit(X_train_undersampled, y_train_undersampled)   \n",
        "      y_pred = model.predict(X_test)\n",
        "      score=roc_auc_score(y_test,y_pred)\n",
        "      scores.append(score)\n",
        "      if score>bestscore:\n",
        "            bestmodel=model\n",
        "            bestscore=score\n",
        "            print(f\"RandomForestClassifier with best score of {score}\")\n",
        "score_df_tl[\"RandomForestClassifier\"]=scores\n",
        "print(f\"RandomForestClassifier with avg score of {np.array(scores).median()}\")"
      ],
      "metadata": {
        "id": "njq-1Ro9Y92x"
      },
      "id": "njq-1Ro9Y92x",
      "execution_count": null,
      "outputs": []
    },
    {
      "cell_type": "code",
      "source": [
        "score_df_tl.to_csv(\"score_tl.csv\")"
      ],
      "metadata": {
        "id": "x3VY5pyWbN3e"
      },
      "id": "x3VY5pyWbN3e",
      "execution_count": null,
      "outputs": []
    }
  ],
  "metadata": {
    "kernelspec": {
      "display_name": "Python 3.10.0 64-bit",
      "language": "python",
      "name": "python3"
    },
    "language_info": {
      "codemirror_mode": {
        "name": "ipython",
        "version": 3
      },
      "file_extension": ".py",
      "mimetype": "text/x-python",
      "name": "python",
      "nbconvert_exporter": "python",
      "pygments_lexer": "ipython3",
      "version": "3.10.0"
    },
    "vscode": {
      "interpreter": {
        "hash": "525f50cd3df40e9d57f214b2f9bedadf4bf08c85f9f5b3b27734de5b2eace747"
      }
    },
    "colab": {
      "provenance": [],
      "collapsed_sections": [],
      "include_colab_link": true
    }
  },
  "nbformat": 4,
  "nbformat_minor": 5
}