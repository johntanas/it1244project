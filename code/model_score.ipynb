{
  "cells": [
    {
      "cell_type": "markdown",
      "metadata": {
        "id": "view-in-github",
        "colab_type": "text"
      },
      "source": [
        "<a href=\"https://colab.research.google.com/github/johntanas/it1244project/blob/main/code/model_score.ipynb\" target=\"_parent\"><img src=\"https://colab.research.google.com/assets/colab-badge.svg\" alt=\"Open In Colab\"/></a>"
      ]
    },
    {
      "cell_type": "code",
      "execution_count": 43,
      "id": "5179ea71",
      "metadata": {
        "id": "5179ea71"
      },
      "outputs": [],
      "source": [
        "import pandas as pd\n",
        "import numpy as np\n",
        "from sklearn.preprocessing import StandardScaler,OneHotEncoder,OrdinalEncoder\n",
        "from sklearn.compose import ColumnTransformer\n",
        "from sklearn.model_selection import RepeatedStratifiedKFold,cross_val_score\n",
        "from sklearn.linear_model import LogisticRegression\n",
        "from sklearn.neighbors import KNeighborsClassifier\n",
        "from sklearn.tree import DecisionTreeClassifier\n",
        "from sklearn.ensemble import RandomForestClassifier\n",
        "from sklearn.metrics import classification_report\n",
        "from imblearn.over_sampling import SMOTE\n",
        "from sklearn.metrics import roc_auc_score,average_precision_score,SCORERS"
      ]
    },
    {
      "cell_type": "code",
      "execution_count": 44,
      "id": "gwWC421NqpxW",
      "metadata": {
        "id": "gwWC421NqpxW"
      },
      "outputs": [],
      "source": [
        "n_repeats=1\n",
        "n_splits=5"
      ]
    },
    {
      "cell_type": "code",
      "execution_count": 45,
      "id": "XJlCQwWJEl2_",
      "metadata": {
        "id": "XJlCQwWJEl2_"
      },
      "outputs": [],
      "source": [
        "path_to_max_label=\"../content/max_label.csv\"\n",
        "path_to_app=\"../content/cleaned_application.csv\"\n",
        "cleaned_app_df=pd.read_csv(path_to_app,index_col=0)\n",
        "max_df=pd.read_csv(path_to_max_label,index_col=0)"
      ]
    },
    {
      "cell_type": "code",
      "execution_count": 46,
      "id": "DoxeFDv6Mgj8",
      "metadata": {
        "id": "DoxeFDv6Mgj8"
      },
      "outputs": [],
      "source": [
        "dep_var=\"status\"\n",
        "random_state=42"
      ]
    },
    {
      "cell_type": "markdown",
      "id": "gWn5S5FRTFWX",
      "metadata": {
        "id": "gWn5S5FRTFWX"
      },
      "source": [
        "Sort by median income of job to give a ordering to the jobs"
      ]
    },
    {
      "cell_type": "code",
      "execution_count": 47,
      "id": "zieu69u9S3r9",
      "metadata": {
        "id": "zieu69u9S3r9"
      },
      "outputs": [],
      "source": [
        "order=cleaned_app_df.groupby(\"job\")[\"income\"].median().sort_values()"
      ]
    },
    {
      "cell_type": "code",
      "execution_count": 48,
      "id": "Vq37hbF7TC0v",
      "metadata": {
        "id": "Vq37hbF7TC0v"
      },
      "outputs": [],
      "source": [
        "cleaned_app_df[\"job\"]=cleaned_app_df[\"job\"].replace(order)"
      ]
    },
    {
      "cell_type": "code",
      "execution_count": 49,
      "id": "ZEu51Hh-LyC5",
      "metadata": {
        "id": "ZEu51Hh-LyC5"
      },
      "outputs": [],
      "source": [
        "train_df=max_df.merge(cleaned_app_df,how=\"inner\",on=\"id\").drop(\"id\",axis=1)"
      ]
    },
    {
      "cell_type": "code",
      "execution_count": 50,
      "id": "JqwrdVI-75AF",
      "metadata": {
        "id": "JqwrdVI-75AF"
      },
      "outputs": [],
      "source": [
        "numerical_transformer = StandardScaler()\n",
        "categorical_transformer=OneHotEncoder()\n",
        "ord_transformer=OrdinalEncoder()"
      ]
    },
    {
      "cell_type": "code",
      "execution_count": 51,
      "id": "V03vSX3e8BDr",
      "metadata": {
        "id": "V03vSX3e8BDr"
      },
      "outputs": [],
      "source": [
        "X,y=train_df.drop(columns=dep_var),train_df[dep_var]"
      ]
    },
    {
      "cell_type": "code",
      "execution_count": 52,
      "id": "PxZXExPK77oD",
      "metadata": {
        "id": "PxZXExPK77oD"
      },
      "outputs": [],
      "source": [
        "categorical_cols = [cname for cname in X.columns if X[cname].nunique() < 10 and \n",
        "                        X[cname].dtype == \"object\"]\n",
        "numerical_cols = [cname for cname in X.columns if X[cname].dtype in ['int64', 'float64']]\n"
      ]
    },
    {
      "cell_type": "code",
      "execution_count": 140,
      "id": "GUdPAjpk76qY",
      "metadata": {
        "id": "GUdPAjpk76qY"
      },
      "outputs": [],
      "source": [
        "preprocessor = ColumnTransformer(\n",
        "    transformers=[\n",
        "        ('num', numerical_transformer, numerical_cols),\n",
        "        ('cat', categorical_transformer, categorical_cols),\n",
        "        ('ord',ord_transformer,['job'])\n",
        "    ])"
      ]
    },
    {
      "cell_type": "code",
      "execution_count": 143,
      "id": "sBxqujKg8FDR",
      "metadata": {
        "id": "sBxqujKg8FDR"
      },
      "outputs": [],
      "source": [
        "xs=preprocessor.fit_transform(X)"
      ]
    },
    {
      "cell_type": "code",
      "source": [
        "#https://stackoverflow.com/questions/67554372/get-feature-names-of-columntransformer-using-standarscaler-and-one-hot-encoding\n",
        "tx = preprocessor.get_params()['transformers']\n",
        "feature_names = []\n",
        "for name,transformer,features in tx:\n",
        "    try:\n",
        "        Var = preprocessor.named_transformers_[name].get_feature_names().tolist()\n",
        "        print(Var)\n",
        "    except AttributeError:\n",
        "        print(features)\n",
        "        Var = features\n",
        "    feature_names = feature_names + Var"
      ],
      "metadata": {
        "id": "yLJ6Nz_DF3iJ",
        "outputId": "4b64698f-08a3-4267-abff-6058c31a3201",
        "colab": {
          "base_uri": "https://localhost:8080/"
        }
      },
      "id": "yLJ6Nz_DF3iJ",
      "execution_count": 146,
      "outputs": [
        {
          "output_type": "stream",
          "name": "stdout",
          "text": [
            "['num_child', 'income', 'birth_day', 'employment_length', 'work_phone', 'phone', 'email', 'job', 'CNT_FAM_MEMBERS']\n",
            "['x0_F', 'x0_M', 'x1_N', 'x1_Y', 'x2_N', 'x2_Y', 'x3_Commercial associate', 'x3_Pensioner', 'x3_State servant', 'x3_Student', 'x3_Working', 'x4_Academic degree', 'x4_Higher education', 'x4_Incomplete higher', 'x4_Lower secondary', 'x4_Secondary / secondary special', 'x5_Civil marriage', 'x5_Married', 'x5_Separated', 'x5_Single / not married', 'x5_Widow', 'x6_Co-op apartment', 'x6_House / apartment', 'x6_Municipal apartment', 'x6_Office apartment', 'x6_Rented apartment', 'x6_With parents']\n",
            "['job']\n"
          ]
        }
      ]
    },
    {
      "cell_type": "code",
      "execution_count": 55,
      "id": "gpCTr2Oh_t_Q",
      "metadata": {
        "id": "gpCTr2Oh_t_Q"
      },
      "outputs": [],
      "source": [
        "score_df=pd.DataFrame()"
      ]
    },
    {
      "cell_type": "markdown",
      "id": "pvixVAlrN2nf",
      "metadata": {
        "id": "pvixVAlrN2nf"
      },
      "source": [
        "We will be doing cross validation with StratifiedKFold =5 and 5 repeats.\n",
        "We use StratifiedKFold instead of Kfold to perserve  the percentage of samples for each class."
      ]
    },
    {
      "cell_type": "code",
      "execution_count": 56,
      "id": "Uk6kEisNN2AP",
      "metadata": {
        "id": "Uk6kEisNN2AP"
      },
      "outputs": [],
      "source": [
        "cv = RepeatedStratifiedKFold(n_splits=n_splits, n_repeats=n_repeats, random_state=random_state)"
      ]
    },
    {
      "cell_type": "code",
      "execution_count": 57,
      "id": "nQxbNZZ4OAlw",
      "metadata": {
        "id": "nQxbNZZ4OAlw"
      },
      "outputs": [],
      "source": [
        "# dataframe of scores to be converted into plot later\n",
        "score_df=pd.DataFrame()"
      ]
    },
    {
      "cell_type": "markdown",
      "id": "otetLM2TJYq6",
      "metadata": {
        "id": "otetLM2TJYq6"
      },
      "source": [
        "\n",
        "* AUC is classification-threshold-invariant. It measures the quality of the model's predictions irrespective of what classification threshold is chosen. \n",
        "https://developers.google.com/machine-learning/crash-course/classification/roc-and-auc\n",
        "* Thus we choose AUC as the banks who use the models can determine their own threshold risk probability for bad users and calculate their expected value/loss for these bad users and give them an appropriate interest rate when extending credit to them\n"
      ]
    },
    {
      "cell_type": "markdown",
      "id": "3HTQ7PwT-kzj",
      "metadata": {
        "id": "3HTQ7PwT-kzj"
      },
      "source": [
        "There is very little linearity in the imbalanced dataset for the linear dividing line of logisitic regression to work on. This can be seen from the low level of correlation in the table below where all variables have correlation between -0.03 and 0.03 and logisitic regression will be similar to random guessing so we do not try logisitic regression"
      ]
    },
    {
      "cell_type": "code",
      "execution_count": 58,
      "id": "w6bfiUl3Oehq",
      "metadata": {
        "colab": {
          "base_uri": "https://localhost:8080/",
          "height": 372
        },
        "id": "w6bfiUl3Oehq",
        "outputId": "5f523e6f-85e6-47a0-f32c-1f78fcbed140"
      },
      "outputs": [
        {
          "output_type": "execute_result",
          "data": {
            "text/plain": [
              "(array([0.5]), <a list of 1 Text major ticklabel objects>)"
            ]
          },
          "metadata": {},
          "execution_count": 58
        },
        {
          "output_type": "display_data",
          "data": {
            "text/plain": [
              "<Figure size 864x360 with 2 Axes>"
            ],
            "image/png": "[encoded data removed]"
          },
          "metadata": {
            "needs_background": "light"
          }
        }
      ],
      "source": [
        "import matplotlib.pyplot as plt\n",
        "import seaborn as sns\n",
        "plt.subplots(figsize=(12,5))\n",
        "status_correlation=train_df.corr()[[\"status\"]]\n",
        "sns.heatmap(status_correlation,annot=True,cmap='RdPu')\n",
        "plt.title('Correlation between the variables')\n",
        "plt.xticks(rotation=45)"
      ]
    },
    {
      "cell_type": "markdown",
      "id": "tBDScAaj9sfb",
      "metadata": {
        "id": "tBDScAaj9sfb"
      },
      "source": [
        "We cannot choose k= sqrt(len(X_train)) as it would be very hard to detect the minority class"
      ]
    },
    {
      "cell_type": "code",
      "execution_count": 59,
      "id": "WL5QVGSF8xI3",
      "metadata": {
        "colab": {
          "base_uri": "https://localhost:8080/"
        },
        "id": "WL5QVGSF8xI3",
        "outputId": "5f90209d-d7f9-49aa-85eb-223acaa514a8"
      },
      "outputs": [
        {
          "output_type": "stream",
          "name": "stdout",
          "text": [
            "KNN 1 with best score of 0.6395611467138573\n",
            "KNN 1 with best score of 0.6510423572904145\n",
            "KNN 1 with best score of 0.6586509247009791\n",
            "KNN 1 with avg score of 0.6510423572904145\n",
            "KNN 3 with avg score of 0.626180808104961\n",
            "KNN 5 with avg score of 0.5899605081264804\n"
          ]
        }
      ],
      "source": [
        "# try different K values\n",
        "bestscore=0\n",
        "bestmodel=None\n",
        "for i in range(1,6,2):\n",
        "    scores=[]\n",
        "    for train_index, test_index in cv.split(xs,y):\n",
        "          X_train = xs[train_index]\n",
        "          y_train = y[train_index]\n",
        "          X_test = xs[test_index]\n",
        "          y_test = y[test_index]\n",
        "          model = KNeighborsClassifier(i)\n",
        "          model.fit(X_train, y_train)  \n",
        "          y_pred = model.predict(X_test)\n",
        "          score=roc_auc_score(y_test,y_pred)\n",
        "          if score>bestscore:\n",
        "              bestmodel=model\n",
        "              bestscore=score\n",
        "              print(f\"KNN {i} with best score of {score}\")\n",
        "          scores.append(roc_auc_score(y_test,y_pred))\n",
        "    score_df[\"KNN\"+str(i)]=scores\n",
        "    print(f\"KNN {i} with avg score of {np.median(np.array(scores))}\")"
      ]
    },
    {
      "cell_type": "markdown",
      "id": "jpwucJst-zNx",
      "metadata": {
        "id": "jpwucJst-zNx"
      },
      "source": [
        "Knn with small K (1) is more able to detect the minority class in a imbalanced dataset. However, this would make this model more prone to noise"
      ]
    },
    {
      "cell_type": "code",
      "execution_count": 61,
      "id": "JAzYtjtP_NEn",
      "metadata": {
        "id": "JAzYtjtP_NEn",
        "outputId": "1a26e1f7-2716-48fa-931c-9e54bf44f99d",
        "colab": {
          "base_uri": "https://localhost:8080/"
        }
      },
      "outputs": [
        {
          "output_type": "stream",
          "name": "stdout",
          "text": [
            "RandomForestClassifier with best score of 0.695799471113277\n",
            "RandomForestClassifier with best score of 0.6988250067205616\n",
            "RandomForestClassifier with best score of 0.7115991552879475\n",
            "RandomForestClassifier with avg score of 0.6960962505032146\n"
          ]
        }
      ],
      "source": [
        "bestscore=0\n",
        "bestmodel=None\n",
        "scores=[]\n",
        "for train_index, test_index in cv.split(xs,y):\n",
        "      X_train = xs[train_index]\n",
        "      y_train = y[train_index]\n",
        "      X_test = xs[test_index]\n",
        "      y_test = y[test_index]\n",
        "      model = RandomForestClassifier(random_state=random_state,class_weight =\"balanced_subsample\")\n",
        "      model.fit(X_train, y_train )  \n",
        "      y_pred = model.predict(X_test)\n",
        "      score=roc_auc_score(y_test,y_pred)\n",
        "      if score>bestscore:\n",
        "          bestmodel=model\n",
        "          bestscore=score\n",
        "          print(f\"RandomForestClassifier with best score of {score}\")\n",
        "      scores.append(roc_auc_score(y_test,y_pred))\n",
        "score_df[\"RandomForestClassifier\"]=scores\n",
        "print(f\"RandomForestClassifier with avg score of {np.median(np.array(scores))}\")"
      ]
    },
    {
      "cell_type": "markdown",
      "id": "JmpS6xa2ADmq",
      "metadata": {
        "id": "JmpS6xa2ADmq"
      },
      "source": [
        "Random forests are an ensemble of decision trees and typically do better than decision trees so we do not use decision trees here. The random forest is able to construct association rules with the target, finding some temporal or causal relations."
      ]
    },
    {
      "cell_type": "code",
      "source": [
        "X.nunique()"
      ],
      "metadata": {
        "id": "Alsm6cs8C4v8",
        "outputId": "b8efe7e9-d904-413b-b490-af3d6716f30d",
        "colab": {
          "base_uri": "https://localhost:8080/"
        }
      },
      "id": "Alsm6cs8C4v8",
      "execution_count": 127,
      "outputs": [
        {
          "output_type": "execute_result",
          "data": {
            "text/plain": [
              "gender                  2\n",
              "own_car                 2\n",
              "own_realty              2\n",
              "num_child               9\n",
              "income                265\n",
              "income_type             5\n",
              "education_level         5\n",
              "family_status           5\n",
              "house_type              6\n",
              "birth_day            7183\n",
              "employment_length    4357\n",
              "work_phone              2\n",
              "phone                   2\n",
              "email                   2\n",
              "job                     7\n",
              "CNT_FAM_MEMBERS        10\n",
              "dtype: int64"
            ]
          },
          "metadata": {},
          "execution_count": 127
        }
      ]
    },
    {
      "cell_type": "code",
      "source": [
        "\n",
        "def rf_feat_importance(m, feature_names):\n",
        "    return pd.DataFrame({'cols':feature_names, 'imp':m.feature_importances_}\n",
        "                       ).sort_values('imp', ascending=False)\n",
        "fi = rf_feat_importance(bestmodel, feature_names)\n",
        "fi[:10]"
      ],
      "metadata": {
        "id": "XgQjOTwZFBcJ",
        "outputId": "3bdbd337-9992-43ac-d865-021c0339585e",
        "colab": {
          "base_uri": "https://localhost:8080/",
          "height": 363
        }
      },
      "id": "XgQjOTwZFBcJ",
      "execution_count": 147,
      "outputs": [
        {
          "output_type": "execute_result",
          "data": {
            "text/plain": [
              "                 cols       imp\n",
              "2           birth_day  0.227232\n",
              "3   employment_length  0.199039\n",
              "1              income  0.154910\n",
              "36                job  0.034736\n",
              "8     CNT_FAM_MEMBERS  0.033618\n",
              "7                 job  0.033079\n",
              "5               phone  0.027321\n",
              "0           num_child  0.025623\n",
              "4          work_phone  0.020748\n",
              "19         x3_Working  0.015215"
            ],
            "text/html": [
              "\n",
              "  <div id=\"df-4f6af6ce-7adc-44af-837a-10c7594852b7\">\n",
              "    <div class=\"colab-df-container\">\n",
              "      <div>\n",
              "<style scoped>\n",
              "    .dataframe tbody tr th:only-of-type {\n",
              "        vertical-align: middle;\n",
              "    }\n",
              "\n",
              "    .dataframe tbody tr th {\n",
              "        vertical-align: top;\n",
              "    }\n",
              "\n",
              "    .dataframe thead th {\n",
              "        text-align: right;\n",
              "    }\n",
              "</style>\n",
              "<table border=\"1\" class=\"dataframe\">\n",
              "  <thead>\n",
              "    <tr style=\"text-align: right;\">\n",
              "      <th></th>\n",
              "      <th>cols</th>\n",
              "      <th>imp</th>\n",
              "    </tr>\n",
              "  </thead>\n",
              "  <tbody>\n",
              "    <tr>\n",
              "      <th>2</th>\n",
              "      <td>birth_day</td>\n",
              "      <td>0.227232</td>\n",
              "    </tr>\n",
              "    <tr>\n",
              "      <th>3</th>\n",
              "      <td>employment_length</td>\n",
              "      <td>0.199039</td>\n",
              "    </tr>\n",
              "    <tr>\n",
              "      <th>1</th>\n",
              "      <td>income</td>\n",
              "      <td>0.154910</td>\n",
              "    </tr>\n",
              "    <tr>\n",
              "      <th>36</th>\n",
              "      <td>job</td>\n",
              "      <td>0.034736</td>\n",
              "    </tr>\n",
              "    <tr>\n",
              "      <th>8</th>\n",
              "      <td>CNT_FAM_MEMBERS</td>\n",
              "      <td>0.033618</td>\n",
              "    </tr>\n",
              "    <tr>\n",
              "      <th>7</th>\n",
              "      <td>job</td>\n",
              "      <td>0.033079</td>\n",
              "    </tr>\n",
              "    <tr>\n",
              "      <th>5</th>\n",
              "      <td>phone</td>\n",
              "      <td>0.027321</td>\n",
              "    </tr>\n",
              "    <tr>\n",
              "      <th>0</th>\n",
              "      <td>num_child</td>\n",
              "      <td>0.025623</td>\n",
              "    </tr>\n",
              "    <tr>\n",
              "      <th>4</th>\n",
              "      <td>work_phone</td>\n",
              "      <td>0.020748</td>\n",
              "    </tr>\n",
              "    <tr>\n",
              "      <th>19</th>\n",
              "      <td>x3_Working</td>\n",
              "      <td>0.015215</td>\n",
              "    </tr>\n",
              "  </tbody>\n",
              "</table>\n",
              "</div>\n",
              "      <button class=\"colab-df-convert\" onclick=\"convertToInteractive('df-4f6af6ce-7adc-44af-837a-10c7594852b7')\"\n",
              "              title=\"Convert this dataframe to an interactive table.\"\n",
              "              style=\"display:none;\">\n",
              "        \n",
              "  <svg xmlns=\"http://www.w3.org/2000/svg\" height=\"24px\"viewBox=\"0 0 24 24\"\n",
              "       width=\"24px\">\n",
              "    <path d=\"M0 0h24v24H0V0z\" fill=\"none\"/>\n",
              "    <path d=\"M18.56 5.44l.94 2.06.94-2.06 2.06-.94-2.06-.94-.94-2.06-.94 2.06-2.06.94zm-11 1L8.5 8.5l.94-2.06 2.06-.94-2.06-.94L8.5 2.5l-.94 2.06-2.06.94zm10 10l.94 2.06.94-2.06 2.06-.94-2.06-.94-.94-2.06-.94 2.06-2.06.94z\"/><path d=\"M17.41 7.96l-1.37-1.37c-.4-.4-.92-.59-1.43-.59-.52 0-1.04.2-1.43.59L10.3 9.45l-7.72 7.72c-.78.78-.78 2.05 0 2.83L4 21.41c.39.39.9.59 1.41.59.51 0 1.02-.2 1.41-.59l7.78-7.78 2.81-2.81c.8-.78.8-2.07 0-2.86zM5.41 20L4 18.59l7.72-7.72 1.47 1.35L5.41 20z\"/>\n",
              "  </svg>\n",
              "      </button>\n",
              "      \n",
              "  <style>\n",
              "    .colab-df-container {\n",
              "      display:flex;\n",
              "      flex-wrap:wrap;\n",
              "      gap: 12px;\n",
              "    }\n",
              "\n",
              "    .colab-df-convert {\n",
              "      background-color: #E8F0FE;\n",
              "      border: none;\n",
              "      border-radius: 50%;\n",
              "      cursor: pointer;\n",
              "      display: none;\n",
              "      fill: #1967D2;\n",
              "      height: 32px;\n",
              "      padding: 0 0 0 0;\n",
              "      width: 32px;\n",
              "    }\n",
              "\n",
              "    .colab-df-convert:hover {\n",
              "      background-color: #E2EBFA;\n",
              "      box-shadow: 0px 1px 2px rgba(60, 64, 67, 0.3), 0px 1px 3px 1px rgba(60, 64, 67, 0.15);\n",
              "      fill: #174EA6;\n",
              "    }\n",
              "\n",
              "    [theme=dark] .colab-df-convert {\n",
              "      background-color: #3B4455;\n",
              "      fill: #D2E3FC;\n",
              "    }\n",
              "\n",
              "    [theme=dark] .colab-df-convert:hover {\n",
              "      background-color: #434B5C;\n",
              "      box-shadow: 0px 1px 3px 1px rgba(0, 0, 0, 0.15);\n",
              "      filter: drop-shadow(0px 1px 2px rgba(0, 0, 0, 0.3));\n",
              "      fill: #FFFFFF;\n",
              "    }\n",
              "  </style>\n",
              "\n",
              "      <script>\n",
              "        const buttonEl =\n",
              "          document.querySelector('#df-4f6af6ce-7adc-44af-837a-10c7594852b7 button.colab-df-convert');\n",
              "        buttonEl.style.display =\n",
              "          google.colab.kernel.accessAllowed ? 'block' : 'none';\n",
              "\n",
              "        async function convertToInteractive(key) {\n",
              "          const element = document.querySelector('#df-4f6af6ce-7adc-44af-837a-10c7594852b7');\n",
              "          const dataTable =\n",
              "            await google.colab.kernel.invokeFunction('convertToInteractive',\n",
              "                                                     [key], {});\n",
              "          if (!dataTable) return;\n",
              "\n",
              "          const docLinkHtml = 'Like what you see? Visit the ' +\n",
              "            '<a target=\"_blank\" href=https://colab.research.google.com/notebooks/data_table.ipynb>data table notebook</a>'\n",
              "            + ' to learn more about interactive tables.';\n",
              "          element.innerHTML = '';\n",
              "          dataTable['output_type'] = 'display_data';\n",
              "          await google.colab.output.renderOutput(dataTable, element);\n",
              "          const docLink = document.createElement('div');\n",
              "          docLink.innerHTML = docLinkHtml;\n",
              "          element.appendChild(docLink);\n",
              "        }\n",
              "      </script>\n",
              "    </div>\n",
              "  </div>\n",
              "  "
            ]
          },
          "metadata": {},
          "execution_count": 147
        }
      ]
    },
    {
      "cell_type": "code",
      "source": [
        "def plot_fi(fi):\n",
        "    return fi.plot('cols', 'imp', 'barh', figsize=(12,7), legend=False)\n",
        "\n",
        "plot_fi(fi);"
      ],
      "metadata": {
        "id": "zBfmIARMAujC",
        "outputId": "ff03ec39-c423-4a7e-870f-199a1347e256",
        "colab": {
          "base_uri": "https://localhost:8080/",
          "height": 428
        }
      },
      "id": "zBfmIARMAujC",
      "execution_count": 148,
      "outputs": [
        {
          "output_type": "display_data",
          "data": {
            "text/plain": [
              "<Figure size 864x504 with 1 Axes>"
            ],
            "image/png": "[encoded data removed]"
          },
          "metadata": {
            "needs_background": "light"
          }
        }
      ]
    },
    {
      "cell_type": "markdown",
      "source": [
        "birthday , employment length and income are the strong learners for the random forest. The random forest is able to differentiate using these variables"
      ],
      "metadata": {
        "id": "yQFcomYqGG9e"
      },
      "id": "yQFcomYqGG9e"
    },
    {
      "cell_type": "markdown",
      "source": [],
      "metadata": {
        "id": "a_Tg4JDJBTXX"
      },
      "id": "a_Tg4JDJBTXX"
    },
    {
      "cell_type": "code",
      "execution_count": 62,
      "id": "yE6PtiH8bDfW",
      "metadata": {
        "id": "yE6PtiH8bDfW"
      },
      "outputs": [],
      "source": [
        "score_df.to_csv(\"../content/score.csv\")"
      ]
    },
    {
      "cell_type": "markdown",
      "id": "ThrsCgY8H66P",
      "metadata": {
        "id": "ThrsCgY8H66P"
      },
      "source": [
        "SMOTE works by selecting examples that are close in the feature space, drawing a line between the examples in the feature space and drawing a new sample at a point along that line and it is one method to deal with imbalanced data\n",
        "https://arxiv.org/abs/1106.1813"
      ]
    },
    {
      "cell_type": "code",
      "execution_count": 63,
      "id": "uq8VQ9ZDPPNy",
      "metadata": {
        "id": "uq8VQ9ZDPPNy"
      },
      "outputs": [],
      "source": [
        "# score Dataframe for model with smote \n",
        "score_df_smote=pd.DataFrame()"
      ]
    },
    {
      "cell_type": "code",
      "execution_count": 64,
      "id": "LPQZgmXlPn-J",
      "metadata": {
        "id": "LPQZgmXlPn-J",
        "outputId": "de152b13-b9fb-49b0-b95c-78a8b418f4a6",
        "colab": {
          "base_uri": "https://localhost:8080/"
        }
      },
      "outputs": [
        {
          "output_type": "stream",
          "name": "stdout",
          "text": [
            "KNN 1 with best score of 0.6421882982229109\n",
            "KNN 1 with best score of 0.6580342774001462\n",
            "KNN 1 with best score of 0.6639708677249482\n",
            "KNN 1 with avg score of 0.6580342774001462\n",
            "KNN 3 with best score of 0.6702242262633993\n",
            "KNN 3 with avg score of 0.6616074061675554\n",
            "KNN 5 with best score of 0.6818730798540051\n",
            "KNN 5 with best score of 0.6844468090193921\n",
            "KNN 5 with best score of 0.6896404284870008\n",
            "KNN 5 with avg score of 0.6822963942115194\n",
            "KNN 7 with avg score of 0.6773755701963844\n",
            "KNN 9 with avg score of 0.6730782818922102\n",
            "KNN 11 with avg score of 0.6719683021361604\n"
          ]
        }
      ],
      "source": [
        "bestscore=0\n",
        "bestmodel=None\n",
        "# we stop at k ==11 as it seems that the knn auc roc score drops off at k=7\n",
        "for i in range(1,12,2):\n",
        "    scores=[]\n",
        "    for train_index, test_index in cv.split(xs,y):\n",
        "        X_train = xs[train_index]\n",
        "        y_train = y[train_index]\n",
        "        X_test = xs[test_index]\n",
        "        y_test = y[test_index]\n",
        "        sm = SMOTE()\n",
        "        X_train_oversampled, y_train_oversampled = sm.fit_resample(X_train, y_train)\n",
        "        model = KNeighborsClassifier(i)\n",
        "        model.fit(X_train_oversampled, y_train_oversampled)  \n",
        "        y_pred = model.predict(X_test)\n",
        "        score=roc_auc_score(y_test,y_pred)\n",
        "        scores.append(score)\n",
        "        if score>bestscore:\n",
        "            bestmodel=model\n",
        "            bestscore=score\n",
        "            print(f\"KNN {i} with best score of {score}\")\n",
        "    score_df_smote[\"KNN\"+str(i)]=scores\n",
        "    print(f\"KNN {i} with avg score of {np.median(np.array(scores))}\")"
      ]
    },
    {
      "cell_type": "markdown",
      "id": "zLxPvcmdkgzz",
      "metadata": {
        "id": "zLxPvcmdkgzz"
      },
      "source": [
        "Smote works by using a random example from the minority class which is first chosen. Then k of the nearest neighbors for that example are found (k=5 is the default value which is used here). A randomly selected neighbor is chosen and a synthetic example is created at a randomly selected point between the two examples in feature space. Thus, smote is essentially overfitting our KNN classifier\n",
        "https://machinelearningmastery.com/smote-oversampling-for-imbalanced-classification/"
      ]
    },
    {
      "cell_type": "code",
      "execution_count": 66,
      "id": "gvxhBwzRQm7f",
      "metadata": {
        "id": "gvxhBwzRQm7f",
        "outputId": "b3258123-1b57-4747-8b1e-a454f2fca69b",
        "colab": {
          "base_uri": "https://localhost:8080/"
        }
      },
      "outputs": [
        {
          "output_type": "stream",
          "name": "stdout",
          "text": [
            "RandomForestClassifier with best score of 0.6638890130506138\n",
            "RandomForestClassifier with best score of 0.6719052629061955\n",
            "RandomForestClassifier with best score of 0.6808731710799175\n",
            "RandomForestClassifier with avg score of 0.6690251170664664\n"
          ]
        }
      ],
      "source": [
        "bestscore=0\n",
        "bestmodel=None\n",
        "scores=[]\n",
        "for train_index, test_index in cv.split(xs,y):\n",
        "      X_train = xs[train_index]\n",
        "      y_train = y[train_index]\n",
        "      X_test = xs[test_index]\n",
        "      y_test = y[test_index]\n",
        "      sm = SMOTE()\n",
        "      X_train_oversampled, y_train_oversampled = sm.fit_resample(X_train, y_train)\n",
        "      model = RandomForestClassifier(random_state=random_state)\n",
        "      model.fit(X_train_oversampled, y_train_oversampled)  \n",
        "      y_pred = model.predict(X_test)\n",
        "      score=roc_auc_score(y_test,y_pred)\n",
        "      scores.append(score)\n",
        "      if score>bestscore:\n",
        "            bestmodel=model\n",
        "            bestscore=score\n",
        "            print(f\"RandomForestClassifier with best score of {score}\")\n",
        "score_df_smote[\"RandomForestClassifier\"]=scores\n",
        "print(f\"RandomForestClassifier with avg score of {np.median(np.array(scores))}\")"
      ]
    },
    {
      "cell_type": "code",
      "source": [
        "fi = rf_feat_importance(bestmodel, feature_names)\n",
        "fi[:10]"
      ],
      "metadata": {
        "id": "uwnUUUFyGdD3"
      },
      "id": "uwnUUUFyGdD3",
      "execution_count": null,
      "outputs": []
    },
    {
      "cell_type": "code",
      "source": [
        "plot_fi(fi)"
      ],
      "metadata": {
        "id": "sZcNHsJ_Gdjd"
      },
      "id": "sZcNHsJ_Gdjd",
      "execution_count": null,
      "outputs": []
    },
    {
      "cell_type": "markdown",
      "id": "QM_sVAKLPuIp",
      "metadata": {
        "id": "QM_sVAKLPuIp"
      },
      "source": [
        "Surpisingly, smote actually deproves auc score for random forest but improves knn, suggesting that the orginial data is quite noisy, and creating sythenic data will only add on to the noise."
      ]
    },
    {
      "cell_type": "code",
      "execution_count": 67,
      "id": "iHOPGiqRbJsH",
      "metadata": {
        "id": "iHOPGiqRbJsH"
      },
      "outputs": [],
      "source": [
        "score_df_smote.to_csv(\"../content/score_smote.csv\")"
      ]
    },
    {
      "cell_type": "markdown",
      "id": "zG_hWTsKQPkT",
      "metadata": {
        "id": "zG_hWTsKQPkT"
      },
      "source": [
        "Thus,we could also try totem links on knn and rf."
      ]
    },
    {
      "cell_type": "code",
      "execution_count": 68,
      "id": "xS81wLi-PhED",
      "metadata": {
        "id": "xS81wLi-PhED"
      },
      "outputs": [],
      "source": [
        "from imblearn.under_sampling import TomekLinks"
      ]
    },
    {
      "cell_type": "code",
      "execution_count": 69,
      "id": "v0CnXS8SZEAF",
      "metadata": {
        "id": "v0CnXS8SZEAF"
      },
      "outputs": [],
      "source": [
        "#totem link dataframe\n",
        "score_df_tl=pd.DataFrame()"
      ]
    },
    {
      "cell_type": "code",
      "execution_count": 70,
      "id": "na0a8ibbYjyN",
      "metadata": {
        "id": "na0a8ibbYjyN",
        "outputId": "b55a17bd-579e-420d-a6f3-d3d9c5a9e5b0",
        "colab": {
          "base_uri": "https://localhost:8080/"
        }
      },
      "outputs": [
        {
          "output_type": "stream",
          "name": "stdout",
          "text": [
            "KNN 1 with best score of 0.6501058551593057\n",
            "KNN 1 with best score of 0.6592387252163441\n",
            "KNN 1 with best score of 0.6657975684091028\n",
            "KNN 1 with avg score of 0.6592387252163441\n",
            "KNN 3 with avg score of 0.6293622953035358\n",
            "KNN 5 with avg score of 0.5919140706953546\n",
            "KNN 7 with avg score of 0.5670368354962507\n",
            "KNN 9 with avg score of 0.5449853012421021\n"
          ]
        }
      ],
      "source": [
        "bestscore=0\n",
        "bestmodel=None\n",
        "scores=[]\n",
        "# we stop at k ==9 as it seems that the knn auc roc score drops off at k=7\n",
        "for i in range(1,10,2):\n",
        "    scores=[]\n",
        "    for train_index, test_index in cv.split(xs,y):\n",
        "        X_train = xs[train_index]\n",
        "        y_train = y[train_index]\n",
        "        X_test = xs[test_index]\n",
        "        y_test = y[test_index]\n",
        "        tl = TomekLinks()\n",
        "        X_train_undersampled, y_train_undersampled = tl.fit_resample(X_train, y_train)\n",
        "        model = KNeighborsClassifier(i)\n",
        "        model.fit(X_train_undersampled, y_train_undersampled)  \n",
        "        y_pred = model.predict(X_test)\n",
        "        score=roc_auc_score(y_test,y_pred)\n",
        "        scores.append(score)\n",
        "        if score>bestscore:\n",
        "            bestmodel=model\n",
        "            bestscore=score\n",
        "            print(f\"KNN {i} with best score of {score}\")\n",
        "    score_df_tl[\"KNN\"+str(i)]=scores\n",
        "    print(f\"KNN {i} with avg score of {np.median(np.array(scores))}\")"
      ]
    },
    {
      "cell_type": "markdown",
      "source": [
        "KNN with k=1 is prone to overfitting."
      ],
      "metadata": {
        "id": "WR2qHlIK_MgP"
      },
      "id": "WR2qHlIK_MgP"
    },
    {
      "cell_type": "code",
      "execution_count": 75,
      "id": "njq-1Ro9Y92x",
      "metadata": {
        "id": "njq-1Ro9Y92x",
        "outputId": "85bf57c7-8b99-4f8a-a375-cfa44e704c3f",
        "colab": {
          "base_uri": "https://localhost:8080/"
        }
      },
      "outputs": [
        {
          "output_type": "stream",
          "name": "stdout",
          "text": [
            "RandomForestClassifier with best score of 0.6336522047714175\n",
            "RandomForestClassifier with best score of 0.6494142061440787\n",
            "RandomForestClassifier with avg score of 0.6391935050803386\n"
          ]
        }
      ],
      "source": [
        "bestscore=0\n",
        "bestmodel=None\n",
        "scores=[]\n",
        "for train_index, test_index in cv.split(xs,y):\n",
        "      X_train = xs[train_index]\n",
        "      y_train = y[train_index]\n",
        "      X_test = xs[test_index]\n",
        "      y_test = y[test_index]\n",
        "      tl = TomekLinks()\n",
        "      X_train_undersampled, y_train_undersampled = tl.fit_resample(X_train, y_train)\n",
        "      model = RandomForestClassifier(random_state=random_state)\n",
        "      model.fit(X_train_undersampled, y_train_undersampled)   \n",
        "      y_pred = model.predict(X_test)\n",
        "      score=roc_auc_score(y_test,y_pred)\n",
        "      scores.append(score)\n",
        "      if score>bestscore:\n",
        "            bestmodel=model\n",
        "            bestscore=score\n",
        "            print(f\"RandomForestClassifier with best score of {score}\")\n",
        "score_df_tl[\"RandomForestClassifier\"]=scores\n",
        "print(f\"RandomForestClassifier with avg score of {np.median(np.array(scores))}\")"
      ]
    },
    {
      "cell_type": "markdown",
      "source": [
        "Totem links undersample and we lose infomation, causing the models to perform worser."
      ],
      "metadata": {
        "id": "mZmXuMLM4uOc"
      },
      "id": "mZmXuMLM4uOc"
    },
    {
      "cell_type": "code",
      "execution_count": 72,
      "id": "x3VY5pyWbN3e",
      "metadata": {
        "id": "x3VY5pyWbN3e"
      },
      "outputs": [],
      "source": [
        "score_df_tl.to_csv(\"../content/score_tl.csv\")"
      ]
    }
  ],
  "metadata": {
    "colab": {
      "collapsed_sections": [],
      "provenance": [],
      "include_colab_link": true
    },
    "kernelspec": {
      "display_name": "Python 3.10.0 64-bit",
      "language": "python",
      "name": "python3"
    },
    "language_info": {
      "codemirror_mode": {
        "name": "ipython",
        "version": 3
      },
      "file_extension": ".py",
      "mimetype": "text/x-python",
      "name": "python",
      "nbconvert_exporter": "python",
      "pygments_lexer": "ipython3",
      "version": "3.10.0"
    },
    "vscode": {
      "interpreter": {
        "hash": "525f50cd3df40e9d57f214b2f9bedadf4bf08c85f9f5b3b27734de5b2eace747"
      }
    }
  },
  "nbformat": 4,
  "nbformat_minor": 5
}