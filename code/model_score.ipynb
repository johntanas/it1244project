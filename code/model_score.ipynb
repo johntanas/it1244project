{
  "cells": [
    {
      "cell_type": "markdown",
      "metadata": {
        "id": "view-in-github",
        "colab_type": "text"
      },
      "source": [
        "<a href=\"https://colab.research.google.com/github/johntanas/it1244project/blob/main/code/model_score.ipynb\" target=\"_parent\"><img src=\"https://colab.research.google.com/assets/colab-badge.svg\" alt=\"Open In Colab\"/></a>"
      ]
    },
    {
      "cell_type": "code",
      "execution_count": 1,
      "id": "5179ea71",
      "metadata": {
        "id": "5179ea71"
      },
      "outputs": [],
      "source": [
        "import pandas as pd\n",
        "import numpy as np\n",
        "from sklearn.preprocessing import StandardScaler,OneHotEncoder,OrdinalEncoder\n",
        "from sklearn.compose import ColumnTransformer\n",
        "from sklearn.model_selection import RepeatedStratifiedKFold,cross_val_score\n",
        "from sklearn.linear_model import LogisticRegression\n",
        "from sklearn.neighbors import KNeighborsClassifier\n",
        "from sklearn.tree import DecisionTreeClassifier\n",
        "from sklearn.ensemble import RandomForestClassifier\n",
        "from sklearn.metrics import classification_report\n",
        "from imblearn.over_sampling import SMOTE\n",
        "from sklearn.metrics import roc_auc_score,average_precision_score,SCORERS"
      ]
    },
    {
      "cell_type": "markdown",
      "source": [
        "Running this file might take a while (>1 hour) due to KNN and n_repeats=5"
      ],
      "metadata": {
        "id": "Vb1AnAEUlsiG"
      },
      "id": "Vb1AnAEUlsiG"
    },
    {
      "cell_type": "code",
      "source": [
        "n_repeats=5\n",
        "n_splits=5"
      ],
      "metadata": {
        "id": "gwWC421NqpxW"
      },
      "id": "gwWC421NqpxW",
      "execution_count": null,
      "outputs": []
    },
    {
      "cell_type": "code",
      "source": [
        "path_to_max_label=\"/content/max_label.csv\"\n",
        "path_to_app=\"/content/cleaned_application.csv\"\n",
        "cleaned_app_df=pd.read_csv(path_to_app,index_col=0)\n",
        "max_df=pd.read_csv(path_to_max_label,index_col=0)"
      ],
      "metadata": {
        "id": "XJlCQwWJEl2_"
      },
      "id": "XJlCQwWJEl2_",
      "execution_count": 2,
      "outputs": []
    },
    {
      "cell_type": "code",
      "source": [
        "dep_var=\"status\"\n",
        "random_state=42"
      ],
      "metadata": {
        "id": "DoxeFDv6Mgj8"
      },
      "id": "DoxeFDv6Mgj8",
      "execution_count": 3,
      "outputs": []
    },
    {
      "cell_type": "markdown",
      "source": [
        "Sort by median income of job to give a ordering to the jobs"
      ],
      "metadata": {
        "id": "gWn5S5FRTFWX"
      },
      "id": "gWn5S5FRTFWX"
    },
    {
      "cell_type": "code",
      "source": [
        "order=cleaned_app_df.groupby(\"job\")[\"income\"].median().sort_values()"
      ],
      "metadata": {
        "id": "zieu69u9S3r9"
      },
      "id": "zieu69u9S3r9",
      "execution_count": 4,
      "outputs": []
    },
    {
      "cell_type": "code",
      "source": [
        "cleaned_app_df[\"job\"]=cleaned_app_df[\"job\"].replace(order)"
      ],
      "metadata": {
        "id": "Vq37hbF7TC0v"
      },
      "id": "Vq37hbF7TC0v",
      "execution_count": 5,
      "outputs": []
    },
    {
      "cell_type": "code",
      "source": [
        "train_df=max_df.merge(cleaned_app_df,how=\"inner\",on=\"id\").drop(\"id\",axis=1)"
      ],
      "metadata": {
        "id": "ZEu51Hh-LyC5"
      },
      "id": "ZEu51Hh-LyC5",
      "execution_count": 6,
      "outputs": []
    },
    {
      "cell_type": "code",
      "source": [
        "numerical_transformer = StandardScaler()\n",
        "categorical_transformer=OneHotEncoder()\n",
        "ord_transformer=OrdinalEncoder()"
      ],
      "metadata": {
        "id": "JqwrdVI-75AF"
      },
      "id": "JqwrdVI-75AF",
      "execution_count": 7,
      "outputs": []
    },
    {
      "cell_type": "code",
      "source": [
        "X,y=train_df.drop(columns=dep_var),train_df[dep_var]"
      ],
      "metadata": {
        "id": "V03vSX3e8BDr"
      },
      "id": "V03vSX3e8BDr",
      "execution_count": 8,
      "outputs": []
    },
    {
      "cell_type": "code",
      "source": [
        "categorical_cols = [cname for cname in X.columns if X[cname].nunique() < 10 and \n",
        "                        X[cname].dtype == \"object\"]\n",
        "numerical_cols = [cname for cname in X.columns if X[cname].dtype in ['int64', 'float64']]\n"
      ],
      "metadata": {
        "id": "PxZXExPK77oD"
      },
      "id": "PxZXExPK77oD",
      "execution_count": 9,
      "outputs": []
    },
    {
      "cell_type": "code",
      "source": [
        "preprocessor = ColumnTransformer(\n",
        "    transformers=[\n",
        "        ('num', numerical_transformer, numerical_cols),\n",
        "        ('cat', categorical_transformer, categorical_cols),\n",
        "        ('ord',ord_transformer,['job'])\n",
        "    ])"
      ],
      "metadata": {
        "id": "GUdPAjpk76qY"
      },
      "id": "GUdPAjpk76qY",
      "execution_count": 10,
      "outputs": []
    },
    {
      "cell_type": "code",
      "source": [
        "xs=preprocessor.fit_transform(X)"
      ],
      "metadata": {
        "id": "sBxqujKg8FDR"
      },
      "id": "sBxqujKg8FDR",
      "execution_count": 11,
      "outputs": []
    },
    {
      "cell_type": "code",
      "source": [
        "score_df=pd.DataFrame()"
      ],
      "metadata": {
        "id": "gpCTr2Oh_t_Q"
      },
      "id": "gpCTr2Oh_t_Q",
      "execution_count": 12,
      "outputs": []
    },
    {
      "cell_type": "markdown",
      "source": [
        "We will be doing cross validation with StratifiedKFold =5 and 5 repeats.\n",
        "We use StratifiedKFold instead of Kfold to perserve  the percentage of samples for each class."
      ],
      "metadata": {
        "id": "pvixVAlrN2nf"
      },
      "id": "pvixVAlrN2nf"
    },
    {
      "cell_type": "code",
      "source": [
        "cv = RepeatedStratifiedKFold(n_splits=n_splits, n_repeats=n_repeats, random_state=random_state)"
      ],
      "metadata": {
        "id": "Uk6kEisNN2AP"
      },
      "id": "Uk6kEisNN2AP",
      "execution_count": 14,
      "outputs": []
    },
    {
      "cell_type": "code",
      "source": [
        "# dataframe of scores to be converted into plot later\n",
        "score_df=pd.DataFrame()"
      ],
      "metadata": {
        "id": "nQxbNZZ4OAlw"
      },
      "id": "nQxbNZZ4OAlw",
      "execution_count": 15,
      "outputs": []
    },
    {
      "cell_type": "markdown",
      "source": [
        "\n",
        "* AUC is classification-threshold-invariant. It measures the quality of the model's predictions irrespective of what classification threshold is chosen. \n",
        "https://developers.google.com/machine-learning/crash-course/classification/roc-and-auc\n",
        "* Thus we choose AUC as the banks who use the models can determine their own threshold risk probability for bad users and calculate their expected value/loss for these bad users and give them an appropriate interest rate when extending credit to them\n"
      ],
      "metadata": {
        "id": "otetLM2TJYq6"
      },
      "id": "otetLM2TJYq6"
    },
    {
      "cell_type": "markdown",
      "source": [
        "There is very little linearity in the imbalanced dataset for the linear dividing line of logisitic regression to work on. This can be seen from the low level of correlation in the table below where all variables have correlation between -0.03 and 0.03 and logisitic regression will be similar to random guessing so we do not try logisitic regression"
      ],
      "metadata": {
        "id": "3HTQ7PwT-kzj"
      },
      "id": "3HTQ7PwT-kzj"
    },
    {
      "cell_type": "code",
      "source": [
        "import matplotlib.pyplot as plt\n",
        "import seaborn as sns\n",
        "plt.subplots(figsize=(12,5))\n",
        "status_correlation=train_df.corr()[[\"status\"]]\n",
        "sns.heatmap(status_correlation,annot=True,cmap='RdPu')\n",
        "plt.title('Correlation between the variables')\n",
        "plt.xticks(rotation=45)"
      ],
      "metadata": {
        "colab": {
          "base_uri": "https://localhost:8080/",
          "height": 372
        },
        "id": "w6bfiUl3Oehq",
        "outputId": "3b85bef7-418e-40cd-ed43-acfbf6b8a78d"
      },
      "id": "w6bfiUl3Oehq",
      "execution_count": 16,
      "outputs": [
        {
          "output_type": "execute_result",
          "data": {
            "text/plain": [
              "(array([0.5]), <a list of 1 Text major ticklabel objects>)"
            ]
          },
          "metadata": {},
          "execution_count": 16
        },
        {
          "output_type": "display_data",
          "data": {
            "text/plain": [
              "<Figure size 864x360 with 2 Axes>"
            ],
            "image/png": "[encoded data removed]"
          },
          "metadata": {
            "needs_background": "light"
          }
        }
      ]
    },
    {
      "cell_type": "markdown",
      "source": [
        "We cannot choose k= sqrt(len(X_train)) as it would be very hard to detect the minority class"
      ],
      "metadata": {
        "id": "tBDScAaj9sfb"
      },
      "id": "tBDScAaj9sfb"
    },
    {
      "cell_type": "code",
      "source": [
        "# try different K values\n",
        "bestscore=0\n",
        "bestmodel=None\n",
        "for i in range(1,8,2):\n",
        "    scores=[]\n",
        "    for train_index, test_index in cv.split(xs,y):\n",
        "          X_train = xs[train_index]\n",
        "          y_train = y[train_index]\n",
        "          X_test = xs[test_index]\n",
        "          y_test = y[test_index]\n",
        "          model = KNeighborsClassifier(i)\n",
        "          model.fit(X_train, y_train)  \n",
        "          y_pred = model.predict(X_test)\n",
        "          score=roc_auc_score(y_test,y_pred)\n",
        "          if score>bestscore:\n",
        "              bestmodel=model\n",
        "              bestscore=score\n",
        "              print(f\"KNN {i} with best score of {score}\")\n",
        "          scores.append(roc_auc_score(y_test,y_pred))\n",
        "    score_df[\"KNN\"+str(i)]=scores\n",
        "    print(f\"KNN {i} with avg score of {np.array(scores).mean()}\")"
      ],
      "metadata": {
        "colab": {
          "base_uri": "https://localhost:8080/",
          "height": 998
        },
        "id": "WL5QVGSF8xI3",
        "outputId": "69ca2897-027b-460d-f5d1-e510995bb558"
      },
      "id": "WL5QVGSF8xI3",
      "execution_count": 17,
      "outputs": [
        {
          "output_type": "stream",
          "name": "stdout",
          "text": [
            "KNN 1 with best score of 0.6394437007810607\n",
            "KNN 1 with best score of 0.6535287839297788\n",
            "KNN 1 with best score of 0.6561257929593076\n",
            "KNN 1 with best score of 0.6593533198924998\n"
          ]
        },
        {
          "output_type": "stream",
          "name": "stderr",
          "text": [
            "ERROR:root:Internal Python error in the inspect module.\n",
            "Below is the traceback from this internal error.\n",
            "\n"
          ]
        },
        {
          "output_type": "stream",
          "name": "stdout",
          "text": [
            "Traceback (most recent call last):\n",
            "  File \"/usr/local/lib/python3.7/dist-packages/IPython/core/interactiveshell.py\", line 3326, in run_code\n",
            "    exec(code_obj, self.user_global_ns, self.user_ns)\n",
            "  File \"<ipython-input-17-64ac426c237d>\", line 13, in <module>\n",
            "    y_pred = model.predict(X_test)\n",
            "  File \"/usr/local/lib/python3.7/dist-packages/sklearn/neighbors/_classification.py\", line 214, in predict\n",
            "    neigh_dist, neigh_ind = self.kneighbors(X)\n",
            "  File \"/usr/local/lib/python3.7/dist-packages/sklearn/neighbors/_base.py\", line 759, in kneighbors\n",
            "    **kwds,\n",
            "  File \"/usr/local/lib/python3.7/dist-packages/sklearn/metrics/pairwise.py\", line 1726, in pairwise_distances_chunked\n",
            "    D_chunk = reduce_func(D_chunk, sl.start)\n",
            "  File \"/usr/local/lib/python3.7/dist-packages/sklearn/neighbors/_base.py\", line 640, in _kneighbors_reduce_func\n",
            "    result = np.sqrt(dist[sample_range, neigh_ind]), neigh_ind\n",
            "KeyboardInterrupt\n",
            "\n",
            "During handling of the above exception, another exception occurred:\n",
            "\n",
            "Traceback (most recent call last):\n",
            "  File \"/usr/local/lib/python3.7/dist-packages/IPython/core/interactiveshell.py\", line 2040, in showtraceback\n",
            "    stb = value._render_traceback_()\n",
            "AttributeError: 'KeyboardInterrupt' object has no attribute '_render_traceback_'\n",
            "\n",
            "During handling of the above exception, another exception occurred:\n",
            "\n",
            "Traceback (most recent call last):\n",
            "  File \"/usr/local/lib/python3.7/dist-packages/IPython/core/ultratb.py\", line 1101, in get_records\n",
            "    return _fixed_getinnerframes(etb, number_of_lines_of_context, tb_offset)\n",
            "  File \"/usr/local/lib/python3.7/dist-packages/IPython/core/ultratb.py\", line 319, in wrapped\n",
            "    return f(*args, **kwargs)\n",
            "  File \"/usr/local/lib/python3.7/dist-packages/IPython/core/ultratb.py\", line 353, in _fixed_getinnerframes\n",
            "    records = fix_frame_records_filenames(inspect.getinnerframes(etb, context))\n",
            "  File \"/usr/lib/python3.7/inspect.py\", line 1502, in getinnerframes\n",
            "    frameinfo = (tb.tb_frame,) + getframeinfo(tb, context)\n",
            "  File \"/usr/lib/python3.7/inspect.py\", line 1460, in getframeinfo\n",
            "    filename = getsourcefile(frame) or getfile(frame)\n",
            "  File \"/usr/lib/python3.7/inspect.py\", line 696, in getsourcefile\n",
            "    if getattr(getmodule(object, filename), '__loader__', None) is not None:\n",
            "  File \"/usr/lib/python3.7/inspect.py\", line 742, in getmodule\n",
            "    os.path.realpath(f)] = module.__name__\n",
            "  File \"/usr/lib/python3.7/posixpath.py\", line 395, in realpath\n",
            "    path, ok = _joinrealpath(filename[:0], filename, {})\n",
            "  File \"/usr/lib/python3.7/posixpath.py\", line 429, in _joinrealpath\n",
            "    if not islink(newpath):\n",
            "  File \"/usr/lib/python3.7/posixpath.py\", line 171, in islink\n",
            "    st = os.lstat(path)\n",
            "KeyboardInterrupt\n"
          ]
        },
        {
          "output_type": "error",
          "ename": "KeyboardInterrupt",
          "evalue": "ignored",
          "traceback": [
            "\u001b[0;31m---------------------------------------------------------------------------\u001b[0m"
          ]
        }
      ]
    },
    {
      "cell_type": "markdown",
      "source": [
        "Knn with small K (1) is more able to detect the minority class in a imbalanced dataset. However, this would make this model more prone to noise"
      ],
      "metadata": {
        "id": "jpwucJst-zNx"
      },
      "id": "jpwucJst-zNx"
    },
    {
      "cell_type": "code",
      "source": [
        "bestscore=0\n",
        "bestmodel=None\n",
        "scores=[]\n",
        "for train_index, test_index in cv.split(xs,y):\n",
        "      X_train = xs[train_index]\n",
        "      y_train = y[train_index]\n",
        "      X_test = xs[test_index]\n",
        "      y_test = y[test_index]\n",
        "      model = DecisionTreeClassifier(random_state=random_state)\n",
        "      model.fit(X_train, y_train )  \n",
        "      y_pred = model.predict(X_test)\n",
        "      score=roc_auc_score(y_test,y_pred)\n",
        "      if score>bestscore:\n",
        "          bestmodel=model\n",
        "          bestscore=score\n",
        "          print(f\"DecisionTreeClassifier with best score of {score}\")\n",
        "      scores.append(roc_auc_score(y_test,y_pred))\n",
        "score_df[\"DecisionTreeClassifier\"]=scores\n",
        "print(f\"DecisionTreeClassifier with avg score of {np.array(scores).mean()}\")"
      ],
      "metadata": {
        "colab": {
          "base_uri": "https://localhost:8080/"
        },
        "id": "pRQKOGTD_J7V",
        "outputId": "0152c61f-7564-42f3-f0c0-e9302fd0da5c"
      },
      "id": "pRQKOGTD_J7V",
      "execution_count": 18,
      "outputs": [
        {
          "output_type": "stream",
          "name": "stdout",
          "text": [
            "DecisionTreeClassifier with best score of 0.6154507996547922\n",
            "DecisionTreeClassifier with best score of 0.633213486337515\n",
            "DecisionTreeClassifier with best score of 0.6367066919297606\n",
            "DecisionTreeClassifier with best score of 0.6435055695120984\n",
            "DecisionTreeClassifier with best score of 0.6458358471416143\n"
          ]
        }
      ]
    },
    {
      "cell_type": "code",
      "source": [
        "bestscore=0\n",
        "bestmodel=None\n",
        "scores=[]\n",
        "for train_index, test_index in cv.split(xs,y):\n",
        "      X_train = xs[train_index]\n",
        "      y_train = y[train_index]\n",
        "      X_test = xs[test_index]\n",
        "      y_test = y[test_index]\n",
        "      model = RandomForestClassifier(random_state=random_state,class_weight =\"balanced_subsample\")\n",
        "      model.fit(X_train, y_train )  \n",
        "      y_pred = model.predict(X_test)\n",
        "      score=roc_auc_score(y_test,y_pred)\n",
        "      if score>bestscore:\n",
        "          bestmodel=model\n",
        "          bestscore=score\n",
        "          print(f\"RandomForestClassifier with best score of {score}\")\n",
        "      scores.append(roc_auc_score(y_test,y_pred))\n",
        "score_df[\"RandomForestClassifier\"]=scores\n",
        "print(f\"RandomForestClassifier with avg score of {np.array(scores).mean()}\")"
      ],
      "metadata": {
        "colab": {
          "base_uri": "https://localhost:8080/"
        },
        "id": "JAzYtjtP_NEn",
        "outputId": "5902d1f5-0f86-450a-94f1-f57e76c9a7e1"
      },
      "id": "JAzYtjtP_NEn",
      "execution_count": 19,
      "outputs": [
        {
          "output_type": "stream",
          "name": "stdout",
          "text": [
            "RandomForestClassifier with best score of 0.6973125149408781\n",
            "RandomForestClassifier with best score of 0.710899999528944\n",
            "RandomForestClassifier with best score of 0.7144292191003642\n"
          ]
        }
      ]
    },
    {
      "cell_type": "markdown",
      "source": [
        "Random forests are an ensemble of decision trees and typically do better than decision trees"
      ],
      "metadata": {
        "id": "JmpS6xa2ADmq"
      },
      "id": "JmpS6xa2ADmq"
    },
    {
      "cell_type": "code",
      "source": [
        "import keras\n",
        "import tensorflow as tf\n",
        "from keras.utils.np_utils import to_categorical\n",
        "from keras import optimizers\n",
        "from keras.models import Sequential\n",
        "from keras.layers import Dense, Activation, Flatten"
      ],
      "metadata": {
        "id": "1ZfWWT07KV_s"
      },
      "id": "1ZfWWT07KV_s",
      "execution_count": 21,
      "outputs": []
    },
    {
      "cell_type": "code",
      "source": [
        "bestscore=0\n",
        "bestmodel=None\n",
        "bestmodel_val_data=None\n",
        "scores=[]\n",
        "for train_index, test_index in cv.split(xs,y):\n",
        "      X_train = xs[train_index]\n",
        "      y_train = y[train_index]\n",
        "      X_test = xs[test_index]\n",
        "      y_test = y[test_index]\n",
        "      model= keras.Sequential([\n",
        "      keras.layers.Dense(512,activation=\"sigmoid\"),\n",
        "      keras.layers.Dense(256,activation=\"relu\"),\n",
        "      keras.layers.Dense(128,activation=\"relu\"),\n",
        "      keras.layers.Dense(2,activation=\"sigmoid\")])\n",
        "      #Adam > SGD\n",
        "      opt = tf.optimizers.Adam(learning_rate=0.01)\n",
        "      #Use BinaryFocalCrossentropy instead of BinaryCrossentropy\n",
        "      model.compile(loss=tf.keras.losses.BinaryFocalCrossentropy(), optimizer=opt, metrics=[tf.keras.metrics.AUC(curve='ROC')])\n",
        "      history=model.fit(X_train, pd.get_dummies(y_train),batch_size=64, epochs=10,validation_data=(X_test,pd.get_dummies(y_test)),verbose=0)\n",
        "      y_pred = model.predict(X_test,verbose=0)\n",
        "      score=roc_auc_score(y_test,y_pred[:,1])\n",
        "      if score>bestscore:\n",
        "          bestmodel=model\n",
        "          bestmodel_val_data=[y_test,X_test]\n",
        "          bestscore=score\n",
        "          print(f\"NN with best score of {score}\")\n",
        "      scores.append(score)\n",
        "score_df[\"NN\"]=scores\n",
        "print(f\"NN with avg score of {np.array(scores).mean()}\")"
      ],
      "metadata": {
        "colab": {
          "base_uri": "https://localhost:8080/"
        },
        "id": "AzogFSgyKUaT",
        "outputId": "1828968b-358c-4b6e-b40b-fa389e22c7a2"
      },
      "id": "AzogFSgyKUaT",
      "execution_count": 24,
      "outputs": [
        {
          "output_type": "stream",
          "name": "stdout",
          "text": [
            "NN with best score of 0.5772146385044953\n",
            "NN with best score of 0.5833442944433151\n",
            "NN with avg score of 0.5605707167835327\n"
          ]
        }
      ]
    },
    {
      "cell_type": "code",
      "source": [
        "y_test,X_test=bestmodel_val_data[0],bestmodel_val_data[1]\n",
        "preds=bestmodel.predict(X_test)"
      ],
      "metadata": {
        "id": "K7bwex0kS2Yi",
        "outputId": "672bab05-8964-412c-9fff-c0ec747ea6dd",
        "colab": {
          "base_uri": "https://localhost:8080/"
        }
      },
      "id": "K7bwex0kS2Yi",
      "execution_count": 25,
      "outputs": [
        {
          "output_type": "stream",
          "name": "stdout",
          "text": [
            "228/228 [==============================] - 1s 2ms/step\n"
          ]
        }
      ]
    },
    {
      "cell_type": "code",
      "source": [
        "bestmodel.summary()"
      ],
      "metadata": {
        "id": "KrOoGzytX-1y",
        "outputId": "556d7ad9-7a5e-41a7-bee1-cf7e08e09210",
        "colab": {
          "base_uri": "https://localhost:8080/"
        }
      },
      "id": "KrOoGzytX-1y",
      "execution_count": 26,
      "outputs": [
        {
          "output_type": "stream",
          "name": "stdout",
          "text": [
            "Model: \"sequential_6\"\n",
            "_________________________________________________________________\n",
            " Layer (type)                Output Shape              Param #   \n",
            "=================================================================\n",
            " dense_24 (Dense)            (None, 512)               19456     \n",
            "                                                                 \n",
            " dense_25 (Dense)            (None, 256)               131328    \n",
            "                                                                 \n",
            " dense_26 (Dense)            (None, 128)               32896     \n",
            "                                                                 \n",
            " dense_27 (Dense)            (None, 2)                 258       \n",
            "                                                                 \n",
            "=================================================================\n",
            "Total params: 183,938\n",
            "Trainable params: 183,938\n",
            "Non-trainable params: 0\n",
            "_________________________________________________________________\n"
          ]
        }
      ]
    },
    {
      "cell_type": "code",
      "source": [
        "preds.min(axis=0),preds.max(axis=0)"
      ],
      "metadata": {
        "id": "G-UfqtQyUCFq",
        "outputId": "04f3ac72-6cc3-49cf-aa2c-2b88073b0696",
        "colab": {
          "base_uri": "https://localhost:8080/"
        }
      },
      "id": "G-UfqtQyUCFq",
      "execution_count": 27,
      "outputs": [
        {
          "output_type": "execute_result",
          "data": {
            "text/plain": [
              "(array([0.5752733 , 0.19538252], dtype=float32),\n",
              " array([0.8025779 , 0.42121083], dtype=float32))"
            ]
          },
          "metadata": {},
          "execution_count": 27
        }
      ]
    },
    {
      "cell_type": "markdown",
      "source": [
        "While deep neural networks should be resilient to noisy data https://arxiv.org/pdf/1705.10694.pdf, our dataset which is noisy (we will be giving this assertion a basis later in this notebook) is not large (n~36000) and  our neural network deep. If we had more computing power (10^8 operations/s on our cpus), we could try to train a model with >10^12 params."
      ],
      "metadata": {
        "id": "9nriObdNUMPp"
      },
      "id": "9nriObdNUMPp"
    },
    {
      "cell_type": "code",
      "source": [
        "score_df.to_csv(\"score_no_aug.csv\")"
      ],
      "metadata": {
        "id": "yE6PtiH8bDfW"
      },
      "id": "yE6PtiH8bDfW",
      "execution_count": 28,
      "outputs": []
    },
    {
      "cell_type": "markdown",
      "source": [
        "SMOTE works by selecting examples that are close in the feature space, drawing a line between the examples in the feature space and drawing a new sample at a point along that line and it is one method to deal with imbalanced data\n",
        "https://arxiv.org/abs/1106.1813"
      ],
      "metadata": {
        "id": "ThrsCgY8H66P"
      },
      "id": "ThrsCgY8H66P"
    },
    {
      "cell_type": "code",
      "source": [
        "# score Dataframe for model with smote \n",
        "score_df_smote=pd.DataFrame()"
      ],
      "metadata": {
        "id": "uq8VQ9ZDPPNy"
      },
      "id": "uq8VQ9ZDPPNy",
      "execution_count": 29,
      "outputs": []
    },
    {
      "cell_type": "code",
      "source": [
        "bestscore=0\n",
        "bestmodel=None\n",
        "# we stop at k ==11 as it seems that the knn auc roc score drops off at k=7\n",
        "for i in range(1,12,2):\n",
        "    scores=[]\n",
        "    for train_index, test_index in cv.split(xs,y):\n",
        "        X_train = xs[train_index]\n",
        "        y_train = y[train_index]\n",
        "        X_test = xs[test_index]\n",
        "        y_test = y[test_index]\n",
        "        sm = SMOTE()\n",
        "        X_train_oversampled, y_train_oversampled = sm.fit_resample(X_train, y_train)\n",
        "        model = KNeighborsClassifier(i)\n",
        "        model.fit(X_train_oversampled, y_train_oversampled)  \n",
        "        y_pred = model.predict(X_test)\n",
        "        score=roc_auc_score(y_test,y_pred)\n",
        "        scores.append(score)\n",
        "        if score>bestscore:\n",
        "            bestmodel=model\n",
        "            bestscore=score\n",
        "            print(f\"KNN {i} with best score of {score}\")\n",
        "    score_df_smote[\"KNN\"+str(i)]=scores\n",
        "    print(f\"KNN {i} with best score of {score}\")"
      ],
      "metadata": {
        "colab": {
          "base_uri": "https://localhost:8080/"
        },
        "id": "LPQZgmXlPn-J",
        "outputId": "ff4a2186-cd71-47ac-ece0-60fd6243938d"
      },
      "id": "LPQZgmXlPn-J",
      "execution_count": 30,
      "outputs": [
        {
          "output_type": "stream",
          "name": "stdout",
          "text": [
            "KNN 1 with best score of 0.6429638214047293\n",
            "KNN 1 with best score of 0.6562083134977137\n",
            "KNN 1 with best score of 0.6631162634971123\n",
            "KNN 1 with best score of 0.653364952059185\n",
            "KNN 3 with best score of 0.6640938328069196\n",
            "KNN 3 with best score of 0.6697184752135785\n",
            "KNN 3 with best score of 0.6563162988625447\n",
            "KNN 5 with best score of 0.6823342677734694\n",
            "KNN 5 with best score of 0.6841606887852808\n",
            "KNN 5 with best score of 0.691039464706494\n",
            "KNN 5 with best score of 0.693251163055298\n",
            "KNN 5 with best score of 0.6983043253445865\n",
            "KNN 5 with best score of 0.6983043253445865\n",
            "KNN 7 with best score of 0.6991918129023679\n",
            "KNN 7 with best score of 0.7014844966422769\n",
            "KNN 7 with best score of 0.7014844966422769\n",
            "KNN 9 with best score of 0.6911851297052604\n",
            "KNN 11 with best score of 0.6921525156019172\n"
          ]
        }
      ]
    },
    {
      "cell_type": "markdown",
      "source": [
        "Smote works by using a random example from the minority class which is first chosen. Then k of the nearest neighbors for that example are found (k=5 is the default value which is used here). A randomly selected neighbor is chosen and a synthetic example is created at a randomly selected point between the two examples in feature space. Thus, smote is essentially overfitting our KNN classifier\n",
        "https://machinelearningmastery.com/smote-oversampling-for-imbalanced-classification/"
      ],
      "metadata": {
        "id": "zLxPvcmdkgzz"
      },
      "id": "zLxPvcmdkgzz"
    },
    {
      "cell_type": "code",
      "source": [
        "bestscore=0\n",
        "bestmodel=None\n",
        "scores=[]\n",
        "for train_index, test_index in cv.split(xs,y):\n",
        "      X_train = xs[train_index]\n",
        "      y_train = y[train_index]\n",
        "      X_test = xs[test_index]\n",
        "      y_test = y[test_index]\n",
        "      sm = SMOTE()\n",
        "      X_train_oversampled, y_train_oversampled = sm.fit_resample(X_train, y_train)\n",
        "      model = DecisionTreeClassifier(random_state=random_state)\n",
        "      model.fit(X_train_oversampled, y_train_oversampled )  \n",
        "      y_pred = model.predict(X_test)\n",
        "      score=roc_auc_score(y_test,y_pred)\n",
        "      scores.append(score)\n",
        "      if score>bestscore:\n",
        "            bestmodel=model\n",
        "            bestscore=score\n",
        "            print(f\"DecisionTreeClassifier with best score of {score}\")\n",
        "score_df_smote[\"DecisionTreeClassifier\"]=scores\n",
        "print(f\"DecisionTreeClassifier with avg score of {np.array(scores).mean()}\")"
      ],
      "metadata": {
        "colab": {
          "base_uri": "https://localhost:8080/"
        },
        "id": "6wycaO_HQOCt",
        "outputId": "cd040004-9797-4564-ae89-d7b92b39a425"
      },
      "id": "6wycaO_HQOCt",
      "execution_count": 31,
      "outputs": [
        {
          "output_type": "stream",
          "name": "stdout",
          "text": [
            "DecisionTreeClassifier with best score of 0.6576365100859636\n",
            "DecisionTreeClassifier with best score of 0.6674370857616118\n",
            "DecisionTreeClassifier with best score of 0.6686350464914121\n",
            "DecisionTreeClassifier with best score of 0.6767541490065974\n",
            "DecisionTreeClassifier with best score of 0.6767935546499203\n",
            "DecisionTreeClassifier with avg score of 0.6668890643023954\n"
          ]
        }
      ]
    },
    {
      "cell_type": "code",
      "source": [
        "bestscore=0\n",
        "bestmodel=None\n",
        "scores=[]\n",
        "for train_index, test_index in cv.split(xs,y):\n",
        "      X_train = xs[train_index]\n",
        "      y_train = y[train_index]\n",
        "      X_test = xs[test_index]\n",
        "      y_test = y[test_index]\n",
        "      sm = SMOTE()\n",
        "      X_train_oversampled, y_train_oversampled = sm.fit_resample(X_train, y_train)\n",
        "      model = RandomForestClassifier(random_state=random_state)\n",
        "      model.fit(X_train_oversampled, y_train_oversampled)  \n",
        "      y_pred = model.predict(X_test)\n",
        "      score=roc_auc_score(y_test,y_pred)\n",
        "      scores.append(score)\n",
        "      if score>bestscore:\n",
        "            bestmodel=model\n",
        "            bestscore=score\n",
        "            print(f\"RandomForestClassifier with best score of {score}\")\n",
        "score_df_smote[\"RandomForestClassifier\"]=scores\n",
        "print(f\"RandomForestClassifier with avg score of {np.array(scores).mean()}\")"
      ],
      "metadata": {
        "colab": {
          "base_uri": "https://localhost:8080/"
        },
        "id": "gvxhBwzRQm7f",
        "outputId": "7fdbf0b7-1459-4161-c142-77592a8ba8ad"
      },
      "id": "gvxhBwzRQm7f",
      "execution_count": 32,
      "outputs": [
        {
          "output_type": "stream",
          "name": "stdout",
          "text": [
            "RandomForestClassifier with best score of 0.6654020568782147\n",
            "RandomForestClassifier with best score of 0.6733816126884202\n",
            "RandomForestClassifier with best score of 0.6740370619587159\n",
            "RandomForestClassifier with best score of 0.6811453870757462\n",
            "RandomForestClassifier with best score of 0.6817285000092399\n",
            "RandomForestClassifier with avg score of 0.6714811633505591\n"
          ]
        }
      ]
    },
    {
      "cell_type": "markdown",
      "source": [
        "Surpisingly, smote actually deproves auc score across the trees models but improves knn , suggesting that the orginial data is quite noisy, and creating sythenic data will only add on to the noise."
      ],
      "metadata": {
        "id": "QM_sVAKLPuIp"
      },
      "id": "QM_sVAKLPuIp"
    },
    {
      "cell_type": "code",
      "source": [
        "score_df_smote.to_csv(\"score_smote.csv\")"
      ],
      "metadata": {
        "id": "iHOPGiqRbJsH"
      },
      "id": "iHOPGiqRbJsH",
      "execution_count": 33,
      "outputs": []
    },
    {
      "cell_type": "markdown",
      "source": [
        "Thus,we could also try totem links on knn and rf."
      ],
      "metadata": {
        "id": "zG_hWTsKQPkT"
      },
      "id": "zG_hWTsKQPkT"
    },
    {
      "cell_type": "code",
      "source": [
        "from imblearn.under_sampling import TomekLinks"
      ],
      "metadata": {
        "id": "xS81wLi-PhED"
      },
      "id": "xS81wLi-PhED",
      "execution_count": 34,
      "outputs": []
    },
    {
      "cell_type": "code",
      "source": [
        "#totem link dataframe\n",
        "score_df_tl=pd.DataFrame()"
      ],
      "metadata": {
        "id": "v0CnXS8SZEAF"
      },
      "id": "v0CnXS8SZEAF",
      "execution_count": 35,
      "outputs": []
    },
    {
      "cell_type": "code",
      "source": [
        "bestscore=0\n",
        "bestmodel=None\n",
        "scores=[]\n",
        "# we stop at k ==9 as it seems that the knn auc roc score drops off at k=7\n",
        "for i in range(1,10,2):\n",
        "    scores=[]\n",
        "    for train_index, test_index in cv.split(xs,y):\n",
        "        X_train = xs[train_index]\n",
        "        y_train = y[train_index]\n",
        "        X_test = xs[test_index]\n",
        "        y_test = y[test_index]\n",
        "        tl = TomekLinks()\n",
        "        X_train_undersampled, y_train_undersampled = tl.fit_resample(X_train, y_train)\n",
        "        model = KNeighborsClassifier(i)\n",
        "        model.fit(X_train_undersampled, y_train_undersampled)  \n",
        "        y_pred = model.predict(X_test)\n",
        "        score=roc_auc_score(y_test,y_pred)\n",
        "        scores.append(score)\n",
        "        if score>bestscore:\n",
        "            bestmodel=model\n",
        "            bestscore=score\n",
        "            print(f\"KNN {i} with best score of {score}\")\n",
        "    score_df_tl[\"KNN\"+str(i)]=scores\n",
        "    print(f\"KNN {i} with best score of {score}\")"
      ],
      "metadata": {
        "id": "na0a8ibbYjyN",
        "outputId": "dc0e4fd6-12aa-4cd4-f07e-3f5efe6d7e26",
        "colab": {
          "base_uri": "https://localhost:8080/"
        }
      },
      "id": "na0a8ibbYjyN",
      "execution_count": 36,
      "outputs": [
        {
          "output_type": "stream",
          "name": "stdout",
          "text": [
            "KNN 1 with best score of 0.6485150870972884\n",
            "KNN 1 with best score of 0.6575296012660017\n",
            "KNN 1 with best score of 0.6591939072896635\n",
            "KNN 1 with best score of 0.6640410231947574\n",
            "KNN 1 with best score of 0.649792173731238\n",
            "KNN 3 with best score of 0.6186403368122627\n",
            "KNN 5 with best score of 0.5879118161490305\n",
            "KNN 7 with best score of 0.5612235062724726\n",
            "KNN 9 with best score of 0.5405174259907667\n"
          ]
        }
      ]
    },
    {
      "cell_type": "code",
      "source": [
        "bestscore=0\n",
        "bestmodel=None\n",
        "scores=[]\n",
        "for train_index, test_index in cv.split(xs,y):\n",
        "      X_train = xs[train_index]\n",
        "      y_train = y[train_index]\n",
        "      X_test = xs[test_index]\n",
        "      y_test = y[test_index]\n",
        "      sm = SMOTE()\n",
        "      X_train_undersampled, y_train_undersampled = tl.fit_resample(X_train, y_train)\n",
        "      model = RandomForestClassifier(random_state=random_state)\n",
        "      model.fit(X_train_undersampled, y_train_undersampled)   \n",
        "      y_pred = model.predict(X_test)\n",
        "      score=roc_auc_score(y_test,y_pred)\n",
        "      scores.append(score)\n",
        "      if score>bestscore:\n",
        "            bestmodel=model\n",
        "            bestscore=score\n",
        "            print(f\"RandomForestClassifier with best score of {score}\")\n",
        "score_df_tl[\"RandomForestClassifier\"]=scores\n",
        "print(f\"RandomForestClassifier with avg score of {np.array(scores).mean()}\")"
      ],
      "metadata": {
        "id": "njq-1Ro9Y92x",
        "outputId": "f8f12671-54ab-48a2-fbfa-a6c5d3574fd0",
        "colab": {
          "base_uri": "https://localhost:8080/"
        }
      },
      "id": "njq-1Ro9Y92x",
      "execution_count": 37,
      "outputs": [
        {
          "output_type": "stream",
          "name": "stdout",
          "text": [
            "RandomForestClassifier with best score of 0.6270542406577551\n",
            "RandomForestClassifier with best score of 0.6452184744071596\n",
            "RandomForestClassifier with best score of 0.6533349675351853\n",
            "RandomForestClassifier with avg score of 0.6395162943725977\n"
          ]
        }
      ]
    },
    {
      "cell_type": "code",
      "source": [
        "score_df_tl.to_csv(\"score_tl.csv\")"
      ],
      "metadata": {
        "id": "x3VY5pyWbN3e"
      },
      "id": "x3VY5pyWbN3e",
      "execution_count": 38,
      "outputs": []
    }
  ],
  "metadata": {
    "kernelspec": {
      "display_name": "Python 3.10.0 64-bit",
      "language": "python",
      "name": "python3"
    },
    "language_info": {
      "codemirror_mode": {
        "name": "ipython",
        "version": 3
      },
      "file_extension": ".py",
      "mimetype": "text/x-python",
      "name": "python",
      "nbconvert_exporter": "python",
      "pygments_lexer": "ipython3",
      "version": "3.10.0"
    },
    "vscode": {
      "interpreter": {
        "hash": "525f50cd3df40e9d57f214b2f9bedadf4bf08c85f9f5b3b27734de5b2eace747"
      }
    },
    "colab": {
      "provenance": [],
      "collapsed_sections": [],
      "include_colab_link": true
    }
  },
  "nbformat": 4,
  "nbformat_minor": 5
}