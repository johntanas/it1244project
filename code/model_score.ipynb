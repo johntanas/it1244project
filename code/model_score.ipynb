{
  "cells": [
    {
      "cell_type": "markdown",
      "metadata": {
        "colab_type": "text",
        "id": "view-in-github"
      },
      "source": [
        "<a href=\"https://colab.research.google.com/github/johntanas/it1244project/blob/main/code/model_score.ipynb\" target=\"_parent\"><img src=\"https://colab.research.google.com/assets/colab-badge.svg\" alt=\"Open In Colab\"/></a>"
      ]
    },
    {
      "cell_type": "code",
      "execution_count": 1,
      "id": "5179ea71",
      "metadata": {
        "id": "5179ea71"
      },
      "outputs": [],
      "source": [
        "import pandas as pd\n",
        "import numpy as np\n",
        "from sklearn.preprocessing import StandardScaler,OneHotEncoder,OrdinalEncoder\n",
        "from sklearn.compose import ColumnTransformer\n",
        "from sklearn.model_selection import RepeatedStratifiedKFold,cross_val_score\n",
        "from sklearn.linear_model import LogisticRegression\n",
        "from sklearn.neighbors import KNeighborsClassifier\n",
        "from sklearn.tree import DecisionTreeClassifier\n",
        "from sklearn.ensemble import RandomForestClassifier\n",
        "from sklearn.metrics import classification_report\n",
        "from imblearn.over_sampling import SMOTE\n",
        "from sklearn.metrics import roc_auc_score,average_precision_score,plot_roc_curve"
      ]
    },
    {
      "cell_type": "code",
      "execution_count": 2,
      "id": "gwWC421NqpxW",
      "metadata": {
        "id": "gwWC421NqpxW"
      },
      "outputs": [],
      "source": [
        "n_repeats=1\n",
        "n_splits=5"
      ]
    },
    {
      "cell_type": "code",
      "execution_count": 3,
      "id": "XJlCQwWJEl2_",
      "metadata": {
        "id": "XJlCQwWJEl2_"
      },
      "outputs": [],
      "source": [
        "path_to_max_label=\"../content/max_label.csv\"\n",
        "path_to_app=\"../content/cleaned_application.csv\"\n",
        "cleaned_app_df=pd.read_csv(path_to_app,index_col=0)\n",
        "max_df=pd.read_csv(path_to_max_label,index_col=0)"
      ]
    },
    {
      "cell_type": "code",
      "execution_count": 4,
      "id": "DoxeFDv6Mgj8",
      "metadata": {
        "id": "DoxeFDv6Mgj8"
      },
      "outputs": [],
      "source": [
        "dep_var=\"status\"\n",
        "random_state=42"
      ]
    },
    {
      "cell_type": "markdown",
      "id": "gWn5S5FRTFWX",
      "metadata": {
        "id": "gWn5S5FRTFWX"
      },
      "source": [
        "Sort by median income of job to give a ordering to the jobs"
      ]
    },
    {
      "cell_type": "code",
      "execution_count": 5,
      "id": "zieu69u9S3r9",
      "metadata": {
        "id": "zieu69u9S3r9"
      },
      "outputs": [],
      "source": [
        "order=cleaned_app_df.groupby(\"job\")[\"income\"].median().sort_values()"
      ]
    },
    {
      "cell_type": "code",
      "execution_count": 6,
      "id": "Vq37hbF7TC0v",
      "metadata": {
        "id": "Vq37hbF7TC0v"
      },
      "outputs": [],
      "source": [
        "cleaned_app_df[\"job\"]=cleaned_app_df[\"job\"].replace(order)"
      ]
    },
    {
      "cell_type": "code",
      "execution_count": 7,
      "id": "ZEu51Hh-LyC5",
      "metadata": {
        "id": "ZEu51Hh-LyC5"
      },
      "outputs": [],
      "source": [
        "train_df=max_df.merge(cleaned_app_df,how=\"inner\",on=\"id\").drop(\"id\",axis=1)"
      ]
    },
    {
      "cell_type": "code",
      "execution_count": 8,
      "id": "JqwrdVI-75AF",
      "metadata": {
        "id": "JqwrdVI-75AF"
      },
      "outputs": [],
      "source": [
        "numerical_transformer = StandardScaler()\n",
        "categorical_transformer=OneHotEncoder()\n",
        "ord_transformer=OrdinalEncoder()"
      ]
    },
    {
      "cell_type": "code",
      "execution_count": 9,
      "id": "V03vSX3e8BDr",
      "metadata": {
        "id": "V03vSX3e8BDr"
      },
      "outputs": [],
      "source": [
        "X,y=train_df.drop(columns=dep_var),train_df[dep_var]"
      ]
    },
    {
      "cell_type": "code",
      "execution_count": 29,
      "id": "PxZXExPK77oD",
      "metadata": {
        "id": "PxZXExPK77oD"
      },
      "outputs": [],
      "source": [
        "categorical_cols = [cname for cname in X.columns if X[cname].nunique() < 10 and \n",
        "                        X[cname].dtype == \"object\"]\n",
        "numerical_cols = [cname for cname in X.columns if X[cname].dtype in ['int64', 'float64']]\n",
        "numerical_cols.remove(\"job\")"
      ]
    },
    {
      "cell_type": "code",
      "execution_count": 30,
      "id": "GUdPAjpk76qY",
      "metadata": {
        "id": "GUdPAjpk76qY"
      },
      "outputs": [],
      "source": [
        "preprocessor = ColumnTransformer(\n",
        "    transformers=[\n",
        "        ('num', numerical_transformer, numerical_cols),\n",
        "        ('cat', categorical_transformer, categorical_cols),\n",
        "        ('ord',ord_transformer,['job'])\n",
        "    ])"
      ]
    },
    {
      "cell_type": "code",
      "execution_count": 31,
      "id": "sBxqujKg8FDR",
      "metadata": {
        "id": "sBxqujKg8FDR"
      },
      "outputs": [],
      "source": [
        "xs=preprocessor.fit_transform(X)"
      ]
    },
    {
      "cell_type": "code",
      "execution_count": 33,
      "id": "68630771",
      "metadata": {},
      "outputs": [
        {
          "name": "stdout",
          "output_type": "stream",
          "text": [
            "['num_child', 'income', 'birth_day', 'employment_length', 'work_phone', 'phone', 'email', 'CNT_FAM_MEMBERS']\n",
            "['x0_F', 'x0_M', 'x1_N', 'x1_Y', 'x2_N', 'x2_Y', 'x3_Commercial associate', 'x3_Pensioner', 'x3_State servant', 'x3_Student', 'x3_Working', 'x4_Academic degree', 'x4_Higher education', 'x4_Incomplete higher', 'x4_Lower secondary', 'x4_Secondary / secondary special', 'x5_Civil marriage', 'x5_Married', 'x5_Separated', 'x5_Single / not married', 'x5_Widow', 'x6_Co-op apartment', 'x6_House / apartment', 'x6_Municipal apartment', 'x6_Office apartment', 'x6_Rented apartment', 'x6_With parents']\n",
            "['job']\n"
          ]
        }
      ],
      "source": [
        "#https://stackoverflow.com/questions/67554372/get-feature-names-of-columntransformer-using-standarscaler-and-one-hot-encoding\n",
        "tx = preprocessor.get_params()['transformers']\n",
        "feature_names = []\n",
        "for name,transformer,features in tx:\n",
        "    try:\n",
        "        Var = preprocessor.named_transformers_[name].get_feature_names().tolist()\n",
        "        print(Var)\n",
        "    except AttributeError:\n",
        "        print(features)\n",
        "        Var = features\n",
        "    feature_names = feature_names + Var"
      ]
    },
    {
      "cell_type": "code",
      "execution_count": 34,
      "id": "gpCTr2Oh_t_Q",
      "metadata": {
        "id": "gpCTr2Oh_t_Q"
      },
      "outputs": [],
      "source": [
        "score_df=pd.DataFrame()"
      ]
    },
    {
      "cell_type": "markdown",
      "id": "pvixVAlrN2nf",
      "metadata": {
        "id": "pvixVAlrN2nf"
      },
      "source": [
        "We will be doing cross validation with StratifiedKFold =5 and 5 repeats.\n",
        "We use StratifiedKFold instead of Kfold to perserve  the percentage of samples for each class."
      ]
    },
    {
      "cell_type": "code",
      "execution_count": 35,
      "id": "Uk6kEisNN2AP",
      "metadata": {
        "id": "Uk6kEisNN2AP"
      },
      "outputs": [],
      "source": [
        "cv = RepeatedStratifiedKFold(n_splits=n_splits, n_repeats=n_repeats, random_state=random_state)"
      ]
    },
    {
      "cell_type": "code",
      "execution_count": 36,
      "id": "nQxbNZZ4OAlw",
      "metadata": {
        "id": "nQxbNZZ4OAlw"
      },
      "outputs": [],
      "source": [
        "# dataframe of scores to be converted into plot later\n",
        "score_df=pd.DataFrame()"
      ]
    },
    {
      "cell_type": "markdown",
      "id": "otetLM2TJYq6",
      "metadata": {
        "id": "otetLM2TJYq6"
      },
      "source": [
        "\n",
        "* AUC is classification-threshold-invariant. It measures the quality of the model's predict_probaions irrespective of what classification threshold is chosen. \n",
        "https://developers.google.com/machine-learning/crash-course/classification/roc-and-auc\n",
        "* Thus we choose AUC as the banks who use the models can determine their own threshold risk probability for bad users and calculate their expected value/loss for these bad users and give them an appropriate interest rate when extending credit to them\n"
      ]
    },
    {
      "cell_type": "markdown",
      "id": "3HTQ7PwT-kzj",
      "metadata": {
        "id": "3HTQ7PwT-kzj"
      },
      "source": [
        "There is very little linearity in the imbalanced dataset for the linear dividing line of logisitic regression to work on. This can be seen from the low level of correlation in the table below where all variables have correlation between -0.03 and 0.03 and logisitic regression will be similar to random guessing so we do not try logisitic regression"
      ]
    },
    {
      "cell_type": "code",
      "execution_count": 37,
      "id": "w6bfiUl3Oehq",
      "metadata": {
        "colab": {
          "base_uri": "https://localhost:8080/",
          "height": 372
        },
        "id": "w6bfiUl3Oehq",
        "outputId": "25445402-9181-4373-8c80-9ff31e6bd767"
      },
      "outputs": [
        {
          "data": {
            "text/plain": [
              "(array([0.5]), [Text(0.5, 0, 'status')])"
            ]
          },
          "execution_count": 37,
          "metadata": {},
          "output_type": "execute_result"
        },
        {
          "data": {
            "image/png": "[encoded data removed]",
            "text/plain": [
              "<Figure size 864x360 with 2 Axes>"
            ]
          },
          "metadata": {
            "needs_background": "light"
          },
          "output_type": "display_data"
        }
      ],
      "source": [
        "import matplotlib.pyplot as plt\n",
        "import seaborn as sns\n",
        "plt.subplots(figsize=(12,5))\n",
        "status_correlation=train_df.corr()[[\"status\"]]\n",
        "sns.heatmap(status_correlation,annot=True,cmap='RdPu')\n",
        "plt.title('Correlation between the variables')\n",
        "plt.xticks(rotation=45)"
      ]
    },
    {
      "cell_type": "markdown",
      "id": "tBDScAaj9sfb",
      "metadata": {
        "id": "tBDScAaj9sfb"
      },
      "source": [
        "We cannot choose k= sqrt(len(X_train)) as it would be very hard to detect the minority class"
      ]
    },
    {
      "cell_type": "code",
      "execution_count": 38,
      "id": "WL5QVGSF8xI3",
      "metadata": {
        "colab": {
          "base_uri": "https://localhost:8080/"
        },
        "id": "WL5QVGSF8xI3",
        "outputId": "01880865-fadf-451c-90cc-2da703e2733e"
      },
      "outputs": [
        {
          "name": "stdout",
          "output_type": "stream",
          "text": [
            "KNN 1 with best score of 0.6382795564271608\n",
            "KNN 1 with best score of 0.6518970098391921\n",
            "KNN 1 with best score of 0.6584954762321464\n",
            "KNN 1 with avg score of 0.6518970098391921\n",
            "KNN 3 with best score of 0.7118711055317759\n",
            "KNN 3 with best score of 0.7138509868537846\n",
            "KNN 3 with best score of 0.7256113491151577\n",
            "KNN 3 with avg score of 0.7138509868537846\n",
            "KNN 5 with best score of 0.7346519095702991\n",
            "KNN 5 with avg score of 0.7199833634400001\n",
            "KNN 7 with avg score of 0.7196004182326842\n",
            "KNN 9 with avg score of 0.7082879559565913\n"
          ]
        }
      ],
      "source": [
        "# try different K values\n",
        "bestscore=0\n",
        "bestmodel,bestmodel_val_data=None,None\n",
        "for i in range(1,10,2):\n",
        "    scores=[]\n",
        "    for train_index, test_index in cv.split(xs,y):\n",
        "          X_train = xs[train_index]\n",
        "          y_train = y[train_index]\n",
        "          X_test = xs[test_index]\n",
        "          y_test = y[test_index]\n",
        "          model = KNeighborsClassifier(i)\n",
        "          model.fit(X_train, y_train)  \n",
        "          y_pred = model.predict_proba(X_test)[:,1]\n",
        "          score=roc_auc_score(y_test,y_pred)\n",
        "          if score>bestscore:\n",
        "              bestmodel=model\n",
        "              bestscore,bestmodel_val_data=score,[y_test,X_test]\n",
        "              print(f\"KNN {i} with best score of {score}\")\n",
        "          scores.append(roc_auc_score(y_test,y_pred))\n",
        "    score_df[\"KNN\"+str(i)]=scores\n",
        "    print(f\"KNN {i} with avg score of {np.median(np.array(scores))}\")"
      ]
    },
    {
      "cell_type": "code",
      "execution_count": 39,
      "id": "e75af1e8",
      "metadata": {},
      "outputs": [
        {
          "name": "stderr",
          "output_type": "stream",
          "text": [
            "c:\\Users\\siong hwee\\AppData\\Local\\Programs\\Python\\Python310\\lib\\site-packages\\sklearn\\utils\\deprecation.py:87: FutureWarning: Function plot_roc_curve is deprecated; Function :func:`plot_roc_curve` is deprecated in 1.0 and will be removed in 1.2. Use one of the class methods: :meth:`sklearn.metrics.RocCurveDisplay.from_predictions` or :meth:`sklearn.metrics.RocCurveDisplay.from_estimator`.\n",
            "  warnings.warn(msg, category=FutureWarning)\n"
          ]
        },
        {
          "data": {
            "text/plain": [
              "<sklearn.metrics._plot.roc_curve.RocCurveDisplay at 0x28ae9d66260>"
            ]
          },
          "execution_count": 39,
          "metadata": {},
          "output_type": "execute_result"
        },
        {
          "data": {
            "image/png": "[encoded data removed]",
            "text/plain": [
              "<Figure size 432x288 with 1 Axes>"
            ]
          },
          "metadata": {
            "needs_background": "light"
          },
          "output_type": "display_data"
        }
      ],
      "source": [
        "y_test,X_test=bestmodel_val_data\n",
        "plot_roc_curve(bestmodel,X_test,y_test)"
      ]
    },
    {
      "cell_type": "markdown",
      "id": "jpwucJst-zNx",
      "metadata": {
        "id": "jpwucJst-zNx"
      },
      "source": [
        "Knn with small K <5 is more senstitive to noise while k=5 is the best spot and the roc drops off after k=5."
      ]
    },
    {
      "cell_type": "code",
      "execution_count": 40,
      "id": "JAzYtjtP_NEn",
      "metadata": {
        "id": "JAzYtjtP_NEn"
      },
      "outputs": [
        {
          "name": "stdout",
          "output_type": "stream",
          "text": [
            "RandomForestClassifier with best score of 0.7863045917740434\n",
            "RandomForestClassifier with best score of 0.7899053723191118\n",
            "RandomForestClassifier with best score of 0.7993975556543564\n",
            "RandomForestClassifier with avg score of 0.7871905026420803\n"
          ]
        }
      ],
      "source": [
        "bestscore=0\n",
        "bestmodel,bestmodel_val_data=None,None\n",
        "scores=[]\n",
        "for train_index, test_index in cv.split(xs,y):\n",
        "      X_train = xs[train_index]\n",
        "      y_train = y[train_index]\n",
        "      X_test = xs[test_index]\n",
        "      y_test = y[test_index]\n",
        "      model = RandomForestClassifier(random_state=random_state,class_weight =\"balanced_subsample\")\n",
        "      model.fit(X_train, y_train )  \n",
        "      y_pred = model.predict_proba(X_test)[:,1]\n",
        "      score=roc_auc_score(y_test,y_pred)\n",
        "      if score>bestscore:\n",
        "          bestmodel=model\n",
        "          bestscore,bestmodel_val_data=score,[y_test,X_test]\n",
        "          print(f\"RandomForestClassifier with best score of {score}\")\n",
        "      scores.append(roc_auc_score(y_test,y_pred))\n",
        "score_df[\"RandomForestClassifier\"]=scores\n",
        "print(f\"RandomForestClassifier with avg score of {np.median(np.array(scores))}\")"
      ]
    },
    {
      "cell_type": "code",
      "execution_count": 41,
      "id": "cfdfaa59",
      "metadata": {},
      "outputs": [
        {
          "data": {
            "text/html": [
              "<div>\n",
              "<style scoped>\n",
              "    .dataframe tbody tr th:only-of-type {\n",
              "        vertical-align: middle;\n",
              "    }\n",
              "\n",
              "    .dataframe tbody tr th {\n",
              "        vertical-align: top;\n",
              "    }\n",
              "\n",
              "    .dataframe thead th {\n",
              "        text-align: right;\n",
              "    }\n",
              "</style>\n",
              "<table border=\"1\" class=\"dataframe\">\n",
              "  <thead>\n",
              "    <tr style=\"text-align: right;\">\n",
              "      <th></th>\n",
              "      <th>cols</th>\n",
              "      <th>imp</th>\n",
              "    </tr>\n",
              "  </thead>\n",
              "  <tbody>\n",
              "    <tr>\n",
              "      <th>2</th>\n",
              "      <td>birth_day</td>\n",
              "      <td>0.221869</td>\n",
              "    </tr>\n",
              "    <tr>\n",
              "      <th>3</th>\n",
              "      <td>employment_length</td>\n",
              "      <td>0.193863</td>\n",
              "    </tr>\n",
              "    <tr>\n",
              "      <th>1</th>\n",
              "      <td>income</td>\n",
              "      <td>0.159581</td>\n",
              "    </tr>\n",
              "    <tr>\n",
              "      <th>35</th>\n",
              "      <td>job</td>\n",
              "      <td>0.057847</td>\n",
              "    </tr>\n",
              "    <tr>\n",
              "      <th>7</th>\n",
              "      <td>CNT_FAM_MEMBERS</td>\n",
              "      <td>0.035046</td>\n",
              "    </tr>\n",
              "    <tr>\n",
              "      <th>5</th>\n",
              "      <td>phone</td>\n",
              "      <td>0.028149</td>\n",
              "    </tr>\n",
              "    <tr>\n",
              "      <th>0</th>\n",
              "      <td>num_child</td>\n",
              "      <td>0.026247</td>\n",
              "    </tr>\n",
              "    <tr>\n",
              "      <th>4</th>\n",
              "      <td>work_phone</td>\n",
              "      <td>0.023326</td>\n",
              "    </tr>\n",
              "    <tr>\n",
              "      <th>23</th>\n",
              "      <td>x4_Secondary / secondary special</td>\n",
              "      <td>0.016741</td>\n",
              "    </tr>\n",
              "    <tr>\n",
              "      <th>20</th>\n",
              "      <td>x4_Higher education</td>\n",
              "      <td>0.015852</td>\n",
              "    </tr>\n",
              "  </tbody>\n",
              "</table>\n",
              "</div>"
            ],
            "text/plain": [
              "                                cols       imp\n",
              "2                          birth_day  0.221869\n",
              "3                  employment_length  0.193863\n",
              "1                             income  0.159581\n",
              "35                               job  0.057847\n",
              "7                    CNT_FAM_MEMBERS  0.035046\n",
              "5                              phone  0.028149\n",
              "0                          num_child  0.026247\n",
              "4                         work_phone  0.023326\n",
              "23  x4_Secondary / secondary special  0.016741\n",
              "20               x4_Higher education  0.015852"
            ]
          },
          "execution_count": 41,
          "metadata": {},
          "output_type": "execute_result"
        }
      ],
      "source": [
        "\n",
        "def rf_feat_importance(m, feature_names):\n",
        "    return pd.DataFrame({'cols':feature_names, 'imp':m.feature_importances_}\n",
        "                       ).sort_values('imp', ascending=False)\n",
        "fi = rf_feat_importance(bestmodel, feature_names)\n",
        "fi[:10]"
      ]
    },
    {
      "cell_type": "code",
      "execution_count": 49,
      "id": "98710430",
      "metadata": {},
      "outputs": [
        {
          "data": {
            "image/png": "[encoded data removed]",
            "text/plain": [
              "<Figure size 864x504 with 1 Axes>"
            ]
          },
          "metadata": {
            "needs_background": "light"
          },
          "output_type": "display_data"
        }
      ],
      "source": [
        "def plot_fi(fi):\n",
        "    return fi.plot('cols', 'imp', 'barh', figsize=(12,7), legend=False)\n",
        "\n",
        "plot_fi(fi[:10])\n"
      ]
    },
    {
      "cell_type": "markdown",
      "id": "13f05cd3",
      "metadata": {},
      "source": [
        "birthday , employment length and income are the strong learners for the random forest. The random forest is able to differentiate using these variables"
      ]
    },
    {
      "cell_type": "code",
      "execution_count": null,
      "id": "9edb0151",
      "metadata": {},
      "outputs": [
        {
          "name": "stderr",
          "output_type": "stream",
          "text": [
            "c:\\Users\\siong hwee\\AppData\\Local\\Programs\\Python\\Python310\\lib\\site-packages\\sklearn\\utils\\deprecation.py:87: FutureWarning: Function plot_roc_curve is deprecated; Function :func:`plot_roc_curve` is deprecated in 1.0 and will be removed in 1.2. Use one of the class methods: :meth:`sklearn.metrics.RocCurveDisplay.from_predictions` or :meth:`sklearn.metrics.RocCurveDisplay.from_estimator`.\n",
            "  warnings.warn(msg, category=FutureWarning)\n"
          ]
        },
        {
          "data": {
            "text/plain": [
              "<sklearn.metrics._plot.roc_curve.RocCurveDisplay at 0x2440023a440>"
            ]
          },
          "execution_count": 104,
          "metadata": {},
          "output_type": "execute_result"
        },
        {
          "data": {
            "image/png": "[encoded data removed]",
            "text/plain": [
              "<Figure size 432x288 with 1 Axes>"
            ]
          },
          "metadata": {
            "needs_background": "light"
          },
          "output_type": "display_data"
        }
      ],
      "source": [
        "y_test,X_test=bestmodel_val_data\n",
        "plot_roc_curve(bestmodel,X_test,y_test)"
      ]
    },
    {
      "cell_type": "markdown",
      "id": "JmpS6xa2ADmq",
      "metadata": {
        "id": "JmpS6xa2ADmq"
      },
      "source": [
        "Random forests are an ensemble of decision trees and typically do better than decision trees so we do not use decision trees here. The random forest is able to construct association rules with the target, finding some temporal or causal relations. These relations do not need to occupy the same area in the vector space unlike KNN."
      ]
    },
    {
      "cell_type": "code",
      "execution_count": null,
      "id": "yE6PtiH8bDfW",
      "metadata": {
        "id": "yE6PtiH8bDfW"
      },
      "outputs": [],
      "source": [
        "score_df.to_csv(\"../content/score.csv\")"
      ]
    },
    {
      "cell_type": "markdown",
      "id": "ThrsCgY8H66P",
      "metadata": {
        "id": "ThrsCgY8H66P"
      },
      "source": [
        "SMOTE works by selecting examples that are close in the feature space, drawing a line between the examples in the feature space and drawing a new sample at a point along that line and it is one method to deal with imbalanced data\n",
        "https://arxiv.org/abs/1106.1813"
      ]
    },
    {
      "cell_type": "code",
      "execution_count": null,
      "id": "uq8VQ9ZDPPNy",
      "metadata": {
        "id": "uq8VQ9ZDPPNy"
      },
      "outputs": [],
      "source": [
        "# score Dataframe for model with smote \n",
        "score_df_smote=pd.DataFrame()"
      ]
    },
    {
      "cell_type": "code",
      "execution_count": null,
      "id": "LPQZgmXlPn-J",
      "metadata": {
        "id": "LPQZgmXlPn-J"
      },
      "outputs": [
        {
          "name": "stdout",
          "output_type": "stream",
          "text": [
            "KNN 1 with best score of 0.6414887801131642\n",
            "KNN 1 with best score of 0.6567133519262831\n",
            "KNN 1 with best score of 0.6629221340864431\n",
            "KNN 1 with best score of 0.6635315177651904\n",
            "KNN 1 with avg score of 0.6511503549044354\n",
            "KNN 3 with best score of 0.7105700615659181\n",
            "KNN 3 with best score of 0.7182151854983685\n",
            "KNN 3 with best score of 0.7215766641773171\n",
            "KNN 3 with best score of 0.7269308493465185\n",
            "KNN 3 with best score of 0.7276695919242164\n",
            "KNN 3 with best score of 0.7363527839588776\n",
            "KNN 3 with avg score of 0.7210010700217446\n",
            "KNN 5 with best score of 0.7408446649469501\n",
            "KNN 5 with best score of 0.7409355243958073\n",
            "KNN 5 with best score of 0.742826814099937\n",
            "KNN 5 with avg score of 0.7262072349123492\n",
            "KNN 7 with best score of 0.7499992752985136\n",
            "KNN 7 with avg score of 0.7240156470297928\n",
            "KNN 9 with avg score of 0.7247673436465603\n",
            "KNN 11 with avg score of 0.7212305619983581\n"
          ]
        }
      ],
      "source": [
        "bestscore=0\n",
        "bestmodel,bestmodel_val_data=None,None\n",
        "# we stop at k ==11 as it seems that the knn auc roc score drops off at k=7\n",
        "for i in range(1,12,2):\n",
        "    scores=[]\n",
        "    for train_index, test_index in cv.split(xs,y):\n",
        "        X_train = xs[train_index]\n",
        "        y_train = y[train_index]\n",
        "        X_test = xs[test_index]\n",
        "        y_test = y[test_index]\n",
        "        sm = SMOTE()\n",
        "        X_train_oversampled, y_train_oversampled = sm.fit_resample(X_train, y_train)\n",
        "        model = KNeighborsClassifier(i)\n",
        "        model.fit(X_train_oversampled, y_train_oversampled)  \n",
        "        y_pred = model.predict_proba(X_test)[:,1]\n",
        "        score=roc_auc_score(y_test,y_pred)\n",
        "        scores.append(score)\n",
        "        if score>bestscore:\n",
        "            bestmodel=model\n",
        "            bestscore,bestmodel_val_data=score,[y_test,X_test]\n",
        "            print(f\"KNN {i} with best score of {score}\")\n",
        "    score_df_smote[\"KNN\"+str(i)]=scores\n",
        "    print(f\"KNN {i} with avg score of {np.median(np.array(scores))}\")"
      ]
    },
    {
      "cell_type": "code",
      "execution_count": null,
      "id": "4588f3a0",
      "metadata": {},
      "outputs": [
        {
          "name": "stderr",
          "output_type": "stream",
          "text": [
            "c:\\Users\\siong hwee\\AppData\\Local\\Programs\\Python\\Python310\\lib\\site-packages\\sklearn\\utils\\deprecation.py:87: FutureWarning: Function plot_roc_curve is deprecated; Function :func:`plot_roc_curve` is deprecated in 1.0 and will be removed in 1.2. Use one of the class methods: :meth:`sklearn.metrics.RocCurveDisplay.from_predictions` or :meth:`sklearn.metrics.RocCurveDisplay.from_estimator`.\n",
            "  warnings.warn(msg, category=FutureWarning)\n"
          ]
        },
        {
          "data": {
            "text/plain": [
              "<sklearn.metrics._plot.roc_curve.RocCurveDisplay at 0x24400540700>"
            ]
          },
          "execution_count": 109,
          "metadata": {},
          "output_type": "execute_result"
        },
        {
          "data": {
            "image/png": "[encoded data removed]",
            "text/plain": [
              "<Figure size 432x288 with 1 Axes>"
            ]
          },
          "metadata": {
            "needs_background": "light"
          },
          "output_type": "display_data"
        }
      ],
      "source": [
        "y_test,X_test=bestmodel_val_data\n",
        "plot_roc_curve(bestmodel,X_test,y_test)"
      ]
    },
    {
      "cell_type": "markdown",
      "id": "zLxPvcmdkgzz",
      "metadata": {
        "id": "zLxPvcmdkgzz"
      },
      "source": [
        "Smote works by using a random example from the minority class which is first chosen. Then k of the nearest neighbors for that example are found (k=5 is the default value which is used here). A randomly selected neighbor is chosen and a synthetic example is created at a randomly selected point between the two examples in feature space. Thus, smote is essentially overfitting our KNN classifier\n",
        "https://machinelearningmastery.com/smote-oversampling-for-imbalanced-classification/"
      ]
    },
    {
      "cell_type": "code",
      "execution_count": null,
      "id": "gvxhBwzRQm7f",
      "metadata": {
        "id": "gvxhBwzRQm7f"
      },
      "outputs": [
        {
          "name": "stdout",
          "output_type": "stream",
          "text": [
            "RandomForestClassifier with best score of 0.7843204069818259\n",
            "RandomForestClassifier with best score of 0.7907226179684992\n",
            "RandomForestClassifier with best score of 0.797352266884367\n",
            "RandomForestClassifier with best score of 0.8021178994297268\n",
            "RandomForestClassifier with best score of 0.8026743840127953\n",
            "RandomForestClassifier with avg score of 0.7887226121720137\n"
          ]
        }
      ],
      "source": [
        "bestscore=0\n",
        "bestmodel,bestmodel_val_data=None,None\n",
        "scores=[]\n",
        "for train_index, test_index in cv.split(xs,y):\n",
        "      X_train = xs[train_index]\n",
        "      y_train = y[train_index]\n",
        "      X_test = xs[test_index]\n",
        "      y_test = y[test_index]\n",
        "      sm = SMOTE()\n",
        "      X_train_oversampled, y_train_oversampled = sm.fit_resample(X_train, y_train)\n",
        "      model = RandomForestClassifier(random_state=random_state)\n",
        "      model.fit(X_train_oversampled, y_train_oversampled)  \n",
        "      y_pred = model.predict_proba(X_test)[:,1]\n",
        "      score=roc_auc_score(y_test,y_pred)\n",
        "      scores.append(score)\n",
        "      if score>bestscore:\n",
        "            bestmodel=model\n",
        "            bestscore,bestmodel_val_data=score,[y_test,X_test]\n",
        "            print(f\"RandomForestClassifier with best score of {score}\")\n",
        "score_df_smote[\"RandomForestClassifier\"]=scores\n",
        "print(f\"RandomForestClassifier with avg score of {np.median(np.array(scores))}\")"
      ]
    },
    {
      "cell_type": "code",
      "execution_count": null,
      "id": "329370ef",
      "metadata": {},
      "outputs": [],
      "source": [
        "fi = rf_feat_importance(bestmodel, feature_names)\n",
        "fi[:10]"
      ]
    },
    {
      "cell_type": "code",
      "execution_count": null,
      "id": "bf0ccd5c",
      "metadata": {},
      "outputs": [],
      "source": [
        "plot_fi(fi)"
      ]
    },
    {
      "cell_type": "code",
      "execution_count": null,
      "id": "5c199e2d",
      "metadata": {},
      "outputs": [
        {
          "name": "stderr",
          "output_type": "stream",
          "text": [
            "c:\\Users\\siong hwee\\AppData\\Local\\Programs\\Python\\Python310\\lib\\site-packages\\sklearn\\utils\\deprecation.py:87: FutureWarning: Function plot_roc_curve is deprecated; Function :func:`plot_roc_curve` is deprecated in 1.0 and will be removed in 1.2. Use one of the class methods: :meth:`sklearn.metrics.RocCurveDisplay.from_predictions` or :meth:`sklearn.metrics.RocCurveDisplay.from_estimator`.\n",
            "  warnings.warn(msg, category=FutureWarning)\n"
          ]
        },
        {
          "data": {
            "text/plain": [
              "<sklearn.metrics._plot.roc_curve.RocCurveDisplay at 0x244016d2e30>"
            ]
          },
          "execution_count": 111,
          "metadata": {},
          "output_type": "execute_result"
        },
        {
          "data": {
            "image/png": "[encoded data removed]",
            "text/plain": [
              "<Figure size 432x288 with 1 Axes>"
            ]
          },
          "metadata": {
            "needs_background": "light"
          },
          "output_type": "display_data"
        }
      ],
      "source": [
        "y_test,X_test=bestmodel_val_data\n",
        "plot_roc_curve(bestmodel,X_test,y_test)"
      ]
    },
    {
      "cell_type": "code",
      "execution_count": null,
      "id": "iHOPGiqRbJsH",
      "metadata": {
        "id": "iHOPGiqRbJsH"
      },
      "outputs": [],
      "source": [
        "score_df_smote.to_csv(\"../content/score_smote.csv\")"
      ]
    },
    {
      "cell_type": "markdown",
      "id": "zG_hWTsKQPkT",
      "metadata": {
        "id": "zG_hWTsKQPkT"
      },
      "source": [
        "We could also try tomek links on knn and rf."
      ]
    },
    {
      "cell_type": "code",
      "execution_count": null,
      "id": "xS81wLi-PhED",
      "metadata": {
        "id": "xS81wLi-PhED"
      },
      "outputs": [],
      "source": [
        "from imblearn.under_sampling import TomekLinks"
      ]
    },
    {
      "cell_type": "code",
      "execution_count": null,
      "id": "v0CnXS8SZEAF",
      "metadata": {
        "id": "v0CnXS8SZEAF"
      },
      "outputs": [],
      "source": [
        "#tomek link dataframe\n",
        "score_df_tl=pd.DataFrame()"
      ]
    },
    {
      "cell_type": "code",
      "execution_count": null,
      "id": "na0a8ibbYjyN",
      "metadata": {
        "id": "na0a8ibbYjyN"
      },
      "outputs": [
        {
          "name": "stdout",
          "output_type": "stream",
          "text": [
            "KNN 1 with best score of 0.6394402624563718\n",
            "KNN 1 with best score of 0.651158653800867\n",
            "KNN 1 with best score of 0.6581842169437382\n",
            "KNN 1 with avg score of 0.6466452481142361\n",
            "KNN 3 with best score of 0.7121791975203526\n",
            "KNN 3 with best score of 0.7124123156917685\n",
            "KNN 3 with best score of 0.7264477452181478\n",
            "KNN 3 with best score of 0.728554490298224\n",
            "KNN 3 with best score of 0.729308413748022\n",
            "KNN 3 with avg score of 0.7201223694694859\n",
            "KNN 5 with best score of 0.7363705391452943\n",
            "KNN 5 with best score of 0.737917414468013\n",
            "KNN 5 with avg score of 0.724461429031614\n",
            "KNN 7 with avg score of 0.7177532601063841\n",
            "KNN 9 with avg score of 0.7068583393392969\n"
          ]
        }
      ],
      "source": [
        "bestscore=0\n",
        "bestmodel,bestmodel_val_data=None,None\n",
        "scores=[]\n",
        "# we stop at k ==9 as it seems that the knn auc roc score drops off at k=7\n",
        "for i in range(1,10,2):\n",
        "    scores=[]\n",
        "    for train_index, test_index in cv.split(xs,y):\n",
        "        X_train = xs[train_index]\n",
        "        y_train = y[train_index]\n",
        "        X_test = xs[test_index]\n",
        "        y_test = y[test_index]\n",
        "        tl = TomekLinks()\n",
        "        X_train_undersampled, y_train_undersampled = tl.fit_resample(X_train, y_train)\n",
        "        model = KNeighborsClassifier(i)\n",
        "        model.fit(X_train_undersampled, y_train_undersampled)  \n",
        "        y_pred = model.predict_proba(X_test)[:,1]\n",
        "        score=roc_auc_score(y_test,y_pred)\n",
        "        scores.append(score)\n",
        "        if score>bestscore:\n",
        "            bestmodel=model\n",
        "            bestscore,bestmodel_val_data=score,[y_test,X_test]\n",
        "            print(f\"KNN {i} with best score of {score}\")\n",
        "    score_df_tl[\"KNN\"+str(i)]=scores\n",
        "    print(f\"KNN {i} with avg score of {np.median(np.array(scores))}\")"
      ]
    },
    {
      "cell_type": "code",
      "execution_count": null,
      "id": "769a7f18",
      "metadata": {},
      "outputs": [
        {
          "name": "stderr",
          "output_type": "stream",
          "text": [
            "c:\\Users\\siong hwee\\AppData\\Local\\Programs\\Python\\Python310\\lib\\site-packages\\sklearn\\utils\\deprecation.py:87: FutureWarning: Function plot_roc_curve is deprecated; Function :func:`plot_roc_curve` is deprecated in 1.0 and will be removed in 1.2. Use one of the class methods: :meth:`sklearn.metrics.RocCurveDisplay.from_predictions` or :meth:`sklearn.metrics.RocCurveDisplay.from_estimator`.\n",
            "  warnings.warn(msg, category=FutureWarning)\n"
          ]
        },
        {
          "data": {
            "text/plain": [
              "<sklearn.metrics._plot.roc_curve.RocCurveDisplay at 0x2440166b160>"
            ]
          },
          "execution_count": 116,
          "metadata": {},
          "output_type": "execute_result"
        },
        {
          "data": {
            "image/png": "[encoded data removed]",
            "text/plain": [
              "<Figure size 432x288 with 1 Axes>"
            ]
          },
          "metadata": {
            "needs_background": "light"
          },
          "output_type": "display_data"
        }
      ],
      "source": [
        "y_test,X_test=bestmodel_val_data\n",
        "plot_roc_curve(bestmodel,X_test,y_test)"
      ]
    },
    {
      "cell_type": "code",
      "execution_count": null,
      "id": "njq-1Ro9Y92x",
      "metadata": {
        "id": "njq-1Ro9Y92x"
      },
      "outputs": [
        {
          "name": "stdout",
          "output_type": "stream",
          "text": [
            "RandomForestClassifier with best score of 0.786336622482988\n",
            "RandomForestClassifier with best score of 0.7939022044166589\n",
            "RandomForestClassifier with best score of 0.7986730353433291\n",
            "RandomForestClassifier with best score of 0.8012694475716108\n",
            "RandomForestClassifier with best score of 0.8021922758216827\n",
            "RandomForestClassifier with best score of 0.8038252099731968\n",
            "RandomForestClassifier with best score of 0.8045463785398498\n",
            "RandomForestClassifier with best score of 0.8048884376414299\n",
            "RandomForestClassifier with avg score of 0.7919437157106285\n"
          ]
        }
      ],
      "source": [
        "bestscore=0\n",
        "bestmodel,bestmodel_val_data=None,None\n",
        "scores=[]\n",
        "for train_index, test_index in cv.split(xs,y):\n",
        "      X_train = xs[train_index]\n",
        "      y_train = y[train_index]\n",
        "      X_test = xs[test_index]\n",
        "      y_test = y[test_index]\n",
        "      sm = SMOTE()\n",
        "      X_train_undersampled, y_train_undersampled = tl.fit_resample(X_train, y_train)\n",
        "      model = RandomForestClassifier(random_state=random_state)\n",
        "      model.fit(X_train_undersampled, y_train_undersampled)   \n",
        "      y_pred = model.predict_proba(X_test)[:,1]\n",
        "      score=roc_auc_score(y_test,y_pred)\n",
        "      scores.append(score)\n",
        "      if score>bestscore:\n",
        "            bestmodel=model\n",
        "            bestscore,bestmodel_val_data=score,[y_test,X_test]\n",
        "            print(f\"RandomForestClassifier with best score of {score}\")\n",
        "score_df_tl[\"RandomForestClassifier\"]=scores\n",
        "print(f\"RandomForestClassifier with avg score of {np.median(np.array(scores))}\")"
      ]
    },
    {
      "cell_type": "code",
      "execution_count": null,
      "id": "d4381c8e",
      "metadata": {},
      "outputs": [
        {
          "name": "stderr",
          "output_type": "stream",
          "text": [
            "c:\\Users\\siong hwee\\AppData\\Local\\Programs\\Python\\Python310\\lib\\site-packages\\sklearn\\utils\\deprecation.py:87: FutureWarning: Function plot_roc_curve is deprecated; Function :func:`plot_roc_curve` is deprecated in 1.0 and will be removed in 1.2. Use one of the class methods: :meth:`sklearn.metrics.RocCurveDisplay.from_predictions` or :meth:`sklearn.metrics.RocCurveDisplay.from_estimator`.\n",
            "  warnings.warn(msg, category=FutureWarning)\n"
          ]
        },
        {
          "data": {
            "text/plain": [
              "<sklearn.metrics._plot.roc_curve.RocCurveDisplay at 0x24404a7bdc0>"
            ]
          },
          "execution_count": 121,
          "metadata": {},
          "output_type": "execute_result"
        },
        {
          "data": {
            "image/png": "[encoded data removed]",
            "text/plain": [
              "<Figure size 432x288 with 1 Axes>"
            ]
          },
          "metadata": {
            "needs_background": "light"
          },
          "output_type": "display_data"
        }
      ],
      "source": [
        "y_test,X_test=bestmodel_val_data\n",
        "plot_roc_curve(bestmodel,X_test,y_test)"
      ]
    },
    {
      "cell_type": "code",
      "execution_count": null,
      "id": "eb252a24",
      "metadata": {},
      "outputs": [
        {
          "data": {
            "text/html": [
              "<div>\n",
              "<style scoped>\n",
              "    .dataframe tbody tr th:only-of-type {\n",
              "        vertical-align: middle;\n",
              "    }\n",
              "\n",
              "    .dataframe tbody tr th {\n",
              "        vertical-align: top;\n",
              "    }\n",
              "\n",
              "    .dataframe thead th {\n",
              "        text-align: right;\n",
              "    }\n",
              "</style>\n",
              "<table border=\"1\" class=\"dataframe\">\n",
              "  <thead>\n",
              "    <tr style=\"text-align: right;\">\n",
              "      <th></th>\n",
              "      <th>cols</th>\n",
              "      <th>imp</th>\n",
              "    </tr>\n",
              "  </thead>\n",
              "  <tbody>\n",
              "    <tr>\n",
              "      <th>2</th>\n",
              "      <td>birth_day</td>\n",
              "      <td>0.225850</td>\n",
              "    </tr>\n",
              "    <tr>\n",
              "      <th>3</th>\n",
              "      <td>employment_length</td>\n",
              "      <td>0.195903</td>\n",
              "    </tr>\n",
              "    <tr>\n",
              "      <th>1</th>\n",
              "      <td>income</td>\n",
              "      <td>0.154938</td>\n",
              "    </tr>\n",
              "    <tr>\n",
              "      <th>36</th>\n",
              "      <td>job</td>\n",
              "      <td>0.035448</td>\n",
              "    </tr>\n",
              "    <tr>\n",
              "      <th>7</th>\n",
              "      <td>job</td>\n",
              "      <td>0.035408</td>\n",
              "    </tr>\n",
              "    <tr>\n",
              "      <th>8</th>\n",
              "      <td>CNT_FAM_MEMBERS</td>\n",
              "      <td>0.034578</td>\n",
              "    </tr>\n",
              "    <tr>\n",
              "      <th>5</th>\n",
              "      <td>phone</td>\n",
              "      <td>0.027925</td>\n",
              "    </tr>\n",
              "    <tr>\n",
              "      <th>0</th>\n",
              "      <td>num_child</td>\n",
              "      <td>0.025459</td>\n",
              "    </tr>\n",
              "    <tr>\n",
              "      <th>4</th>\n",
              "      <td>work_phone</td>\n",
              "      <td>0.021779</td>\n",
              "    </tr>\n",
              "    <tr>\n",
              "      <th>19</th>\n",
              "      <td>x3_Working</td>\n",
              "      <td>0.014646</td>\n",
              "    </tr>\n",
              "  </tbody>\n",
              "</table>\n",
              "</div>"
            ],
            "text/plain": [
              "                 cols       imp\n",
              "2           birth_day  0.225850\n",
              "3   employment_length  0.195903\n",
              "1              income  0.154938\n",
              "36                job  0.035448\n",
              "7                 job  0.035408\n",
              "8     CNT_FAM_MEMBERS  0.034578\n",
              "5               phone  0.027925\n",
              "0           num_child  0.025459\n",
              "4          work_phone  0.021779\n",
              "19         x3_Working  0.014646"
            ]
          },
          "execution_count": 122,
          "metadata": {},
          "output_type": "execute_result"
        }
      ],
      "source": [
        "fi = rf_feat_importance(bestmodel, feature_names)\n",
        "fi[:10]"
      ]
    },
    {
      "cell_type": "code",
      "execution_count": null,
      "id": "26b29eb3",
      "metadata": {},
      "outputs": [
        {
          "data": {
            "text/plain": [
              "<AxesSubplot:ylabel='cols'>"
            ]
          },
          "execution_count": 123,
          "metadata": {},
          "output_type": "execute_result"
        },
        {
          "data": {
            "image/png": "[encoded data removed]",
            "text/plain": [
              "<Figure size 864x504 with 1 Axes>"
            ]
          },
          "metadata": {
            "needs_background": "light"
          },
          "output_type": "display_data"
        }
      ],
      "source": [
        "plot_fi(fi)"
      ]
    },
    {
      "cell_type": "code",
      "execution_count": null,
      "id": "x3VY5pyWbN3e",
      "metadata": {
        "id": "x3VY5pyWbN3e"
      },
      "outputs": [],
      "source": [
        "score_df_tl.to_csv(\"../content/score_tl.csv\")"
      ]
    },
    {
      "cell_type": "code",
      "execution_count": null,
      "id": "70badcb2",
      "metadata": {},
      "outputs": [],
      "source": []
    }
  ],
  "metadata": {
    "colab": {
      "collapsed_sections": [],
      "include_colab_link": true,
      "provenance": []
    },
    "kernelspec": {
      "display_name": "Python 3.10.0 64-bit",
      "language": "python",
      "name": "python3"
    },
    "language_info": {
      "codemirror_mode": {
        "name": "ipython",
        "version": 3
      },
      "file_extension": ".py",
      "mimetype": "text/x-python",
      "name": "python",
      "nbconvert_exporter": "python",
      "pygments_lexer": "ipython3",
      "version": "3.10.0"
    },
    "vscode": {
      "interpreter": {
        "hash": "525f50cd3df40e9d57f214b2f9bedadf4bf08c85f9f5b3b27734de5b2eace747"
      }
    }
  },
  "nbformat": 4,
  "nbformat_minor": 5
}
