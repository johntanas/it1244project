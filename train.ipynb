{
 "cells": [
  {
   "cell_type": "code",
   "execution_count": 1,
   "id": "5179ea71",
   "metadata": {},
   "outputs": [],
   "source": [
    "import pandas as pd\n",
    "import numpy as np"
   ]
  },
  {
   "cell_type": "code",
   "execution_count": 2,
   "id": "cb2b7195",
   "metadata": {},
   "outputs": [],
   "source": [
    "app_df=pd.read_csv(\"./content/cleaned_application.csv\",index_col=0)"
   ]
  },
  {
   "cell_type": "code",
   "execution_count": 3,
   "id": "44a0cd6a",
   "metadata": {},
   "outputs": [
    {
     "name": "stderr",
     "output_type": "stream",
     "text": [
      "C:\\Users\\siong hwee\\anaconda3\\lib\\site-packages\\numpy\\lib\\arraysetops.py:583: FutureWarning: elementwise comparison failed; returning scalar instead, but in the future will perform elementwise comparison\n",
      "  mask |= (ar1 == a)\n"
     ]
    }
   ],
   "source": [
    "credit_record=pd.read_csv(\"./content/credit_record.csv\",index_col=0)"
   ]
  },
  {
   "cell_type": "code",
   "execution_count": 4,
   "id": "34b22dd3",
   "metadata": {},
   "outputs": [
    {
     "data": {
      "text/html": [
       "<div>\n",
       "<style scoped>\n",
       "    .dataframe tbody tr th:only-of-type {\n",
       "        vertical-align: middle;\n",
       "    }\n",
       "\n",
       "    .dataframe tbody tr th {\n",
       "        vertical-align: top;\n",
       "    }\n",
       "\n",
       "    .dataframe thead th {\n",
       "        text-align: right;\n",
       "    }\n",
       "</style>\n",
       "<table border=\"1\" class=\"dataframe\">\n",
       "  <thead>\n",
       "    <tr style=\"text-align: right;\">\n",
       "      <th></th>\n",
       "      <th>id</th>\n",
       "      <th>gender</th>\n",
       "      <th>own_car</th>\n",
       "      <th>own_realty</th>\n",
       "      <th>num_child</th>\n",
       "      <th>income</th>\n",
       "      <th>income_type</th>\n",
       "      <th>education_level</th>\n",
       "      <th>family_status</th>\n",
       "      <th>house_type</th>\n",
       "      <th>birth_day</th>\n",
       "      <th>employment_length</th>\n",
       "      <th>mobile</th>\n",
       "      <th>work_phone</th>\n",
       "      <th>phone</th>\n",
       "      <th>email</th>\n",
       "      <th>job</th>\n",
       "      <th>CNT_FAM_MEMBERS</th>\n",
       "    </tr>\n",
       "  </thead>\n",
       "  <tbody>\n",
       "    <tr>\n",
       "      <th>0</th>\n",
       "      <td>5008804</td>\n",
       "      <td>M</td>\n",
       "      <td>Y</td>\n",
       "      <td>Y</td>\n",
       "      <td>0</td>\n",
       "      <td>427500.0</td>\n",
       "      <td>Working</td>\n",
       "      <td>Higher education</td>\n",
       "      <td>Civil marriage</td>\n",
       "      <td>Rented apartment</td>\n",
       "      <td>-12005</td>\n",
       "      <td>-4542</td>\n",
       "      <td>1</td>\n",
       "      <td>1</td>\n",
       "      <td>0</td>\n",
       "      <td>0</td>\n",
       "      <td>High skill tech staff</td>\n",
       "      <td>2.0</td>\n",
       "    </tr>\n",
       "    <tr>\n",
       "      <th>1</th>\n",
       "      <td>5008805</td>\n",
       "      <td>M</td>\n",
       "      <td>Y</td>\n",
       "      <td>Y</td>\n",
       "      <td>0</td>\n",
       "      <td>427500.0</td>\n",
       "      <td>Working</td>\n",
       "      <td>Higher education</td>\n",
       "      <td>Civil marriage</td>\n",
       "      <td>Rented apartment</td>\n",
       "      <td>-12005</td>\n",
       "      <td>-4542</td>\n",
       "      <td>1</td>\n",
       "      <td>1</td>\n",
       "      <td>0</td>\n",
       "      <td>0</td>\n",
       "      <td>High skill tech staff</td>\n",
       "      <td>2.0</td>\n",
       "    </tr>\n",
       "    <tr>\n",
       "      <th>2</th>\n",
       "      <td>5008806</td>\n",
       "      <td>M</td>\n",
       "      <td>Y</td>\n",
       "      <td>Y</td>\n",
       "      <td>0</td>\n",
       "      <td>112500.0</td>\n",
       "      <td>Working</td>\n",
       "      <td>Secondary / secondary special</td>\n",
       "      <td>Married</td>\n",
       "      <td>House / apartment</td>\n",
       "      <td>-21474</td>\n",
       "      <td>-1134</td>\n",
       "      <td>1</td>\n",
       "      <td>0</td>\n",
       "      <td>0</td>\n",
       "      <td>0</td>\n",
       "      <td>Security staff</td>\n",
       "      <td>2.0</td>\n",
       "    </tr>\n",
       "    <tr>\n",
       "      <th>3</th>\n",
       "      <td>5008808</td>\n",
       "      <td>F</td>\n",
       "      <td>N</td>\n",
       "      <td>Y</td>\n",
       "      <td>0</td>\n",
       "      <td>270000.0</td>\n",
       "      <td>Commercial associate</td>\n",
       "      <td>Secondary / secondary special</td>\n",
       "      <td>Single / not married</td>\n",
       "      <td>House / apartment</td>\n",
       "      <td>-19110</td>\n",
       "      <td>-3051</td>\n",
       "      <td>1</td>\n",
       "      <td>0</td>\n",
       "      <td>1</td>\n",
       "      <td>1</td>\n",
       "      <td>Sales staff</td>\n",
       "      <td>1.0</td>\n",
       "    </tr>\n",
       "    <tr>\n",
       "      <th>4</th>\n",
       "      <td>5008809</td>\n",
       "      <td>F</td>\n",
       "      <td>N</td>\n",
       "      <td>Y</td>\n",
       "      <td>0</td>\n",
       "      <td>270000.0</td>\n",
       "      <td>Commercial associate</td>\n",
       "      <td>Secondary / secondary special</td>\n",
       "      <td>Single / not married</td>\n",
       "      <td>House / apartment</td>\n",
       "      <td>-19110</td>\n",
       "      <td>-3051</td>\n",
       "      <td>1</td>\n",
       "      <td>0</td>\n",
       "      <td>1</td>\n",
       "      <td>1</td>\n",
       "      <td>Sales staff</td>\n",
       "      <td>1.0</td>\n",
       "    </tr>\n",
       "  </tbody>\n",
       "</table>\n",
       "</div>"
      ],
      "text/plain": [
       "        id gender own_car own_realty  num_child    income  \\\n",
       "0  5008804      M       Y          Y          0  427500.0   \n",
       "1  5008805      M       Y          Y          0  427500.0   \n",
       "2  5008806      M       Y          Y          0  112500.0   \n",
       "3  5008808      F       N          Y          0  270000.0   \n",
       "4  5008809      F       N          Y          0  270000.0   \n",
       "\n",
       "            income_type                education_level         family_status  \\\n",
       "0               Working               Higher education        Civil marriage   \n",
       "1               Working               Higher education        Civil marriage   \n",
       "2               Working  Secondary / secondary special               Married   \n",
       "3  Commercial associate  Secondary / secondary special  Single / not married   \n",
       "4  Commercial associate  Secondary / secondary special  Single / not married   \n",
       "\n",
       "          house_type  birth_day  employment_length  mobile  work_phone  phone  \\\n",
       "0   Rented apartment     -12005              -4542       1           1      0   \n",
       "1   Rented apartment     -12005              -4542       1           1      0   \n",
       "2  House / apartment     -21474              -1134       1           0      0   \n",
       "3  House / apartment     -19110              -3051       1           0      1   \n",
       "4  House / apartment     -19110              -3051       1           0      1   \n",
       "\n",
       "   email                    job  CNT_FAM_MEMBERS  \n",
       "0      0  High skill tech staff              2.0  \n",
       "1      0  High skill tech staff              2.0  \n",
       "2      0         Security staff              2.0  \n",
       "3      1            Sales staff              1.0  \n",
       "4      1            Sales staff              1.0  "
      ]
     },
     "execution_count": 4,
     "metadata": {},
     "output_type": "execute_result"
    }
   ],
   "source": [
    "app_df.head()"
   ]
  },
  {
   "cell_type": "code",
   "execution_count": 5,
   "id": "ca0b1598",
   "metadata": {},
   "outputs": [
    {
     "data": {
      "text/plain": [
       "array([1], dtype=int64)"
      ]
     },
     "execution_count": 5,
     "metadata": {},
     "output_type": "execute_result"
    }
   ],
   "source": [
    "app_df[\"mobile\"].unique()"
   ]
  },
  {
   "cell_type": "markdown",
   "id": "6b30c832",
   "metadata": {},
   "source": [
    "Everyone has a mobile phone, we should drop this redundant factor (cardinality=1) to reduce the dimesionality of our data"
   ]
  },
  {
   "cell_type": "code",
   "execution_count": 6,
   "id": "955ed104",
   "metadata": {},
   "outputs": [],
   "source": [
    "no_mobile=app_df.drop(columns=[\"mobile\"])"
   ]
  },
  {
   "cell_type": "code",
   "execution_count": 7,
   "id": "de915099",
   "metadata": {},
   "outputs": [
    {
     "data": {
      "text/html": [
       "<div>\n",
       "<style scoped>\n",
       "    .dataframe tbody tr th:only-of-type {\n",
       "        vertical-align: middle;\n",
       "    }\n",
       "\n",
       "    .dataframe tbody tr th {\n",
       "        vertical-align: top;\n",
       "    }\n",
       "\n",
       "    .dataframe thead th {\n",
       "        text-align: right;\n",
       "    }\n",
       "</style>\n",
       "<table border=\"1\" class=\"dataframe\">\n",
       "  <thead>\n",
       "    <tr style=\"text-align: right;\">\n",
       "      <th></th>\n",
       "      <th>id</th>\n",
       "      <th>month_bal</th>\n",
       "      <th>status</th>\n",
       "    </tr>\n",
       "  </thead>\n",
       "  <tbody>\n",
       "    <tr>\n",
       "      <th>0</th>\n",
       "      <td>5001711</td>\n",
       "      <td>0</td>\n",
       "      <td>X</td>\n",
       "    </tr>\n",
       "    <tr>\n",
       "      <th>1</th>\n",
       "      <td>5001711</td>\n",
       "      <td>-1</td>\n",
       "      <td>0</td>\n",
       "    </tr>\n",
       "    <tr>\n",
       "      <th>2</th>\n",
       "      <td>5001711</td>\n",
       "      <td>-2</td>\n",
       "      <td>0</td>\n",
       "    </tr>\n",
       "    <tr>\n",
       "      <th>3</th>\n",
       "      <td>5001711</td>\n",
       "      <td>-3</td>\n",
       "      <td>0</td>\n",
       "    </tr>\n",
       "    <tr>\n",
       "      <th>4</th>\n",
       "      <td>5001712</td>\n",
       "      <td>0</td>\n",
       "      <td>C</td>\n",
       "    </tr>\n",
       "    <tr>\n",
       "      <th>...</th>\n",
       "      <td>...</td>\n",
       "      <td>...</td>\n",
       "      <td>...</td>\n",
       "    </tr>\n",
       "    <tr>\n",
       "      <th>1048570</th>\n",
       "      <td>5150487</td>\n",
       "      <td>-25</td>\n",
       "      <td>C</td>\n",
       "    </tr>\n",
       "    <tr>\n",
       "      <th>1048571</th>\n",
       "      <td>5150487</td>\n",
       "      <td>-26</td>\n",
       "      <td>C</td>\n",
       "    </tr>\n",
       "    <tr>\n",
       "      <th>1048572</th>\n",
       "      <td>5150487</td>\n",
       "      <td>-27</td>\n",
       "      <td>C</td>\n",
       "    </tr>\n",
       "    <tr>\n",
       "      <th>1048573</th>\n",
       "      <td>5150487</td>\n",
       "      <td>-28</td>\n",
       "      <td>C</td>\n",
       "    </tr>\n",
       "    <tr>\n",
       "      <th>1048574</th>\n",
       "      <td>5150487</td>\n",
       "      <td>-29</td>\n",
       "      <td>C</td>\n",
       "    </tr>\n",
       "  </tbody>\n",
       "</table>\n",
       "<p>1048575 rows × 3 columns</p>\n",
       "</div>"
      ],
      "text/plain": [
       "              id  month_bal status\n",
       "0        5001711          0      X\n",
       "1        5001711         -1      0\n",
       "2        5001711         -2      0\n",
       "3        5001711         -3      0\n",
       "4        5001712          0      C\n",
       "...          ...        ...    ...\n",
       "1048570  5150487        -25      C\n",
       "1048571  5150487        -26      C\n",
       "1048572  5150487        -27      C\n",
       "1048573  5150487        -28      C\n",
       "1048574  5150487        -29      C\n",
       "\n",
       "[1048575 rows x 3 columns]"
      ]
     },
     "execution_count": 7,
     "metadata": {},
     "output_type": "execute_result"
    }
   ],
   "source": [
    "credit_record"
   ]
  },
  {
   "cell_type": "code",
   "execution_count": 8,
   "id": "211c0fbd",
   "metadata": {},
   "outputs": [
    {
     "data": {
      "text/plain": [
       "(array([  0,  -1,  -2,  -3,  -4,  -5,  -6,  -7,  -8,  -9, -10, -11, -12,\n",
       "        -13, -14, -15, -16, -17, -18, -19, -20, -21, -22, -23, -24, -25,\n",
       "        -26, -27, -28, -29, -30, -31, -32, -33, -34, -35, -36, -37, -38,\n",
       "        -39, -40, -41, -42, -43, -44, -45, -46, -47, -48, -49, -50, -51,\n",
       "        -52, -53, -54, -55, -56, -57, -58, -59, -60], dtype=int64),\n",
       " array(['X', '0', 'C', '1', '2', '3', '4', '5'], dtype=object))"
      ]
     },
     "execution_count": 8,
     "metadata": {},
     "output_type": "execute_result"
    }
   ],
   "source": [
    "credit_record[\"month_bal\"].unique(),credit_record[\"status\"].unique()"
   ]
  },
  {
   "cell_type": "markdown",
   "id": "85f422e0",
   "metadata": {},
   "source": [
    "We could classify '0', 'C', 'X' as good and '1-5' as bad.\n",
    "We assign C as 0 and X as -1 and map the numerical values using f(x) = x+1.\n",
    "We can take a mean of the records and treat x<1 as good and x>=1 as bad where x is the mean of each id.\n",
    "This would be our baseline labeling of the data"
   ]
  },
  {
   "cell_type": "code",
   "execution_count": 9,
   "id": "e849f34d",
   "metadata": {},
   "outputs": [],
   "source": [
    "d={'C':0,'X':-1}\n",
    "for i in range(6):\n",
    "    d[str(i)]=i+1"
   ]
  },
  {
   "cell_type": "code",
   "execution_count": 10,
   "id": "9b6a2c4f",
   "metadata": {},
   "outputs": [],
   "source": [
    "credit_record[\"num_status\"]=credit_record[\"status\"].apply(lambda x:d[x]) "
   ]
  },
  {
   "cell_type": "code",
   "execution_count": 11,
   "id": "7cf86eb4",
   "metadata": {},
   "outputs": [],
   "source": [
    "labels_df=credit_record.groupby(['id'], as_index=False).mean()"
   ]
  },
  {
   "cell_type": "code",
   "execution_count": 12,
   "id": "98fea8df",
   "metadata": {},
   "outputs": [],
   "source": [
    "labels_df[\"good\"]=labels_df[\"num_status\"]<1"
   ]
  },
  {
   "cell_type": "code",
   "execution_count": 13,
   "id": "15e80d7d",
   "metadata": {},
   "outputs": [],
   "source": [
    "labels_df=labels_df.drop(labels=[\"month_bal\",\"num_status\"],axis=1)"
   ]
  },
  {
   "cell_type": "markdown",
   "id": "4c62fd7e",
   "metadata": {},
   "source": [
    "# To Do\n",
    "There are some ids not in the application data"
   ]
  },
  {
   "cell_type": "code",
   "execution_count": 14,
   "id": "5226920d",
   "metadata": {},
   "outputs": [],
   "source": [
    "from sklearn.preprocessing import StandardScaler\n",
    "from sklearn.linear_model import LogisticRegression\n",
    "from sklearn.model_selection import GridSearchCV, cross_validate, KFold, cross_val_score"
   ]
  },
  {
   "cell_type": "markdown",
   "id": "34e478f1",
   "metadata": {},
   "source": [
    "Data preprocessing "
   ]
  },
  {
   "cell_type": "code",
   "execution_count": 16,
   "id": "eb1e2dcd",
   "metadata": {},
   "outputs": [],
   "source": [
    "cat_features = df.columns[df.dtypes == 'object'].to_list()\n",
    "num_features = df.columns[df.dtypes != 'object'].to_list()\n",
    "num_features.remove('id')"
   ]
  },
  {
   "cell_type": "code",
   "execution_count": 17,
   "id": "aa8566e2",
   "metadata": {},
   "outputs": [],
   "source": [
    "df1 = df.drop(['id'], axis=1).copy()"
   ]
  }
 ],
 "metadata": {
  "kernelspec": {
   "display_name": "Python 3 (ipykernel)",
   "language": "python",
   "name": "python3"
  },
  "language_info": {
   "codemirror_mode": {
    "name": "ipython",
    "version": 3
   },
   "file_extension": ".py",
   "mimetype": "text/x-python",
   "name": "python",
   "nbconvert_exporter": "python",
   "pygments_lexer": "ipython3",
   "version": "3.9.7"
  }
 },
 "nbformat": 4,
 "nbformat_minor": 5
}
